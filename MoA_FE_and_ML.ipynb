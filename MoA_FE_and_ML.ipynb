{
 "cells": [
  {
   "cell_type": "code",
   "execution_count": 1,
   "metadata": {
    "_cell_guid": "b1076dfc-b9ad-4769-8c92-a6c4dae69d19",
    "_uuid": "8f2839f25d086af736a60e9eeb907d3b93b6e0e5",
    "execution": {
     "iopub.execute_input": "2020-10-26T03:38:30.547316Z",
     "iopub.status.busy": "2020-10-26T03:38:30.546446Z",
     "iopub.status.idle": "2020-10-26T03:38:30.565387Z",
     "shell.execute_reply": "2020-10-26T03:38:30.564827Z"
    },
    "papermill": {
     "duration": 0.05681,
     "end_time": "2020-10-26T03:38:30.565499",
     "exception": false,
     "start_time": "2020-10-26T03:38:30.508689",
     "status": "completed"
    },
    "tags": []
   },
   "outputs": [
    {
     "name": "stdout",
     "output_type": "stream",
     "text": [
      "/kaggle/input/lish-moa/test_features.csv\n",
      "/kaggle/input/lish-moa/sample_submission.csv\n",
      "/kaggle/input/lish-moa/train_features.csv\n",
      "/kaggle/input/lish-moa/train_targets_scored.csv\n",
      "/kaggle/input/lish-moa/train_targets_nonscored.csv\n",
      "/kaggle/input/pytorchtabnet/pytorch_tabnet-2.0.0-py3-none-any.whl\n",
      "/kaggle/input/pytorchtabnet/pytorch_tabnet-1.2.0-py3-none-any.whl\n",
      "/kaggle/input/pytorchtabnet/pytorch_tabnet-2.0.1-py3-none-any.whl\n",
      "/kaggle/input/iterative-stratification/iterative-stratification-master/LICENSE\n",
      "/kaggle/input/iterative-stratification/iterative-stratification-master/README.md\n",
      "/kaggle/input/iterative-stratification/iterative-stratification-master/setup.py\n",
      "/kaggle/input/iterative-stratification/iterative-stratification-master/setup.cfg\n",
      "/kaggle/input/iterative-stratification/iterative-stratification-master/.gitignore\n",
      "/kaggle/input/iterative-stratification/iterative-stratification-master/.travis.yml\n",
      "/kaggle/input/iterative-stratification/iterative-stratification-master/iterstrat/ml_stratifiers.py\n",
      "/kaggle/input/iterative-stratification/iterative-stratification-master/iterstrat/__init__.py\n",
      "/kaggle/input/iterative-stratification/iterative-stratification-master/tests/test_ml_stratifiers.py\n",
      "/kaggle/input/iterative-stratification/iterative-stratification-master/tests/__init__.py\n"
     ]
    }
   ],
   "source": [
    "# This Python 3 environment comes with many helpful analytics libraries installed\n",
    "# It is defined by the kaggle/python Docker image: https://github.com/kaggle/docker-python\n",
    "# For example, here's several helpful packages to load\n",
    "\n",
    "import numpy as np # linear algebra\n",
    "import pandas as pd # data processing, CSV file I/O (e.g. pd.read_csv)\n",
    "\n",
    "# Input data files are available in the read-only \"../input/\" directory\n",
    "# For example, running this (by clicking run or pressing Shift+Enter) will list all files under the input directory\n",
    "\n",
    "import os\n",
    "for dirname, _, filenames in os.walk('/kaggle/input'):\n",
    "    for filename in filenames:\n",
    "        print(os.path.join(dirname, filename))\n",
    "\n",
    "# You can write up to 5GB to the current directory (/kaggle/working/) that gets preserved as output when you create a version using \"Save & Run All\" \n",
    "# You can also write temporary files to /kaggle/temp/, but they won't be saved outside of the current session"
   ]
  },
  {
   "cell_type": "code",
   "execution_count": 2,
   "metadata": {
    "_cell_guid": "79c7e3d0-c299-4dcb-8224-4455121ee9b0",
    "_uuid": "d629ff2d2480ee46fbb7e2d37f6b5fab8052498a",
    "execution": {
     "iopub.execute_input": "2020-10-26T03:38:30.637566Z",
     "iopub.status.busy": "2020-10-26T03:38:30.636885Z",
     "iopub.status.idle": "2020-10-26T03:38:38.480397Z",
     "shell.execute_reply": "2020-10-26T03:38:38.479805Z"
    },
    "papermill": {
     "duration": 7.882202,
     "end_time": "2020-10-26T03:38:38.480520",
     "exception": false,
     "start_time": "2020-10-26T03:38:30.598318",
     "status": "completed"
    },
    "tags": []
   },
   "outputs": [
    {
     "data": {
      "text/html": [
       "<div>\n",
       "<style scoped>\n",
       "    .dataframe tbody tr th:only-of-type {\n",
       "        vertical-align: middle;\n",
       "    }\n",
       "\n",
       "    .dataframe tbody tr th {\n",
       "        vertical-align: top;\n",
       "    }\n",
       "\n",
       "    .dataframe thead th {\n",
       "        text-align: right;\n",
       "    }\n",
       "</style>\n",
       "<table border=\"1\" class=\"dataframe\">\n",
       "  <thead>\n",
       "    <tr style=\"text-align: right;\">\n",
       "      <th></th>\n",
       "      <th>cp_type</th>\n",
       "      <th>cp_time</th>\n",
       "      <th>cp_dose</th>\n",
       "      <th>g-0</th>\n",
       "      <th>g-1</th>\n",
       "      <th>g-2</th>\n",
       "      <th>g-3</th>\n",
       "      <th>g-4</th>\n",
       "      <th>g-5</th>\n",
       "      <th>g-6</th>\n",
       "      <th>...</th>\n",
       "      <th>c-90</th>\n",
       "      <th>c-91</th>\n",
       "      <th>c-92</th>\n",
       "      <th>c-93</th>\n",
       "      <th>c-94</th>\n",
       "      <th>c-95</th>\n",
       "      <th>c-96</th>\n",
       "      <th>c-97</th>\n",
       "      <th>c-98</th>\n",
       "      <th>c-99</th>\n",
       "    </tr>\n",
       "    <tr>\n",
       "      <th>sig_id</th>\n",
       "      <th></th>\n",
       "      <th></th>\n",
       "      <th></th>\n",
       "      <th></th>\n",
       "      <th></th>\n",
       "      <th></th>\n",
       "      <th></th>\n",
       "      <th></th>\n",
       "      <th></th>\n",
       "      <th></th>\n",
       "      <th></th>\n",
       "      <th></th>\n",
       "      <th></th>\n",
       "      <th></th>\n",
       "      <th></th>\n",
       "      <th></th>\n",
       "      <th></th>\n",
       "      <th></th>\n",
       "      <th></th>\n",
       "      <th></th>\n",
       "      <th></th>\n",
       "    </tr>\n",
       "  </thead>\n",
       "  <tbody>\n",
       "    <tr>\n",
       "      <th>id_000644bb2</th>\n",
       "      <td>trt_cp</td>\n",
       "      <td>24</td>\n",
       "      <td>D1</td>\n",
       "      <td>1.0620</td>\n",
       "      <td>0.5577</td>\n",
       "      <td>-0.2479</td>\n",
       "      <td>-0.6208</td>\n",
       "      <td>-0.1944</td>\n",
       "      <td>-1.0120</td>\n",
       "      <td>-1.0220</td>\n",
       "      <td>...</td>\n",
       "      <td>0.2862</td>\n",
       "      <td>0.2584</td>\n",
       "      <td>0.8076</td>\n",
       "      <td>0.5523</td>\n",
       "      <td>-0.1912</td>\n",
       "      <td>0.6584</td>\n",
       "      <td>-0.3981</td>\n",
       "      <td>0.2139</td>\n",
       "      <td>0.3801</td>\n",
       "      <td>0.4176</td>\n",
       "    </tr>\n",
       "    <tr>\n",
       "      <th>id_000779bfc</th>\n",
       "      <td>trt_cp</td>\n",
       "      <td>72</td>\n",
       "      <td>D1</td>\n",
       "      <td>0.0743</td>\n",
       "      <td>0.4087</td>\n",
       "      <td>0.2991</td>\n",
       "      <td>0.0604</td>\n",
       "      <td>1.0190</td>\n",
       "      <td>0.5207</td>\n",
       "      <td>0.2341</td>\n",
       "      <td>...</td>\n",
       "      <td>-0.4265</td>\n",
       "      <td>0.7543</td>\n",
       "      <td>0.4708</td>\n",
       "      <td>0.0230</td>\n",
       "      <td>0.2957</td>\n",
       "      <td>0.4899</td>\n",
       "      <td>0.1522</td>\n",
       "      <td>0.1241</td>\n",
       "      <td>0.6077</td>\n",
       "      <td>0.7371</td>\n",
       "    </tr>\n",
       "    <tr>\n",
       "      <th>id_000a6266a</th>\n",
       "      <td>trt_cp</td>\n",
       "      <td>48</td>\n",
       "      <td>D1</td>\n",
       "      <td>0.6280</td>\n",
       "      <td>0.5817</td>\n",
       "      <td>1.5540</td>\n",
       "      <td>-0.0764</td>\n",
       "      <td>-0.0323</td>\n",
       "      <td>1.2390</td>\n",
       "      <td>0.1715</td>\n",
       "      <td>...</td>\n",
       "      <td>-0.7250</td>\n",
       "      <td>-0.6297</td>\n",
       "      <td>0.6103</td>\n",
       "      <td>0.0223</td>\n",
       "      <td>-1.3240</td>\n",
       "      <td>-0.3174</td>\n",
       "      <td>-0.6417</td>\n",
       "      <td>-0.2187</td>\n",
       "      <td>-1.4080</td>\n",
       "      <td>0.6931</td>\n",
       "    </tr>\n",
       "    <tr>\n",
       "      <th>id_0015fd391</th>\n",
       "      <td>trt_cp</td>\n",
       "      <td>48</td>\n",
       "      <td>D1</td>\n",
       "      <td>-0.5138</td>\n",
       "      <td>-0.2491</td>\n",
       "      <td>-0.2656</td>\n",
       "      <td>0.5288</td>\n",
       "      <td>4.0620</td>\n",
       "      <td>-0.8095</td>\n",
       "      <td>-1.9590</td>\n",
       "      <td>...</td>\n",
       "      <td>-2.0990</td>\n",
       "      <td>-0.6441</td>\n",
       "      <td>-5.6300</td>\n",
       "      <td>-1.3780</td>\n",
       "      <td>-0.8632</td>\n",
       "      <td>-1.2880</td>\n",
       "      <td>-1.6210</td>\n",
       "      <td>-0.8784</td>\n",
       "      <td>-0.3876</td>\n",
       "      <td>-0.8154</td>\n",
       "    </tr>\n",
       "    <tr>\n",
       "      <th>id_001626bd3</th>\n",
       "      <td>trt_cp</td>\n",
       "      <td>72</td>\n",
       "      <td>D2</td>\n",
       "      <td>-0.3254</td>\n",
       "      <td>-0.4009</td>\n",
       "      <td>0.9700</td>\n",
       "      <td>0.6919</td>\n",
       "      <td>1.4180</td>\n",
       "      <td>-0.8244</td>\n",
       "      <td>-0.2800</td>\n",
       "      <td>...</td>\n",
       "      <td>0.0042</td>\n",
       "      <td>0.0048</td>\n",
       "      <td>0.6670</td>\n",
       "      <td>1.0690</td>\n",
       "      <td>0.5523</td>\n",
       "      <td>-0.3031</td>\n",
       "      <td>0.1094</td>\n",
       "      <td>0.2885</td>\n",
       "      <td>-0.3786</td>\n",
       "      <td>0.7125</td>\n",
       "    </tr>\n",
       "    <tr>\n",
       "      <th>...</th>\n",
       "      <td>...</td>\n",
       "      <td>...</td>\n",
       "      <td>...</td>\n",
       "      <td>...</td>\n",
       "      <td>...</td>\n",
       "      <td>...</td>\n",
       "      <td>...</td>\n",
       "      <td>...</td>\n",
       "      <td>...</td>\n",
       "      <td>...</td>\n",
       "      <td>...</td>\n",
       "      <td>...</td>\n",
       "      <td>...</td>\n",
       "      <td>...</td>\n",
       "      <td>...</td>\n",
       "      <td>...</td>\n",
       "      <td>...</td>\n",
       "      <td>...</td>\n",
       "      <td>...</td>\n",
       "      <td>...</td>\n",
       "      <td>...</td>\n",
       "    </tr>\n",
       "    <tr>\n",
       "      <th>id_fffb1ceed</th>\n",
       "      <td>trt_cp</td>\n",
       "      <td>24</td>\n",
       "      <td>D2</td>\n",
       "      <td>0.1394</td>\n",
       "      <td>-0.0636</td>\n",
       "      <td>-0.1112</td>\n",
       "      <td>-0.5080</td>\n",
       "      <td>-0.4713</td>\n",
       "      <td>0.7201</td>\n",
       "      <td>0.5773</td>\n",
       "      <td>...</td>\n",
       "      <td>0.1969</td>\n",
       "      <td>0.0262</td>\n",
       "      <td>-0.8121</td>\n",
       "      <td>0.3434</td>\n",
       "      <td>0.5372</td>\n",
       "      <td>-0.3246</td>\n",
       "      <td>0.0631</td>\n",
       "      <td>0.9171</td>\n",
       "      <td>0.5258</td>\n",
       "      <td>0.4680</td>\n",
       "    </tr>\n",
       "    <tr>\n",
       "      <th>id_fffb70c0c</th>\n",
       "      <td>trt_cp</td>\n",
       "      <td>24</td>\n",
       "      <td>D2</td>\n",
       "      <td>-1.3260</td>\n",
       "      <td>0.3478</td>\n",
       "      <td>-0.3743</td>\n",
       "      <td>0.9905</td>\n",
       "      <td>-0.7178</td>\n",
       "      <td>0.6621</td>\n",
       "      <td>-0.2252</td>\n",
       "      <td>...</td>\n",
       "      <td>0.4286</td>\n",
       "      <td>0.4426</td>\n",
       "      <td>0.0423</td>\n",
       "      <td>-0.3195</td>\n",
       "      <td>-0.8086</td>\n",
       "      <td>-0.9798</td>\n",
       "      <td>-0.2084</td>\n",
       "      <td>-0.1224</td>\n",
       "      <td>-0.2715</td>\n",
       "      <td>0.3689</td>\n",
       "    </tr>\n",
       "    <tr>\n",
       "      <th>id_fffc1c3f4</th>\n",
       "      <td>ctl_vehicle</td>\n",
       "      <td>48</td>\n",
       "      <td>D2</td>\n",
       "      <td>0.3942</td>\n",
       "      <td>0.3756</td>\n",
       "      <td>0.3109</td>\n",
       "      <td>-0.7389</td>\n",
       "      <td>0.5505</td>\n",
       "      <td>-0.0159</td>\n",
       "      <td>-0.2541</td>\n",
       "      <td>...</td>\n",
       "      <td>0.5409</td>\n",
       "      <td>0.3755</td>\n",
       "      <td>0.7343</td>\n",
       "      <td>0.2807</td>\n",
       "      <td>0.4116</td>\n",
       "      <td>0.6422</td>\n",
       "      <td>0.2256</td>\n",
       "      <td>0.7592</td>\n",
       "      <td>0.6656</td>\n",
       "      <td>0.3808</td>\n",
       "    </tr>\n",
       "    <tr>\n",
       "      <th>id_fffcb9e7c</th>\n",
       "      <td>trt_cp</td>\n",
       "      <td>24</td>\n",
       "      <td>D1</td>\n",
       "      <td>0.6660</td>\n",
       "      <td>0.2324</td>\n",
       "      <td>0.4392</td>\n",
       "      <td>0.2044</td>\n",
       "      <td>0.8531</td>\n",
       "      <td>-0.0343</td>\n",
       "      <td>0.0323</td>\n",
       "      <td>...</td>\n",
       "      <td>-0.1105</td>\n",
       "      <td>0.4258</td>\n",
       "      <td>-0.2012</td>\n",
       "      <td>0.1506</td>\n",
       "      <td>1.5230</td>\n",
       "      <td>0.7101</td>\n",
       "      <td>0.1732</td>\n",
       "      <td>0.7015</td>\n",
       "      <td>-0.6290</td>\n",
       "      <td>0.0740</td>\n",
       "    </tr>\n",
       "    <tr>\n",
       "      <th>id_ffffdd77b</th>\n",
       "      <td>trt_cp</td>\n",
       "      <td>72</td>\n",
       "      <td>D1</td>\n",
       "      <td>-0.8598</td>\n",
       "      <td>1.0240</td>\n",
       "      <td>-0.1361</td>\n",
       "      <td>0.7952</td>\n",
       "      <td>-0.3611</td>\n",
       "      <td>-3.6750</td>\n",
       "      <td>-1.2420</td>\n",
       "      <td>...</td>\n",
       "      <td>-3.3890</td>\n",
       "      <td>-1.7450</td>\n",
       "      <td>-6.6300</td>\n",
       "      <td>-4.0950</td>\n",
       "      <td>-7.3860</td>\n",
       "      <td>-1.4160</td>\n",
       "      <td>-3.5770</td>\n",
       "      <td>-0.4775</td>\n",
       "      <td>-2.1500</td>\n",
       "      <td>-4.2520</td>\n",
       "    </tr>\n",
       "  </tbody>\n",
       "</table>\n",
       "<p>23814 rows × 875 columns</p>\n",
       "</div>"
      ],
      "text/plain": [
       "                  cp_type  cp_time cp_dose     g-0     g-1     g-2     g-3  \\\n",
       "sig_id                                                                       \n",
       "id_000644bb2       trt_cp       24      D1  1.0620  0.5577 -0.2479 -0.6208   \n",
       "id_000779bfc       trt_cp       72      D1  0.0743  0.4087  0.2991  0.0604   \n",
       "id_000a6266a       trt_cp       48      D1  0.6280  0.5817  1.5540 -0.0764   \n",
       "id_0015fd391       trt_cp       48      D1 -0.5138 -0.2491 -0.2656  0.5288   \n",
       "id_001626bd3       trt_cp       72      D2 -0.3254 -0.4009  0.9700  0.6919   \n",
       "...                   ...      ...     ...     ...     ...     ...     ...   \n",
       "id_fffb1ceed       trt_cp       24      D2  0.1394 -0.0636 -0.1112 -0.5080   \n",
       "id_fffb70c0c       trt_cp       24      D2 -1.3260  0.3478 -0.3743  0.9905   \n",
       "id_fffc1c3f4  ctl_vehicle       48      D2  0.3942  0.3756  0.3109 -0.7389   \n",
       "id_fffcb9e7c       trt_cp       24      D1  0.6660  0.2324  0.4392  0.2044   \n",
       "id_ffffdd77b       trt_cp       72      D1 -0.8598  1.0240 -0.1361  0.7952   \n",
       "\n",
       "                 g-4     g-5     g-6  ...    c-90    c-91    c-92    c-93  \\\n",
       "sig_id                                ...                                   \n",
       "id_000644bb2 -0.1944 -1.0120 -1.0220  ...  0.2862  0.2584  0.8076  0.5523   \n",
       "id_000779bfc  1.0190  0.5207  0.2341  ... -0.4265  0.7543  0.4708  0.0230   \n",
       "id_000a6266a -0.0323  1.2390  0.1715  ... -0.7250 -0.6297  0.6103  0.0223   \n",
       "id_0015fd391  4.0620 -0.8095 -1.9590  ... -2.0990 -0.6441 -5.6300 -1.3780   \n",
       "id_001626bd3  1.4180 -0.8244 -0.2800  ...  0.0042  0.0048  0.6670  1.0690   \n",
       "...              ...     ...     ...  ...     ...     ...     ...     ...   \n",
       "id_fffb1ceed -0.4713  0.7201  0.5773  ...  0.1969  0.0262 -0.8121  0.3434   \n",
       "id_fffb70c0c -0.7178  0.6621 -0.2252  ...  0.4286  0.4426  0.0423 -0.3195   \n",
       "id_fffc1c3f4  0.5505 -0.0159 -0.2541  ...  0.5409  0.3755  0.7343  0.2807   \n",
       "id_fffcb9e7c  0.8531 -0.0343  0.0323  ... -0.1105  0.4258 -0.2012  0.1506   \n",
       "id_ffffdd77b -0.3611 -3.6750 -1.2420  ... -3.3890 -1.7450 -6.6300 -4.0950   \n",
       "\n",
       "                c-94    c-95    c-96    c-97    c-98    c-99  \n",
       "sig_id                                                        \n",
       "id_000644bb2 -0.1912  0.6584 -0.3981  0.2139  0.3801  0.4176  \n",
       "id_000779bfc  0.2957  0.4899  0.1522  0.1241  0.6077  0.7371  \n",
       "id_000a6266a -1.3240 -0.3174 -0.6417 -0.2187 -1.4080  0.6931  \n",
       "id_0015fd391 -0.8632 -1.2880 -1.6210 -0.8784 -0.3876 -0.8154  \n",
       "id_001626bd3  0.5523 -0.3031  0.1094  0.2885 -0.3786  0.7125  \n",
       "...              ...     ...     ...     ...     ...     ...  \n",
       "id_fffb1ceed  0.5372 -0.3246  0.0631  0.9171  0.5258  0.4680  \n",
       "id_fffb70c0c -0.8086 -0.9798 -0.2084 -0.1224 -0.2715  0.3689  \n",
       "id_fffc1c3f4  0.4116  0.6422  0.2256  0.7592  0.6656  0.3808  \n",
       "id_fffcb9e7c  1.5230  0.7101  0.1732  0.7015 -0.6290  0.0740  \n",
       "id_ffffdd77b -7.3860 -1.4160 -3.5770 -0.4775 -2.1500 -4.2520  \n",
       "\n",
       "[23814 rows x 875 columns]"
      ]
     },
     "execution_count": 2,
     "metadata": {},
     "output_type": "execute_result"
    }
   ],
   "source": [
    "df_features = pd.read_csv('/kaggle/input/lish-moa/train_features.csv',index_col='sig_id')\n",
    "df_test_features = pd.read_csv('/kaggle/input/lish-moa/test_features.csv',index_col='sig_id')\n",
    "df_sample_submission = pd.read_csv('/kaggle/input/lish-moa/sample_submission.csv', index_col='sig_id')\n",
    "df_targets = pd.read_csv('/kaggle/input/lish-moa/train_targets_scored.csv',index_col='sig_id')\n",
    "df_targets_nonscored = pd.read_csv('/kaggle/input/lish-moa/train_targets_nonscored.csv',index_col='sig_id')\n",
    "df = pd.concat([df_features, df_targets], axis=1)\n",
    "df_features"
   ]
  },
  {
   "cell_type": "code",
   "execution_count": 3,
   "metadata": {
    "execution": {
     "iopub.execute_input": "2020-10-26T03:38:38.625483Z",
     "iopub.status.busy": "2020-10-26T03:38:38.607569Z",
     "iopub.status.idle": "2020-10-26T03:38:38.628040Z",
     "shell.execute_reply": "2020-10-26T03:38:38.628590Z"
    },
    "papermill": {
     "duration": 0.11039,
     "end_time": "2020-10-26T03:38:38.628733",
     "exception": false,
     "start_time": "2020-10-26T03:38:38.518343",
     "status": "completed"
    },
    "tags": []
   },
   "outputs": [],
   "source": [
    "def change_df(df):\n",
    "    df['cp_type'] = df['cp_type'].apply(lambda x: 1 if x == \"ctl_vehicle\" else 0)\n",
    "    df['cp_dose'] = df['cp_dose'].apply(lambda x: 1 if x == \"D2\" else 0)\n",
    "    df['cp_time'] = df['cp_time'].apply(lambda x: (x - 24)/48)\n",
    "    return df\n",
    "df_features = change_df(df_features)\n",
    "df_test_features = change_df(df_test_features)"
   ]
  },
  {
   "cell_type": "code",
   "execution_count": 4,
   "metadata": {
    "execution": {
     "iopub.execute_input": "2020-10-26T03:38:38.705696Z",
     "iopub.status.busy": "2020-10-26T03:38:38.704878Z",
     "iopub.status.idle": "2020-10-26T03:38:38.945387Z",
     "shell.execute_reply": "2020-10-26T03:38:38.944146Z"
    },
    "papermill": {
     "duration": 0.280758,
     "end_time": "2020-10-26T03:38:38.945521",
     "exception": false,
     "start_time": "2020-10-26T03:38:38.664763",
     "status": "completed"
    },
    "tags": []
   },
   "outputs": [],
   "source": [
    "df_targets = df_targets[df_features['cp_type'] == 0]\n",
    "df_targets_nonscored = df_targets_nonscored[df_features['cp_type'] == 0]\n",
    "df_features = df_features[df_features['cp_type'] == 0]"
   ]
  },
  {
   "cell_type": "code",
   "execution_count": 5,
   "metadata": {
    "execution": {
     "iopub.execute_input": "2020-10-26T03:38:39.018294Z",
     "iopub.status.busy": "2020-10-26T03:38:39.017436Z",
     "iopub.status.idle": "2020-10-26T03:38:48.094550Z",
     "shell.execute_reply": "2020-10-26T03:38:48.093975Z"
    },
    "papermill": {
     "duration": 9.116173,
     "end_time": "2020-10-26T03:38:48.094672",
     "exception": false,
     "start_time": "2020-10-26T03:38:38.978499",
     "status": "completed"
    },
    "tags": []
   },
   "outputs": [
    {
     "name": "stdout",
     "output_type": "stream",
     "text": [
      "Looking in links: /kaggle/input/pytorchtabnet/pytorch_tabnet-2.0.1-py3-none-any.whl\r\n",
      "Processing /kaggle/input/pytorchtabnet/pytorch_tabnet-2.0.1-py3-none-any.whl\r\n",
      "Requirement already satisfied: tqdm<5.0,>=4.36 in /opt/conda/lib/python3.7/site-packages (from pytorch-tabnet) (4.45.0)\r\n",
      "Requirement already satisfied: torch<2.0,>=1.2 in /opt/conda/lib/python3.7/site-packages (from pytorch-tabnet) (1.6.0)\r\n",
      "Requirement already satisfied: scipy>1.4 in /opt/conda/lib/python3.7/site-packages (from pytorch-tabnet) (1.4.1)\r\n",
      "Requirement already satisfied: scikit_learn>0.21 in /opt/conda/lib/python3.7/site-packages (from pytorch-tabnet) (0.23.2)\r\n",
      "Requirement already satisfied: numpy<2.0,>=1.17 in /opt/conda/lib/python3.7/site-packages (from pytorch-tabnet) (1.18.5)\r\n",
      "Requirement already satisfied: future in /opt/conda/lib/python3.7/site-packages (from torch<2.0,>=1.2->pytorch-tabnet) (0.18.2)\r\n",
      "Requirement already satisfied: joblib>=0.11 in /opt/conda/lib/python3.7/site-packages (from scikit_learn>0.21->pytorch-tabnet) (0.14.1)\r\n",
      "Requirement already satisfied: threadpoolctl>=2.0.0 in /opt/conda/lib/python3.7/site-packages (from scikit_learn>0.21->pytorch-tabnet) (2.1.0)\r\n",
      "Installing collected packages: pytorch-tabnet\r\n",
      "Successfully installed pytorch-tabnet-2.0.1\r\n"
     ]
    }
   ],
   "source": [
    "!pip install --no-index --find-links /kaggle/input/pytorchtabnet/pytorch_tabnet-2.0.1-py3-none-any.whl pytorch-tabnet"
   ]
  },
  {
   "cell_type": "code",
   "execution_count": 6,
   "metadata": {
    "execution": {
     "iopub.execute_input": "2020-10-26T03:38:48.173349Z",
     "iopub.status.busy": "2020-10-26T03:38:48.172422Z",
     "iopub.status.idle": "2020-10-26T03:38:56.651764Z",
     "shell.execute_reply": "2020-10-26T03:38:56.652710Z"
    },
    "papermill": {
     "duration": 8.522309,
     "end_time": "2020-10-26T03:38:56.652913",
     "exception": false,
     "start_time": "2020-10-26T03:38:48.130604",
     "status": "completed"
    },
    "tags": []
   },
   "outputs": [],
   "source": [
    "import sys\n",
    "sys.path.append('../input/iterative-stratification/iterative-stratification-master')\n",
    "from iterstrat.ml_stratifiers import MultilabelStratifiedKFold\n",
    "from pytorch_tabnet.tab_model import TabNetRegressor\n",
    "from tqdm import *\n",
    "from tqdm.keras import TqdmCallback\n",
    "from imblearn.over_sampling import *"
   ]
  },
  {
   "cell_type": "code",
   "execution_count": 7,
   "metadata": {
    "execution": {
     "iopub.execute_input": "2020-10-26T03:38:56.761292Z",
     "iopub.status.busy": "2020-10-26T03:38:56.760311Z",
     "iopub.status.idle": "2020-10-26T03:38:56.782334Z",
     "shell.execute_reply": "2020-10-26T03:38:56.780957Z"
    },
    "papermill": {
     "duration": 0.078562,
     "end_time": "2020-10-26T03:38:56.782491",
     "exception": false,
     "start_time": "2020-10-26T03:38:56.703929",
     "status": "completed"
    },
    "tags": []
   },
   "outputs": [],
   "source": [
    "from sklearn.feature_selection import *\n",
    "from sklearn.model_selection import *\n",
    "from sklearn.preprocessing import *\n",
    "from sklearn.decomposition import *\n",
    "from sklearn.ensemble import *\n",
    "from sklearn.metrics import *"
   ]
  },
  {
   "cell_type": "code",
   "execution_count": 8,
   "metadata": {
    "execution": {
     "iopub.execute_input": "2020-10-26T03:38:56.900008Z",
     "iopub.status.busy": "2020-10-26T03:38:56.899156Z",
     "iopub.status.idle": "2020-10-26T03:38:56.982219Z",
     "shell.execute_reply": "2020-10-26T03:38:56.983337Z"
    },
    "papermill": {
     "duration": 0.146534,
     "end_time": "2020-10-26T03:38:56.983535",
     "exception": false,
     "start_time": "2020-10-26T03:38:56.837001",
     "status": "completed"
    },
    "tags": []
   },
   "outputs": [],
   "source": [
    "X = df_features.values\n",
    "y = df_targets.values\n",
    "y_nonscored = df_targets_nonscored.values\n",
    "X_test = df_test_features.values"
   ]
  },
  {
   "cell_type": "code",
   "execution_count": 9,
   "metadata": {
    "execution": {
     "iopub.execute_input": "2020-10-26T03:38:57.131531Z",
     "iopub.status.busy": "2020-10-26T03:38:57.130711Z",
     "iopub.status.idle": "2020-10-26T03:38:57.134583Z",
     "shell.execute_reply": "2020-10-26T03:38:57.135596Z"
    },
    "papermill": {
     "duration": 0.08928,
     "end_time": "2020-10-26T03:38:57.135753",
     "exception": false,
     "start_time": "2020-10-26T03:38:57.046473",
     "status": "completed"
    },
    "tags": []
   },
   "outputs": [],
   "source": [
    "from scipy import stats\n",
    "def kstats(X, n):\n",
    "    return [stats.kstat(x) for x in X]\n",
    "def kstatvars(X, n):\n",
    "    return [stats.kstatvar(x) for x in X]\n",
    "def get_stats(X):\n",
    "    X_stats_1 = stats.describe(X, axis=1)\n",
    "    X_quantiles = (np.quantile(X, 0.1, axis=1), np.quantile(X, 0.9, axis=1), np.quantile(X, 0.05, axis=1), np.quantile(X, 0.95, axis=1), np.quantile(X, 0.13, axis=1), np.quantile(X, 0.87, axis=1), np.quantile(X, 0.25, axis=1), np.quantile(X, 0.75, axis=1))\n",
    "    X_kstats = (kstats(X, 1), kstats(X, 2), kstats(X, 3), kstats(X, 4))\n",
    "    X_kstatvars = (kstatvars(X, 1), kstatvars(X, 2), kstatvars(X, 3), kstatvars(X, 4))\n",
    "    X_moments = (stats.moment(X, moment=2, axis=1), stats.moment(X, moment=3, axis=1), stats.moment(X, moment=4, axis=1))\n",
    "    return (X_stats_1.mean, X_stats_1.variance, X_stats_1.skewness, X_stats_1.kurtosis, X_stats_1.minmax[0], X_stats_1.minmax[1], np.median(X, axis=1), np.sum(X, axis=1), stats.median_absolute_deviation(X, axis=1), stats.variation(X, axis=1)) + X_quantiles + X_kstats + X_kstatvars + X_moments\n",
    "def get_all_stats(X):\n",
    "    return get_stats(X[:, 3:-100]) + get_stats(X[:, -100:]) + get_stats(X[:, 3:])"
   ]
  },
  {
   "cell_type": "code",
   "execution_count": 10,
   "metadata": {
    "execution": {
     "iopub.execute_input": "2020-10-26T03:38:57.239304Z",
     "iopub.status.busy": "2020-10-26T03:38:57.238501Z",
     "iopub.status.idle": "2020-10-26T03:42:36.788608Z",
     "shell.execute_reply": "2020-10-26T03:42:36.789836Z"
    },
    "papermill": {
     "duration": 219.60749,
     "end_time": "2020-10-26T03:42:36.790049",
     "exception": false,
     "start_time": "2020-10-26T03:38:57.182559",
     "status": "completed"
    },
    "tags": []
   },
   "outputs": [],
   "source": [
    "statsselector = VarianceThreshold(threshold=0.1)\n",
    "statsscaler = MinMaxScaler()\n",
    "\n",
    "X_stats = np.vstack(get_all_stats(X) + get_all_stats(np.abs(X))).T\n",
    "#X_stats = statsselector.fit_transform(X_stats)\n",
    "#X_stats = statsscaler.fit_transform(X_stats)\n",
    "\n",
    "X_test_stats = np.vstack(get_all_stats(X_test) + get_all_stats(np.abs(X_test))).T\n",
    "#X_test_stats = statsselector.transform(X_test_stats)\n",
    "#X_test_stats = statsscaler.transform(X_test_stats)"
   ]
  },
  {
   "cell_type": "code",
   "execution_count": 11,
   "metadata": {
    "execution": {
     "iopub.execute_input": "2020-10-26T03:42:36.905046Z",
     "iopub.status.busy": "2020-10-26T03:42:36.904186Z",
     "iopub.status.idle": "2020-10-26T03:42:41.456185Z",
     "shell.execute_reply": "2020-10-26T03:42:41.455580Z"
    },
    "papermill": {
     "duration": 4.615849,
     "end_time": "2020-10-26T03:42:41.456344",
     "exception": false,
     "start_time": "2020-10-26T03:42:36.840495",
     "status": "completed"
    },
    "tags": []
   },
   "outputs": [],
   "source": [
    "pca_g = PCA(n_components=100)\n",
    "\n",
    "X_pca_g = pca_g.fit_transform(X[:, 3:-100])\n",
    "X_test_pca_g = pca_g.transform(X_test[:, 3:-100])\n",
    "\n",
    "pca_c = PCA(n_components=20)\n",
    "\n",
    "X_pca_c = pca_c.fit_transform(X[:, -100:])\n",
    "X_test_pca_c = pca_c.transform(X_test[:, -100:])\n",
    "\n",
    "\n",
    "pca_a = PCA(n_components=150)\n",
    "\n",
    "X_pca_a = pca_a.fit_transform(X[:, 3:])\n",
    "X_test_pca_a = pca_a.transform(X_test[:, 3:])\n",
    "\n",
    "pca_s = PCA(n_components=2)\n",
    "\n",
    "X_pca_s = pca_s.fit_transform(X_stats)\n",
    "X_test_pca_s = pca_s.transform(X_test_stats)"
   ]
  },
  {
   "cell_type": "code",
   "execution_count": 12,
   "metadata": {
    "execution": {
     "iopub.execute_input": "2020-10-26T03:42:41.534707Z",
     "iopub.status.busy": "2020-10-26T03:42:41.532899Z",
     "iopub.status.idle": "2020-10-26T03:42:41.535382Z",
     "shell.execute_reply": "2020-10-26T03:42:41.535865Z"
    },
    "papermill": {
     "duration": 0.041684,
     "end_time": "2020-10-26T03:42:41.535977",
     "exception": false,
     "start_time": "2020-10-26T03:42:41.494293",
     "status": "completed"
    },
    "tags": []
   },
   "outputs": [],
   "source": [
    "#selector = VarianceThreshold(threshold=0.5)\n",
    "#X = np.concatenate([X[:, 1:3], selector.fit_transform(X[:, 3:])], axis=1)\n",
    "#X_test = np.concatenate([X_test[:, 1:3], selector.transform(X_test[:, 3:])], axis=1)"
   ]
  },
  {
   "cell_type": "code",
   "execution_count": 13,
   "metadata": {
    "execution": {
     "iopub.execute_input": "2020-10-26T03:42:41.616552Z",
     "iopub.status.busy": "2020-10-26T03:42:41.615580Z",
     "iopub.status.idle": "2020-10-26T03:42:52.481066Z",
     "shell.execute_reply": "2020-10-26T03:42:52.480102Z"
    },
    "papermill": {
     "duration": 10.909316,
     "end_time": "2020-10-26T03:42:52.481237",
     "exception": false,
     "start_time": "2020-10-26T03:42:41.571921",
     "status": "completed"
    },
    "tags": []
   },
   "outputs": [
    {
     "name": "stderr",
     "output_type": "stream",
     "text": [
      "100%|██████████| 872/872 [00:10<00:00, 80.34it/s]\n"
     ]
    }
   ],
   "source": [
    "skiptransform = 3\n",
    "for i in tqdm(range(X.shape[1]-skiptransform)):\n",
    "    scaler = QuantileTransformer(output_distribution=\"normal\")\n",
    "    X[:, i+skiptransform] = scaler.fit_transform(X[:, i+skiptransform].reshape(-1, 1)).reshape(-1)\n",
    "    X_test[:, i+skiptransform] = scaler.transform(X_test[:, i+skiptransform].reshape(-1, 1)).reshape(-1)"
   ]
  },
  {
   "cell_type": "code",
   "execution_count": 14,
   "metadata": {
    "execution": {
     "iopub.execute_input": "2020-10-26T03:42:52.644828Z",
     "iopub.status.busy": "2020-10-26T03:42:52.643722Z",
     "iopub.status.idle": "2020-10-26T03:42:52.645943Z",
     "shell.execute_reply": "2020-10-26T03:42:52.646475Z"
    },
    "papermill": {
     "duration": 0.083114,
     "end_time": "2020-10-26T03:42:52.646630",
     "exception": false,
     "start_time": "2020-10-26T03:42:52.563516",
     "status": "completed"
    },
    "tags": []
   },
   "outputs": [],
   "source": [
    "def get_stats_names():\n",
    "    X_quantiles = (\"q0.1\", \"q0.9\", \"q0.05\", \"q0.95\", \"q0.13\", \"q0.87\", \"q0.25\", \"q0.75\")\n",
    "    X_kstats = (\"ks1\", \"ks2\", \"ks3\", \"ks4\")\n",
    "    X_kstatvars = (\"ksv1\", \"ksv2\", \"ksv3\", \"ksv4\")\n",
    "    X_moments = (\"moment2\", \"moment3\", \"moment4\")\n",
    "    return (\"mean\", \"variance\", \"skewness\", \"kurtosis\", \"min\", \"max\", \"median\", \"sum\", \"medianabsdev\", \"var\") + X_quantiles + X_kstats + X_kstatvars + X_moments\n",
    "def get_all_stats_names():\n",
    "    return [\"g_\" + x for x in get_stats_names()] + [\"c_\" + x for x in get_stats_names()] + [\"a_\" + x for x in get_stats_names()]\n",
    "def get_stat_names():\n",
    "    return get_all_stats_names() + [\"abs_\" + x for x in get_all_stats_names()]"
   ]
  },
  {
   "cell_type": "code",
   "execution_count": 15,
   "metadata": {
    "execution": {
     "iopub.execute_input": "2020-10-26T03:42:52.793982Z",
     "iopub.status.busy": "2020-10-26T03:42:52.793089Z",
     "iopub.status.idle": "2020-10-26T03:42:52.795725Z",
     "shell.execute_reply": "2020-10-26T03:42:52.796180Z"
    },
    "papermill": {
     "duration": 0.080347,
     "end_time": "2020-10-26T03:42:52.796322",
     "exception": false,
     "start_time": "2020-10-26T03:42:52.715975",
     "status": "completed"
    },
    "tags": []
   },
   "outputs": [],
   "source": [
    "#X.shape\n",
    "#feature_names = list(map(str,range(875))) + get_stat_names() + [\"pcag_\" + str(i) for i in range(100)] + [\"pcac_\" + str(i) for i in range(20)] + [\"pcaa_\" + str(i) for i in range(150)] + [\"pcas_\" + str(i) for i in range(2)]\\#import seaborn as sns\n",
    "#feature_importances_df = pd.DataFrame({\"features\":feature_names, \"importances\":importances}).sort_values(by=[\"importances\"],axis=0,ascending=False)\n",
    "#plt.figure(figsize=(16,256))\n",
    "#sns.barplot(x=\"importances\",y=\"features\",data=feature_importances_df)"
   ]
  },
  {
   "cell_type": "code",
   "execution_count": 16,
   "metadata": {
    "execution": {
     "iopub.execute_input": "2020-10-26T03:42:52.943417Z",
     "iopub.status.busy": "2020-10-26T03:42:52.942273Z",
     "iopub.status.idle": "2020-10-26T03:42:53.076909Z",
     "shell.execute_reply": "2020-10-26T03:42:53.076385Z"
    },
    "papermill": {
     "duration": 0.208983,
     "end_time": "2020-10-26T03:42:53.077023",
     "exception": false,
     "start_time": "2020-10-26T03:42:52.868040",
     "status": "completed"
    },
    "tags": []
   },
   "outputs": [],
   "source": [
    "X = np.concatenate([X, X_stats, X_pca_g, X_pca_c, X_pca_a, X_pca_s], axis=1)\n",
    "X_test = np.concatenate([X_test, X_test_stats, X_test_pca_g, X_test_pca_c, X_test_pca_a, X_test_pca_s], axis=1)"
   ]
  },
  {
   "cell_type": "code",
   "execution_count": 17,
   "metadata": {
    "execution": {
     "iopub.execute_input": "2020-10-26T03:42:53.226508Z",
     "iopub.status.busy": "2020-10-26T03:42:53.225527Z",
     "iopub.status.idle": "2020-10-26T03:42:53.333196Z",
     "shell.execute_reply": "2020-10-26T03:42:53.332681Z"
    },
    "papermill": {
     "duration": 0.183514,
     "end_time": "2020-10-26T03:42:53.333340",
     "exception": false,
     "start_time": "2020-10-26T03:42:53.149826",
     "status": "completed"
    },
    "tags": []
   },
   "outputs": [],
   "source": [
    "importances = [0.0,0.014828467,0.020225618,0.2016071,0.12000491,0.23457073,0.14336859,0.188986,0.15212588,0.06948359,0.087405145,0.23941657,0.15326,0.123934634,0.12399402,0.103303656,0.20058796,0.12029886,0.17182171,0.17401007,0.13714683,0.12812747,0.105611466,0.1362481,0.21370016,0.2196767,0.17299509,0.11271816,0.16150045,0.08740312,0.17659304,0.24062175,0.14534806,0.2081732,0.21428908,0.08611817,0.13701023,0.13773647,0.26561368,0.1434312,0.10359177,0.11360872,0.39624667,0.15491325,0.15722564,0.09098127,0.09633679,0.16126265,0.10018399,0.15032308,0.23942244,0.22126837,0.28376353,0.1888057,0.17380139,0.17511089,0.115856364,0.1279153,0.11989386,0.18481423,0.17528455,0.20045982,0.08640442,0.14467753,0.21244904,0.19943722,0.14487082,0.22226937,0.12023558,0.16604203,0.0930883,0.27884412,0.2029998,0.21041453,0.08665657,0.1625424,0.17050163,0.23688473,0.2311762,0.11819308,0.08994279,0.107802816,0.08963323,0.072145164,0.16317935,0.18093807,0.16377741,0.12995249,0.20732547,0.20985179,0.09297665,0.09443255,0.13126844,0.16180238,0.35355374,0.1406772,0.11240736,0.123544924,0.21902955,0.24269499,0.3128133,0.15925594,0.17834134,0.255089,0.114810154,0.16059443,0.1341405,0.17533413,0.16721605,0.28744242,0.094345815,0.20214863,0.10101388,0.13952431,0.15736425,0.17649394,0.24808577,0.22200182,0.13782644,0.13008747,0.13837633,0.14264506,0.10602203,0.28742203,0.15291165,0.10039946,0.19622512,0.1389252,0.20876105,0.2653083,0.13136384,0.1488323,0.22270612,0.20330262,0.12919706,0.21354243,0.13762994,0.16603364,0.23220961,0.14787713,0.210397,0.18417796,0.10112901,0.20152037,0.1316053,0.19314227,0.12204596,0.23277669,0.1699048,0.18309446,0.25057808,0.23095118,0.15028441,0.19247042,0.14718923,0.20089255,0.13703424,0.19826141,0.16269271,0.16793756,0.26546153,0.38431594,0.15324688,0.14877754,0.2553587,0.17273922,0.22963563,0.1402346,0.12930073,0.13973291,0.13163508,0.17079353,0.17546055,0.33631897,0.14606075,0.16968909,0.14460301,0.16917604,0.29222792,0.15800907,0.1817757,0.23499127,0.13962394,0.17095338,0.1758315,0.12613574,0.19751099,0.058083136,0.1713235,0.18966784,0.13723525,0.14090547,0.20406362,0.17361549,0.13757901,0.34818873,0.10061631,0.16109128,0.092076406,0.2122965,0.1513452,0.115156904,0.12801008,0.12353009,0.2513353,0.25009686,0.25588995,0.25987092,0.11569356,0.20323749,0.1342574,0.2194858,0.14551783,0.14683756,0.253608,0.13107216,0.16325064,0.16157909,0.11793301,0.1148031,0.09843255,0.09724129,0.15283266,0.21329463,0.11516629,0.15879339,0.16150844,0.06949459,0.07454359,0.18079036,0.06193443,0.22941495,0.17516415,0.092276745,0.2414239,0.12694673,0.1533688,0.18261592,0.23765421,0.124658935,0.110062756,0.11309241,0.15654184,0.19229764,0.086832866,0.1352812,0.10497989,0.19109577,0.15798284,0.09815823,0.21209009,0.21001738,0.23912439,0.30291554,0.092174605,0.15245406,0.21402375,0.24776834,0.20405102,0.11291308,0.21251707,0.12861124,0.29730424,0.16609295,0.21818733,0.14118303,0.19291966,0.17233095,0.106412515,0.15411262,0.22597788,0.15102787,0.15689257,0.23826618,0.14925279,0.20910735,0.09837827,0.18639366,0.11170214,0.20677245,0.099646874,0.17598413,0.09124955,0.15147772,0.13200833,0.17003085,0.14380157,0.14345306,0.11884663,0.15469645,0.09662017,0.13128102,0.09842358,0.17879178,0.13867247,0.13497113,0.14510687,0.1554322,0.20488067,0.22105068,0.18028775,0.18566984,0.13360126,0.19736166,0.17691706,0.19545779,0.103025466,0.19464184,0.13557518,0.14531209,0.10245004,0.1876193,0.15959914,0.24287337,0.17703366,0.16494542,0.19042529,0.07692109,0.1549392,0.1446259,0.2677974,0.16872093,0.11168945,0.30778867,0.11887219,0.15321176,0.12574941,0.22066799,0.115919665,0.13435091,0.13384666,0.12369856,0.15411334,0.1539326,0.11912916,0.17390627,0.18102586,0.10841074,0.19988114,0.11104967,0.109710105,0.13444549,0.1746575,0.09808462,0.15849285,0.17797863,0.13417973,0.23139599,0.08651519,0.18651316,0.10530115,0.124492675,0.14829114,0.1670182,0.18935975,0.22670054,0.2048896,0.18635212,0.15922032,0.09970511,0.19334313,0.116435654,0.09318605,0.16666977,0.28689903,0.1866297,0.13902554,0.21502726,0.18333495,0.14027192,0.17459817,0.12575492,0.18351899,0.17956336,0.06564469,0.21264315,0.1467276,0.1977767,0.13845101,0.15132341,0.26086068,0.07616704,0.23642363,0.12989958,0.18171726,0.1971073,0.12176068,0.10340516,0.2538998,0.28393194,0.22091302,0.18852638,0.08043113,0.22312981,0.14104785,0.5002081,0.11584934,0.17273608,0.14733237,0.16118,0.06657026,0.1823547,0.1568675,0.16101837,0.12697,0.19904828,0.14515416,0.13960925,0.24750869,0.21008514,0.23772092,0.08053175,0.23447709,0.23450477,0.13559815,0.15888993,0.12995887,0.19434524,0.09370749,0.16411103,0.1609322,0.21847342,0.15166703,0.13534077,0.08130669,0.17621891,0.10745025,0.14751014,0.09585203,0.17146987,0.15984112,0.21148555,0.12667306,0.32787496,0.19183326,0.10539532,0.37064648,0.19043973,0.13953455,0.2854501,0.15974028,0.13152872,0.18960083,0.10401599,0.20302165,0.11141246,0.20603858,0.06859658,0.17935105,0.15003976,0.17535444,0.056019578,0.24101198,0.17196082,0.12861514,0.14547418,0.13772741,0.14900719,0.13913527,0.15139844,0.15018487,0.07099197,0.16819073,0.18126975,0.16402765,0.1601871,0.20045336,0.2269576,0.2251456,0.19212224,0.13110605,0.22659846,0.13294725,0.20131627,0.10892054,0.13183205,0.11084218,0.20371333,0.12783645,0.08853352,0.21168002,0.1871751,0.16751686,0.10244215,0.14926414,0.10828553,0.22879444,0.15969826,0.102821164,0.14161517,0.09925784,0.12017577,0.20692366,0.20554039,0.14908269,0.18313076,0.12099518,0.15764755,0.120397694,0.18379338,0.09269632,0.11506224,0.13628791,0.18370822,0.17215121,0.12853698,0.19150284,0.10367365,0.18432595,0.22583187,0.11999348,0.09427908,0.12354278,0.1906542,0.1425651,0.23157692,0.23365246,0.16424042,0.16776595,0.16477978,0.107901275,0.20132771,0.21062377,0.09598201,0.19090162,0.17025048,0.11380147,0.11528879,0.14708665,0.19838779,0.12122913,0.20214196,0.12757908,0.12520199,0.2535199,0.16358209,0.1147228,0.14861088,0.23388602,0.2091873,0.13453206,0.24071428,0.11378684,0.06563051,0.13662401,0.10903789,0.10801051,0.10925899,0.10380262,0.2234169,0.10461396,0.14907792,0.10787836,0.110770114,0.11928711,0.13440405,0.15983798,0.1593943,0.1997959,0.08721618,0.20371252,0.21250106,0.14177248,0.060442764,0.11035692,0.12943707,0.19835691,0.12368999,0.10770731,0.121647514,0.10607326,0.23051392,0.22565673,0.16049227,0.19668871,0.16713265,0.19517678,0.25655374,0.11209349,0.1984877,0.12996912,0.14567001,0.13111666,0.114025526,0.11641072,0.17421505,0.09661984,0.15027225,0.123419516,0.1029895,0.09362584,0.08465493,0.14438933,0.15494238,0.12581106,0.15031834,0.20062293,0.1282448,0.15997796,0.16865115,0.16561007,0.1629409,0.09266446,0.2676025,0.17701437,0.11075198,0.10598207,0.19154614,0.11726609,0.18728745,0.1517574,0.0990039,0.08155019,0.2051116,0.16457961,0.11800892,0.09240267,0.17735845,0.11463352,0.09936446,0.10443141,0.14717942,0.18550082,0.21976107,0.108400635,0.053466592,0.22192302,0.18196754,0.15456522,0.23112859,0.13397029,0.2997361,0.13465245,0.12057249,0.11004971,0.13333714,0.09277951,0.1934592,0.16127068,0.14023662,0.2176794,0.19067134,0.39564723,0.1976939,0.15029673,0.13697076,0.22966279,0.17530942,0.10749717,0.14212915,0.21912634,0.18673415,0.15085481,0.13937625,0.12976593,0.14236768,0.18888085,0.22437131,0.12168428,0.24755609,0.11656674,0.077900544,0.071262725,0.20980997,0.1986534,0.14913078,0.09867303,0.14049672,0.18936162,0.17493597,0.22104774,0.15140447,0.11098374,0.24963689,0.15217026,0.10863851,0.10494942,0.10451082,0.18001261,0.16567379,0.23170233,0.13922171,0.1467623,0.18115786,0.18382588,0.09606831,0.12861286,0.20883627,0.07644925,0.17933011,0.09429676,0.16993833,0.14660859,0.09341625,0.13745992,0.10997003,0.18462977,0.123799436,0.21261887,0.22891036,0.06980604,0.10206877,0.15071829,0.20572375,0.20633188,0.18038246,0.21347858,0.19372335,0.19281814,0.10633706,0.25249052,0.29590234,0.12686096,0.17500745,0.116756245,0.16791861,0.18448114,0.20177992,0.15757377,0.12422465,0.16367309,0.25207293,0.20317999,0.16714664,0.20012285,0.13475348,0.24689028,0.15148918,0.11968315,0.23033242,0.1369771,0.19423167,0.19783272,0.11771795,0.26564828,0.20418105,0.07985115,0.10739124,0.19816911,0.15884267,0.19523078,0.08898052,0.21458463,0.13412172,0.11734435,0.15460914,0.1922472,0.22758591,0.15779284,0.10150323,0.18417135,0.11971457,0.11446574,0.12834762,0.15777072,0.16835514,0.07511905,0.13005875,0.12782326,0.13317214,0.16424967,0.12200498,0.19839695,0.16397095,0.28319702,0.09375124,0.22822934,0.19456734,0.24728212,0.11484218,0.15351853,0.09550887,0.118261516,0.08495805,0.14068285,0.14947017,0.16256264,0.17164965,0.17704017,0.12073288,0.20783909,0.2103546,0.17786404,0.20312963,0.329774,0.16134575,0.10296745,0.18679507,0.1566408,0.20145981,0.17542382,0.21648736,0.16284172,0.12375012,0.31855085,0.20934889,0.20528194,0.15570948,0.14095902,0.16875288,0.14542598,0.15512386,0.20911306,0.12828754,0.148122,0.14526999,0.14272563,0.13148448,0.19980319,0.1561675,0.15456744,0.23261973,0.14042881,0.1766904,0.1908503,0.1057508,0.12731372,0.11082747,0.13525952,0.12732863,0.15921879,0.15775086,0.178228,0.25063777,0.15005273,0.25941613,0.18393631,0.29294893,0.08620091,0.15310144,0.14268944,0.14526911,0.23011135,0.17844038,0.1698354,0.107403174,0.17790654,0.1953118,0.2209334,0.12310632,0.23974861,0.074262515,0.26975212,0.16272439,0.1734638,0.17659187,0.13353173,0.14372893,0.18955371,0.13982607,0.17816299,0.16330308,0.16209127,0.39274675,0.20741683,0.15868585,0.18592295,0.21463206,0.15746628,0.13297635,0.12691876,0.25795272,0.12509504,0.13545674,0.14947978,0.16548319,0.19791149,0.14846934,0.23792449,0.16846089,0.17126028,0.15938523,0.11429151,0.26783442,0.14114873,0.08762761,0.0,0.21428968,0.12565997,0.11737516,0.048088428,0.098975375,0.003426692,0.17489426,0.057404537,0.11601403,0.20326573,0.19665049,0.21508244,0.14078523,0.24737689,0.34087783,0.2864603,9.7609925e-05,0.0,0.0,0.39724463,0.18877877,0.00074617367,0.0,0.0,0.0,0.10993121,0.16699691,0.027600557,0.24962647,0.1942778,0.118214,0.14940529,0.10450875,0.05071179,0.0,0.2120705,0.21857448,0.22710773,0.026176853,0.15681386,0.0566556,0.06321438,0.020579776,0.036198746,0.024583774,0.018344926,0.0,0.0,0.0,0.19641048,0.0,0.0,0.0,0.00041641662,0.16379735,0.13504355,0.05983236,0.31618345,0.24894427,0.10410841,0.2543099,0.26873627,0.05718469,0.0,0.14528489,0.14193945,0.17635885,0.3247789,0.22635384,0.26182917,0.100433215,0.22045228,0.15462676,0.4536346,0.004405347,0.0,0.0,0.0,0.07903533,0.0,0.0,0.0038050322,0.0,0.096362405,0.18776715,0.2276517,0.21211185,0.14634816,0.17533424,0.0067027053,0.102751605,0.117233254,0.0,0.3326634,0.13132171,0.28490946,0.19465008,0.2681391,0.32042074,0.24218775,0.13305306,0.14137423,0.17766121,0.0070629395,0.0,0.0,0.0,0.15696232,0.0,0.0006860478,0.0,0.0,0.05452498,0.012388085,0.10797828,0.14612146,0.24120165,0.113694996,0.17698313,0.15904614,0.18265171,0.0,0.16642646,0.14242871,0.18684681,0.18612844,0.18479331,0.25339666,0.1864008,0.2686271,0.22194247,0.14342473,0.00019998514,0.0,0.0,0.0,0.23459561,0.00058014854,0.0,0.0,0.0,0.07279152,0.18223839,0.00506893,0.0,0.10796081,0.12652378,0.015261299,0.28564796,0.1859774,0.08619577,0.2756688,0.15325835,0.33570385,0.19271302,0.2763128,0.32123342,0.17412603,0.20905906,0.14185156,0.22849531,0.45261168,0.0,0.0,0.0,0.13209811,0.0,0.0,0.0,0.0,0.20217778,0.10953993,0.19171183,0.16141324,0.018865308,0.063189805,0.09060589,0.15825345,0.07064646,0.04161437,0.09782687,0.077117406,0.10935104,0.14314777,0.27479357,0.10058603,0.07912111,0.13031605,0.2323272,0.15886974,0.15586567,0.105438076,0.08757085,0.29638714,0.084067225,0.10342219,0.2181943,0.12793078,0.08236317,0.085319705,0.18215537,0.17644529,0.08573001,0.2168619,0.11743749,0.08026688,0.17251727,0.14962086,0.11688927,0.1062106,0.15970078,0.18990704,0.17013876,0.13333222,0.13731359,0.17551357,0.08118564,0.09854721,0.121522695,0.15408084,0.22952995,0.10259158,0.13281639,0.09476331,0.13190027,0.16879871,0.06399906,0.2210667,0.11574354,0.16566049,0.116357245,0.20235206,0.15236089,0.14121805,0.124011666,0.08236247,0.19930927,0.13526879,0.13275562,0.22472371,0.12160813,0.18089278,0.13637784,0.085714474,0.16880819,0.22781835,0.15607242,0.14225616,0.14391194,0.07480363,0.14495905,0.14021347,0.13087635,0.15832251,0.10436686,0.23197944,0.13770266,0.2082517,0.12036577,0.15517356,0.20270811,0.21111833,0.13566111,0.28519273,0.10252782,0.14549787,0.19786313,0.103967965,0.11212763,0.20374005,0.20373197,0.20785107,0.011708892,0.9069087,0.21095513,0.29592314,0.37165985,0.22700973,0.22170475,0.2512499,0.28131196,0.1860217,0.18186261,0.24854831,0.16793235,0.20685916,0.16276252,0.22882433,0.2805822,0.22784497,0.17137878,0.2473776,0.15570365,0.12808716,0.14200547,0.09234593,0.12513824,0.10653392,0.020417621,0.041773796,0.158524,0.22455755,0.105593994,0.16408567,0.20812678,0.10248729,0.22143584,0.14980902,0.22584899,0.11205671,0.23051113,0.20196168,0.12661612,0.093336664,0.20644012,0.30560282,0.13965806,0.14134084,0.2045498,0.16982979,0.16499168,0.16057058,0.10376714,0.10985822,0.10037088,0.13636836,0.120936505,0.1695152,0.13566665,0.15371986,0.09951323,0.14163925,0.12577142,0.12385576,0.16153261,0.18676373,0.15000209,0.12037751,0.13303758,0.18142731,0.117437385,0.1431659,0.21746822,0.09016984,0.13409004,0.151535,0.13027512,0.13042188,0.15884422,0.11096528,0.14724149,0.15739907,0.13981366,0.15715231,0.1307134,0.13490745,0.19710706,0.1916286,0.19271377,0.16446048,0.10896732,0.1788321,0.11769756,0.19572386,0.113424644,0.096478954,0.10657286,0.20802866,0.24059504,0.20759884,0.12265568,0.16695799,0.16989341,0.15445739,0.17647953,0.20451002,0.11226781,0.15948148,0.14618644,0.21779494,0.16918138,0.1858859,0.11841095,0.14387324,0.12845936,0.17614594,0.108967334,0.21842116,0.13213934,0.1078793,0.13312607,0.17003977,0.12169365,0.14017668,0.1808543,0.09276705,0.09032219,0.09113362,0.13909952,0.12020604,0.16157186,0.15711677,0.12767687,0.22417182,0.17937702,0.17269225,0.13078393,0.1611634,0.16726302,0.1435551,0.12480039,0.19917755,0.12406161,0.14129983,0.20955378,0.13029741,0.107799806,0.09242775,0.12634046,0.14624588,0.11843404,0.18360682,0.15005288,0.08842365,0.12042121,0.097905055,0.09159432,0.17700553,0.09512616,0.12057748,0.14641461,0.1605967,0.124667935,0.095523134,0.17615896,0.10764849,0.11766861,0.21454982,0.16646287,0.19806334,0.14190806,0.14686048,0.20713489,0.19923756]"
   ]
  },
  {
   "cell_type": "code",
   "execution_count": 18,
   "metadata": {
    "execution": {
     "iopub.execute_input": "2020-10-26T03:42:53.480086Z",
     "iopub.status.busy": "2020-10-26T03:42:53.479153Z",
     "iopub.status.idle": "2020-10-26T03:42:53.817950Z",
     "shell.execute_reply": "2020-10-26T03:42:53.817320Z"
    },
    "papermill": {
     "duration": 0.412892,
     "end_time": "2020-10-26T03:42:53.818085",
     "exception": false,
     "start_time": "2020-10-26T03:42:53.405193",
     "status": "completed"
    },
    "tags": []
   },
   "outputs": [],
   "source": [
    "feature_select = [1150,395,950,1038,896,42,642,853,161,1153,436,94,195,891,173,1030,970,784,433,944,1033,975,794,934,100,323,1192,253,631,262,1070,1152,711,827,178,109,123,364,892,1025,439,1140,972,389,52,764,1157,1165,71,1032,1028,1061,842,938,1006,974,873,320,603,734,38,160,129,946,380,207,825,861,577,206,164,103,937,388,214,534,1004,710,721,204,1156,823,150,205,673,905,935,1160,116,257,659,408,1168,890,768,726,313,99,976,234,993,452,541,31,1245,840,50,11,252,273,868,410,238,77,382,181,1013,5,413,412,538,516,147,811,1065,138,1132,680,515,347,78,629,151,571,1187,729,832,646,166,1097,231,699,1164,486,1037,766,1166,1122,962,747,914,1154,467,355,471,945,270,1185,509,572,468,1116,1178,657,1280,549,393,132,67,117,1007,626,1155,1183,51,1104,299,670,838,390,327,948,623,25,211,650,98,913,421,1264,1073,264,1256,640,1219,1080,791,888,367,857,742,1314,877,34,256,24,135,706,223,375,698,260,561,64,199,963,250,912,480,431,1138,1151,522,73,140,781,409,251,89,663,1291,795,539,802,275,1035,687,128,1134,33,1181,1244,1148,780,1246,854,88,1319,492,1162,279,1191,704,446,703,493,796,613,356,298,1195,1252,735,192,258,1146,1147,477,560,133,886,209,722,783,444,72,1137,1108,1047,111,531,1188,717,3,143,789,521,473,155,596,16,61,466,724,338,808,558,65,1113,1320,1288,405,664,579,762,529,566,157,738,1316,866,1143,732,377,643,186,303,385,1233,574,887,926,126,1240,305,837,740,576,973,307,767,417,906,731,707,637,360,145,266,708,1235,1031,153,243,746,469,434,1049,1234,607,506,247,524,814,641,513,437,316,1088,189,442,848,668,354,7,656,53,897,391,961,311,609,481,1001,787,1212,651,365,349,1005,277,357,1002,1158,1026,856,1258,301,622,59,1003,696,716,508,141,750,826,684,499,503,1298,372,368,495,149,997,237,401,1019,1077,627,1159,180,384,1216,463,683,336,85,1118,1271,229,705,300,678,373,1281,448,689,1238,293,833,102,822,850,345,836,782,979,617,778,314,604,1304,995,304,813,30,845,115,1251,1078,943,425,1311,1262,281,184,1092,172,790,450,965,107,647,60,232,55,713,669,883,342,370,585,1034,19,335,54,193,844,26,165,397,1282,1083,267,504,453,18,777,429,1167,188,870,183,171,76,525,1089,1268,285,691,148,1249,834,1196,175,1204,1257,177,1121,1102,799,321,599,869,755,462,159,1161,715,518,482,1285,108,723,575,353,903,1248,363,1315,999,263,69,137,679,1106,600,865,1197,315,519,614,1236,760,517,419,1180,464,763,931,86,720,535,851,216,84,601,792,1163,843,158,776,75,852,93,217,1277,1211,226,28,1050,785,638,47,399,1284,197,403,420,1308,105,1198,573,465,598,430,556,440,1087,487,312,1254,557,871,101,358,820,996,415,1066,1225,739,225,855,1177,344,1130,1054,179,248,748,754,821,497,718,858,1228,114,44,1230,1278,984,272,402,916,788,242,809,1123,1067,797,1169,297,1136,801,593,318,43,289,949,745,810,628,1250,332,269,1096,333,1206,770,236,12,1029,162,325,829,124,222,255,1109,674,8,610,422,1222,727,283,671,459,200,379,271,652,702,49,595,644,152,587,460,1299,824,449,1213,1184,1084,864,775,908,484,274,665,494,551,457,131,163,537,867,352,804,139,427,398,1227,154,621,528,1318,213,682,376,692,1307,964,1296,1255,992,174,581,212,1142,455,800,32,309,941,805,831,406,296,1127,66,63,319,176,592,1125,1260,286,847,1286,287,39,1008,6,1218,1060,806,830,121,514,1000,655,1124,649,1171,942,1317,1036,562,1208,489,978,1194,1290,1110,265,874,394,798,191,889,774,95,667,812,369,639,167,1128,1270,849,1229,169,1193,182,407,438,113,653,681,458,1275,366,127,294,378,120,118,37,456,1133,136,194,694,1091,190,20,156,36,730,645,544,1119,1202,502,23,1205,1139,414,308,863,423,245,1114,818,932,295,1232,725,632,540,341,555,329,210,346,106,743,1221,630,330,302,846,635,1090,759,1267,977,1215,859,472,1099,1115,1265,1042,284,1101,475,170,144,441,807,130,971,291,92,582,470,215,1129,1283,1231,1224,1064,1292,1223,119,757,580,416,87,383,654,565,168,134,454,686,261,505,1261,753,803,597,21,1170,202,1074,57,478,758,1279,532,819,816,404,235,860,712,432,1189,1023,1295,185,594,1209,371,326,878,533,1173,862,1287,1309,239,351,719,1289,1111,14,13,1210,697,793,331,567,97,512,203,588,839,1247,146,761,386,1269,658,569,1117,1095,530,496,1203,779,1306,633,1301,498,1214,1135,17,68,1276,491,4,510,58,751,728,554,334,324,288,1297,1259,772,907,79,615,218,733,1239,1313,1081,1217,879,744,608,968,1085,714,660,361,584,1107,885,328,56,396,1105,208,527,224,201,501,769,104,219,536,618,752,872,583,526,542,994,41,1241,241,259,27,96,1253,1145,578,1186,278,322,445,339,672,1226,476,817,553,605,564,240,634,695,902,1200,340,1048,1059,547,545,1263,1237,474,675,337,624,485,546,991,1022,520,1266,552,81,1293,568,1312,648,426,835,737,1243,1174,268,709,1086,570,122,606,815,22,1179,1068,435,350,246,676,550,677,909,620,1131,936,443,1144,548,1199,507,40,1072,387,15,306,589,786,488,967,1098,1141,1182,310,483,701,749,142,112,196,1062,947,125,1201,48,359,280,1207,619,490,611,881,666,1094,220,292,276,249,343,1302,1057,221,290,586,1242,960,46,685,523,428,1310,771,1305,1100,91,110,690,511,765,418,590,693,1190,362,70,90,636,1272,500,602,1294,616,1172,233,254,198,1303,282,1274,45,1053,1273,1220,80,82,741,479,1300,875,1069,10,29,559,244,74,348,62,828,1027,35,1079,1120,1076,773,591,1071,1075,1112,612,424,1093,411,392,1082,736,1063,955,661,1058,317,688,381,756,1126,228,841,1018,83,662,461,1055,700,227,9,447,400,374,543,1103,918,1052,230,563,933,187,884,939,917,451,989,625,910,880,1176,1056,920,904,915,921,919,1175,2,1051,922,1024,1,990,1149,980,966,1020,951,958,882,898,986,1014,930,1009,893,923,924,900,911,901,927,899,895,894,876,925,952,928,1010,1046,1045,1044,1043,1041,1040,1039,1021,1017,1016,1015,1012,1011,998,929,988,987,985,983,982,981,969,959,957,956,954,953,940,0]\n",
    "feature_select = feature_select[:900]\n",
    "X = X[:, feature_select]\n",
    "X_test = X_test[:, feature_select]"
   ]
  },
  {
   "cell_type": "code",
   "execution_count": 19,
   "metadata": {
    "execution": {
     "iopub.execute_input": "2020-10-26T03:42:54.322503Z",
     "iopub.status.busy": "2020-10-26T03:42:54.321720Z",
     "iopub.status.idle": "2020-10-26T03:42:54.325868Z",
     "shell.execute_reply": "2020-10-26T03:42:54.324834Z"
    },
    "papermill": {
     "duration": 0.436951,
     "end_time": "2020-10-26T03:42:54.326010",
     "exception": false,
     "start_time": "2020-10-26T03:42:53.889059",
     "status": "completed"
    },
    "tags": []
   },
   "outputs": [],
   "source": [
    "import torch\n",
    "import torch.nn as nn\n",
    "import torch.nn.functional as F\n",
    "import torch.optim as optim\n",
    "\n",
    "\n",
    "device = ('cuda' if torch.cuda.is_available() else 'cpu')\n",
    "\n",
    "if device == 'cpu':\n",
    "    torch.set_num_threads(4)"
   ]
  },
  {
   "cell_type": "code",
   "execution_count": 20,
   "metadata": {
    "execution": {
     "iopub.execute_input": "2020-10-26T03:42:54.479007Z",
     "iopub.status.busy": "2020-10-26T03:42:54.476004Z",
     "iopub.status.idle": "2020-10-26T03:42:54.481166Z",
     "shell.execute_reply": "2020-10-26T03:42:54.481700Z"
    },
    "papermill": {
     "duration": 0.084063,
     "end_time": "2020-10-26T03:42:54.481827",
     "exception": false,
     "start_time": "2020-10-26T03:42:54.397764",
     "status": "completed"
    },
    "tags": []
   },
   "outputs": [],
   "source": [
    "class MoADataset:\n",
    "    def __init__(self, features, targets):\n",
    "        self.features = torch.tensor(features, dtype=torch.float).to(device)\n",
    "        self.targets = torch.tensor(targets, dtype=torch.float).to(device)\n",
    "        \n",
    "    def __len__(self):\n",
    "        return (self.features.shape[0])\n",
    "    \n",
    "    def __getitem__(self, idx):\n",
    "        return self.features[idx], self.targets[idx]\n",
    "\n",
    "class MoATestDataset:\n",
    "    def __init__(self, features):\n",
    "        self.features = torch.tensor(features, dtype=torch.float).to(device)\n",
    "        \n",
    "    def __len__(self):\n",
    "        return (self.features.shape[0])\n",
    "    \n",
    "    def __getitem__(self, idx):\n",
    "        return self.features[idx]"
   ]
  },
  {
   "cell_type": "code",
   "execution_count": 21,
   "metadata": {
    "execution": {
     "iopub.execute_input": "2020-10-26T03:42:54.648486Z",
     "iopub.status.busy": "2020-10-26T03:42:54.637749Z",
     "iopub.status.idle": "2020-10-26T03:42:54.656023Z",
     "shell.execute_reply": "2020-10-26T03:42:54.655564Z"
    },
    "papermill": {
     "duration": 0.102965,
     "end_time": "2020-10-26T03:42:54.656124",
     "exception": false,
     "start_time": "2020-10-26T03:42:54.553159",
     "status": "completed"
    },
    "tags": []
   },
   "outputs": [],
   "source": [
    "# Lookahead implementation from https://github.com/rwightman/pytorch-image-models/blob/master/timm/optim/lookahead.py\n",
    "\n",
    "\"\"\" Lookahead Optimizer Wrapper.\n",
    "Implementation modified from: https://github.com/alphadl/lookahead.pytorch\n",
    "Paper: `Lookahead Optimizer: k steps forward, 1 step back` - https://arxiv.org/abs/1907.08610\n",
    "\"\"\"\n",
    "import torch\n",
    "from torch.optim.optimizer import Optimizer\n",
    "from torch.optim import Adam\n",
    "from collections import defaultdict\n",
    "\n",
    "class Lookahead(Optimizer):\n",
    "    def __init__(self, base_optimizer, alpha=0.5, k=6):\n",
    "        if not 0.0 <= alpha <= 1.0:\n",
    "            raise ValueError(f'Invalid slow update rate: {alpha}')\n",
    "        if not 1 <= k:\n",
    "            raise ValueError(f'Invalid lookahead steps: {k}')\n",
    "        defaults = dict(lookahead_alpha=alpha, lookahead_k=k, lookahead_step=0)\n",
    "        self.base_optimizer = base_optimizer\n",
    "        self.param_groups = self.base_optimizer.param_groups\n",
    "        self.defaults = base_optimizer.defaults\n",
    "        self.defaults.update(defaults)\n",
    "        self.state = defaultdict(dict)\n",
    "        # manually add our defaults to the param groups\n",
    "        for name, default in defaults.items():\n",
    "            for group in self.param_groups:\n",
    "                group.setdefault(name, default)\n",
    "\n",
    "    def update_slow(self, group):\n",
    "        for fast_p in group[\"params\"]:\n",
    "            if fast_p.grad is None:\n",
    "                continue\n",
    "            param_state = self.state[fast_p]\n",
    "            if 'slow_buffer' not in param_state:\n",
    "                param_state['slow_buffer'] = torch.empty_like(fast_p.data)\n",
    "                param_state['slow_buffer'].copy_(fast_p.data)\n",
    "            slow = param_state['slow_buffer']\n",
    "            slow.add_(group['lookahead_alpha'], fast_p.data - slow)\n",
    "            fast_p.data.copy_(slow)\n",
    "\n",
    "    def sync_lookahead(self):\n",
    "        for group in self.param_groups:\n",
    "            self.update_slow(group)\n",
    "\n",
    "    def step(self, closure=None):\n",
    "        # print(self.k)\n",
    "        #assert id(self.param_groups) == id(self.base_optimizer.param_groups)\n",
    "        loss = self.base_optimizer.step(closure)\n",
    "        for group in self.param_groups:\n",
    "            group['lookahead_step'] += 1\n",
    "            if group['lookahead_step'] % group['lookahead_k'] == 0:\n",
    "                self.update_slow(group)\n",
    "        return loss\n",
    "\n",
    "    def state_dict(self):\n",
    "        fast_state_dict = self.base_optimizer.state_dict()\n",
    "        slow_state = {\n",
    "            (id(k) if isinstance(k, torch.Tensor) else k): v\n",
    "            for k, v in self.state.items()\n",
    "        }\n",
    "        fast_state = fast_state_dict['state']\n",
    "        param_groups = fast_state_dict['param_groups']\n",
    "        return {\n",
    "            'state': fast_state,\n",
    "            'slow_state': slow_state,\n",
    "            'param_groups': param_groups,\n",
    "        }\n",
    "\n",
    "    def load_state_dict(self, state_dict):\n",
    "        fast_state_dict = {\n",
    "            'state': state_dict['state'],\n",
    "            'param_groups': state_dict['param_groups'],\n",
    "        }\n",
    "        self.base_optimizer.load_state_dict(fast_state_dict)\n",
    "\n",
    "        # We want to restore the slow state, but share param_groups reference\n",
    "        # with base_optimizer. This is a bit redundant but least code\n",
    "        slow_state_new = False\n",
    "        if 'slow_state' not in state_dict:\n",
    "            print('Loading state_dict from optimizer without Lookahead applied.')\n",
    "            state_dict['slow_state'] = defaultdict(dict)\n",
    "            slow_state_new = True\n",
    "        slow_state_dict = {\n",
    "            'state': state_dict['slow_state'],\n",
    "            'param_groups': state_dict['param_groups'],  # this is pointless but saves code\n",
    "        }\n",
    "        super(Lookahead, self).load_state_dict(slow_state_dict)\n",
    "        self.param_groups = self.base_optimizer.param_groups  # make both ref same container\n",
    "        if slow_state_new:\n",
    "            # reapply defaults to catch missing lookahead specific ones\n",
    "            for name, default in self.defaults.items():\n",
    "                for group in self.param_groups:\n",
    "                    group.setdefault(name, default)\n",
    "\n",
    "def LookaheadAdam(params, alpha=0.5, k=6, *args, **kwargs):\n",
    "     adam = Adam(params, *args, **kwargs)\n",
    "     return Lookahead(adam, alpha, k)"
   ]
  },
  {
   "cell_type": "code",
   "execution_count": 22,
   "metadata": {
    "execution": {
     "iopub.execute_input": "2020-10-26T03:42:54.829300Z",
     "iopub.status.busy": "2020-10-26T03:42:54.823610Z",
     "iopub.status.idle": "2020-10-26T03:42:54.975116Z",
     "shell.execute_reply": "2020-10-26T03:42:54.974576Z"
    },
    "papermill": {
     "duration": 0.242499,
     "end_time": "2020-10-26T03:42:54.975223",
     "exception": false,
     "start_time": "2020-10-26T03:42:54.732724",
     "status": "completed"
    },
    "tags": []
   },
   "outputs": [],
   "source": [
    "\n",
    "\n",
    "import contextlib\n",
    "from torch.autograd import Function\n",
    "from collections import OrderedDict\n",
    "from torch.jit import script\n",
    "from warnings import warn\n",
    "import os\n",
    "import glob\n",
    "import hashlib\n",
    "import gc\n",
    "import time\n",
    "import requests\n",
    "\n",
    "def to_one_hot(y, depth=None):\n",
    "    r\"\"\"\n",
    "    Takes integer with n dims and converts it to 1-hot representation with n + 1 dims.\n",
    "    The n+1'st dimension will have zeros everywhere but at y'th index, where it will be equal to 1.\n",
    "    Args:\n",
    "        y: input integer (IntTensor, LongTensor or Variable) of any shape\n",
    "        depth (int):  the size of the one hot dimension\n",
    "    \"\"\"\n",
    "    y_flat = y.to(torch.int64).view(-1, 1)\n",
    "    depth = depth if depth is not None else int(torch.max(y_flat)) + 1\n",
    "    y_one_hot = torch.zeros(y_flat.size()[0], depth, device=y.device).scatter_(1, y_flat, 1)\n",
    "    y_one_hot = y_one_hot.view(*(tuple(y.shape) + (-1,)))\n",
    "    return y_one_hot\n",
    "\n",
    "\n",
    "def _make_ix_like(input, dim=0):\n",
    "    d = input.size(dim)\n",
    "    rho = torch.arange(1, d + 1, device=input.device, dtype=input.dtype)\n",
    "    view = [1] * input.dim()\n",
    "    view[0] = -1\n",
    "    return rho.view(view).transpose(0, dim)\n",
    "\n",
    "\n",
    "class SparsemaxFunction(Function):\n",
    "    \"\"\"\n",
    "    An implementation of sparsemax (Martins & Astudillo, 2016). See\n",
    "    :cite:`DBLP:journals/corr/MartinsA16` for detailed description.\n",
    "    By Ben Peters and Vlad Niculae\n",
    "    \"\"\"\n",
    "\n",
    "    @staticmethod\n",
    "    def forward(ctx, input, dim=-1):\n",
    "        \"\"\"sparsemax: normalizing sparse transform (a la softmax)\n",
    "        Parameters:\n",
    "            input (Tensor): any shape\n",
    "            dim: dimension along which to apply sparsemax\n",
    "        Returns:\n",
    "            output (Tensor): same shape as input\n",
    "        \"\"\"\n",
    "        ctx.dim = dim\n",
    "        max_val, _ = input.max(dim=dim, keepdim=True)\n",
    "        input -= max_val  # same numerical stability trick as for softmax\n",
    "        tau, supp_size = SparsemaxFunction._threshold_and_support(input, dim=dim)\n",
    "        output = torch.clamp(input - tau, min=0)\n",
    "        ctx.save_for_backward(supp_size, output)\n",
    "        return output\n",
    "\n",
    "    @staticmethod\n",
    "    def backward(ctx, grad_output):\n",
    "        supp_size, output = ctx.saved_tensors\n",
    "        dim = ctx.dim\n",
    "        grad_input = grad_output.clone()\n",
    "        grad_input[output == 0] = 0\n",
    "\n",
    "        v_hat = grad_input.sum(dim=dim) / supp_size.to(output.dtype).squeeze()\n",
    "        v_hat = v_hat.unsqueeze(dim)\n",
    "        grad_input = torch.where(output != 0, grad_input - v_hat, grad_input)\n",
    "        return grad_input, None\n",
    "\n",
    "\n",
    "    @staticmethod\n",
    "    def _threshold_and_support(input, dim=-1):\n",
    "        \"\"\"Sparsemax building block: compute the threshold\n",
    "        Args:\n",
    "            input: any dimension\n",
    "            dim: dimension along which to apply the sparsemax\n",
    "        Returns:\n",
    "            the threshold value\n",
    "        \"\"\"\n",
    "\n",
    "        input_srt, _ = torch.sort(input, descending=True, dim=dim)\n",
    "        input_cumsum = input_srt.cumsum(dim) - 1\n",
    "        rhos = _make_ix_like(input, dim)\n",
    "        support = rhos * input_srt > input_cumsum\n",
    "\n",
    "        support_size = support.sum(dim=dim).unsqueeze(dim)\n",
    "        tau = input_cumsum.gather(dim, support_size - 1)\n",
    "        tau /= support_size.to(input.dtype)\n",
    "        return tau, support_size\n",
    "\n",
    "\n",
    "sparsemax = lambda input, dim=-1: SparsemaxFunction.apply(input, dim)\n",
    "sparsemoid = lambda input: (0.5 * input + 0.5).clamp_(0, 1)\n",
    "\n",
    "\n",
    "class Entmax15Function(Function):\n",
    "    \"\"\"\n",
    "    An implementation of exact Entmax with alpha=1.5 (B. Peters, V. Niculae, A. Martins). See\n",
    "    :cite:`https://arxiv.org/abs/1905.05702 for detailed description.\n",
    "    Source: https://github.com/deep-spin/entmax\n",
    "    \"\"\"\n",
    "\n",
    "    @staticmethod\n",
    "    def forward(ctx, input, dim=-1):\n",
    "        ctx.dim = dim\n",
    "\n",
    "        max_val, _ = input.max(dim=dim, keepdim=True)\n",
    "        input = input - max_val  # same numerical stability trick as for softmax\n",
    "        input = input / 2  # divide by 2 to solve actual Entmax\n",
    "\n",
    "        tau_star, _ = Entmax15Function._threshold_and_support(input, dim)\n",
    "        output = torch.clamp(input - tau_star, min=0) ** 2\n",
    "        ctx.save_for_backward(output)\n",
    "        return output\n",
    "\n",
    "    @staticmethod\n",
    "    def backward(ctx, grad_output):\n",
    "        Y, = ctx.saved_tensors\n",
    "        gppr = Y.sqrt()  # = 1 / g'' (Y)\n",
    "        dX = grad_output * gppr\n",
    "        q = dX.sum(ctx.dim) / gppr.sum(ctx.dim)\n",
    "        q = q.unsqueeze(ctx.dim)\n",
    "        dX -= q * gppr\n",
    "        return dX, None\n",
    "\n",
    "    @staticmethod\n",
    "    def _threshold_and_support(input, dim=-1):\n",
    "        Xsrt, _ = torch.sort(input, descending=True, dim=dim)\n",
    "\n",
    "        rho = _make_ix_like(input, dim)\n",
    "        mean = Xsrt.cumsum(dim) / rho\n",
    "        mean_sq = (Xsrt ** 2).cumsum(dim) / rho\n",
    "        ss = rho * (mean_sq - mean ** 2)\n",
    "        delta = (1 - ss) / rho\n",
    "\n",
    "        # NOTE this is not exactly the same as in reference algo\n",
    "        # Fortunately it seems the clamped values never wrongly\n",
    "        # get selected by tau <= sorted_z. Prove this!\n",
    "        delta_nz = torch.clamp(delta, 0)\n",
    "        tau = mean - torch.sqrt(delta_nz)\n",
    "\n",
    "        support_size = (tau <= Xsrt).sum(dim).unsqueeze(dim)\n",
    "        tau_star = tau.gather(dim, support_size - 1)\n",
    "        return tau_star, support_size\n",
    "\n",
    "\n",
    "class Entmoid15(Function):\n",
    "    \"\"\" A highly optimized equivalent of labda x: Entmax15([x, 0]) \"\"\"\n",
    "\n",
    "    @staticmethod\n",
    "    def forward(ctx, input):\n",
    "        output = Entmoid15._forward(input)\n",
    "        ctx.save_for_backward(output)\n",
    "        return output\n",
    "\n",
    "    @staticmethod\n",
    "    @script\n",
    "    def _forward(input):\n",
    "        input, is_pos = abs(input), input >= 0\n",
    "        tau = (input + torch.sqrt(F.relu(8 - input ** 2))) / 2\n",
    "        tau.masked_fill_(tau <= input, 2.0)\n",
    "        y_neg = 0.25 * F.relu(tau - input, inplace=True) ** 2\n",
    "        return torch.where(is_pos, 1 - y_neg, y_neg)\n",
    "\n",
    "    @staticmethod\n",
    "    def backward(ctx, grad_output):\n",
    "        return Entmoid15._backward(ctx.saved_tensors[0], grad_output)\n",
    "\n",
    "    @staticmethod\n",
    "    @script\n",
    "    def _backward(output, grad_output):\n",
    "        gppr0, gppr1 = output.sqrt(), (1 - output).sqrt()\n",
    "        grad_input = grad_output * gppr0\n",
    "        q = grad_input / (gppr0 + gppr1)\n",
    "        grad_input -= q * gppr0\n",
    "        return grad_input\n",
    "\n",
    "\n",
    "entmax15 = lambda input, dim=-1: Entmax15Function.apply(input, dim)\n",
    "entmoid15 = Entmoid15.apply\n",
    "\n",
    "\n",
    "class Lambda(nn.Module):\n",
    "    def __init__(self, func):\n",
    "        super().__init__()\n",
    "        self.func = func\n",
    "\n",
    "    def forward(self, *args, **kwargs):\n",
    "        return self.func(*args, **kwargs)\n",
    "\n",
    "\n",
    "class ModuleWithInit(nn.Module):\n",
    "    \"\"\" Base class for pytorch module with data-aware initializer on first batch \"\"\"\n",
    "    def __init__(self):\n",
    "        super().__init__()\n",
    "        self._is_initialized_tensor = nn.Parameter(torch.tensor(0, dtype=torch.uint8), requires_grad=False)\n",
    "        self._is_initialized_bool = None\n",
    "        # Note: this module uses a separate flag self._is_initialized so as to achieve both\n",
    "        # * persistence: is_initialized is saved alongside model in state_dict\n",
    "        # * speed: model doesn't need to cache\n",
    "        # please DO NOT use these flags in child modules\n",
    "\n",
    "    def initialize(self, *args, **kwargs):\n",
    "        \"\"\" initialize module tensors using first batch of data \"\"\"\n",
    "        raise NotImplementedError(\"Please implement \")\n",
    "\n",
    "    def __call__(self, *args, **kwargs):\n",
    "        if self._is_initialized_bool is None:\n",
    "            self._is_initialized_bool = bool(self._is_initialized_tensor.item())\n",
    "        if not self._is_initialized_bool:\n",
    "            self.initialize(*args, **kwargs)\n",
    "            self._is_initialized_tensor.data[...] = 1\n",
    "            self._is_initialized_bool = True\n",
    "        return super().__call__(*args, **kwargs)\n",
    "\n",
    "def download(url, filename, delete_if_interrupted=True, chunk_size=4096):\n",
    "    \"\"\" saves file from url to filename with a fancy progressbar \"\"\"\n",
    "    try:\n",
    "        with open(filename, \"wb\") as f:\n",
    "            print(\"Downloading {} > {}\".format(url, filename))\n",
    "            response = requests.get(url, stream=True)\n",
    "            total_length = response.headers.get('content-length')\n",
    "\n",
    "            if total_length is None:  # no content length header\n",
    "                f.write(response.content)\n",
    "            else:\n",
    "                total_length = int(total_length)\n",
    "                with tqdm(total=total_length) as progressbar:\n",
    "                    for data in response.iter_content(chunk_size=chunk_size):\n",
    "                        if data:  # filter-out keep-alive chunks\n",
    "                            f.write(data)\n",
    "                            progressbar.update(len(data))\n",
    "    except Exception as e:\n",
    "        if delete_if_interrupted:\n",
    "            print(\"Removing incomplete download {}.\".format(filename))\n",
    "            os.remove(filename)\n",
    "        raise e\n",
    "    return filename\n",
    "\n",
    "\n",
    "def iterate_minibatches(*tensors, batch_size, shuffle=True, epochs=1,\n",
    "                        allow_incomplete=True, callback=lambda x:x):\n",
    "    indices = np.arange(len(tensors[0]))\n",
    "    upper_bound = int((np.ceil if allow_incomplete else np.floor) (len(indices) / batch_size)) * batch_size\n",
    "    epoch = 0\n",
    "    while True:\n",
    "        if shuffle:\n",
    "            np.random.shuffle(indices)\n",
    "        for batch_start in callback(range(0, upper_bound, batch_size)):\n",
    "            batch_ix = indices[batch_start: batch_start + batch_size]\n",
    "            batch = [tensor[batch_ix] for tensor in tensors]\n",
    "            yield batch if len(tensors) > 1 else batch[0]\n",
    "        epoch += 1\n",
    "        if epoch >= epochs:\n",
    "            break\n",
    "\n",
    "\n",
    "def process_in_chunks(function, *args, batch_size, out=None, **kwargs):\n",
    "    \"\"\"\n",
    "    Computes output by applying batch-parallel function to large data tensor in chunks\n",
    "    :param function: a function(*[x[indices, ...] for x in args]) -> out[indices, ...]\n",
    "    :param args: one or many tensors, each [num_instances, ...]\n",
    "    :param batch_size: maximum chunk size processed in one go\n",
    "    :param out: memory buffer for out, defaults to torch.zeros of appropriate size and type\n",
    "    :returns: function(data), computed in a memory-efficient way\n",
    "    \"\"\"\n",
    "    total_size = args[0].shape[0]\n",
    "    first_output = function(*[x[0: batch_size] for x in args])\n",
    "    output_shape = (total_size,) + tuple(first_output.shape[1:])\n",
    "    if out is None:\n",
    "        out = torch.zeros(*output_shape, dtype=first_output.dtype, device=first_output.device,\n",
    "                          layout=first_output.layout, **kwargs)\n",
    "\n",
    "    out[0: batch_size] = first_output\n",
    "    for i in range(batch_size, total_size, batch_size):\n",
    "        batch_ix = slice(i, min(i + batch_size, total_size))\n",
    "        out[batch_ix] = function(*[x[batch_ix] for x in args])\n",
    "    return out\n",
    "\n",
    "\n",
    "def check_numpy(x):\n",
    "    \"\"\" Makes sure x is a numpy array \"\"\"\n",
    "    if isinstance(x, torch.Tensor):\n",
    "        x = x.detach().cpu().numpy()\n",
    "    x = np.asarray(x)\n",
    "    assert isinstance(x, np.ndarray)\n",
    "    return x\n",
    "\n",
    "\n",
    "@contextlib.contextmanager\n",
    "def nop_ctx():\n",
    "    yield None\n",
    "\n",
    "\n",
    "def get_latest_file(pattern):\n",
    "    list_of_files = glob.glob(pattern) # * means all if need specific format then *.csv\n",
    "    assert len(list_of_files) > 0, \"No files found: \" + pattern\n",
    "    return max(list_of_files, key=os.path.getctime)\n",
    "\n",
    "\n",
    "def md5sum(fname):\n",
    "    \"\"\" Computes mdp checksum of a file \"\"\"\n",
    "    hash_md5 = hashlib.md5()\n",
    "    with open(fname, \"rb\") as f:\n",
    "        for chunk in iter(lambda: f.read(4096), b\"\"):\n",
    "            hash_md5.update(chunk)\n",
    "    return hash_md5.hexdigest()\n",
    "\n",
    "\n",
    "def free_memory(sleep_time=0.1):\n",
    "    \"\"\" Black magic function to free torch memory and some jupyter whims \"\"\"\n",
    "    gc.collect()\n",
    "    torch.cuda.synchronize()\n",
    "    gc.collect()\n",
    "    torch.cuda.empty_cache()\n",
    "    time.sleep(sleep_time)\n",
    "\n",
    "def to_float_str(element):\n",
    "    try:\n",
    "        return str(float(element))\n",
    "    except ValueError:\n",
    "        return element\n",
    "    \n",
    "class ODST(ModuleWithInit):\n",
    "    def __init__(self, in_features, num_trees, depth=6, tree_dim=1, flatten_output=True,\n",
    "                 choice_function=sparsemax, bin_function=sparsemoid,\n",
    "                 initialize_response_=nn.init.normal_, initialize_selection_logits_=nn.init.uniform_,\n",
    "                 threshold_init_beta=1.0, threshold_init_cutoff=1.0,\n",
    "                 ):\n",
    "        \"\"\"\n",
    "        Oblivious Differentiable Sparsemax Trees. http://tinyurl.com/odst-readmore\n",
    "        One can drop (sic!) this module anywhere instead of nn.Linear\n",
    "        :param in_features: number of features in the input tensor\n",
    "        :param num_trees: number of trees in this layer\n",
    "        :param tree_dim: number of response channels in the response of individual tree\n",
    "        :param depth: number of splits in every tree\n",
    "        :param flatten_output: if False, returns [..., num_trees, tree_dim],\n",
    "            by default returns [..., num_trees * tree_dim]\n",
    "        :param choice_function: f(tensor, dim) -> R_simplex computes feature weights s.t. f(tensor, dim).sum(dim) == 1\n",
    "        :param bin_function: f(tensor) -> R[0, 1], computes tree leaf weights\n",
    "        :param initialize_response_: in-place initializer for tree output tensor\n",
    "        :param initialize_selection_logits_: in-place initializer for logits that select features for the tree\n",
    "        both thresholds and scales are initialized with data-aware init (or .load_state_dict)\n",
    "        :param threshold_init_beta: initializes threshold to a q-th quantile of data points\n",
    "            where q ~ Beta(:threshold_init_beta:, :threshold_init_beta:)\n",
    "            If this param is set to 1, initial thresholds will have the same distribution as data points\n",
    "            If greater than 1 (e.g. 10), thresholds will be closer to median data value\n",
    "            If less than 1 (e.g. 0.1), thresholds will approach min/max data values.\n",
    "        :param threshold_init_cutoff: threshold log-temperatures initializer, \\in (0, inf)\n",
    "            By default(1.0), log-remperatures are initialized in such a way that all bin selectors\n",
    "            end up in the linear region of sparse-sigmoid. The temperatures are then scaled by this parameter.\n",
    "            Setting this value > 1.0 will result in some margin between data points and sparse-sigmoid cutoff value\n",
    "            Setting this value < 1.0 will cause (1 - value) part of data points to end up in flat sparse-sigmoid region\n",
    "            For instance, threshold_init_cutoff = 0.9 will set 10% points equal to 0.0 or 1.0\n",
    "            Setting this value > 1.0 will result in a margin between data points and sparse-sigmoid cutoff value\n",
    "            All points will be between (0.5 - 0.5 / threshold_init_cutoff) and (0.5 + 0.5 / threshold_init_cutoff)\n",
    "        \"\"\"\n",
    "        super().__init__()\n",
    "        self.depth, self.num_trees, self.tree_dim, self.flatten_output = depth, num_trees, tree_dim, flatten_output\n",
    "        self.choice_function, self.bin_function = choice_function, bin_function\n",
    "        self.threshold_init_beta, self.threshold_init_cutoff = threshold_init_beta, threshold_init_cutoff\n",
    "\n",
    "        self.response = nn.Parameter(torch.zeros([num_trees, tree_dim, 2 ** depth]), requires_grad=True)\n",
    "        initialize_response_(self.response)\n",
    "\n",
    "        self.feature_selection_logits = nn.Parameter(\n",
    "            torch.zeros([in_features, num_trees, depth]), requires_grad=True\n",
    "        )\n",
    "        initialize_selection_logits_(self.feature_selection_logits)\n",
    "\n",
    "        self.feature_thresholds = nn.Parameter(\n",
    "            torch.full([num_trees, depth], float('nan'), dtype=torch.float32), requires_grad=True\n",
    "        )  # nan values will be initialized on first batch (data-aware init)\n",
    "\n",
    "        self.log_temperatures = nn.Parameter(\n",
    "            torch.full([num_trees, depth], float('nan'), dtype=torch.float32), requires_grad=True\n",
    "        )\n",
    "\n",
    "        # binary codes for mapping between 1-hot vectors and bin indices\n",
    "        with torch.no_grad():\n",
    "            indices = torch.arange(2 ** self.depth)\n",
    "            offsets = 2 ** torch.arange(self.depth)\n",
    "            bin_codes = (indices.view(1, -1) // offsets.view(-1, 1) % 2).to(torch.float32)\n",
    "            bin_codes_1hot = torch.stack([bin_codes, 1.0 - bin_codes], dim=-1)\n",
    "            self.bin_codes_1hot = nn.Parameter(bin_codes_1hot, requires_grad=False)\n",
    "            # ^-- [depth, 2 ** depth, 2]\n",
    "\n",
    "    def forward(self, input):\n",
    "        assert len(input.shape) >= 2\n",
    "        if len(input.shape) > 2:\n",
    "            return self.forward(input.view(-1, input.shape[-1])).view(*input.shape[:-1], -1)\n",
    "        # new input shape: [batch_size, in_features]\n",
    "\n",
    "        feature_logits = self.feature_selection_logits\n",
    "        feature_selectors = self.choice_function(feature_logits, dim=0)\n",
    "        # ^--[in_features, num_trees, depth]\n",
    "\n",
    "        feature_values = torch.einsum('bi,ind->bnd', input, feature_selectors)\n",
    "        # ^--[batch_size, num_trees, depth]\n",
    "\n",
    "        threshold_logits = (feature_values - self.feature_thresholds) * torch.exp(-self.log_temperatures)\n",
    "\n",
    "        threshold_logits = torch.stack([-threshold_logits, threshold_logits], dim=-1)\n",
    "        # ^--[batch_size, num_trees, depth, 2]\n",
    "\n",
    "        bins = self.bin_function(threshold_logits)\n",
    "        # ^--[batch_size, num_trees, depth, 2], approximately binary\n",
    "\n",
    "        bin_matches = torch.einsum('btds,dcs->btdc', bins, self.bin_codes_1hot)\n",
    "        # ^--[batch_size, num_trees, depth, 2 ** depth]\n",
    "\n",
    "        response_weights = torch.prod(bin_matches, dim=-2)\n",
    "        # ^-- [batch_size, num_trees, 2 ** depth]\n",
    "\n",
    "        response = torch.einsum('bnd,ncd->bnc', response_weights, self.response)\n",
    "        # ^-- [batch_size, num_trees, tree_dim]\n",
    "\n",
    "        return response.flatten(1, 2) if self.flatten_output else response\n",
    "\n",
    "    def initialize(self, input, eps=1e-6):\n",
    "        # data-aware initializer\n",
    "        assert len(input.shape) == 2\n",
    "        if input.shape[0] < 1000:\n",
    "            warn(\"Data-aware initialization is performed on less than 1000 data points. This may cause instability.\"\n",
    "                 \"To avoid potential problems, run this model on a data batch with at least 1000 data samples.\"\n",
    "                 \"You can do so manually before training. Use with torch.no_grad() for memory efficiency.\")\n",
    "        with torch.no_grad():\n",
    "            feature_selectors = self.choice_function(self.feature_selection_logits, dim=0)\n",
    "            # ^--[in_features, num_trees, depth]\n",
    "\n",
    "            feature_values = torch.einsum('bi,ind->bnd', input, feature_selectors)\n",
    "            # ^--[batch_size, num_trees, depth]\n",
    "\n",
    "            # initialize thresholds: sample random percentiles of data\n",
    "            percentiles_q = 100 * np.random.beta(self.threshold_init_beta, self.threshold_init_beta,\n",
    "                                                 size=[self.num_trees, self.depth])\n",
    "            self.feature_thresholds.data[...] = torch.as_tensor(\n",
    "                list(map(np.percentile, check_numpy(feature_values.flatten(1, 2).t()), percentiles_q.flatten())),\n",
    "                dtype=feature_values.dtype, device=feature_values.device\n",
    "            ).view(self.num_trees, self.depth)\n",
    "\n",
    "            # init temperatures: make sure enough data points are in the linear region of sparse-sigmoid\n",
    "            temperatures = np.percentile(check_numpy(abs(feature_values - self.feature_thresholds)),\n",
    "                                         q=100 * min(1.0, self.threshold_init_cutoff), axis=0)\n",
    "\n",
    "            # if threshold_init_cutoff > 1, scale everything down by it\n",
    "            temperatures /= max(1.0, self.threshold_init_cutoff)\n",
    "            self.log_temperatures.data[...] = torch.log(torch.as_tensor(temperatures) + eps)\n",
    "\n",
    "    def __repr__(self):\n",
    "        return \"{}(in_features={}, num_trees={}, depth={}, tree_dim={}, flatten_output={})\".format(\n",
    "            self.__class__.__name__, self.feature_selection_logits.shape[0],\n",
    "            self.num_trees, self.depth, self.tree_dim, self.flatten_output\n",
    "        )\n",
    "    \n",
    "class DenseBlock(nn.Sequential):\n",
    "    def __init__(self, input_dim, layer_dim, num_layers, tree_dim=1, max_features=None,\n",
    "                 input_dropout=0.0, flatten_output=True, Module=ODST, **kwargs):\n",
    "        layers = []\n",
    "        for i in range(num_layers):\n",
    "            oddt = Module(input_dim, layer_dim, tree_dim=tree_dim, flatten_output=True, **kwargs)\n",
    "            input_dim = min(input_dim + layer_dim * tree_dim, max_features or float('inf'))\n",
    "            layers.append(oddt)\n",
    "\n",
    "        super().__init__(*layers)\n",
    "        self.num_layers, self.layer_dim, self.tree_dim = num_layers, layer_dim, tree_dim\n",
    "        self.max_features, self.flatten_output = max_features, flatten_output\n",
    "        self.input_dropout = input_dropout\n",
    "\n",
    "    def forward(self, x):\n",
    "        initial_features = x.shape[-1]\n",
    "        for layer in self:\n",
    "            layer_inp = x\n",
    "            if self.max_features is not None:\n",
    "                tail_features = min(self.max_features, layer_inp.shape[-1]) - initial_features\n",
    "                if tail_features != 0:\n",
    "                    layer_inp = torch.cat([layer_inp[..., :initial_features], layer_inp[..., -tail_features:]], dim=-1)\n",
    "            if self.training and self.input_dropout:\n",
    "                layer_inp = F.dropout(layer_inp, self.input_dropout)\n",
    "            h = layer(layer_inp)\n",
    "            x = torch.cat([x, h], dim=-1)\n",
    "\n",
    "        outputs = x[..., initial_features:]\n",
    "        if not self.flatten_output:\n",
    "            outputs = outputs.view(*outputs.shape[:-1], self.num_layers * self.layer_dim, self.tree_dim)\n",
    "        return outputs\n",
    "\n"
   ]
  },
  {
   "cell_type": "code",
   "execution_count": 23,
   "metadata": {
    "execution": {
     "iopub.execute_input": "2020-10-26T03:42:55.130922Z",
     "iopub.status.busy": "2020-10-26T03:42:55.130026Z",
     "iopub.status.idle": "2020-10-26T03:42:55.132303Z",
     "shell.execute_reply": "2020-10-26T03:42:55.132896Z"
    },
    "papermill": {
     "duration": 0.085898,
     "end_time": "2020-10-26T03:42:55.133007",
     "exception": false,
     "start_time": "2020-10-26T03:42:55.047109",
     "status": "completed"
    },
    "tags": []
   },
   "outputs": [],
   "source": [
    "import torch\n",
    "from torch.nn.modules.loss import _WeightedLoss\n",
    "import torch.nn.functional as F\n",
    "\n",
    "class SmoothBCEwLogits(_WeightedLoss):\n",
    "    def __init__(self, weight=None, reduction='mean', smoothing=0.0):\n",
    "        super().__init__(weight=weight, reduction=reduction)\n",
    "        self.smoothing = smoothing\n",
    "        self.weight = weight\n",
    "        self.reduction = reduction\n",
    "\n",
    "    @staticmethod\n",
    "    def _smooth(targets:torch.Tensor, n_labels:int, smoothing=0.0):\n",
    "        assert 0 <= smoothing < 1\n",
    "        with torch.no_grad():\n",
    "            targets = targets * (1.0 - smoothing) + 0.5 * smoothing\n",
    "        return targets\n",
    "\n",
    "    def forward(self, inputs, targets):\n",
    "        targets = SmoothBCEwLogits._smooth(targets, inputs.size(-1),\n",
    "            self.smoothing)\n",
    "        loss = F.binary_cross_entropy_with_logits(inputs, targets,self.weight)\n",
    "\n",
    "        if  self.reduction == 'sum':\n",
    "            loss = loss.sum()\n",
    "        elif  self.reduction == 'mean':\n",
    "            loss = loss.mean()\n",
    "\n",
    "        return loss\n",
    "\n"
   ]
  },
  {
   "cell_type": "code",
   "execution_count": 24,
   "metadata": {
    "execution": {
     "iopub.execute_input": "2020-10-26T03:42:55.321702Z",
     "iopub.status.busy": "2020-10-26T03:42:55.298138Z",
     "iopub.status.idle": "2020-10-26T03:42:55.324410Z",
     "shell.execute_reply": "2020-10-26T03:42:55.323873Z"
    },
    "papermill": {
     "duration": 0.116651,
     "end_time": "2020-10-26T03:42:55.324517",
     "exception": false,
     "start_time": "2020-10-26T03:42:55.207866",
     "status": "completed"
    },
    "tags": []
   },
   "outputs": [],
   "source": [
    "\n",
    "@torch.jit.script\n",
    "def mish(input):\n",
    "    '''\n",
    "    Applies the mish function element-wise:\n",
    "    mish(x) = x * tanh(softplus(x)) = x * tanh(ln(1 + exp(x)))\n",
    "    See additional documentation for mish class.\n",
    "    '''\n",
    "    return input * torch.tanh(F.softplus(input))\n",
    "\n",
    "def swish(x):\n",
    "    return x * F.sigmoid(x)\n",
    "class ResLayer(nn.Module):\n",
    "    def __init__(self, layer):\n",
    "        super(ResLayer, self).__init__()\n",
    "        self.layer = layer\n",
    "    def forward(self, x):\n",
    "        return x + self.layer(x)\n",
    "\n",
    "class MoAModel(nn.Module):\n",
    "    def __init__(self, num_features, num_targets, num_targets_nonscored, hidden_size, dropout=0.4, dropout_input=0.2):\n",
    "        super(MoAModel, self).__init__()\n",
    "        self.batch_norm1 = nn.BatchNorm1d(num_features)\n",
    "        self.dropout1 = nn.Dropout(0.2)\n",
    "        self.dense1 = nn.utils.weight_norm(nn.Linear(num_features, hidden_size))\n",
    "        \n",
    "        self.batch_norm1_1 = nn.BatchNorm1d(num_features)\n",
    "        self.dropout1_1 = nn.Dropout(0.2)\n",
    "        self.dense1_1 = nn.utils.weight_norm(nn.Linear(num_features, hidden_size))\n",
    "        \n",
    "        self.batch_norm2 = nn.BatchNorm1d(hidden_size)\n",
    "        self.dropout2 = nn.Dropout(0.4)\n",
    "        self.dense2 = nn.utils.weight_norm(nn.Linear(hidden_size, hidden_size))\n",
    "                \n",
    "        self.batch_norm2_1 = nn.BatchNorm1d(hidden_size)\n",
    "        self.dropout2_1 = nn.Dropout(0.4)\n",
    "        self.dense2_1 = nn.utils.weight_norm(nn.Linear(hidden_size, hidden_size))\n",
    "        \n",
    "        self.batch_norm3 = nn.BatchNorm1d(hidden_size)\n",
    "        self.dropout3 = nn.Dropout(0.4)\n",
    "        self.dense3 = nn.utils.weight_norm(nn.Linear(hidden_size, num_targets))\n",
    "        self.dense4 = nn.utils.weight_norm(nn.Linear(hidden_size, num_targets_nonscored))\n",
    "        \n",
    "        self.dense = nn.Sequential(\n",
    "            nn.BatchNorm1d(num_features),\n",
    "            nn.Dropout(dropout_input),\n",
    "            nn.utils.weight_norm(nn.Linear(num_features, hidden_size)),\n",
    "            nn.PReLU(),\n",
    "            nn.BatchNorm1d(hidden_size),\n",
    "            nn.Dropout(dropout),\n",
    "            nn.utils.weight_norm(nn.Linear(hidden_size, hidden_size)),\n",
    "            nn.PReLU(),\n",
    "            nn.BatchNorm1d(hidden_size),\n",
    "            nn.Dropout(dropout),\n",
    "        )\n",
    "        \n",
    "        self.classifier1 = nn.utils.weight_norm(nn.Linear(hidden_size, num_targets))\n",
    "        self.classifier2 = nn.utils.weight_norm(nn.Linear(hidden_size, num_targets_nonscored))\n",
    "        #self.dense[-1].bias.data = nn.Parameter(-np.log(torch.from_numpy(y.mean(axis=0)).float()))\n",
    "\n",
    "        self.embedding1 = nn.Embedding(3,2)\n",
    "        self.embedding2 = nn.Embedding(2,2)\n",
    "        \n",
    "        self.target = 0\n",
    "    def forward(self, x):\n",
    "        x_input = x\n",
    "        #x_emb1 = self.embedding1(x[:, 0].long())\n",
    "        #x_emb2 = self.embedding1(x[:, 1].long())\n",
    "        #x = torch.cat([x, x_emb1, x_emb2], dim=1)\n",
    "        \"\"\"x = self.batch_norm1(x)\n",
    "        x = self.dropout1(x)\n",
    "        x = F.relu(self.dense1(x))\n",
    "        x_1 = x\n",
    "        \n",
    "        x = self.batch_norm2(x)\n",
    "        x = self.dropout2(x)\n",
    "        x = F.relu(self.dense2(x))\n",
    "        \n",
    "        x = self.batch_norm3(x)\n",
    "        x = self.dropout3(x)\n",
    "        x = self.dense3(x)\n",
    "        \n",
    "        x_1 = self.output1(x_1)\"\"\"\n",
    "        x = self.dense(x)\n",
    "        if self.target == 0:\n",
    "            x = self.classifier1(x)\n",
    "        else:\n",
    "            x = self.classifier2(x)\n",
    "        return x\n",
    "\n",
    "class MoAModelRes(nn.Module):\n",
    "    def __init__(self, num_features, num_targets, num_targets_nonscored, hidden_size, dropout=0.4, dropout_input=0.2):\n",
    "        super(MoAModelRes, self).__init__()\n",
    "        self.denseres = nn.Sequential(\n",
    "            nn.BatchNorm1d(num_features),\n",
    "            nn.Dropout(dropout_input),\n",
    "            nn.utils.weight_norm(nn.Linear(num_features, hidden_size)),\n",
    "            ResLayer(nn.Sequential(\n",
    "                nn.BatchNorm1d(hidden_size),\n",
    "                nn.PReLU(),\n",
    "                nn.Dropout(dropout),\n",
    "                nn.utils.weight_norm(nn.Linear(hidden_size, hidden_size)),\n",
    "            )),\n",
    "            ResLayer(nn.Sequential(\n",
    "                nn.BatchNorm1d(hidden_size),\n",
    "                nn.PReLU(),\n",
    "                nn.Dropout(dropout),\n",
    "                nn.utils.weight_norm(nn.Linear(hidden_size, hidden_size)),\n",
    "            )),\n",
    "            ResLayer(nn.Sequential(\n",
    "                nn.BatchNorm1d(hidden_size),\n",
    "                nn.PReLU(),\n",
    "                nn.Dropout(dropout),\n",
    "                nn.utils.weight_norm(nn.Linear(hidden_size, hidden_size)),\n",
    "            )),\n",
    "            ResLayer(nn.Sequential(\n",
    "                nn.BatchNorm1d(hidden_size),\n",
    "                nn.PReLU(),\n",
    "                nn.Dropout(dropout),\n",
    "                nn.utils.weight_norm(nn.Linear(hidden_size, hidden_size)),\n",
    "            )),\n",
    "            nn.PReLU(),\n",
    "            nn.BatchNorm1d(hidden_size),\n",
    "            nn.Dropout(dropout),\n",
    "            #nn.utils.weight_norm(nn.Linear(hidden_size, num_targets))\n",
    "        )\n",
    "        self.classifier1 = nn.utils.weight_norm(nn.Linear(hidden_size, num_targets))\n",
    "        self.classifier2 = nn.utils.weight_norm(nn.Linear(hidden_size, num_targets_nonscored))\n",
    "    \n",
    "        self.target = 0\n",
    "    def forward(self, x):\n",
    "        x = self.denseres(x)\n",
    "        if self.target == 0:\n",
    "            x = self.classifier1(x)\n",
    "        else:\n",
    "            x = self.classifier2(x)\n",
    "        return x"
   ]
  },
  {
   "cell_type": "code",
   "execution_count": 25,
   "metadata": {
    "execution": {
     "iopub.execute_input": "2020-10-26T03:42:55.489117Z",
     "iopub.status.busy": "2020-10-26T03:42:55.487199Z",
     "iopub.status.idle": "2020-10-26T03:42:55.489837Z",
     "shell.execute_reply": "2020-10-26T03:42:55.490318Z"
    },
    "papermill": {
     "duration": 0.093878,
     "end_time": "2020-10-26T03:42:55.490475",
     "exception": false,
     "start_time": "2020-10-26T03:42:55.396597",
     "status": "completed"
    },
    "tags": []
   },
   "outputs": [],
   "source": [
    "def train_model(model, optimizer, scheduler, criterion, dataloader):\n",
    "    model.train()\n",
    "    final_loss = 0\n",
    "    \n",
    "    for i, data in enumerate(dataloader):\n",
    "        #X_batch, y_batch = [t.to(device) for t in data]\n",
    "        X_batch, y_batch = data\n",
    "        optimizer.zero_grad()\n",
    "        \n",
    "        inputs, targets = X_batch, y_batch\n",
    "        outputs = model(inputs)\n",
    "        loss = criterion(outputs, targets)\n",
    "        loss.backward()\n",
    "        torch.nn.utils.clip_grad_norm_(model.parameters(), 1)\n",
    "        optimizer.step()\n",
    "        \n",
    "        final_loss += loss.item()\n",
    "        scheduler.step()\n",
    "    final_loss /= len(dataloader)\n",
    "    \n",
    "    return final_loss\n",
    "\n",
    "\n",
    "def validate_model(model, criterion, dataloader):\n",
    "    model.eval()\n",
    "    final_loss = 0\n",
    "    valid_preds = []\n",
    "    \n",
    "    for i, data in enumerate(dataloader):\n",
    "        #X_batch, y_batch = [t.to(device) for t in data]        \n",
    "        X_batch, y_batch = data\n",
    "        \n",
    "        inputs, targets = X_batch, y_batch\n",
    "        outputs = model(inputs)\n",
    "        loss = criterion(outputs, targets)\n",
    "        \n",
    "        final_loss += loss.item()\n",
    "        valid_preds.append(outputs.sigmoid().detach().cpu().numpy())\n",
    "        \n",
    "    final_loss /= len(dataloader)\n",
    "    valid_preds = np.concatenate(valid_preds)\n",
    "    \n",
    "    return final_loss, valid_preds\n",
    "\n",
    "def test_model(model, dataloader):\n",
    "    model.eval()\n",
    "    preds = []\n",
    "    \n",
    "    for data in tqdm(dataloader):\n",
    "        inputs = data\n",
    "\n",
    "        with torch.no_grad():\n",
    "            outputs = model(inputs)\n",
    "        \n",
    "        preds.append(outputs.sigmoid().detach().cpu().numpy())\n",
    "        \n",
    "    preds = np.concatenate(preds)\n",
    "    \n",
    "    return preds"
   ]
  },
  {
   "cell_type": "code",
   "execution_count": 26,
   "metadata": {
    "execution": {
     "iopub.execute_input": "2020-10-26T03:42:55.643769Z",
     "iopub.status.busy": "2020-10-26T03:42:55.642965Z",
     "iopub.status.idle": "2020-10-26T03:42:55.647353Z",
     "shell.execute_reply": "2020-10-26T03:42:55.646798Z"
    },
    "papermill": {
     "duration": 0.083142,
     "end_time": "2020-10-26T03:42:55.647457",
     "exception": false,
     "start_time": "2020-10-26T03:42:55.564315",
     "status": "completed"
    },
    "tags": []
   },
   "outputs": [],
   "source": [
    "from sklearn.metrics import log_loss\n",
    "from pytorch_tabnet.metrics import Metric\n",
    "from sklearn.metrics import roc_auc_score, log_loss\n",
    "\n",
    "class LogitsLogLoss(Metric):\n",
    "    \"\"\"\n",
    "    LogLoss with sigmoid applied\n",
    "    \"\"\"\n",
    "\n",
    "    def __init__(self):\n",
    "        self._name = \"logits_ll\"\n",
    "        self._maximize = False\n",
    "\n",
    "    def __call__(self, y_true, y_pred):\n",
    "        \"\"\"\n",
    "        Compute LogLoss of predictions.\n",
    "\n",
    "        Parameters\n",
    "        ----------\n",
    "        y_true: np.ndarray\n",
    "            Target matrix or vector\n",
    "        y_score: np.ndarray\n",
    "            Score matrix or vector\n",
    "\n",
    "        Returns\n",
    "        -------\n",
    "            float\n",
    "            LogLoss of predictions vs targets.\n",
    "        \"\"\"\n",
    "        logits = 1 / (1 + np.exp(-y_pred))\n",
    "        aux = (1-y_true)*np.log(1-logits+1e-15) + y_true*np.log(logits+1e-15)\n",
    "        return np.mean(-aux)"
   ]
  },
  {
   "cell_type": "code",
   "execution_count": 27,
   "metadata": {
    "execution": {
     "iopub.execute_input": "2020-10-26T03:42:55.799679Z",
     "iopub.status.busy": "2020-10-26T03:42:55.798915Z",
     "iopub.status.idle": "2020-10-26T03:42:55.803293Z",
     "shell.execute_reply": "2020-10-26T03:42:55.802701Z"
    },
    "papermill": {
     "duration": 0.084017,
     "end_time": "2020-10-26T03:42:55.803399",
     "exception": false,
     "start_time": "2020-10-26T03:42:55.719382",
     "status": "completed"
    },
    "tags": []
   },
   "outputs": [],
   "source": [
    "def log_loss_numpy(y_true, y_pred):\n",
    "    loss = 0\n",
    "    y_pred_clip = np.clip(y_pred, 1e-15, 1 - 1e-15)\n",
    "    #y_pred_clip = y_pred\n",
    "    for i in range(y_pred.shape[1]):\n",
    "        loss += - np.mean(y_true[:, i] * np.log(y_pred_clip[:, i]) + (1 - y_true[:, i]) * np.log(1 - y_pred_clip[:, i]))\n",
    "    return loss / y_pred.shape[1]\n",
    "def sigmoid(logits):\n",
    "    return 1 / (1 + np.exp(-logits))"
   ]
  },
  {
   "cell_type": "code",
   "execution_count": 28,
   "metadata": {
    "execution": {
     "iopub.execute_input": "2020-10-26T03:42:55.959082Z",
     "iopub.status.busy": "2020-10-26T03:42:55.958039Z",
     "iopub.status.idle": "2020-10-26T03:42:55.961188Z",
     "shell.execute_reply": "2020-10-26T03:42:55.960595Z"
    },
    "papermill": {
     "duration": 0.084615,
     "end_time": "2020-10-26T03:42:55.961308",
     "exception": false,
     "start_time": "2020-10-26T03:42:55.876693",
     "status": "completed"
    },
    "tags": []
   },
   "outputs": [],
   "source": [
    "import random\n",
    "from iterstrat.ml_stratifiers import RepeatedMultilabelStratifiedKFold\n",
    "def test_seed(seed):\n",
    "    kf = RepeatedMultilabelStratifiedKFold(7, random_state=seed)\n",
    "    for train_index, valid_index in kf.split(X, y):\n",
    "        y_train = y[train_index]\n",
    "        y_train = np.sum(y_train, axis=0)\n",
    "        if (y_train == 0).any():\n",
    "            return False\n",
    "    return True\n",
    "def get_kfold_seed():\n",
    "    KFoldSeed = 1\n",
    "\n",
    "    while True:\n",
    "        KFoldSeed = random.randint(1,1000000000)\n",
    "        non_empty = test_seed(KFoldSeed)\n",
    "        print(KFoldSeed, non_empty)\n",
    "        if non_empty:\n",
    "            break\n",
    "    return KFoldSeed\n",
    "#KFoldSeed = get_kfold_seed()"
   ]
  },
  {
   "cell_type": "code",
   "execution_count": 29,
   "metadata": {
    "execution": {
     "iopub.execute_input": "2020-10-26T03:42:56.120030Z",
     "iopub.status.busy": "2020-10-26T03:42:56.119137Z",
     "iopub.status.idle": "2020-10-26T03:42:56.121863Z",
     "shell.execute_reply": "2020-10-26T03:42:56.122380Z"
    },
    "papermill": {
     "duration": 0.088354,
     "end_time": "2020-10-26T03:42:56.122488",
     "exception": false,
     "start_time": "2020-10-26T03:42:56.034134",
     "status": "completed"
    },
    "tags": []
   },
   "outputs": [],
   "source": [
    "from scipy import optimize\n",
    "from scipy import special\n",
    "\n",
    "def ensemble_with_weights(weights, y_preds):\n",
    "    return np.sum([y_preds[i] * weights[i] for i in range(len(weights))], axis=0)\n",
    "\n",
    "def get_best_weights(y_true, y_preds):\n",
    "    y_preds = np.array(y_preds, dtype='float64')\n",
    "    def optimize_func(weights):\n",
    "        return log_loss_numpy(y_true, ensemble_with_weights(weights, y_preds))\n",
    "    def optimize_func_two(x):\n",
    "        return optimize_func([x, 1-x])\n",
    "    \n",
    "    #if len(y_preds) == 2:\n",
    "    #    optimized = optimize.minimize_scalar(optimize_func_two, bounds=(0,1))\n",
    "    #    print(optimized)\n",
    "    #    return [optimized.x, 1-optimized.x]\n",
    "    \n",
    "    x0 = [1/len(y_preds)] * len(y_preds)\n",
    "    #x0 = [2/3, 1/3]\n",
    "    bounds = [(0,1)] * len(y_preds)\n",
    "    def constr_eq(weights):\n",
    "        return np.sum(weights) - 1\n",
    "    constraints = [{'type': 'eq', 'fun': lambda x:1-sum(x)}]\n",
    "    \n",
    "    optimized = optimize.minimize(optimize_func, x0, options={'ftol':1e-9,'maxiter':1000}, bounds=bounds, constraints=constraints)\n",
    "    print(optimized)\n",
    "    return optimized.x\n",
    "    \n",
    "\n",
    "#log_loss_numpy(y_valid, (tabnet_preds/2 + best_preds/2))\n",
    "#log_loss_numpy(y_valid, ensemble_with_weights(get_best_weights(y_valid, [best_preds, tabnet_preds]), [best_preds, tabnet_preds]))\n",
    "#ensemble_with_weights([0.5, 0.5],[best_preds, tabnet_preds]) - (tabnet_preds/2 + best_preds/2)"
   ]
  },
  {
   "cell_type": "code",
   "execution_count": 30,
   "metadata": {
    "execution": {
     "iopub.execute_input": "2020-10-26T03:42:56.284781Z",
     "iopub.status.busy": "2020-10-26T03:42:56.283819Z",
     "iopub.status.idle": "2020-10-26T03:42:56.286582Z",
     "shell.execute_reply": "2020-10-26T03:42:56.286103Z"
    },
    "papermill": {
     "duration": 0.090417,
     "end_time": "2020-10-26T03:42:56.286686",
     "exception": false,
     "start_time": "2020-10-26T03:42:56.196269",
     "status": "completed"
    },
    "tags": []
   },
   "outputs": [],
   "source": [
    "import math\n",
    "def train_nn(model, trainloader, trainnonscoredloader, validloader, epochs, lr):\n",
    "    \n",
    "    model.to(device)\n",
    "    #optimizer = torch.optim.Adam(model.parameters(), lr=0.01, weight_decay=1e-5)\n",
    "    optimizer = LookaheadAdam(model.parameters(), lr=lr, weight_decay=1e-5)\n",
    "    scheduler = optim.lr_scheduler.CosineAnnealingLR(optimizer, T_max=epochs * len(trainloader))\n",
    "    #scheduler = optim.lr_scheduler.OneCycleLR(optimizer, max_lr=0.01, epochs=epochs, steps_per_epoch=len(trainloader))\n",
    "    criterion_val = nn.BCEWithLogitsLoss()\n",
    "    criterion_train = SmoothBCEwLogits(smoothing=0.001)\n",
    "    best_loss = 1\n",
    "    best_preds = []\n",
    "    t = tqdm(range(epochs))\n",
    "    for epoch in t:\n",
    "        if epoch < 1:\n",
    "            model.target = 1\n",
    "            train_loss = train_model(model, optimizer, scheduler, criterion_train, trainnonscoredloader)\n",
    "        else:\n",
    "            model.target = 0\n",
    "            train_loss = train_model(model, optimizer, scheduler, criterion_train, trainloader)\n",
    "        model.target = 0\n",
    "        valid_loss, valid_preds = validate_model(model, criterion_val, validloader)\n",
    "        t.set_postfix(train_loss=train_loss, valid_loss=valid_loss, lr=scheduler.get_last_lr()[0])\n",
    "        \n",
    "        if math.isnan(valid_loss):\n",
    "            model.load_state_dict(torch.load(\"/best_model.pth\"))\n",
    "        elif valid_loss < best_loss:\n",
    "            best_loss = valid_loss\n",
    "            best_preds = valid_preds\n",
    "            torch.save(model.state_dict(), \"/best_model.pth\")\n",
    "    \n",
    "    model.load_state_dict(torch.load(\"/best_model.pth\"))\n",
    "    \n",
    "    return model, best_loss, best_preds\n"
   ]
  },
  {
   "cell_type": "code",
   "execution_count": 31,
   "metadata": {
    "execution": {
     "iopub.execute_input": "2020-10-26T03:42:56.441807Z",
     "iopub.status.busy": "2020-10-26T03:42:56.440924Z",
     "iopub.status.idle": "2020-10-26T03:42:56.443531Z",
     "shell.execute_reply": "2020-10-26T03:42:56.443961Z"
    },
    "papermill": {
     "duration": 0.084376,
     "end_time": "2020-10-26T03:42:56.444071",
     "exception": false,
     "start_time": "2020-10-26T03:42:56.359695",
     "status": "completed"
    },
    "tags": []
   },
   "outputs": [],
   "source": [
    "#https://www.kaggle.com/optimo/tabnetregressor-2-0-train-infer/data?\n",
    "TABNET_MAX_EPOCH=200\n",
    "tabnet_params = dict(n_d=32, n_a=32, n_steps=1, gamma=1.3,\n",
    "                     lambda_sparse=0, optimizer_fn=LookaheadAdam, #torch.optim.Adam, #\n",
    "                     optimizer_params=dict(lr=2e-2, weight_decay=1e-5),\n",
    "                     cat_idxs=[0,1],\n",
    "                     mask_type='entmax',\n",
    "                     scheduler_params=dict(mode=\"min\",\n",
    "                                           patience=5,\n",
    "                                           min_lr=1e-5,\n",
    "                                           factor=0.2,),\n",
    "                     #scheduler_params=dict(gamma=0.9, step_size=5),\n",
    "                     scheduler_fn=torch.optim.lr_scheduler.ReduceLROnPlateau,\n",
    "                     #scheduler_fn=torch.optim.lr_scheduler.StepLR,\n",
    "                     verbose=10,\n",
    "                     )"
   ]
  },
  {
   "cell_type": "code",
   "execution_count": 32,
   "metadata": {
    "execution": {
     "iopub.execute_input": "2020-10-26T03:42:56.603019Z",
     "iopub.status.busy": "2020-10-26T03:42:56.601180Z",
     "iopub.status.idle": "2020-10-26T03:42:56.603840Z",
     "shell.execute_reply": "2020-10-26T03:42:56.604394Z"
    },
    "papermill": {
     "duration": 0.087241,
     "end_time": "2020-10-26T03:42:56.604508",
     "exception": false,
     "start_time": "2020-10-26T03:42:56.517267",
     "status": "completed"
    },
    "tags": []
   },
   "outputs": [],
   "source": [
    "\n",
    "import torch\n",
    "from torch.nn.modules.loss import _WeightedLoss\n",
    "import torch.nn.functional as F\n",
    "\n",
    "class SmoothBCEwLogits(_WeightedLoss):\n",
    "    def __init__(self, weight=None, reduction='mean', smoothing=0.0):\n",
    "        super().__init__(weight=weight, reduction=reduction)\n",
    "        self.smoothing = smoothing\n",
    "        self.weight = weight\n",
    "        self.reduction = reduction\n",
    "\n",
    "    @staticmethod\n",
    "    def _smooth(targets:torch.Tensor, n_labels:int, smoothing=0.0):\n",
    "        assert 0 <= smoothing < 1\n",
    "        with torch.no_grad():\n",
    "            targets = targets * (1.0 - smoothing) + 0.5 * smoothing\n",
    "        return targets\n",
    "\n",
    "    def forward(self, inputs, targets):\n",
    "        targets = SmoothBCEwLogits._smooth(targets, inputs.size(-1),\n",
    "            self.smoothing)\n",
    "        loss = F.binary_cross_entropy_with_logits(inputs, targets,self.weight)\n",
    "\n",
    "        if  self.reduction == 'sum':\n",
    "            loss = loss.sum()\n",
    "        elif  self.reduction == 'mean':\n",
    "            loss = loss.mean()\n",
    "\n",
    "        return loss"
   ]
  },
  {
   "cell_type": "code",
   "execution_count": 33,
   "metadata": {
    "execution": {
     "iopub.execute_input": "2020-10-26T03:42:56.767517Z",
     "iopub.status.busy": "2020-10-26T03:42:56.757481Z",
     "iopub.status.idle": "2020-10-26T03:42:59.303117Z",
     "shell.execute_reply": "2020-10-26T03:42:59.302403Z"
    },
    "papermill": {
     "duration": 2.625902,
     "end_time": "2020-10-26T03:42:59.303236",
     "exception": false,
     "start_time": "2020-10-26T03:42:56.677334",
     "status": "completed"
    },
    "tags": []
   },
   "outputs": [],
   "source": [
    "from xgboost import XGBClassifier\n",
    "from catboost import CatBoostClassifier\n",
    "def train_xgb(X_train, y_train, X_valid, y_valid, X_test):\n",
    "    #xg = []\n",
    "    xg_pred = np.zeros_like(y_valid, dtype=\"float64\")\n",
    "    xg_testpred = []\n",
    "    for i in tqdm(range(206)):\n",
    "        try:\n",
    "            xgb = XGBClassifier(tree_method=\"gpu_hist\", n_estimators=1000, objective=\"binary:logistic\")\n",
    "            xgb.fit(X_train, y_train[:,i], verbose=100, early_stopping_rounds=100, eval_metric=\"logloss\", eval_set=[(X_valid, y_valid[:,i])])\n",
    "            #xg.append(xgb)\n",
    "            xg_pred[:,i] = xg[i].predict_proba(X_valid)[:,1]\n",
    "            xg_testpred.append(xg[i].predict_proba(X_test)[:,1])\n",
    "        except:\n",
    "            xg_pred[:,i] = np.mean(y_train[:,i])\n",
    "            xg_testpred.append([np.mean(y_train[:,i])] * len(X_test))\n",
    "    \n",
    "    return xg_pred, np.array(xg_testpred).T\n",
    "\n",
    "def train_cbc(X_train, y_train, X_valid, y_valid, X_test):\n",
    "    cbcs = []\n",
    "    for i in tqdm(range(206)):\n",
    "        cbc = CatBoostClassifier(task_type=\"GPU\", n_estimators=1000, verbose=100, loss_function=\"MultiClass\", eval_metric=\"MultiClass\", early_stopping_rounds=100)\n",
    "        cbc.fit(X_train, y_train[:,i], eval_set=[(X_valid, y_valid[:,i])])\n",
    "        cbcs.append(cbc)\n",
    "        \n",
    "        \n",
    "    cbc_pred = np.zeros_like(y_valid, dtype=\"float64\")\n",
    "    for i in tqdm(range(206)):\n",
    "        cbc_pred[:,i] = cbcs[i].predict_proba(X_valid)[:,1]\n",
    "    \n",
    "    \n",
    "    cbc_testpred = []\n",
    "    for i in tqdm(range(206)):\n",
    "        cbc_testpred.append(cbc[i].predict_proba(X_test)[:,1])\n",
    "    \n",
    "    return cbc_pred, np.array(cbc_testpred).T"
   ]
  },
  {
   "cell_type": "code",
   "execution_count": 34,
   "metadata": {
    "execution": {
     "iopub.execute_input": "2020-10-26T03:42:59.466317Z",
     "iopub.status.busy": "2020-10-26T03:42:59.465624Z",
     "iopub.status.idle": "2020-10-26T03:42:59.469019Z",
     "shell.execute_reply": "2020-10-26T03:42:59.468524Z"
    },
    "papermill": {
     "duration": 0.088466,
     "end_time": "2020-10-26T03:42:59.469125",
     "exception": false,
     "start_time": "2020-10-26T03:42:59.380659",
     "status": "completed"
    },
    "tags": []
   },
   "outputs": [],
   "source": [
    "epochs = 30\n",
    "batch_size = 128"
   ]
  },
  {
   "cell_type": "code",
   "execution_count": 35,
   "metadata": {
    "execution": {
     "iopub.execute_input": "2020-10-26T03:42:59.648683Z",
     "iopub.status.busy": "2020-10-26T03:42:59.627786Z",
     "iopub.status.idle": "2020-10-26T04:44:57.153798Z",
     "shell.execute_reply": "2020-10-26T04:44:57.149064Z"
    },
    "papermill": {
     "duration": 3717.609036,
     "end_time": "2020-10-26T04:44:57.153961",
     "exception": false,
     "start_time": "2020-10-26T03:42:59.544925",
     "status": "completed"
    },
    "tags": []
   },
   "outputs": [
    {
     "name": "stderr",
     "output_type": "stream",
     "text": [
      "/opt/conda/lib/python3.7/site-packages/sklearn/utils/validation.py:70: FutureWarning: Pass shuffle=True, random_state=593306219 as keyword args. From version 0.25 passing these as positional arguments will result in an error\n",
      "  FutureWarning)\n",
      "  0%|          | 0/30 [00:00<?, ?it/s]/opt/conda/lib/python3.7/site-packages/ipykernel_launcher.py:38: UserWarning: This overload of add_ is deprecated:\n",
      "\tadd_(Number alpha, Tensor other)\n",
      "Consider using one of the following signatures instead:\n",
      "\tadd_(Tensor other, *, Number alpha) (Triggered internally at  /opt/conda/conda-bld/pytorch_1595629427478/work/torch/csrc/utils/python_arg_parser.cpp:766.)\n",
      "100%|██████████| 30/30 [00:36<00:00,  1.21s/it, train_loss=0.0178, valid_loss=0.0159]"
     ]
    },
    {
     "name": "stdout",
     "output_type": "stream",
     "text": [
      "Device used : cuda\n"
     ]
    },
    {
     "name": "stderr",
     "output_type": "stream",
     "text": [
      "\n"
     ]
    },
    {
     "name": "stdout",
     "output_type": "stream",
     "text": [
      "epoch 0  | loss: 0.13261 | val_logits_ll: 0.02281 |  0:00:02s\n",
      "epoch 10 | loss: 0.02122 | val_logits_ll: 0.01866 |  0:00:26s\n",
      "epoch 20 | loss: 0.02067 | val_logits_ll: 0.01754 |  0:00:50s\n",
      "epoch 30 | loss: 0.02054 | val_logits_ll: 0.01774 |  0:01:15s\n",
      "epoch 40 | loss: 0.02028 | val_logits_ll: 0.01755 |  0:01:40s\n",
      "epoch 50 | loss: 0.01909 | val_logits_ll: 0.01675 |  0:02:04s\n",
      "epoch 60 | loss: 0.01821 | val_logits_ll: 0.01682 |  0:02:29s\n",
      "epoch 70 | loss: 0.0178  | val_logits_ll: 0.01688 |  0:02:52s\n",
      "\n",
      "Early stopping occured at epoch 70 with best_epoch = 50 and best_val_logits_ll = 0.01675\n",
      "Best weights from best epoch are automatically used!\n"
     ]
    },
    {
     "name": "stderr",
     "output_type": "stream",
     "text": [
      "  0%|          | 0/206 [00:00<?, ?it/s]"
     ]
    },
    {
     "name": "stdout",
     "output_type": "stream",
     "text": [
      "[0]\tvalidation_0-logloss:0.43825\n",
      "Will train until validation_0-logloss hasn't improved in 100 rounds.\n",
      "[100]\tvalidation_0-logloss:0.00622\n",
      "Stopping. Best iteration:\n",
      "[22]\tvalidation_0-logloss:0.00546\n",
      "\n"
     ]
    },
    {
     "name": "stderr",
     "output_type": "stream",
     "text": [
      "  0%|          | 1/206 [00:02<06:55,  2.02s/it]"
     ]
    },
    {
     "name": "stdout",
     "output_type": "stream",
     "text": [
      "[0]\tvalidation_0-logloss:0.43828\n",
      "Will train until validation_0-logloss hasn't improved in 100 rounds.\n",
      "[100]\tvalidation_0-logloss:0.00728\n",
      "Stopping. Best iteration:\n",
      "[25]\tvalidation_0-logloss:0.00559\n",
      "\n"
     ]
    },
    {
     "name": "stderr",
     "output_type": "stream",
     "text": [
      "  1%|          | 2/206 [00:03<06:05,  1.79s/it]"
     ]
    },
    {
     "name": "stdout",
     "output_type": "stream",
     "text": [
      "[0]\tvalidation_0-logloss:0.43858\n",
      "Will train until validation_0-logloss hasn't improved in 100 rounds.\n",
      "[100]\tvalidation_0-logloss:0.01094\n",
      "Stopping. Best iteration:\n",
      "[22]\tvalidation_0-logloss:0.00784\n",
      "\n"
     ]
    },
    {
     "name": "stderr",
     "output_type": "stream",
     "text": [
      "  1%|▏         | 3/206 [00:04<05:34,  1.65s/it]"
     ]
    },
    {
     "name": "stdout",
     "output_type": "stream",
     "text": [
      "[0]\tvalidation_0-logloss:0.44631\n",
      "Will train until validation_0-logloss hasn't improved in 100 rounds.\n",
      "[100]\tvalidation_0-logloss:0.07809\n",
      "Stopping. Best iteration:\n",
      "[15]\tvalidation_0-logloss:0.04842\n",
      "\n"
     ]
    },
    {
     "name": "stderr",
     "output_type": "stream",
     "text": [
      "  2%|▏         | 4/206 [00:06<05:48,  1.72s/it]"
     ]
    },
    {
     "name": "stdout",
     "output_type": "stream",
     "text": [
      "[0]\tvalidation_0-logloss:0.45150\n",
      "Will train until validation_0-logloss hasn't improved in 100 rounds.\n",
      "[100]\tvalidation_0-logloss:0.10844\n",
      "Stopping. Best iteration:\n",
      "[15]\tvalidation_0-logloss:0.07124\n",
      "\n"
     ]
    },
    {
     "name": "stderr",
     "output_type": "stream",
     "text": [
      "  2%|▏         | 5/206 [00:08<06:14,  1.86s/it]"
     ]
    },
    {
     "name": "stdout",
     "output_type": "stream",
     "text": [
      "[0]\tvalidation_0-logloss:0.44103\n",
      "Will train until validation_0-logloss hasn't improved in 100 rounds.\n",
      "[100]\tvalidation_0-logloss:0.03412\n",
      "Stopping. Best iteration:\n",
      "[18]\tvalidation_0-logloss:0.02349\n",
      "\n"
     ]
    },
    {
     "name": "stderr",
     "output_type": "stream",
     "text": [
      "  3%|▎         | 6/206 [00:10<05:54,  1.77s/it]"
     ]
    },
    {
     "name": "stdout",
     "output_type": "stream",
     "text": [
      "[0]\tvalidation_0-logloss:0.43993\n",
      "Will train until validation_0-logloss hasn't improved in 100 rounds.\n",
      "[100]\tvalidation_0-logloss:0.02126\n",
      "Stopping. Best iteration:\n",
      "[20]\tvalidation_0-logloss:0.01543\n",
      "\n"
     ]
    },
    {
     "name": "stderr",
     "output_type": "stream",
     "text": [
      "  3%|▎         | 7/206 [00:11<05:41,  1.71s/it]"
     ]
    },
    {
     "name": "stdout",
     "output_type": "stream",
     "text": [
      "[0]\tvalidation_0-logloss:0.44204\n",
      "Will train until validation_0-logloss hasn't improved in 100 rounds.\n",
      "[100]\tvalidation_0-logloss:0.04274\n",
      "Stopping. Best iteration:\n",
      "[16]\tvalidation_0-logloss:0.02804\n",
      "\n"
     ]
    },
    {
     "name": "stderr",
     "output_type": "stream",
     "text": [
      "  4%|▍         | 8/206 [00:13<05:35,  1.69s/it]"
     ]
    },
    {
     "name": "stdout",
     "output_type": "stream",
     "text": [
      "[0]\tvalidation_0-logloss:0.43814\n",
      "Will train until validation_0-logloss hasn't improved in 100 rounds.\n",
      "[100]\tvalidation_0-logloss:0.00407\n",
      "Stopping. Best iteration:\n",
      "[25]\tvalidation_0-logloss:0.00400\n",
      "\n"
     ]
    },
    {
     "name": "stderr",
     "output_type": "stream",
     "text": [
      "  4%|▍         | 9/206 [00:14<05:00,  1.52s/it]"
     ]
    },
    {
     "name": "stdout",
     "output_type": "stream",
     "text": [
      "[0]\tvalidation_0-logloss:0.45004\n",
      "Will train until validation_0-logloss hasn't improved in 100 rounds.\n",
      "[100]\tvalidation_0-logloss:0.09047\n",
      "Stopping. Best iteration:\n",
      "[14]\tvalidation_0-logloss:0.06381\n",
      "\n"
     ]
    },
    {
     "name": "stderr",
     "output_type": "stream",
     "text": [
      "  5%|▍         | 10/206 [00:16<05:33,  1.70s/it]"
     ]
    },
    {
     "name": "stdout",
     "output_type": "stream",
     "text": [
      "[0]\tvalidation_0-logloss:0.45416\n",
      "Will train until validation_0-logloss hasn't improved in 100 rounds.\n",
      "[100]\tvalidation_0-logloss:0.12576\n",
      "Stopping. Best iteration:\n",
      "[21]\tvalidation_0-logloss:0.07966\n",
      "\n"
     ]
    },
    {
     "name": "stderr",
     "output_type": "stream",
     "text": [
      "  5%|▌         | 11/206 [00:19<06:09,  1.90s/it]"
     ]
    },
    {
     "name": "stdout",
     "output_type": "stream",
     "text": [
      "[0]\tvalidation_0-logloss:0.44051\n",
      "Will train until validation_0-logloss hasn't improved in 100 rounds.\n",
      "[100]\tvalidation_0-logloss:0.02453\n",
      "Stopping. Best iteration:\n",
      "[16]\tvalidation_0-logloss:0.01829\n",
      "\n"
     ]
    },
    {
     "name": "stderr",
     "output_type": "stream",
     "text": [
      "  6%|▌         | 12/206 [00:20<05:45,  1.78s/it]"
     ]
    },
    {
     "name": "stdout",
     "output_type": "stream",
     "text": [
      "[0]\tvalidation_0-logloss:0.43786\n",
      "Will train until validation_0-logloss hasn't improved in 100 rounds.\n",
      "[100]\tvalidation_0-logloss:0.00204\n",
      "Stopping. Best iteration:\n",
      "[31]\tvalidation_0-logloss:0.00179\n",
      "\n"
     ]
    },
    {
     "name": "stderr",
     "output_type": "stream",
     "text": [
      "  6%|▋         | 13/206 [00:21<05:14,  1.63s/it]"
     ]
    },
    {
     "name": "stdout",
     "output_type": "stream",
     "text": [
      "[0]\tvalidation_0-logloss:0.43949\n",
      "Will train until validation_0-logloss hasn't improved in 100 rounds.\n",
      "[100]\tvalidation_0-logloss:0.01342\n",
      "Stopping. Best iteration:\n",
      "[22]\tvalidation_0-logloss:0.01140\n",
      "\n"
     ]
    },
    {
     "name": "stderr",
     "output_type": "stream",
     "text": [
      "  7%|▋         | 14/206 [00:23<05:28,  1.71s/it]"
     ]
    },
    {
     "name": "stdout",
     "output_type": "stream",
     "text": [
      "[0]\tvalidation_0-logloss:0.43797\n",
      "Will train until validation_0-logloss hasn't improved in 100 rounds.\n",
      "[100]\tvalidation_0-logloss:0.00359\n",
      "Stopping. Best iteration:\n",
      "[25]\tvalidation_0-logloss:0.00313\n",
      "\n"
     ]
    },
    {
     "name": "stderr",
     "output_type": "stream",
     "text": [
      "  7%|▋         | 15/206 [00:24<05:00,  1.57s/it]"
     ]
    },
    {
     "name": "stdout",
     "output_type": "stream",
     "text": [
      "[0]\tvalidation_0-logloss:0.43814\n",
      "Will train until validation_0-logloss hasn't improved in 100 rounds.\n",
      "[100]\tvalidation_0-logloss:0.00631\n",
      "Stopping. Best iteration:\n",
      "[23]\tvalidation_0-logloss:0.00501\n",
      "\n"
     ]
    },
    {
     "name": "stderr",
     "output_type": "stream",
     "text": [
      "  8%|▊         | 16/206 [00:26<04:37,  1.46s/it]"
     ]
    },
    {
     "name": "stdout",
     "output_type": "stream",
     "text": [
      "[0]\tvalidation_0-logloss:0.43963\n",
      "Will train until validation_0-logloss hasn't improved in 100 rounds.\n",
      "[100]\tvalidation_0-logloss:0.01953\n",
      "Stopping. Best iteration:\n",
      "[19]\tvalidation_0-logloss:0.01405\n",
      "\n"
     ]
    },
    {
     "name": "stderr",
     "output_type": "stream",
     "text": [
      "  8%|▊         | 17/206 [00:27<04:36,  1.46s/it]"
     ]
    },
    {
     "name": "stdout",
     "output_type": "stream",
     "text": [
      "[0]\tvalidation_0-logloss:0.44172\n",
      "Will train until validation_0-logloss hasn't improved in 100 rounds.\n",
      "[100]\tvalidation_0-logloss:0.04194\n",
      "Stopping. Best iteration:\n",
      "[17]\tvalidation_0-logloss:0.02796\n",
      "\n"
     ]
    },
    {
     "name": "stderr",
     "output_type": "stream",
     "text": [
      "  9%|▊         | 18/206 [00:29<04:45,  1.52s/it]"
     ]
    },
    {
     "name": "stdout",
     "output_type": "stream",
     "text": [
      "[0]\tvalidation_0-logloss:0.44135\n",
      "Will train until validation_0-logloss hasn't improved in 100 rounds.\n",
      "[100]\tvalidation_0-logloss:0.03584\n",
      "Stopping. Best iteration:\n",
      "[18]\tvalidation_0-logloss:0.02551\n",
      "\n"
     ]
    },
    {
     "name": "stderr",
     "output_type": "stream",
     "text": [
      "  9%|▉         | 19/206 [00:30<04:48,  1.54s/it]"
     ]
    },
    {
     "name": "stdout",
     "output_type": "stream",
     "text": [
      "[0]\tvalidation_0-logloss:0.43919\n",
      "Will train until validation_0-logloss hasn't improved in 100 rounds.\n",
      "[100]\tvalidation_0-logloss:0.01665\n",
      "Stopping. Best iteration:\n",
      "[20]\tvalidation_0-logloss:0.01257\n",
      "\n"
     ]
    },
    {
     "name": "stderr",
     "output_type": "stream",
     "text": [
      " 10%|▉         | 20/206 [00:32<04:37,  1.49s/it]"
     ]
    },
    {
     "name": "stdout",
     "output_type": "stream",
     "text": [
      "[0]\tvalidation_0-logloss:0.43921\n",
      "Will train until validation_0-logloss hasn't improved in 100 rounds.\n",
      "[100]\tvalidation_0-logloss:0.01483\n",
      "Stopping. Best iteration:\n",
      "[21]\tvalidation_0-logloss:0.01162\n",
      "\n"
     ]
    },
    {
     "name": "stderr",
     "output_type": "stream",
     "text": [
      " 10%|█         | 21/206 [00:33<04:37,  1.50s/it]"
     ]
    },
    {
     "name": "stdout",
     "output_type": "stream",
     "text": [
      "[0]\tvalidation_0-logloss:0.44086\n",
      "Will train until validation_0-logloss hasn't improved in 100 rounds.\n",
      "[100]\tvalidation_0-logloss:0.02983\n",
      "Stopping. Best iteration:\n",
      "[18]\tvalidation_0-logloss:0.02147\n",
      "\n"
     ]
    },
    {
     "name": "stderr",
     "output_type": "stream",
     "text": [
      " 11%|█         | 22/206 [00:35<04:41,  1.53s/it]"
     ]
    },
    {
     "name": "stdout",
     "output_type": "stream",
     "text": [
      "[0]\tvalidation_0-logloss:0.43784\n",
      "Will train until validation_0-logloss hasn't improved in 100 rounds.\n",
      "[100]\tvalidation_0-logloss:0.00362\n",
      "Stopping. Best iteration:\n",
      "[24]\tvalidation_0-logloss:0.00310\n",
      "\n"
     ]
    },
    {
     "name": "stderr",
     "output_type": "stream",
     "text": [
      " 11%|█         | 23/206 [00:36<04:17,  1.41s/it]"
     ]
    },
    {
     "name": "stdout",
     "output_type": "stream",
     "text": [
      "[0]\tvalidation_0-logloss:0.43951\n",
      "Will train until validation_0-logloss hasn't improved in 100 rounds.\n",
      "[100]\tvalidation_0-logloss:0.01356\n",
      "Stopping. Best iteration:\n",
      "[25]\tvalidation_0-logloss:0.01126\n",
      "\n"
     ]
    },
    {
     "name": "stderr",
     "output_type": "stream",
     "text": [
      " 12%|█▏        | 24/206 [00:38<04:20,  1.43s/it]"
     ]
    },
    {
     "name": "stdout",
     "output_type": "stream",
     "text": [
      "[0]\tvalidation_0-logloss:0.43814\n",
      "Will train until validation_0-logloss hasn't improved in 100 rounds.\n",
      "[100]\tvalidation_0-logloss:0.00684\n",
      "Stopping. Best iteration:\n",
      "[22]\tvalidation_0-logloss:0.00554\n",
      "\n"
     ]
    },
    {
     "name": "stderr",
     "output_type": "stream",
     "text": [
      " 12%|█▏        | 25/206 [00:39<04:06,  1.36s/it]"
     ]
    },
    {
     "name": "stdout",
     "output_type": "stream",
     "text": [
      "[0]\tvalidation_0-logloss:0.43816\n",
      "Will train until validation_0-logloss hasn't improved in 100 rounds.\n",
      "[100]\tvalidation_0-logloss:0.00651\n",
      "Stopping. Best iteration:\n",
      "[24]\tvalidation_0-logloss:0.00536\n",
      "\n"
     ]
    },
    {
     "name": "stderr",
     "output_type": "stream",
     "text": [
      " 13%|█▎        | 26/206 [00:40<03:54,  1.30s/it]"
     ]
    },
    {
     "name": "stdout",
     "output_type": "stream",
     "text": [
      "[0]\tvalidation_0-logloss:0.43797\n",
      "Will train until validation_0-logloss hasn't improved in 100 rounds.\n",
      "[100]\tvalidation_0-logloss:0.00260\n",
      "Stopping. Best iteration:\n",
      "[35]\tvalidation_0-logloss:0.00224\n",
      "\n"
     ]
    },
    {
     "name": "stderr",
     "output_type": "stream",
     "text": [
      " 13%|█▎        | 27/206 [00:41<03:48,  1.28s/it]"
     ]
    },
    {
     "name": "stdout",
     "output_type": "stream",
     "text": [
      "[0]\tvalidation_0-logloss:0.43828\n",
      "Will train until validation_0-logloss hasn't improved in 100 rounds.\n",
      "[100]\tvalidation_0-logloss:0.00684\n",
      "Stopping. Best iteration:\n",
      "[23]\tvalidation_0-logloss:0.00549\n",
      "\n"
     ]
    },
    {
     "name": "stderr",
     "output_type": "stream",
     "text": [
      " 14%|█▎        | 28/206 [00:42<03:45,  1.27s/it]"
     ]
    },
    {
     "name": "stdout",
     "output_type": "stream",
     "text": [
      "[0]\tvalidation_0-logloss:0.44103\n",
      "Will train until validation_0-logloss hasn't improved in 100 rounds.\n",
      "[100]\tvalidation_0-logloss:0.03075\n",
      "Stopping. Best iteration:\n",
      "[17]\tvalidation_0-logloss:0.02203\n",
      "\n"
     ]
    },
    {
     "name": "stderr",
     "output_type": "stream",
     "text": [
      " 14%|█▍        | 29/206 [00:44<04:03,  1.38s/it]"
     ]
    },
    {
     "name": "stdout",
     "output_type": "stream",
     "text": [
      "[0]\tvalidation_0-logloss:0.43919\n",
      "Will train until validation_0-logloss hasn't improved in 100 rounds.\n",
      "[100]\tvalidation_0-logloss:0.01468\n",
      "Stopping. Best iteration:\n",
      "[20]\tvalidation_0-logloss:0.01109\n",
      "\n"
     ]
    },
    {
     "name": "stderr",
     "output_type": "stream",
     "text": [
      " 15%|█▍        | 30/206 [00:45<04:04,  1.39s/it]"
     ]
    },
    {
     "name": "stdout",
     "output_type": "stream",
     "text": [
      "[0]\tvalidation_0-logloss:0.43873\n",
      "Will train until validation_0-logloss hasn't improved in 100 rounds.\n",
      "[100]\tvalidation_0-logloss:0.01276\n",
      "Stopping. Best iteration:\n",
      "[22]\tvalidation_0-logloss:0.00998\n",
      "\n"
     ]
    },
    {
     "name": "stderr",
     "output_type": "stream",
     "text": [
      " 15%|█▌        | 31/206 [00:47<03:56,  1.35s/it]"
     ]
    },
    {
     "name": "stdout",
     "output_type": "stream",
     "text": [
      "[0]\tvalidation_0-logloss:0.43982\n",
      "Will train until validation_0-logloss hasn't improved in 100 rounds.\n",
      "[100]\tvalidation_0-logloss:0.01972\n",
      "Stopping. Best iteration:\n",
      "[19]\tvalidation_0-logloss:0.01517\n",
      "\n"
     ]
    },
    {
     "name": "stderr",
     "output_type": "stream",
     "text": [
      " 16%|█▌        | 32/206 [00:48<04:01,  1.39s/it]"
     ]
    },
    {
     "name": "stdout",
     "output_type": "stream",
     "text": [
      "[0]\tvalidation_0-logloss:0.43977\n",
      "Will train until validation_0-logloss hasn't improved in 100 rounds.\n",
      "[100]\tvalidation_0-logloss:0.02211\n",
      "Stopping. Best iteration:\n",
      "[19]\tvalidation_0-logloss:0.01603\n",
      "\n"
     ]
    },
    {
     "name": "stderr",
     "output_type": "stream",
     "text": [
      " 16%|█▌        | 33/206 [00:50<04:02,  1.40s/it]"
     ]
    },
    {
     "name": "stdout",
     "output_type": "stream",
     "text": [
      "[0]\tvalidation_0-logloss:0.43784\n",
      "Will train until validation_0-logloss hasn't improved in 100 rounds.\n",
      "[100]\tvalidation_0-logloss:0.00306\n",
      "Stopping. Best iteration:\n",
      "[25]\tvalidation_0-logloss:0.00264\n",
      "\n"
     ]
    },
    {
     "name": "stderr",
     "output_type": "stream",
     "text": [
      " 17%|█▋        | 34/206 [00:51<03:45,  1.31s/it]"
     ]
    },
    {
     "name": "stdout",
     "output_type": "stream",
     "text": [
      "[0]\tvalidation_0-logloss:0.43756\n",
      "Will train until validation_0-logloss hasn't improved in 100 rounds.\n",
      "[100]\tvalidation_0-logloss:0.00005\n",
      "Stopping. Best iteration:\n",
      "[59]\tvalidation_0-logloss:0.00005\n",
      "\n"
     ]
    },
    {
     "name": "stderr",
     "output_type": "stream",
     "text": [
      " 17%|█▋        | 35/206 [00:52<03:35,  1.26s/it]"
     ]
    },
    {
     "name": "stdout",
     "output_type": "stream",
     "text": [
      "[0]\tvalidation_0-logloss:0.43797\n",
      "Will train until validation_0-logloss hasn't improved in 100 rounds.\n",
      "[100]\tvalidation_0-logloss:0.00127\n",
      "Stopping. Best iteration:\n",
      "[35]\tvalidation_0-logloss:0.00117\n",
      "\n"
     ]
    },
    {
     "name": "stderr",
     "output_type": "stream",
     "text": [
      " 17%|█▋        | 36/206 [00:53<03:30,  1.24s/it]"
     ]
    },
    {
     "name": "stdout",
     "output_type": "stream",
     "text": [
      "[0]\tvalidation_0-logloss:0.44155\n",
      "Will train until validation_0-logloss hasn't improved in 100 rounds.\n",
      "[100]\tvalidation_0-logloss:0.02680\n",
      "Stopping. Best iteration:\n",
      "[20]\tvalidation_0-logloss:0.02023\n",
      "\n"
     ]
    },
    {
     "name": "stderr",
     "output_type": "stream",
     "text": [
      " 18%|█▊        | 37/206 [00:55<03:58,  1.41s/it]"
     ]
    },
    {
     "name": "stdout",
     "output_type": "stream",
     "text": [
      "[0]\tvalidation_0-logloss:0.43830\n",
      "Will train until validation_0-logloss hasn't improved in 100 rounds.\n",
      "[100]\tvalidation_0-logloss:0.00265\n",
      "Stopping. Best iteration:\n",
      "[28]\tvalidation_0-logloss:0.00238\n",
      "\n"
     ]
    },
    {
     "name": "stderr",
     "output_type": "stream",
     "text": [
      " 18%|█▊        | 38/206 [00:56<03:47,  1.35s/it]"
     ]
    },
    {
     "name": "stdout",
     "output_type": "stream",
     "text": [
      "[0]\tvalidation_0-logloss:0.44184\n",
      "Will train until validation_0-logloss hasn't improved in 100 rounds.\n",
      "[100]\tvalidation_0-logloss:0.01068\n",
      "[200]\tvalidation_0-logloss:0.01034\n",
      "Stopping. Best iteration:\n",
      "[191]\tvalidation_0-logloss:0.01033\n",
      "\n"
     ]
    },
    {
     "name": "stderr",
     "output_type": "stream",
     "text": [
      " 19%|█▉        | 39/206 [00:58<04:25,  1.59s/it]"
     ]
    },
    {
     "name": "stdout",
     "output_type": "stream",
     "text": [
      "[0]\tvalidation_0-logloss:0.43767\n",
      "Will train until validation_0-logloss hasn't improved in 100 rounds.\n",
      "[100]\tvalidation_0-logloss:0.00006\n",
      "Stopping. Best iteration:\n",
      "[60]\tvalidation_0-logloss:0.00006\n",
      "\n"
     ]
    },
    {
     "name": "stderr",
     "output_type": "stream",
     "text": [
      " 19%|█▉        | 40/206 [00:59<04:04,  1.48s/it]"
     ]
    },
    {
     "name": "stdout",
     "output_type": "stream",
     "text": [
      "[0]\tvalidation_0-logloss:0.44023\n",
      "Will train until validation_0-logloss hasn't improved in 100 rounds.\n",
      "[100]\tvalidation_0-logloss:0.02451\n",
      "Stopping. Best iteration:\n",
      "[18]\tvalidation_0-logloss:0.01743\n",
      "\n"
     ]
    },
    {
     "name": "stderr",
     "output_type": "stream",
     "text": [
      " 20%|█▉        | 41/206 [01:01<04:05,  1.49s/it]"
     ]
    },
    {
     "name": "stdout",
     "output_type": "stream",
     "text": [
      "[0]\tvalidation_0-logloss:0.44135\n",
      "Will train until validation_0-logloss hasn't improved in 100 rounds.\n",
      "[100]\tvalidation_0-logloss:0.03451\n",
      "Stopping. Best iteration:\n",
      "[19]\tvalidation_0-logloss:0.02531\n",
      "\n"
     ]
    },
    {
     "name": "stderr",
     "output_type": "stream",
     "text": [
      " 20%|██        | 42/206 [01:02<04:08,  1.52s/it]"
     ]
    },
    {
     "name": "stdout",
     "output_type": "stream",
     "text": [
      "[0]\tvalidation_0-logloss:0.43919\n",
      "Will train until validation_0-logloss hasn't improved in 100 rounds.\n",
      "[100]\tvalidation_0-logloss:0.01526\n",
      "Stopping. Best iteration:\n",
      "[20]\tvalidation_0-logloss:0.01158\n",
      "\n"
     ]
    },
    {
     "name": "stderr",
     "output_type": "stream",
     "text": [
      " 21%|██        | 43/206 [01:04<04:01,  1.48s/it]"
     ]
    },
    {
     "name": "stdout",
     "output_type": "stream",
     "text": [
      "[0]\tvalidation_0-logloss:0.44635\n",
      "Will train until validation_0-logloss hasn't improved in 100 rounds.\n",
      "[100]\tvalidation_0-logloss:0.07711\n",
      "Stopping. Best iteration:\n",
      "[14]\tvalidation_0-logloss:0.05066\n",
      "\n"
     ]
    },
    {
     "name": "stderr",
     "output_type": "stream",
     "text": [
      " 21%|██▏       | 44/206 [01:06<04:23,  1.63s/it]"
     ]
    },
    {
     "name": "stdout",
     "output_type": "stream",
     "text": [
      "[0]\tvalidation_0-logloss:0.44176\n",
      "Will train until validation_0-logloss hasn't improved in 100 rounds.\n",
      "[100]\tvalidation_0-logloss:0.03882\n",
      "Stopping. Best iteration:\n",
      "[18]\tvalidation_0-logloss:0.02689\n",
      "\n"
     ]
    },
    {
     "name": "stderr",
     "output_type": "stream",
     "text": [
      " 22%|██▏       | 45/206 [01:07<04:21,  1.63s/it]"
     ]
    },
    {
     "name": "stdout",
     "output_type": "stream",
     "text": [
      "[0]\tvalidation_0-logloss:0.44280\n",
      "Will train until validation_0-logloss hasn't improved in 100 rounds.\n",
      "[100]\tvalidation_0-logloss:0.04404\n",
      "Stopping. Best iteration:\n",
      "[17]\tvalidation_0-logloss:0.03122\n",
      "\n"
     ]
    },
    {
     "name": "stderr",
     "output_type": "stream",
     "text": [
      " 22%|██▏       | 46/206 [01:09<04:24,  1.65s/it]"
     ]
    },
    {
     "name": "stdout",
     "output_type": "stream",
     "text": [
      "[0]\tvalidation_0-logloss:0.43786\n",
      "Will train until validation_0-logloss hasn't improved in 100 rounds.\n",
      "[100]\tvalidation_0-logloss:0.00112\n",
      "Stopping. Best iteration:\n",
      "[30]\tvalidation_0-logloss:0.00105\n",
      "\n"
     ]
    },
    {
     "name": "stderr",
     "output_type": "stream",
     "text": [
      " 23%|██▎       | 47/206 [01:10<03:54,  1.48s/it]"
     ]
    },
    {
     "name": "stdout",
     "output_type": "stream",
     "text": [
      "[0]\tvalidation_0-logloss:0.43907\n",
      "Will train until validation_0-logloss hasn't improved in 100 rounds.\n",
      "[100]\tvalidation_0-logloss:0.01472\n",
      "Stopping. Best iteration:\n",
      "[22]\tvalidation_0-logloss:0.01087\n",
      "\n"
     ]
    },
    {
     "name": "stderr",
     "output_type": "stream",
     "text": [
      " 23%|██▎       | 48/206 [01:12<03:45,  1.42s/it]"
     ]
    },
    {
     "name": "stdout",
     "output_type": "stream",
     "text": [
      "[0]\tvalidation_0-logloss:0.43930\n",
      "Will train until validation_0-logloss hasn't improved in 100 rounds.\n",
      "[100]\tvalidation_0-logloss:0.01671\n",
      "Stopping. Best iteration:\n",
      "[20]\tvalidation_0-logloss:0.01192\n",
      "\n"
     ]
    },
    {
     "name": "stderr",
     "output_type": "stream",
     "text": [
      " 24%|██▍       | 49/206 [01:13<03:40,  1.40s/it]"
     ]
    },
    {
     "name": "stdout",
     "output_type": "stream",
     "text": [
      "[0]\tvalidation_0-logloss:0.44056\n",
      "Will train until validation_0-logloss hasn't improved in 100 rounds.\n",
      "[100]\tvalidation_0-logloss:0.02576\n",
      "Stopping. Best iteration:\n",
      "[20]\tvalidation_0-logloss:0.01815\n",
      "\n"
     ]
    },
    {
     "name": "stderr",
     "output_type": "stream",
     "text": [
      " 24%|██▍       | 50/206 [01:14<03:46,  1.45s/it]"
     ]
    },
    {
     "name": "stdout",
     "output_type": "stream",
     "text": [
      "[0]\tvalidation_0-logloss:0.43858\n",
      "Will train until validation_0-logloss hasn't improved in 100 rounds.\n",
      "[100]\tvalidation_0-logloss:0.01119\n",
      "Stopping. Best iteration:\n",
      "[21]\tvalidation_0-logloss:0.00801\n",
      "\n"
     ]
    },
    {
     "name": "stderr",
     "output_type": "stream",
     "text": [
      " 25%|██▍       | 51/206 [01:16<03:37,  1.40s/it]"
     ]
    },
    {
     "name": "stdout",
     "output_type": "stream",
     "text": [
      "[0]\tvalidation_0-logloss:0.43986\n",
      "Will train until validation_0-logloss hasn't improved in 100 rounds.\n",
      "[100]\tvalidation_0-logloss:0.01412\n",
      "Stopping. Best iteration:\n",
      "[24]\tvalidation_0-logloss:0.01222\n",
      "\n"
     ]
    },
    {
     "name": "stderr",
     "output_type": "stream",
     "text": [
      " 25%|██▌       | 52/206 [01:17<03:43,  1.45s/it]"
     ]
    },
    {
     "name": "stdout",
     "output_type": "stream",
     "text": [
      "[0]\tvalidation_0-logloss:0.43886\n",
      "Will train until validation_0-logloss hasn't improved in 100 rounds.\n",
      "[100]\tvalidation_0-logloss:0.01140\n",
      "Stopping. Best iteration:\n",
      "[21]\tvalidation_0-logloss:0.00917\n",
      "\n"
     ]
    },
    {
     "name": "stderr",
     "output_type": "stream",
     "text": [
      " 26%|██▌       | 53/206 [01:19<03:35,  1.41s/it]"
     ]
    },
    {
     "name": "stdout",
     "output_type": "stream",
     "text": [
      "[0]\tvalidation_0-logloss:0.43784\n",
      "Will train until validation_0-logloss hasn't improved in 100 rounds.\n",
      "[100]\tvalidation_0-logloss:0.00334\n",
      "Stopping. Best iteration:\n",
      "[29]\tvalidation_0-logloss:0.00298\n",
      "\n"
     ]
    },
    {
     "name": "stderr",
     "output_type": "stream",
     "text": [
      " 26%|██▌       | 54/206 [01:20<03:20,  1.32s/it]"
     ]
    },
    {
     "name": "stdout",
     "output_type": "stream",
     "text": [
      "[0]\tvalidation_0-logloss:0.45066\n",
      "Will train until validation_0-logloss hasn't improved in 100 rounds.\n",
      "[100]\tvalidation_0-logloss:0.10190\n",
      "Stopping. Best iteration:\n",
      "[17]\tvalidation_0-logloss:0.06838\n",
      "\n"
     ]
    },
    {
     "name": "stderr",
     "output_type": "stream",
     "text": [
      " 27%|██▋       | 55/206 [01:22<03:57,  1.57s/it]"
     ]
    },
    {
     "name": "stdout",
     "output_type": "stream",
     "text": [
      "[0]\tvalidation_0-logloss:0.43949\n",
      "Will train until validation_0-logloss hasn't improved in 100 rounds.\n",
      "[100]\tvalidation_0-logloss:0.01722\n",
      "Stopping. Best iteration:\n",
      "[21]\tvalidation_0-logloss:0.01309\n",
      "\n"
     ]
    },
    {
     "name": "stderr",
     "output_type": "stream",
     "text": [
      " 27%|██▋       | 56/206 [01:23<03:54,  1.57s/it]"
     ]
    },
    {
     "name": "stdout",
     "output_type": "stream",
     "text": [
      "[0]\tvalidation_0-logloss:0.44012\n",
      "Will train until validation_0-logloss hasn't improved in 100 rounds.\n",
      "[100]\tvalidation_0-logloss:0.02374\n",
      "Stopping. Best iteration:\n",
      "[18]\tvalidation_0-logloss:0.01821\n",
      "\n"
     ]
    },
    {
     "name": "stderr",
     "output_type": "stream",
     "text": [
      " 28%|██▊       | 57/206 [01:25<03:50,  1.55s/it]"
     ]
    },
    {
     "name": "stdout",
     "output_type": "stream",
     "text": [
      "[0]\tvalidation_0-logloss:0.43919\n",
      "Will train until validation_0-logloss hasn't improved in 100 rounds.\n",
      "[100]\tvalidation_0-logloss:0.01655\n",
      "Stopping. Best iteration:\n",
      "[21]\tvalidation_0-logloss:0.01203\n",
      "\n"
     ]
    },
    {
     "name": "stderr",
     "output_type": "stream",
     "text": [
      " 28%|██▊       | 58/206 [01:26<03:48,  1.54s/it]"
     ]
    },
    {
     "name": "stdout",
     "output_type": "stream",
     "text": [
      "[0]\tvalidation_0-logloss:0.43919\n",
      "Will train until validation_0-logloss hasn't improved in 100 rounds.\n",
      "[100]\tvalidation_0-logloss:0.01492\n",
      "Stopping. Best iteration:\n",
      "[20]\tvalidation_0-logloss:0.01222\n",
      "\n"
     ]
    },
    {
     "name": "stderr",
     "output_type": "stream",
     "text": [
      " 29%|██▊       | 59/206 [01:28<03:40,  1.50s/it]"
     ]
    },
    {
     "name": "stdout",
     "output_type": "stream",
     "text": [
      "[0]\tvalidation_0-logloss:0.43844\n",
      "Will train until validation_0-logloss hasn't improved in 100 rounds.\n",
      "[100]\tvalidation_0-logloss:0.00940\n",
      "Stopping. Best iteration:\n",
      "[24]\tvalidation_0-logloss:0.00757\n",
      "\n"
     ]
    },
    {
     "name": "stderr",
     "output_type": "stream",
     "text": [
      " 29%|██▉       | 60/206 [01:29<03:34,  1.47s/it]"
     ]
    },
    {
     "name": "stdout",
     "output_type": "stream",
     "text": [
      "[0]\tvalidation_0-logloss:0.43814\n",
      "Will train until validation_0-logloss hasn't improved in 100 rounds.\n",
      "[100]\tvalidation_0-logloss:0.00679\n",
      "Stopping. Best iteration:\n",
      "[22]\tvalidation_0-logloss:0.00556\n",
      "\n"
     ]
    },
    {
     "name": "stderr",
     "output_type": "stream",
     "text": [
      " 30%|██▉       | 61/206 [01:30<03:21,  1.39s/it]"
     ]
    },
    {
     "name": "stdout",
     "output_type": "stream",
     "text": [
      "[0]\tvalidation_0-logloss:0.44218\n",
      "Will train until validation_0-logloss hasn't improved in 100 rounds.\n",
      "[100]\tvalidation_0-logloss:0.03988\n",
      "Stopping. Best iteration:\n",
      "[18]\tvalidation_0-logloss:0.02822\n",
      "\n"
     ]
    },
    {
     "name": "stderr",
     "output_type": "stream",
     "text": [
      " 30%|███       | 62/206 [01:32<03:32,  1.48s/it]"
     ]
    },
    {
     "name": "stdout",
     "output_type": "stream",
     "text": [
      "[0]\tvalidation_0-logloss:0.43844\n",
      "Will train until validation_0-logloss hasn't improved in 100 rounds.\n",
      "[100]\tvalidation_0-logloss:0.01016\n",
      "Stopping. Best iteration:\n",
      "[23]\tvalidation_0-logloss:0.00794\n",
      "\n"
     ]
    },
    {
     "name": "stderr",
     "output_type": "stream",
     "text": [
      " 31%|███       | 63/206 [01:33<03:20,  1.40s/it]"
     ]
    },
    {
     "name": "stdout",
     "output_type": "stream",
     "text": [
      "[0]\tvalidation_0-logloss:0.44344\n",
      "Will train until validation_0-logloss hasn't improved in 100 rounds.\n",
      "[100]\tvalidation_0-logloss:0.02293\n",
      "Stopping. Best iteration:\n",
      "[20]\tvalidation_0-logloss:0.01862\n",
      "\n"
     ]
    },
    {
     "name": "stderr",
     "output_type": "stream",
     "text": [
      " 31%|███       | 64/206 [01:35<03:32,  1.50s/it]"
     ]
    },
    {
     "name": "stdout",
     "output_type": "stream",
     "text": [
      "[0]\tvalidation_0-logloss:0.43991\n",
      "Will train until validation_0-logloss hasn't improved in 100 rounds.\n",
      "[100]\tvalidation_0-logloss:0.02146\n",
      "Stopping. Best iteration:\n",
      "[24]\tvalidation_0-logloss:0.01616\n",
      "\n"
     ]
    },
    {
     "name": "stderr",
     "output_type": "stream",
     "text": [
      " 32%|███▏      | 65/206 [01:37<03:31,  1.50s/it]"
     ]
    },
    {
     "name": "stdout",
     "output_type": "stream",
     "text": [
      "[0]\tvalidation_0-logloss:0.43875\n",
      "Will train until validation_0-logloss hasn't improved in 100 rounds.\n",
      "[100]\tvalidation_0-logloss:0.00892\n",
      "Stopping. Best iteration:\n",
      "[21]\tvalidation_0-logloss:0.00794\n",
      "\n"
     ]
    },
    {
     "name": "stderr",
     "output_type": "stream",
     "text": [
      " 32%|███▏      | 66/206 [01:38<03:15,  1.40s/it]"
     ]
    },
    {
     "name": "stdout",
     "output_type": "stream",
     "text": [
      "[0]\tvalidation_0-logloss:0.43953\n",
      "Will train until validation_0-logloss hasn't improved in 100 rounds.\n",
      "[100]\tvalidation_0-logloss:0.01929\n",
      "Stopping. Best iteration:\n",
      "[20]\tvalidation_0-logloss:0.01396\n",
      "\n"
     ]
    },
    {
     "name": "stderr",
     "output_type": "stream",
     "text": [
      " 33%|███▎      | 67/206 [01:39<03:21,  1.45s/it]"
     ]
    },
    {
     "name": "stdout",
     "output_type": "stream",
     "text": [
      "[0]\tvalidation_0-logloss:0.43963\n",
      "Will train until validation_0-logloss hasn't improved in 100 rounds.\n",
      "[100]\tvalidation_0-logloss:0.01859\n",
      "Stopping. Best iteration:\n",
      "[22]\tvalidation_0-logloss:0.01364\n",
      "\n"
     ]
    },
    {
     "name": "stderr",
     "output_type": "stream",
     "text": [
      " 33%|███▎      | 68/206 [01:41<03:21,  1.46s/it]"
     ]
    },
    {
     "name": "stdout",
     "output_type": "stream",
     "text": [
      "[0]\tvalidation_0-logloss:0.44010\n",
      "Will train until validation_0-logloss hasn't improved in 100 rounds.\n",
      "[100]\tvalidation_0-logloss:0.02509\n",
      "Stopping. Best iteration:\n",
      "[18]\tvalidation_0-logloss:0.01783\n",
      "\n"
     ]
    },
    {
     "name": "stderr",
     "output_type": "stream",
     "text": [
      " 33%|███▎      | 69/206 [01:42<03:21,  1.47s/it]"
     ]
    },
    {
     "name": "stdout",
     "output_type": "stream",
     "text": [
      "[0]\tvalidation_0-logloss:0.43784\n",
      "Will train until validation_0-logloss hasn't improved in 100 rounds.\n",
      "[100]\tvalidation_0-logloss:0.00359\n",
      "Stopping. Best iteration:\n",
      "[24]\tvalidation_0-logloss:0.00305\n",
      "\n"
     ]
    },
    {
     "name": "stderr",
     "output_type": "stream",
     "text": [
      " 34%|███▍      | 70/206 [01:43<03:04,  1.36s/it]"
     ]
    },
    {
     "name": "stdout",
     "output_type": "stream",
     "text": [
      "[0]\tvalidation_0-logloss:0.43918\n",
      "Will train until validation_0-logloss hasn't improved in 100 rounds.\n",
      "[100]\tvalidation_0-logloss:0.01078\n",
      "Stopping. Best iteration:\n",
      "[26]\tvalidation_0-logloss:0.00869\n",
      "\n"
     ]
    },
    {
     "name": "stderr",
     "output_type": "stream",
     "text": [
      " 34%|███▍      | 71/206 [01:45<03:02,  1.35s/it]"
     ]
    },
    {
     "name": "stdout",
     "output_type": "stream",
     "text": [
      "[0]\tvalidation_0-logloss:0.45740\n",
      "Will train until validation_0-logloss hasn't improved in 100 rounds.\n",
      "[100]\tvalidation_0-logloss:0.14705\n",
      "Stopping. Best iteration:\n",
      "[15]\tvalidation_0-logloss:0.09455\n",
      "\n"
     ]
    },
    {
     "name": "stderr",
     "output_type": "stream",
     "text": [
      " 35%|███▍      | 72/206 [01:47<03:43,  1.66s/it]"
     ]
    },
    {
     "name": "stdout",
     "output_type": "stream",
     "text": [
      "[0]\tvalidation_0-logloss:0.44252\n",
      "Will train until validation_0-logloss hasn't improved in 100 rounds.\n",
      "[100]\tvalidation_0-logloss:0.04160\n",
      "Stopping. Best iteration:\n",
      "[18]\tvalidation_0-logloss:0.02909\n",
      "\n"
     ]
    },
    {
     "name": "stderr",
     "output_type": "stream",
     "text": [
      " 35%|███▌      | 73/206 [01:49<03:42,  1.67s/it]"
     ]
    },
    {
     "name": "stdout",
     "output_type": "stream",
     "text": [
      "[0]\tvalidation_0-logloss:0.43936\n",
      "Will train until validation_0-logloss hasn't improved in 100 rounds.\n",
      "[100]\tvalidation_0-logloss:0.01537\n",
      "Stopping. Best iteration:\n",
      "[20]\tvalidation_0-logloss:0.01184\n",
      "\n"
     ]
    },
    {
     "name": "stderr",
     "output_type": "stream",
     "text": [
      " 36%|███▌      | 74/206 [01:50<03:29,  1.59s/it]"
     ]
    },
    {
     "name": "stdout",
     "output_type": "stream",
     "text": [
      "[0]\tvalidation_0-logloss:0.43860\n",
      "Will train until validation_0-logloss hasn't improved in 100 rounds.\n",
      "[100]\tvalidation_0-logloss:0.00899\n",
      "Stopping. Best iteration:\n",
      "[23]\tvalidation_0-logloss:0.00737\n",
      "\n"
     ]
    },
    {
     "name": "stderr",
     "output_type": "stream",
     "text": [
      " 36%|███▋      | 75/206 [01:52<03:17,  1.50s/it]"
     ]
    },
    {
     "name": "stdout",
     "output_type": "stream",
     "text": [
      "[0]\tvalidation_0-logloss:0.43784\n",
      "Will train until validation_0-logloss hasn't improved in 100 rounds.\n",
      "[100]\tvalidation_0-logloss:0.00311\n",
      "Stopping. Best iteration:\n",
      "[33]\tvalidation_0-logloss:0.00282\n",
      "\n"
     ]
    },
    {
     "name": "stderr",
     "output_type": "stream",
     "text": [
      " 37%|███▋      | 76/206 [01:53<03:00,  1.39s/it]"
     ]
    },
    {
     "name": "stdout",
     "output_type": "stream",
     "text": [
      "[0]\tvalidation_0-logloss:0.43979\n",
      "Will train until validation_0-logloss hasn't improved in 100 rounds.\n",
      "[100]\tvalidation_0-logloss:0.02137\n",
      "Stopping. Best iteration:\n",
      "[19]\tvalidation_0-logloss:0.01581\n",
      "\n"
     ]
    },
    {
     "name": "stderr",
     "output_type": "stream",
     "text": [
      " 37%|███▋      | 77/206 [01:54<03:01,  1.41s/it]"
     ]
    },
    {
     "name": "stdout",
     "output_type": "stream",
     "text": [
      "[0]\tvalidation_0-logloss:0.45628\n",
      "Will train until validation_0-logloss hasn't improved in 100 rounds.\n",
      "[100]\tvalidation_0-logloss:0.14274\n",
      "Stopping. Best iteration:\n",
      "[13]\tvalidation_0-logloss:0.09257\n",
      "\n"
     ]
    },
    {
     "name": "stderr",
     "output_type": "stream",
     "text": [
      " 38%|███▊      | 78/206 [01:56<03:35,  1.69s/it]"
     ]
    },
    {
     "name": "stdout",
     "output_type": "stream",
     "text": [
      "[0]\tvalidation_0-logloss:0.44320\n",
      "Will train until validation_0-logloss hasn't improved in 100 rounds.\n",
      "[100]\tvalidation_0-logloss:0.05233\n",
      "Stopping. Best iteration:\n",
      "[16]\tvalidation_0-logloss:0.03541\n",
      "\n"
     ]
    },
    {
     "name": "stderr",
     "output_type": "stream",
     "text": [
      " 38%|███▊      | 79/206 [01:58<03:35,  1.70s/it]"
     ]
    },
    {
     "name": "stdout",
     "output_type": "stream",
     "text": [
      "[0]\tvalidation_0-logloss:0.45663\n",
      "Will train until validation_0-logloss hasn't improved in 100 rounds.\n",
      "[100]\tvalidation_0-logloss:0.14410\n",
      "Stopping. Best iteration:\n",
      "[15]\tvalidation_0-logloss:0.09338\n",
      "\n"
     ]
    },
    {
     "name": "stderr",
     "output_type": "stream",
     "text": [
      " 39%|███▉      | 80/206 [02:01<04:06,  1.96s/it]"
     ]
    },
    {
     "name": "stdout",
     "output_type": "stream",
     "text": [
      "[0]\tvalidation_0-logloss:0.44635\n",
      "Will train until validation_0-logloss hasn't improved in 100 rounds.\n",
      "[100]\tvalidation_0-logloss:0.04094\n",
      "Stopping. Best iteration:\n",
      "[25]\tvalidation_0-logloss:0.03706\n",
      "\n"
     ]
    },
    {
     "name": "stderr",
     "output_type": "stream",
     "text": [
      " 39%|███▉      | 81/206 [02:03<04:02,  1.94s/it]"
     ]
    },
    {
     "name": "stdout",
     "output_type": "stream",
     "text": [
      "[0]\tvalidation_0-logloss:0.43784\n",
      "Will train until validation_0-logloss hasn't improved in 100 rounds.\n",
      "[100]\tvalidation_0-logloss:0.00339\n",
      "Stopping. Best iteration:\n",
      "[24]\tvalidation_0-logloss:0.00308\n",
      "\n"
     ]
    },
    {
     "name": "stderr",
     "output_type": "stream",
     "text": [
      " 40%|███▉      | 82/206 [02:04<03:28,  1.68s/it]"
     ]
    },
    {
     "name": "stdout",
     "output_type": "stream",
     "text": [
      "[0]\tvalidation_0-logloss:0.43756\n",
      "Will train until validation_0-logloss hasn't improved in 100 rounds.\n",
      "[100]\tvalidation_0-logloss:0.00005\n",
      "Stopping. Best iteration:\n",
      "[70]\tvalidation_0-logloss:0.00005\n",
      "\n"
     ]
    },
    {
     "name": "stderr",
     "output_type": "stream",
     "text": [
      " 40%|████      | 83/206 [02:05<03:06,  1.52s/it]"
     ]
    },
    {
     "name": "stdout",
     "output_type": "stream",
     "text": [
      "[0]\tvalidation_0-logloss:0.44493\n",
      "Will train until validation_0-logloss hasn't improved in 100 rounds.\n",
      "[100]\tvalidation_0-logloss:0.06341\n",
      "Stopping. Best iteration:\n",
      "[18]\tvalidation_0-logloss:0.04345\n",
      "\n"
     ]
    },
    {
     "name": "stderr",
     "output_type": "stream",
     "text": [
      " 41%|████      | 84/206 [02:07<03:17,  1.62s/it]"
     ]
    },
    {
     "name": "stdout",
     "output_type": "stream",
     "text": [
      "[0]\tvalidation_0-logloss:0.43979\n",
      "Will train until validation_0-logloss hasn't improved in 100 rounds.\n",
      "[100]\tvalidation_0-logloss:0.02209\n",
      "Stopping. Best iteration:\n",
      "[19]\tvalidation_0-logloss:0.01617\n",
      "\n"
     ]
    },
    {
     "name": "stderr",
     "output_type": "stream",
     "text": [
      " 41%|████▏     | 85/206 [02:08<03:09,  1.57s/it]"
     ]
    },
    {
     "name": "stdout",
     "output_type": "stream",
     "text": [
      "[0]\tvalidation_0-logloss:0.43936\n",
      "Will train until validation_0-logloss hasn't improved in 100 rounds.\n",
      "[100]\tvalidation_0-logloss:0.01780\n",
      "Stopping. Best iteration:\n",
      "[20]\tvalidation_0-logloss:0.01274\n",
      "\n"
     ]
    },
    {
     "name": "stderr",
     "output_type": "stream",
     "text": [
      " 42%|████▏     | 86/206 [02:10<03:01,  1.51s/it]"
     ]
    },
    {
     "name": "stdout",
     "output_type": "stream",
     "text": [
      "[0]\tvalidation_0-logloss:0.43844\n",
      "Will train until validation_0-logloss hasn't improved in 100 rounds.\n",
      "[100]\tvalidation_0-logloss:0.00753\n",
      "Stopping. Best iteration:\n",
      "[21]\tvalidation_0-logloss:0.00708\n",
      "\n"
     ]
    },
    {
     "name": "stderr",
     "output_type": "stream",
     "text": [
      " 42%|████▏     | 87/206 [02:11<02:47,  1.41s/it]"
     ]
    },
    {
     "name": "stdout",
     "output_type": "stream",
     "text": [
      "[0]\tvalidation_0-logloss:0.43877\n",
      "Will train until validation_0-logloss hasn't improved in 100 rounds.\n",
      "[100]\tvalidation_0-logloss:0.01259\n",
      "Stopping. Best iteration:\n",
      "[20]\tvalidation_0-logloss:0.01000\n",
      "\n"
     ]
    },
    {
     "name": "stderr",
     "output_type": "stream",
     "text": [
      " 43%|████▎     | 88/206 [02:12<02:44,  1.39s/it]"
     ]
    },
    {
     "name": "stdout",
     "output_type": "stream",
     "text": [
      "[0]\tvalidation_0-logloss:0.43988\n",
      "Will train until validation_0-logloss hasn't improved in 100 rounds.\n",
      "[100]\tvalidation_0-logloss:0.01677\n",
      "Stopping. Best iteration:\n",
      "[18]\tvalidation_0-logloss:0.01315\n",
      "\n"
     ]
    },
    {
     "name": "stderr",
     "output_type": "stream",
     "text": [
      " 43%|████▎     | 89/206 [02:13<02:44,  1.41s/it]"
     ]
    },
    {
     "name": "stdout",
     "output_type": "stream",
     "text": [
      "[0]\tvalidation_0-logloss:0.44655\n",
      "Will train until validation_0-logloss hasn't improved in 100 rounds.\n",
      "[100]\tvalidation_0-logloss:0.03189\n",
      "Stopping. Best iteration:\n",
      "[20]\tvalidation_0-logloss:0.02663\n",
      "\n"
     ]
    },
    {
     "name": "stderr",
     "output_type": "stream",
     "text": [
      " 44%|████▎     | 90/206 [02:15<02:58,  1.54s/it]"
     ]
    },
    {
     "name": "stdout",
     "output_type": "stream",
     "text": [
      "[0]\tvalidation_0-logloss:0.43848\n",
      "Will train until validation_0-logloss hasn't improved in 100 rounds.\n",
      "[100]\tvalidation_0-logloss:0.00712\n",
      "Stopping. Best iteration:\n",
      "[23]\tvalidation_0-logloss:0.00667\n",
      "\n"
     ]
    },
    {
     "name": "stderr",
     "output_type": "stream",
     "text": [
      " 44%|████▍     | 91/206 [02:16<02:42,  1.42s/it]"
     ]
    },
    {
     "name": "stdout",
     "output_type": "stream",
     "text": [
      "[0]\tvalidation_0-logloss:0.43828\n",
      "Will train until validation_0-logloss hasn't improved in 100 rounds.\n",
      "[100]\tvalidation_0-logloss:0.00715\n",
      "Stopping. Best iteration:\n",
      "[23]\tvalidation_0-logloss:0.00574\n",
      "\n"
     ]
    },
    {
     "name": "stderr",
     "output_type": "stream",
     "text": [
      " 45%|████▍     | 92/206 [02:18<02:35,  1.36s/it]"
     ]
    },
    {
     "name": "stdout",
     "output_type": "stream",
     "text": [
      "[0]\tvalidation_0-logloss:0.43856\n",
      "Will train until validation_0-logloss hasn't improved in 100 rounds.\n",
      "[100]\tvalidation_0-logloss:0.01003\n",
      "Stopping. Best iteration:\n",
      "[22]\tvalidation_0-logloss:0.00785\n",
      "\n"
     ]
    },
    {
     "name": "stderr",
     "output_type": "stream",
     "text": [
      " 45%|████▌     | 93/206 [02:19<02:30,  1.33s/it]"
     ]
    },
    {
     "name": "stdout",
     "output_type": "stream",
     "text": [
      "[0]\tvalidation_0-logloss:0.44244\n",
      "Will train until validation_0-logloss hasn't improved in 100 rounds.\n",
      "[100]\tvalidation_0-logloss:0.04082\n",
      "Stopping. Best iteration:\n",
      "[23]\tvalidation_0-logloss:0.02853\n",
      "\n"
     ]
    },
    {
     "name": "stderr",
     "output_type": "stream",
     "text": [
      " 46%|████▌     | 94/206 [02:21<02:40,  1.44s/it]"
     ]
    },
    {
     "name": "stdout",
     "output_type": "stream",
     "text": [
      "[0]\tvalidation_0-logloss:0.44523\n",
      "Will train until validation_0-logloss hasn't improved in 100 rounds.\n",
      "[100]\tvalidation_0-logloss:0.06846\n",
      "Stopping. Best iteration:\n",
      "[17]\tvalidation_0-logloss:0.04394\n",
      "\n"
     ]
    },
    {
     "name": "stderr",
     "output_type": "stream",
     "text": [
      " 46%|████▌     | 95/206 [02:23<03:05,  1.68s/it]"
     ]
    },
    {
     "name": "stdout",
     "output_type": "stream",
     "text": [
      "[0]\tvalidation_0-logloss:0.44014\n",
      "Will train until validation_0-logloss hasn't improved in 100 rounds.\n",
      "[100]\tvalidation_0-logloss:0.01380\n",
      "Stopping. Best iteration:\n",
      "[20]\tvalidation_0-logloss:0.01201\n",
      "\n"
     ]
    },
    {
     "name": "stderr",
     "output_type": "stream",
     "text": [
      " 47%|████▋     | 96/206 [02:24<03:00,  1.65s/it]"
     ]
    },
    {
     "name": "stdout",
     "output_type": "stream",
     "text": [
      "[0]\tvalidation_0-logloss:0.44197\n",
      "Will train until validation_0-logloss hasn't improved in 100 rounds.\n",
      "[100]\tvalidation_0-logloss:0.02472\n",
      "Stopping. Best iteration:\n",
      "[24]\tvalidation_0-logloss:0.02001\n",
      "\n"
     ]
    },
    {
     "name": "stderr",
     "output_type": "stream",
     "text": [
      " 47%|████▋     | 97/206 [02:26<02:57,  1.63s/it]"
     ]
    },
    {
     "name": "stdout",
     "output_type": "stream",
     "text": [
      "[0]\tvalidation_0-logloss:0.43816\n",
      "Will train until validation_0-logloss hasn't improved in 100 rounds.\n",
      "[100]\tvalidation_0-logloss:0.00615\n",
      "Stopping. Best iteration:\n",
      "[25]\tvalidation_0-logloss:0.00512\n",
      "\n"
     ]
    },
    {
     "name": "stderr",
     "output_type": "stream",
     "text": [
      " 48%|████▊     | 98/206 [02:27<02:42,  1.51s/it]"
     ]
    },
    {
     "name": "stdout",
     "output_type": "stream",
     "text": [
      "[0]\tvalidation_0-logloss:0.44105\n",
      "Will train until validation_0-logloss hasn't improved in 100 rounds.\n",
      "[100]\tvalidation_0-logloss:0.03402\n",
      "Stopping. Best iteration:\n",
      "[18]\tvalidation_0-logloss:0.02356\n",
      "\n"
     ]
    },
    {
     "name": "stderr",
     "output_type": "stream",
     "text": [
      " 48%|████▊     | 99/206 [02:29<02:43,  1.53s/it]"
     ]
    },
    {
     "name": "stdout",
     "output_type": "stream",
     "text": [
      "[0]\tvalidation_0-logloss:0.45474\n",
      "Will train until validation_0-logloss hasn't improved in 100 rounds.\n",
      "[100]\tvalidation_0-logloss:0.13084\n",
      "Stopping. Best iteration:\n",
      "[15]\tvalidation_0-logloss:0.08383\n",
      "\n"
     ]
    },
    {
     "name": "stderr",
     "output_type": "stream",
     "text": [
      " 49%|████▊     | 100/206 [02:31<03:05,  1.75s/it]"
     ]
    },
    {
     "name": "stdout",
     "output_type": "stream",
     "text": [
      "[0]\tvalidation_0-logloss:0.43844\n",
      "Will train until validation_0-logloss hasn't improved in 100 rounds.\n",
      "[100]\tvalidation_0-logloss:0.00998\n",
      "Stopping. Best iteration:\n",
      "[22]\tvalidation_0-logloss:0.00780\n",
      "\n"
     ]
    },
    {
     "name": "stderr",
     "output_type": "stream",
     "text": [
      " 49%|████▉     | 101/206 [02:33<02:52,  1.64s/it]"
     ]
    },
    {
     "name": "stdout",
     "output_type": "stream",
     "text": [
      "[0]\tvalidation_0-logloss:0.43997\n",
      "Will train until validation_0-logloss hasn't improved in 100 rounds.\n",
      "[100]\tvalidation_0-logloss:0.02128\n",
      "Stopping. Best iteration:\n",
      "[20]\tvalidation_0-logloss:0.01770\n",
      "\n"
     ]
    },
    {
     "name": "stderr",
     "output_type": "stream",
     "text": [
      " 50%|████▉     | 102/206 [02:34<02:50,  1.64s/it]"
     ]
    },
    {
     "name": "stdout",
     "output_type": "stream",
     "text": [
      "[0]\tvalidation_0-logloss:0.44100\n",
      "Will train until validation_0-logloss hasn't improved in 100 rounds.\n",
      "[100]\tvalidation_0-logloss:0.03148\n",
      "Stopping. Best iteration:\n",
      "[18]\tvalidation_0-logloss:0.02249\n",
      "\n"
     ]
    },
    {
     "name": "stderr",
     "output_type": "stream",
     "text": [
      " 50%|█████     | 103/206 [02:36<02:46,  1.62s/it]"
     ]
    },
    {
     "name": "stdout",
     "output_type": "stream",
     "text": [
      "[0]\tvalidation_0-logloss:0.44067\n",
      "Will train until validation_0-logloss hasn't improved in 100 rounds.\n",
      "[100]\tvalidation_0-logloss:0.01188\n",
      "Stopping. Best iteration:\n",
      "[25]\tvalidation_0-logloss:0.01142\n",
      "\n"
     ]
    },
    {
     "name": "stderr",
     "output_type": "stream",
     "text": [
      " 50%|█████     | 104/206 [02:37<02:41,  1.59s/it]"
     ]
    },
    {
     "name": "stdout",
     "output_type": "stream",
     "text": [
      "[0]\tvalidation_0-logloss:0.44021\n",
      "Will train until validation_0-logloss hasn't improved in 100 rounds.\n",
      "[100]\tvalidation_0-logloss:0.02461\n",
      "Stopping. Best iteration:\n",
      "[19]\tvalidation_0-logloss:0.01782\n",
      "\n"
     ]
    },
    {
     "name": "stderr",
     "output_type": "stream",
     "text": [
      " 51%|█████     | 105/206 [02:39<02:37,  1.56s/it]"
     ]
    },
    {
     "name": "stdout",
     "output_type": "stream",
     "text": [
      "[0]\tvalidation_0-logloss:0.44876\n",
      "Will train until validation_0-logloss hasn't improved in 100 rounds.\n",
      "[100]\tvalidation_0-logloss:0.09246\n",
      "Stopping. Best iteration:\n",
      "[17]\tvalidation_0-logloss:0.06065\n",
      "\n"
     ]
    },
    {
     "name": "stderr",
     "output_type": "stream",
     "text": [
      " 51%|█████▏    | 106/206 [02:41<02:51,  1.71s/it]"
     ]
    },
    {
     "name": "stdout",
     "output_type": "stream",
     "text": [
      "[0]\tvalidation_0-logloss:0.43858\n",
      "Will train until validation_0-logloss hasn't improved in 100 rounds.\n",
      "[100]\tvalidation_0-logloss:0.00649\n",
      "Stopping. Best iteration:\n",
      "[36]\tvalidation_0-logloss:0.00620\n",
      "\n"
     ]
    },
    {
     "name": "stderr",
     "output_type": "stream",
     "text": [
      " 52%|█████▏    | 107/206 [02:42<02:36,  1.58s/it]"
     ]
    },
    {
     "name": "stdout",
     "output_type": "stream",
     "text": [
      "[0]\tvalidation_0-logloss:0.43893\n",
      "Will train until validation_0-logloss hasn't improved in 100 rounds.\n",
      "[100]\tvalidation_0-logloss:0.01180\n",
      "Stopping. Best iteration:\n",
      "[21]\tvalidation_0-logloss:0.00967\n",
      "\n"
     ]
    },
    {
     "name": "stderr",
     "output_type": "stream",
     "text": [
      " 52%|█████▏    | 108/206 [02:43<02:27,  1.50s/it]"
     ]
    },
    {
     "name": "stdout",
     "output_type": "stream",
     "text": [
      "[0]\tvalidation_0-logloss:0.44084\n",
      "Will train until validation_0-logloss hasn't improved in 100 rounds.\n",
      "[100]\tvalidation_0-logloss:0.03049\n",
      "Stopping. Best iteration:\n",
      "[17]\tvalidation_0-logloss:0.02139\n",
      "\n"
     ]
    },
    {
     "name": "stderr",
     "output_type": "stream",
     "text": [
      " 53%|█████▎    | 109/206 [02:45<02:29,  1.54s/it]"
     ]
    },
    {
     "name": "stdout",
     "output_type": "stream",
     "text": [
      "[0]\tvalidation_0-logloss:0.44318\n",
      "Will train until validation_0-logloss hasn't improved in 100 rounds.\n",
      "[100]\tvalidation_0-logloss:0.01780\n",
      "Stopping. Best iteration:\n",
      "[23]\tvalidation_0-logloss:0.01641\n",
      "\n"
     ]
    },
    {
     "name": "stderr",
     "output_type": "stream",
     "text": [
      " 53%|█████▎    | 110/206 [02:47<02:29,  1.55s/it]"
     ]
    },
    {
     "name": "stdout",
     "output_type": "stream",
     "text": [
      "[0]\tvalidation_0-logloss:0.43899\n",
      "Will train until validation_0-logloss hasn't improved in 100 rounds.\n",
      "[100]\tvalidation_0-logloss:0.01014\n",
      "Stopping. Best iteration:\n",
      "[21]\tvalidation_0-logloss:0.00838\n",
      "\n"
     ]
    },
    {
     "name": "stderr",
     "output_type": "stream",
     "text": [
      " 54%|█████▍    | 111/206 [02:48<02:20,  1.48s/it]"
     ]
    },
    {
     "name": "stdout",
     "output_type": "stream",
     "text": [
      "[0]\tvalidation_0-logloss:0.43921\n",
      "Will train until validation_0-logloss hasn't improved in 100 rounds.\n",
      "[100]\tvalidation_0-logloss:0.01009\n",
      "Stopping. Best iteration:\n",
      "[33]\tvalidation_0-logloss:0.00916\n",
      "\n"
     ]
    },
    {
     "name": "stderr",
     "output_type": "stream",
     "text": [
      " 54%|█████▍    | 112/206 [02:49<02:17,  1.46s/it]"
     ]
    },
    {
     "name": "stdout",
     "output_type": "stream",
     "text": [
      "[0]\tvalidation_0-logloss:0.43905\n",
      "Will train until validation_0-logloss hasn't improved in 100 rounds.\n",
      "[100]\tvalidation_0-logloss:0.01056\n",
      "Stopping. Best iteration:\n",
      "[21]\tvalidation_0-logloss:0.00912\n",
      "\n"
     ]
    },
    {
     "name": "stderr",
     "output_type": "stream",
     "text": [
      " 55%|█████▍    | 113/206 [02:51<02:10,  1.40s/it]"
     ]
    },
    {
     "name": "stdout",
     "output_type": "stream",
     "text": [
      "[0]\tvalidation_0-logloss:0.43907\n",
      "Will train until validation_0-logloss hasn't improved in 100 rounds.\n",
      "[100]\tvalidation_0-logloss:0.01659\n",
      "Stopping. Best iteration:\n",
      "[20]\tvalidation_0-logloss:0.01249\n",
      "\n"
     ]
    },
    {
     "name": "stderr",
     "output_type": "stream",
     "text": [
      " 55%|█████▌    | 114/206 [02:52<02:07,  1.39s/it]"
     ]
    },
    {
     "name": "stdout",
     "output_type": "stream",
     "text": [
      "[0]\tvalidation_0-logloss:0.44088\n",
      "Will train until validation_0-logloss hasn't improved in 100 rounds.\n",
      "[100]\tvalidation_0-logloss:0.02785\n",
      "Stopping. Best iteration:\n",
      "[20]\tvalidation_0-logloss:0.01955\n",
      "\n"
     ]
    },
    {
     "name": "stderr",
     "output_type": "stream",
     "text": [
      " 56%|█████▌    | 115/206 [02:54<02:11,  1.45s/it]"
     ]
    },
    {
     "name": "stdout",
     "output_type": "stream",
     "text": [
      "[0]\tvalidation_0-logloss:0.43886\n",
      "Will train until validation_0-logloss hasn't improved in 100 rounds.\n",
      "[100]\tvalidation_0-logloss:0.01213\n",
      "Stopping. Best iteration:\n",
      "[20]\tvalidation_0-logloss:0.00966\n",
      "\n"
     ]
    },
    {
     "name": "stderr",
     "output_type": "stream",
     "text": [
      " 56%|█████▋    | 116/206 [02:55<02:07,  1.42s/it]"
     ]
    },
    {
     "name": "stdout",
     "output_type": "stream",
     "text": [
      "[0]\tvalidation_0-logloss:0.44006\n",
      "Will train until validation_0-logloss hasn't improved in 100 rounds.\n",
      "[100]\tvalidation_0-logloss:0.02363\n",
      "Stopping. Best iteration:\n",
      "[17]\tvalidation_0-logloss:0.01755\n",
      "\n"
     ]
    },
    {
     "name": "stderr",
     "output_type": "stream",
     "text": [
      " 57%|█████▋    | 117/206 [02:56<02:09,  1.45s/it]"
     ]
    },
    {
     "name": "stdout",
     "output_type": "stream",
     "text": [
      "[0]\tvalidation_0-logloss:0.43949\n",
      "Will train until validation_0-logloss hasn't improved in 100 rounds.\n",
      "[100]\tvalidation_0-logloss:0.01988\n",
      "Stopping. Best iteration:\n",
      "[18]\tvalidation_0-logloss:0.01429\n",
      "\n"
     ]
    },
    {
     "name": "stderr",
     "output_type": "stream",
     "text": [
      " 57%|█████▋    | 118/206 [02:58<02:06,  1.44s/it]"
     ]
    },
    {
     "name": "stdout",
     "output_type": "stream",
     "text": [
      "[0]\tvalidation_0-logloss:0.44174\n",
      "Will train until validation_0-logloss hasn't improved in 100 rounds.\n",
      "[100]\tvalidation_0-logloss:0.02263\n",
      "Stopping. Best iteration:\n",
      "[18]\tvalidation_0-logloss:0.01836\n",
      "\n"
     ]
    },
    {
     "name": "stderr",
     "output_type": "stream",
     "text": [
      " 58%|█████▊    | 119/206 [02:59<02:08,  1.47s/it]"
     ]
    },
    {
     "name": "stdout",
     "output_type": "stream",
     "text": [
      "[0]\tvalidation_0-logloss:0.44514\n",
      "Will train until validation_0-logloss hasn't improved in 100 rounds.\n",
      "[100]\tvalidation_0-logloss:0.02343\n",
      "Stopping. Best iteration:\n",
      "[26]\tvalidation_0-logloss:0.02209\n",
      "\n"
     ]
    },
    {
     "name": "stderr",
     "output_type": "stream",
     "text": [
      " 58%|█████▊    | 120/206 [03:01<02:14,  1.57s/it]"
     ]
    },
    {
     "name": "stdout",
     "output_type": "stream",
     "text": [
      "[0]\tvalidation_0-logloss:0.43784\n",
      "Will train until validation_0-logloss hasn't improved in 100 rounds.\n",
      "[100]\tvalidation_0-logloss:0.00312\n",
      "Stopping. Best iteration:\n",
      "[26]\tvalidation_0-logloss:0.00279\n",
      "\n"
     ]
    },
    {
     "name": "stderr",
     "output_type": "stream",
     "text": [
      " 59%|█████▊    | 121/206 [03:02<02:02,  1.45s/it]"
     ]
    },
    {
     "name": "stdout",
     "output_type": "stream",
     "text": [
      "[0]\tvalidation_0-logloss:0.43784\n",
      "Will train until validation_0-logloss hasn't improved in 100 rounds.\n",
      "[100]\tvalidation_0-logloss:0.00291\n",
      "Stopping. Best iteration:\n",
      "[29]\tvalidation_0-logloss:0.00265\n",
      "\n"
     ]
    },
    {
     "name": "stderr",
     "output_type": "stream",
     "text": [
      " 59%|█████▉    | 122/206 [03:03<01:53,  1.35s/it]"
     ]
    },
    {
     "name": "stdout",
     "output_type": "stream",
     "text": [
      "[0]\tvalidation_0-logloss:0.44044\n",
      "Will train until validation_0-logloss hasn't improved in 100 rounds.\n",
      "[100]\tvalidation_0-logloss:0.02752\n",
      "Stopping. Best iteration:\n",
      "[18]\tvalidation_0-logloss:0.02014\n",
      "\n"
     ]
    },
    {
     "name": "stderr",
     "output_type": "stream",
     "text": [
      " 60%|█████▉    | 123/206 [03:05<01:57,  1.42s/it]"
     ]
    },
    {
     "name": "stdout",
     "output_type": "stream",
     "text": [
      "[0]\tvalidation_0-logloss:0.43814\n",
      "Will train until validation_0-logloss hasn't improved in 100 rounds.\n",
      "[100]\tvalidation_0-logloss:0.00734\n",
      "Stopping. Best iteration:\n",
      "[22]\tvalidation_0-logloss:0.00576\n",
      "\n"
     ]
    },
    {
     "name": "stderr",
     "output_type": "stream",
     "text": [
      " 60%|██████    | 124/206 [03:06<01:52,  1.37s/it]"
     ]
    },
    {
     "name": "stdout",
     "output_type": "stream",
     "text": [
      "[0]\tvalidation_0-logloss:0.44025\n",
      "Will train until validation_0-logloss hasn't improved in 100 rounds.\n",
      "[100]\tvalidation_0-logloss:0.02604\n",
      "Stopping. Best iteration:\n",
      "[19]\tvalidation_0-logloss:0.01842\n",
      "\n"
     ]
    },
    {
     "name": "stderr",
     "output_type": "stream",
     "text": [
      " 61%|██████    | 125/206 [03:08<01:57,  1.45s/it]"
     ]
    },
    {
     "name": "stdout",
     "output_type": "stream",
     "text": [
      "[0]\tvalidation_0-logloss:0.43784\n",
      "Will train until validation_0-logloss hasn't improved in 100 rounds.\n",
      "[100]\tvalidation_0-logloss:0.00256\n",
      "Stopping. Best iteration:\n",
      "[27]\tvalidation_0-logloss:0.00234\n",
      "\n"
     ]
    },
    {
     "name": "stderr",
     "output_type": "stream",
     "text": [
      " 61%|██████    | 126/206 [03:09<01:47,  1.34s/it]"
     ]
    },
    {
     "name": "stdout",
     "output_type": "stream",
     "text": [
      "[0]\tvalidation_0-logloss:0.43858\n",
      "Will train until validation_0-logloss hasn't improved in 100 rounds.\n",
      "[100]\tvalidation_0-logloss:0.00468\n",
      "Stopping. Best iteration:\n",
      "[25]\tvalidation_0-logloss:0.00453\n",
      "\n"
     ]
    },
    {
     "name": "stderr",
     "output_type": "stream",
     "text": [
      " 62%|██████▏   | 127/206 [03:10<01:43,  1.31s/it]"
     ]
    },
    {
     "name": "stdout",
     "output_type": "stream",
     "text": [
      "[0]\tvalidation_0-logloss:0.44014\n",
      "Will train until validation_0-logloss hasn't improved in 100 rounds.\n",
      "[100]\tvalidation_0-logloss:0.02200\n",
      "Stopping. Best iteration:\n",
      "[19]\tvalidation_0-logloss:0.01633\n",
      "\n"
     ]
    },
    {
     "name": "stderr",
     "output_type": "stream",
     "text": [
      " 62%|██████▏   | 128/206 [03:12<01:42,  1.32s/it]"
     ]
    },
    {
     "name": "stdout",
     "output_type": "stream",
     "text": [
      "[0]\tvalidation_0-logloss:0.44095\n",
      "Will train until validation_0-logloss hasn't improved in 100 rounds.\n",
      "[100]\tvalidation_0-logloss:0.03233\n",
      "Stopping. Best iteration:\n",
      "[17]\tvalidation_0-logloss:0.02206\n",
      "\n"
     ]
    },
    {
     "name": "stderr",
     "output_type": "stream",
     "text": [
      " 63%|██████▎   | 129/206 [03:13<01:47,  1.40s/it]"
     ]
    },
    {
     "name": "stdout",
     "output_type": "stream",
     "text": [
      "[0]\tvalidation_0-logloss:0.43877\n",
      "Will train until validation_0-logloss hasn't improved in 100 rounds.\n",
      "[100]\tvalidation_0-logloss:0.01268\n",
      "Stopping. Best iteration:\n",
      "[22]\tvalidation_0-logloss:0.00967\n",
      "\n"
     ]
    },
    {
     "name": "stderr",
     "output_type": "stream",
     "text": [
      " 63%|██████▎   | 130/206 [03:14<01:43,  1.36s/it]"
     ]
    },
    {
     "name": "stdout",
     "output_type": "stream",
     "text": [
      "[0]\tvalidation_0-logloss:0.43814\n",
      "Will train until validation_0-logloss hasn't improved in 100 rounds.\n",
      "[100]\tvalidation_0-logloss:0.00716\n",
      "Stopping. Best iteration:\n",
      "[22]\tvalidation_0-logloss:0.00564\n",
      "\n"
     ]
    },
    {
     "name": "stderr",
     "output_type": "stream",
     "text": [
      " 64%|██████▎   | 131/206 [03:16<01:37,  1.30s/it]"
     ]
    },
    {
     "name": "stdout",
     "output_type": "stream",
     "text": [
      "[0]\tvalidation_0-logloss:0.44163\n",
      "Will train until validation_0-logloss hasn't improved in 100 rounds.\n",
      "[100]\tvalidation_0-logloss:0.03859\n",
      "Stopping. Best iteration:\n",
      "[18]\tvalidation_0-logloss:0.02634\n",
      "\n"
     ]
    },
    {
     "name": "stderr",
     "output_type": "stream",
     "text": [
      " 64%|██████▍   | 132/206 [03:17<01:42,  1.39s/it]"
     ]
    },
    {
     "name": "stdout",
     "output_type": "stream",
     "text": [
      "[0]\tvalidation_0-logloss:0.43844\n",
      "Will train until validation_0-logloss hasn't improved in 100 rounds.\n",
      "[100]\tvalidation_0-logloss:0.00811\n",
      "Stopping. Best iteration:\n",
      "[22]\tvalidation_0-logloss:0.00721\n",
      "\n"
     ]
    },
    {
     "name": "stderr",
     "output_type": "stream",
     "text": [
      " 65%|██████▍   | 133/206 [03:19<01:39,  1.37s/it]"
     ]
    },
    {
     "name": "stdout",
     "output_type": "stream",
     "text": [
      "[0]\tvalidation_0-logloss:0.44240\n",
      "Will train until validation_0-logloss hasn't improved in 100 rounds.\n",
      "[100]\tvalidation_0-logloss:0.03168\n",
      "Stopping. Best iteration:\n",
      "[17]\tvalidation_0-logloss:0.02306\n",
      "\n"
     ]
    },
    {
     "name": "stderr",
     "output_type": "stream",
     "text": [
      " 65%|██████▌   | 134/206 [03:20<01:42,  1.43s/it]"
     ]
    },
    {
     "name": "stdout",
     "output_type": "stream",
     "text": [
      "[0]\tvalidation_0-logloss:0.43979\n",
      "Will train until validation_0-logloss hasn't improved in 100 rounds.\n",
      "[100]\tvalidation_0-logloss:0.02108\n",
      "Stopping. Best iteration:\n",
      "[18]\tvalidation_0-logloss:0.01578\n",
      "\n"
     ]
    },
    {
     "name": "stderr",
     "output_type": "stream",
     "text": [
      " 66%|██████▌   | 135/206 [03:22<01:41,  1.43s/it]"
     ]
    },
    {
     "name": "stdout",
     "output_type": "stream",
     "text": [
      "[0]\tvalidation_0-logloss:0.43938\n",
      "Will train until validation_0-logloss hasn't improved in 100 rounds.\n",
      "[100]\tvalidation_0-logloss:0.01756\n",
      "Stopping. Best iteration:\n",
      "[21]\tvalidation_0-logloss:0.01337\n",
      "\n"
     ]
    },
    {
     "name": "stderr",
     "output_type": "stream",
     "text": [
      " 66%|██████▌   | 136/206 [03:23<01:42,  1.47s/it]"
     ]
    },
    {
     "name": "stdout",
     "output_type": "stream",
     "text": [
      "[0]\tvalidation_0-logloss:0.44387\n",
      "Will train until validation_0-logloss hasn't improved in 100 rounds.\n",
      "[100]\tvalidation_0-logloss:0.04715\n",
      "Stopping. Best iteration:\n",
      "[19]\tvalidation_0-logloss:0.03164\n",
      "\n"
     ]
    },
    {
     "name": "stderr",
     "output_type": "stream",
     "text": [
      " 67%|██████▋   | 137/206 [03:25<01:49,  1.59s/it]"
     ]
    },
    {
     "name": "stdout",
     "output_type": "stream",
     "text": [
      "[0]\tvalidation_0-logloss:0.43784\n",
      "Will train until validation_0-logloss hasn't improved in 100 rounds.\n",
      "[100]\tvalidation_0-logloss:0.00355\n",
      "Stopping. Best iteration:\n",
      "[25]\tvalidation_0-logloss:0.00307\n",
      "\n"
     ]
    },
    {
     "name": "stderr",
     "output_type": "stream",
     "text": [
      " 67%|██████▋   | 138/206 [03:26<01:38,  1.44s/it]"
     ]
    },
    {
     "name": "stdout",
     "output_type": "stream",
     "text": [
      "[0]\tvalidation_0-logloss:0.43863\n",
      "Will train until validation_0-logloss hasn't improved in 100 rounds.\n",
      "[100]\tvalidation_0-logloss:0.00934\n",
      "Stopping. Best iteration:\n",
      "[23]\tvalidation_0-logloss:0.00759\n",
      "\n"
     ]
    },
    {
     "name": "stderr",
     "output_type": "stream",
     "text": [
      " 67%|██████▋   | 139/206 [03:27<01:34,  1.40s/it]"
     ]
    },
    {
     "name": "stdout",
     "output_type": "stream",
     "text": [
      "[0]\tvalidation_0-logloss:0.43814\n",
      "Will train until validation_0-logloss hasn't improved in 100 rounds.\n",
      "[100]\tvalidation_0-logloss:0.00541\n",
      "Stopping. Best iteration:\n",
      "[24]\tvalidation_0-logloss:0.00471\n",
      "\n"
     ]
    },
    {
     "name": "stderr",
     "output_type": "stream",
     "text": [
      " 68%|██████▊   | 140/206 [03:29<01:28,  1.34s/it]"
     ]
    },
    {
     "name": "stdout",
     "output_type": "stream",
     "text": [
      "[0]\tvalidation_0-logloss:0.43879\n",
      "Will train until validation_0-logloss hasn't improved in 100 rounds.\n",
      "[100]\tvalidation_0-logloss:0.01365\n",
      "Stopping. Best iteration:\n",
      "[20]\tvalidation_0-logloss:0.01002\n",
      "\n"
     ]
    },
    {
     "name": "stderr",
     "output_type": "stream",
     "text": [
      " 68%|██████▊   | 141/206 [03:30<01:29,  1.38s/it]"
     ]
    },
    {
     "name": "stdout",
     "output_type": "stream",
     "text": [
      "[0]\tvalidation_0-logloss:0.43786\n",
      "Will train until validation_0-logloss hasn't improved in 100 rounds.\n",
      "[100]\tvalidation_0-logloss:0.00367\n",
      "Stopping. Best iteration:\n",
      "[24]\tvalidation_0-logloss:0.00306\n",
      "\n"
     ]
    },
    {
     "name": "stderr",
     "output_type": "stream",
     "text": [
      " 69%|██████▉   | 142/206 [03:31<01:23,  1.31s/it]"
     ]
    },
    {
     "name": "stdout",
     "output_type": "stream",
     "text": [
      "[0]\tvalidation_0-logloss:0.43842\n",
      "Will train until validation_0-logloss hasn't improved in 100 rounds.\n",
      "[100]\tvalidation_0-logloss:0.00740\n",
      "Stopping. Best iteration:\n",
      "[22]\tvalidation_0-logloss:0.00674\n",
      "\n"
     ]
    },
    {
     "name": "stderr",
     "output_type": "stream",
     "text": [
      " 69%|██████▉   | 143/206 [03:32<01:20,  1.28s/it]"
     ]
    },
    {
     "name": "stdout",
     "output_type": "stream",
     "text": [
      "[0]\tvalidation_0-logloss:0.44042\n",
      "Will train until validation_0-logloss hasn't improved in 100 rounds.\n",
      "[100]\tvalidation_0-logloss:0.02874\n",
      "Stopping. Best iteration:\n",
      "[19]\tvalidation_0-logloss:0.02080\n",
      "\n"
     ]
    },
    {
     "name": "stderr",
     "output_type": "stream",
     "text": [
      " 70%|██████▉   | 144/206 [03:34<01:25,  1.38s/it]"
     ]
    },
    {
     "name": "stdout",
     "output_type": "stream",
     "text": [
      "[0]\tvalidation_0-logloss:0.44202\n",
      "Will train until validation_0-logloss hasn't improved in 100 rounds.\n",
      "[100]\tvalidation_0-logloss:0.03736\n",
      "Stopping. Best iteration:\n",
      "[24]\tvalidation_0-logloss:0.02805\n",
      "\n"
     ]
    },
    {
     "name": "stderr",
     "output_type": "stream",
     "text": [
      " 70%|███████   | 145/206 [03:36<01:30,  1.48s/it]"
     ]
    },
    {
     "name": "stdout",
     "output_type": "stream",
     "text": [
      "[0]\tvalidation_0-logloss:0.43921\n",
      "Will train until validation_0-logloss hasn't improved in 100 rounds.\n",
      "[100]\tvalidation_0-logloss:0.01634\n",
      "Stopping. Best iteration:\n",
      "[20]\tvalidation_0-logloss:0.01119\n",
      "\n"
     ]
    },
    {
     "name": "stderr",
     "output_type": "stream",
     "text": [
      " 71%|███████   | 146/206 [03:37<01:29,  1.49s/it]"
     ]
    },
    {
     "name": "stdout",
     "output_type": "stream",
     "text": [
      "[0]\tvalidation_0-logloss:0.44013\n",
      "Will train until validation_0-logloss hasn't improved in 100 rounds.\n",
      "[100]\tvalidation_0-logloss:0.01613\n",
      "Stopping. Best iteration:\n",
      "[20]\tvalidation_0-logloss:0.01383\n",
      "\n"
     ]
    },
    {
     "name": "stderr",
     "output_type": "stream",
     "text": [
      " 71%|███████▏  | 147/206 [03:39<01:27,  1.49s/it]"
     ]
    },
    {
     "name": "stdout",
     "output_type": "stream",
     "text": [
      "[0]\tvalidation_0-logloss:0.43858\n",
      "Will train until validation_0-logloss hasn't improved in 100 rounds.\n",
      "[100]\tvalidation_0-logloss:0.01053\n",
      "Stopping. Best iteration:\n",
      "[21]\tvalidation_0-logloss:0.00810\n",
      "\n"
     ]
    },
    {
     "name": "stderr",
     "output_type": "stream",
     "text": [
      " 72%|███████▏  | 148/206 [03:40<01:24,  1.45s/it]"
     ]
    },
    {
     "name": "stdout",
     "output_type": "stream",
     "text": [
      "[0]\tvalidation_0-logloss:0.44025\n",
      "Will train until validation_0-logloss hasn't improved in 100 rounds.\n",
      "[100]\tvalidation_0-logloss:0.02435\n",
      "Stopping. Best iteration:\n",
      "[19]\tvalidation_0-logloss:0.01800\n",
      "\n"
     ]
    },
    {
     "name": "stderr",
     "output_type": "stream",
     "text": [
      " 72%|███████▏  | 149/206 [03:42<01:24,  1.48s/it]"
     ]
    },
    {
     "name": "stdout",
     "output_type": "stream",
     "text": [
      "[0]\tvalidation_0-logloss:0.44518\n",
      "Will train until validation_0-logloss hasn't improved in 100 rounds.\n",
      "[100]\tvalidation_0-logloss:0.03016\n",
      "Stopping. Best iteration:\n",
      "[21]\tvalidation_0-logloss:0.02613\n",
      "\n"
     ]
    },
    {
     "name": "stderr",
     "output_type": "stream",
     "text": [
      " 73%|███████▎  | 150/206 [03:43<01:28,  1.57s/it]"
     ]
    },
    {
     "name": "stdout",
     "output_type": "stream",
     "text": [
      "[0]\tvalidation_0-logloss:0.43828\n",
      "Will train until validation_0-logloss hasn't improved in 100 rounds.\n",
      "[100]\tvalidation_0-logloss:0.00589\n",
      "Stopping. Best iteration:\n",
      "[22]\tvalidation_0-logloss:0.00498\n",
      "\n"
     ]
    },
    {
     "name": "stderr",
     "output_type": "stream",
     "text": [
      " 73%|███████▎  | 151/206 [03:45<01:21,  1.47s/it]"
     ]
    },
    {
     "name": "stdout",
     "output_type": "stream",
     "text": [
      "[0]\tvalidation_0-logloss:0.44976\n",
      "Will train until validation_0-logloss hasn't improved in 100 rounds.\n",
      "[100]\tvalidation_0-logloss:0.10202\n",
      "Stopping. Best iteration:\n",
      "[16]\tvalidation_0-logloss:0.06430\n",
      "\n"
     ]
    },
    {
     "name": "stderr",
     "output_type": "stream",
     "text": [
      " 74%|███████▍  | 152/206 [03:47<01:30,  1.67s/it]"
     ]
    },
    {
     "name": "stdout",
     "output_type": "stream",
     "text": [
      "[0]\tvalidation_0-logloss:0.43860\n",
      "Will train until validation_0-logloss hasn't improved in 100 rounds.\n",
      "[100]\tvalidation_0-logloss:0.00856\n",
      "Stopping. Best iteration:\n",
      "[24]\tvalidation_0-logloss:0.00732\n",
      "\n"
     ]
    },
    {
     "name": "stderr",
     "output_type": "stream",
     "text": [
      " 74%|███████▍  | 153/206 [03:48<01:22,  1.56s/it]"
     ]
    },
    {
     "name": "stdout",
     "output_type": "stream",
     "text": [
      "[0]\tvalidation_0-logloss:0.44425\n",
      "Will train until validation_0-logloss hasn't improved in 100 rounds.\n",
      "[100]\tvalidation_0-logloss:0.03839\n",
      "Stopping. Best iteration:\n",
      "[19]\tvalidation_0-logloss:0.02950\n",
      "\n"
     ]
    },
    {
     "name": "stderr",
     "output_type": "stream",
     "text": [
      " 75%|███████▍  | 154/206 [03:50<01:24,  1.62s/it]"
     ]
    },
    {
     "name": "stdout",
     "output_type": "stream",
     "text": [
      "[0]\tvalidation_0-logloss:0.43900\n",
      "Will train until validation_0-logloss hasn't improved in 100 rounds.\n",
      "[100]\tvalidation_0-logloss:0.01121\n",
      "Stopping. Best iteration:\n",
      "[21]\tvalidation_0-logloss:0.00989\n",
      "\n"
     ]
    },
    {
     "name": "stderr",
     "output_type": "stream",
     "text": [
      " 75%|███████▌  | 155/206 [03:51<01:19,  1.56s/it]"
     ]
    },
    {
     "name": "stdout",
     "output_type": "stream",
     "text": [
      "[0]\tvalidation_0-logloss:0.44012\n",
      "Will train until validation_0-logloss hasn't improved in 100 rounds.\n",
      "[100]\tvalidation_0-logloss:0.02430\n",
      "Stopping. Best iteration:\n",
      "[18]\tvalidation_0-logloss:0.01765\n",
      "\n"
     ]
    },
    {
     "name": "stderr",
     "output_type": "stream",
     "text": [
      " 76%|███████▌  | 156/206 [03:53<01:17,  1.54s/it]"
     ]
    },
    {
     "name": "stdout",
     "output_type": "stream",
     "text": [
      "[0]\tvalidation_0-logloss:0.44218\n",
      "Will train until validation_0-logloss hasn't improved in 100 rounds.\n",
      "[100]\tvalidation_0-logloss:0.04269\n",
      "Stopping. Best iteration:\n",
      "[16]\tvalidation_0-logloss:0.02890\n",
      "\n"
     ]
    },
    {
     "name": "stderr",
     "output_type": "stream",
     "text": [
      " 76%|███████▌  | 157/206 [03:54<01:17,  1.58s/it]"
     ]
    },
    {
     "name": "stdout",
     "output_type": "stream",
     "text": [
      "[0]\tvalidation_0-logloss:0.44246\n",
      "Will train until validation_0-logloss hasn't improved in 100 rounds.\n",
      "[100]\tvalidation_0-logloss:0.03308\n",
      "Stopping. Best iteration:\n",
      "[19]\tvalidation_0-logloss:0.02496\n",
      "\n"
     ]
    },
    {
     "name": "stderr",
     "output_type": "stream",
     "text": [
      " 77%|███████▋  | 158/206 [03:56<01:17,  1.62s/it]"
     ]
    },
    {
     "name": "stdout",
     "output_type": "stream",
     "text": [
      "[0]\tvalidation_0-logloss:0.43886\n",
      "Will train until validation_0-logloss hasn't improved in 100 rounds.\n",
      "[100]\tvalidation_0-logloss:0.01305\n",
      "Stopping. Best iteration:\n",
      "[20]\tvalidation_0-logloss:0.00996\n",
      "\n"
     ]
    },
    {
     "name": "stderr",
     "output_type": "stream",
     "text": [
      " 77%|███████▋  | 159/206 [03:57<01:11,  1.53s/it]"
     ]
    },
    {
     "name": "stdout",
     "output_type": "stream",
     "text": [
      "[0]\tvalidation_0-logloss:0.44306\n",
      "Will train until validation_0-logloss hasn't improved in 100 rounds.\n",
      "[100]\tvalidation_0-logloss:0.04420\n",
      "Stopping. Best iteration:\n",
      "[17]\tvalidation_0-logloss:0.03225\n",
      "\n"
     ]
    },
    {
     "name": "stderr",
     "output_type": "stream",
     "text": [
      " 78%|███████▊  | 160/206 [03:59<01:13,  1.60s/it]"
     ]
    },
    {
     "name": "stdout",
     "output_type": "stream",
     "text": [
      "[0]\tvalidation_0-logloss:0.43828\n",
      "Will train until validation_0-logloss hasn't improved in 100 rounds.\n",
      "[100]\tvalidation_0-logloss:0.00440\n",
      "Stopping. Best iteration:\n",
      "[30]\tvalidation_0-logloss:0.00386\n",
      "\n"
     ]
    },
    {
     "name": "stderr",
     "output_type": "stream",
     "text": [
      " 78%|███████▊  | 161/206 [04:00<01:07,  1.49s/it]"
     ]
    },
    {
     "name": "stdout",
     "output_type": "stream",
     "text": [
      "[0]\tvalidation_0-logloss:0.43919\n",
      "Will train until validation_0-logloss hasn't improved in 100 rounds.\n",
      "[100]\tvalidation_0-logloss:0.01473\n",
      "Stopping. Best iteration:\n",
      "[22]\tvalidation_0-logloss:0.01135\n",
      "\n"
     ]
    },
    {
     "name": "stderr",
     "output_type": "stream",
     "text": [
      " 79%|███████▊  | 162/206 [04:02<01:05,  1.50s/it]"
     ]
    },
    {
     "name": "stdout",
     "output_type": "stream",
     "text": [
      "[0]\tvalidation_0-logloss:0.44153\n",
      "Will train until validation_0-logloss hasn't improved in 100 rounds.\n",
      "[100]\tvalidation_0-logloss:0.03783\n",
      "Stopping. Best iteration:\n",
      "[16]\tvalidation_0-logloss:0.02633\n",
      "\n"
     ]
    },
    {
     "name": "stderr",
     "output_type": "stream",
     "text": [
      " 79%|███████▉  | 163/206 [04:04<01:06,  1.54s/it]"
     ]
    },
    {
     "name": "stdout",
     "output_type": "stream",
     "text": [
      "[0]\tvalidation_0-logloss:0.43920\n",
      "Will train until validation_0-logloss hasn't improved in 100 rounds.\n",
      "[100]\tvalidation_0-logloss:0.00325\n",
      "Stopping. Best iteration:\n",
      "[48]\tvalidation_0-logloss:0.00325\n",
      "\n"
     ]
    },
    {
     "name": "stderr",
     "output_type": "stream",
     "text": [
      " 80%|███████▉  | 164/206 [04:05<01:01,  1.46s/it]"
     ]
    },
    {
     "name": "stdout",
     "output_type": "stream",
     "text": [
      "[0]\tvalidation_0-logloss:0.43983\n",
      "Will train until validation_0-logloss hasn't improved in 100 rounds.\n",
      "[100]\tvalidation_0-logloss:0.02365\n",
      "Stopping. Best iteration:\n",
      "[19]\tvalidation_0-logloss:0.01644\n",
      "\n"
     ]
    },
    {
     "name": "stderr",
     "output_type": "stream",
     "text": [
      " 80%|████████  | 165/206 [04:06<01:00,  1.47s/it]"
     ]
    },
    {
     "name": "stdout",
     "output_type": "stream",
     "text": [
      "[0]\tvalidation_0-logloss:0.43784\n",
      "Will train until validation_0-logloss hasn't improved in 100 rounds.\n",
      "[100]\tvalidation_0-logloss:0.00266\n",
      "Stopping. Best iteration:\n",
      "[24]\tvalidation_0-logloss:0.00243\n",
      "\n"
     ]
    },
    {
     "name": "stderr",
     "output_type": "stream",
     "text": [
      " 81%|████████  | 166/206 [04:07<00:54,  1.36s/it]"
     ]
    },
    {
     "name": "stdout",
     "output_type": "stream",
     "text": [
      "[0]\tvalidation_0-logloss:0.44223\n",
      "Will train until validation_0-logloss hasn't improved in 100 rounds.\n",
      "[100]\tvalidation_0-logloss:0.03965\n",
      "Stopping. Best iteration:\n",
      "[18]\tvalidation_0-logloss:0.02734\n",
      "\n"
     ]
    },
    {
     "name": "stderr",
     "output_type": "stream",
     "text": [
      " 81%|████████  | 167/206 [04:09<00:57,  1.49s/it]"
     ]
    },
    {
     "name": "stdout",
     "output_type": "stream",
     "text": [
      "[0]\tvalidation_0-logloss:0.43847\n",
      "Will train until validation_0-logloss hasn't improved in 100 rounds.\n",
      "[100]\tvalidation_0-logloss:0.00968\n",
      "Stopping. Best iteration:\n",
      "[23]\tvalidation_0-logloss:0.00754\n",
      "\n"
     ]
    },
    {
     "name": "stderr",
     "output_type": "stream",
     "text": [
      " 82%|████████▏ | 168/206 [04:10<00:53,  1.41s/it]"
     ]
    },
    {
     "name": "stdout",
     "output_type": "stream",
     "text": [
      "[0]\tvalidation_0-logloss:0.44014\n",
      "Will train until validation_0-logloss hasn't improved in 100 rounds.\n",
      "[100]\tvalidation_0-logloss:0.02688\n",
      "Stopping. Best iteration:\n",
      "[19]\tvalidation_0-logloss:0.01867\n",
      "\n"
     ]
    },
    {
     "name": "stderr",
     "output_type": "stream",
     "text": [
      " 82%|████████▏ | 169/206 [04:12<00:53,  1.44s/it]"
     ]
    },
    {
     "name": "stdout",
     "output_type": "stream",
     "text": [
      "[0]\tvalidation_0-logloss:0.44013\n",
      "Will train until validation_0-logloss hasn't improved in 100 rounds.\n",
      "[100]\tvalidation_0-logloss:0.01188\n",
      "Stopping. Best iteration:\n",
      "[68]\tvalidation_0-logloss:0.01162\n",
      "\n"
     ]
    },
    {
     "name": "stderr",
     "output_type": "stream",
     "text": [
      " 83%|████████▎ | 170/206 [04:14<00:54,  1.50s/it]"
     ]
    },
    {
     "name": "stdout",
     "output_type": "stream",
     "text": [
      "[0]\tvalidation_0-logloss:0.43814\n",
      "Will train until validation_0-logloss hasn't improved in 100 rounds.\n",
      "[100]\tvalidation_0-logloss:0.00695\n",
      "Stopping. Best iteration:\n",
      "[22]\tvalidation_0-logloss:0.00524\n",
      "\n"
     ]
    },
    {
     "name": "stderr",
     "output_type": "stream",
     "text": [
      " 83%|████████▎ | 171/206 [04:15<00:48,  1.40s/it]"
     ]
    },
    {
     "name": "stdout",
     "output_type": "stream",
     "text": [
      "[0]\tvalidation_0-logloss:0.43986\n",
      "Will train until validation_0-logloss hasn't improved in 100 rounds.\n",
      "[100]\tvalidation_0-logloss:0.01759\n",
      "Stopping. Best iteration:\n",
      "[21]\tvalidation_0-logloss:0.01383\n",
      "\n"
     ]
    },
    {
     "name": "stderr",
     "output_type": "stream",
     "text": [
      " 83%|████████▎ | 172/206 [04:16<00:48,  1.43s/it]"
     ]
    },
    {
     "name": "stdout",
     "output_type": "stream",
     "text": [
      "[0]\tvalidation_0-logloss:0.43767\n",
      "Will train until validation_0-logloss hasn't improved in 100 rounds.\n",
      "[100]\tvalidation_0-logloss:0.00006\n",
      "Stopping. Best iteration:\n",
      "[52]\tvalidation_0-logloss:0.00006\n",
      "\n"
     ]
    },
    {
     "name": "stderr",
     "output_type": "stream",
     "text": [
      " 84%|████████▍ | 173/206 [04:17<00:44,  1.36s/it]"
     ]
    },
    {
     "name": "stdout",
     "output_type": "stream",
     "text": [
      "[0]\tvalidation_0-logloss:0.43917\n",
      "Will train until validation_0-logloss hasn't improved in 100 rounds.\n",
      "[100]\tvalidation_0-logloss:0.01243\n",
      "Stopping. Best iteration:\n",
      "[23]\tvalidation_0-logloss:0.01091\n",
      "\n"
     ]
    },
    {
     "name": "stderr",
     "output_type": "stream",
     "text": [
      " 84%|████████▍ | 174/206 [04:19<00:43,  1.35s/it]"
     ]
    },
    {
     "name": "stdout",
     "output_type": "stream",
     "text": [
      "[0]\tvalidation_0-logloss:0.43936\n",
      "Will train until validation_0-logloss hasn't improved in 100 rounds.\n",
      "[100]\tvalidation_0-logloss:0.00809\n",
      "Stopping. Best iteration:\n",
      "[27]\tvalidation_0-logloss:0.00750\n",
      "\n"
     ]
    },
    {
     "name": "stderr",
     "output_type": "stream",
     "text": [
      " 85%|████████▍ | 175/206 [04:20<00:42,  1.36s/it]"
     ]
    },
    {
     "name": "stdout",
     "output_type": "stream",
     "text": [
      "[0]\tvalidation_0-logloss:0.43877\n",
      "Will train until validation_0-logloss hasn't improved in 100 rounds.\n",
      "[100]\tvalidation_0-logloss:0.01252\n",
      "Stopping. Best iteration:\n",
      "[20]\tvalidation_0-logloss:0.01007\n",
      "\n"
     ]
    },
    {
     "name": "stderr",
     "output_type": "stream",
     "text": [
      " 85%|████████▌ | 176/206 [04:21<00:40,  1.34s/it]"
     ]
    },
    {
     "name": "stdout",
     "output_type": "stream",
     "text": [
      "[0]\tvalidation_0-logloss:0.44848\n",
      "Will train until validation_0-logloss hasn't improved in 100 rounds.\n",
      "[100]\tvalidation_0-logloss:0.09394\n",
      "Stopping. Best iteration:\n",
      "[14]\tvalidation_0-logloss:0.06014\n",
      "\n"
     ]
    },
    {
     "name": "stderr",
     "output_type": "stream",
     "text": [
      " 86%|████████▌ | 177/206 [04:24<00:45,  1.58s/it]"
     ]
    },
    {
     "name": "stdout",
     "output_type": "stream",
     "text": [
      "[0]\tvalidation_0-logloss:0.45637\n",
      "Will train until validation_0-logloss hasn't improved in 100 rounds.\n",
      "[100]\tvalidation_0-logloss:0.14156\n",
      "Stopping. Best iteration:\n",
      "[16]\tvalidation_0-logloss:0.09297\n",
      "\n"
     ]
    },
    {
     "name": "stderr",
     "output_type": "stream",
     "text": [
      " 86%|████████▋ | 178/206 [04:26<00:51,  1.84s/it]"
     ]
    },
    {
     "name": "stdout",
     "output_type": "stream",
     "text": [
      "[0]\tvalidation_0-logloss:0.43970\n",
      "Will train until validation_0-logloss hasn't improved in 100 rounds.\n",
      "[100]\tvalidation_0-logloss:0.02271\n",
      "Stopping. Best iteration:\n",
      "[19]\tvalidation_0-logloss:0.01562\n",
      "\n"
     ]
    },
    {
     "name": "stderr",
     "output_type": "stream",
     "text": [
      " 87%|████████▋ | 179/206 [04:28<00:46,  1.74s/it]"
     ]
    },
    {
     "name": "stdout",
     "output_type": "stream",
     "text": [
      "[0]\tvalidation_0-logloss:0.43919\n",
      "Will train until validation_0-logloss hasn't improved in 100 rounds.\n",
      "[100]\tvalidation_0-logloss:0.01660\n",
      "Stopping. Best iteration:\n",
      "[20]\tvalidation_0-logloss:0.01213\n",
      "\n"
     ]
    },
    {
     "name": "stderr",
     "output_type": "stream",
     "text": [
      " 87%|████████▋ | 180/206 [04:29<00:42,  1.64s/it]"
     ]
    },
    {
     "name": "stdout",
     "output_type": "stream",
     "text": [
      "[0]\tvalidation_0-logloss:0.43936\n",
      "Will train until validation_0-logloss hasn't improved in 100 rounds.\n",
      "[100]\tvalidation_0-logloss:0.01846\n",
      "Stopping. Best iteration:\n",
      "[20]\tvalidation_0-logloss:0.01422\n",
      "\n"
     ]
    },
    {
     "name": "stderr",
     "output_type": "stream",
     "text": [
      " 88%|████████▊ | 181/206 [04:30<00:39,  1.56s/it]"
     ]
    },
    {
     "name": "stdout",
     "output_type": "stream",
     "text": [
      "[0]\tvalidation_0-logloss:0.43864\n",
      "Will train until validation_0-logloss hasn't improved in 100 rounds.\n",
      "[100]\tvalidation_0-logloss:0.00939\n",
      "Stopping. Best iteration:\n",
      "[22]\tvalidation_0-logloss:0.00736\n",
      "\n"
     ]
    },
    {
     "name": "stderr",
     "output_type": "stream",
     "text": [
      " 88%|████████▊ | 182/206 [04:32<00:35,  1.48s/it]"
     ]
    },
    {
     "name": "stdout",
     "output_type": "stream",
     "text": [
      "[0]\tvalidation_0-logloss:0.44999\n",
      "Will train until validation_0-logloss hasn't improved in 100 rounds.\n",
      "[100]\tvalidation_0-logloss:0.10338\n",
      "Stopping. Best iteration:\n",
      "[14]\tvalidation_0-logloss:0.06619\n",
      "\n"
     ]
    },
    {
     "name": "stderr",
     "output_type": "stream",
     "text": [
      " 89%|████████▉ | 183/206 [04:34<00:38,  1.67s/it]"
     ]
    },
    {
     "name": "stdout",
     "output_type": "stream",
     "text": [
      "[0]\tvalidation_0-logloss:0.43877\n",
      "Will train until validation_0-logloss hasn't improved in 100 rounds.\n",
      "[100]\tvalidation_0-logloss:0.01245\n",
      "Stopping. Best iteration:\n",
      "[21]\tvalidation_0-logloss:0.00958\n",
      "\n"
     ]
    },
    {
     "name": "stderr",
     "output_type": "stream",
     "text": [
      " 89%|████████▉ | 184/206 [04:35<00:35,  1.63s/it]"
     ]
    },
    {
     "name": "stdout",
     "output_type": "stream",
     "text": [
      "[0]\tvalidation_0-logloss:0.44088\n",
      "Will train until validation_0-logloss hasn't improved in 100 rounds.\n",
      "[100]\tvalidation_0-logloss:0.02483\n",
      "Stopping. Best iteration:\n",
      "[18]\tvalidation_0-logloss:0.01924\n",
      "\n"
     ]
    },
    {
     "name": "stderr",
     "output_type": "stream",
     "text": [
      " 90%|████████▉ | 185/206 [04:37<00:33,  1.60s/it]"
     ]
    },
    {
     "name": "stdout",
     "output_type": "stream",
     "text": [
      "[0]\tvalidation_0-logloss:0.43782\n",
      "Will train until validation_0-logloss hasn't improved in 100 rounds.\n",
      "[100]\tvalidation_0-logloss:0.00331\n",
      "Stopping. Best iteration:\n",
      "[26]\tvalidation_0-logloss:0.00295\n",
      "\n"
     ]
    },
    {
     "name": "stderr",
     "output_type": "stream",
     "text": [
      " 90%|█████████ | 186/206 [04:38<00:29,  1.46s/it]"
     ]
    },
    {
     "name": "stdout",
     "output_type": "stream",
     "text": [
      "[0]\tvalidation_0-logloss:0.43847\n",
      "Will train until validation_0-logloss hasn't improved in 100 rounds.\n",
      "[100]\tvalidation_0-logloss:0.00732\n",
      "Stopping. Best iteration:\n",
      "[24]\tvalidation_0-logloss:0.00590\n",
      "\n"
     ]
    },
    {
     "name": "stderr",
     "output_type": "stream",
     "text": [
      " 91%|█████████ | 187/206 [04:39<00:26,  1.41s/it]"
     ]
    },
    {
     "name": "stdout",
     "output_type": "stream",
     "text": [
      "[0]\tvalidation_0-logloss:0.44040\n",
      "Will train until validation_0-logloss hasn't improved in 100 rounds.\n",
      "[100]\tvalidation_0-logloss:0.02595\n",
      "Stopping. Best iteration:\n",
      "[18]\tvalidation_0-logloss:0.01856\n",
      "\n"
     ]
    },
    {
     "name": "stderr",
     "output_type": "stream",
     "text": [
      " 91%|█████████▏| 188/206 [04:41<00:26,  1.46s/it]"
     ]
    },
    {
     "name": "stdout",
     "output_type": "stream",
     "text": [
      "[0]\tvalidation_0-logloss:0.43893\n",
      "Will train until validation_0-logloss hasn't improved in 100 rounds.\n",
      "[100]\tvalidation_0-logloss:0.00359\n",
      "Stopping. Best iteration:\n",
      "[36]\tvalidation_0-logloss:0.00345\n",
      "\n"
     ]
    },
    {
     "name": "stderr",
     "output_type": "stream",
     "text": [
      " 92%|█████████▏| 189/206 [04:42<00:23,  1.37s/it]"
     ]
    },
    {
     "name": "stdout",
     "output_type": "stream",
     "text": [
      "[0]\tvalidation_0-logloss:0.43847\n",
      "Will train until validation_0-logloss hasn't improved in 100 rounds.\n",
      "[100]\tvalidation_0-logloss:0.00953\n",
      "Stopping. Best iteration:\n",
      "[23]\tvalidation_0-logloss:0.00749\n",
      "\n"
     ]
    },
    {
     "name": "stderr",
     "output_type": "stream",
     "text": [
      " 92%|█████████▏| 190/206 [04:43<00:21,  1.33s/it]"
     ]
    },
    {
     "name": "stdout",
     "output_type": "stream",
     "text": [
      "[0]\tvalidation_0-logloss:0.43921\n",
      "Will train until validation_0-logloss hasn't improved in 100 rounds.\n",
      "[100]\tvalidation_0-logloss:0.01289\n",
      "Stopping. Best iteration:\n",
      "[23]\tvalidation_0-logloss:0.01045\n",
      "\n"
     ]
    },
    {
     "name": "stderr",
     "output_type": "stream",
     "text": [
      " 93%|█████████▎| 191/206 [04:45<00:20,  1.35s/it]"
     ]
    },
    {
     "name": "stdout",
     "output_type": "stream",
     "text": [
      "[0]\tvalidation_0-logloss:0.43905\n",
      "Will train until validation_0-logloss hasn't improved in 100 rounds.\n",
      "[100]\tvalidation_0-logloss:0.01697\n",
      "Stopping. Best iteration:\n",
      "[20]\tvalidation_0-logloss:0.01228\n",
      "\n"
     ]
    },
    {
     "name": "stderr",
     "output_type": "stream",
     "text": [
      " 93%|█████████▎| 192/206 [04:46<00:19,  1.37s/it]"
     ]
    },
    {
     "name": "stdout",
     "output_type": "stream",
     "text": [
      "[0]\tvalidation_0-logloss:0.43786\n",
      "Will train until validation_0-logloss hasn't improved in 100 rounds.\n",
      "[100]\tvalidation_0-logloss:0.00320\n",
      "Stopping. Best iteration:\n",
      "[29]\tvalidation_0-logloss:0.00272\n",
      "\n"
     ]
    },
    {
     "name": "stderr",
     "output_type": "stream",
     "text": [
      " 94%|█████████▎| 193/206 [04:47<00:16,  1.30s/it]"
     ]
    },
    {
     "name": "stdout",
     "output_type": "stream",
     "text": [
      "[0]\tvalidation_0-logloss:0.43919\n",
      "Will train until validation_0-logloss hasn't improved in 100 rounds.\n",
      "[100]\tvalidation_0-logloss:0.01555\n",
      "Stopping. Best iteration:\n",
      "[21]\tvalidation_0-logloss:0.01164\n",
      "\n"
     ]
    },
    {
     "name": "stderr",
     "output_type": "stream",
     "text": [
      " 94%|█████████▍| 194/206 [04:49<00:15,  1.32s/it]"
     ]
    },
    {
     "name": "stdout",
     "output_type": "stream",
     "text": [
      "[0]\tvalidation_0-logloss:0.44070\n",
      "Will train until validation_0-logloss hasn't improved in 100 rounds.\n",
      "[100]\tvalidation_0-logloss:0.01855\n",
      "Stopping. Best iteration:\n",
      "[24]\tvalidation_0-logloss:0.01506\n",
      "\n"
     ]
    },
    {
     "name": "stderr",
     "output_type": "stream",
     "text": [
      " 95%|█████████▍| 195/206 [04:50<00:15,  1.41s/it]"
     ]
    },
    {
     "name": "stdout",
     "output_type": "stream",
     "text": [
      "[0]\tvalidation_0-logloss:0.43844\n",
      "Will train until validation_0-logloss hasn't improved in 100 rounds.\n",
      "[100]\tvalidation_0-logloss:0.01039\n",
      "Stopping. Best iteration:\n",
      "[20]\tvalidation_0-logloss:0.00791\n",
      "\n"
     ]
    },
    {
     "name": "stderr",
     "output_type": "stream",
     "text": [
      " 95%|█████████▌| 196/206 [04:51<00:13,  1.35s/it]"
     ]
    },
    {
     "name": "stdout",
     "output_type": "stream",
     "text": [
      "[0]\tvalidation_0-logloss:0.43784\n",
      "Will train until validation_0-logloss hasn't improved in 100 rounds.\n",
      "[100]\tvalidation_0-logloss:0.00326\n",
      "Stopping. Best iteration:\n",
      "[27]\tvalidation_0-logloss:0.00285\n",
      "\n"
     ]
    },
    {
     "name": "stderr",
     "output_type": "stream",
     "text": [
      " 96%|█████████▌| 197/206 [04:53<00:11,  1.28s/it]"
     ]
    },
    {
     "name": "stdout",
     "output_type": "stream",
     "text": [
      "[0]\tvalidation_0-logloss:0.43860\n",
      "Will train until validation_0-logloss hasn't improved in 100 rounds.\n",
      "[100]\tvalidation_0-logloss:0.00831\n",
      "Stopping. Best iteration:\n",
      "[23]\tvalidation_0-logloss:0.00636\n",
      "\n"
     ]
    },
    {
     "name": "stderr",
     "output_type": "stream",
     "text": [
      " 96%|█████████▌| 198/206 [04:54<00:10,  1.28s/it]"
     ]
    },
    {
     "name": "stdout",
     "output_type": "stream",
     "text": [
      "[0]\tvalidation_0-logloss:0.43976\n",
      "Will train until validation_0-logloss hasn't improved in 100 rounds.\n",
      "[100]\tvalidation_0-logloss:0.01866\n",
      "Stopping. Best iteration:\n",
      "[21]\tvalidation_0-logloss:0.01413\n",
      "\n"
     ]
    },
    {
     "name": "stderr",
     "output_type": "stream",
     "text": [
      " 97%|█████████▋| 199/206 [04:55<00:09,  1.34s/it]"
     ]
    },
    {
     "name": "stdout",
     "output_type": "stream",
     "text": [
      "[0]\tvalidation_0-logloss:0.44516\n",
      "Will train until validation_0-logloss hasn't improved in 100 rounds.\n",
      "[100]\tvalidation_0-logloss:0.02381\n",
      "Stopping. Best iteration:\n",
      "[25]\tvalidation_0-logloss:0.02130\n",
      "\n"
     ]
    },
    {
     "name": "stderr",
     "output_type": "stream",
     "text": [
      " 97%|█████████▋| 200/206 [04:57<00:08,  1.50s/it]"
     ]
    },
    {
     "name": "stdout",
     "output_type": "stream",
     "text": [
      "[0]\tvalidation_0-logloss:0.44086\n",
      "Will train until validation_0-logloss hasn't improved in 100 rounds.\n",
      "[100]\tvalidation_0-logloss:0.02967\n",
      "Stopping. Best iteration:\n",
      "[17]\tvalidation_0-logloss:0.02088\n",
      "\n"
     ]
    },
    {
     "name": "stderr",
     "output_type": "stream",
     "text": [
      " 98%|█████████▊| 201/206 [04:59<00:07,  1.52s/it]"
     ]
    },
    {
     "name": "stdout",
     "output_type": "stream",
     "text": [
      "[0]\tvalidation_0-logloss:0.43784\n",
      "Will train until validation_0-logloss hasn't improved in 100 rounds.\n",
      "[100]\tvalidation_0-logloss:0.00284\n",
      "Stopping. Best iteration:\n",
      "[43]\tvalidation_0-logloss:0.00277\n",
      "\n"
     ]
    },
    {
     "name": "stderr",
     "output_type": "stream",
     "text": [
      " 98%|█████████▊| 202/206 [05:00<00:05,  1.41s/it]"
     ]
    },
    {
     "name": "stdout",
     "output_type": "stream",
     "text": [
      "[0]\tvalidation_0-logloss:0.44448\n",
      "Will train until validation_0-logloss hasn't improved in 100 rounds.\n",
      "[100]\tvalidation_0-logloss:0.04001\n",
      "Stopping. Best iteration:\n",
      "[17]\tvalidation_0-logloss:0.02962\n",
      "\n"
     ]
    },
    {
     "name": "stderr",
     "output_type": "stream",
     "text": [
      " 99%|█████████▊| 203/206 [05:02<00:04,  1.52s/it]"
     ]
    },
    {
     "name": "stdout",
     "output_type": "stream",
     "text": [
      "[0]\tvalidation_0-logloss:0.43879\n",
      "Will train until validation_0-logloss hasn't improved in 100 rounds.\n",
      "[100]\tvalidation_0-logloss:0.01292\n",
      "Stopping. Best iteration:\n",
      "[20]\tvalidation_0-logloss:0.00936\n",
      "\n"
     ]
    },
    {
     "name": "stderr",
     "output_type": "stream",
     "text": [
      " 99%|█████████▉| 204/206 [05:03<00:02,  1.46s/it]"
     ]
    },
    {
     "name": "stdout",
     "output_type": "stream",
     "text": [
      "[0]\tvalidation_0-logloss:0.43942\n",
      "Will train until validation_0-logloss hasn't improved in 100 rounds.\n",
      "[100]\tvalidation_0-logloss:0.00530\n",
      "Stopping. Best iteration:\n",
      "[87]\tvalidation_0-logloss:0.00530\n",
      "\n"
     ]
    },
    {
     "name": "stderr",
     "output_type": "stream",
     "text": [
      "100%|█████████▉| 205/206 [05:04<00:01,  1.45s/it]"
     ]
    },
    {
     "name": "stdout",
     "output_type": "stream",
     "text": [
      "[0]\tvalidation_0-logloss:0.43888\n",
      "Will train until validation_0-logloss hasn't improved in 100 rounds.\n",
      "[100]\tvalidation_0-logloss:0.01347\n",
      "Stopping. Best iteration:\n",
      "[20]\tvalidation_0-logloss:0.01031\n",
      "\n"
     ]
    },
    {
     "name": "stderr",
     "output_type": "stream",
     "text": [
      "100%|██████████| 206/206 [05:06<00:00,  1.49s/it]\n"
     ]
    },
    {
     "name": "stdout",
     "output_type": "stream",
     "text": [
      "     fun: 0.01597369671890089\n",
      "     jac: array([0.00038885, 0.00038877, 0.00133358])\n",
      " message: 'Optimization terminated successfully.'\n",
      "    nfev: 76\n",
      "     nit: 15\n",
      "    njev: 15\n",
      "  status: 0\n",
      " success: True\n",
      "       x: array([9.71365132e-01, 2.86348681e-02, 1.46614449e-17])\n",
      "0.01591061431914568 0.0159755270440948 0.016751069200957543 0.02226052977299601 0.01597369673662805\n"
     ]
    },
    {
     "name": "stderr",
     "output_type": "stream",
     "text": [
      "100%|██████████| 32/32 [00:00<00:00, 364.71it/s]"
     ]
    },
    {
     "name": "stdout",
     "output_type": "stream",
     "text": [
      "auc 0.9038888750262389\n"
     ]
    },
    {
     "name": "stderr",
     "output_type": "stream",
     "text": [
      "\n",
      "100%|██████████| 30/30 [00:34<00:00,  1.15s/it, train_loss=0.0178, valid_loss=0.0156]"
     ]
    },
    {
     "name": "stdout",
     "output_type": "stream",
     "text": [
      "Device used : cuda\n"
     ]
    },
    {
     "name": "stderr",
     "output_type": "stream",
     "text": [
      "\n"
     ]
    },
    {
     "name": "stdout",
     "output_type": "stream",
     "text": [
      "epoch 0  | loss: 0.13272 | val_logits_ll: 0.02243 |  0:00:02s\n",
      "epoch 10 | loss: 0.02123 | val_logits_ll: 0.02227 |  0:00:25s\n",
      "epoch 20 | loss: 0.02064 | val_logits_ll: 0.01716 |  0:00:50s\n",
      "epoch 30 | loss: 0.02036 | val_logits_ll: 0.01722 |  0:01:14s\n",
      "epoch 40 | loss: 0.01931 | val_logits_ll: 0.01673 |  0:01:38s\n",
      "epoch 50 | loss: 0.01842 | val_logits_ll: 0.01664 |  0:02:02s\n",
      "epoch 60 | loss: 0.01797 | val_logits_ll: 0.01676 |  0:02:26s\n",
      "\n",
      "Early stopping occured at epoch 68 with best_epoch = 48 and best_val_logits_ll = 0.01657\n",
      "Best weights from best epoch are automatically used!\n"
     ]
    },
    {
     "name": "stderr",
     "output_type": "stream",
     "text": [
      "  0%|          | 0/206 [00:00<?, ?it/s]"
     ]
    },
    {
     "name": "stdout",
     "output_type": "stream",
     "text": [
      "[0]\tvalidation_0-logloss:0.43842\n",
      "Will train until validation_0-logloss hasn't improved in 100 rounds.\n",
      "[100]\tvalidation_0-logloss:0.00880\n",
      "Stopping. Best iteration:\n",
      "[22]\tvalidation_0-logloss:0.00746\n",
      "\n"
     ]
    },
    {
     "name": "stderr",
     "output_type": "stream",
     "text": [
      "  0%|          | 1/206 [00:01<04:08,  1.21s/it]"
     ]
    },
    {
     "name": "stdout",
     "output_type": "stream",
     "text": [
      "[0]\tvalidation_0-logloss:0.43844\n",
      "Will train until validation_0-logloss hasn't improved in 100 rounds.\n",
      "[100]\tvalidation_0-logloss:0.00897\n",
      "Stopping. Best iteration:\n",
      "[22]\tvalidation_0-logloss:0.00722\n",
      "\n"
     ]
    },
    {
     "name": "stderr",
     "output_type": "stream",
     "text": [
      "  1%|          | 2/206 [00:02<04:12,  1.24s/it]"
     ]
    },
    {
     "name": "stdout",
     "output_type": "stream",
     "text": [
      "[0]\tvalidation_0-logloss:0.43875\n",
      "Will train until validation_0-logloss hasn't improved in 100 rounds.\n",
      "[100]\tvalidation_0-logloss:0.01274\n",
      "Stopping. Best iteration:\n",
      "[21]\tvalidation_0-logloss:0.00990\n",
      "\n"
     ]
    },
    {
     "name": "stderr",
     "output_type": "stream",
     "text": [
      "  1%|▏         | 3/206 [00:03<04:18,  1.27s/it]"
     ]
    },
    {
     "name": "stdout",
     "output_type": "stream",
     "text": [
      "[0]\tvalidation_0-logloss:0.44631\n",
      "Will train until validation_0-logloss hasn't improved in 100 rounds.\n",
      "[100]\tvalidation_0-logloss:0.07629\n",
      "Stopping. Best iteration:\n",
      "[16]\tvalidation_0-logloss:0.04994\n",
      "\n"
     ]
    },
    {
     "name": "stderr",
     "output_type": "stream",
     "text": [
      "  2%|▏         | 4/206 [00:05<04:56,  1.47s/it]"
     ]
    },
    {
     "name": "stdout",
     "output_type": "stream",
     "text": [
      "[0]\tvalidation_0-logloss:0.45133\n",
      "Will train until validation_0-logloss hasn't improved in 100 rounds.\n",
      "[100]\tvalidation_0-logloss:0.11470\n",
      "Stopping. Best iteration:\n",
      "[15]\tvalidation_0-logloss:0.07204\n",
      "\n"
     ]
    },
    {
     "name": "stderr",
     "output_type": "stream",
     "text": [
      "  2%|▏         | 5/206 [00:07<05:37,  1.68s/it]"
     ]
    },
    {
     "name": "stdout",
     "output_type": "stream",
     "text": [
      "[0]\tvalidation_0-logloss:0.44103\n",
      "Will train until validation_0-logloss hasn't improved in 100 rounds.\n",
      "[100]\tvalidation_0-logloss:0.03209\n",
      "Stopping. Best iteration:\n",
      "[18]\tvalidation_0-logloss:0.02216\n",
      "\n"
     ]
    },
    {
     "name": "stderr",
     "output_type": "stream",
     "text": [
      "  3%|▎         | 6/206 [00:09<05:29,  1.65s/it]"
     ]
    },
    {
     "name": "stdout",
     "output_type": "stream",
     "text": [
      "[0]\tvalidation_0-logloss:0.44010\n",
      "Will train until validation_0-logloss hasn't improved in 100 rounds.\n",
      "[100]\tvalidation_0-logloss:0.02577\n",
      "Stopping. Best iteration:\n",
      "[19]\tvalidation_0-logloss:0.01817\n",
      "\n"
     ]
    },
    {
     "name": "stderr",
     "output_type": "stream",
     "text": [
      "  3%|▎         | 7/206 [00:10<05:16,  1.59s/it]"
     ]
    },
    {
     "name": "stdout",
     "output_type": "stream",
     "text": [
      "[0]\tvalidation_0-logloss:0.44188\n",
      "Will train until validation_0-logloss hasn't improved in 100 rounds.\n",
      "[100]\tvalidation_0-logloss:0.03819\n",
      "Stopping. Best iteration:\n",
      "[19]\tvalidation_0-logloss:0.02711\n",
      "\n"
     ]
    },
    {
     "name": "stderr",
     "output_type": "stream",
     "text": [
      "  4%|▍         | 8/206 [00:12<05:18,  1.61s/it]"
     ]
    },
    {
     "name": "stdout",
     "output_type": "stream",
     "text": [
      "[0]\tvalidation_0-logloss:0.43814\n",
      "Will train until validation_0-logloss hasn't improved in 100 rounds.\n",
      "[100]\tvalidation_0-logloss:0.00504\n",
      "Stopping. Best iteration:\n",
      "[23]\tvalidation_0-logloss:0.00444\n",
      "\n"
     ]
    },
    {
     "name": "stderr",
     "output_type": "stream",
     "text": [
      "  4%|▍         | 9/206 [00:13<04:53,  1.49s/it]"
     ]
    },
    {
     "name": "stdout",
     "output_type": "stream",
     "text": [
      "[0]\tvalidation_0-logloss:0.44987\n",
      "Will train until validation_0-logloss hasn't improved in 100 rounds.\n",
      "[100]\tvalidation_0-logloss:0.09127\n",
      "Stopping. Best iteration:\n",
      "[18]\tvalidation_0-logloss:0.06136\n",
      "\n"
     ]
    },
    {
     "name": "stderr",
     "output_type": "stream",
     "text": [
      "  5%|▍         | 10/206 [00:15<05:29,  1.68s/it]"
     ]
    },
    {
     "name": "stdout",
     "output_type": "stream",
     "text": [
      "[0]\tvalidation_0-logloss:0.45421\n",
      "Will train until validation_0-logloss hasn't improved in 100 rounds.\n",
      "[100]\tvalidation_0-logloss:0.13394\n",
      "Stopping. Best iteration:\n",
      "[13]\tvalidation_0-logloss:0.08286\n",
      "\n"
     ]
    },
    {
     "name": "stderr",
     "output_type": "stream",
     "text": [
      "  5%|▌         | 11/206 [00:18<06:05,  1.87s/it]"
     ]
    },
    {
     "name": "stdout",
     "output_type": "stream",
     "text": [
      "[0]\tvalidation_0-logloss:0.44057\n",
      "Will train until validation_0-logloss hasn't improved in 100 rounds.\n",
      "[100]\tvalidation_0-logloss:0.01750\n",
      "Stopping. Best iteration:\n",
      "[21]\tvalidation_0-logloss:0.01356\n",
      "\n"
     ]
    },
    {
     "name": "stderr",
     "output_type": "stream",
     "text": [
      "  6%|▌         | 12/206 [00:19<05:42,  1.77s/it]"
     ]
    },
    {
     "name": "stdout",
     "output_type": "stream",
     "text": [
      "[0]\tvalidation_0-logloss:0.43786\n",
      "Will train until validation_0-logloss hasn't improved in 100 rounds.\n",
      "[100]\tvalidation_0-logloss:0.00182\n",
      "Stopping. Best iteration:\n",
      "[35]\tvalidation_0-logloss:0.00176\n",
      "\n"
     ]
    },
    {
     "name": "stderr",
     "output_type": "stream",
     "text": [
      "  6%|▋         | 13/206 [00:20<05:01,  1.56s/it]"
     ]
    },
    {
     "name": "stdout",
     "output_type": "stream",
     "text": [
      "[0]\tvalidation_0-logloss:0.43949\n",
      "Will train until validation_0-logloss hasn't improved in 100 rounds.\n",
      "[100]\tvalidation_0-logloss:0.01376\n",
      "Stopping. Best iteration:\n",
      "[20]\tvalidation_0-logloss:0.01120\n",
      "\n"
     ]
    },
    {
     "name": "stderr",
     "output_type": "stream",
     "text": [
      "  7%|▋         | 14/206 [00:22<04:52,  1.52s/it]"
     ]
    },
    {
     "name": "stdout",
     "output_type": "stream",
     "text": [
      "[0]\tvalidation_0-logloss:0.43814\n",
      "Will train until validation_0-logloss hasn't improved in 100 rounds.\n",
      "[100]\tvalidation_0-logloss:0.00661\n",
      "Stopping. Best iteration:\n",
      "[24]\tvalidation_0-logloss:0.00531\n",
      "\n"
     ]
    },
    {
     "name": "stderr",
     "output_type": "stream",
     "text": [
      "  7%|▋         | 15/206 [00:23<04:31,  1.42s/it]"
     ]
    },
    {
     "name": "stdout",
     "output_type": "stream",
     "text": [
      "[0]\tvalidation_0-logloss:0.43797\n",
      "Will train until validation_0-logloss hasn't improved in 100 rounds.\n",
      "[100]\tvalidation_0-logloss:0.00302\n",
      "Stopping. Best iteration:\n",
      "[31]\tvalidation_0-logloss:0.00275\n",
      "\n"
     ]
    },
    {
     "name": "stderr",
     "output_type": "stream",
     "text": [
      "  8%|▊         | 16/206 [00:24<04:23,  1.39s/it]"
     ]
    },
    {
     "name": "stdout",
     "output_type": "stream",
     "text": [
      "[0]\tvalidation_0-logloss:0.43979\n",
      "Will train until validation_0-logloss hasn't improved in 100 rounds.\n",
      "[100]\tvalidation_0-logloss:0.02328\n",
      "Stopping. Best iteration:\n",
      "[20]\tvalidation_0-logloss:0.01646\n",
      "\n"
     ]
    },
    {
     "name": "stderr",
     "output_type": "stream",
     "text": [
      "  8%|▊         | 17/206 [00:26<04:25,  1.41s/it]"
     ]
    },
    {
     "name": "stdout",
     "output_type": "stream",
     "text": [
      "[0]\tvalidation_0-logloss:0.44172\n",
      "Will train until validation_0-logloss hasn't improved in 100 rounds.\n",
      "[100]\tvalidation_0-logloss:0.03801\n",
      "Stopping. Best iteration:\n",
      "[18]\tvalidation_0-logloss:0.02705\n",
      "\n"
     ]
    },
    {
     "name": "stderr",
     "output_type": "stream",
     "text": [
      "  9%|▊         | 18/206 [00:27<04:36,  1.47s/it]"
     ]
    },
    {
     "name": "stdout",
     "output_type": "stream",
     "text": [
      "[0]\tvalidation_0-logloss:0.44118\n",
      "Will train until validation_0-logloss hasn't improved in 100 rounds.\n",
      "[100]\tvalidation_0-logloss:0.03327\n",
      "Stopping. Best iteration:\n",
      "[19]\tvalidation_0-logloss:0.02298\n",
      "\n"
     ]
    },
    {
     "name": "stderr",
     "output_type": "stream",
     "text": [
      "  9%|▉         | 19/206 [00:29<04:42,  1.51s/it]"
     ]
    },
    {
     "name": "stdout",
     "output_type": "stream",
     "text": [
      "[0]\tvalidation_0-logloss:0.43919\n",
      "Will train until validation_0-logloss hasn't improved in 100 rounds.\n",
      "[100]\tvalidation_0-logloss:0.01618\n",
      "Stopping. Best iteration:\n",
      "[22]\tvalidation_0-logloss:0.01198\n",
      "\n"
     ]
    },
    {
     "name": "stderr",
     "output_type": "stream",
     "text": [
      " 10%|▉         | 20/206 [00:30<04:38,  1.50s/it]"
     ]
    },
    {
     "name": "stdout",
     "output_type": "stream",
     "text": [
      "[0]\tvalidation_0-logloss:0.43938\n",
      "Will train until validation_0-logloss hasn't improved in 100 rounds.\n",
      "[100]\tvalidation_0-logloss:0.02017\n",
      "Stopping. Best iteration:\n",
      "[19]\tvalidation_0-logloss:0.01445\n",
      "\n"
     ]
    },
    {
     "name": "stderr",
     "output_type": "stream",
     "text": [
      " 10%|█         | 21/206 [00:32<04:31,  1.47s/it]"
     ]
    },
    {
     "name": "stdout",
     "output_type": "stream",
     "text": [
      "[0]\tvalidation_0-logloss:0.44103\n",
      "Will train until validation_0-logloss hasn't improved in 100 rounds.\n",
      "[100]\tvalidation_0-logloss:0.03167\n",
      "Stopping. Best iteration:\n",
      "[17]\tvalidation_0-logloss:0.02215\n",
      "\n"
     ]
    },
    {
     "name": "stderr",
     "output_type": "stream",
     "text": [
      " 11%|█         | 22/206 [00:33<04:33,  1.49s/it]"
     ]
    },
    {
     "name": "stdout",
     "output_type": "stream",
     "text": [
      "[0]\tvalidation_0-logloss:0.43784\n",
      "Will train until validation_0-logloss hasn't improved in 100 rounds.\n",
      "[100]\tvalidation_0-logloss:0.00332\n",
      "Stopping. Best iteration:\n",
      "[26]\tvalidation_0-logloss:0.00292\n",
      "\n"
     ]
    },
    {
     "name": "stderr",
     "output_type": "stream",
     "text": [
      " 11%|█         | 23/206 [00:35<04:13,  1.39s/it]"
     ]
    },
    {
     "name": "stdout",
     "output_type": "stream",
     "text": [
      "[0]\tvalidation_0-logloss:0.43951\n",
      "Will train until validation_0-logloss hasn't improved in 100 rounds.\n",
      "[100]\tvalidation_0-logloss:0.01959\n",
      "Stopping. Best iteration:\n",
      "[19]\tvalidation_0-logloss:0.01449\n",
      "\n"
     ]
    },
    {
     "name": "stderr",
     "output_type": "stream",
     "text": [
      " 12%|█▏        | 24/206 [00:36<04:16,  1.41s/it]"
     ]
    },
    {
     "name": "stdout",
     "output_type": "stream",
     "text": [
      "[0]\tvalidation_0-logloss:0.43814\n",
      "Will train until validation_0-logloss hasn't improved in 100 rounds.\n",
      "[100]\tvalidation_0-logloss:0.00643\n",
      "Stopping. Best iteration:\n",
      "[22]\tvalidation_0-logloss:0.00479\n",
      "\n"
     ]
    },
    {
     "name": "stderr",
     "output_type": "stream",
     "text": [
      " 12%|█▏        | 25/206 [00:37<04:02,  1.34s/it]"
     ]
    },
    {
     "name": "stdout",
     "output_type": "stream",
     "text": [
      "[0]\tvalidation_0-logloss:0.43816\n",
      "Will train until validation_0-logloss hasn't improved in 100 rounds.\n",
      "[100]\tvalidation_0-logloss:0.00601\n",
      "Stopping. Best iteration:\n",
      "[22]\tvalidation_0-logloss:0.00521\n",
      "\n"
     ]
    },
    {
     "name": "stderr",
     "output_type": "stream",
     "text": [
      " 13%|█▎        | 26/206 [00:38<03:52,  1.29s/it]"
     ]
    },
    {
     "name": "stdout",
     "output_type": "stream",
     "text": [
      "[0]\tvalidation_0-logloss:0.43814\n",
      "Will train until validation_0-logloss hasn't improved in 100 rounds.\n",
      "[100]\tvalidation_0-logloss:0.00561\n",
      "Stopping. Best iteration:\n",
      "[23]\tvalidation_0-logloss:0.00493\n",
      "\n"
     ]
    },
    {
     "name": "stderr",
     "output_type": "stream",
     "text": [
      " 13%|█▎        | 27/206 [00:40<03:45,  1.26s/it]"
     ]
    },
    {
     "name": "stdout",
     "output_type": "stream",
     "text": [
      "[0]\tvalidation_0-logloss:0.43828\n",
      "Will train until validation_0-logloss hasn't improved in 100 rounds.\n",
      "[100]\tvalidation_0-logloss:0.00618\n",
      "Stopping. Best iteration:\n",
      "[23]\tvalidation_0-logloss:0.00517\n",
      "\n"
     ]
    },
    {
     "name": "stderr",
     "output_type": "stream",
     "text": [
      " 14%|█▎        | 28/206 [00:41<03:43,  1.26s/it]"
     ]
    },
    {
     "name": "stdout",
     "output_type": "stream",
     "text": [
      "[0]\tvalidation_0-logloss:0.44103\n",
      "Will train until validation_0-logloss hasn't improved in 100 rounds.\n",
      "[100]\tvalidation_0-logloss:0.03230\n",
      "Stopping. Best iteration:\n",
      "[18]\tvalidation_0-logloss:0.02320\n",
      "\n"
     ]
    },
    {
     "name": "stderr",
     "output_type": "stream",
     "text": [
      " 14%|█▍        | 29/206 [00:42<03:59,  1.35s/it]"
     ]
    },
    {
     "name": "stdout",
     "output_type": "stream",
     "text": [
      "[0]\tvalidation_0-logloss:0.43919\n",
      "Will train until validation_0-logloss hasn't improved in 100 rounds.\n",
      "[100]\tvalidation_0-logloss:0.01577\n",
      "Stopping. Best iteration:\n",
      "[20]\tvalidation_0-logloss:0.01205\n",
      "\n"
     ]
    },
    {
     "name": "stderr",
     "output_type": "stream",
     "text": [
      " 15%|█▍        | 30/206 [00:44<04:01,  1.37s/it]"
     ]
    },
    {
     "name": "stdout",
     "output_type": "stream",
     "text": [
      "[0]\tvalidation_0-logloss:0.43856\n",
      "Will train until validation_0-logloss hasn't improved in 100 rounds.\n",
      "[100]\tvalidation_0-logloss:0.00921\n",
      "Stopping. Best iteration:\n",
      "[24]\tvalidation_0-logloss:0.00753\n",
      "\n"
     ]
    },
    {
     "name": "stderr",
     "output_type": "stream",
     "text": [
      " 15%|█▌        | 31/206 [00:45<03:55,  1.34s/it]"
     ]
    },
    {
     "name": "stdout",
     "output_type": "stream",
     "text": [
      "[0]\tvalidation_0-logloss:0.43982\n",
      "Will train until validation_0-logloss hasn't improved in 100 rounds.\n",
      "[100]\tvalidation_0-logloss:0.02026\n",
      "Stopping. Best iteration:\n",
      "[19]\tvalidation_0-logloss:0.01477\n",
      "\n"
     ]
    },
    {
     "name": "stderr",
     "output_type": "stream",
     "text": [
      " 16%|█▌        | 32/206 [00:47<04:03,  1.40s/it]"
     ]
    },
    {
     "name": "stdout",
     "output_type": "stream",
     "text": [
      "[0]\tvalidation_0-logloss:0.43960\n",
      "Will train until validation_0-logloss hasn't improved in 100 rounds.\n",
      "[100]\tvalidation_0-logloss:0.01755\n",
      "Stopping. Best iteration:\n",
      "[21]\tvalidation_0-logloss:0.01325\n",
      "\n"
     ]
    },
    {
     "name": "stderr",
     "output_type": "stream",
     "text": [
      " 16%|█▌        | 33/206 [00:48<04:15,  1.48s/it]"
     ]
    },
    {
     "name": "stdout",
     "output_type": "stream",
     "text": [
      "[0]\tvalidation_0-logloss:0.43784\n",
      "Will train until validation_0-logloss hasn't improved in 100 rounds.\n",
      "[100]\tvalidation_0-logloss:0.00256\n",
      "Stopping. Best iteration:\n",
      "[29]\tvalidation_0-logloss:0.00238\n",
      "\n"
     ]
    },
    {
     "name": "stderr",
     "output_type": "stream",
     "text": [
      " 17%|█▋        | 34/206 [00:49<04:00,  1.40s/it]"
     ]
    },
    {
     "name": "stdout",
     "output_type": "stream",
     "text": [
      "[0]\tvalidation_0-logloss:0.43756\n",
      "Will train until validation_0-logloss hasn't improved in 100 rounds.\n",
      "[100]\tvalidation_0-logloss:0.00005\n",
      "Stopping. Best iteration:\n",
      "[56]\tvalidation_0-logloss:0.00005\n",
      "\n"
     ]
    },
    {
     "name": "stderr",
     "output_type": "stream",
     "text": [
      " 17%|█▋        | 35/206 [00:51<03:45,  1.32s/it]"
     ]
    },
    {
     "name": "stdout",
     "output_type": "stream",
     "text": [
      "[0]\tvalidation_0-logloss:0.43814\n",
      "Will train until validation_0-logloss hasn't improved in 100 rounds.\n",
      "[100]\tvalidation_0-logloss:0.00145\n",
      "Stopping. Best iteration:\n",
      "[35]\tvalidation_0-logloss:0.00135\n",
      "\n"
     ]
    },
    {
     "name": "stderr",
     "output_type": "stream",
     "text": [
      " 17%|█▋        | 36/206 [00:52<03:36,  1.27s/it]"
     ]
    },
    {
     "name": "stdout",
     "output_type": "stream",
     "text": [
      "[0]\tvalidation_0-logloss:0.44123\n",
      "Will train until validation_0-logloss hasn't improved in 100 rounds.\n",
      "[100]\tvalidation_0-logloss:0.02608\n",
      "Stopping. Best iteration:\n",
      "[22]\tvalidation_0-logloss:0.01934\n",
      "\n"
     ]
    },
    {
     "name": "stderr",
     "output_type": "stream",
     "text": [
      " 18%|█▊        | 37/206 [00:53<03:53,  1.38s/it]"
     ]
    },
    {
     "name": "stdout",
     "output_type": "stream",
     "text": [
      "[0]\tvalidation_0-logloss:0.43847\n",
      "Will train until validation_0-logloss hasn't improved in 100 rounds.\n",
      "[100]\tvalidation_0-logloss:0.00622\n",
      "Stopping. Best iteration:\n",
      "[28]\tvalidation_0-logloss:0.00598\n",
      "\n"
     ]
    },
    {
     "name": "stderr",
     "output_type": "stream",
     "text": [
      " 18%|█▊        | 38/206 [00:55<03:43,  1.33s/it]"
     ]
    },
    {
     "name": "stdout",
     "output_type": "stream",
     "text": [
      "[0]\tvalidation_0-logloss:0.44233\n",
      "Will train until validation_0-logloss hasn't improved in 100 rounds.\n",
      "[100]\tvalidation_0-logloss:0.01897\n",
      "Stopping. Best iteration:\n",
      "[24]\tvalidation_0-logloss:0.01789\n",
      "\n"
     ]
    },
    {
     "name": "stderr",
     "output_type": "stream",
     "text": [
      " 19%|█▉        | 39/206 [00:56<03:52,  1.39s/it]"
     ]
    },
    {
     "name": "stdout",
     "output_type": "stream",
     "text": [
      "[0]\tvalidation_0-logloss:0.43784\n",
      "Will train until validation_0-logloss hasn't improved in 100 rounds.\n",
      "[100]\tvalidation_0-logloss:0.00348\n",
      "Stopping. Best iteration:\n",
      "[24]\tvalidation_0-logloss:0.00302\n",
      "\n"
     ]
    },
    {
     "name": "stderr",
     "output_type": "stream",
     "text": [
      " 19%|█▉        | 40/206 [00:57<03:35,  1.30s/it]"
     ]
    },
    {
     "name": "stdout",
     "output_type": "stream",
     "text": [
      "[0]\tvalidation_0-logloss:0.44040\n",
      "Will train until validation_0-logloss hasn't improved in 100 rounds.\n",
      "[100]\tvalidation_0-logloss:0.02654\n",
      "Stopping. Best iteration:\n",
      "[18]\tvalidation_0-logloss:0.02001\n",
      "\n"
     ]
    },
    {
     "name": "stderr",
     "output_type": "stream",
     "text": [
      " 20%|█▉        | 41/206 [00:59<03:49,  1.39s/it]"
     ]
    },
    {
     "name": "stdout",
     "output_type": "stream",
     "text": [
      "[0]\tvalidation_0-logloss:0.44118\n",
      "Will train until validation_0-logloss hasn't improved in 100 rounds.\n",
      "[100]\tvalidation_0-logloss:0.03265\n",
      "Stopping. Best iteration:\n",
      "[17]\tvalidation_0-logloss:0.02406\n",
      "\n"
     ]
    },
    {
     "name": "stderr",
     "output_type": "stream",
     "text": [
      " 20%|██        | 42/206 [01:00<03:58,  1.45s/it]"
     ]
    },
    {
     "name": "stdout",
     "output_type": "stream",
     "text": [
      "[0]\tvalidation_0-logloss:0.43919\n",
      "Will train until validation_0-logloss hasn't improved in 100 rounds.\n",
      "[100]\tvalidation_0-logloss:0.01465\n",
      "Stopping. Best iteration:\n",
      "[22]\tvalidation_0-logloss:0.01172\n",
      "\n"
     ]
    },
    {
     "name": "stderr",
     "output_type": "stream",
     "text": [
      " 21%|██        | 43/206 [01:02<03:56,  1.45s/it]"
     ]
    },
    {
     "name": "stdout",
     "output_type": "stream",
     "text": [
      "[0]\tvalidation_0-logloss:0.44635\n",
      "Will train until validation_0-logloss hasn't improved in 100 rounds.\n",
      "[100]\tvalidation_0-logloss:0.07468\n",
      "Stopping. Best iteration:\n",
      "[15]\tvalidation_0-logloss:0.04923\n",
      "\n"
     ]
    },
    {
     "name": "stderr",
     "output_type": "stream",
     "text": [
      " 21%|██▏       | 44/206 [01:04<04:17,  1.59s/it]"
     ]
    },
    {
     "name": "stdout",
     "output_type": "stream",
     "text": [
      "[0]\tvalidation_0-logloss:0.44159\n",
      "Will train until validation_0-logloss hasn't improved in 100 rounds.\n",
      "[100]\tvalidation_0-logloss:0.03752\n",
      "Stopping. Best iteration:\n",
      "[19]\tvalidation_0-logloss:0.02601\n",
      "\n"
     ]
    },
    {
     "name": "stderr",
     "output_type": "stream",
     "text": [
      " 22%|██▏       | 45/206 [01:05<04:17,  1.60s/it]"
     ]
    },
    {
     "name": "stdout",
     "output_type": "stream",
     "text": [
      "[0]\tvalidation_0-logloss:0.44280\n",
      "Will train until validation_0-logloss hasn't improved in 100 rounds.\n",
      "[100]\tvalidation_0-logloss:0.04634\n",
      "Stopping. Best iteration:\n",
      "[18]\tvalidation_0-logloss:0.03154\n",
      "\n"
     ]
    },
    {
     "name": "stderr",
     "output_type": "stream",
     "text": [
      " 22%|██▏       | 46/206 [01:07<04:20,  1.63s/it]"
     ]
    },
    {
     "name": "stdout",
     "output_type": "stream",
     "text": [
      "[0]\tvalidation_0-logloss:0.43786\n",
      "Will train until validation_0-logloss hasn't improved in 100 rounds.\n",
      "[100]\tvalidation_0-logloss:0.00110\n",
      "Stopping. Best iteration:\n",
      "[30]\tvalidation_0-logloss:0.00091\n",
      "\n"
     ]
    },
    {
     "name": "stderr",
     "output_type": "stream",
     "text": [
      " 23%|██▎       | 47/206 [01:08<03:58,  1.50s/it]"
     ]
    },
    {
     "name": "stdout",
     "output_type": "stream",
     "text": [
      "[0]\tvalidation_0-logloss:0.43891\n",
      "Will train until validation_0-logloss hasn't improved in 100 rounds.\n",
      "[100]\tvalidation_0-logloss:0.01184\n",
      "Stopping. Best iteration:\n",
      "[20]\tvalidation_0-logloss:0.00969\n",
      "\n"
     ]
    },
    {
     "name": "stderr",
     "output_type": "stream",
     "text": [
      " 23%|██▎       | 48/206 [01:10<03:48,  1.45s/it]"
     ]
    },
    {
     "name": "stdout",
     "output_type": "stream",
     "text": [
      "[0]\tvalidation_0-logloss:0.43950\n",
      "Will train until validation_0-logloss hasn't improved in 100 rounds.\n",
      "[100]\tvalidation_0-logloss:0.01572\n",
      "Stopping. Best iteration:\n",
      "[21]\tvalidation_0-logloss:0.01183\n",
      "\n"
     ]
    },
    {
     "name": "stderr",
     "output_type": "stream",
     "text": [
      " 24%|██▍       | 49/206 [01:11<03:42,  1.42s/it]"
     ]
    },
    {
     "name": "stdout",
     "output_type": "stream",
     "text": [
      "[0]\tvalidation_0-logloss:0.44056\n",
      "Will train until validation_0-logloss hasn't improved in 100 rounds.\n",
      "[100]\tvalidation_0-logloss:0.02691\n",
      "Stopping. Best iteration:\n",
      "[18]\tvalidation_0-logloss:0.01981\n",
      "\n"
     ]
    },
    {
     "name": "stderr",
     "output_type": "stream",
     "text": [
      " 24%|██▍       | 50/206 [01:13<03:46,  1.45s/it]"
     ]
    },
    {
     "name": "stdout",
     "output_type": "stream",
     "text": [
      "[0]\tvalidation_0-logloss:0.43858\n",
      "Will train until validation_0-logloss hasn't improved in 100 rounds.\n",
      "[100]\tvalidation_0-logloss:0.01069\n",
      "Stopping. Best iteration:\n",
      "[21]\tvalidation_0-logloss:0.00815\n",
      "\n"
     ]
    },
    {
     "name": "stderr",
     "output_type": "stream",
     "text": [
      " 25%|██▍       | 51/206 [01:14<03:38,  1.41s/it]"
     ]
    },
    {
     "name": "stdout",
     "output_type": "stream",
     "text": [
      "[0]\tvalidation_0-logloss:0.44007\n",
      "Will train until validation_0-logloss hasn't improved in 100 rounds.\n",
      "[100]\tvalidation_0-logloss:0.01334\n",
      "Stopping. Best iteration:\n",
      "[24]\tvalidation_0-logloss:0.01198\n",
      "\n"
     ]
    },
    {
     "name": "stderr",
     "output_type": "stream",
     "text": [
      " 25%|██▌       | 52/206 [01:15<03:39,  1.43s/it]"
     ]
    },
    {
     "name": "stdout",
     "output_type": "stream",
     "text": [
      "[0]\tvalidation_0-logloss:0.43886\n",
      "Will train until validation_0-logloss hasn't improved in 100 rounds.\n",
      "[100]\tvalidation_0-logloss:0.01027\n",
      "Stopping. Best iteration:\n",
      "[26]\tvalidation_0-logloss:0.00857\n",
      "\n"
     ]
    },
    {
     "name": "stderr",
     "output_type": "stream",
     "text": [
      " 26%|██▌       | 53/206 [01:17<03:33,  1.40s/it]"
     ]
    },
    {
     "name": "stdout",
     "output_type": "stream",
     "text": [
      "[0]\tvalidation_0-logloss:0.43784\n",
      "Will train until validation_0-logloss hasn't improved in 100 rounds.\n",
      "[100]\tvalidation_0-logloss:0.00343\n",
      "Stopping. Best iteration:\n",
      "[24]\tvalidation_0-logloss:0.00298\n",
      "\n"
     ]
    },
    {
     "name": "stderr",
     "output_type": "stream",
     "text": [
      " 26%|██▌       | 54/206 [01:18<03:18,  1.31s/it]"
     ]
    },
    {
     "name": "stdout",
     "output_type": "stream",
     "text": [
      "[0]\tvalidation_0-logloss:0.45044\n",
      "Will train until validation_0-logloss hasn't improved in 100 rounds.\n",
      "[100]\tvalidation_0-logloss:0.10452\n",
      "Stopping. Best iteration:\n",
      "[17]\tvalidation_0-logloss:0.06765\n",
      "\n"
     ]
    },
    {
     "name": "stderr",
     "output_type": "stream",
     "text": [
      " 27%|██▋       | 55/206 [01:20<03:59,  1.59s/it]"
     ]
    },
    {
     "name": "stdout",
     "output_type": "stream",
     "text": [
      "[0]\tvalidation_0-logloss:0.43949\n",
      "Will train until validation_0-logloss hasn't improved in 100 rounds.\n",
      "[100]\tvalidation_0-logloss:0.01971\n",
      "Stopping. Best iteration:\n",
      "[20]\tvalidation_0-logloss:0.01424\n",
      "\n"
     ]
    },
    {
     "name": "stderr",
     "output_type": "stream",
     "text": [
      " 27%|██▋       | 56/206 [01:21<03:53,  1.55s/it]"
     ]
    },
    {
     "name": "stdout",
     "output_type": "stream",
     "text": [
      "[0]\tvalidation_0-logloss:0.44012\n",
      "Will train until validation_0-logloss hasn't improved in 100 rounds.\n",
      "[100]\tvalidation_0-logloss:0.02511\n",
      "Stopping. Best iteration:\n",
      "[19]\tvalidation_0-logloss:0.01778\n",
      "\n"
     ]
    },
    {
     "name": "stderr",
     "output_type": "stream",
     "text": [
      " 28%|██▊       | 57/206 [01:23<03:47,  1.53s/it]"
     ]
    },
    {
     "name": "stdout",
     "output_type": "stream",
     "text": [
      "[0]\tvalidation_0-logloss:0.43919\n",
      "Will train until validation_0-logloss hasn't improved in 100 rounds.\n",
      "[100]\tvalidation_0-logloss:0.01614\n",
      "Stopping. Best iteration:\n",
      "[20]\tvalidation_0-logloss:0.01248\n",
      "\n"
     ]
    },
    {
     "name": "stderr",
     "output_type": "stream",
     "text": [
      " 28%|██▊       | 58/206 [01:24<03:39,  1.49s/it]"
     ]
    },
    {
     "name": "stdout",
     "output_type": "stream",
     "text": [
      "[0]\tvalidation_0-logloss:0.43919\n",
      "Will train until validation_0-logloss hasn't improved in 100 rounds.\n",
      "[100]\tvalidation_0-logloss:0.01465\n",
      "Stopping. Best iteration:\n",
      "[22]\tvalidation_0-logloss:0.01146\n",
      "\n"
     ]
    },
    {
     "name": "stderr",
     "output_type": "stream",
     "text": [
      " 29%|██▊       | 59/206 [01:26<03:34,  1.46s/it]"
     ]
    },
    {
     "name": "stdout",
     "output_type": "stream",
     "text": [
      "[0]\tvalidation_0-logloss:0.43844\n",
      "Will train until validation_0-logloss hasn't improved in 100 rounds.\n",
      "[100]\tvalidation_0-logloss:0.01044\n",
      "Stopping. Best iteration:\n",
      "[22]\tvalidation_0-logloss:0.00756\n",
      "\n"
     ]
    },
    {
     "name": "stderr",
     "output_type": "stream",
     "text": [
      " 29%|██▉       | 60/206 [01:27<03:21,  1.38s/it]"
     ]
    },
    {
     "name": "stdout",
     "output_type": "stream",
     "text": [
      "[0]\tvalidation_0-logloss:0.43797\n",
      "Will train until validation_0-logloss hasn't improved in 100 rounds.\n",
      "[100]\tvalidation_0-logloss:0.00345\n",
      "Stopping. Best iteration:\n",
      "[27]\tvalidation_0-logloss:0.00299\n",
      "\n"
     ]
    },
    {
     "name": "stderr",
     "output_type": "stream",
     "text": [
      " 30%|██▉       | 61/206 [01:28<03:12,  1.32s/it]"
     ]
    },
    {
     "name": "stdout",
     "output_type": "stream",
     "text": [
      "[0]\tvalidation_0-logloss:0.44235\n",
      "Will train until validation_0-logloss hasn't improved in 100 rounds.\n",
      "[100]\tvalidation_0-logloss:0.04351\n",
      "Stopping. Best iteration:\n",
      "[16]\tvalidation_0-logloss:0.03043\n",
      "\n"
     ]
    },
    {
     "name": "stderr",
     "output_type": "stream",
     "text": [
      " 30%|███       | 62/206 [01:30<03:25,  1.43s/it]"
     ]
    },
    {
     "name": "stdout",
     "output_type": "stream",
     "text": [
      "[0]\tvalidation_0-logloss:0.43828\n",
      "Will train until validation_0-logloss hasn't improved in 100 rounds.\n",
      "[100]\tvalidation_0-logloss:0.00605\n",
      "Stopping. Best iteration:\n",
      "[29]\tvalidation_0-logloss:0.00508\n",
      "\n"
     ]
    },
    {
     "name": "stderr",
     "output_type": "stream",
     "text": [
      " 31%|███       | 63/206 [01:31<03:18,  1.39s/it]"
     ]
    },
    {
     "name": "stdout",
     "output_type": "stream",
     "text": [
      "[0]\tvalidation_0-logloss:0.44315\n",
      "Will train until validation_0-logloss hasn't improved in 100 rounds.\n",
      "[100]\tvalidation_0-logloss:0.02897\n",
      "Stopping. Best iteration:\n",
      "[21]\tvalidation_0-logloss:0.02376\n",
      "\n"
     ]
    },
    {
     "name": "stderr",
     "output_type": "stream",
     "text": [
      " 31%|███       | 64/206 [01:33<03:30,  1.48s/it]"
     ]
    },
    {
     "name": "stdout",
     "output_type": "stream",
     "text": [
      "[0]\tvalidation_0-logloss:0.44025\n",
      "Will train until validation_0-logloss hasn't improved in 100 rounds.\n",
      "[100]\tvalidation_0-logloss:0.02240\n",
      "Stopping. Best iteration:\n",
      "[21]\tvalidation_0-logloss:0.01707\n",
      "\n"
     ]
    },
    {
     "name": "stderr",
     "output_type": "stream",
     "text": [
      " 32%|███▏      | 65/206 [01:34<03:32,  1.50s/it]"
     ]
    },
    {
     "name": "stdout",
     "output_type": "stream",
     "text": [
      "[0]\tvalidation_0-logloss:0.43875\n",
      "Will train until validation_0-logloss hasn't improved in 100 rounds.\n",
      "[100]\tvalidation_0-logloss:0.00625\n",
      "Stopping. Best iteration:\n",
      "[23]\tvalidation_0-logloss:0.00583\n",
      "\n"
     ]
    },
    {
     "name": "stderr",
     "output_type": "stream",
     "text": [
      " 32%|███▏      | 66/206 [01:35<03:16,  1.40s/it]"
     ]
    },
    {
     "name": "stdout",
     "output_type": "stream",
     "text": [
      "[0]\tvalidation_0-logloss:0.43947\n",
      "Will train until validation_0-logloss hasn't improved in 100 rounds.\n",
      "[100]\tvalidation_0-logloss:0.01882\n",
      "Stopping. Best iteration:\n",
      "[19]\tvalidation_0-logloss:0.01427\n",
      "\n"
     ]
    },
    {
     "name": "stderr",
     "output_type": "stream",
     "text": [
      " 33%|███▎      | 67/206 [01:37<03:14,  1.40s/it]"
     ]
    },
    {
     "name": "stdout",
     "output_type": "stream",
     "text": [
      "[0]\tvalidation_0-logloss:0.43979\n",
      "Will train until validation_0-logloss hasn't improved in 100 rounds.\n",
      "[100]\tvalidation_0-logloss:0.02193\n",
      "Stopping. Best iteration:\n",
      "[20]\tvalidation_0-logloss:0.01600\n",
      "\n"
     ]
    },
    {
     "name": "stderr",
     "output_type": "stream",
     "text": [
      " 33%|███▎      | 68/206 [01:38<03:16,  1.42s/it]"
     ]
    },
    {
     "name": "stdout",
     "output_type": "stream",
     "text": [
      "[0]\tvalidation_0-logloss:0.44010\n",
      "Will train until validation_0-logloss hasn't improved in 100 rounds.\n",
      "[100]\tvalidation_0-logloss:0.02475\n",
      "Stopping. Best iteration:\n",
      "[17]\tvalidation_0-logloss:0.01807\n",
      "\n"
     ]
    },
    {
     "name": "stderr",
     "output_type": "stream",
     "text": [
      " 33%|███▎      | 69/206 [01:40<03:17,  1.44s/it]"
     ]
    },
    {
     "name": "stdout",
     "output_type": "stream",
     "text": [
      "[0]\tvalidation_0-logloss:0.43784\n",
      "Will train until validation_0-logloss hasn't improved in 100 rounds.\n",
      "[100]\tvalidation_0-logloss:0.00332\n",
      "Stopping. Best iteration:\n",
      "[25]\tvalidation_0-logloss:0.00287\n",
      "\n"
     ]
    },
    {
     "name": "stderr",
     "output_type": "stream",
     "text": [
      " 34%|███▍      | 70/206 [01:41<03:06,  1.37s/it]"
     ]
    },
    {
     "name": "stdout",
     "output_type": "stream",
     "text": [
      "[0]\tvalidation_0-logloss:0.43913\n",
      "Will train until validation_0-logloss hasn't improved in 100 rounds.\n",
      "[100]\tvalidation_0-logloss:0.00950\n",
      "Stopping. Best iteration:\n",
      "[25]\tvalidation_0-logloss:0.00797\n",
      "\n"
     ]
    },
    {
     "name": "stderr",
     "output_type": "stream",
     "text": [
      " 34%|███▍      | 71/206 [01:42<03:05,  1.37s/it]"
     ]
    },
    {
     "name": "stdout",
     "output_type": "stream",
     "text": [
      "[0]\tvalidation_0-logloss:0.45762\n",
      "Will train until validation_0-logloss hasn't improved in 100 rounds.\n",
      "[100]\tvalidation_0-logloss:0.14265\n",
      "Stopping. Best iteration:\n",
      "[21]\tvalidation_0-logloss:0.09502\n",
      "\n"
     ]
    },
    {
     "name": "stderr",
     "output_type": "stream",
     "text": [
      " 35%|███▍      | 72/206 [01:45<03:47,  1.70s/it]"
     ]
    },
    {
     "name": "stdout",
     "output_type": "stream",
     "text": [
      "[0]\tvalidation_0-logloss:0.44237\n",
      "Will train until validation_0-logloss hasn't improved in 100 rounds.\n",
      "[100]\tvalidation_0-logloss:0.04527\n",
      "Stopping. Best iteration:\n",
      "[19]\tvalidation_0-logloss:0.02986\n",
      "\n"
     ]
    },
    {
     "name": "stderr",
     "output_type": "stream",
     "text": [
      " 35%|███▌      | 73/206 [01:47<03:45,  1.70s/it]"
     ]
    },
    {
     "name": "stdout",
     "output_type": "stream",
     "text": [
      "[0]\tvalidation_0-logloss:0.43919\n",
      "Will train until validation_0-logloss hasn't improved in 100 rounds.\n",
      "[100]\tvalidation_0-logloss:0.01032\n",
      "Stopping. Best iteration:\n",
      "[22]\tvalidation_0-logloss:0.00908\n",
      "\n"
     ]
    },
    {
     "name": "stderr",
     "output_type": "stream",
     "text": [
      " 36%|███▌      | 74/206 [01:48<03:35,  1.63s/it]"
     ]
    },
    {
     "name": "stdout",
     "output_type": "stream",
     "text": [
      "[0]\tvalidation_0-logloss:0.43877\n",
      "Will train until validation_0-logloss hasn't improved in 100 rounds.\n",
      "[100]\tvalidation_0-logloss:0.01271\n",
      "Stopping. Best iteration:\n",
      "[20]\tvalidation_0-logloss:0.00956\n",
      "\n"
     ]
    },
    {
     "name": "stderr",
     "output_type": "stream",
     "text": [
      " 36%|███▋      | 75/206 [01:49<03:20,  1.53s/it]"
     ]
    },
    {
     "name": "stdout",
     "output_type": "stream",
     "text": [
      "[0]\tvalidation_0-logloss:0.43767\n",
      "Will train until validation_0-logloss hasn't improved in 100 rounds.\n",
      "[100]\tvalidation_0-logloss:0.00007\n",
      "Stopping. Best iteration:\n",
      "[53]\tvalidation_0-logloss:0.00007\n",
      "\n"
     ]
    },
    {
     "name": "stderr",
     "output_type": "stream",
     "text": [
      " 37%|███▋      | 76/206 [01:51<03:06,  1.43s/it]"
     ]
    },
    {
     "name": "stdout",
     "output_type": "stream",
     "text": [
      "[0]\tvalidation_0-logloss:0.43979\n",
      "Will train until validation_0-logloss hasn't improved in 100 rounds.\n",
      "[100]\tvalidation_0-logloss:0.02031\n",
      "Stopping. Best iteration:\n",
      "[20]\tvalidation_0-logloss:0.01526\n",
      "\n"
     ]
    },
    {
     "name": "stderr",
     "output_type": "stream",
     "text": [
      " 37%|███▋      | 77/206 [01:52<03:10,  1.47s/it]"
     ]
    },
    {
     "name": "stdout",
     "output_type": "stream",
     "text": [
      "[0]\tvalidation_0-logloss:0.45644\n",
      "Will train until validation_0-logloss hasn't improved in 100 rounds.\n",
      "[100]\tvalidation_0-logloss:0.12574\n",
      "Stopping. Best iteration:\n",
      "[15]\tvalidation_0-logloss:0.08565\n",
      "\n"
     ]
    },
    {
     "name": "stderr",
     "output_type": "stream",
     "text": [
      " 38%|███▊      | 78/206 [01:55<03:58,  1.86s/it]"
     ]
    },
    {
     "name": "stdout",
     "output_type": "stream",
     "text": [
      "[0]\tvalidation_0-logloss:0.44311\n",
      "Will train until validation_0-logloss hasn't improved in 100 rounds.\n",
      "[100]\tvalidation_0-logloss:0.05048\n",
      "Stopping. Best iteration:\n",
      "[17]\tvalidation_0-logloss:0.03449\n",
      "\n"
     ]
    },
    {
     "name": "stderr",
     "output_type": "stream",
     "text": [
      " 38%|███▊      | 79/206 [01:57<03:51,  1.82s/it]"
     ]
    },
    {
     "name": "stdout",
     "output_type": "stream",
     "text": [
      "[0]\tvalidation_0-logloss:0.45706\n",
      "Will train until validation_0-logloss hasn't improved in 100 rounds.\n",
      "[100]\tvalidation_0-logloss:0.14194\n",
      "Stopping. Best iteration:\n",
      "[12]\tvalidation_0-logloss:0.09519\n",
      "\n"
     ]
    },
    {
     "name": "stderr",
     "output_type": "stream",
     "text": [
      " 39%|███▉      | 80/206 [01:59<04:08,  1.98s/it]"
     ]
    },
    {
     "name": "stdout",
     "output_type": "stream",
     "text": [
      "[0]\tvalidation_0-logloss:0.44741\n",
      "Will train until validation_0-logloss hasn't improved in 100 rounds.\n",
      "[100]\tvalidation_0-logloss:0.02839\n",
      "Stopping. Best iteration:\n",
      "[19]\tvalidation_0-logloss:0.02601\n",
      "\n"
     ]
    },
    {
     "name": "stderr",
     "output_type": "stream",
     "text": [
      " 39%|███▉      | 81/206 [02:01<03:59,  1.92s/it]"
     ]
    },
    {
     "name": "stdout",
     "output_type": "stream",
     "text": [
      "[0]\tvalidation_0-logloss:0.43784\n",
      "Will train until validation_0-logloss hasn't improved in 100 rounds.\n",
      "[100]\tvalidation_0-logloss:0.00331\n",
      "Stopping. Best iteration:\n",
      "[27]\tvalidation_0-logloss:0.00287\n",
      "\n"
     ]
    },
    {
     "name": "stderr",
     "output_type": "stream",
     "text": [
      " 40%|███▉      | 82/206 [02:02<03:26,  1.67s/it]"
     ]
    },
    {
     "name": "stdout",
     "output_type": "stream",
     "text": [
      "[0]\tvalidation_0-logloss:0.44476\n",
      "Will train until validation_0-logloss hasn't improved in 100 rounds.\n",
      "[100]\tvalidation_0-logloss:0.05975\n",
      "Stopping. Best iteration:\n",
      "[15]\tvalidation_0-logloss:0.04136\n",
      "\n"
     ]
    },
    {
     "name": "stderr",
     "output_type": "stream",
     "text": [
      " 41%|████      | 84/206 [02:04<02:57,  1.45s/it]"
     ]
    },
    {
     "name": "stdout",
     "output_type": "stream",
     "text": [
      "[0]\tvalidation_0-logloss:0.43966\n",
      "Will train until validation_0-logloss hasn't improved in 100 rounds.\n",
      "[100]\tvalidation_0-logloss:0.01836\n",
      "Stopping. Best iteration:\n",
      "[22]\tvalidation_0-logloss:0.01451\n",
      "\n"
     ]
    },
    {
     "name": "stderr",
     "output_type": "stream",
     "text": [
      " 41%|████▏     | 85/206 [02:05<02:58,  1.47s/it]"
     ]
    },
    {
     "name": "stdout",
     "output_type": "stream",
     "text": [
      "[0]\tvalidation_0-logloss:0.43919\n",
      "Will train until validation_0-logloss hasn't improved in 100 rounds.\n",
      "[100]\tvalidation_0-logloss:0.01445\n",
      "Stopping. Best iteration:\n",
      "[19]\tvalidation_0-logloss:0.01160\n",
      "\n"
     ]
    },
    {
     "name": "stderr",
     "output_type": "stream",
     "text": [
      " 42%|████▏     | 86/206 [02:07<02:52,  1.44s/it]"
     ]
    },
    {
     "name": "stdout",
     "output_type": "stream",
     "text": [
      "[0]\tvalidation_0-logloss:0.43828\n",
      "Will train until validation_0-logloss hasn't improved in 100 rounds.\n",
      "[100]\tvalidation_0-logloss:0.00300\n",
      "Stopping. Best iteration:\n",
      "[52]\tvalidation_0-logloss:0.00298\n",
      "\n"
     ]
    },
    {
     "name": "stderr",
     "output_type": "stream",
     "text": [
      " 42%|████▏     | 87/206 [02:08<02:44,  1.38s/it]"
     ]
    },
    {
     "name": "stdout",
     "output_type": "stream",
     "text": [
      "[0]\tvalidation_0-logloss:0.43860\n",
      "Will train until validation_0-logloss hasn't improved in 100 rounds.\n",
      "[100]\tvalidation_0-logloss:0.00935\n",
      "Stopping. Best iteration:\n",
      "[21]\tvalidation_0-logloss:0.00742\n",
      "\n"
     ]
    },
    {
     "name": "stderr",
     "output_type": "stream",
     "text": [
      " 43%|████▎     | 88/206 [02:09<02:39,  1.35s/it]"
     ]
    },
    {
     "name": "stdout",
     "output_type": "stream",
     "text": [
      "[0]\tvalidation_0-logloss:0.43979\n",
      "Will train until validation_0-logloss hasn't improved in 100 rounds.\n",
      "[100]\tvalidation_0-logloss:0.01857\n",
      "Stopping. Best iteration:\n",
      "[18]\tvalidation_0-logloss:0.01561\n",
      "\n"
     ]
    },
    {
     "name": "stderr",
     "output_type": "stream",
     "text": [
      " 43%|████▎     | 89/206 [02:11<02:39,  1.36s/it]"
     ]
    },
    {
     "name": "stdout",
     "output_type": "stream",
     "text": [
      "[0]\tvalidation_0-logloss:0.44629\n",
      "Will train until validation_0-logloss hasn't improved in 100 rounds.\n",
      "[100]\tvalidation_0-logloss:0.02542\n",
      "Stopping. Best iteration:\n",
      "[30]\tvalidation_0-logloss:0.02229\n",
      "\n"
     ]
    },
    {
     "name": "stderr",
     "output_type": "stream",
     "text": [
      " 44%|████▎     | 90/206 [02:12<02:56,  1.52s/it]"
     ]
    },
    {
     "name": "stdout",
     "output_type": "stream",
     "text": [
      "[0]\tvalidation_0-logloss:0.43825\n",
      "Will train until validation_0-logloss hasn't improved in 100 rounds.\n",
      "[100]\tvalidation_0-logloss:0.00256\n",
      "Stopping. Best iteration:\n",
      "[43]\tvalidation_0-logloss:0.00245\n",
      "\n"
     ]
    },
    {
     "name": "stderr",
     "output_type": "stream",
     "text": [
      " 44%|████▍     | 91/206 [02:14<02:43,  1.42s/it]"
     ]
    },
    {
     "name": "stdout",
     "output_type": "stream",
     "text": [
      "[0]\tvalidation_0-logloss:0.43828\n",
      "Will train until validation_0-logloss hasn't improved in 100 rounds.\n",
      "[100]\tvalidation_0-logloss:0.00618\n",
      "Stopping. Best iteration:\n",
      "[24]\tvalidation_0-logloss:0.00534\n",
      "\n"
     ]
    },
    {
     "name": "stderr",
     "output_type": "stream",
     "text": [
      " 45%|████▍     | 92/206 [02:15<02:38,  1.39s/it]"
     ]
    },
    {
     "name": "stdout",
     "output_type": "stream",
     "text": [
      "[0]\tvalidation_0-logloss:0.43856\n",
      "Will train until validation_0-logloss hasn't improved in 100 rounds.\n",
      "[100]\tvalidation_0-logloss:0.00996\n",
      "Stopping. Best iteration:\n",
      "[21]\tvalidation_0-logloss:0.00778\n",
      "\n"
     ]
    },
    {
     "name": "stderr",
     "output_type": "stream",
     "text": [
      " 45%|████▌     | 93/206 [02:16<02:32,  1.35s/it]"
     ]
    },
    {
     "name": "stdout",
     "output_type": "stream",
     "text": [
      "[0]\tvalidation_0-logloss:0.44244\n",
      "Will train until validation_0-logloss hasn't improved in 100 rounds.\n",
      "[100]\tvalidation_0-logloss:0.04451\n",
      "Stopping. Best iteration:\n",
      "[18]\tvalidation_0-logloss:0.03113\n",
      "\n"
     ]
    },
    {
     "name": "stderr",
     "output_type": "stream",
     "text": [
      " 46%|████▌     | 94/206 [02:18<02:42,  1.45s/it]"
     ]
    },
    {
     "name": "stdout",
     "output_type": "stream",
     "text": [
      "[0]\tvalidation_0-logloss:0.44524\n",
      "Will train until validation_0-logloss hasn't improved in 100 rounds.\n",
      "[100]\tvalidation_0-logloss:0.06816\n",
      "Stopping. Best iteration:\n",
      "[15]\tvalidation_0-logloss:0.04373\n",
      "\n"
     ]
    },
    {
     "name": "stderr",
     "output_type": "stream",
     "text": [
      " 46%|████▌     | 95/206 [02:20<02:54,  1.57s/it]"
     ]
    },
    {
     "name": "stdout",
     "output_type": "stream",
     "text": [
      "[0]\tvalidation_0-logloss:0.44014\n",
      "Will train until validation_0-logloss hasn't improved in 100 rounds.\n",
      "[100]\tvalidation_0-logloss:0.01174\n",
      "Stopping. Best iteration:\n",
      "[21]\tvalidation_0-logloss:0.00980\n",
      "\n"
     ]
    },
    {
     "name": "stderr",
     "output_type": "stream",
     "text": [
      " 47%|████▋     | 96/206 [02:21<02:48,  1.53s/it]"
     ]
    },
    {
     "name": "stdout",
     "output_type": "stream",
     "text": [
      "[0]\tvalidation_0-logloss:0.44165\n",
      "Will train until validation_0-logloss hasn't improved in 100 rounds.\n",
      "[100]\tvalidation_0-logloss:0.02110\n",
      "Stopping. Best iteration:\n",
      "[24]\tvalidation_0-logloss:0.01627\n",
      "\n"
     ]
    },
    {
     "name": "stderr",
     "output_type": "stream",
     "text": [
      " 47%|████▋     | 97/206 [02:23<02:50,  1.56s/it]"
     ]
    },
    {
     "name": "stdout",
     "output_type": "stream",
     "text": [
      "[0]\tvalidation_0-logloss:0.43816\n",
      "Will train until validation_0-logloss hasn't improved in 100 rounds.\n",
      "[100]\tvalidation_0-logloss:0.00637\n",
      "Stopping. Best iteration:\n",
      "[23]\tvalidation_0-logloss:0.00531\n",
      "\n"
     ]
    },
    {
     "name": "stderr",
     "output_type": "stream",
     "text": [
      " 48%|████▊     | 98/206 [02:24<02:38,  1.47s/it]"
     ]
    },
    {
     "name": "stdout",
     "output_type": "stream",
     "text": [
      "[0]\tvalidation_0-logloss:0.44088\n",
      "Will train until validation_0-logloss hasn't improved in 100 rounds.\n",
      "[100]\tvalidation_0-logloss:0.03105\n",
      "Stopping. Best iteration:\n",
      "[19]\tvalidation_0-logloss:0.02191\n",
      "\n"
     ]
    },
    {
     "name": "stderr",
     "output_type": "stream",
     "text": [
      " 48%|████▊     | 99/206 [02:26<02:43,  1.52s/it]"
     ]
    },
    {
     "name": "stdout",
     "output_type": "stream",
     "text": [
      "[0]\tvalidation_0-logloss:0.45443\n",
      "Will train until validation_0-logloss hasn't improved in 100 rounds.\n",
      "[100]\tvalidation_0-logloss:0.13469\n",
      "Stopping. Best iteration:\n",
      "[12]\tvalidation_0-logloss:0.08494\n",
      "\n"
     ]
    },
    {
     "name": "stderr",
     "output_type": "stream",
     "text": [
      " 49%|████▊     | 100/206 [02:28<03:03,  1.73s/it]"
     ]
    },
    {
     "name": "stdout",
     "output_type": "stream",
     "text": [
      "[0]\tvalidation_0-logloss:0.43844\n",
      "Will train until validation_0-logloss hasn't improved in 100 rounds.\n",
      "[100]\tvalidation_0-logloss:0.00945\n",
      "Stopping. Best iteration:\n",
      "[22]\tvalidation_0-logloss:0.00707\n",
      "\n"
     ]
    },
    {
     "name": "stderr",
     "output_type": "stream",
     "text": [
      " 49%|████▉     | 101/206 [02:29<02:45,  1.57s/it]"
     ]
    },
    {
     "name": "stdout",
     "output_type": "stream",
     "text": [
      "[0]\tvalidation_0-logloss:0.44037\n",
      "Will train until validation_0-logloss hasn't improved in 100 rounds.\n",
      "[100]\tvalidation_0-logloss:0.01251\n",
      "Stopping. Best iteration:\n",
      "[20]\tvalidation_0-logloss:0.01063\n",
      "\n"
     ]
    },
    {
     "name": "stderr",
     "output_type": "stream",
     "text": [
      " 50%|████▉     | 102/206 [02:31<02:39,  1.53s/it]"
     ]
    },
    {
     "name": "stdout",
     "output_type": "stream",
     "text": [
      "[0]\tvalidation_0-logloss:0.44084\n",
      "Will train until validation_0-logloss hasn't improved in 100 rounds.\n",
      "[100]\tvalidation_0-logloss:0.03089\n",
      "Stopping. Best iteration:\n",
      "[18]\tvalidation_0-logloss:0.02175\n",
      "\n"
     ]
    },
    {
     "name": "stderr",
     "output_type": "stream",
     "text": [
      " 50%|█████     | 103/206 [02:32<02:37,  1.53s/it]"
     ]
    },
    {
     "name": "stdout",
     "output_type": "stream",
     "text": [
      "[0]\tvalidation_0-logloss:0.44037\n",
      "Will train until validation_0-logloss hasn't improved in 100 rounds.\n",
      "[100]\tvalidation_0-logloss:0.01597\n",
      "Stopping. Best iteration:\n",
      "[26]\tvalidation_0-logloss:0.01397\n",
      "\n"
     ]
    },
    {
     "name": "stderr",
     "output_type": "stream",
     "text": [
      " 50%|█████     | 104/206 [02:34<02:35,  1.52s/it]"
     ]
    },
    {
     "name": "stdout",
     "output_type": "stream",
     "text": [
      "[0]\tvalidation_0-logloss:0.44021\n",
      "Will train until validation_0-logloss hasn't improved in 100 rounds.\n",
      "[100]\tvalidation_0-logloss:0.02513\n",
      "Stopping. Best iteration:\n",
      "[18]\tvalidation_0-logloss:0.01851\n",
      "\n"
     ]
    },
    {
     "name": "stderr",
     "output_type": "stream",
     "text": [
      " 51%|█████     | 105/206 [02:35<02:33,  1.52s/it]"
     ]
    },
    {
     "name": "stdout",
     "output_type": "stream",
     "text": [
      "[0]\tvalidation_0-logloss:0.44859\n",
      "Will train until validation_0-logloss hasn't improved in 100 rounds.\n",
      "[100]\tvalidation_0-logloss:0.09012\n",
      "Stopping. Best iteration:\n",
      "[13]\tvalidation_0-logloss:0.06087\n",
      "\n"
     ]
    },
    {
     "name": "stderr",
     "output_type": "stream",
     "text": [
      " 51%|█████▏    | 106/206 [02:37<02:54,  1.75s/it]"
     ]
    },
    {
     "name": "stdout",
     "output_type": "stream",
     "text": [
      "[0]\tvalidation_0-logloss:0.43875\n",
      "Will train until validation_0-logloss hasn't improved in 100 rounds.\n",
      "[100]\tvalidation_0-logloss:0.00992\n",
      "Stopping. Best iteration:\n",
      "[21]\tvalidation_0-logloss:0.00786\n",
      "\n"
     ]
    },
    {
     "name": "stderr",
     "output_type": "stream",
     "text": [
      " 52%|█████▏    | 107/206 [02:39<02:37,  1.59s/it]"
     ]
    },
    {
     "name": "stdout",
     "output_type": "stream",
     "text": [
      "[0]\tvalidation_0-logloss:0.43910\n",
      "Will train until validation_0-logloss hasn't improved in 100 rounds.\n",
      "[100]\tvalidation_0-logloss:0.01485\n",
      "Stopping. Best iteration:\n",
      "[22]\tvalidation_0-logloss:0.01150\n",
      "\n"
     ]
    },
    {
     "name": "stderr",
     "output_type": "stream",
     "text": [
      " 52%|█████▏    | 108/206 [02:40<02:27,  1.50s/it]"
     ]
    },
    {
     "name": "stdout",
     "output_type": "stream",
     "text": [
      "[0]\tvalidation_0-logloss:0.44084\n",
      "Will train until validation_0-logloss hasn't improved in 100 rounds.\n",
      "[100]\tvalidation_0-logloss:0.02976\n",
      "Stopping. Best iteration:\n",
      "[19]\tvalidation_0-logloss:0.02087\n",
      "\n"
     ]
    },
    {
     "name": "stderr",
     "output_type": "stream",
     "text": [
      " 53%|█████▎    | 109/206 [02:41<02:26,  1.51s/it]"
     ]
    },
    {
     "name": "stdout",
     "output_type": "stream",
     "text": [
      "[0]\tvalidation_0-logloss:0.44237\n",
      "Will train until validation_0-logloss hasn't improved in 100 rounds.\n",
      "[100]\tvalidation_0-logloss:0.00649\n",
      "[200]\tvalidation_0-logloss:0.00659\n",
      "Stopping. Best iteration:\n",
      "[168]\tvalidation_0-logloss:0.00641\n",
      "\n"
     ]
    },
    {
     "name": "stderr",
     "output_type": "stream",
     "text": [
      " 53%|█████▎    | 110/206 [02:44<02:43,  1.70s/it]"
     ]
    },
    {
     "name": "stdout",
     "output_type": "stream",
     "text": [
      "[0]\tvalidation_0-logloss:0.43894\n",
      "Will train until validation_0-logloss hasn't improved in 100 rounds.\n",
      "[100]\tvalidation_0-logloss:0.00953\n",
      "Stopping. Best iteration:\n",
      "[22]\tvalidation_0-logloss:0.00791\n",
      "\n"
     ]
    },
    {
     "name": "stderr",
     "output_type": "stream",
     "text": [
      " 54%|█████▍    | 111/206 [02:45<02:30,  1.58s/it]"
     ]
    },
    {
     "name": "stdout",
     "output_type": "stream",
     "text": [
      "[0]\tvalidation_0-logloss:0.43921\n",
      "Will train until validation_0-logloss hasn't improved in 100 rounds.\n",
      "[100]\tvalidation_0-logloss:0.01229\n",
      "Stopping. Best iteration:\n",
      "[20]\tvalidation_0-logloss:0.01031\n",
      "\n"
     ]
    },
    {
     "name": "stderr",
     "output_type": "stream",
     "text": [
      " 54%|█████▍    | 112/206 [02:46<02:22,  1.51s/it]"
     ]
    },
    {
     "name": "stdout",
     "output_type": "stream",
     "text": [
      "[0]\tvalidation_0-logloss:0.43888\n",
      "Will train until validation_0-logloss hasn't improved in 100 rounds.\n",
      "[100]\tvalidation_0-logloss:0.00956\n",
      "Stopping. Best iteration:\n",
      "[22]\tvalidation_0-logloss:0.00808\n",
      "\n"
     ]
    },
    {
     "name": "stderr",
     "output_type": "stream",
     "text": [
      " 55%|█████▍    | 113/206 [02:48<02:21,  1.52s/it]"
     ]
    },
    {
     "name": "stdout",
     "output_type": "stream",
     "text": [
      "[0]\tvalidation_0-logloss:0.43891\n",
      "Will train until validation_0-logloss hasn't improved in 100 rounds.\n",
      "[100]\tvalidation_0-logloss:0.01313\n",
      "Stopping. Best iteration:\n",
      "[23]\tvalidation_0-logloss:0.01010\n",
      "\n"
     ]
    },
    {
     "name": "stderr",
     "output_type": "stream",
     "text": [
      " 55%|█████▌    | 114/206 [02:49<02:17,  1.49s/it]"
     ]
    },
    {
     "name": "stdout",
     "output_type": "stream",
     "text": [
      "[0]\tvalidation_0-logloss:0.44118\n",
      "Will train until validation_0-logloss hasn't improved in 100 rounds.\n",
      "[100]\tvalidation_0-logloss:0.03196\n",
      "Stopping. Best iteration:\n",
      "[19]\tvalidation_0-logloss:0.02275\n",
      "\n"
     ]
    },
    {
     "name": "stderr",
     "output_type": "stream",
     "text": [
      " 56%|█████▌    | 115/206 [02:51<02:20,  1.55s/it]"
     ]
    },
    {
     "name": "stdout",
     "output_type": "stream",
     "text": [
      "[0]\tvalidation_0-logloss:0.43886\n",
      "Will train until validation_0-logloss hasn't improved in 100 rounds.\n",
      "[100]\tvalidation_0-logloss:0.01230\n",
      "Stopping. Best iteration:\n",
      "[21]\tvalidation_0-logloss:0.00970\n",
      "\n"
     ]
    },
    {
     "name": "stderr",
     "output_type": "stream",
     "text": [
      " 56%|█████▋    | 116/206 [02:52<02:13,  1.48s/it]"
     ]
    },
    {
     "name": "stdout",
     "output_type": "stream",
     "text": [
      "[0]\tvalidation_0-logloss:0.43984\n",
      "Will train until validation_0-logloss hasn't improved in 100 rounds.\n",
      "[100]\tvalidation_0-logloss:0.01921\n",
      "Stopping. Best iteration:\n",
      "[18]\tvalidation_0-logloss:0.01399\n",
      "\n"
     ]
    },
    {
     "name": "stderr",
     "output_type": "stream",
     "text": [
      " 57%|█████▋    | 117/206 [02:54<02:11,  1.48s/it]"
     ]
    },
    {
     "name": "stdout",
     "output_type": "stream",
     "text": [
      "[0]\tvalidation_0-logloss:0.43949\n",
      "Will train until validation_0-logloss hasn't improved in 100 rounds.\n",
      "[100]\tvalidation_0-logloss:0.01992\n",
      "Stopping. Best iteration:\n",
      "[20]\tvalidation_0-logloss:0.01428\n",
      "\n"
     ]
    },
    {
     "name": "stderr",
     "output_type": "stream",
     "text": [
      " 57%|█████▋    | 118/206 [02:55<02:13,  1.52s/it]"
     ]
    },
    {
     "name": "stdout",
     "output_type": "stream",
     "text": [
      "[0]\tvalidation_0-logloss:0.44125\n",
      "Will train until validation_0-logloss hasn't improved in 100 rounds.\n",
      "[100]\tvalidation_0-logloss:0.01776\n",
      "Stopping. Best iteration:\n",
      "[22]\tvalidation_0-logloss:0.01612\n",
      "\n"
     ]
    },
    {
     "name": "stderr",
     "output_type": "stream",
     "text": [
      " 58%|█████▊    | 119/206 [02:57<02:14,  1.54s/it]"
     ]
    },
    {
     "name": "stdout",
     "output_type": "stream",
     "text": [
      "[0]\tvalidation_0-logloss:0.44389\n",
      "Will train until validation_0-logloss hasn't improved in 100 rounds.\n",
      "[100]\tvalidation_0-logloss:0.01554\n",
      "Stopping. Best iteration:\n",
      "[39]\tvalidation_0-logloss:0.01455\n",
      "\n"
     ]
    },
    {
     "name": "stderr",
     "output_type": "stream",
     "text": [
      " 58%|█████▊    | 120/206 [02:59<02:21,  1.64s/it]"
     ]
    },
    {
     "name": "stdout",
     "output_type": "stream",
     "text": [
      "[0]\tvalidation_0-logloss:0.43784\n",
      "Will train until validation_0-logloss hasn't improved in 100 rounds.\n",
      "[100]\tvalidation_0-logloss:0.00250\n",
      "Stopping. Best iteration:\n",
      "[25]\tvalidation_0-logloss:0.00243\n",
      "\n"
     ]
    },
    {
     "name": "stderr",
     "output_type": "stream",
     "text": [
      " 59%|█████▊    | 121/206 [03:00<02:05,  1.48s/it]"
     ]
    },
    {
     "name": "stdout",
     "output_type": "stream",
     "text": [
      "[0]\tvalidation_0-logloss:0.43784\n",
      "Will train until validation_0-logloss hasn't improved in 100 rounds.\n",
      "[100]\tvalidation_0-logloss:0.00368\n",
      "Stopping. Best iteration:\n",
      "[24]\tvalidation_0-logloss:0.00307\n",
      "\n"
     ]
    },
    {
     "name": "stderr",
     "output_type": "stream",
     "text": [
      " 59%|█████▉    | 122/206 [03:01<01:54,  1.37s/it]"
     ]
    },
    {
     "name": "stdout",
     "output_type": "stream",
     "text": [
      "[0]\tvalidation_0-logloss:0.44044\n",
      "Will train until validation_0-logloss hasn't improved in 100 rounds.\n",
      "[100]\tvalidation_0-logloss:0.02784\n",
      "Stopping. Best iteration:\n",
      "[19]\tvalidation_0-logloss:0.01966\n",
      "\n"
     ]
    },
    {
     "name": "stderr",
     "output_type": "stream",
     "text": [
      " 60%|█████▉    | 123/206 [03:02<01:57,  1.41s/it]"
     ]
    },
    {
     "name": "stdout",
     "output_type": "stream",
     "text": [
      "[0]\tvalidation_0-logloss:0.43814\n",
      "Will train until validation_0-logloss hasn't improved in 100 rounds.\n",
      "[100]\tvalidation_0-logloss:0.00725\n",
      "Stopping. Best iteration:\n",
      "[22]\tvalidation_0-logloss:0.00571\n",
      "\n"
     ]
    },
    {
     "name": "stderr",
     "output_type": "stream",
     "text": [
      " 60%|██████    | 124/206 [03:04<01:50,  1.34s/it]"
     ]
    },
    {
     "name": "stdout",
     "output_type": "stream",
     "text": [
      "[0]\tvalidation_0-logloss:0.44042\n",
      "Will train until validation_0-logloss hasn't improved in 100 rounds.\n",
      "[100]\tvalidation_0-logloss:0.02694\n",
      "Stopping. Best iteration:\n",
      "[18]\tvalidation_0-logloss:0.01995\n",
      "\n"
     ]
    },
    {
     "name": "stderr",
     "output_type": "stream",
     "text": [
      " 61%|██████    | 125/206 [03:05<01:52,  1.39s/it]"
     ]
    },
    {
     "name": "stdout",
     "output_type": "stream",
     "text": [
      "[0]\tvalidation_0-logloss:0.43784\n",
      "Will train until validation_0-logloss hasn't improved in 100 rounds.\n",
      "[100]\tvalidation_0-logloss:0.00239\n",
      "Stopping. Best iteration:\n",
      "[24]\tvalidation_0-logloss:0.00219\n",
      "\n"
     ]
    },
    {
     "name": "stderr",
     "output_type": "stream",
     "text": [
      " 61%|██████    | 126/206 [03:06<01:44,  1.31s/it]"
     ]
    },
    {
     "name": "stdout",
     "output_type": "stream",
     "text": [
      "[0]\tvalidation_0-logloss:0.43871\n",
      "Will train until validation_0-logloss hasn't improved in 100 rounds.\n",
      "[100]\tvalidation_0-logloss:0.00888\n",
      "Stopping. Best iteration:\n",
      "[23]\tvalidation_0-logloss:0.00772\n",
      "\n"
     ]
    },
    {
     "name": "stderr",
     "output_type": "stream",
     "text": [
      " 62%|██████▏   | 127/206 [03:08<01:43,  1.31s/it]"
     ]
    },
    {
     "name": "stdout",
     "output_type": "stream",
     "text": [
      "[0]\tvalidation_0-logloss:0.44020\n",
      "Will train until validation_0-logloss hasn't improved in 100 rounds.\n",
      "[100]\tvalidation_0-logloss:0.01276\n",
      "Stopping. Best iteration:\n",
      "[26]\tvalidation_0-logloss:0.01133\n",
      "\n"
     ]
    },
    {
     "name": "stderr",
     "output_type": "stream",
     "text": [
      " 62%|██████▏   | 128/206 [03:09<01:45,  1.35s/it]"
     ]
    },
    {
     "name": "stdout",
     "output_type": "stream",
     "text": [
      "[0]\tvalidation_0-logloss:0.44098\n",
      "Will train until validation_0-logloss hasn't improved in 100 rounds.\n",
      "[100]\tvalidation_0-logloss:0.03382\n",
      "Stopping. Best iteration:\n",
      "[19]\tvalidation_0-logloss:0.02256\n",
      "\n"
     ]
    },
    {
     "name": "stderr",
     "output_type": "stream",
     "text": [
      " 63%|██████▎   | 129/206 [03:11<01:50,  1.43s/it]"
     ]
    },
    {
     "name": "stdout",
     "output_type": "stream",
     "text": [
      "[0]\tvalidation_0-logloss:0.43877\n",
      "Will train until validation_0-logloss hasn't improved in 100 rounds.\n",
      "[100]\tvalidation_0-logloss:0.01347\n",
      "Stopping. Best iteration:\n",
      "[20]\tvalidation_0-logloss:0.01003\n",
      "\n"
     ]
    },
    {
     "name": "stderr",
     "output_type": "stream",
     "text": [
      " 63%|██████▎   | 130/206 [03:12<01:44,  1.38s/it]"
     ]
    },
    {
     "name": "stdout",
     "output_type": "stream",
     "text": [
      "[0]\tvalidation_0-logloss:0.43797\n",
      "Will train until validation_0-logloss hasn't improved in 100 rounds.\n",
      "[100]\tvalidation_0-logloss:0.00340\n",
      "Stopping. Best iteration:\n",
      "[27]\tvalidation_0-logloss:0.00312\n",
      "\n"
     ]
    },
    {
     "name": "stderr",
     "output_type": "stream",
     "text": [
      " 64%|██████▎   | 131/206 [03:13<01:39,  1.32s/it]"
     ]
    },
    {
     "name": "stdout",
     "output_type": "stream",
     "text": [
      "[0]\tvalidation_0-logloss:0.44146\n",
      "Will train until validation_0-logloss hasn't improved in 100 rounds.\n",
      "[100]\tvalidation_0-logloss:0.03542\n",
      "Stopping. Best iteration:\n",
      "[17]\tvalidation_0-logloss:0.02492\n",
      "\n"
     ]
    },
    {
     "name": "stderr",
     "output_type": "stream",
     "text": [
      " 64%|██████▍   | 132/206 [03:15<01:43,  1.41s/it]"
     ]
    },
    {
     "name": "stdout",
     "output_type": "stream",
     "text": [
      "[0]\tvalidation_0-logloss:0.43844\n",
      "Will train until validation_0-logloss hasn't improved in 100 rounds.\n",
      "[100]\tvalidation_0-logloss:0.00771\n",
      "Stopping. Best iteration:\n",
      "[24]\tvalidation_0-logloss:0.00730\n",
      "\n"
     ]
    },
    {
     "name": "stderr",
     "output_type": "stream",
     "text": [
      " 65%|██████▍   | 133/206 [03:16<01:38,  1.34s/it]"
     ]
    },
    {
     "name": "stdout",
     "output_type": "stream",
     "text": [
      "[0]\tvalidation_0-logloss:0.44250\n",
      "Will train until validation_0-logloss hasn't improved in 100 rounds.\n",
      "[100]\tvalidation_0-logloss:0.02756\n",
      "Stopping. Best iteration:\n",
      "[18]\tvalidation_0-logloss:0.02200\n",
      "\n"
     ]
    },
    {
     "name": "stderr",
     "output_type": "stream",
     "text": [
      " 65%|██████▌   | 134/206 [03:17<01:41,  1.41s/it]"
     ]
    },
    {
     "name": "stdout",
     "output_type": "stream",
     "text": [
      "[0]\tvalidation_0-logloss:0.43979\n",
      "Will train until validation_0-logloss hasn't improved in 100 rounds.\n",
      "[100]\tvalidation_0-logloss:0.02130\n",
      "Stopping. Best iteration:\n",
      "[23]\tvalidation_0-logloss:0.01572\n",
      "\n"
     ]
    },
    {
     "name": "stderr",
     "output_type": "stream",
     "text": [
      " 66%|██████▌   | 135/206 [03:19<01:41,  1.43s/it]"
     ]
    },
    {
     "name": "stdout",
     "output_type": "stream",
     "text": [
      "[0]\tvalidation_0-logloss:0.43921\n",
      "Will train until validation_0-logloss hasn't improved in 100 rounds.\n",
      "[100]\tvalidation_0-logloss:0.01386\n",
      "Stopping. Best iteration:\n",
      "[19]\tvalidation_0-logloss:0.01144\n",
      "\n"
     ]
    },
    {
     "name": "stderr",
     "output_type": "stream",
     "text": [
      " 66%|██████▌   | 136/206 [03:20<01:40,  1.44s/it]"
     ]
    },
    {
     "name": "stdout",
     "output_type": "stream",
     "text": [
      "[0]\tvalidation_0-logloss:0.44340\n",
      "Will train until validation_0-logloss hasn't improved in 100 rounds.\n",
      "[100]\tvalidation_0-logloss:0.04041\n",
      "Stopping. Best iteration:\n",
      "[18]\tvalidation_0-logloss:0.03002\n",
      "\n"
     ]
    },
    {
     "name": "stderr",
     "output_type": "stream",
     "text": [
      " 67%|██████▋   | 137/206 [03:22<01:46,  1.55s/it]"
     ]
    },
    {
     "name": "stdout",
     "output_type": "stream",
     "text": [
      "[0]\tvalidation_0-logloss:0.43767\n",
      "Will train until validation_0-logloss hasn't improved in 100 rounds.\n",
      "[100]\tvalidation_0-logloss:0.00006\n",
      "Stopping. Best iteration:\n",
      "[53]\tvalidation_0-logloss:0.00006\n",
      "\n"
     ]
    },
    {
     "name": "stderr",
     "output_type": "stream",
     "text": [
      " 67%|██████▋   | 138/206 [03:23<01:37,  1.44s/it]"
     ]
    },
    {
     "name": "stdout",
     "output_type": "stream",
     "text": [
      "[0]\tvalidation_0-logloss:0.43879\n",
      "Will train until validation_0-logloss hasn't improved in 100 rounds.\n",
      "[100]\tvalidation_0-logloss:0.01160\n",
      "Stopping. Best iteration:\n",
      "[22]\tvalidation_0-logloss:0.00921\n",
      "\n"
     ]
    },
    {
     "name": "stderr",
     "output_type": "stream",
     "text": [
      " 67%|██████▋   | 139/206 [03:25<01:33,  1.39s/it]"
     ]
    },
    {
     "name": "stdout",
     "output_type": "stream",
     "text": [
      "[0]\tvalidation_0-logloss:0.43797\n",
      "Will train until validation_0-logloss hasn't improved in 100 rounds.\n",
      "[100]\tvalidation_0-logloss:0.00232\n",
      "Stopping. Best iteration:\n",
      "[57]\tvalidation_0-logloss:0.00226\n",
      "\n"
     ]
    },
    {
     "name": "stderr",
     "output_type": "stream",
     "text": [
      " 68%|██████▊   | 140/206 [03:26<01:31,  1.38s/it]"
     ]
    },
    {
     "name": "stdout",
     "output_type": "stream",
     "text": [
      "[0]\tvalidation_0-logloss:0.43877\n",
      "Will train until validation_0-logloss hasn't improved in 100 rounds.\n",
      "[100]\tvalidation_0-logloss:0.01331\n",
      "Stopping. Best iteration:\n",
      "[23]\tvalidation_0-logloss:0.00972\n",
      "\n"
     ]
    },
    {
     "name": "stderr",
     "output_type": "stream",
     "text": [
      " 68%|██████▊   | 141/206 [03:27<01:29,  1.37s/it]"
     ]
    },
    {
     "name": "stdout",
     "output_type": "stream",
     "text": [
      "[0]\tvalidation_0-logloss:0.43786\n",
      "Will train until validation_0-logloss hasn't improved in 100 rounds.\n",
      "[100]\tvalidation_0-logloss:0.00355\n",
      "Stopping. Best iteration:\n",
      "[25]\tvalidation_0-logloss:0.00300\n",
      "\n"
     ]
    },
    {
     "name": "stderr",
     "output_type": "stream",
     "text": [
      " 69%|██████▉   | 142/206 [03:28<01:22,  1.29s/it]"
     ]
    },
    {
     "name": "stdout",
     "output_type": "stream",
     "text": [
      "[0]\tvalidation_0-logloss:0.43842\n",
      "Will train until validation_0-logloss hasn't improved in 100 rounds.\n",
      "[100]\tvalidation_0-logloss:0.00753\n",
      "Stopping. Best iteration:\n",
      "[22]\tvalidation_0-logloss:0.00609\n",
      "\n"
     ]
    },
    {
     "name": "stderr",
     "output_type": "stream",
     "text": [
      " 69%|██████▉   | 143/206 [03:30<01:19,  1.26s/it]"
     ]
    },
    {
     "name": "stdout",
     "output_type": "stream",
     "text": [
      "[0]\tvalidation_0-logloss:0.44042\n",
      "Will train until validation_0-logloss hasn't improved in 100 rounds.\n",
      "[100]\tvalidation_0-logloss:0.02630\n",
      "Stopping. Best iteration:\n",
      "[21]\tvalidation_0-logloss:0.01976\n",
      "\n"
     ]
    },
    {
     "name": "stderr",
     "output_type": "stream",
     "text": [
      " 70%|██████▉   | 144/206 [03:31<01:24,  1.36s/it]"
     ]
    },
    {
     "name": "stdout",
     "output_type": "stream",
     "text": [
      "[0]\tvalidation_0-logloss:0.44186\n",
      "Will train until validation_0-logloss hasn't improved in 100 rounds.\n",
      "[100]\tvalidation_0-logloss:0.03801\n",
      "Stopping. Best iteration:\n",
      "[17]\tvalidation_0-logloss:0.02734\n",
      "\n"
     ]
    },
    {
     "name": "stderr",
     "output_type": "stream",
     "text": [
      " 70%|███████   | 145/206 [03:33<01:28,  1.45s/it]"
     ]
    },
    {
     "name": "stdout",
     "output_type": "stream",
     "text": [
      "[0]\tvalidation_0-logloss:0.43921\n",
      "Will train until validation_0-logloss hasn't improved in 100 rounds.\n",
      "[100]\tvalidation_0-logloss:0.01533\n",
      "Stopping. Best iteration:\n",
      "[21]\tvalidation_0-logloss:0.01152\n",
      "\n"
     ]
    },
    {
     "name": "stderr",
     "output_type": "stream",
     "text": [
      " 71%|███████   | 146/206 [03:34<01:26,  1.44s/it]"
     ]
    },
    {
     "name": "stdout",
     "output_type": "stream",
     "text": [
      "[0]\tvalidation_0-logloss:0.44035\n",
      "Will train until validation_0-logloss hasn't improved in 100 rounds.\n",
      "[100]\tvalidation_0-logloss:0.01424\n",
      "Stopping. Best iteration:\n",
      "[33]\tvalidation_0-logloss:0.01305\n",
      "\n"
     ]
    },
    {
     "name": "stderr",
     "output_type": "stream",
     "text": [
      " 71%|███████▏  | 147/206 [03:36<01:25,  1.45s/it]"
     ]
    },
    {
     "name": "stdout",
     "output_type": "stream",
     "text": [
      "[0]\tvalidation_0-logloss:0.43858\n",
      "Will train until validation_0-logloss hasn't improved in 100 rounds.\n",
      "[100]\tvalidation_0-logloss:0.00906\n",
      "Stopping. Best iteration:\n",
      "[23]\tvalidation_0-logloss:0.00741\n",
      "\n"
     ]
    },
    {
     "name": "stderr",
     "output_type": "stream",
     "text": [
      " 72%|███████▏  | 148/206 [03:37<01:21,  1.40s/it]"
     ]
    },
    {
     "name": "stdout",
     "output_type": "stream",
     "text": [
      "[0]\tvalidation_0-logloss:0.44042\n",
      "Will train until validation_0-logloss hasn't improved in 100 rounds.\n",
      "[100]\tvalidation_0-logloss:0.02267\n",
      "Stopping. Best iteration:\n",
      "[20]\tvalidation_0-logloss:0.01728\n",
      "\n"
     ]
    },
    {
     "name": "stderr",
     "output_type": "stream",
     "text": [
      " 72%|███████▏  | 149/206 [03:39<01:22,  1.45s/it]"
     ]
    },
    {
     "name": "stdout",
     "output_type": "stream",
     "text": [
      "[0]\tvalidation_0-logloss:0.44515\n",
      "Will train until validation_0-logloss hasn't improved in 100 rounds.\n",
      "[100]\tvalidation_0-logloss:0.02477\n",
      "Stopping. Best iteration:\n",
      "[25]\tvalidation_0-logloss:0.02150\n",
      "\n"
     ]
    },
    {
     "name": "stderr",
     "output_type": "stream",
     "text": [
      " 73%|███████▎  | 150/206 [03:40<01:27,  1.57s/it]"
     ]
    },
    {
     "name": "stdout",
     "output_type": "stream",
     "text": [
      "[0]\tvalidation_0-logloss:0.43844\n",
      "Will train until validation_0-logloss hasn't improved in 100 rounds.\n",
      "[100]\tvalidation_0-logloss:0.00978\n",
      "Stopping. Best iteration:\n",
      "[24]\tvalidation_0-logloss:0.00773\n",
      "\n"
     ]
    },
    {
     "name": "stderr",
     "output_type": "stream",
     "text": [
      " 73%|███████▎  | 151/206 [03:42<01:20,  1.47s/it]"
     ]
    },
    {
     "name": "stdout",
     "output_type": "stream",
     "text": [
      "[0]\tvalidation_0-logloss:0.44960\n",
      "Will train until validation_0-logloss hasn't improved in 100 rounds.\n",
      "[100]\tvalidation_0-logloss:0.09985\n",
      "Stopping. Best iteration:\n",
      "[16]\tvalidation_0-logloss:0.06491\n",
      "\n"
     ]
    },
    {
     "name": "stderr",
     "output_type": "stream",
     "text": [
      " 74%|███████▍  | 152/206 [03:44<01:31,  1.69s/it]"
     ]
    },
    {
     "name": "stdout",
     "output_type": "stream",
     "text": [
      "[0]\tvalidation_0-logloss:0.43860\n",
      "Will train until validation_0-logloss hasn't improved in 100 rounds.\n",
      "[100]\tvalidation_0-logloss:0.00951\n",
      "Stopping. Best iteration:\n",
      "[21]\tvalidation_0-logloss:0.00761\n",
      "\n"
     ]
    },
    {
     "name": "stderr",
     "output_type": "stream",
     "text": [
      " 74%|███████▍  | 153/206 [03:45<01:22,  1.56s/it]"
     ]
    },
    {
     "name": "stdout",
     "output_type": "stream",
     "text": [
      "[0]\tvalidation_0-logloss:0.44365\n",
      "Will train until validation_0-logloss hasn't improved in 100 rounds.\n",
      "[100]\tvalidation_0-logloss:0.04731\n",
      "Stopping. Best iteration:\n",
      "[17]\tvalidation_0-logloss:0.03515\n",
      "\n"
     ]
    },
    {
     "name": "stderr",
     "output_type": "stream",
     "text": [
      " 75%|███████▍  | 154/206 [03:47<01:23,  1.61s/it]"
     ]
    },
    {
     "name": "stdout",
     "output_type": "stream",
     "text": [
      "[0]\tvalidation_0-logloss:0.43907\n",
      "Will train until validation_0-logloss hasn't improved in 100 rounds.\n",
      "[100]\tvalidation_0-logloss:0.01427\n",
      "Stopping. Best iteration:\n",
      "[20]\tvalidation_0-logloss:0.01179\n",
      "\n"
     ]
    },
    {
     "name": "stderr",
     "output_type": "stream",
     "text": [
      " 75%|███████▌  | 155/206 [03:48<01:19,  1.56s/it]"
     ]
    },
    {
     "name": "stdout",
     "output_type": "stream",
     "text": [
      "[0]\tvalidation_0-logloss:0.44012\n",
      "Will train until validation_0-logloss hasn't improved in 100 rounds.\n",
      "[100]\tvalidation_0-logloss:0.02497\n",
      "Stopping. Best iteration:\n",
      "[20]\tvalidation_0-logloss:0.01786\n",
      "\n"
     ]
    },
    {
     "name": "stderr",
     "output_type": "stream",
     "text": [
      " 76%|███████▌  | 156/206 [03:50<01:18,  1.57s/it]"
     ]
    },
    {
     "name": "stdout",
     "output_type": "stream",
     "text": [
      "[0]\tvalidation_0-logloss:0.44207\n",
      "Will train until validation_0-logloss hasn't improved in 100 rounds.\n",
      "[100]\tvalidation_0-logloss:0.03828\n",
      "Stopping. Best iteration:\n",
      "[17]\tvalidation_0-logloss:0.02829\n",
      "\n"
     ]
    },
    {
     "name": "stderr",
     "output_type": "stream",
     "text": [
      " 76%|███████▌  | 157/206 [03:52<01:18,  1.60s/it]"
     ]
    },
    {
     "name": "stdout",
     "output_type": "stream",
     "text": [
      "[0]\tvalidation_0-logloss:0.44356\n",
      "Will train until validation_0-logloss hasn't improved in 100 rounds.\n",
      "[100]\tvalidation_0-logloss:0.04407\n",
      "Stopping. Best iteration:\n",
      "[15]\tvalidation_0-logloss:0.03092\n",
      "\n"
     ]
    },
    {
     "name": "stderr",
     "output_type": "stream",
     "text": [
      " 77%|███████▋  | 158/206 [03:53<01:18,  1.63s/it]"
     ]
    },
    {
     "name": "stdout",
     "output_type": "stream",
     "text": [
      "[0]\tvalidation_0-logloss:0.43909\n",
      "Will train until validation_0-logloss hasn't improved in 100 rounds.\n",
      "[100]\tvalidation_0-logloss:0.01696\n",
      "Stopping. Best iteration:\n",
      "[19]\tvalidation_0-logloss:0.01200\n",
      "\n"
     ]
    },
    {
     "name": "stderr",
     "output_type": "stream",
     "text": [
      " 77%|███████▋  | 159/206 [03:55<01:14,  1.58s/it]"
     ]
    },
    {
     "name": "stdout",
     "output_type": "stream",
     "text": [
      "[0]\tvalidation_0-logloss:0.44306\n",
      "Will train until validation_0-logloss hasn't improved in 100 rounds.\n",
      "[100]\tvalidation_0-logloss:0.04190\n",
      "Stopping. Best iteration:\n",
      "[18]\tvalidation_0-logloss:0.03086\n",
      "\n"
     ]
    },
    {
     "name": "stderr",
     "output_type": "stream",
     "text": [
      " 78%|███████▊  | 160/206 [03:56<01:14,  1.62s/it]"
     ]
    },
    {
     "name": "stdout",
     "output_type": "stream",
     "text": [
      "[0]\tvalidation_0-logloss:0.43844\n",
      "Will train until validation_0-logloss hasn't improved in 100 rounds.\n",
      "[100]\tvalidation_0-logloss:0.00700\n",
      "Stopping. Best iteration:\n",
      "[27]\tvalidation_0-logloss:0.00627\n",
      "\n"
     ]
    },
    {
     "name": "stderr",
     "output_type": "stream",
     "text": [
      " 78%|███████▊  | 161/206 [03:58<01:08,  1.53s/it]"
     ]
    },
    {
     "name": "stdout",
     "output_type": "stream",
     "text": [
      "[0]\tvalidation_0-logloss:0.43919\n",
      "Will train until validation_0-logloss hasn't improved in 100 rounds.\n",
      "[100]\tvalidation_0-logloss:0.01426\n",
      "Stopping. Best iteration:\n",
      "[20]\tvalidation_0-logloss:0.01137\n",
      "\n"
     ]
    },
    {
     "name": "stderr",
     "output_type": "stream",
     "text": [
      " 79%|███████▊  | 162/206 [03:59<01:05,  1.50s/it]"
     ]
    },
    {
     "name": "stdout",
     "output_type": "stream",
     "text": [
      "[0]\tvalidation_0-logloss:0.44142\n",
      "Will train until validation_0-logloss hasn't improved in 100 rounds.\n",
      "[100]\tvalidation_0-logloss:0.03709\n",
      "Stopping. Best iteration:\n",
      "[18]\tvalidation_0-logloss:0.02530\n",
      "\n"
     ]
    },
    {
     "name": "stderr",
     "output_type": "stream",
     "text": [
      " 79%|███████▉  | 163/206 [04:01<01:05,  1.53s/it]"
     ]
    },
    {
     "name": "stdout",
     "output_type": "stream",
     "text": [
      "[0]\tvalidation_0-logloss:0.43877\n",
      "Will train until validation_0-logloss hasn't improved in 100 rounds.\n",
      "[100]\tvalidation_0-logloss:0.00077\n",
      "Stopping. Best iteration:\n",
      "[41]\tvalidation_0-logloss:0.00077\n",
      "\n"
     ]
    },
    {
     "name": "stderr",
     "output_type": "stream",
     "text": [
      " 80%|███████▉  | 164/206 [04:02<01:00,  1.43s/it]"
     ]
    },
    {
     "name": "stdout",
     "output_type": "stream",
     "text": [
      "[0]\tvalidation_0-logloss:0.43979\n",
      "Will train until validation_0-logloss hasn't improved in 100 rounds.\n",
      "[100]\tvalidation_0-logloss:0.02177\n",
      "Stopping. Best iteration:\n",
      "[19]\tvalidation_0-logloss:0.01530\n",
      "\n"
     ]
    },
    {
     "name": "stderr",
     "output_type": "stream",
     "text": [
      " 80%|████████  | 165/206 [04:03<00:58,  1.43s/it]"
     ]
    },
    {
     "name": "stdout",
     "output_type": "stream",
     "text": [
      "[0]\tvalidation_0-logloss:0.43767\n",
      "Will train until validation_0-logloss hasn't improved in 100 rounds.\n",
      "[100]\tvalidation_0-logloss:0.00008\n",
      "Stopping. Best iteration:\n",
      "[53]\tvalidation_0-logloss:0.00008\n",
      "\n"
     ]
    },
    {
     "name": "stderr",
     "output_type": "stream",
     "text": [
      " 81%|████████  | 166/206 [04:05<00:55,  1.38s/it]"
     ]
    },
    {
     "name": "stdout",
     "output_type": "stream",
     "text": [
      "[0]\tvalidation_0-logloss:0.44183\n",
      "Will train until validation_0-logloss hasn't improved in 100 rounds.\n",
      "[100]\tvalidation_0-logloss:0.04034\n",
      "Stopping. Best iteration:\n",
      "[18]\tvalidation_0-logloss:0.02769\n",
      "\n"
     ]
    },
    {
     "name": "stderr",
     "output_type": "stream",
     "text": [
      " 81%|████████  | 167/206 [04:06<00:56,  1.45s/it]"
     ]
    },
    {
     "name": "stdout",
     "output_type": "stream",
     "text": [
      "[0]\tvalidation_0-logloss:0.43847\n",
      "Will train until validation_0-logloss hasn't improved in 100 rounds.\n",
      "[100]\tvalidation_0-logloss:0.00994\n",
      "Stopping. Best iteration:\n",
      "[24]\tvalidation_0-logloss:0.00762\n",
      "\n"
     ]
    },
    {
     "name": "stderr",
     "output_type": "stream",
     "text": [
      " 82%|████████▏ | 168/206 [04:08<00:52,  1.39s/it]"
     ]
    },
    {
     "name": "stdout",
     "output_type": "stream",
     "text": [
      "[0]\tvalidation_0-logloss:0.44014\n",
      "Will train until validation_0-logloss hasn't improved in 100 rounds.\n",
      "[100]\tvalidation_0-logloss:0.02498\n",
      "Stopping. Best iteration:\n",
      "[20]\tvalidation_0-logloss:0.01814\n",
      "\n"
     ]
    },
    {
     "name": "stderr",
     "output_type": "stream",
     "text": [
      " 82%|████████▏ | 169/206 [04:09<00:52,  1.43s/it]"
     ]
    },
    {
     "name": "stdout",
     "output_type": "stream",
     "text": [
      "[0]\tvalidation_0-logloss:0.44070\n",
      "Will train until validation_0-logloss hasn't improved in 100 rounds.\n",
      "[100]\tvalidation_0-logloss:0.01469\n",
      "Stopping. Best iteration:\n",
      "[22]\tvalidation_0-logloss:0.01291\n",
      "\n"
     ]
    },
    {
     "name": "stderr",
     "output_type": "stream",
     "text": [
      " 83%|████████▎ | 170/206 [04:11<00:52,  1.45s/it]"
     ]
    },
    {
     "name": "stdout",
     "output_type": "stream",
     "text": [
      "[0]\tvalidation_0-logloss:0.43814\n",
      "Will train until validation_0-logloss hasn't improved in 100 rounds.\n",
      "[100]\tvalidation_0-logloss:0.00589\n",
      "Stopping. Best iteration:\n",
      "[24]\tvalidation_0-logloss:0.00505\n",
      "\n"
     ]
    },
    {
     "name": "stderr",
     "output_type": "stream",
     "text": [
      " 83%|████████▎ | 171/206 [04:12<00:47,  1.36s/it]"
     ]
    },
    {
     "name": "stdout",
     "output_type": "stream",
     "text": [
      "[0]\tvalidation_0-logloss:0.43989\n",
      "Will train until validation_0-logloss hasn't improved in 100 rounds.\n",
      "[100]\tvalidation_0-logloss:0.01290\n",
      "Stopping. Best iteration:\n",
      "[20]\tvalidation_0-logloss:0.01086\n",
      "\n"
     ]
    },
    {
     "name": "stderr",
     "output_type": "stream",
     "text": [
      " 83%|████████▎ | 172/206 [04:13<00:47,  1.39s/it]"
     ]
    },
    {
     "name": "stdout",
     "output_type": "stream",
     "text": [
      "[0]\tvalidation_0-logloss:0.43784\n",
      "Will train until validation_0-logloss hasn't improved in 100 rounds.\n",
      "[100]\tvalidation_0-logloss:0.00241\n",
      "Stopping. Best iteration:\n",
      "[40]\tvalidation_0-logloss:0.00238\n",
      "\n"
     ]
    },
    {
     "name": "stderr",
     "output_type": "stream",
     "text": [
      " 84%|████████▍ | 173/206 [04:14<00:43,  1.31s/it]"
     ]
    },
    {
     "name": "stdout",
     "output_type": "stream",
     "text": [
      "[0]\tvalidation_0-logloss:0.43917\n",
      "Will train until validation_0-logloss hasn't improved in 100 rounds.\n",
      "[100]\tvalidation_0-logloss:0.00776\n",
      "[200]\tvalidation_0-logloss:0.00769\n",
      "Stopping. Best iteration:\n",
      "[102]\tvalidation_0-logloss:0.00769\n",
      "\n"
     ]
    },
    {
     "name": "stderr",
     "output_type": "stream",
     "text": [
      " 84%|████████▍ | 174/206 [04:16<00:44,  1.40s/it]"
     ]
    },
    {
     "name": "stdout",
     "output_type": "stream",
     "text": [
      "[0]\tvalidation_0-logloss:0.43928\n",
      "Will train until validation_0-logloss hasn't improved in 100 rounds.\n",
      "[100]\tvalidation_0-logloss:0.00929\n",
      "Stopping. Best iteration:\n",
      "[25]\tvalidation_0-logloss:0.00814\n",
      "\n"
     ]
    },
    {
     "name": "stderr",
     "output_type": "stream",
     "text": [
      " 85%|████████▍ | 175/206 [04:17<00:43,  1.39s/it]"
     ]
    },
    {
     "name": "stdout",
     "output_type": "stream",
     "text": [
      "[0]\tvalidation_0-logloss:0.43877\n",
      "Will train until validation_0-logloss hasn't improved in 100 rounds.\n",
      "[100]\tvalidation_0-logloss:0.01226\n",
      "Stopping. Best iteration:\n",
      "[22]\tvalidation_0-logloss:0.00960\n",
      "\n"
     ]
    },
    {
     "name": "stderr",
     "output_type": "stream",
     "text": [
      " 85%|████████▌ | 176/206 [04:19<00:40,  1.36s/it]"
     ]
    },
    {
     "name": "stdout",
     "output_type": "stream",
     "text": [
      "[0]\tvalidation_0-logloss:0.44835\n",
      "Will train until validation_0-logloss hasn't improved in 100 rounds.\n",
      "[100]\tvalidation_0-logloss:0.09602\n",
      "Stopping. Best iteration:\n",
      "[16]\tvalidation_0-logloss:0.05947\n",
      "\n"
     ]
    },
    {
     "name": "stderr",
     "output_type": "stream",
     "text": [
      " 86%|████████▌ | 177/206 [04:21<00:45,  1.56s/it]"
     ]
    },
    {
     "name": "stdout",
     "output_type": "stream",
     "text": [
      "[0]\tvalidation_0-logloss:0.45608\n",
      "Will train until validation_0-logloss hasn't improved in 100 rounds.\n",
      "[100]\tvalidation_0-logloss:0.14069\n",
      "Stopping. Best iteration:\n",
      "[15]\tvalidation_0-logloss:0.09052\n",
      "\n"
     ]
    },
    {
     "name": "stderr",
     "output_type": "stream",
     "text": [
      " 86%|████████▋ | 178/206 [04:23<00:50,  1.80s/it]"
     ]
    },
    {
     "name": "stdout",
     "output_type": "stream",
     "text": [
      "[0]\tvalidation_0-logloss:0.43954\n",
      "Will train until validation_0-logloss hasn't improved in 100 rounds.\n",
      "[100]\tvalidation_0-logloss:0.01815\n",
      "Stopping. Best iteration:\n",
      "[20]\tvalidation_0-logloss:0.01364\n",
      "\n"
     ]
    },
    {
     "name": "stderr",
     "output_type": "stream",
     "text": [
      " 87%|████████▋ | 179/206 [04:24<00:45,  1.68s/it]"
     ]
    },
    {
     "name": "stdout",
     "output_type": "stream",
     "text": [
      "[0]\tvalidation_0-logloss:0.43919\n",
      "Will train until validation_0-logloss hasn't improved in 100 rounds.\n",
      "[100]\tvalidation_0-logloss:0.01594\n",
      "Stopping. Best iteration:\n",
      "[21]\tvalidation_0-logloss:0.01201\n",
      "\n"
     ]
    },
    {
     "name": "stderr",
     "output_type": "stream",
     "text": [
      " 87%|████████▋ | 180/206 [04:26<00:41,  1.59s/it]"
     ]
    },
    {
     "name": "stdout",
     "output_type": "stream",
     "text": [
      "[0]\tvalidation_0-logloss:0.43919\n",
      "Will train until validation_0-logloss hasn't improved in 100 rounds.\n",
      "[100]\tvalidation_0-logloss:0.01545\n",
      "Stopping. Best iteration:\n",
      "[21]\tvalidation_0-logloss:0.01185\n",
      "\n"
     ]
    },
    {
     "name": "stderr",
     "output_type": "stream",
     "text": [
      " 88%|████████▊ | 181/206 [04:27<00:38,  1.55s/it]"
     ]
    },
    {
     "name": "stdout",
     "output_type": "stream",
     "text": [
      "[0]\tvalidation_0-logloss:0.43877\n",
      "Will train until validation_0-logloss hasn't improved in 100 rounds.\n",
      "[100]\tvalidation_0-logloss:0.01355\n",
      "Stopping. Best iteration:\n",
      "[20]\tvalidation_0-logloss:0.00972\n",
      "\n"
     ]
    },
    {
     "name": "stderr",
     "output_type": "stream",
     "text": [
      " 88%|████████▊ | 182/206 [04:29<00:35,  1.47s/it]"
     ]
    },
    {
     "name": "stdout",
     "output_type": "stream",
     "text": [
      "[0]\tvalidation_0-logloss:0.44983\n",
      "Will train until validation_0-logloss hasn't improved in 100 rounds.\n",
      "[100]\tvalidation_0-logloss:0.10331\n",
      "Stopping. Best iteration:\n",
      "[16]\tvalidation_0-logloss:0.06474\n",
      "\n"
     ]
    },
    {
     "name": "stderr",
     "output_type": "stream",
     "text": [
      " 89%|████████▉ | 183/206 [04:31<00:39,  1.70s/it]"
     ]
    },
    {
     "name": "stdout",
     "output_type": "stream",
     "text": [
      "[0]\tvalidation_0-logloss:0.43860\n",
      "Will train until validation_0-logloss hasn't improved in 100 rounds.\n",
      "[100]\tvalidation_0-logloss:0.00871\n",
      "Stopping. Best iteration:\n",
      "[23]\tvalidation_0-logloss:0.00720\n",
      "\n"
     ]
    },
    {
     "name": "stderr",
     "output_type": "stream",
     "text": [
      " 89%|████████▉ | 184/206 [04:32<00:34,  1.58s/it]"
     ]
    },
    {
     "name": "stdout",
     "output_type": "stream",
     "text": [
      "[0]\tvalidation_0-logloss:0.44105\n",
      "Will train until validation_0-logloss hasn't improved in 100 rounds.\n",
      "[100]\tvalidation_0-logloss:0.01888\n",
      "Stopping. Best iteration:\n",
      "[18]\tvalidation_0-logloss:0.01532\n",
      "\n"
     ]
    },
    {
     "name": "stderr",
     "output_type": "stream",
     "text": [
      " 90%|████████▉ | 185/206 [04:34<00:32,  1.56s/it]"
     ]
    },
    {
     "name": "stdout",
     "output_type": "stream",
     "text": [
      "[0]\tvalidation_0-logloss:0.43799\n",
      "Will train until validation_0-logloss hasn't improved in 100 rounds.\n",
      "[100]\tvalidation_0-logloss:0.00330\n",
      "Stopping. Best iteration:\n",
      "[29]\tvalidation_0-logloss:0.00304\n",
      "\n"
     ]
    },
    {
     "name": "stderr",
     "output_type": "stream",
     "text": [
      " 90%|█████████ | 186/206 [04:35<00:28,  1.43s/it]"
     ]
    },
    {
     "name": "stdout",
     "output_type": "stream",
     "text": [
      "[0]\tvalidation_0-logloss:0.43847\n",
      "Will train until validation_0-logloss hasn't improved in 100 rounds.\n",
      "[100]\tvalidation_0-logloss:0.00960\n",
      "Stopping. Best iteration:\n",
      "[22]\tvalidation_0-logloss:0.00775\n",
      "\n"
     ]
    },
    {
     "name": "stderr",
     "output_type": "stream",
     "text": [
      " 91%|█████████ | 187/206 [04:36<00:25,  1.36s/it]"
     ]
    },
    {
     "name": "stdout",
     "output_type": "stream",
     "text": [
      "[0]\tvalidation_0-logloss:0.44023\n",
      "Will train until validation_0-logloss hasn't improved in 100 rounds.\n",
      "[100]\tvalidation_0-logloss:0.02255\n",
      "Stopping. Best iteration:\n",
      "[23]\tvalidation_0-logloss:0.01770\n",
      "\n"
     ]
    },
    {
     "name": "stderr",
     "output_type": "stream",
     "text": [
      " 91%|█████████▏| 188/206 [04:37<00:25,  1.42s/it]"
     ]
    },
    {
     "name": "stdout",
     "output_type": "stream",
     "text": [
      "[0]\tvalidation_0-logloss:0.43848\n",
      "Will train until validation_0-logloss hasn't improved in 100 rounds.\n",
      "[100]\tvalidation_0-logloss:0.00110\n",
      "Stopping. Best iteration:\n",
      "[59]\tvalidation_0-logloss:0.00110\n",
      "\n"
     ]
    },
    {
     "name": "stderr",
     "output_type": "stream",
     "text": [
      " 92%|█████████▏| 189/206 [04:39<00:23,  1.37s/it]"
     ]
    },
    {
     "name": "stdout",
     "output_type": "stream",
     "text": [
      "[0]\tvalidation_0-logloss:0.43830\n",
      "Will train until validation_0-logloss hasn't improved in 100 rounds.\n",
      "[100]\tvalidation_0-logloss:0.00622\n",
      "Stopping. Best iteration:\n",
      "[24]\tvalidation_0-logloss:0.00537\n",
      "\n"
     ]
    },
    {
     "name": "stderr",
     "output_type": "stream",
     "text": [
      " 92%|█████████▏| 190/206 [04:40<00:21,  1.33s/it]"
     ]
    },
    {
     "name": "stdout",
     "output_type": "stream",
     "text": [
      "[0]\tvalidation_0-logloss:0.43921\n",
      "Will train until validation_0-logloss hasn't improved in 100 rounds.\n",
      "[100]\tvalidation_0-logloss:0.01029\n",
      "Stopping. Best iteration:\n",
      "[22]\tvalidation_0-logloss:0.00972\n",
      "\n"
     ]
    },
    {
     "name": "stderr",
     "output_type": "stream",
     "text": [
      " 93%|█████████▎| 191/206 [04:41<00:20,  1.36s/it]"
     ]
    },
    {
     "name": "stdout",
     "output_type": "stream",
     "text": [
      "[0]\tvalidation_0-logloss:0.43888\n",
      "Will train until validation_0-logloss hasn't improved in 100 rounds.\n",
      "[100]\tvalidation_0-logloss:0.01241\n",
      "Stopping. Best iteration:\n",
      "[22]\tvalidation_0-logloss:0.00977\n",
      "\n"
     ]
    },
    {
     "name": "stderr",
     "output_type": "stream",
     "text": [
      " 93%|█████████▎| 192/206 [04:43<00:19,  1.36s/it]"
     ]
    },
    {
     "name": "stdout",
     "output_type": "stream",
     "text": [
      "[0]\tvalidation_0-logloss:0.43786\n",
      "Will train until validation_0-logloss hasn't improved in 100 rounds.\n",
      "[100]\tvalidation_0-logloss:0.00348\n",
      "Stopping. Best iteration:\n",
      "[26]\tvalidation_0-logloss:0.00307\n",
      "\n"
     ]
    },
    {
     "name": "stderr",
     "output_type": "stream",
     "text": [
      " 94%|█████████▎| 193/206 [04:44<00:16,  1.29s/it]"
     ]
    },
    {
     "name": "stdout",
     "output_type": "stream",
     "text": [
      "[0]\tvalidation_0-logloss:0.43917\n",
      "Will train until validation_0-logloss hasn't improved in 100 rounds.\n",
      "[100]\tvalidation_0-logloss:0.01509\n",
      "Stopping. Best iteration:\n",
      "[23]\tvalidation_0-logloss:0.01170\n",
      "\n"
     ]
    },
    {
     "name": "stderr",
     "output_type": "stream",
     "text": [
      " 94%|█████████▍| 194/206 [04:45<00:15,  1.31s/it]"
     ]
    },
    {
     "name": "stdout",
     "output_type": "stream",
     "text": [
      "[0]\tvalidation_0-logloss:0.44254\n",
      "Will train until validation_0-logloss hasn't improved in 100 rounds.\n",
      "[100]\tvalidation_0-logloss:0.02056\n",
      "Stopping. Best iteration:\n",
      "[21]\tvalidation_0-logloss:0.01832\n",
      "\n"
     ]
    },
    {
     "name": "stderr",
     "output_type": "stream",
     "text": [
      " 95%|█████████▍| 195/206 [04:47<00:15,  1.40s/it]"
     ]
    },
    {
     "name": "stdout",
     "output_type": "stream",
     "text": [
      "[0]\tvalidation_0-logloss:0.43844\n",
      "Will train until validation_0-logloss hasn't improved in 100 rounds.\n",
      "[100]\tvalidation_0-logloss:0.01086\n",
      "Stopping. Best iteration:\n",
      "[20]\tvalidation_0-logloss:0.00803\n",
      "\n"
     ]
    },
    {
     "name": "stderr",
     "output_type": "stream",
     "text": [
      " 95%|█████████▌| 196/206 [04:48<00:14,  1.47s/it]"
     ]
    },
    {
     "name": "stdout",
     "output_type": "stream",
     "text": [
      "[0]\tvalidation_0-logloss:0.43784\n",
      "Will train until validation_0-logloss hasn't improved in 100 rounds.\n",
      "[100]\tvalidation_0-logloss:0.00340\n",
      "Stopping. Best iteration:\n",
      "[25]\tvalidation_0-logloss:0.00298\n",
      "\n"
     ]
    },
    {
     "name": "stderr",
     "output_type": "stream",
     "text": [
      " 96%|█████████▌| 197/206 [04:50<00:12,  1.38s/it]"
     ]
    },
    {
     "name": "stdout",
     "output_type": "stream",
     "text": [
      "[0]\tvalidation_0-logloss:0.43860\n",
      "Will train until validation_0-logloss hasn't improved in 100 rounds.\n",
      "[100]\tvalidation_0-logloss:0.00645\n",
      "Stopping. Best iteration:\n",
      "[23]\tvalidation_0-logloss:0.00520\n",
      "\n"
     ]
    },
    {
     "name": "stderr",
     "output_type": "stream",
     "text": [
      " 96%|█████████▌| 198/206 [04:51<00:10,  1.36s/it]"
     ]
    },
    {
     "name": "stdout",
     "output_type": "stream",
     "text": [
      "[0]\tvalidation_0-logloss:0.43977\n",
      "Will train until validation_0-logloss hasn't improved in 100 rounds.\n",
      "[100]\tvalidation_0-logloss:0.02002\n",
      "Stopping. Best iteration:\n",
      "[18]\tvalidation_0-logloss:0.01562\n",
      "\n"
     ]
    },
    {
     "name": "stderr",
     "output_type": "stream",
     "text": [
      " 97%|█████████▋| 199/206 [04:52<00:09,  1.39s/it]"
     ]
    },
    {
     "name": "stdout",
     "output_type": "stream",
     "text": [
      "[0]\tvalidation_0-logloss:0.44394\n",
      "Will train until validation_0-logloss hasn't improved in 100 rounds.\n",
      "[100]\tvalidation_0-logloss:0.02779\n",
      "Stopping. Best iteration:\n",
      "[20]\tvalidation_0-logloss:0.02302\n",
      "\n"
     ]
    },
    {
     "name": "stderr",
     "output_type": "stream",
     "text": [
      " 97%|█████████▋| 200/206 [04:54<00:08,  1.50s/it]"
     ]
    },
    {
     "name": "stdout",
     "output_type": "stream",
     "text": [
      "[0]\tvalidation_0-logloss:0.44103\n",
      "Will train until validation_0-logloss hasn't improved in 100 rounds.\n",
      "[100]\tvalidation_0-logloss:0.03021\n",
      "Stopping. Best iteration:\n",
      "[19]\tvalidation_0-logloss:0.02146\n",
      "\n"
     ]
    },
    {
     "name": "stderr",
     "output_type": "stream",
     "text": [
      " 98%|█████████▊| 201/206 [04:56<00:07,  1.53s/it]"
     ]
    },
    {
     "name": "stdout",
     "output_type": "stream",
     "text": [
      "[0]\tvalidation_0-logloss:0.43784\n",
      "Will train until validation_0-logloss hasn't improved in 100 rounds.\n",
      "[100]\tvalidation_0-logloss:0.00322\n",
      "Stopping. Best iteration:\n",
      "[24]\tvalidation_0-logloss:0.00274\n",
      "\n"
     ]
    },
    {
     "name": "stderr",
     "output_type": "stream",
     "text": [
      " 98%|█████████▊| 202/206 [04:57<00:05,  1.39s/it]"
     ]
    },
    {
     "name": "stdout",
     "output_type": "stream",
     "text": [
      "[0]\tvalidation_0-logloss:0.44506\n",
      "Will train until validation_0-logloss hasn't improved in 100 rounds.\n",
      "[100]\tvalidation_0-logloss:0.03227\n",
      "Stopping. Best iteration:\n",
      "[20]\tvalidation_0-logloss:0.02642\n",
      "\n"
     ]
    },
    {
     "name": "stderr",
     "output_type": "stream",
     "text": [
      " 99%|█████████▊| 203/206 [04:59<00:04,  1.51s/it]"
     ]
    },
    {
     "name": "stdout",
     "output_type": "stream",
     "text": [
      "[0]\tvalidation_0-logloss:0.43879\n",
      "Will train until validation_0-logloss hasn't improved in 100 rounds.\n",
      "[100]\tvalidation_0-logloss:0.01442\n",
      "Stopping. Best iteration:\n",
      "[19]\tvalidation_0-logloss:0.01021\n",
      "\n"
     ]
    },
    {
     "name": "stderr",
     "output_type": "stream",
     "text": [
      " 99%|█████████▉| 204/206 [05:00<00:02,  1.48s/it]"
     ]
    },
    {
     "name": "stdout",
     "output_type": "stream",
     "text": [
      "[0]\tvalidation_0-logloss:0.43942\n",
      "Will train until validation_0-logloss hasn't improved in 100 rounds.\n",
      "[100]\tvalidation_0-logloss:0.01148\n",
      "Stopping. Best iteration:\n",
      "[20]\tvalidation_0-logloss:0.00960\n",
      "\n"
     ]
    },
    {
     "name": "stderr",
     "output_type": "stream",
     "text": [
      "100%|█████████▉| 205/206 [05:01<00:01,  1.45s/it]"
     ]
    },
    {
     "name": "stdout",
     "output_type": "stream",
     "text": [
      "[0]\tvalidation_0-logloss:0.43888\n",
      "Will train until validation_0-logloss hasn't improved in 100 rounds.\n",
      "[100]\tvalidation_0-logloss:0.01337\n",
      "Stopping. Best iteration:\n",
      "[20]\tvalidation_0-logloss:0.01038\n",
      "\n"
     ]
    },
    {
     "name": "stderr",
     "output_type": "stream",
     "text": [
      "100%|██████████| 206/206 [05:03<00:00,  1.47s/it]\n"
     ]
    },
    {
     "name": "stdout",
     "output_type": "stream",
     "text": [
      "     fun: 0.015658241396162193\n",
      "     jac: array([0.00093665, 0.00093344, 0.00171384])\n",
      " message: 'Optimization terminated successfully.'\n",
      "    nfev: 77\n",
      "     nit: 15\n",
      "    njev: 15\n",
      "  status: 0\n",
      " success: True\n",
      "       x: array([9.90431459e-01, 9.56854060e-03, 1.53685658e-17])\n",
      "0.015615491084754468 0.015658735987297553 0.016566372475389453 0.022206814957559544 0.0156582414138916\n"
     ]
    },
    {
     "name": "stderr",
     "output_type": "stream",
     "text": [
      "100%|██████████| 32/32 [00:00<00:00, 537.42it/s]"
     ]
    },
    {
     "name": "stdout",
     "output_type": "stream",
     "text": [
      "auc 0.9122085186284035\n"
     ]
    },
    {
     "name": "stderr",
     "output_type": "stream",
     "text": [
      "\n",
      "100%|██████████| 30/30 [00:33<00:00,  1.12s/it, train_loss=0.0178, valid_loss=0.0156]"
     ]
    },
    {
     "name": "stdout",
     "output_type": "stream",
     "text": [
      "Device used : cuda\n"
     ]
    },
    {
     "name": "stderr",
     "output_type": "stream",
     "text": [
      "\n"
     ]
    },
    {
     "name": "stdout",
     "output_type": "stream",
     "text": [
      "epoch 0  | loss: 0.13477 | val_logits_ll: 0.02276 |  0:00:02s\n",
      "epoch 10 | loss: 0.02119 | val_logits_ll: 0.01853 |  0:00:28s\n",
      "epoch 20 | loss: 0.02063 | val_logits_ll: 0.0172  |  0:00:51s\n",
      "epoch 30 | loss: 0.02035 | val_logits_ll: 0.01716 |  0:01:16s\n",
      "epoch 40 | loss: 0.02026 | val_logits_ll: 0.01696 |  0:01:40s\n",
      "epoch 50 | loss: 0.02024 | val_logits_ll: 0.01664 |  0:02:04s\n",
      "epoch 60 | loss: 0.01906 | val_logits_ll: 0.0164  |  0:02:29s\n",
      "epoch 70 | loss: 0.01862 | val_logits_ll: 0.01646 |  0:02:52s\n",
      "epoch 80 | loss: 0.01775 | val_logits_ll: 0.01652 |  0:03:17s\n",
      "\n",
      "Early stopping occured at epoch 89 with best_epoch = 69 and best_val_logits_ll = 0.01634\n",
      "Best weights from best epoch are automatically used!\n"
     ]
    },
    {
     "name": "stderr",
     "output_type": "stream",
     "text": [
      "  0%|          | 0/206 [00:00<?, ?it/s]"
     ]
    },
    {
     "name": "stdout",
     "output_type": "stream",
     "text": [
      "[0]\tvalidation_0-logloss:0.43825\n",
      "Will train until validation_0-logloss hasn't improved in 100 rounds.\n",
      "[100]\tvalidation_0-logloss:0.00509\n",
      "Stopping. Best iteration:\n",
      "[23]\tvalidation_0-logloss:0.00436\n",
      "\n"
     ]
    },
    {
     "name": "stderr",
     "output_type": "stream",
     "text": [
      "  0%|          | 1/206 [00:01<04:11,  1.23s/it]"
     ]
    },
    {
     "name": "stdout",
     "output_type": "stream",
     "text": [
      "[0]\tvalidation_0-logloss:0.43844\n",
      "Will train until validation_0-logloss hasn't improved in 100 rounds.\n",
      "[100]\tvalidation_0-logloss:0.01039\n",
      "Stopping. Best iteration:\n",
      "[21]\tvalidation_0-logloss:0.00775\n",
      "\n"
     ]
    },
    {
     "name": "stderr",
     "output_type": "stream",
     "text": [
      "  1%|          | 2/206 [00:02<04:15,  1.25s/it]"
     ]
    },
    {
     "name": "stdout",
     "output_type": "stream",
     "text": [
      "[0]\tvalidation_0-logloss:0.43858\n",
      "Will train until validation_0-logloss hasn't improved in 100 rounds.\n",
      "[100]\tvalidation_0-logloss:0.01091\n",
      "Stopping. Best iteration:\n",
      "[21]\tvalidation_0-logloss:0.00792\n",
      "\n"
     ]
    },
    {
     "name": "stderr",
     "output_type": "stream",
     "text": [
      "  1%|▏         | 3/206 [00:03<04:16,  1.26s/it]"
     ]
    },
    {
     "name": "stdout",
     "output_type": "stream",
     "text": [
      "[0]\tvalidation_0-logloss:0.44631\n",
      "Will train until validation_0-logloss hasn't improved in 100 rounds.\n",
      "[100]\tvalidation_0-logloss:0.07212\n",
      "Stopping. Best iteration:\n",
      "[18]\tvalidation_0-logloss:0.04876\n",
      "\n"
     ]
    },
    {
     "name": "stderr",
     "output_type": "stream",
     "text": [
      "  2%|▏         | 4/206 [00:05<04:56,  1.47s/it]"
     ]
    },
    {
     "name": "stdout",
     "output_type": "stream",
     "text": [
      "[0]\tvalidation_0-logloss:0.45145\n",
      "Will train until validation_0-logloss hasn't improved in 100 rounds.\n",
      "[100]\tvalidation_0-logloss:0.11496\n",
      "Stopping. Best iteration:\n",
      "[14]\tvalidation_0-logloss:0.07314\n",
      "\n"
     ]
    },
    {
     "name": "stderr",
     "output_type": "stream",
     "text": [
      "  2%|▏         | 5/206 [00:07<05:36,  1.67s/it]"
     ]
    },
    {
     "name": "stdout",
     "output_type": "stream",
     "text": [
      "[0]\tvalidation_0-logloss:0.44086\n",
      "Will train until validation_0-logloss hasn't improved in 100 rounds.\n",
      "[100]\tvalidation_0-logloss:0.02904\n",
      "Stopping. Best iteration:\n",
      "[18]\tvalidation_0-logloss:0.02180\n",
      "\n"
     ]
    },
    {
     "name": "stderr",
     "output_type": "stream",
     "text": [
      "  3%|▎         | 6/206 [00:09<05:33,  1.67s/it]"
     ]
    },
    {
     "name": "stdout",
     "output_type": "stream",
     "text": [
      "[0]\tvalidation_0-logloss:0.44010\n",
      "Will train until validation_0-logloss hasn't improved in 100 rounds.\n",
      "[100]\tvalidation_0-logloss:0.02613\n",
      "Stopping. Best iteration:\n",
      "[17]\tvalidation_0-logloss:0.01803\n",
      "\n"
     ]
    },
    {
     "name": "stderr",
     "output_type": "stream",
     "text": [
      "  3%|▎         | 7/206 [00:11<05:20,  1.61s/it]"
     ]
    },
    {
     "name": "stdout",
     "output_type": "stream",
     "text": [
      "[0]\tvalidation_0-logloss:0.44188\n",
      "Will train until validation_0-logloss hasn't improved in 100 rounds.\n",
      "[100]\tvalidation_0-logloss:0.03703\n",
      "Stopping. Best iteration:\n",
      "[20]\tvalidation_0-logloss:0.02726\n",
      "\n"
     ]
    },
    {
     "name": "stderr",
     "output_type": "stream",
     "text": [
      "  4%|▍         | 8/206 [00:12<05:25,  1.64s/it]"
     ]
    },
    {
     "name": "stdout",
     "output_type": "stream",
     "text": [
      "[0]\tvalidation_0-logloss:0.43814\n",
      "Will train until validation_0-logloss hasn't improved in 100 rounds.\n",
      "[100]\tvalidation_0-logloss:0.00320\n",
      "Stopping. Best iteration:\n",
      "[42]\tvalidation_0-logloss:0.00314\n",
      "\n"
     ]
    },
    {
     "name": "stderr",
     "output_type": "stream",
     "text": [
      "  4%|▍         | 9/206 [00:13<04:55,  1.50s/it]"
     ]
    },
    {
     "name": "stdout",
     "output_type": "stream",
     "text": [
      "[0]\tvalidation_0-logloss:0.45009\n",
      "Will train until validation_0-logloss hasn't improved in 100 rounds.\n",
      "[100]\tvalidation_0-logloss:0.09816\n",
      "Stopping. Best iteration:\n",
      "[15]\tvalidation_0-logloss:0.06482\n",
      "\n"
     ]
    },
    {
     "name": "stderr",
     "output_type": "stream",
     "text": [
      "  5%|▍         | 10/206 [00:16<05:29,  1.68s/it]"
     ]
    },
    {
     "name": "stdout",
     "output_type": "stream",
     "text": [
      "[0]\tvalidation_0-logloss:0.45416\n",
      "Will train until validation_0-logloss hasn't improved in 100 rounds.\n",
      "[100]\tvalidation_0-logloss:0.13199\n",
      "Stopping. Best iteration:\n",
      "[17]\tvalidation_0-logloss:0.08357\n",
      "\n"
     ]
    },
    {
     "name": "stderr",
     "output_type": "stream",
     "text": [
      "  5%|▌         | 11/206 [00:18<06:04,  1.87s/it]"
     ]
    },
    {
     "name": "stdout",
     "output_type": "stream",
     "text": [
      "[0]\tvalidation_0-logloss:0.44051\n",
      "Will train until validation_0-logloss hasn't improved in 100 rounds.\n",
      "[100]\tvalidation_0-logloss:0.01569\n",
      "Stopping. Best iteration:\n",
      "[21]\tvalidation_0-logloss:0.01272\n",
      "\n"
     ]
    },
    {
     "name": "stderr",
     "output_type": "stream",
     "text": [
      "  6%|▌         | 12/206 [00:19<05:41,  1.76s/it]"
     ]
    },
    {
     "name": "stdout",
     "output_type": "stream",
     "text": [
      "[0]\tvalidation_0-logloss:0.43786\n",
      "Will train until validation_0-logloss hasn't improved in 100 rounds.\n",
      "[100]\tvalidation_0-logloss:0.00103\n",
      "Stopping. Best iteration:\n",
      "[35]\tvalidation_0-logloss:0.00097\n",
      "\n"
     ]
    },
    {
     "name": "stderr",
     "output_type": "stream",
     "text": [
      "  6%|▋         | 13/206 [00:20<05:01,  1.56s/it]"
     ]
    },
    {
     "name": "stdout",
     "output_type": "stream",
     "text": [
      "[0]\tvalidation_0-logloss:0.43949\n",
      "Will train until validation_0-logloss hasn't improved in 100 rounds.\n",
      "[100]\tvalidation_0-logloss:0.01365\n",
      "Stopping. Best iteration:\n",
      "[23]\tvalidation_0-logloss:0.01082\n",
      "\n"
     ]
    },
    {
     "name": "stderr",
     "output_type": "stream",
     "text": [
      "  7%|▋         | 14/206 [00:22<04:52,  1.52s/it]"
     ]
    },
    {
     "name": "stdout",
     "output_type": "stream",
     "text": [
      "[0]\tvalidation_0-logloss:0.43814\n",
      "Will train until validation_0-logloss hasn't improved in 100 rounds.\n",
      "[100]\tvalidation_0-logloss:0.00711\n",
      "Stopping. Best iteration:\n",
      "[21]\tvalidation_0-logloss:0.00568\n",
      "\n"
     ]
    },
    {
     "name": "stderr",
     "output_type": "stream",
     "text": [
      "  7%|▋         | 15/206 [00:23<04:34,  1.44s/it]"
     ]
    },
    {
     "name": "stdout",
     "output_type": "stream",
     "text": [
      "[0]\tvalidation_0-logloss:0.43814\n",
      "Will train until validation_0-logloss hasn't improved in 100 rounds.\n",
      "[100]\tvalidation_0-logloss:0.00728\n",
      "Stopping. Best iteration:\n",
      "[22]\tvalidation_0-logloss:0.00564\n",
      "\n"
     ]
    },
    {
     "name": "stderr",
     "output_type": "stream",
     "text": [
      "  8%|▊         | 16/206 [00:24<04:28,  1.41s/it]"
     ]
    },
    {
     "name": "stdout",
     "output_type": "stream",
     "text": [
      "[0]\tvalidation_0-logloss:0.43979\n",
      "Will train until validation_0-logloss hasn't improved in 100 rounds.\n",
      "[100]\tvalidation_0-logloss:0.02081\n",
      "Stopping. Best iteration:\n",
      "[22]\tvalidation_0-logloss:0.01616\n",
      "\n"
     ]
    },
    {
     "name": "stderr",
     "output_type": "stream",
     "text": [
      "  8%|▊         | 17/206 [00:26<04:37,  1.47s/it]"
     ]
    },
    {
     "name": "stdout",
     "output_type": "stream",
     "text": [
      "[0]\tvalidation_0-logloss:0.44172\n",
      "Will train until validation_0-logloss hasn't improved in 100 rounds.\n",
      "[100]\tvalidation_0-logloss:0.03887\n",
      "Stopping. Best iteration:\n",
      "[17]\tvalidation_0-logloss:0.02669\n",
      "\n"
     ]
    },
    {
     "name": "stderr",
     "output_type": "stream",
     "text": [
      "  9%|▊         | 18/206 [00:28<04:49,  1.54s/it]"
     ]
    },
    {
     "name": "stdout",
     "output_type": "stream",
     "text": [
      "[0]\tvalidation_0-logloss:0.44118\n",
      "Will train until validation_0-logloss hasn't improved in 100 rounds.\n",
      "[100]\tvalidation_0-logloss:0.03220\n",
      "Stopping. Best iteration:\n",
      "[18]\tvalidation_0-logloss:0.02316\n",
      "\n"
     ]
    },
    {
     "name": "stderr",
     "output_type": "stream",
     "text": [
      "  9%|▉         | 19/206 [00:29<04:50,  1.56s/it]"
     ]
    },
    {
     "name": "stdout",
     "output_type": "stream",
     "text": [
      "[0]\tvalidation_0-logloss:0.43919\n",
      "Will train until validation_0-logloss hasn't improved in 100 rounds.\n",
      "[100]\tvalidation_0-logloss:0.01702\n",
      "Stopping. Best iteration:\n",
      "[19]\tvalidation_0-logloss:0.01247\n",
      "\n"
     ]
    },
    {
     "name": "stderr",
     "output_type": "stream",
     "text": [
      " 10%|▉         | 20/206 [00:31<04:38,  1.50s/it]"
     ]
    },
    {
     "name": "stdout",
     "output_type": "stream",
     "text": [
      "[0]\tvalidation_0-logloss:0.43921\n",
      "Will train until validation_0-logloss hasn't improved in 100 rounds.\n",
      "[100]\tvalidation_0-logloss:0.01655\n",
      "Stopping. Best iteration:\n",
      "[21]\tvalidation_0-logloss:0.01235\n",
      "\n"
     ]
    },
    {
     "name": "stderr",
     "output_type": "stream",
     "text": [
      " 10%|█         | 21/206 [00:32<04:33,  1.48s/it]"
     ]
    },
    {
     "name": "stdout",
     "output_type": "stream",
     "text": [
      "[0]\tvalidation_0-logloss:0.44103\n",
      "Will train until validation_0-logloss hasn't improved in 100 rounds.\n",
      "[100]\tvalidation_0-logloss:0.02861\n",
      "Stopping. Best iteration:\n",
      "[18]\tvalidation_0-logloss:0.02242\n",
      "\n"
     ]
    },
    {
     "name": "stderr",
     "output_type": "stream",
     "text": [
      " 11%|█         | 22/206 [00:34<04:38,  1.51s/it]"
     ]
    },
    {
     "name": "stdout",
     "output_type": "stream",
     "text": [
      "[0]\tvalidation_0-logloss:0.43767\n",
      "Will train until validation_0-logloss hasn't improved in 100 rounds.\n",
      "[100]\tvalidation_0-logloss:0.00006\n",
      "Stopping. Best iteration:\n",
      "[54]\tvalidation_0-logloss:0.00006\n",
      "\n"
     ]
    },
    {
     "name": "stderr",
     "output_type": "stream",
     "text": [
      " 11%|█         | 23/206 [00:35<04:28,  1.47s/it]"
     ]
    },
    {
     "name": "stdout",
     "output_type": "stream",
     "text": [
      "[0]\tvalidation_0-logloss:0.43951\n",
      "Will train until validation_0-logloss hasn't improved in 100 rounds.\n",
      "[100]\tvalidation_0-logloss:0.01782\n",
      "Stopping. Best iteration:\n",
      "[19]\tvalidation_0-logloss:0.01323\n",
      "\n"
     ]
    },
    {
     "name": "stderr",
     "output_type": "stream",
     "text": [
      " 12%|█▏        | 24/206 [00:37<04:24,  1.45s/it]"
     ]
    },
    {
     "name": "stdout",
     "output_type": "stream",
     "text": [
      "[0]\tvalidation_0-logloss:0.43814\n",
      "Will train until validation_0-logloss hasn't improved in 100 rounds.\n",
      "[100]\tvalidation_0-logloss:0.00639\n",
      "Stopping. Best iteration:\n",
      "[27]\tvalidation_0-logloss:0.00538\n",
      "\n"
     ]
    },
    {
     "name": "stderr",
     "output_type": "stream",
     "text": [
      " 12%|█▏        | 25/206 [00:38<04:08,  1.37s/it]"
     ]
    },
    {
     "name": "stdout",
     "output_type": "stream",
     "text": [
      "[0]\tvalidation_0-logloss:0.43800\n",
      "Will train until validation_0-logloss hasn't improved in 100 rounds.\n",
      "[100]\tvalidation_0-logloss:0.00311\n",
      "Stopping. Best iteration:\n",
      "[32]\tvalidation_0-logloss:0.00269\n",
      "\n"
     ]
    },
    {
     "name": "stderr",
     "output_type": "stream",
     "text": [
      " 13%|█▎        | 26/206 [00:39<03:57,  1.32s/it]"
     ]
    },
    {
     "name": "stdout",
     "output_type": "stream",
     "text": [
      "[0]\tvalidation_0-logloss:0.43814\n",
      "Will train until validation_0-logloss hasn't improved in 100 rounds.\n",
      "[100]\tvalidation_0-logloss:0.00655\n",
      "Stopping. Best iteration:\n",
      "[22]\tvalidation_0-logloss:0.00520\n",
      "\n"
     ]
    },
    {
     "name": "stderr",
     "output_type": "stream",
     "text": [
      " 13%|█▎        | 27/206 [00:40<03:50,  1.29s/it]"
     ]
    },
    {
     "name": "stdout",
     "output_type": "stream",
     "text": [
      "[0]\tvalidation_0-logloss:0.43844\n",
      "Will train until validation_0-logloss hasn't improved in 100 rounds.\n",
      "[100]\tvalidation_0-logloss:0.00986\n",
      "Stopping. Best iteration:\n",
      "[20]\tvalidation_0-logloss:0.00759\n",
      "\n"
     ]
    },
    {
     "name": "stderr",
     "output_type": "stream",
     "text": [
      " 14%|█▎        | 28/206 [00:41<03:50,  1.29s/it]"
     ]
    },
    {
     "name": "stdout",
     "output_type": "stream",
     "text": [
      "[0]\tvalidation_0-logloss:0.44086\n",
      "Will train until validation_0-logloss hasn't improved in 100 rounds.\n",
      "[100]\tvalidation_0-logloss:0.02818\n",
      "Stopping. Best iteration:\n",
      "[21]\tvalidation_0-logloss:0.02058\n",
      "\n"
     ]
    },
    {
     "name": "stderr",
     "output_type": "stream",
     "text": [
      " 14%|█▍        | 29/206 [00:43<04:03,  1.38s/it]"
     ]
    },
    {
     "name": "stdout",
     "output_type": "stream",
     "text": [
      "[0]\tvalidation_0-logloss:0.43936\n",
      "Will train until validation_0-logloss hasn't improved in 100 rounds.\n",
      "[100]\tvalidation_0-logloss:0.01758\n",
      "Stopping. Best iteration:\n",
      "[20]\tvalidation_0-logloss:0.01279\n",
      "\n"
     ]
    },
    {
     "name": "stderr",
     "output_type": "stream",
     "text": [
      " 15%|█▍        | 30/206 [00:44<04:01,  1.37s/it]"
     ]
    },
    {
     "name": "stdout",
     "output_type": "stream",
     "text": [
      "[0]\tvalidation_0-logloss:0.43856\n",
      "Will train until validation_0-logloss hasn't improved in 100 rounds.\n",
      "[100]\tvalidation_0-logloss:0.00907\n",
      "Stopping. Best iteration:\n",
      "[25]\tvalidation_0-logloss:0.00730\n",
      "\n"
     ]
    },
    {
     "name": "stderr",
     "output_type": "stream",
     "text": [
      " 15%|█▌        | 31/206 [00:46<03:59,  1.37s/it]"
     ]
    },
    {
     "name": "stdout",
     "output_type": "stream",
     "text": [
      "[0]\tvalidation_0-logloss:0.43982\n",
      "Will train until validation_0-logloss hasn't improved in 100 rounds.\n",
      "[100]\tvalidation_0-logloss:0.02104\n",
      "Stopping. Best iteration:\n",
      "[21]\tvalidation_0-logloss:0.01509\n",
      "\n"
     ]
    },
    {
     "name": "stderr",
     "output_type": "stream",
     "text": [
      " 16%|█▌        | 32/206 [00:47<04:01,  1.39s/it]"
     ]
    },
    {
     "name": "stdout",
     "output_type": "stream",
     "text": [
      "[0]\tvalidation_0-logloss:0.43960\n",
      "Will train until validation_0-logloss hasn't improved in 100 rounds.\n",
      "[100]\tvalidation_0-logloss:0.01841\n",
      "Stopping. Best iteration:\n",
      "[21]\tvalidation_0-logloss:0.01350\n",
      "\n"
     ]
    },
    {
     "name": "stderr",
     "output_type": "stream",
     "text": [
      " 16%|█▌        | 33/206 [00:49<04:03,  1.41s/it]"
     ]
    },
    {
     "name": "stdout",
     "output_type": "stream",
     "text": [
      "[0]\tvalidation_0-logloss:0.43767\n",
      "Will train until validation_0-logloss hasn't improved in 100 rounds.\n",
      "[100]\tvalidation_0-logloss:0.00005\n",
      "Stopping. Best iteration:\n",
      "[51]\tvalidation_0-logloss:0.00005\n",
      "\n"
     ]
    },
    {
     "name": "stderr",
     "output_type": "stream",
     "text": [
      " 17%|█▋        | 34/206 [00:50<03:50,  1.34s/it]"
     ]
    },
    {
     "name": "stdout",
     "output_type": "stream",
     "text": [
      "[0]\tvalidation_0-logloss:0.43797\n",
      "Will train until validation_0-logloss hasn't improved in 100 rounds.\n",
      "[100]\tvalidation_0-logloss:0.00087\n",
      "Stopping. Best iteration:\n",
      "[35]\tvalidation_0-logloss:0.00081\n",
      "\n"
     ]
    },
    {
     "name": "stderr",
     "output_type": "stream",
     "text": [
      " 17%|█▋        | 36/206 [00:51<03:07,  1.10s/it]"
     ]
    },
    {
     "name": "stdout",
     "output_type": "stream",
     "text": [
      "[0]\tvalidation_0-logloss:0.44137\n",
      "Will train until validation_0-logloss hasn't improved in 100 rounds.\n",
      "[100]\tvalidation_0-logloss:0.03172\n",
      "Stopping. Best iteration:\n",
      "[20]\tvalidation_0-logloss:0.02285\n",
      "\n"
     ]
    },
    {
     "name": "stderr",
     "output_type": "stream",
     "text": [
      " 18%|█▊        | 37/206 [00:53<03:31,  1.25s/it]"
     ]
    },
    {
     "name": "stdout",
     "output_type": "stream",
     "text": [
      "[0]\tvalidation_0-logloss:0.43847\n",
      "Will train until validation_0-logloss hasn't improved in 100 rounds.\n",
      "[100]\tvalidation_0-logloss:0.00638\n",
      "Stopping. Best iteration:\n",
      "[27]\tvalidation_0-logloss:0.00519\n",
      "\n"
     ]
    },
    {
     "name": "stderr",
     "output_type": "stream",
     "text": [
      " 18%|█▊        | 38/206 [00:54<03:26,  1.23s/it]"
     ]
    },
    {
     "name": "stdout",
     "output_type": "stream",
     "text": [
      "[0]\tvalidation_0-logloss:0.44168\n",
      "Will train until validation_0-logloss hasn't improved in 100 rounds.\n",
      "[100]\tvalidation_0-logloss:0.01844\n",
      "Stopping. Best iteration:\n",
      "[24]\tvalidation_0-logloss:0.01570\n",
      "\n"
     ]
    },
    {
     "name": "stderr",
     "output_type": "stream",
     "text": [
      " 19%|█▉        | 39/206 [00:55<03:41,  1.33s/it]"
     ]
    },
    {
     "name": "stdout",
     "output_type": "stream",
     "text": [
      "[0]\tvalidation_0-logloss:0.43784\n",
      "Will train until validation_0-logloss hasn't improved in 100 rounds.\n",
      "[100]\tvalidation_0-logloss:0.00325\n",
      "Stopping. Best iteration:\n",
      "[33]\tvalidation_0-logloss:0.00297\n",
      "\n"
     ]
    },
    {
     "name": "stderr",
     "output_type": "stream",
     "text": [
      " 19%|█▉        | 40/206 [00:57<03:37,  1.31s/it]"
     ]
    },
    {
     "name": "stdout",
     "output_type": "stream",
     "text": [
      "[0]\tvalidation_0-logloss:0.44040\n",
      "Will train until validation_0-logloss hasn't improved in 100 rounds.\n",
      "[100]\tvalidation_0-logloss:0.02810\n",
      "Stopping. Best iteration:\n",
      "[17]\tvalidation_0-logloss:0.01921\n",
      "\n"
     ]
    },
    {
     "name": "stderr",
     "output_type": "stream",
     "text": [
      " 20%|█▉        | 41/206 [00:58<03:49,  1.39s/it]"
     ]
    },
    {
     "name": "stdout",
     "output_type": "stream",
     "text": [
      "[0]\tvalidation_0-logloss:0.44135\n",
      "Will train until validation_0-logloss hasn't improved in 100 rounds.\n",
      "[100]\tvalidation_0-logloss:0.03682\n",
      "Stopping. Best iteration:\n",
      "[19]\tvalidation_0-logloss:0.02533\n",
      "\n"
     ]
    },
    {
     "name": "stderr",
     "output_type": "stream",
     "text": [
      " 20%|██        | 42/206 [01:00<03:57,  1.45s/it]"
     ]
    },
    {
     "name": "stdout",
     "output_type": "stream",
     "text": [
      "[0]\tvalidation_0-logloss:0.43919\n",
      "Will train until validation_0-logloss hasn't improved in 100 rounds.\n",
      "[100]\tvalidation_0-logloss:0.01448\n",
      "Stopping. Best iteration:\n",
      "[19]\tvalidation_0-logloss:0.01172\n",
      "\n"
     ]
    },
    {
     "name": "stderr",
     "output_type": "stream",
     "text": [
      " 21%|██        | 43/206 [01:01<03:51,  1.42s/it]"
     ]
    },
    {
     "name": "stdout",
     "output_type": "stream",
     "text": [
      "[0]\tvalidation_0-logloss:0.44635\n",
      "Will train until validation_0-logloss hasn't improved in 100 rounds.\n",
      "[100]\tvalidation_0-logloss:0.07474\n",
      "Stopping. Best iteration:\n",
      "[17]\tvalidation_0-logloss:0.04900\n",
      "\n"
     ]
    },
    {
     "name": "stderr",
     "output_type": "stream",
     "text": [
      " 21%|██▏       | 44/206 [01:03<04:14,  1.57s/it]"
     ]
    },
    {
     "name": "stdout",
     "output_type": "stream",
     "text": [
      "[0]\tvalidation_0-logloss:0.44172\n",
      "Will train until validation_0-logloss hasn't improved in 100 rounds.\n",
      "[100]\tvalidation_0-logloss:0.03904\n",
      "Stopping. Best iteration:\n",
      "[18]\tvalidation_0-logloss:0.02693\n",
      "\n"
     ]
    },
    {
     "name": "stderr",
     "output_type": "stream",
     "text": [
      " 22%|██▏       | 45/206 [01:05<04:14,  1.58s/it]"
     ]
    },
    {
     "name": "stdout",
     "output_type": "stream",
     "text": [
      "[0]\tvalidation_0-logloss:0.44280\n",
      "Will train until validation_0-logloss hasn't improved in 100 rounds.\n",
      "[100]\tvalidation_0-logloss:0.04598\n",
      "Stopping. Best iteration:\n",
      "[19]\tvalidation_0-logloss:0.03239\n",
      "\n"
     ]
    },
    {
     "name": "stderr",
     "output_type": "stream",
     "text": [
      " 22%|██▏       | 46/206 [01:06<04:19,  1.62s/it]"
     ]
    },
    {
     "name": "stdout",
     "output_type": "stream",
     "text": [
      "[0]\tvalidation_0-logloss:0.43786\n",
      "Will train until validation_0-logloss hasn't improved in 100 rounds.\n",
      "[100]\tvalidation_0-logloss:0.00180\n",
      "Stopping. Best iteration:\n",
      "[34]\tvalidation_0-logloss:0.00170\n",
      "\n"
     ]
    },
    {
     "name": "stderr",
     "output_type": "stream",
     "text": [
      " 23%|██▎       | 47/206 [01:07<03:57,  1.50s/it]"
     ]
    },
    {
     "name": "stdout",
     "output_type": "stream",
     "text": [
      "[0]\tvalidation_0-logloss:0.43891\n",
      "Will train until validation_0-logloss hasn't improved in 100 rounds.\n",
      "[100]\tvalidation_0-logloss:0.01004\n",
      "Stopping. Best iteration:\n",
      "[23]\tvalidation_0-logloss:0.00855\n",
      "\n"
     ]
    },
    {
     "name": "stderr",
     "output_type": "stream",
     "text": [
      " 23%|██▎       | 48/206 [01:09<03:47,  1.44s/it]"
     ]
    },
    {
     "name": "stdout",
     "output_type": "stream",
     "text": [
      "[0]\tvalidation_0-logloss:0.43928\n",
      "Will train until validation_0-logloss hasn't improved in 100 rounds.\n",
      "[100]\tvalidation_0-logloss:0.01160\n",
      "Stopping. Best iteration:\n",
      "[24]\tvalidation_0-logloss:0.01004\n",
      "\n"
     ]
    },
    {
     "name": "stderr",
     "output_type": "stream",
     "text": [
      " 24%|██▍       | 49/206 [01:10<03:42,  1.42s/it]"
     ]
    },
    {
     "name": "stdout",
     "output_type": "stream",
     "text": [
      "[0]\tvalidation_0-logloss:0.44056\n",
      "Will train until validation_0-logloss hasn't improved in 100 rounds.\n",
      "[100]\tvalidation_0-logloss:0.02882\n",
      "Stopping. Best iteration:\n",
      "[19]\tvalidation_0-logloss:0.01993\n",
      "\n"
     ]
    },
    {
     "name": "stderr",
     "output_type": "stream",
     "text": [
      " 24%|██▍       | 50/206 [01:12<03:47,  1.46s/it]"
     ]
    },
    {
     "name": "stdout",
     "output_type": "stream",
     "text": [
      "[0]\tvalidation_0-logloss:0.43875\n",
      "Will train until validation_0-logloss hasn't improved in 100 rounds.\n",
      "[100]\tvalidation_0-logloss:0.01445\n",
      "Stopping. Best iteration:\n",
      "[21]\tvalidation_0-logloss:0.00957\n",
      "\n"
     ]
    },
    {
     "name": "stderr",
     "output_type": "stream",
     "text": [
      " 25%|██▍       | 51/206 [01:13<03:43,  1.44s/it]"
     ]
    },
    {
     "name": "stdout",
     "output_type": "stream",
     "text": [
      "[0]\tvalidation_0-logloss:0.43961\n",
      "Will train until validation_0-logloss hasn't improved in 100 rounds.\n",
      "[100]\tvalidation_0-logloss:0.01268\n",
      "Stopping. Best iteration:\n",
      "[30]\tvalidation_0-logloss:0.01185\n",
      "\n"
     ]
    },
    {
     "name": "stderr",
     "output_type": "stream",
     "text": [
      " 25%|██▌       | 52/206 [01:15<03:44,  1.46s/it]"
     ]
    },
    {
     "name": "stdout",
     "output_type": "stream",
     "text": [
      "[0]\tvalidation_0-logloss:0.43886\n",
      "Will train until validation_0-logloss hasn't improved in 100 rounds.\n",
      "[100]\tvalidation_0-logloss:0.01214\n",
      "Stopping. Best iteration:\n",
      "[24]\tvalidation_0-logloss:0.00971\n",
      "\n"
     ]
    },
    {
     "name": "stderr",
     "output_type": "stream",
     "text": [
      " 26%|██▌       | 53/206 [01:16<03:36,  1.41s/it]"
     ]
    },
    {
     "name": "stdout",
     "output_type": "stream",
     "text": [
      "[0]\tvalidation_0-logloss:0.43784\n",
      "Will train until validation_0-logloss hasn't improved in 100 rounds.\n",
      "[100]\tvalidation_0-logloss:0.00322\n",
      "Stopping. Best iteration:\n",
      "[25]\tvalidation_0-logloss:0.00289\n",
      "\n"
     ]
    },
    {
     "name": "stderr",
     "output_type": "stream",
     "text": [
      " 26%|██▌       | 54/206 [01:17<03:20,  1.32s/it]"
     ]
    },
    {
     "name": "stdout",
     "output_type": "stream",
     "text": [
      "[0]\tvalidation_0-logloss:0.45050\n",
      "Will train until validation_0-logloss hasn't improved in 100 rounds.\n",
      "[100]\tvalidation_0-logloss:0.10493\n",
      "Stopping. Best iteration:\n",
      "[18]\tvalidation_0-logloss:0.06777\n",
      "\n"
     ]
    },
    {
     "name": "stderr",
     "output_type": "stream",
     "text": [
      " 27%|██▋       | 55/206 [01:19<03:59,  1.59s/it]"
     ]
    },
    {
     "name": "stdout",
     "output_type": "stream",
     "text": [
      "[0]\tvalidation_0-logloss:0.43949\n",
      "Will train until validation_0-logloss hasn't improved in 100 rounds.\n",
      "[100]\tvalidation_0-logloss:0.01954\n",
      "Stopping. Best iteration:\n",
      "[19]\tvalidation_0-logloss:0.01396\n",
      "\n"
     ]
    },
    {
     "name": "stderr",
     "output_type": "stream",
     "text": [
      " 27%|██▋       | 56/206 [01:21<03:50,  1.54s/it]"
     ]
    },
    {
     "name": "stdout",
     "output_type": "stream",
     "text": [
      "[0]\tvalidation_0-logloss:0.43995\n",
      "Will train until validation_0-logloss hasn't improved in 100 rounds.\n",
      "[100]\tvalidation_0-logloss:0.02082\n",
      "Stopping. Best iteration:\n",
      "[20]\tvalidation_0-logloss:0.01523\n",
      "\n"
     ]
    },
    {
     "name": "stderr",
     "output_type": "stream",
     "text": [
      " 28%|██▊       | 57/206 [01:22<03:46,  1.52s/it]"
     ]
    },
    {
     "name": "stdout",
     "output_type": "stream",
     "text": [
      "[0]\tvalidation_0-logloss:0.43919\n",
      "Will train until validation_0-logloss hasn't improved in 100 rounds.\n",
      "[100]\tvalidation_0-logloss:0.01621\n",
      "Stopping. Best iteration:\n",
      "[19]\tvalidation_0-logloss:0.01208\n",
      "\n"
     ]
    },
    {
     "name": "stderr",
     "output_type": "stream",
     "text": [
      " 28%|██▊       | 58/206 [01:23<03:37,  1.47s/it]"
     ]
    },
    {
     "name": "stdout",
     "output_type": "stream",
     "text": [
      "[0]\tvalidation_0-logloss:0.43919\n",
      "Will train until validation_0-logloss hasn't improved in 100 rounds.\n",
      "[100]\tvalidation_0-logloss:0.01451\n",
      "Stopping. Best iteration:\n",
      "[22]\tvalidation_0-logloss:0.01083\n",
      "\n"
     ]
    },
    {
     "name": "stderr",
     "output_type": "stream",
     "text": [
      " 29%|██▊       | 59/206 [01:25<03:31,  1.44s/it]"
     ]
    },
    {
     "name": "stdout",
     "output_type": "stream",
     "text": [
      "[0]\tvalidation_0-logloss:0.43828\n",
      "Will train until validation_0-logloss hasn't improved in 100 rounds.\n",
      "[100]\tvalidation_0-logloss:0.00717\n",
      "Stopping. Best iteration:\n",
      "[23]\tvalidation_0-logloss:0.00562\n",
      "\n"
     ]
    },
    {
     "name": "stderr",
     "output_type": "stream",
     "text": [
      " 29%|██▉       | 60/206 [01:26<03:28,  1.43s/it]"
     ]
    },
    {
     "name": "stdout",
     "output_type": "stream",
     "text": [
      "[0]\tvalidation_0-logloss:0.43797\n",
      "Will train until validation_0-logloss hasn't improved in 100 rounds.\n",
      "[100]\tvalidation_0-logloss:0.00339\n",
      "Stopping. Best iteration:\n",
      "[31]\tvalidation_0-logloss:0.00300\n",
      "\n"
     ]
    },
    {
     "name": "stderr",
     "output_type": "stream",
     "text": [
      " 30%|██▉       | 61/206 [01:27<03:18,  1.37s/it]"
     ]
    },
    {
     "name": "stdout",
     "output_type": "stream",
     "text": [
      "[0]\tvalidation_0-logloss:0.44218\n",
      "Will train until validation_0-logloss hasn't improved in 100 rounds.\n",
      "[100]\tvalidation_0-logloss:0.03940\n",
      "Stopping. Best iteration:\n",
      "[17]\tvalidation_0-logloss:0.02867\n",
      "\n"
     ]
    },
    {
     "name": "stderr",
     "output_type": "stream",
     "text": [
      " 30%|███       | 62/206 [01:30<03:47,  1.58s/it]"
     ]
    },
    {
     "name": "stdout",
     "output_type": "stream",
     "text": [
      "[0]\tvalidation_0-logloss:0.43844\n",
      "Will train until validation_0-logloss hasn't improved in 100 rounds.\n",
      "[100]\tvalidation_0-logloss:0.01014\n",
      "Stopping. Best iteration:\n",
      "[22]\tvalidation_0-logloss:0.00760\n",
      "\n"
     ]
    },
    {
     "name": "stderr",
     "output_type": "stream",
     "text": [
      " 31%|███       | 63/206 [01:31<03:34,  1.50s/it]"
     ]
    },
    {
     "name": "stdout",
     "output_type": "stream",
     "text": [
      "[0]\tvalidation_0-logloss:0.44421\n",
      "Will train until validation_0-logloss hasn't improved in 100 rounds.\n",
      "[100]\tvalidation_0-logloss:0.03130\n",
      "Stopping. Best iteration:\n",
      "[19]\tvalidation_0-logloss:0.02678\n",
      "\n"
     ]
    },
    {
     "name": "stderr",
     "output_type": "stream",
     "text": [
      " 31%|███       | 64/206 [01:33<03:42,  1.57s/it]"
     ]
    },
    {
     "name": "stdout",
     "output_type": "stream",
     "text": [
      "[0]\tvalidation_0-logloss:0.43991\n",
      "Will train until validation_0-logloss hasn't improved in 100 rounds.\n",
      "[100]\tvalidation_0-logloss:0.02257\n",
      "Stopping. Best iteration:\n",
      "[21]\tvalidation_0-logloss:0.01658\n",
      "\n"
     ]
    },
    {
     "name": "stderr",
     "output_type": "stream",
     "text": [
      " 32%|███▏      | 65/206 [01:34<03:39,  1.56s/it]"
     ]
    },
    {
     "name": "stdout",
     "output_type": "stream",
     "text": [
      "[0]\tvalidation_0-logloss:0.43858\n",
      "Will train until validation_0-logloss hasn't improved in 100 rounds.\n",
      "[100]\tvalidation_0-logloss:0.00437\n",
      "Stopping. Best iteration:\n",
      "[41]\tvalidation_0-logloss:0.00434\n",
      "\n"
     ]
    },
    {
     "name": "stderr",
     "output_type": "stream",
     "text": [
      " 32%|███▏      | 66/206 [01:35<03:25,  1.47s/it]"
     ]
    },
    {
     "name": "stdout",
     "output_type": "stream",
     "text": [
      "[0]\tvalidation_0-logloss:0.43949\n",
      "Will train until validation_0-logloss hasn't improved in 100 rounds.\n",
      "[100]\tvalidation_0-logloss:0.01929\n",
      "Stopping. Best iteration:\n",
      "[20]\tvalidation_0-logloss:0.01440\n",
      "\n"
     ]
    },
    {
     "name": "stderr",
     "output_type": "stream",
     "text": [
      " 33%|███▎      | 67/206 [01:37<03:23,  1.46s/it]"
     ]
    },
    {
     "name": "stdout",
     "output_type": "stream",
     "text": [
      "[0]\tvalidation_0-logloss:0.43979\n",
      "Will train until validation_0-logloss hasn't improved in 100 rounds.\n",
      "[100]\tvalidation_0-logloss:0.02221\n",
      "Stopping. Best iteration:\n",
      "[20]\tvalidation_0-logloss:0.01593\n",
      "\n"
     ]
    },
    {
     "name": "stderr",
     "output_type": "stream",
     "text": [
      " 33%|███▎      | 68/206 [01:38<03:23,  1.47s/it]"
     ]
    },
    {
     "name": "stdout",
     "output_type": "stream",
     "text": [
      "[0]\tvalidation_0-logloss:0.43993\n",
      "Will train until validation_0-logloss hasn't improved in 100 rounds.\n",
      "[100]\tvalidation_0-logloss:0.02070\n",
      "Stopping. Best iteration:\n",
      "[19]\tvalidation_0-logloss:0.01540\n",
      "\n"
     ]
    },
    {
     "name": "stderr",
     "output_type": "stream",
     "text": [
      " 33%|███▎      | 69/206 [01:40<03:24,  1.49s/it]"
     ]
    },
    {
     "name": "stdout",
     "output_type": "stream",
     "text": [
      "[0]\tvalidation_0-logloss:0.43767\n",
      "Will train until validation_0-logloss hasn't improved in 100 rounds.\n",
      "[100]\tvalidation_0-logloss:0.00006\n",
      "Stopping. Best iteration:\n",
      "[57]\tvalidation_0-logloss:0.00006\n",
      "\n"
     ]
    },
    {
     "name": "stderr",
     "output_type": "stream",
     "text": [
      " 34%|███▍      | 70/206 [01:41<03:15,  1.44s/it]"
     ]
    },
    {
     "name": "stdout",
     "output_type": "stream",
     "text": [
      "[0]\tvalidation_0-logloss:0.43947\n",
      "Will train until validation_0-logloss hasn't improved in 100 rounds.\n",
      "[100]\tvalidation_0-logloss:0.01108\n",
      "Stopping. Best iteration:\n",
      "[21]\tvalidation_0-logloss:0.00910\n",
      "\n"
     ]
    },
    {
     "name": "stderr",
     "output_type": "stream",
     "text": [
      " 34%|███▍      | 71/206 [01:43<03:10,  1.41s/it]"
     ]
    },
    {
     "name": "stdout",
     "output_type": "stream",
     "text": [
      "[0]\tvalidation_0-logloss:0.45770\n",
      "Will train until validation_0-logloss hasn't improved in 100 rounds.\n",
      "[100]\tvalidation_0-logloss:0.15275\n",
      "Stopping. Best iteration:\n",
      "[15]\tvalidation_0-logloss:0.09570\n",
      "\n"
     ]
    },
    {
     "name": "stderr",
     "output_type": "stream",
     "text": [
      " 35%|███▍      | 72/206 [01:45<03:52,  1.73s/it]"
     ]
    },
    {
     "name": "stdout",
     "output_type": "stream",
     "text": [
      "[0]\tvalidation_0-logloss:0.44249\n",
      "Will train until validation_0-logloss hasn't improved in 100 rounds.\n",
      "[100]\tvalidation_0-logloss:0.04176\n",
      "Stopping. Best iteration:\n",
      "[18]\tvalidation_0-logloss:0.02793\n",
      "\n"
     ]
    },
    {
     "name": "stderr",
     "output_type": "stream",
     "text": [
      " 35%|███▌      | 73/206 [01:47<03:49,  1.73s/it]"
     ]
    },
    {
     "name": "stdout",
     "output_type": "stream",
     "text": [
      "[0]\tvalidation_0-logloss:0.43919\n",
      "Will train until validation_0-logloss hasn't improved in 100 rounds.\n",
      "[100]\tvalidation_0-logloss:0.00912\n",
      "Stopping. Best iteration:\n",
      "[24]\tvalidation_0-logloss:0.00791\n",
      "\n"
     ]
    },
    {
     "name": "stderr",
     "output_type": "stream",
     "text": [
      " 36%|███▌      | 74/206 [01:48<03:33,  1.62s/it]"
     ]
    },
    {
     "name": "stdout",
     "output_type": "stream",
     "text": [
      "[0]\tvalidation_0-logloss:0.43877\n",
      "Will train until validation_0-logloss hasn't improved in 100 rounds.\n",
      "[100]\tvalidation_0-logloss:0.01231\n",
      "Stopping. Best iteration:\n",
      "[20]\tvalidation_0-logloss:0.00990\n",
      "\n"
     ]
    },
    {
     "name": "stderr",
     "output_type": "stream",
     "text": [
      " 36%|███▋      | 75/206 [01:49<03:18,  1.52s/it]"
     ]
    },
    {
     "name": "stdout",
     "output_type": "stream",
     "text": [
      "[0]\tvalidation_0-logloss:0.43784\n",
      "Will train until validation_0-logloss hasn't improved in 100 rounds.\n",
      "[100]\tvalidation_0-logloss:0.00278\n",
      "Stopping. Best iteration:\n",
      "[30]\tvalidation_0-logloss:0.00249\n",
      "\n"
     ]
    },
    {
     "name": "stderr",
     "output_type": "stream",
     "text": [
      " 37%|███▋      | 76/206 [01:50<03:01,  1.39s/it]"
     ]
    },
    {
     "name": "stdout",
     "output_type": "stream",
     "text": [
      "[0]\tvalidation_0-logloss:0.43963\n",
      "Will train until validation_0-logloss hasn't improved in 100 rounds.\n",
      "[100]\tvalidation_0-logloss:0.01933\n",
      "Stopping. Best iteration:\n",
      "[20]\tvalidation_0-logloss:0.01395\n",
      "\n"
     ]
    },
    {
     "name": "stderr",
     "output_type": "stream",
     "text": [
      " 37%|███▋      | 77/206 [01:52<03:06,  1.45s/it]"
     ]
    },
    {
     "name": "stdout",
     "output_type": "stream",
     "text": [
      "[0]\tvalidation_0-logloss:0.45565\n",
      "Will train until validation_0-logloss hasn't improved in 100 rounds.\n",
      "[100]\tvalidation_0-logloss:0.12971\n",
      "Stopping. Best iteration:\n",
      "[16]\tvalidation_0-logloss:0.08732\n",
      "\n"
     ]
    },
    {
     "name": "stderr",
     "output_type": "stream",
     "text": [
      " 38%|███▊      | 78/206 [01:54<03:40,  1.72s/it]"
     ]
    },
    {
     "name": "stdout",
     "output_type": "stream",
     "text": [
      "[0]\tvalidation_0-logloss:0.44311\n",
      "Will train until validation_0-logloss hasn't improved in 100 rounds.\n",
      "[100]\tvalidation_0-logloss:0.05018\n",
      "Stopping. Best iteration:\n",
      "[18]\tvalidation_0-logloss:0.03412\n",
      "\n"
     ]
    },
    {
     "name": "stderr",
     "output_type": "stream",
     "text": [
      " 38%|███▊      | 79/206 [01:56<03:39,  1.73s/it]"
     ]
    },
    {
     "name": "stdout",
     "output_type": "stream",
     "text": [
      "[0]\tvalidation_0-logloss:0.45717\n",
      "Will train until validation_0-logloss hasn't improved in 100 rounds.\n",
      "[100]\tvalidation_0-logloss:0.14056\n",
      "Stopping. Best iteration:\n",
      "[14]\tvalidation_0-logloss:0.09411\n",
      "\n"
     ]
    },
    {
     "name": "stderr",
     "output_type": "stream",
     "text": [
      " 39%|███▉      | 80/206 [01:59<04:01,  1.92s/it]"
     ]
    },
    {
     "name": "stdout",
     "output_type": "stream",
     "text": [
      "[0]\tvalidation_0-logloss:0.44610\n",
      "Will train until validation_0-logloss hasn't improved in 100 rounds.\n",
      "[100]\tvalidation_0-logloss:0.02817\n",
      "Stopping. Best iteration:\n",
      "[23]\tvalidation_0-logloss:0.02476\n",
      "\n"
     ]
    },
    {
     "name": "stderr",
     "output_type": "stream",
     "text": [
      " 39%|███▉      | 81/206 [02:00<03:59,  1.91s/it]"
     ]
    },
    {
     "name": "stdout",
     "output_type": "stream",
     "text": [
      "[0]\tvalidation_0-logloss:0.43784\n",
      "Will train until validation_0-logloss hasn't improved in 100 rounds.\n",
      "[100]\tvalidation_0-logloss:0.00335\n",
      "Stopping. Best iteration:\n",
      "[24]\tvalidation_0-logloss:0.00302\n",
      "\n"
     ]
    },
    {
     "name": "stderr",
     "output_type": "stream",
     "text": [
      " 40%|███▉      | 82/206 [02:01<03:26,  1.66s/it]"
     ]
    },
    {
     "name": "stdout",
     "output_type": "stream",
     "text": [
      "[0]\tvalidation_0-logloss:0.43756\n",
      "Will train until validation_0-logloss hasn't improved in 100 rounds.\n",
      "[100]\tvalidation_0-logloss:0.00005\n",
      "Stopping. Best iteration:\n",
      "[63]\tvalidation_0-logloss:0.00005\n",
      "\n"
     ]
    },
    {
     "name": "stderr",
     "output_type": "stream",
     "text": [
      " 40%|████      | 83/206 [02:03<03:07,  1.53s/it]"
     ]
    },
    {
     "name": "stdout",
     "output_type": "stream",
     "text": [
      "[0]\tvalidation_0-logloss:0.44486\n",
      "Will train until validation_0-logloss hasn't improved in 100 rounds.\n",
      "[100]\tvalidation_0-logloss:0.05952\n",
      "Stopping. Best iteration:\n",
      "[19]\tvalidation_0-logloss:0.04071\n",
      "\n"
     ]
    },
    {
     "name": "stderr",
     "output_type": "stream",
     "text": [
      " 41%|████      | 84/206 [02:05<03:18,  1.63s/it]"
     ]
    },
    {
     "name": "stdout",
     "output_type": "stream",
     "text": [
      "[0]\tvalidation_0-logloss:0.43979\n",
      "Will train until validation_0-logloss hasn't improved in 100 rounds.\n",
      "[100]\tvalidation_0-logloss:0.02192\n",
      "Stopping. Best iteration:\n",
      "[19]\tvalidation_0-logloss:0.01614\n",
      "\n"
     ]
    },
    {
     "name": "stderr",
     "output_type": "stream",
     "text": [
      " 41%|████▏     | 85/206 [02:06<03:10,  1.58s/it]"
     ]
    },
    {
     "name": "stdout",
     "output_type": "stream",
     "text": [
      "[0]\tvalidation_0-logloss:0.43919\n",
      "Will train until validation_0-logloss hasn't improved in 100 rounds.\n",
      "[100]\tvalidation_0-logloss:0.01311\n",
      "Stopping. Best iteration:\n",
      "[22]\tvalidation_0-logloss:0.01066\n",
      "\n"
     ]
    },
    {
     "name": "stderr",
     "output_type": "stream",
     "text": [
      " 42%|████▏     | 86/206 [02:07<03:01,  1.51s/it]"
     ]
    },
    {
     "name": "stdout",
     "output_type": "stream",
     "text": [
      "[0]\tvalidation_0-logloss:0.43828\n",
      "Will train until validation_0-logloss hasn't improved in 100 rounds.\n",
      "[100]\tvalidation_0-logloss:0.00266\n",
      "Stopping. Best iteration:\n",
      "[52]\tvalidation_0-logloss:0.00262\n",
      "\n"
     ]
    },
    {
     "name": "stderr",
     "output_type": "stream",
     "text": [
      " 42%|████▏     | 87/206 [02:09<02:50,  1.43s/it]"
     ]
    },
    {
     "name": "stdout",
     "output_type": "stream",
     "text": [
      "[0]\tvalidation_0-logloss:0.43860\n",
      "Will train until validation_0-logloss hasn't improved in 100 rounds.\n",
      "[100]\tvalidation_0-logloss:0.00941\n",
      "Stopping. Best iteration:\n",
      "[26]\tvalidation_0-logloss:0.00768\n",
      "\n"
     ]
    },
    {
     "name": "stderr",
     "output_type": "stream",
     "text": [
      " 43%|████▎     | 88/206 [02:10<02:43,  1.39s/it]"
     ]
    },
    {
     "name": "stdout",
     "output_type": "stream",
     "text": [
      "[0]\tvalidation_0-logloss:0.43950\n",
      "Will train until validation_0-logloss hasn't improved in 100 rounds.\n",
      "[100]\tvalidation_0-logloss:0.01132\n",
      "Stopping. Best iteration:\n",
      "[26]\tvalidation_0-logloss:0.01022\n",
      "\n"
     ]
    },
    {
     "name": "stderr",
     "output_type": "stream",
     "text": [
      " 43%|████▎     | 89/206 [02:11<02:45,  1.41s/it]"
     ]
    },
    {
     "name": "stdout",
     "output_type": "stream",
     "text": [
      "[0]\tvalidation_0-logloss:0.44647\n",
      "Will train until validation_0-logloss hasn't improved in 100 rounds.\n",
      "[100]\tvalidation_0-logloss:0.03622\n",
      "Stopping. Best iteration:\n",
      "[17]\tvalidation_0-logloss:0.02892\n",
      "\n"
     ]
    },
    {
     "name": "stderr",
     "output_type": "stream",
     "text": [
      " 44%|████▎     | 90/206 [02:13<03:00,  1.56s/it]"
     ]
    },
    {
     "name": "stdout",
     "output_type": "stream",
     "text": [
      "[0]\tvalidation_0-logloss:0.43844\n",
      "Will train until validation_0-logloss hasn't improved in 100 rounds.\n",
      "[100]\tvalidation_0-logloss:0.00590\n",
      "Stopping. Best iteration:\n",
      "[27]\tvalidation_0-logloss:0.00543\n",
      "\n"
     ]
    },
    {
     "name": "stderr",
     "output_type": "stream",
     "text": [
      " 44%|████▍     | 91/206 [02:14<02:46,  1.45s/it]"
     ]
    },
    {
     "name": "stdout",
     "output_type": "stream",
     "text": [
      "[0]\tvalidation_0-logloss:0.43844\n",
      "Will train until validation_0-logloss hasn't improved in 100 rounds.\n",
      "[100]\tvalidation_0-logloss:0.00997\n",
      "Stopping. Best iteration:\n",
      "[21]\tvalidation_0-logloss:0.00769\n",
      "\n"
     ]
    },
    {
     "name": "stderr",
     "output_type": "stream",
     "text": [
      " 45%|████▍     | 92/206 [02:16<02:39,  1.40s/it]"
     ]
    },
    {
     "name": "stdout",
     "output_type": "stream",
     "text": [
      "[0]\tvalidation_0-logloss:0.43873\n",
      "Will train until validation_0-logloss hasn't improved in 100 rounds.\n",
      "[100]\tvalidation_0-logloss:0.01047\n",
      "Stopping. Best iteration:\n",
      "[23]\tvalidation_0-logloss:0.00919\n",
      "\n"
     ]
    },
    {
     "name": "stderr",
     "output_type": "stream",
     "text": [
      " 45%|████▌     | 93/206 [02:17<02:38,  1.40s/it]"
     ]
    },
    {
     "name": "stdout",
     "output_type": "stream",
     "text": [
      "[0]\tvalidation_0-logloss:0.44244\n",
      "Will train until validation_0-logloss hasn't improved in 100 rounds.\n",
      "[100]\tvalidation_0-logloss:0.04536\n",
      "Stopping. Best iteration:\n",
      "[15]\tvalidation_0-logloss:0.03126\n",
      "\n"
     ]
    },
    {
     "name": "stderr",
     "output_type": "stream",
     "text": [
      " 46%|████▌     | 94/206 [02:19<02:46,  1.49s/it]"
     ]
    },
    {
     "name": "stdout",
     "output_type": "stream",
     "text": [
      "[0]\tvalidation_0-logloss:0.44523\n",
      "Will train until validation_0-logloss hasn't improved in 100 rounds.\n",
      "[100]\tvalidation_0-logloss:0.07048\n",
      "Stopping. Best iteration:\n",
      "[14]\tvalidation_0-logloss:0.04580\n",
      "\n"
     ]
    },
    {
     "name": "stderr",
     "output_type": "stream",
     "text": [
      " 46%|████▌     | 95/206 [02:21<02:57,  1.60s/it]"
     ]
    },
    {
     "name": "stdout",
     "output_type": "stream",
     "text": [
      "[0]\tvalidation_0-logloss:0.44014\n",
      "Will train until validation_0-logloss hasn't improved in 100 rounds.\n",
      "[100]\tvalidation_0-logloss:0.01713\n",
      "Stopping. Best iteration:\n",
      "[21]\tvalidation_0-logloss:0.01451\n",
      "\n"
     ]
    },
    {
     "name": "stderr",
     "output_type": "stream",
     "text": [
      " 47%|████▋     | 96/206 [02:22<02:50,  1.55s/it]"
     ]
    },
    {
     "name": "stdout",
     "output_type": "stream",
     "text": [
      "[0]\tvalidation_0-logloss:0.44172\n",
      "Will train until validation_0-logloss hasn't improved in 100 rounds.\n",
      "[100]\tvalidation_0-logloss:0.02406\n",
      "Stopping. Best iteration:\n",
      "[20]\tvalidation_0-logloss:0.01907\n",
      "\n"
     ]
    },
    {
     "name": "stderr",
     "output_type": "stream",
     "text": [
      " 47%|████▋     | 97/206 [02:24<02:49,  1.56s/it]"
     ]
    },
    {
     "name": "stdout",
     "output_type": "stream",
     "text": [
      "[0]\tvalidation_0-logloss:0.43816\n",
      "Will train until validation_0-logloss hasn't improved in 100 rounds.\n",
      "[100]\tvalidation_0-logloss:0.00602\n",
      "Stopping. Best iteration:\n",
      "[22]\tvalidation_0-logloss:0.00490\n",
      "\n"
     ]
    },
    {
     "name": "stderr",
     "output_type": "stream",
     "text": [
      " 48%|████▊     | 98/206 [02:25<02:39,  1.47s/it]"
     ]
    },
    {
     "name": "stdout",
     "output_type": "stream",
     "text": [
      "[0]\tvalidation_0-logloss:0.44088\n",
      "Will train until validation_0-logloss hasn't improved in 100 rounds.\n",
      "[100]\tvalidation_0-logloss:0.03140\n",
      "Stopping. Best iteration:\n",
      "[18]\tvalidation_0-logloss:0.02146\n",
      "\n"
     ]
    },
    {
     "name": "stderr",
     "output_type": "stream",
     "text": [
      " 48%|████▊     | 99/206 [02:27<02:45,  1.55s/it]"
     ]
    },
    {
     "name": "stdout",
     "output_type": "stream",
     "text": [
      "[0]\tvalidation_0-logloss:0.45453\n",
      "Will train until validation_0-logloss hasn't improved in 100 rounds.\n",
      "[100]\tvalidation_0-logloss:0.13176\n",
      "Stopping. Best iteration:\n",
      "[13]\tvalidation_0-logloss:0.08488\n",
      "\n"
     ]
    },
    {
     "name": "stderr",
     "output_type": "stream",
     "text": [
      " 49%|████▊     | 100/206 [02:29<03:06,  1.76s/it]"
     ]
    },
    {
     "name": "stdout",
     "output_type": "stream",
     "text": [
      "[0]\tvalidation_0-logloss:0.43844\n",
      "Will train until validation_0-logloss hasn't improved in 100 rounds.\n",
      "[100]\tvalidation_0-logloss:0.00986\n",
      "Stopping. Best iteration:\n",
      "[22]\tvalidation_0-logloss:0.00777\n",
      "\n"
     ]
    },
    {
     "name": "stderr",
     "output_type": "stream",
     "text": [
      " 49%|████▉     | 101/206 [02:30<02:48,  1.60s/it]"
     ]
    },
    {
     "name": "stdout",
     "output_type": "stream",
     "text": [
      "[0]\tvalidation_0-logloss:0.44039\n",
      "Will train until validation_0-logloss hasn't improved in 100 rounds.\n",
      "[100]\tvalidation_0-logloss:0.01778\n",
      "Stopping. Best iteration:\n",
      "[20]\tvalidation_0-logloss:0.01377\n",
      "\n"
     ]
    },
    {
     "name": "stderr",
     "output_type": "stream",
     "text": [
      " 50%|████▉     | 102/206 [02:32<02:45,  1.59s/it]"
     ]
    },
    {
     "name": "stdout",
     "output_type": "stream",
     "text": [
      "[0]\tvalidation_0-logloss:0.44084\n",
      "Will train until validation_0-logloss hasn't improved in 100 rounds.\n",
      "[100]\tvalidation_0-logloss:0.03013\n",
      "Stopping. Best iteration:\n",
      "[20]\tvalidation_0-logloss:0.02211\n",
      "\n"
     ]
    },
    {
     "name": "stderr",
     "output_type": "stream",
     "text": [
      " 50%|█████     | 103/206 [02:33<02:43,  1.59s/it]"
     ]
    },
    {
     "name": "stdout",
     "output_type": "stream",
     "text": [
      "[0]\tvalidation_0-logloss:0.44076\n",
      "Will train until validation_0-logloss hasn't improved in 100 rounds.\n",
      "[100]\tvalidation_0-logloss:0.01667\n",
      "Stopping. Best iteration:\n",
      "[23]\tvalidation_0-logloss:0.01509\n",
      "\n"
     ]
    },
    {
     "name": "stderr",
     "output_type": "stream",
     "text": [
      " 50%|█████     | 104/206 [02:35<02:39,  1.56s/it]"
     ]
    },
    {
     "name": "stdout",
     "output_type": "stream",
     "text": [
      "[0]\tvalidation_0-logloss:0.44038\n",
      "Will train until validation_0-logloss hasn't improved in 100 rounds.\n",
      "[100]\tvalidation_0-logloss:0.02792\n",
      "Stopping. Best iteration:\n",
      "[18]\tvalidation_0-logloss:0.02018\n",
      "\n"
     ]
    },
    {
     "name": "stderr",
     "output_type": "stream",
     "text": [
      " 51%|█████     | 105/206 [02:36<02:38,  1.57s/it]"
     ]
    },
    {
     "name": "stdout",
     "output_type": "stream",
     "text": [
      "[0]\tvalidation_0-logloss:0.44859\n",
      "Will train until validation_0-logloss hasn't improved in 100 rounds.\n",
      "[100]\tvalidation_0-logloss:0.08915\n",
      "Stopping. Best iteration:\n",
      "[16]\tvalidation_0-logloss:0.05937\n",
      "\n"
     ]
    },
    {
     "name": "stderr",
     "output_type": "stream",
     "text": [
      " 51%|█████▏    | 106/206 [02:39<02:51,  1.72s/it]"
     ]
    },
    {
     "name": "stdout",
     "output_type": "stream",
     "text": [
      "[0]\tvalidation_0-logloss:0.43858\n",
      "Will train until validation_0-logloss hasn't improved in 100 rounds.\n",
      "[100]\tvalidation_0-logloss:0.00617\n",
      "Stopping. Best iteration:\n",
      "[23]\tvalidation_0-logloss:0.00581\n",
      "\n"
     ]
    },
    {
     "name": "stderr",
     "output_type": "stream",
     "text": [
      " 52%|█████▏    | 107/206 [02:40<02:36,  1.58s/it]"
     ]
    },
    {
     "name": "stdout",
     "output_type": "stream",
     "text": [
      "[0]\tvalidation_0-logloss:0.43893\n",
      "Will train until validation_0-logloss hasn't improved in 100 rounds.\n",
      "[100]\tvalidation_0-logloss:0.01217\n",
      "Stopping. Best iteration:\n",
      "[26]\tvalidation_0-logloss:0.00957\n",
      "\n"
     ]
    },
    {
     "name": "stderr",
     "output_type": "stream",
     "text": [
      " 52%|█████▏    | 108/206 [02:41<02:27,  1.51s/it]"
     ]
    },
    {
     "name": "stdout",
     "output_type": "stream",
     "text": [
      "[0]\tvalidation_0-logloss:0.44084\n",
      "Will train until validation_0-logloss hasn't improved in 100 rounds.\n",
      "[100]\tvalidation_0-logloss:0.02913\n",
      "Stopping. Best iteration:\n",
      "[18]\tvalidation_0-logloss:0.02121\n",
      "\n"
     ]
    },
    {
     "name": "stderr",
     "output_type": "stream",
     "text": [
      " 53%|█████▎    | 109/206 [02:43<02:27,  1.52s/it]"
     ]
    },
    {
     "name": "stdout",
     "output_type": "stream",
     "text": [
      "[0]\tvalidation_0-logloss:0.44284\n",
      "Will train until validation_0-logloss hasn't improved in 100 rounds.\n",
      "[100]\tvalidation_0-logloss:0.00835\n",
      "[200]\tvalidation_0-logloss:0.00803\n",
      "[300]\tvalidation_0-logloss:0.00794\n",
      "Stopping. Best iteration:\n",
      "[224]\tvalidation_0-logloss:0.00794\n",
      "\n"
     ]
    },
    {
     "name": "stderr",
     "output_type": "stream",
     "text": [
      " 53%|█████▎    | 110/206 [02:45<02:47,  1.75s/it]"
     ]
    },
    {
     "name": "stdout",
     "output_type": "stream",
     "text": [
      "[0]\tvalidation_0-logloss:0.43876\n",
      "Will train until validation_0-logloss hasn't improved in 100 rounds.\n",
      "[100]\tvalidation_0-logloss:0.00365\n",
      "Stopping. Best iteration:\n",
      "[31]\tvalidation_0-logloss:0.00347\n",
      "\n"
     ]
    },
    {
     "name": "stderr",
     "output_type": "stream",
     "text": [
      " 54%|█████▍    | 111/206 [02:46<02:37,  1.66s/it]"
     ]
    },
    {
     "name": "stdout",
     "output_type": "stream",
     "text": [
      "[0]\tvalidation_0-logloss:0.43921\n",
      "Will train until validation_0-logloss hasn't improved in 100 rounds.\n",
      "[100]\tvalidation_0-logloss:0.01154\n",
      "Stopping. Best iteration:\n",
      "[25]\tvalidation_0-logloss:0.00948\n",
      "\n"
     ]
    },
    {
     "name": "stderr",
     "output_type": "stream",
     "text": [
      " 54%|█████▍    | 112/206 [02:48<02:31,  1.61s/it]"
     ]
    },
    {
     "name": "stdout",
     "output_type": "stream",
     "text": [
      "[0]\tvalidation_0-logloss:0.43888\n",
      "Will train until validation_0-logloss hasn't improved in 100 rounds.\n",
      "[100]\tvalidation_0-logloss:0.00971\n",
      "Stopping. Best iteration:\n",
      "[24]\tvalidation_0-logloss:0.00798\n",
      "\n"
     ]
    },
    {
     "name": "stderr",
     "output_type": "stream",
     "text": [
      " 55%|█████▍    | 113/206 [02:49<02:22,  1.54s/it]"
     ]
    },
    {
     "name": "stdout",
     "output_type": "stream",
     "text": [
      "[0]\tvalidation_0-logloss:0.43891\n",
      "Will train until validation_0-logloss hasn't improved in 100 rounds.\n",
      "[100]\tvalidation_0-logloss:0.01172\n",
      "Stopping. Best iteration:\n",
      "[20]\tvalidation_0-logloss:0.00928\n",
      "\n"
     ]
    },
    {
     "name": "stderr",
     "output_type": "stream",
     "text": [
      " 55%|█████▌    | 114/206 [02:51<02:16,  1.49s/it]"
     ]
    },
    {
     "name": "stdout",
     "output_type": "stream",
     "text": [
      "[0]\tvalidation_0-logloss:0.44109\n",
      "Will train until validation_0-logloss hasn't improved in 100 rounds.\n",
      "[100]\tvalidation_0-logloss:0.02269\n",
      "Stopping. Best iteration:\n",
      "[18]\tvalidation_0-logloss:0.01857\n",
      "\n"
     ]
    },
    {
     "name": "stderr",
     "output_type": "stream",
     "text": [
      " 56%|█████▌    | 115/206 [02:52<02:17,  1.51s/it]"
     ]
    },
    {
     "name": "stdout",
     "output_type": "stream",
     "text": [
      "[0]\tvalidation_0-logloss:0.43903\n",
      "Will train until validation_0-logloss hasn't improved in 100 rounds.\n",
      "[100]\tvalidation_0-logloss:0.01582\n",
      "Stopping. Best iteration:\n",
      "[21]\tvalidation_0-logloss:0.01165\n",
      "\n"
     ]
    },
    {
     "name": "stderr",
     "output_type": "stream",
     "text": [
      " 56%|█████▋    | 116/206 [02:54<02:10,  1.46s/it]"
     ]
    },
    {
     "name": "stdout",
     "output_type": "stream",
     "text": [
      "[0]\tvalidation_0-logloss:0.43990\n",
      "Will train until validation_0-logloss hasn't improved in 100 rounds.\n",
      "[100]\tvalidation_0-logloss:0.01690\n",
      "Stopping. Best iteration:\n",
      "[18]\tvalidation_0-logloss:0.01292\n",
      "\n"
     ]
    },
    {
     "name": "stderr",
     "output_type": "stream",
     "text": [
      " 57%|█████▋    | 117/206 [02:55<02:09,  1.45s/it]"
     ]
    },
    {
     "name": "stdout",
     "output_type": "stream",
     "text": [
      "[0]\tvalidation_0-logloss:0.43949\n",
      "Will train until validation_0-logloss hasn't improved in 100 rounds.\n",
      "[100]\tvalidation_0-logloss:0.01940\n",
      "Stopping. Best iteration:\n",
      "[21]\tvalidation_0-logloss:0.01423\n",
      "\n"
     ]
    },
    {
     "name": "stderr",
     "output_type": "stream",
     "text": [
      " 57%|█████▋    | 118/206 [02:56<02:07,  1.44s/it]"
     ]
    },
    {
     "name": "stdout",
     "output_type": "stream",
     "text": [
      "[0]\tvalidation_0-logloss:0.44128\n",
      "Will train until validation_0-logloss hasn't improved in 100 rounds.\n",
      "[100]\tvalidation_0-logloss:0.01229\n",
      "Stopping. Best iteration:\n",
      "[66]\tvalidation_0-logloss:0.01189\n",
      "\n"
     ]
    },
    {
     "name": "stderr",
     "output_type": "stream",
     "text": [
      " 58%|█████▊    | 119/206 [02:58<02:15,  1.56s/it]"
     ]
    },
    {
     "name": "stdout",
     "output_type": "stream",
     "text": [
      "[0]\tvalidation_0-logloss:0.44566\n",
      "Will train until validation_0-logloss hasn't improved in 100 rounds.\n",
      "[100]\tvalidation_0-logloss:0.02762\n",
      "Stopping. Best iteration:\n",
      "[20]\tvalidation_0-logloss:0.02392\n",
      "\n"
     ]
    },
    {
     "name": "stderr",
     "output_type": "stream",
     "text": [
      " 58%|█████▊    | 120/206 [03:00<02:18,  1.61s/it]"
     ]
    },
    {
     "name": "stdout",
     "output_type": "stream",
     "text": [
      "[0]\tvalidation_0-logloss:0.43784\n",
      "Will train until validation_0-logloss hasn't improved in 100 rounds.\n",
      "[100]\tvalidation_0-logloss:0.00327\n",
      "Stopping. Best iteration:\n",
      "[29]\tvalidation_0-logloss:0.00293\n",
      "\n"
     ]
    },
    {
     "name": "stderr",
     "output_type": "stream",
     "text": [
      " 59%|█████▊    | 121/206 [03:01<02:04,  1.46s/it]"
     ]
    },
    {
     "name": "stdout",
     "output_type": "stream",
     "text": [
      "[0]\tvalidation_0-logloss:0.43784\n",
      "Will train until validation_0-logloss hasn't improved in 100 rounds.\n",
      "[100]\tvalidation_0-logloss:0.00341\n",
      "Stopping. Best iteration:\n",
      "[29]\tvalidation_0-logloss:0.00302\n",
      "\n"
     ]
    },
    {
     "name": "stderr",
     "output_type": "stream",
     "text": [
      " 59%|█████▉    | 122/206 [03:02<01:53,  1.36s/it]"
     ]
    },
    {
     "name": "stdout",
     "output_type": "stream",
     "text": [
      "[0]\tvalidation_0-logloss:0.44028\n",
      "Will train until validation_0-logloss hasn't improved in 100 rounds.\n",
      "[100]\tvalidation_0-logloss:0.02454\n",
      "Stopping. Best iteration:\n",
      "[19]\tvalidation_0-logloss:0.01766\n",
      "\n"
     ]
    },
    {
     "name": "stderr",
     "output_type": "stream",
     "text": [
      " 60%|█████▉    | 123/206 [03:04<01:59,  1.44s/it]"
     ]
    },
    {
     "name": "stdout",
     "output_type": "stream",
     "text": [
      "[0]\tvalidation_0-logloss:0.43814\n",
      "Will train until validation_0-logloss hasn't improved in 100 rounds.\n",
      "[100]\tvalidation_0-logloss:0.00686\n",
      "Stopping. Best iteration:\n",
      "[22]\tvalidation_0-logloss:0.00560\n",
      "\n"
     ]
    },
    {
     "name": "stderr",
     "output_type": "stream",
     "text": [
      " 60%|██████    | 124/206 [03:05<01:51,  1.36s/it]"
     ]
    },
    {
     "name": "stdout",
     "output_type": "stream",
     "text": [
      "[0]\tvalidation_0-logloss:0.44042\n",
      "Will train until validation_0-logloss hasn't improved in 100 rounds.\n",
      "[100]\tvalidation_0-logloss:0.02880\n",
      "Stopping. Best iteration:\n",
      "[19]\tvalidation_0-logloss:0.01982\n",
      "\n"
     ]
    },
    {
     "name": "stderr",
     "output_type": "stream",
     "text": [
      " 61%|██████    | 125/206 [03:07<01:53,  1.41s/it]"
     ]
    },
    {
     "name": "stdout",
     "output_type": "stream",
     "text": [
      "[0]\tvalidation_0-logloss:0.43784\n",
      "Will train until validation_0-logloss hasn't improved in 100 rounds.\n",
      "[100]\tvalidation_0-logloss:0.00286\n",
      "Stopping. Best iteration:\n",
      "[25]\tvalidation_0-logloss:0.00240\n",
      "\n"
     ]
    },
    {
     "name": "stderr",
     "output_type": "stream",
     "text": [
      " 61%|██████    | 126/206 [03:08<01:45,  1.31s/it]"
     ]
    },
    {
     "name": "stdout",
     "output_type": "stream",
     "text": [
      "[0]\tvalidation_0-logloss:0.43875\n",
      "Will train until validation_0-logloss hasn't improved in 100 rounds.\n",
      "[100]\tvalidation_0-logloss:0.00821\n",
      "Stopping. Best iteration:\n",
      "[44]\tvalidation_0-logloss:0.00784\n",
      "\n"
     ]
    },
    {
     "name": "stderr",
     "output_type": "stream",
     "text": [
      " 62%|██████▏   | 127/206 [03:09<01:46,  1.34s/it]"
     ]
    },
    {
     "name": "stdout",
     "output_type": "stream",
     "text": [
      "[0]\tvalidation_0-logloss:0.43942\n",
      "Will train until validation_0-logloss hasn't improved in 100 rounds.\n",
      "[100]\tvalidation_0-logloss:0.00801\n",
      "Stopping. Best iteration:\n",
      "[23]\tvalidation_0-logloss:0.00699\n",
      "\n"
     ]
    },
    {
     "name": "stderr",
     "output_type": "stream",
     "text": [
      " 62%|██████▏   | 128/206 [03:10<01:46,  1.37s/it]"
     ]
    },
    {
     "name": "stdout",
     "output_type": "stream",
     "text": [
      "[0]\tvalidation_0-logloss:0.44106\n",
      "Will train until validation_0-logloss hasn't improved in 100 rounds.\n",
      "[100]\tvalidation_0-logloss:0.03260\n",
      "Stopping. Best iteration:\n",
      "[19]\tvalidation_0-logloss:0.02336\n",
      "\n"
     ]
    },
    {
     "name": "stderr",
     "output_type": "stream",
     "text": [
      " 63%|██████▎   | 129/206 [03:12<01:50,  1.43s/it]"
     ]
    },
    {
     "name": "stdout",
     "output_type": "stream",
     "text": [
      "[0]\tvalidation_0-logloss:0.43877\n",
      "Will train until validation_0-logloss hasn't improved in 100 rounds.\n",
      "[100]\tvalidation_0-logloss:0.01261\n",
      "Stopping. Best iteration:\n",
      "[22]\tvalidation_0-logloss:0.00943\n",
      "\n"
     ]
    },
    {
     "name": "stderr",
     "output_type": "stream",
     "text": [
      " 63%|██████▎   | 130/206 [03:13<01:45,  1.38s/it]"
     ]
    },
    {
     "name": "stdout",
     "output_type": "stream",
     "text": [
      "[0]\tvalidation_0-logloss:0.43814\n",
      "Will train until validation_0-logloss hasn't improved in 100 rounds.\n",
      "[100]\tvalidation_0-logloss:0.00707\n",
      "Stopping. Best iteration:\n",
      "[22]\tvalidation_0-logloss:0.00565\n",
      "\n"
     ]
    },
    {
     "name": "stderr",
     "output_type": "stream",
     "text": [
      " 64%|██████▎   | 131/206 [03:14<01:38,  1.32s/it]"
     ]
    },
    {
     "name": "stdout",
     "output_type": "stream",
     "text": [
      "[0]\tvalidation_0-logloss:0.44146\n",
      "Will train until validation_0-logloss hasn't improved in 100 rounds.\n",
      "[100]\tvalidation_0-logloss:0.03650\n",
      "Stopping. Best iteration:\n",
      "[18]\tvalidation_0-logloss:0.02442\n",
      "\n"
     ]
    },
    {
     "name": "stderr",
     "output_type": "stream",
     "text": [
      " 64%|██████▍   | 132/206 [03:16<01:43,  1.40s/it]"
     ]
    },
    {
     "name": "stdout",
     "output_type": "stream",
     "text": [
      "[0]\tvalidation_0-logloss:0.43844\n",
      "Will train until validation_0-logloss hasn't improved in 100 rounds.\n",
      "[100]\tvalidation_0-logloss:0.00779\n",
      "Stopping. Best iteration:\n",
      "[23]\tvalidation_0-logloss:0.00668\n",
      "\n"
     ]
    },
    {
     "name": "stderr",
     "output_type": "stream",
     "text": [
      " 65%|██████▍   | 133/206 [03:17<01:37,  1.34s/it]"
     ]
    },
    {
     "name": "stdout",
     "output_type": "stream",
     "text": [
      "[0]\tvalidation_0-logloss:0.44129\n",
      "Will train until validation_0-logloss hasn't improved in 100 rounds.\n",
      "[100]\tvalidation_0-logloss:0.01639\n",
      "Stopping. Best iteration:\n",
      "[30]\tvalidation_0-logloss:0.01525\n",
      "\n"
     ]
    },
    {
     "name": "stderr",
     "output_type": "stream",
     "text": [
      " 65%|██████▌   | 134/206 [03:19<01:44,  1.46s/it]"
     ]
    },
    {
     "name": "stdout",
     "output_type": "stream",
     "text": [
      "[0]\tvalidation_0-logloss:0.43979\n",
      "Will train until validation_0-logloss hasn't improved in 100 rounds.\n",
      "[100]\tvalidation_0-logloss:0.02278\n",
      "Stopping. Best iteration:\n",
      "[18]\tvalidation_0-logloss:0.01584\n",
      "\n"
     ]
    },
    {
     "name": "stderr",
     "output_type": "stream",
     "text": [
      " 66%|██████▌   | 135/206 [03:21<01:51,  1.57s/it]"
     ]
    },
    {
     "name": "stdout",
     "output_type": "stream",
     "text": [
      "[0]\tvalidation_0-logloss:0.43921\n",
      "Will train until validation_0-logloss hasn't improved in 100 rounds.\n",
      "[100]\tvalidation_0-logloss:0.01511\n",
      "Stopping. Best iteration:\n",
      "[19]\tvalidation_0-logloss:0.01210\n",
      "\n"
     ]
    },
    {
     "name": "stderr",
     "output_type": "stream",
     "text": [
      " 66%|██████▌   | 136/206 [03:22<01:45,  1.51s/it]"
     ]
    },
    {
     "name": "stdout",
     "output_type": "stream",
     "text": [
      "[0]\tvalidation_0-logloss:0.44394\n",
      "Will train until validation_0-logloss hasn't improved in 100 rounds.\n",
      "[100]\tvalidation_0-logloss:0.05520\n",
      "Stopping. Best iteration:\n",
      "[16]\tvalidation_0-logloss:0.03729\n",
      "\n"
     ]
    },
    {
     "name": "stderr",
     "output_type": "stream",
     "text": [
      " 67%|██████▋   | 137/206 [03:24<01:49,  1.59s/it]"
     ]
    },
    {
     "name": "stdout",
     "output_type": "stream",
     "text": [
      "[0]\tvalidation_0-logloss:0.43784\n",
      "Will train until validation_0-logloss hasn't improved in 100 rounds.\n",
      "[100]\tvalidation_0-logloss:0.00333\n",
      "Stopping. Best iteration:\n",
      "[25]\tvalidation_0-logloss:0.00289\n",
      "\n"
     ]
    },
    {
     "name": "stderr",
     "output_type": "stream",
     "text": [
      " 67%|██████▋   | 138/206 [03:25<01:37,  1.44s/it]"
     ]
    },
    {
     "name": "stdout",
     "output_type": "stream",
     "text": [
      "[0]\tvalidation_0-logloss:0.43879\n",
      "Will train until validation_0-logloss hasn't improved in 100 rounds.\n",
      "[100]\tvalidation_0-logloss:0.01190\n",
      "Stopping. Best iteration:\n",
      "[20]\tvalidation_0-logloss:0.00928\n",
      "\n"
     ]
    },
    {
     "name": "stderr",
     "output_type": "stream",
     "text": [
      " 67%|██████▋   | 139/206 [03:26<01:36,  1.44s/it]"
     ]
    },
    {
     "name": "stdout",
     "output_type": "stream",
     "text": [
      "[0]\tvalidation_0-logloss:0.43797\n",
      "Will train until validation_0-logloss hasn't improved in 100 rounds.\n",
      "[100]\tvalidation_0-logloss:0.00367\n",
      "Stopping. Best iteration:\n",
      "[25]\tvalidation_0-logloss:0.00315\n",
      "\n"
     ]
    },
    {
     "name": "stderr",
     "output_type": "stream",
     "text": [
      " 68%|██████▊   | 140/206 [03:28<01:29,  1.36s/it]"
     ]
    },
    {
     "name": "stdout",
     "output_type": "stream",
     "text": [
      "[0]\tvalidation_0-logloss:0.43860\n",
      "Will train until validation_0-logloss hasn't improved in 100 rounds.\n",
      "[100]\tvalidation_0-logloss:0.00995\n",
      "Stopping. Best iteration:\n",
      "[23]\tvalidation_0-logloss:0.00788\n",
      "\n"
     ]
    },
    {
     "name": "stderr",
     "output_type": "stream",
     "text": [
      " 68%|██████▊   | 141/206 [03:29<01:28,  1.36s/it]"
     ]
    },
    {
     "name": "stdout",
     "output_type": "stream",
     "text": [
      "[0]\tvalidation_0-logloss:0.43786\n",
      "Will train until validation_0-logloss hasn't improved in 100 rounds.\n",
      "[100]\tvalidation_0-logloss:0.00271\n",
      "Stopping. Best iteration:\n",
      "[33]\tvalidation_0-logloss:0.00243\n",
      "\n"
     ]
    },
    {
     "name": "stderr",
     "output_type": "stream",
     "text": [
      " 69%|██████▉   | 142/206 [03:30<01:23,  1.31s/it]"
     ]
    },
    {
     "name": "stdout",
     "output_type": "stream",
     "text": [
      "[0]\tvalidation_0-logloss:0.43831\n",
      "Will train until validation_0-logloss hasn't improved in 100 rounds.\n",
      "[100]\tvalidation_0-logloss:0.00590\n",
      "Stopping. Best iteration:\n",
      "[25]\tvalidation_0-logloss:0.00509\n",
      "\n"
     ]
    },
    {
     "name": "stderr",
     "output_type": "stream",
     "text": [
      " 69%|██████▉   | 143/206 [03:32<01:22,  1.31s/it]"
     ]
    },
    {
     "name": "stdout",
     "output_type": "stream",
     "text": [
      "[0]\tvalidation_0-logloss:0.44042\n",
      "Will train until validation_0-logloss hasn't improved in 100 rounds.\n",
      "[100]\tvalidation_0-logloss:0.02667\n",
      "Stopping. Best iteration:\n",
      "[19]\tvalidation_0-logloss:0.01996\n",
      "\n"
     ]
    },
    {
     "name": "stderr",
     "output_type": "stream",
     "text": [
      " 70%|██████▉   | 144/206 [03:33<01:25,  1.38s/it]"
     ]
    },
    {
     "name": "stdout",
     "output_type": "stream",
     "text": [
      "[0]\tvalidation_0-logloss:0.44188\n",
      "Will train until validation_0-logloss hasn't improved in 100 rounds.\n",
      "[100]\tvalidation_0-logloss:0.03436\n",
      "Stopping. Best iteration:\n",
      "[22]\tvalidation_0-logloss:0.02500\n",
      "\n"
     ]
    },
    {
     "name": "stderr",
     "output_type": "stream",
     "text": [
      " 70%|███████   | 145/206 [03:35<01:29,  1.47s/it]"
     ]
    },
    {
     "name": "stdout",
     "output_type": "stream",
     "text": [
      "[0]\tvalidation_0-logloss:0.43921\n",
      "Will train until validation_0-logloss hasn't improved in 100 rounds.\n",
      "[100]\tvalidation_0-logloss:0.01623\n",
      "Stopping. Best iteration:\n",
      "[21]\tvalidation_0-logloss:0.01183\n",
      "\n"
     ]
    },
    {
     "name": "stderr",
     "output_type": "stream",
     "text": [
      " 71%|███████   | 146/206 [03:36<01:28,  1.48s/it]"
     ]
    },
    {
     "name": "stdout",
     "output_type": "stream",
     "text": [
      "[0]\tvalidation_0-logloss:0.44031\n",
      "Will train until validation_0-logloss hasn't improved in 100 rounds.\n",
      "[100]\tvalidation_0-logloss:0.01614\n",
      "Stopping. Best iteration:\n",
      "[29]\tvalidation_0-logloss:0.01479\n",
      "\n"
     ]
    },
    {
     "name": "stderr",
     "output_type": "stream",
     "text": [
      " 71%|███████▏  | 147/206 [03:38<01:27,  1.49s/it]"
     ]
    },
    {
     "name": "stdout",
     "output_type": "stream",
     "text": [
      "[0]\tvalidation_0-logloss:0.43858\n",
      "Will train until validation_0-logloss hasn't improved in 100 rounds.\n",
      "[100]\tvalidation_0-logloss:0.00995\n",
      "Stopping. Best iteration:\n",
      "[22]\tvalidation_0-logloss:0.00786\n",
      "\n"
     ]
    },
    {
     "name": "stderr",
     "output_type": "stream",
     "text": [
      " 72%|███████▏  | 148/206 [03:39<01:22,  1.43s/it]"
     ]
    },
    {
     "name": "stdout",
     "output_type": "stream",
     "text": [
      "[0]\tvalidation_0-logloss:0.44042\n",
      "Will train until validation_0-logloss hasn't improved in 100 rounds.\n",
      "[100]\tvalidation_0-logloss:0.02484\n",
      "Stopping. Best iteration:\n",
      "[18]\tvalidation_0-logloss:0.01968\n",
      "\n"
     ]
    },
    {
     "name": "stderr",
     "output_type": "stream",
     "text": [
      " 72%|███████▏  | 149/206 [03:41<01:23,  1.46s/it]"
     ]
    },
    {
     "name": "stdout",
     "output_type": "stream",
     "text": [
      "[0]\tvalidation_0-logloss:0.44564\n",
      "Will train until validation_0-logloss hasn't improved in 100 rounds.\n",
      "[100]\tvalidation_0-logloss:0.02503\n",
      "Stopping. Best iteration:\n",
      "[64]\tvalidation_0-logloss:0.02401\n",
      "\n"
     ]
    },
    {
     "name": "stderr",
     "output_type": "stream",
     "text": [
      " 73%|███████▎  | 150/206 [03:43<01:31,  1.64s/it]"
     ]
    },
    {
     "name": "stdout",
     "output_type": "stream",
     "text": [
      "[0]\tvalidation_0-logloss:0.43828\n",
      "Will train until validation_0-logloss hasn't improved in 100 rounds.\n",
      "[100]\tvalidation_0-logloss:0.00663\n",
      "Stopping. Best iteration:\n",
      "[23]\tvalidation_0-logloss:0.00556\n",
      "\n"
     ]
    },
    {
     "name": "stderr",
     "output_type": "stream",
     "text": [
      " 73%|███████▎  | 151/206 [03:44<01:23,  1.52s/it]"
     ]
    },
    {
     "name": "stdout",
     "output_type": "stream",
     "text": [
      "[0]\tvalidation_0-logloss:0.44976\n",
      "Will train until validation_0-logloss hasn't improved in 100 rounds.\n",
      "[100]\tvalidation_0-logloss:0.10005\n",
      "Stopping. Best iteration:\n",
      "[13]\tvalidation_0-logloss:0.06514\n",
      "\n"
     ]
    },
    {
     "name": "stderr",
     "output_type": "stream",
     "text": [
      " 74%|███████▍  | 152/206 [03:46<01:30,  1.68s/it]"
     ]
    },
    {
     "name": "stdout",
     "output_type": "stream",
     "text": [
      "[0]\tvalidation_0-logloss:0.43875\n",
      "Will train until validation_0-logloss hasn't improved in 100 rounds.\n",
      "[100]\tvalidation_0-logloss:0.01243\n",
      "Stopping. Best iteration:\n",
      "[20]\tvalidation_0-logloss:0.00957\n",
      "\n"
     ]
    },
    {
     "name": "stderr",
     "output_type": "stream",
     "text": [
      " 74%|███████▍  | 153/206 [03:47<01:22,  1.56s/it]"
     ]
    },
    {
     "name": "stdout",
     "output_type": "stream",
     "text": [
      "[0]\tvalidation_0-logloss:0.44411\n",
      "Will train until validation_0-logloss hasn't improved in 100 rounds.\n",
      "[100]\tvalidation_0-logloss:0.03908\n",
      "Stopping. Best iteration:\n",
      "[19]\tvalidation_0-logloss:0.03077\n",
      "\n"
     ]
    },
    {
     "name": "stderr",
     "output_type": "stream",
     "text": [
      " 75%|███████▍  | 154/206 [03:49<01:24,  1.62s/it]"
     ]
    },
    {
     "name": "stdout",
     "output_type": "stream",
     "text": [
      "[0]\tvalidation_0-logloss:0.43891\n",
      "Will train until validation_0-logloss hasn't improved in 100 rounds.\n",
      "[100]\tvalidation_0-logloss:0.01263\n",
      "Stopping. Best iteration:\n",
      "[20]\tvalidation_0-logloss:0.01015\n",
      "\n"
     ]
    },
    {
     "name": "stderr",
     "output_type": "stream",
     "text": [
      " 75%|███████▌  | 155/206 [03:50<01:18,  1.53s/it]"
     ]
    },
    {
     "name": "stdout",
     "output_type": "stream",
     "text": [
      "[0]\tvalidation_0-logloss:0.43995\n",
      "Will train until validation_0-logloss hasn't improved in 100 rounds.\n",
      "[100]\tvalidation_0-logloss:0.02179\n",
      "Stopping. Best iteration:\n",
      "[18]\tvalidation_0-logloss:0.01633\n",
      "\n"
     ]
    },
    {
     "name": "stderr",
     "output_type": "stream",
     "text": [
      " 76%|███████▌  | 156/206 [03:52<01:18,  1.57s/it]"
     ]
    },
    {
     "name": "stdout",
     "output_type": "stream",
     "text": [
      "[0]\tvalidation_0-logloss:0.44207\n",
      "Will train until validation_0-logloss hasn't improved in 100 rounds.\n",
      "[100]\tvalidation_0-logloss:0.03894\n",
      "Stopping. Best iteration:\n",
      "[17]\tvalidation_0-logloss:0.02864\n",
      "\n"
     ]
    },
    {
     "name": "stderr",
     "output_type": "stream",
     "text": [
      " 76%|███████▌  | 157/206 [03:54<01:23,  1.71s/it]"
     ]
    },
    {
     "name": "stdout",
     "output_type": "stream",
     "text": [
      "[0]\tvalidation_0-logloss:0.44270\n",
      "Will train until validation_0-logloss hasn't improved in 100 rounds.\n",
      "[100]\tvalidation_0-logloss:0.03341\n",
      "Stopping. Best iteration:\n",
      "[19]\tvalidation_0-logloss:0.02442\n",
      "\n"
     ]
    },
    {
     "name": "stderr",
     "output_type": "stream",
     "text": [
      " 77%|███████▋  | 158/206 [03:56<01:21,  1.71s/it]"
     ]
    },
    {
     "name": "stdout",
     "output_type": "stream",
     "text": [
      "[0]\tvalidation_0-logloss:0.43886\n",
      "Will train until validation_0-logloss hasn't improved in 100 rounds.\n",
      "[100]\tvalidation_0-logloss:0.01416\n",
      "Stopping. Best iteration:\n",
      "[22]\tvalidation_0-logloss:0.01045\n",
      "\n"
     ]
    },
    {
     "name": "stderr",
     "output_type": "stream",
     "text": [
      " 77%|███████▋  | 159/206 [03:57<01:14,  1.59s/it]"
     ]
    },
    {
     "name": "stdout",
     "output_type": "stream",
     "text": [
      "[0]\tvalidation_0-logloss:0.44306\n",
      "Will train until validation_0-logloss hasn't improved in 100 rounds.\n",
      "[100]\tvalidation_0-logloss:0.04504\n",
      "Stopping. Best iteration:\n",
      "[18]\tvalidation_0-logloss:0.03156\n",
      "\n"
     ]
    },
    {
     "name": "stderr",
     "output_type": "stream",
     "text": [
      " 78%|███████▊  | 160/206 [03:59<01:14,  1.63s/it]"
     ]
    },
    {
     "name": "stdout",
     "output_type": "stream",
     "text": [
      "[0]\tvalidation_0-logloss:0.43828\n",
      "Will train until validation_0-logloss hasn't improved in 100 rounds.\n",
      "[100]\tvalidation_0-logloss:0.00424\n",
      "Stopping. Best iteration:\n",
      "[53]\tvalidation_0-logloss:0.00404\n",
      "\n"
     ]
    },
    {
     "name": "stderr",
     "output_type": "stream",
     "text": [
      " 78%|███████▊  | 161/206 [04:00<01:08,  1.53s/it]"
     ]
    },
    {
     "name": "stdout",
     "output_type": "stream",
     "text": [
      "[0]\tvalidation_0-logloss:0.43919\n",
      "Will train until validation_0-logloss hasn't improved in 100 rounds.\n",
      "[100]\tvalidation_0-logloss:0.01648\n",
      "Stopping. Best iteration:\n",
      "[20]\tvalidation_0-logloss:0.01208\n",
      "\n"
     ]
    },
    {
     "name": "stderr",
     "output_type": "stream",
     "text": [
      " 79%|███████▊  | 162/206 [04:01<01:05,  1.49s/it]"
     ]
    },
    {
     "name": "stdout",
     "output_type": "stream",
     "text": [
      "[0]\tvalidation_0-logloss:0.44148\n",
      "Will train until validation_0-logloss hasn't improved in 100 rounds.\n",
      "[100]\tvalidation_0-logloss:0.03776\n",
      "Stopping. Best iteration:\n",
      "[16]\tvalidation_0-logloss:0.02645\n",
      "\n"
     ]
    },
    {
     "name": "stderr",
     "output_type": "stream",
     "text": [
      " 79%|███████▉  | 163/206 [04:03<01:05,  1.53s/it]"
     ]
    },
    {
     "name": "stdout",
     "output_type": "stream",
     "text": [
      "[0]\tvalidation_0-logloss:0.43840\n",
      "Will train until validation_0-logloss hasn't improved in 100 rounds.\n",
      "[100]\tvalidation_0-logloss:0.00113\n",
      "Stopping. Best iteration:\n",
      "[47]\tvalidation_0-logloss:0.00113\n",
      "\n"
     ]
    },
    {
     "name": "stderr",
     "output_type": "stream",
     "text": [
      " 80%|███████▉  | 164/206 [04:04<01:01,  1.46s/it]"
     ]
    },
    {
     "name": "stdout",
     "output_type": "stream",
     "text": [
      "[0]\tvalidation_0-logloss:0.43979\n",
      "Will train until validation_0-logloss hasn't improved in 100 rounds.\n",
      "[100]\tvalidation_0-logloss:0.02145\n",
      "Stopping. Best iteration:\n",
      "[19]\tvalidation_0-logloss:0.01600\n",
      "\n"
     ]
    },
    {
     "name": "stderr",
     "output_type": "stream",
     "text": [
      " 80%|████████  | 165/206 [04:06<00:59,  1.46s/it]"
     ]
    },
    {
     "name": "stdout",
     "output_type": "stream",
     "text": [
      "[0]\tvalidation_0-logloss:0.43784\n",
      "Will train until validation_0-logloss hasn't improved in 100 rounds.\n",
      "[100]\tvalidation_0-logloss:0.00315\n",
      "Stopping. Best iteration:\n",
      "[27]\tvalidation_0-logloss:0.00263\n",
      "\n"
     ]
    },
    {
     "name": "stderr",
     "output_type": "stream",
     "text": [
      " 81%|████████  | 166/206 [04:07<00:54,  1.35s/it]"
     ]
    },
    {
     "name": "stdout",
     "output_type": "stream",
     "text": [
      "[0]\tvalidation_0-logloss:0.44197\n",
      "Will train until validation_0-logloss hasn't improved in 100 rounds.\n",
      "[100]\tvalidation_0-logloss:0.02625\n",
      "Stopping. Best iteration:\n",
      "[20]\tvalidation_0-logloss:0.02112\n",
      "\n"
     ]
    },
    {
     "name": "stderr",
     "output_type": "stream",
     "text": [
      " 81%|████████  | 167/206 [04:09<00:56,  1.46s/it]"
     ]
    },
    {
     "name": "stdout",
     "output_type": "stream",
     "text": [
      "[0]\tvalidation_0-logloss:0.43830\n",
      "Will train until validation_0-logloss hasn't improved in 100 rounds.\n",
      "[100]\tvalidation_0-logloss:0.00590\n",
      "Stopping. Best iteration:\n",
      "[26]\tvalidation_0-logloss:0.00510\n",
      "\n"
     ]
    },
    {
     "name": "stderr",
     "output_type": "stream",
     "text": [
      " 82%|████████▏ | 168/206 [04:10<00:54,  1.43s/it]"
     ]
    },
    {
     "name": "stdout",
     "output_type": "stream",
     "text": [
      "[0]\tvalidation_0-logloss:0.44014\n",
      "Will train until validation_0-logloss hasn't improved in 100 rounds.\n",
      "[100]\tvalidation_0-logloss:0.02470\n",
      "Stopping. Best iteration:\n",
      "[19]\tvalidation_0-logloss:0.01735\n",
      "\n"
     ]
    },
    {
     "name": "stderr",
     "output_type": "stream",
     "text": [
      " 82%|████████▏ | 169/206 [04:11<00:53,  1.45s/it]"
     ]
    },
    {
     "name": "stdout",
     "output_type": "stream",
     "text": [
      "[0]\tvalidation_0-logloss:0.44038\n",
      "Will train until validation_0-logloss hasn't improved in 100 rounds.\n",
      "[100]\tvalidation_0-logloss:0.01221\n",
      "Stopping. Best iteration:\n",
      "[48]\tvalidation_0-logloss:0.01165\n",
      "\n"
     ]
    },
    {
     "name": "stderr",
     "output_type": "stream",
     "text": [
      " 83%|████████▎ | 170/206 [04:13<00:52,  1.46s/it]"
     ]
    },
    {
     "name": "stdout",
     "output_type": "stream",
     "text": [
      "[0]\tvalidation_0-logloss:0.43814\n",
      "Will train until validation_0-logloss hasn't improved in 100 rounds.\n",
      "[100]\tvalidation_0-logloss:0.00702\n",
      "Stopping. Best iteration:\n",
      "[24]\tvalidation_0-logloss:0.00539\n",
      "\n"
     ]
    },
    {
     "name": "stderr",
     "output_type": "stream",
     "text": [
      " 83%|████████▎ | 171/206 [04:14<00:48,  1.39s/it]"
     ]
    },
    {
     "name": "stdout",
     "output_type": "stream",
     "text": [
      "[0]\tvalidation_0-logloss:0.43953\n",
      "Will train until validation_0-logloss hasn't improved in 100 rounds.\n",
      "[100]\tvalidation_0-logloss:0.01617\n",
      "Stopping. Best iteration:\n",
      "[20]\tvalidation_0-logloss:0.01314\n",
      "\n"
     ]
    },
    {
     "name": "stderr",
     "output_type": "stream",
     "text": [
      " 83%|████████▎ | 172/206 [04:16<00:48,  1.43s/it]"
     ]
    },
    {
     "name": "stdout",
     "output_type": "stream",
     "text": [
      "[0]\tvalidation_0-logloss:0.43784\n",
      "Will train until validation_0-logloss hasn't improved in 100 rounds.\n",
      "[100]\tvalidation_0-logloss:0.00262\n",
      "Stopping. Best iteration:\n",
      "[26]\tvalidation_0-logloss:0.00251\n",
      "\n"
     ]
    },
    {
     "name": "stderr",
     "output_type": "stream",
     "text": [
      " 84%|████████▍ | 173/206 [04:17<00:43,  1.33s/it]"
     ]
    },
    {
     "name": "stdout",
     "output_type": "stream",
     "text": [
      "[0]\tvalidation_0-logloss:0.43917\n",
      "Will train until validation_0-logloss hasn't improved in 100 rounds.\n",
      "[100]\tvalidation_0-logloss:0.01077\n",
      "Stopping. Best iteration:\n",
      "[24]\tvalidation_0-logloss:0.00947\n",
      "\n"
     ]
    },
    {
     "name": "stderr",
     "output_type": "stream",
     "text": [
      " 84%|████████▍ | 174/206 [04:18<00:42,  1.34s/it]"
     ]
    },
    {
     "name": "stdout",
     "output_type": "stream",
     "text": [
      "[0]\tvalidation_0-logloss:0.43922\n",
      "Will train until validation_0-logloss hasn't improved in 100 rounds.\n",
      "[100]\tvalidation_0-logloss:0.01144\n",
      "Stopping. Best iteration:\n",
      "[22]\tvalidation_0-logloss:0.00911\n",
      "\n"
     ]
    },
    {
     "name": "stderr",
     "output_type": "stream",
     "text": [
      " 85%|████████▍ | 175/206 [04:20<00:41,  1.35s/it]"
     ]
    },
    {
     "name": "stdout",
     "output_type": "stream",
     "text": [
      "[0]\tvalidation_0-logloss:0.43860\n",
      "Will train until validation_0-logloss hasn't improved in 100 rounds.\n",
      "[100]\tvalidation_0-logloss:0.00798\n",
      "Stopping. Best iteration:\n",
      "[22]\tvalidation_0-logloss:0.00723\n",
      "\n"
     ]
    },
    {
     "name": "stderr",
     "output_type": "stream",
     "text": [
      " 85%|████████▌ | 176/206 [04:21<00:39,  1.33s/it]"
     ]
    },
    {
     "name": "stdout",
     "output_type": "stream",
     "text": [
      "[0]\tvalidation_0-logloss:0.44858\n",
      "Will train until validation_0-logloss hasn't improved in 100 rounds.\n",
      "[100]\tvalidation_0-logloss:0.09399\n",
      "Stopping. Best iteration:\n",
      "[18]\tvalidation_0-logloss:0.06087\n",
      "\n"
     ]
    },
    {
     "name": "stderr",
     "output_type": "stream",
     "text": [
      " 86%|████████▌ | 177/206 [04:23<00:45,  1.55s/it]"
     ]
    },
    {
     "name": "stdout",
     "output_type": "stream",
     "text": [
      "[0]\tvalidation_0-logloss:0.45611\n",
      "Will train until validation_0-logloss hasn't improved in 100 rounds.\n",
      "[100]\tvalidation_0-logloss:0.14028\n",
      "Stopping. Best iteration:\n",
      "[15]\tvalidation_0-logloss:0.08993\n",
      "\n"
     ]
    },
    {
     "name": "stderr",
     "output_type": "stream",
     "text": [
      " 86%|████████▋ | 178/206 [04:25<00:52,  1.86s/it]"
     ]
    },
    {
     "name": "stdout",
     "output_type": "stream",
     "text": [
      "[0]\tvalidation_0-logloss:0.43954\n",
      "Will train until validation_0-logloss hasn't improved in 100 rounds.\n",
      "[100]\tvalidation_0-logloss:0.01812\n",
      "Stopping. Best iteration:\n",
      "[20]\tvalidation_0-logloss:0.01450\n",
      "\n"
     ]
    },
    {
     "name": "stderr",
     "output_type": "stream",
     "text": [
      " 87%|████████▋ | 179/206 [04:27<00:48,  1.79s/it]"
     ]
    },
    {
     "name": "stdout",
     "output_type": "stream",
     "text": [
      "[0]\tvalidation_0-logloss:0.43919\n",
      "Will train until validation_0-logloss hasn't improved in 100 rounds.\n",
      "[100]\tvalidation_0-logloss:0.01513\n",
      "Stopping. Best iteration:\n",
      "[21]\tvalidation_0-logloss:0.01168\n",
      "\n"
     ]
    },
    {
     "name": "stderr",
     "output_type": "stream",
     "text": [
      " 87%|████████▋ | 180/206 [04:29<00:43,  1.68s/it]"
     ]
    },
    {
     "name": "stdout",
     "output_type": "stream",
     "text": [
      "[0]\tvalidation_0-logloss:0.43919\n",
      "Will train until validation_0-logloss hasn't improved in 100 rounds.\n",
      "[100]\tvalidation_0-logloss:0.01451\n",
      "Stopping. Best iteration:\n",
      "[23]\tvalidation_0-logloss:0.01194\n",
      "\n"
     ]
    },
    {
     "name": "stderr",
     "output_type": "stream",
     "text": [
      " 88%|████████▊ | 181/206 [04:30<00:39,  1.60s/it]"
     ]
    },
    {
     "name": "stdout",
     "output_type": "stream",
     "text": [
      "[0]\tvalidation_0-logloss:0.43860\n",
      "Will train until validation_0-logloss hasn't improved in 100 rounds.\n",
      "[100]\tvalidation_0-logloss:0.00886\n",
      "Stopping. Best iteration:\n",
      "[22]\tvalidation_0-logloss:0.00743\n",
      "\n"
     ]
    },
    {
     "name": "stderr",
     "output_type": "stream",
     "text": [
      " 88%|████████▊ | 182/206 [04:31<00:36,  1.53s/it]"
     ]
    },
    {
     "name": "stdout",
     "output_type": "stream",
     "text": [
      "[0]\tvalidation_0-logloss:0.44983\n",
      "Will train until validation_0-logloss hasn't improved in 100 rounds.\n",
      "[100]\tvalidation_0-logloss:0.10389\n",
      "Stopping. Best iteration:\n",
      "[16]\tvalidation_0-logloss:0.06484\n",
      "\n"
     ]
    },
    {
     "name": "stderr",
     "output_type": "stream",
     "text": [
      " 89%|████████▉ | 183/206 [04:33<00:39,  1.71s/it]"
     ]
    },
    {
     "name": "stdout",
     "output_type": "stream",
     "text": [
      "[0]\tvalidation_0-logloss:0.43877\n",
      "Will train until validation_0-logloss hasn't improved in 100 rounds.\n",
      "[100]\tvalidation_0-logloss:0.01224\n",
      "Stopping. Best iteration:\n",
      "[20]\tvalidation_0-logloss:0.00959\n",
      "\n"
     ]
    },
    {
     "name": "stderr",
     "output_type": "stream",
     "text": [
      " 89%|████████▉ | 184/206 [04:35<00:34,  1.58s/it]"
     ]
    },
    {
     "name": "stdout",
     "output_type": "stream",
     "text": [
      "[0]\tvalidation_0-logloss:0.44074\n",
      "Will train until validation_0-logloss hasn't improved in 100 rounds.\n",
      "[100]\tvalidation_0-logloss:0.02596\n",
      "Stopping. Best iteration:\n",
      "[18]\tvalidation_0-logloss:0.01899\n",
      "\n"
     ]
    },
    {
     "name": "stderr",
     "output_type": "stream",
     "text": [
      " 90%|████████▉ | 185/206 [04:36<00:33,  1.60s/it]"
     ]
    },
    {
     "name": "stdout",
     "output_type": "stream",
     "text": [
      "[0]\tvalidation_0-logloss:0.43782\n",
      "Will train until validation_0-logloss hasn't improved in 100 rounds.\n",
      "[100]\tvalidation_0-logloss:0.00327\n",
      "Stopping. Best iteration:\n",
      "[29]\tvalidation_0-logloss:0.00292\n",
      "\n"
     ]
    },
    {
     "name": "stderr",
     "output_type": "stream",
     "text": [
      " 90%|█████████ | 186/206 [04:37<00:29,  1.46s/it]"
     ]
    },
    {
     "name": "stdout",
     "output_type": "stream",
     "text": [
      "[0]\tvalidation_0-logloss:0.43847\n",
      "Will train until validation_0-logloss hasn't improved in 100 rounds.\n",
      "[100]\tvalidation_0-logloss:0.00503\n",
      "Stopping. Best iteration:\n",
      "[49]\tvalidation_0-logloss:0.00497\n",
      "\n"
     ]
    },
    {
     "name": "stderr",
     "output_type": "stream",
     "text": [
      " 91%|█████████ | 187/206 [04:39<00:26,  1.41s/it]"
     ]
    },
    {
     "name": "stdout",
     "output_type": "stream",
     "text": [
      "[0]\tvalidation_0-logloss:0.44023\n",
      "Will train until validation_0-logloss hasn't improved in 100 rounds.\n",
      "[100]\tvalidation_0-logloss:0.02366\n",
      "Stopping. Best iteration:\n",
      "[21]\tvalidation_0-logloss:0.01808\n",
      "\n"
     ]
    },
    {
     "name": "stderr",
     "output_type": "stream",
     "text": [
      " 91%|█████████▏| 188/206 [04:40<00:26,  1.49s/it]"
     ]
    },
    {
     "name": "stdout",
     "output_type": "stream",
     "text": [
      "[0]\tvalidation_0-logloss:0.43828\n",
      "Will train until validation_0-logloss hasn't improved in 100 rounds.\n",
      "[100]\tvalidation_0-logloss:0.00223\n",
      "Stopping. Best iteration:\n",
      "[43]\tvalidation_0-logloss:0.00218\n",
      "\n"
     ]
    },
    {
     "name": "stderr",
     "output_type": "stream",
     "text": [
      " 92%|█████████▏| 189/206 [04:42<00:24,  1.41s/it]"
     ]
    },
    {
     "name": "stdout",
     "output_type": "stream",
     "text": [
      "[0]\tvalidation_0-logloss:0.43847\n",
      "Will train until validation_0-logloss hasn't improved in 100 rounds.\n",
      "[100]\tvalidation_0-logloss:0.00944\n",
      "Stopping. Best iteration:\n",
      "[21]\tvalidation_0-logloss:0.00803\n",
      "\n"
     ]
    },
    {
     "name": "stderr",
     "output_type": "stream",
     "text": [
      " 92%|█████████▏| 190/206 [04:43<00:21,  1.36s/it]"
     ]
    },
    {
     "name": "stdout",
     "output_type": "stream",
     "text": [
      "[0]\tvalidation_0-logloss:0.43921\n",
      "Will train until validation_0-logloss hasn't improved in 100 rounds.\n",
      "[100]\tvalidation_0-logloss:0.01555\n",
      "Stopping. Best iteration:\n",
      "[19]\tvalidation_0-logloss:0.01205\n",
      "\n"
     ]
    },
    {
     "name": "stderr",
     "output_type": "stream",
     "text": [
      " 93%|█████████▎| 191/206 [04:44<00:20,  1.36s/it]"
     ]
    },
    {
     "name": "stdout",
     "output_type": "stream",
     "text": [
      "[0]\tvalidation_0-logloss:0.43905\n",
      "Will train until validation_0-logloss hasn't improved in 100 rounds.\n",
      "[100]\tvalidation_0-logloss:0.01602\n",
      "Stopping. Best iteration:\n",
      "[20]\tvalidation_0-logloss:0.01194\n",
      "\n"
     ]
    },
    {
     "name": "stderr",
     "output_type": "stream",
     "text": [
      " 93%|█████████▎| 192/206 [04:46<00:19,  1.36s/it]"
     ]
    },
    {
     "name": "stdout",
     "output_type": "stream",
     "text": [
      "[0]\tvalidation_0-logloss:0.43786\n",
      "Will train until validation_0-logloss hasn't improved in 100 rounds.\n",
      "[100]\tvalidation_0-logloss:0.00323\n",
      "Stopping. Best iteration:\n",
      "[26]\tvalidation_0-logloss:0.00294\n",
      "\n"
     ]
    },
    {
     "name": "stderr",
     "output_type": "stream",
     "text": [
      " 94%|█████████▎| 193/206 [04:47<00:16,  1.29s/it]"
     ]
    },
    {
     "name": "stdout",
     "output_type": "stream",
     "text": [
      "[0]\tvalidation_0-logloss:0.43922\n",
      "Will train until validation_0-logloss hasn't improved in 100 rounds.\n",
      "[100]\tvalidation_0-logloss:0.01634\n",
      "Stopping. Best iteration:\n",
      "[20]\tvalidation_0-logloss:0.01163\n",
      "\n"
     ]
    },
    {
     "name": "stderr",
     "output_type": "stream",
     "text": [
      " 94%|█████████▍| 194/206 [04:48<00:16,  1.34s/it]"
     ]
    },
    {
     "name": "stdout",
     "output_type": "stream",
     "text": [
      "[0]\tvalidation_0-logloss:0.44136\n",
      "Will train until validation_0-logloss hasn't improved in 100 rounds.\n",
      "[100]\tvalidation_0-logloss:0.01819\n",
      "Stopping. Best iteration:\n",
      "[22]\tvalidation_0-logloss:0.01612\n",
      "\n"
     ]
    },
    {
     "name": "stderr",
     "output_type": "stream",
     "text": [
      " 95%|█████████▍| 195/206 [04:50<00:15,  1.42s/it]"
     ]
    },
    {
     "name": "stdout",
     "output_type": "stream",
     "text": [
      "[0]\tvalidation_0-logloss:0.43844\n",
      "Will train until validation_0-logloss hasn't improved in 100 rounds.\n",
      "[100]\tvalidation_0-logloss:0.00926\n",
      "Stopping. Best iteration:\n",
      "[23]\tvalidation_0-logloss:0.00771\n",
      "\n"
     ]
    },
    {
     "name": "stderr",
     "output_type": "stream",
     "text": [
      " 95%|█████████▌| 196/206 [04:51<00:13,  1.36s/it]"
     ]
    },
    {
     "name": "stdout",
     "output_type": "stream",
     "text": [
      "[0]\tvalidation_0-logloss:0.43784\n",
      "Will train until validation_0-logloss hasn't improved in 100 rounds.\n",
      "[100]\tvalidation_0-logloss:0.00306\n",
      "Stopping. Best iteration:\n",
      "[29]\tvalidation_0-logloss:0.00273\n",
      "\n"
     ]
    },
    {
     "name": "stderr",
     "output_type": "stream",
     "text": [
      " 96%|█████████▌| 197/206 [04:52<00:11,  1.29s/it]"
     ]
    },
    {
     "name": "stdout",
     "output_type": "stream",
     "text": [
      "[0]\tvalidation_0-logloss:0.43860\n",
      "Will train until validation_0-logloss hasn't improved in 100 rounds.\n",
      "[100]\tvalidation_0-logloss:0.00426\n",
      "Stopping. Best iteration:\n",
      "[27]\tvalidation_0-logloss:0.00401\n",
      "\n"
     ]
    },
    {
     "name": "stderr",
     "output_type": "stream",
     "text": [
      " 96%|█████████▌| 198/206 [04:53<00:10,  1.29s/it]"
     ]
    },
    {
     "name": "stdout",
     "output_type": "stream",
     "text": [
      "[0]\tvalidation_0-logloss:0.43981\n",
      "Will train until validation_0-logloss hasn't improved in 100 rounds.\n",
      "[100]\tvalidation_0-logloss:0.02237\n",
      "Stopping. Best iteration:\n",
      "[18]\tvalidation_0-logloss:0.01550\n",
      "\n"
     ]
    },
    {
     "name": "stderr",
     "output_type": "stream",
     "text": [
      " 97%|█████████▋| 199/206 [04:55<00:09,  1.34s/it]"
     ]
    },
    {
     "name": "stdout",
     "output_type": "stream",
     "text": [
      "[0]\tvalidation_0-logloss:0.44419\n",
      "Will train until validation_0-logloss hasn't improved in 100 rounds.\n",
      "[100]\tvalidation_0-logloss:0.02831\n",
      "Stopping. Best iteration:\n",
      "[26]\tvalidation_0-logloss:0.02420\n",
      "\n"
     ]
    },
    {
     "name": "stderr",
     "output_type": "stream",
     "text": [
      " 97%|█████████▋| 200/206 [04:57<00:09,  1.51s/it]"
     ]
    },
    {
     "name": "stdout",
     "output_type": "stream",
     "text": [
      "[0]\tvalidation_0-logloss:0.44086\n",
      "Will train until validation_0-logloss hasn't improved in 100 rounds.\n",
      "[100]\tvalidation_0-logloss:0.03089\n",
      "Stopping. Best iteration:\n",
      "[17]\tvalidation_0-logloss:0.02167\n",
      "\n"
     ]
    },
    {
     "name": "stderr",
     "output_type": "stream",
     "text": [
      " 98%|█████████▊| 201/206 [04:58<00:07,  1.54s/it]"
     ]
    },
    {
     "name": "stdout",
     "output_type": "stream",
     "text": [
      "[0]\tvalidation_0-logloss:0.43784\n",
      "Will train until validation_0-logloss hasn't improved in 100 rounds.\n",
      "[100]\tvalidation_0-logloss:0.00349\n",
      "Stopping. Best iteration:\n",
      "[24]\tvalidation_0-logloss:0.00306\n",
      "\n"
     ]
    },
    {
     "name": "stderr",
     "output_type": "stream",
     "text": [
      " 98%|█████████▊| 202/206 [05:00<00:05,  1.40s/it]"
     ]
    },
    {
     "name": "stdout",
     "output_type": "stream",
     "text": [
      "[0]\tvalidation_0-logloss:0.44479\n",
      "Will train until validation_0-logloss hasn't improved in 100 rounds.\n",
      "[100]\tvalidation_0-logloss:0.03453\n",
      "Stopping. Best iteration:\n",
      "[18]\tvalidation_0-logloss:0.02825\n",
      "\n"
     ]
    },
    {
     "name": "stderr",
     "output_type": "stream",
     "text": [
      " 99%|█████████▊| 203/206 [05:01<00:04,  1.52s/it]"
     ]
    },
    {
     "name": "stdout",
     "output_type": "stream",
     "text": [
      "[0]\tvalidation_0-logloss:0.43863\n",
      "Will train until validation_0-logloss hasn't improved in 100 rounds.\n",
      "[100]\tvalidation_0-logloss:0.00947\n",
      "Stopping. Best iteration:\n",
      "[27]\tvalidation_0-logloss:0.00793\n",
      "\n"
     ]
    },
    {
     "name": "stderr",
     "output_type": "stream",
     "text": [
      " 99%|█████████▉| 204/206 [05:03<00:02,  1.46s/it]"
     ]
    },
    {
     "name": "stdout",
     "output_type": "stream",
     "text": [
      "[0]\tvalidation_0-logloss:0.43942\n",
      "Will train until validation_0-logloss hasn't improved in 100 rounds.\n",
      "[100]\tvalidation_0-logloss:0.00730\n",
      "Stopping. Best iteration:\n",
      "[58]\tvalidation_0-logloss:0.00708\n",
      "\n"
     ]
    },
    {
     "name": "stderr",
     "output_type": "stream",
     "text": [
      "100%|█████████▉| 205/206 [05:04<00:01,  1.43s/it]"
     ]
    },
    {
     "name": "stdout",
     "output_type": "stream",
     "text": [
      "[0]\tvalidation_0-logloss:0.43888\n",
      "Will train until validation_0-logloss hasn't improved in 100 rounds.\n",
      "[100]\tvalidation_0-logloss:0.01272\n",
      "Stopping. Best iteration:\n",
      "[22]\tvalidation_0-logloss:0.01025\n",
      "\n"
     ]
    },
    {
     "name": "stderr",
     "output_type": "stream",
     "text": [
      "100%|██████████| 206/206 [05:05<00:00,  1.48s/it]\n"
     ]
    },
    {
     "name": "stdout",
     "output_type": "stream",
     "text": [
      "     fun: 0.01560403164397839\n",
      "     jac: array([0.00158487, 0.00158486, 0.00158311])\n",
      " message: 'Optimization terminated successfully.'\n",
      "    nfev: 94\n",
      "     nit: 18\n",
      "    njev: 18\n",
      "  status: 0\n",
      " success: True\n",
      "       x: array([9.10574765e-01, 8.90340072e-02, 3.91227273e-04])\n",
      "0.015584663040935993 0.01562899062032469 0.016339592589840718 0.022105770009338083 0.015604031710550696\n"
     ]
    },
    {
     "name": "stderr",
     "output_type": "stream",
     "text": [
      "100%|██████████| 32/32 [00:00<00:00, 539.94it/s]"
     ]
    },
    {
     "name": "stdout",
     "output_type": "stream",
     "text": [
      "auc 0.9120622522063808\n"
     ]
    },
    {
     "name": "stderr",
     "output_type": "stream",
     "text": [
      "\n",
      "100%|██████████| 30/30 [00:35<00:00,  1.17s/it, train_loss=0.0178, valid_loss=0.0159]"
     ]
    },
    {
     "name": "stdout",
     "output_type": "stream",
     "text": [
      "Device used : cuda\n"
     ]
    },
    {
     "name": "stderr",
     "output_type": "stream",
     "text": [
      "\n"
     ]
    },
    {
     "name": "stdout",
     "output_type": "stream",
     "text": [
      "epoch 0  | loss: 0.13425 | val_logits_ll: 0.02277 |  0:00:02s\n",
      "epoch 10 | loss: 0.02132 | val_logits_ll: 0.01842 |  0:00:25s\n",
      "epoch 20 | loss: 0.02066 | val_logits_ll: 0.01732 |  0:00:51s\n",
      "epoch 30 | loss: 0.02048 | val_logits_ll: 0.0175  |  0:01:15s\n",
      "epoch 40 | loss: 0.02032 | val_logits_ll: 0.01732 |  0:01:40s\n",
      "epoch 50 | loss: 0.01898 | val_logits_ll: 0.01669 |  0:02:04s\n",
      "epoch 60 | loss: 0.01813 | val_logits_ll: 0.01668 |  0:02:28s\n",
      "epoch 70 | loss: 0.01746 | val_logits_ll: 0.01686 |  0:02:53s\n",
      "\n",
      "Early stopping occured at epoch 73 with best_epoch = 53 and best_val_logits_ll = 0.01658\n",
      "Best weights from best epoch are automatically used!\n"
     ]
    },
    {
     "name": "stderr",
     "output_type": "stream",
     "text": [
      "  0%|          | 0/206 [00:00<?, ?it/s]"
     ]
    },
    {
     "name": "stdout",
     "output_type": "stream",
     "text": [
      "[0]\tvalidation_0-logloss:0.43842\n",
      "Will train until validation_0-logloss hasn't improved in 100 rounds.\n",
      "[100]\tvalidation_0-logloss:0.00788\n",
      "Stopping. Best iteration:\n",
      "[23]\tvalidation_0-logloss:0.00707\n",
      "\n"
     ]
    },
    {
     "name": "stderr",
     "output_type": "stream",
     "text": [
      "  0%|          | 1/206 [00:01<04:25,  1.30s/it]"
     ]
    },
    {
     "name": "stdout",
     "output_type": "stream",
     "text": [
      "[0]\tvalidation_0-logloss:0.43828\n",
      "Will train until validation_0-logloss hasn't improved in 100 rounds.\n",
      "[100]\tvalidation_0-logloss:0.00652\n",
      "Stopping. Best iteration:\n",
      "[23]\tvalidation_0-logloss:0.00529\n",
      "\n"
     ]
    },
    {
     "name": "stderr",
     "output_type": "stream",
     "text": [
      "  1%|          | 2/206 [00:02<04:19,  1.27s/it]"
     ]
    },
    {
     "name": "stdout",
     "output_type": "stream",
     "text": [
      "[0]\tvalidation_0-logloss:0.43858\n",
      "Will train until validation_0-logloss hasn't improved in 100 rounds.\n",
      "[100]\tvalidation_0-logloss:0.00951\n",
      "Stopping. Best iteration:\n",
      "[21]\tvalidation_0-logloss:0.00761\n",
      "\n"
     ]
    },
    {
     "name": "stderr",
     "output_type": "stream",
     "text": [
      "  1%|▏         | 3/206 [00:03<04:20,  1.28s/it]"
     ]
    },
    {
     "name": "stdout",
     "output_type": "stream",
     "text": [
      "[0]\tvalidation_0-logloss:0.44631\n",
      "Will train until validation_0-logloss hasn't improved in 100 rounds.\n",
      "[100]\tvalidation_0-logloss:0.07070\n",
      "Stopping. Best iteration:\n",
      "[21]\tvalidation_0-logloss:0.04839\n",
      "\n"
     ]
    },
    {
     "name": "stderr",
     "output_type": "stream",
     "text": [
      "  2%|▏         | 4/206 [00:05<04:59,  1.48s/it]"
     ]
    },
    {
     "name": "stdout",
     "output_type": "stream",
     "text": [
      "[0]\tvalidation_0-logloss:0.45133\n",
      "Will train until validation_0-logloss hasn't improved in 100 rounds.\n",
      "[100]\tvalidation_0-logloss:0.11681\n",
      "Stopping. Best iteration:\n",
      "[15]\tvalidation_0-logloss:0.07076\n",
      "\n"
     ]
    },
    {
     "name": "stderr",
     "output_type": "stream",
     "text": [
      "  2%|▏         | 5/206 [00:07<05:39,  1.69s/it]"
     ]
    },
    {
     "name": "stdout",
     "output_type": "stream",
     "text": [
      "[0]\tvalidation_0-logloss:0.44086\n",
      "Will train until validation_0-logloss hasn't improved in 100 rounds.\n",
      "[100]\tvalidation_0-logloss:0.03168\n",
      "Stopping. Best iteration:\n",
      "[18]\tvalidation_0-logloss:0.02194\n",
      "\n"
     ]
    },
    {
     "name": "stderr",
     "output_type": "stream",
     "text": [
      "  3%|▎         | 6/206 [00:09<05:29,  1.65s/it]"
     ]
    },
    {
     "name": "stdout",
     "output_type": "stream",
     "text": [
      "[0]\tvalidation_0-logloss:0.44010\n",
      "Will train until validation_0-logloss hasn't improved in 100 rounds.\n",
      "[100]\tvalidation_0-logloss:0.02563\n",
      "Stopping. Best iteration:\n",
      "[20]\tvalidation_0-logloss:0.01798\n",
      "\n"
     ]
    },
    {
     "name": "stderr",
     "output_type": "stream",
     "text": [
      "  3%|▎         | 7/206 [00:10<05:17,  1.60s/it]"
     ]
    },
    {
     "name": "stdout",
     "output_type": "stream",
     "text": [
      "[0]\tvalidation_0-logloss:0.44205\n",
      "Will train until validation_0-logloss hasn't improved in 100 rounds.\n",
      "[100]\tvalidation_0-logloss:0.04207\n",
      "Stopping. Best iteration:\n",
      "[19]\tvalidation_0-logloss:0.02956\n",
      "\n"
     ]
    },
    {
     "name": "stderr",
     "output_type": "stream",
     "text": [
      "  4%|▍         | 8/206 [00:12<05:31,  1.67s/it]"
     ]
    },
    {
     "name": "stdout",
     "output_type": "stream",
     "text": [
      "[0]\tvalidation_0-logloss:0.43797\n",
      "Will train until validation_0-logloss hasn't improved in 100 rounds.\n",
      "[100]\tvalidation_0-logloss:0.00186\n",
      "Stopping. Best iteration:\n",
      "[34]\tvalidation_0-logloss:0.00170\n",
      "\n"
     ]
    },
    {
     "name": "stderr",
     "output_type": "stream",
     "text": [
      "  4%|▍         | 9/206 [00:13<04:58,  1.51s/it]"
     ]
    },
    {
     "name": "stdout",
     "output_type": "stream",
     "text": [
      "[0]\tvalidation_0-logloss:0.45004\n",
      "Will train until validation_0-logloss hasn't improved in 100 rounds.\n",
      "[100]\tvalidation_0-logloss:0.10099\n",
      "Stopping. Best iteration:\n",
      "[16]\tvalidation_0-logloss:0.06563\n",
      "\n"
     ]
    },
    {
     "name": "stderr",
     "output_type": "stream",
     "text": [
      "  5%|▍         | 10/206 [00:16<05:32,  1.70s/it]"
     ]
    },
    {
     "name": "stdout",
     "output_type": "stream",
     "text": [
      "[0]\tvalidation_0-logloss:0.45415\n",
      "Will train until validation_0-logloss hasn't improved in 100 rounds.\n",
      "[100]\tvalidation_0-logloss:0.13300\n",
      "Stopping. Best iteration:\n",
      "[14]\tvalidation_0-logloss:0.08447\n",
      "\n"
     ]
    },
    {
     "name": "stderr",
     "output_type": "stream",
     "text": [
      "  5%|▌         | 11/206 [00:18<06:03,  1.86s/it]"
     ]
    },
    {
     "name": "stdout",
     "output_type": "stream",
     "text": [
      "[0]\tvalidation_0-logloss:0.44068\n",
      "Will train until validation_0-logloss hasn't improved in 100 rounds.\n",
      "[100]\tvalidation_0-logloss:0.02043\n",
      "Stopping. Best iteration:\n",
      "[19]\tvalidation_0-logloss:0.01652\n",
      "\n"
     ]
    },
    {
     "name": "stderr",
     "output_type": "stream",
     "text": [
      "  6%|▌         | 12/206 [00:19<05:39,  1.75s/it]"
     ]
    },
    {
     "name": "stdout",
     "output_type": "stream",
     "text": [
      "[0]\tvalidation_0-logloss:0.43786\n",
      "Will train until validation_0-logloss hasn't improved in 100 rounds.\n",
      "[100]\tvalidation_0-logloss:0.00125\n",
      "Stopping. Best iteration:\n",
      "[34]\tvalidation_0-logloss:0.00114\n",
      "\n"
     ]
    },
    {
     "name": "stderr",
     "output_type": "stream",
     "text": [
      "  6%|▋         | 13/206 [00:20<04:59,  1.55s/it]"
     ]
    },
    {
     "name": "stdout",
     "output_type": "stream",
     "text": [
      "[0]\tvalidation_0-logloss:0.43949\n",
      "Will train until validation_0-logloss hasn't improved in 100 rounds.\n",
      "[100]\tvalidation_0-logloss:0.01190\n",
      "Stopping. Best iteration:\n",
      "[21]\tvalidation_0-logloss:0.01021\n",
      "\n"
     ]
    },
    {
     "name": "stderr",
     "output_type": "stream",
     "text": [
      "  7%|▋         | 14/206 [00:22<04:54,  1.54s/it]"
     ]
    },
    {
     "name": "stdout",
     "output_type": "stream",
     "text": [
      "[0]\tvalidation_0-logloss:0.43797\n",
      "Will train until validation_0-logloss hasn't improved in 100 rounds.\n",
      "[100]\tvalidation_0-logloss:0.00347\n",
      "Stopping. Best iteration:\n",
      "[27]\tvalidation_0-logloss:0.00287\n",
      "\n"
     ]
    },
    {
     "name": "stderr",
     "output_type": "stream",
     "text": [
      "  7%|▋         | 15/206 [00:23<04:35,  1.44s/it]"
     ]
    },
    {
     "name": "stdout",
     "output_type": "stream",
     "text": [
      "[0]\tvalidation_0-logloss:0.43814\n",
      "Will train until validation_0-logloss hasn't improved in 100 rounds.\n",
      "[100]\tvalidation_0-logloss:0.00677\n",
      "Stopping. Best iteration:\n",
      "[23]\tvalidation_0-logloss:0.00525\n",
      "\n"
     ]
    },
    {
     "name": "stderr",
     "output_type": "stream",
     "text": [
      "  8%|▊         | 16/206 [00:24<04:26,  1.40s/it]"
     ]
    },
    {
     "name": "stdout",
     "output_type": "stream",
     "text": [
      "[0]\tvalidation_0-logloss:0.43979\n",
      "Will train until validation_0-logloss hasn't improved in 100 rounds.\n",
      "[100]\tvalidation_0-logloss:0.02260\n",
      "Stopping. Best iteration:\n",
      "[20]\tvalidation_0-logloss:0.01568\n",
      "\n"
     ]
    },
    {
     "name": "stderr",
     "output_type": "stream",
     "text": [
      "  8%|▊         | 17/206 [00:26<04:30,  1.43s/it]"
     ]
    },
    {
     "name": "stdout",
     "output_type": "stream",
     "text": [
      "[0]\tvalidation_0-logloss:0.44155\n",
      "Will train until validation_0-logloss hasn't improved in 100 rounds.\n",
      "[100]\tvalidation_0-logloss:0.03670\n",
      "Stopping. Best iteration:\n",
      "[19]\tvalidation_0-logloss:0.02528\n",
      "\n"
     ]
    },
    {
     "name": "stderr",
     "output_type": "stream",
     "text": [
      "  9%|▊         | 18/206 [00:28<04:40,  1.49s/it]"
     ]
    },
    {
     "name": "stdout",
     "output_type": "stream",
     "text": [
      "[0]\tvalidation_0-logloss:0.44118\n",
      "Will train until validation_0-logloss hasn't improved in 100 rounds.\n",
      "[100]\tvalidation_0-logloss:0.03241\n",
      "Stopping. Best iteration:\n",
      "[20]\tvalidation_0-logloss:0.02347\n",
      "\n"
     ]
    },
    {
     "name": "stderr",
     "output_type": "stream",
     "text": [
      "  9%|▉         | 19/206 [00:29<04:45,  1.53s/it]"
     ]
    },
    {
     "name": "stdout",
     "output_type": "stream",
     "text": [
      "[0]\tvalidation_0-logloss:0.43919\n",
      "Will train until validation_0-logloss hasn't improved in 100 rounds.\n",
      "[100]\tvalidation_0-logloss:0.01516\n",
      "Stopping. Best iteration:\n",
      "[20]\tvalidation_0-logloss:0.01178\n",
      "\n"
     ]
    },
    {
     "name": "stderr",
     "output_type": "stream",
     "text": [
      " 10%|▉         | 20/206 [00:31<04:33,  1.47s/it]"
     ]
    },
    {
     "name": "stdout",
     "output_type": "stream",
     "text": [
      "[0]\tvalidation_0-logloss:0.43921\n",
      "Will train until validation_0-logloss hasn't improved in 100 rounds.\n",
      "[100]\tvalidation_0-logloss:0.01560\n",
      "Stopping. Best iteration:\n",
      "[20]\tvalidation_0-logloss:0.01179\n",
      "\n"
     ]
    },
    {
     "name": "stderr",
     "output_type": "stream",
     "text": [
      " 10%|█         | 21/206 [00:32<04:28,  1.45s/it]"
     ]
    },
    {
     "name": "stdout",
     "output_type": "stream",
     "text": [
      "[0]\tvalidation_0-logloss:0.44103\n",
      "Will train until validation_0-logloss hasn't improved in 100 rounds.\n",
      "[100]\tvalidation_0-logloss:0.02998\n",
      "Stopping. Best iteration:\n",
      "[17]\tvalidation_0-logloss:0.02200\n",
      "\n"
     ]
    },
    {
     "name": "stderr",
     "output_type": "stream",
     "text": [
      " 11%|█         | 22/206 [00:34<04:37,  1.51s/it]"
     ]
    },
    {
     "name": "stdout",
     "output_type": "stream",
     "text": [
      "[0]\tvalidation_0-logloss:0.43784\n",
      "Will train until validation_0-logloss hasn't improved in 100 rounds.\n",
      "[100]\tvalidation_0-logloss:0.00348\n",
      "Stopping. Best iteration:\n",
      "[29]\tvalidation_0-logloss:0.00298\n",
      "\n"
     ]
    },
    {
     "name": "stderr",
     "output_type": "stream",
     "text": [
      " 11%|█         | 23/206 [00:35<04:14,  1.39s/it]"
     ]
    },
    {
     "name": "stdout",
     "output_type": "stream",
     "text": [
      "[0]\tvalidation_0-logloss:0.43968\n",
      "Will train until validation_0-logloss hasn't improved in 100 rounds.\n",
      "[100]\tvalidation_0-logloss:0.02299\n",
      "Stopping. Best iteration:\n",
      "[18]\tvalidation_0-logloss:0.01609\n",
      "\n"
     ]
    },
    {
     "name": "stderr",
     "output_type": "stream",
     "text": [
      " 12%|█▏        | 24/206 [00:36<04:12,  1.39s/it]"
     ]
    },
    {
     "name": "stdout",
     "output_type": "stream",
     "text": [
      "[0]\tvalidation_0-logloss:0.43814\n",
      "Will train until validation_0-logloss hasn't improved in 100 rounds.\n",
      "[100]\tvalidation_0-logloss:0.00712\n",
      "Stopping. Best iteration:\n",
      "[22]\tvalidation_0-logloss:0.00565\n",
      "\n"
     ]
    },
    {
     "name": "stderr",
     "output_type": "stream",
     "text": [
      " 12%|█▏        | 25/206 [00:38<04:14,  1.41s/it]"
     ]
    },
    {
     "name": "stdout",
     "output_type": "stream",
     "text": [
      "[0]\tvalidation_0-logloss:0.43816\n",
      "Will train until validation_0-logloss hasn't improved in 100 rounds.\n",
      "[100]\tvalidation_0-logloss:0.00588\n",
      "Stopping. Best iteration:\n",
      "[24]\tvalidation_0-logloss:0.00538\n",
      "\n"
     ]
    },
    {
     "name": "stderr",
     "output_type": "stream",
     "text": [
      " 13%|█▎        | 26/206 [00:39<04:01,  1.34s/it]"
     ]
    },
    {
     "name": "stdout",
     "output_type": "stream",
     "text": [
      "[0]\tvalidation_0-logloss:0.43797\n",
      "Will train until validation_0-logloss hasn't improved in 100 rounds.\n",
      "[100]\tvalidation_0-logloss:0.00302\n",
      "Stopping. Best iteration:\n",
      "[31]\tvalidation_0-logloss:0.00283\n",
      "\n"
     ]
    },
    {
     "name": "stderr",
     "output_type": "stream",
     "text": [
      " 13%|█▎        | 27/206 [00:40<03:55,  1.32s/it]"
     ]
    },
    {
     "name": "stdout",
     "output_type": "stream",
     "text": [
      "[0]\tvalidation_0-logloss:0.43844\n",
      "Will train until validation_0-logloss hasn't improved in 100 rounds.\n",
      "[100]\tvalidation_0-logloss:0.01009\n",
      "Stopping. Best iteration:\n",
      "[21]\tvalidation_0-logloss:0.00747\n",
      "\n"
     ]
    },
    {
     "name": "stderr",
     "output_type": "stream",
     "text": [
      " 14%|█▎        | 28/206 [00:41<03:49,  1.29s/it]"
     ]
    },
    {
     "name": "stdout",
     "output_type": "stream",
     "text": [
      "[0]\tvalidation_0-logloss:0.44086\n",
      "Will train until validation_0-logloss hasn't improved in 100 rounds.\n",
      "[100]\tvalidation_0-logloss:0.03249\n",
      "Stopping. Best iteration:\n",
      "[19]\tvalidation_0-logloss:0.02193\n",
      "\n"
     ]
    },
    {
     "name": "stderr",
     "output_type": "stream",
     "text": [
      " 14%|█▍        | 29/206 [00:43<04:03,  1.37s/it]"
     ]
    },
    {
     "name": "stdout",
     "output_type": "stream",
     "text": [
      "[0]\tvalidation_0-logloss:0.43919\n",
      "Will train until validation_0-logloss hasn't improved in 100 rounds.\n",
      "[100]\tvalidation_0-logloss:0.01505\n",
      "Stopping. Best iteration:\n",
      "[23]\tvalidation_0-logloss:0.01182\n",
      "\n"
     ]
    },
    {
     "name": "stderr",
     "output_type": "stream",
     "text": [
      " 15%|█▍        | 30/206 [00:44<04:13,  1.44s/it]"
     ]
    },
    {
     "name": "stdout",
     "output_type": "stream",
     "text": [
      "[0]\tvalidation_0-logloss:0.43856\n",
      "Will train until validation_0-logloss hasn't improved in 100 rounds.\n",
      "[100]\tvalidation_0-logloss:0.00996\n",
      "Stopping. Best iteration:\n",
      "[22]\tvalidation_0-logloss:0.00763\n",
      "\n"
     ]
    },
    {
     "name": "stderr",
     "output_type": "stream",
     "text": [
      " 15%|█▌        | 31/206 [00:46<04:07,  1.42s/it]"
     ]
    },
    {
     "name": "stdout",
     "output_type": "stream",
     "text": [
      "[0]\tvalidation_0-logloss:0.43982\n",
      "Will train until validation_0-logloss hasn't improved in 100 rounds.\n",
      "[100]\tvalidation_0-logloss:0.01713\n",
      "Stopping. Best iteration:\n",
      "[19]\tvalidation_0-logloss:0.01383\n",
      "\n"
     ]
    },
    {
     "name": "stderr",
     "output_type": "stream",
     "text": [
      " 16%|█▌        | 32/206 [00:47<04:06,  1.42s/it]"
     ]
    },
    {
     "name": "stdout",
     "output_type": "stream",
     "text": [
      "[0]\tvalidation_0-logloss:0.43977\n",
      "Will train until validation_0-logloss hasn't improved in 100 rounds.\n",
      "[100]\tvalidation_0-logloss:0.02165\n",
      "Stopping. Best iteration:\n",
      "[21]\tvalidation_0-logloss:0.01574\n",
      "\n"
     ]
    },
    {
     "name": "stderr",
     "output_type": "stream",
     "text": [
      " 16%|█▌        | 33/206 [00:49<04:08,  1.43s/it]"
     ]
    },
    {
     "name": "stdout",
     "output_type": "stream",
     "text": [
      "[0]\tvalidation_0-logloss:0.43784\n",
      "Will train until validation_0-logloss hasn't improved in 100 rounds.\n",
      "[100]\tvalidation_0-logloss:0.00255\n",
      "Stopping. Best iteration:\n",
      "[30]\tvalidation_0-logloss:0.00232\n",
      "\n"
     ]
    },
    {
     "name": "stderr",
     "output_type": "stream",
     "text": [
      " 17%|█▋        | 34/206 [00:50<03:49,  1.33s/it]"
     ]
    },
    {
     "name": "stdout",
     "output_type": "stream",
     "text": [
      "[0]\tvalidation_0-logloss:0.43756\n",
      "Will train until validation_0-logloss hasn't improved in 100 rounds.\n",
      "[100]\tvalidation_0-logloss:0.00005\n",
      "Stopping. Best iteration:\n",
      "[57]\tvalidation_0-logloss:0.00005\n",
      "\n"
     ]
    },
    {
     "name": "stderr",
     "output_type": "stream",
     "text": [
      " 17%|█▋        | 35/206 [00:51<03:36,  1.26s/it]"
     ]
    },
    {
     "name": "stdout",
     "output_type": "stream",
     "text": [
      "[0]\tvalidation_0-logloss:0.43814\n",
      "Will train until validation_0-logloss hasn't improved in 100 rounds.\n",
      "[100]\tvalidation_0-logloss:0.00129\n",
      "Stopping. Best iteration:\n",
      "[35]\tvalidation_0-logloss:0.00120\n",
      "\n"
     ]
    },
    {
     "name": "stderr",
     "output_type": "stream",
     "text": [
      " 17%|█▋        | 36/206 [00:52<03:26,  1.21s/it]"
     ]
    },
    {
     "name": "stdout",
     "output_type": "stream",
     "text": [
      "[0]\tvalidation_0-logloss:0.44129\n",
      "Will train until validation_0-logloss hasn't improved in 100 rounds.\n",
      "[100]\tvalidation_0-logloss:0.03441\n",
      "Stopping. Best iteration:\n",
      "[18]\tvalidation_0-logloss:0.02344\n",
      "\n"
     ]
    },
    {
     "name": "stderr",
     "output_type": "stream",
     "text": [
      " 18%|█▊        | 37/206 [00:54<03:45,  1.33s/it]"
     ]
    },
    {
     "name": "stdout",
     "output_type": "stream",
     "text": [
      "[0]\tvalidation_0-logloss:0.43830\n",
      "Will train until validation_0-logloss hasn't improved in 100 rounds.\n",
      "[100]\tvalidation_0-logloss:0.00503\n",
      "Stopping. Best iteration:\n",
      "[23]\tvalidation_0-logloss:0.00458\n",
      "\n"
     ]
    },
    {
     "name": "stderr",
     "output_type": "stream",
     "text": [
      " 18%|█▊        | 38/206 [00:55<03:40,  1.31s/it]"
     ]
    },
    {
     "name": "stdout",
     "output_type": "stream",
     "text": [
      "[0]\tvalidation_0-logloss:0.44235\n",
      "Will train until validation_0-logloss hasn't improved in 100 rounds.\n",
      "[100]\tvalidation_0-logloss:0.01674\n",
      "Stopping. Best iteration:\n",
      "[24]\tvalidation_0-logloss:0.01598\n",
      "\n"
     ]
    },
    {
     "name": "stderr",
     "output_type": "stream",
     "text": [
      " 19%|█▉        | 39/206 [00:56<03:56,  1.42s/it]"
     ]
    },
    {
     "name": "stdout",
     "output_type": "stream",
     "text": [
      "[0]\tvalidation_0-logloss:0.43784\n",
      "Will train until validation_0-logloss hasn't improved in 100 rounds.\n",
      "[100]\tvalidation_0-logloss:0.00319\n",
      "Stopping. Best iteration:\n",
      "[28]\tvalidation_0-logloss:0.00287\n",
      "\n"
     ]
    },
    {
     "name": "stderr",
     "output_type": "stream",
     "text": [
      " 19%|█▉        | 40/206 [00:58<03:44,  1.36s/it]"
     ]
    },
    {
     "name": "stdout",
     "output_type": "stream",
     "text": [
      "[0]\tvalidation_0-logloss:0.44040\n",
      "Will train until validation_0-logloss hasn't improved in 100 rounds.\n",
      "[100]\tvalidation_0-logloss:0.02856\n",
      "Stopping. Best iteration:\n",
      "[17]\tvalidation_0-logloss:0.02035\n",
      "\n"
     ]
    },
    {
     "name": "stderr",
     "output_type": "stream",
     "text": [
      " 20%|█▉        | 41/206 [00:59<03:50,  1.40s/it]"
     ]
    },
    {
     "name": "stdout",
     "output_type": "stream",
     "text": [
      "[0]\tvalidation_0-logloss:0.44118\n",
      "Will train until validation_0-logloss hasn't improved in 100 rounds.\n",
      "[100]\tvalidation_0-logloss:0.03291\n",
      "Stopping. Best iteration:\n",
      "[19]\tvalidation_0-logloss:0.02390\n",
      "\n"
     ]
    },
    {
     "name": "stderr",
     "output_type": "stream",
     "text": [
      " 20%|██        | 42/206 [01:01<03:58,  1.46s/it]"
     ]
    },
    {
     "name": "stdout",
     "output_type": "stream",
     "text": [
      "[0]\tvalidation_0-logloss:0.43919\n",
      "Will train until validation_0-logloss hasn't improved in 100 rounds.\n",
      "[100]\tvalidation_0-logloss:0.01508\n",
      "Stopping. Best iteration:\n",
      "[20]\tvalidation_0-logloss:0.01200\n",
      "\n"
     ]
    },
    {
     "name": "stderr",
     "output_type": "stream",
     "text": [
      " 21%|██        | 43/206 [01:02<03:53,  1.43s/it]"
     ]
    },
    {
     "name": "stdout",
     "output_type": "stream",
     "text": [
      "[0]\tvalidation_0-logloss:0.44652\n",
      "Will train until validation_0-logloss hasn't improved in 100 rounds.\n",
      "[100]\tvalidation_0-logloss:0.07657\n",
      "Stopping. Best iteration:\n",
      "[17]\tvalidation_0-logloss:0.05112\n",
      "\n"
     ]
    },
    {
     "name": "stderr",
     "output_type": "stream",
     "text": [
      " 21%|██▏       | 44/206 [01:04<04:17,  1.59s/it]"
     ]
    },
    {
     "name": "stdout",
     "output_type": "stream",
     "text": [
      "[0]\tvalidation_0-logloss:0.44172\n",
      "Will train until validation_0-logloss hasn't improved in 100 rounds.\n",
      "[100]\tvalidation_0-logloss:0.03540\n",
      "Stopping. Best iteration:\n",
      "[18]\tvalidation_0-logloss:0.02547\n",
      "\n"
     ]
    },
    {
     "name": "stderr",
     "output_type": "stream",
     "text": [
      " 22%|██▏       | 45/206 [01:06<04:19,  1.61s/it]"
     ]
    },
    {
     "name": "stdout",
     "output_type": "stream",
     "text": [
      "[0]\tvalidation_0-logloss:0.44280\n",
      "Will train until validation_0-logloss hasn't improved in 100 rounds.\n",
      "[100]\tvalidation_0-logloss:0.04634\n",
      "Stopping. Best iteration:\n",
      "[15]\tvalidation_0-logloss:0.03272\n",
      "\n"
     ]
    },
    {
     "name": "stderr",
     "output_type": "stream",
     "text": [
      " 22%|██▏       | 46/206 [01:07<04:24,  1.65s/it]"
     ]
    },
    {
     "name": "stdout",
     "output_type": "stream",
     "text": [
      "[0]\tvalidation_0-logloss:0.43786\n",
      "Will train until validation_0-logloss hasn't improved in 100 rounds.\n",
      "[100]\tvalidation_0-logloss:0.00185\n",
      "Stopping. Best iteration:\n",
      "[24]\tvalidation_0-logloss:0.00176\n",
      "\n"
     ]
    },
    {
     "name": "stderr",
     "output_type": "stream",
     "text": [
      " 23%|██▎       | 47/206 [01:09<03:54,  1.47s/it]"
     ]
    },
    {
     "name": "stdout",
     "output_type": "stream",
     "text": [
      "[0]\tvalidation_0-logloss:0.43891\n",
      "Will train until validation_0-logloss hasn't improved in 100 rounds.\n",
      "[100]\tvalidation_0-logloss:0.00861\n",
      "Stopping. Best iteration:\n",
      "[21]\tvalidation_0-logloss:0.00773\n",
      "\n"
     ]
    },
    {
     "name": "stderr",
     "output_type": "stream",
     "text": [
      " 23%|██▎       | 48/206 [01:10<03:45,  1.43s/it]"
     ]
    },
    {
     "name": "stdout",
     "output_type": "stream",
     "text": [
      "[0]\tvalidation_0-logloss:0.43940\n",
      "Will train until validation_0-logloss hasn't improved in 100 rounds.\n",
      "[100]\tvalidation_0-logloss:0.01530\n",
      "Stopping. Best iteration:\n",
      "[19]\tvalidation_0-logloss:0.01098\n",
      "\n"
     ]
    },
    {
     "name": "stderr",
     "output_type": "stream",
     "text": [
      " 24%|██▍       | 49/206 [01:11<03:39,  1.40s/it]"
     ]
    },
    {
     "name": "stdout",
     "output_type": "stream",
     "text": [
      "[0]\tvalidation_0-logloss:0.44072\n",
      "Will train until validation_0-logloss hasn't improved in 100 rounds.\n",
      "[100]\tvalidation_0-logloss:0.03001\n",
      "Stopping. Best iteration:\n",
      "[18]\tvalidation_0-logloss:0.02182\n",
      "\n"
     ]
    },
    {
     "name": "stderr",
     "output_type": "stream",
     "text": [
      " 24%|██▍       | 50/206 [01:13<03:44,  1.44s/it]"
     ]
    },
    {
     "name": "stdout",
     "output_type": "stream",
     "text": [
      "[0]\tvalidation_0-logloss:0.43875\n",
      "Will train until validation_0-logloss hasn't improved in 100 rounds.\n",
      "[100]\tvalidation_0-logloss:0.01337\n",
      "Stopping. Best iteration:\n",
      "[20]\tvalidation_0-logloss:0.00962\n",
      "\n"
     ]
    },
    {
     "name": "stderr",
     "output_type": "stream",
     "text": [
      " 25%|██▍       | 51/206 [01:14<03:35,  1.39s/it]"
     ]
    },
    {
     "name": "stdout",
     "output_type": "stream",
     "text": [
      "[0]\tvalidation_0-logloss:0.44028\n",
      "Will train until validation_0-logloss hasn't improved in 100 rounds.\n",
      "[100]\tvalidation_0-logloss:0.02231\n",
      "Stopping. Best iteration:\n",
      "[20]\tvalidation_0-logloss:0.01691\n",
      "\n"
     ]
    },
    {
     "name": "stderr",
     "output_type": "stream",
     "text": [
      " 25%|██▌       | 52/206 [01:15<03:37,  1.41s/it]"
     ]
    },
    {
     "name": "stdout",
     "output_type": "stream",
     "text": [
      "[0]\tvalidation_0-logloss:0.43886\n",
      "Will train until validation_0-logloss hasn't improved in 100 rounds.\n",
      "[100]\tvalidation_0-logloss:0.01078\n",
      "Stopping. Best iteration:\n",
      "[19]\tvalidation_0-logloss:0.00990\n",
      "\n"
     ]
    },
    {
     "name": "stderr",
     "output_type": "stream",
     "text": [
      " 26%|██▌       | 53/206 [01:17<03:35,  1.41s/it]"
     ]
    },
    {
     "name": "stdout",
     "output_type": "stream",
     "text": [
      "[0]\tvalidation_0-logloss:0.43784\n",
      "Will train until validation_0-logloss hasn't improved in 100 rounds.\n",
      "[100]\tvalidation_0-logloss:0.00278\n",
      "Stopping. Best iteration:\n",
      "[28]\tvalidation_0-logloss:0.00259\n",
      "\n"
     ]
    },
    {
     "name": "stderr",
     "output_type": "stream",
     "text": [
      " 26%|██▌       | 54/206 [01:18<03:38,  1.43s/it]"
     ]
    },
    {
     "name": "stdout",
     "output_type": "stream",
     "text": [
      "[0]\tvalidation_0-logloss:0.45044\n",
      "Will train until validation_0-logloss hasn't improved in 100 rounds.\n",
      "[100]\tvalidation_0-logloss:0.10204\n",
      "Stopping. Best iteration:\n",
      "[14]\tvalidation_0-logloss:0.06846\n",
      "\n"
     ]
    },
    {
     "name": "stderr",
     "output_type": "stream",
     "text": [
      " 27%|██▋       | 55/206 [01:20<04:07,  1.64s/it]"
     ]
    },
    {
     "name": "stdout",
     "output_type": "stream",
     "text": [
      "[0]\tvalidation_0-logloss:0.43949\n",
      "Will train until validation_0-logloss hasn't improved in 100 rounds.\n",
      "[100]\tvalidation_0-logloss:0.01755\n",
      "Stopping. Best iteration:\n",
      "[20]\tvalidation_0-logloss:0.01339\n",
      "\n"
     ]
    },
    {
     "name": "stderr",
     "output_type": "stream",
     "text": [
      " 27%|██▋       | 56/206 [01:22<03:54,  1.56s/it]"
     ]
    },
    {
     "name": "stdout",
     "output_type": "stream",
     "text": [
      "[0]\tvalidation_0-logloss:0.44012\n",
      "Will train until validation_0-logloss hasn't improved in 100 rounds.\n",
      "[100]\tvalidation_0-logloss:0.02682\n",
      "Stopping. Best iteration:\n",
      "[19]\tvalidation_0-logloss:0.01835\n",
      "\n"
     ]
    },
    {
     "name": "stderr",
     "output_type": "stream",
     "text": [
      " 28%|██▊       | 57/206 [01:23<03:48,  1.53s/it]"
     ]
    },
    {
     "name": "stdout",
     "output_type": "stream",
     "text": [
      "[0]\tvalidation_0-logloss:0.43919\n",
      "Will train until validation_0-logloss hasn't improved in 100 rounds.\n",
      "[100]\tvalidation_0-logloss:0.01633\n",
      "Stopping. Best iteration:\n",
      "[21]\tvalidation_0-logloss:0.01219\n",
      "\n"
     ]
    },
    {
     "name": "stderr",
     "output_type": "stream",
     "text": [
      " 28%|██▊       | 58/206 [01:25<03:38,  1.48s/it]"
     ]
    },
    {
     "name": "stdout",
     "output_type": "stream",
     "text": [
      "[0]\tvalidation_0-logloss:0.43936\n",
      "Will train until validation_0-logloss hasn't improved in 100 rounds.\n",
      "[100]\tvalidation_0-logloss:0.01939\n",
      "Stopping. Best iteration:\n",
      "[18]\tvalidation_0-logloss:0.01357\n",
      "\n"
     ]
    },
    {
     "name": "stderr",
     "output_type": "stream",
     "text": [
      " 29%|██▊       | 59/206 [01:26<03:31,  1.44s/it]"
     ]
    },
    {
     "name": "stdout",
     "output_type": "stream",
     "text": [
      "[0]\tvalidation_0-logloss:0.43828\n",
      "Will train until validation_0-logloss hasn't improved in 100 rounds.\n",
      "[100]\tvalidation_0-logloss:0.00673\n",
      "Stopping. Best iteration:\n",
      "[22]\tvalidation_0-logloss:0.00524\n",
      "\n"
     ]
    },
    {
     "name": "stderr",
     "output_type": "stream",
     "text": [
      " 29%|██▉       | 60/206 [01:27<03:20,  1.37s/it]"
     ]
    },
    {
     "name": "stdout",
     "output_type": "stream",
     "text": [
      "[0]\tvalidation_0-logloss:0.43814\n",
      "Will train until validation_0-logloss hasn't improved in 100 rounds.\n",
      "[100]\tvalidation_0-logloss:0.00693\n",
      "Stopping. Best iteration:\n",
      "[24]\tvalidation_0-logloss:0.00559\n",
      "\n"
     ]
    },
    {
     "name": "stderr",
     "output_type": "stream",
     "text": [
      " 30%|██▉       | 61/206 [01:29<03:19,  1.37s/it]"
     ]
    },
    {
     "name": "stdout",
     "output_type": "stream",
     "text": [
      "[0]\tvalidation_0-logloss:0.44235\n",
      "Will train until validation_0-logloss hasn't improved in 100 rounds.\n",
      "[100]\tvalidation_0-logloss:0.04589\n",
      "Stopping. Best iteration:\n",
      "[18]\tvalidation_0-logloss:0.02964\n",
      "\n"
     ]
    },
    {
     "name": "stderr",
     "output_type": "stream",
     "text": [
      " 30%|███       | 62/206 [01:30<03:38,  1.52s/it]"
     ]
    },
    {
     "name": "stdout",
     "output_type": "stream",
     "text": [
      "[0]\tvalidation_0-logloss:0.43844\n",
      "Will train until validation_0-logloss hasn't improved in 100 rounds.\n",
      "[100]\tvalidation_0-logloss:0.00940\n",
      "Stopping. Best iteration:\n",
      "[20]\tvalidation_0-logloss:0.00788\n",
      "\n"
     ]
    },
    {
     "name": "stderr",
     "output_type": "stream",
     "text": [
      " 31%|███       | 63/206 [01:32<03:23,  1.43s/it]"
     ]
    },
    {
     "name": "stdout",
     "output_type": "stream",
     "text": [
      "[0]\tvalidation_0-logloss:0.44342\n",
      "Will train until validation_0-logloss hasn't improved in 100 rounds.\n",
      "[100]\tvalidation_0-logloss:0.02473\n",
      "Stopping. Best iteration:\n",
      "[25]\tvalidation_0-logloss:0.02170\n",
      "\n"
     ]
    },
    {
     "name": "stderr",
     "output_type": "stream",
     "text": [
      " 31%|███       | 64/206 [01:33<03:35,  1.52s/it]"
     ]
    },
    {
     "name": "stdout",
     "output_type": "stream",
     "text": [
      "[0]\tvalidation_0-logloss:0.44010\n",
      "Will train until validation_0-logloss hasn't improved in 100 rounds.\n",
      "[100]\tvalidation_0-logloss:0.02463\n",
      "Stopping. Best iteration:\n",
      "[19]\tvalidation_0-logloss:0.01696\n",
      "\n"
     ]
    },
    {
     "name": "stderr",
     "output_type": "stream",
     "text": [
      " 32%|███▏      | 65/206 [01:35<03:31,  1.50s/it]"
     ]
    },
    {
     "name": "stdout",
     "output_type": "stream",
     "text": [
      "[0]\tvalidation_0-logloss:0.43858\n",
      "Will train until validation_0-logloss hasn't improved in 100 rounds.\n",
      "[100]\tvalidation_0-logloss:0.00367\n",
      "Stopping. Best iteration:\n",
      "[41]\tvalidation_0-logloss:0.00360\n",
      "\n"
     ]
    },
    {
     "name": "stderr",
     "output_type": "stream",
     "text": [
      " 32%|███▏      | 66/206 [01:36<03:18,  1.42s/it]"
     ]
    },
    {
     "name": "stdout",
     "output_type": "stream",
     "text": [
      "[0]\tvalidation_0-logloss:0.43953\n",
      "Will train until validation_0-logloss hasn't improved in 100 rounds.\n",
      "[100]\tvalidation_0-logloss:0.01875\n",
      "Stopping. Best iteration:\n",
      "[21]\tvalidation_0-logloss:0.01425\n",
      "\n"
     ]
    },
    {
     "name": "stderr",
     "output_type": "stream",
     "text": [
      " 33%|███▎      | 67/206 [01:38<03:25,  1.48s/it]"
     ]
    },
    {
     "name": "stdout",
     "output_type": "stream",
     "text": [
      "[0]\tvalidation_0-logloss:0.43979\n",
      "Will train until validation_0-logloss hasn't improved in 100 rounds.\n",
      "[100]\tvalidation_0-logloss:0.02360\n",
      "Stopping. Best iteration:\n",
      "[21]\tvalidation_0-logloss:0.01644\n",
      "\n"
     ]
    },
    {
     "name": "stderr",
     "output_type": "stream",
     "text": [
      " 33%|███▎      | 68/206 [01:39<03:24,  1.48s/it]"
     ]
    },
    {
     "name": "stdout",
     "output_type": "stream",
     "text": [
      "[0]\tvalidation_0-logloss:0.44010\n",
      "Will train until validation_0-logloss hasn't improved in 100 rounds.\n",
      "[100]\tvalidation_0-logloss:0.02575\n",
      "Stopping. Best iteration:\n",
      "[19]\tvalidation_0-logloss:0.01785\n",
      "\n"
     ]
    },
    {
     "name": "stderr",
     "output_type": "stream",
     "text": [
      " 33%|███▎      | 69/206 [01:41<03:28,  1.52s/it]"
     ]
    },
    {
     "name": "stdout",
     "output_type": "stream",
     "text": [
      "[0]\tvalidation_0-logloss:0.43784\n",
      "Will train until validation_0-logloss hasn't improved in 100 rounds.\n",
      "[100]\tvalidation_0-logloss:0.00351\n",
      "Stopping. Best iteration:\n",
      "[25]\tvalidation_0-logloss:0.00304\n",
      "\n"
     ]
    },
    {
     "name": "stderr",
     "output_type": "stream",
     "text": [
      " 34%|███▍      | 70/206 [01:42<03:14,  1.43s/it]"
     ]
    },
    {
     "name": "stdout",
     "output_type": "stream",
     "text": [
      "[0]\tvalidation_0-logloss:0.43920\n",
      "Will train until validation_0-logloss hasn't improved in 100 rounds.\n",
      "[100]\tvalidation_0-logloss:0.01068\n",
      "Stopping. Best iteration:\n",
      "[24]\tvalidation_0-logloss:0.00908\n",
      "\n"
     ]
    },
    {
     "name": "stderr",
     "output_type": "stream",
     "text": [
      " 34%|███▍      | 71/206 [01:43<03:11,  1.42s/it]"
     ]
    },
    {
     "name": "stdout",
     "output_type": "stream",
     "text": [
      "[0]\tvalidation_0-logloss:0.45773\n",
      "Will train until validation_0-logloss hasn't improved in 100 rounds.\n",
      "[100]\tvalidation_0-logloss:0.15548\n",
      "Stopping. Best iteration:\n",
      "[18]\tvalidation_0-logloss:0.09710\n",
      "\n"
     ]
    },
    {
     "name": "stderr",
     "output_type": "stream",
     "text": [
      " 35%|███▍      | 72/206 [01:46<03:50,  1.72s/it]"
     ]
    },
    {
     "name": "stdout",
     "output_type": "stream",
     "text": [
      "[0]\tvalidation_0-logloss:0.44235\n",
      "Will train until validation_0-logloss hasn't improved in 100 rounds.\n",
      "[100]\tvalidation_0-logloss:0.04394\n",
      "Stopping. Best iteration:\n",
      "[19]\tvalidation_0-logloss:0.02942\n",
      "\n"
     ]
    },
    {
     "name": "stderr",
     "output_type": "stream",
     "text": [
      " 35%|███▌      | 73/206 [01:48<03:48,  1.72s/it]"
     ]
    },
    {
     "name": "stdout",
     "output_type": "stream",
     "text": [
      "[0]\tvalidation_0-logloss:0.43919\n",
      "Will train until validation_0-logloss hasn't improved in 100 rounds.\n",
      "[100]\tvalidation_0-logloss:0.01017\n",
      "Stopping. Best iteration:\n",
      "[32]\tvalidation_0-logloss:0.00939\n",
      "\n"
     ]
    },
    {
     "name": "stderr",
     "output_type": "stream",
     "text": [
      " 36%|███▌      | 74/206 [01:49<03:32,  1.61s/it]"
     ]
    },
    {
     "name": "stdout",
     "output_type": "stream",
     "text": [
      "[0]\tvalidation_0-logloss:0.43877\n",
      "Will train until validation_0-logloss hasn't improved in 100 rounds.\n",
      "[100]\tvalidation_0-logloss:0.01285\n",
      "Stopping. Best iteration:\n",
      "[21]\tvalidation_0-logloss:0.00990\n",
      "\n"
     ]
    },
    {
     "name": "stderr",
     "output_type": "stream",
     "text": [
      " 36%|███▋      | 75/206 [01:51<03:31,  1.62s/it]"
     ]
    },
    {
     "name": "stdout",
     "output_type": "stream",
     "text": [
      "[0]\tvalidation_0-logloss:0.43784\n",
      "Will train until validation_0-logloss hasn't improved in 100 rounds.\n",
      "[100]\tvalidation_0-logloss:0.00330\n",
      "Stopping. Best iteration:\n",
      "[25]\tvalidation_0-logloss:0.00295\n",
      "\n"
     ]
    },
    {
     "name": "stderr",
     "output_type": "stream",
     "text": [
      " 37%|███▋      | 76/206 [01:52<03:10,  1.46s/it]"
     ]
    },
    {
     "name": "stdout",
     "output_type": "stream",
     "text": [
      "[0]\tvalidation_0-logloss:0.43979\n",
      "Will train until validation_0-logloss hasn't improved in 100 rounds.\n",
      "[100]\tvalidation_0-logloss:0.02052\n",
      "Stopping. Best iteration:\n",
      "[21]\tvalidation_0-logloss:0.01574\n",
      "\n"
     ]
    },
    {
     "name": "stderr",
     "output_type": "stream",
     "text": [
      " 37%|███▋      | 77/206 [01:53<03:08,  1.46s/it]"
     ]
    },
    {
     "name": "stdout",
     "output_type": "stream",
     "text": [
      "[0]\tvalidation_0-logloss:0.45597\n",
      "Will train until validation_0-logloss hasn't improved in 100 rounds.\n",
      "[100]\tvalidation_0-logloss:0.13031\n",
      "Stopping. Best iteration:\n",
      "[14]\tvalidation_0-logloss:0.08487\n",
      "\n"
     ]
    },
    {
     "name": "stderr",
     "output_type": "stream",
     "text": [
      " 38%|███▊      | 78/206 [01:55<03:40,  1.72s/it]"
     ]
    },
    {
     "name": "stdout",
     "output_type": "stream",
     "text": [
      "[0]\tvalidation_0-logloss:0.44354\n",
      "Will train until validation_0-logloss hasn't improved in 100 rounds.\n",
      "[100]\tvalidation_0-logloss:0.05254\n",
      "Stopping. Best iteration:\n",
      "[15]\tvalidation_0-logloss:0.03665\n",
      "\n"
     ]
    },
    {
     "name": "stderr",
     "output_type": "stream",
     "text": [
      " 38%|███▊      | 79/206 [01:57<03:38,  1.72s/it]"
     ]
    },
    {
     "name": "stdout",
     "output_type": "stream",
     "text": [
      "[0]\tvalidation_0-logloss:0.45663\n",
      "Will train until validation_0-logloss hasn't improved in 100 rounds.\n",
      "[100]\tvalidation_0-logloss:0.14859\n",
      "Stopping. Best iteration:\n",
      "[12]\tvalidation_0-logloss:0.09349\n",
      "\n"
     ]
    },
    {
     "name": "stderr",
     "output_type": "stream",
     "text": [
      " 39%|███▉      | 80/206 [02:00<04:00,  1.91s/it]"
     ]
    },
    {
     "name": "stdout",
     "output_type": "stream",
     "text": [
      "[0]\tvalidation_0-logloss:0.44809\n",
      "Will train until validation_0-logloss hasn't improved in 100 rounds.\n",
      "[100]\tvalidation_0-logloss:0.04230\n",
      "Stopping. Best iteration:\n",
      "[22]\tvalidation_0-logloss:0.03871\n",
      "\n"
     ]
    },
    {
     "name": "stderr",
     "output_type": "stream",
     "text": [
      " 39%|███▉      | 81/206 [02:02<04:08,  1.99s/it]"
     ]
    },
    {
     "name": "stdout",
     "output_type": "stream",
     "text": [
      "[0]\tvalidation_0-logloss:0.43784\n",
      "Will train until validation_0-logloss hasn't improved in 100 rounds.\n",
      "[100]\tvalidation_0-logloss:0.00237\n",
      "Stopping. Best iteration:\n",
      "[27]\tvalidation_0-logloss:0.00203\n",
      "\n"
     ]
    },
    {
     "name": "stderr",
     "output_type": "stream",
     "text": [
      " 40%|███▉      | 82/206 [02:03<03:37,  1.75s/it]"
     ]
    },
    {
     "name": "stdout",
     "output_type": "stream",
     "text": [
      "[0]\tvalidation_0-logloss:0.43756\n",
      "Will train until validation_0-logloss hasn't improved in 100 rounds.\n",
      "[100]\tvalidation_0-logloss:0.00005\n",
      "Stopping. Best iteration:\n",
      "[64]\tvalidation_0-logloss:0.00005\n",
      "\n"
     ]
    },
    {
     "name": "stderr",
     "output_type": "stream",
     "text": [
      " 40%|████      | 83/206 [02:04<03:11,  1.56s/it]"
     ]
    },
    {
     "name": "stdout",
     "output_type": "stream",
     "text": [
      "[0]\tvalidation_0-logloss:0.44493\n",
      "Will train until validation_0-logloss hasn't improved in 100 rounds.\n",
      "[100]\tvalidation_0-logloss:0.06282\n",
      "Stopping. Best iteration:\n",
      "[16]\tvalidation_0-logloss:0.04320\n",
      "\n"
     ]
    },
    {
     "name": "stderr",
     "output_type": "stream",
     "text": [
      " 41%|████      | 84/206 [02:06<03:20,  1.64s/it]"
     ]
    },
    {
     "name": "stdout",
     "output_type": "stream",
     "text": [
      "[0]\tvalidation_0-logloss:0.43979\n",
      "Will train until validation_0-logloss hasn't improved in 100 rounds.\n",
      "[100]\tvalidation_0-logloss:0.02026\n",
      "Stopping. Best iteration:\n",
      "[20]\tvalidation_0-logloss:0.01522\n",
      "\n"
     ]
    },
    {
     "name": "stderr",
     "output_type": "stream",
     "text": [
      " 41%|████▏     | 85/206 [02:07<03:11,  1.58s/it]"
     ]
    },
    {
     "name": "stdout",
     "output_type": "stream",
     "text": [
      "[0]\tvalidation_0-logloss:0.43919\n",
      "Will train until validation_0-logloss hasn't improved in 100 rounds.\n",
      "[100]\tvalidation_0-logloss:0.01486\n",
      "Stopping. Best iteration:\n",
      "[20]\tvalidation_0-logloss:0.01133\n",
      "\n"
     ]
    },
    {
     "name": "stderr",
     "output_type": "stream",
     "text": [
      " 42%|████▏     | 86/206 [02:09<03:02,  1.52s/it]"
     ]
    },
    {
     "name": "stdout",
     "output_type": "stream",
     "text": [
      "[0]\tvalidation_0-logloss:0.43828\n",
      "Will train until validation_0-logloss hasn't improved in 100 rounds.\n",
      "[100]\tvalidation_0-logloss:0.00303\n",
      "Stopping. Best iteration:\n",
      "[46]\tvalidation_0-logloss:0.00295\n",
      "\n"
     ]
    },
    {
     "name": "stderr",
     "output_type": "stream",
     "text": [
      " 42%|████▏     | 87/206 [02:10<02:50,  1.43s/it]"
     ]
    },
    {
     "name": "stdout",
     "output_type": "stream",
     "text": [
      "[0]\tvalidation_0-logloss:0.43877\n",
      "Will train until validation_0-logloss hasn't improved in 100 rounds.\n",
      "[100]\tvalidation_0-logloss:0.01087\n",
      "Stopping. Best iteration:\n",
      "[23]\tvalidation_0-logloss:0.00864\n",
      "\n"
     ]
    },
    {
     "name": "stderr",
     "output_type": "stream",
     "text": [
      " 43%|████▎     | 88/206 [02:11<02:43,  1.38s/it]"
     ]
    },
    {
     "name": "stdout",
     "output_type": "stream",
     "text": [
      "[0]\tvalidation_0-logloss:0.43988\n",
      "Will train until validation_0-logloss hasn't improved in 100 rounds.\n",
      "[100]\tvalidation_0-logloss:0.01398\n",
      "Stopping. Best iteration:\n",
      "[21]\tvalidation_0-logloss:0.01172\n",
      "\n"
     ]
    },
    {
     "name": "stderr",
     "output_type": "stream",
     "text": [
      " 43%|████▎     | 89/206 [02:13<02:46,  1.42s/it]"
     ]
    },
    {
     "name": "stdout",
     "output_type": "stream",
     "text": [
      "[0]\tvalidation_0-logloss:0.44556\n",
      "Will train until validation_0-logloss hasn't improved in 100 rounds.\n",
      "[100]\tvalidation_0-logloss:0.04088\n",
      "Stopping. Best iteration:\n",
      "[19]\tvalidation_0-logloss:0.03212\n",
      "\n"
     ]
    },
    {
     "name": "stderr",
     "output_type": "stream",
     "text": [
      " 44%|████▎     | 90/206 [02:14<02:58,  1.54s/it]"
     ]
    },
    {
     "name": "stdout",
     "output_type": "stream",
     "text": [
      "[0]\tvalidation_0-logloss:0.43842\n",
      "Will train until validation_0-logloss hasn't improved in 100 rounds.\n",
      "[100]\tvalidation_0-logloss:0.00538\n",
      "Stopping. Best iteration:\n",
      "[37]\tvalidation_0-logloss:0.00523\n",
      "\n"
     ]
    },
    {
     "name": "stderr",
     "output_type": "stream",
     "text": [
      " 44%|████▍     | 91/206 [02:16<02:45,  1.43s/it]"
     ]
    },
    {
     "name": "stdout",
     "output_type": "stream",
     "text": [
      "[0]\tvalidation_0-logloss:0.43844\n",
      "Will train until validation_0-logloss hasn't improved in 100 rounds.\n",
      "[100]\tvalidation_0-logloss:0.00998\n",
      "Stopping. Best iteration:\n",
      "[22]\tvalidation_0-logloss:0.00776\n",
      "\n"
     ]
    },
    {
     "name": "stderr",
     "output_type": "stream",
     "text": [
      " 45%|████▍     | 92/206 [02:17<02:36,  1.37s/it]"
     ]
    },
    {
     "name": "stdout",
     "output_type": "stream",
     "text": [
      "[0]\tvalidation_0-logloss:0.43873\n",
      "Will train until validation_0-logloss hasn't improved in 100 rounds.\n",
      "[100]\tvalidation_0-logloss:0.01240\n",
      "Stopping. Best iteration:\n",
      "[20]\tvalidation_0-logloss:0.00916\n",
      "\n"
     ]
    },
    {
     "name": "stderr",
     "output_type": "stream",
     "text": [
      " 45%|████▌     | 93/206 [02:18<02:30,  1.33s/it]"
     ]
    },
    {
     "name": "stdout",
     "output_type": "stream",
     "text": [
      "[0]\tvalidation_0-logloss:0.44244\n",
      "Will train until validation_0-logloss hasn't improved in 100 rounds.\n",
      "[100]\tvalidation_0-logloss:0.04462\n",
      "Stopping. Best iteration:\n",
      "[18]\tvalidation_0-logloss:0.03073\n",
      "\n"
     ]
    },
    {
     "name": "stderr",
     "output_type": "stream",
     "text": [
      " 46%|████▌     | 94/206 [02:20<02:41,  1.44s/it]"
     ]
    },
    {
     "name": "stdout",
     "output_type": "stream",
     "text": [
      "[0]\tvalidation_0-logloss:0.44506\n",
      "Will train until validation_0-logloss hasn't improved in 100 rounds.\n",
      "[100]\tvalidation_0-logloss:0.06304\n",
      "Stopping. Best iteration:\n",
      "[16]\tvalidation_0-logloss:0.04349\n",
      "\n"
     ]
    },
    {
     "name": "stderr",
     "output_type": "stream",
     "text": [
      " 46%|████▌     | 95/206 [02:22<02:54,  1.57s/it]"
     ]
    },
    {
     "name": "stdout",
     "output_type": "stream",
     "text": [
      "[0]\tvalidation_0-logloss:0.44005\n",
      "Will train until validation_0-logloss hasn't improved in 100 rounds.\n",
      "[100]\tvalidation_0-logloss:0.01947\n",
      "Stopping. Best iteration:\n",
      "[18]\tvalidation_0-logloss:0.01632\n",
      "\n"
     ]
    },
    {
     "name": "stderr",
     "output_type": "stream",
     "text": [
      " 47%|████▋     | 96/206 [02:23<02:57,  1.62s/it]"
     ]
    },
    {
     "name": "stdout",
     "output_type": "stream",
     "text": [
      "[0]\tvalidation_0-logloss:0.44154\n",
      "Will train until validation_0-logloss hasn't improved in 100 rounds.\n",
      "[100]\tvalidation_0-logloss:0.01463\n",
      "Stopping. Best iteration:\n",
      "[25]\tvalidation_0-logloss:0.01318\n",
      "\n"
     ]
    },
    {
     "name": "stderr",
     "output_type": "stream",
     "text": [
      " 47%|████▋     | 97/206 [02:25<02:57,  1.63s/it]"
     ]
    },
    {
     "name": "stdout",
     "output_type": "stream",
     "text": [
      "[0]\tvalidation_0-logloss:0.43800\n",
      "Will train until validation_0-logloss hasn't improved in 100 rounds.\n",
      "[100]\tvalidation_0-logloss:0.00355\n",
      "Stopping. Best iteration:\n",
      "[24]\tvalidation_0-logloss:0.00310\n",
      "\n"
     ]
    },
    {
     "name": "stderr",
     "output_type": "stream",
     "text": [
      " 48%|████▊     | 98/206 [02:26<02:41,  1.49s/it]"
     ]
    },
    {
     "name": "stdout",
     "output_type": "stream",
     "text": [
      "[0]\tvalidation_0-logloss:0.44105\n",
      "Will train until validation_0-logloss hasn't improved in 100 rounds.\n",
      "[100]\tvalidation_0-logloss:0.03664\n",
      "Stopping. Best iteration:\n",
      "[19]\tvalidation_0-logloss:0.02363\n",
      "\n"
     ]
    },
    {
     "name": "stderr",
     "output_type": "stream",
     "text": [
      " 48%|████▊     | 99/206 [02:28<02:41,  1.51s/it]"
     ]
    },
    {
     "name": "stdout",
     "output_type": "stream",
     "text": [
      "[0]\tvalidation_0-logloss:0.45420\n",
      "Will train until validation_0-logloss hasn't improved in 100 rounds.\n",
      "[100]\tvalidation_0-logloss:0.13293\n",
      "Stopping. Best iteration:\n",
      "[16]\tvalidation_0-logloss:0.08361\n",
      "\n"
     ]
    },
    {
     "name": "stderr",
     "output_type": "stream",
     "text": [
      " 49%|████▊     | 100/206 [02:30<03:04,  1.74s/it]"
     ]
    },
    {
     "name": "stdout",
     "output_type": "stream",
     "text": [
      "[0]\tvalidation_0-logloss:0.43828\n",
      "Will train until validation_0-logloss hasn't improved in 100 rounds.\n",
      "[100]\tvalidation_0-logloss:0.00574\n",
      "Stopping. Best iteration:\n",
      "[25]\tvalidation_0-logloss:0.00487\n",
      "\n"
     ]
    },
    {
     "name": "stderr",
     "output_type": "stream",
     "text": [
      " 49%|████▉     | 101/206 [02:31<02:46,  1.58s/it]"
     ]
    },
    {
     "name": "stdout",
     "output_type": "stream",
     "text": [
      "[0]\tvalidation_0-logloss:0.44022\n",
      "Will train until validation_0-logloss hasn't improved in 100 rounds.\n",
      "[100]\tvalidation_0-logloss:0.01726\n",
      "Stopping. Best iteration:\n",
      "[22]\tvalidation_0-logloss:0.01297\n",
      "\n"
     ]
    },
    {
     "name": "stderr",
     "output_type": "stream",
     "text": [
      " 50%|████▉     | 102/206 [02:33<02:40,  1.54s/it]"
     ]
    },
    {
     "name": "stdout",
     "output_type": "stream",
     "text": [
      "[0]\tvalidation_0-logloss:0.44084\n",
      "Will train until validation_0-logloss hasn't improved in 100 rounds.\n",
      "[100]\tvalidation_0-logloss:0.03236\n",
      "Stopping. Best iteration:\n",
      "[17]\tvalidation_0-logloss:0.02235\n",
      "\n"
     ]
    },
    {
     "name": "stderr",
     "output_type": "stream",
     "text": [
      " 50%|█████     | 103/206 [02:35<02:53,  1.68s/it]"
     ]
    },
    {
     "name": "stdout",
     "output_type": "stream",
     "text": [
      "[0]\tvalidation_0-logloss:0.44086\n",
      "Will train until validation_0-logloss hasn't improved in 100 rounds.\n",
      "[100]\tvalidation_0-logloss:0.01382\n",
      "Stopping. Best iteration:\n",
      "[21]\tvalidation_0-logloss:0.01252\n",
      "\n"
     ]
    },
    {
     "name": "stderr",
     "output_type": "stream",
     "text": [
      " 50%|█████     | 104/206 [02:36<02:49,  1.66s/it]"
     ]
    },
    {
     "name": "stdout",
     "output_type": "stream",
     "text": [
      "[0]\tvalidation_0-logloss:0.44038\n",
      "Will train until validation_0-logloss hasn't improved in 100 rounds.\n",
      "[100]\tvalidation_0-logloss:0.02723\n",
      "Stopping. Best iteration:\n",
      "[19]\tvalidation_0-logloss:0.01956\n",
      "\n"
     ]
    },
    {
     "name": "stderr",
     "output_type": "stream",
     "text": [
      " 51%|█████     | 105/206 [02:38<02:44,  1.63s/it]"
     ]
    },
    {
     "name": "stdout",
     "output_type": "stream",
     "text": [
      "[0]\tvalidation_0-logloss:0.44876\n",
      "Will train until validation_0-logloss hasn't improved in 100 rounds.\n",
      "[100]\tvalidation_0-logloss:0.09548\n",
      "Stopping. Best iteration:\n",
      "[19]\tvalidation_0-logloss:0.06222\n",
      "\n"
     ]
    },
    {
     "name": "stderr",
     "output_type": "stream",
     "text": [
      " 51%|█████▏    | 106/206 [02:40<02:55,  1.76s/it]"
     ]
    },
    {
     "name": "stdout",
     "output_type": "stream",
     "text": [
      "[0]\tvalidation_0-logloss:0.43875\n",
      "Will train until validation_0-logloss hasn't improved in 100 rounds.\n",
      "[100]\tvalidation_0-logloss:0.01178\n",
      "Stopping. Best iteration:\n",
      "[20]\tvalidation_0-logloss:0.00939\n",
      "\n"
     ]
    },
    {
     "name": "stderr",
     "output_type": "stream",
     "text": [
      " 52%|█████▏    | 107/206 [02:41<02:38,  1.60s/it]"
     ]
    },
    {
     "name": "stdout",
     "output_type": "stream",
     "text": [
      "[0]\tvalidation_0-logloss:0.43893\n",
      "Will train until validation_0-logloss hasn't improved in 100 rounds.\n",
      "[100]\tvalidation_0-logloss:0.01054\n",
      "Stopping. Best iteration:\n",
      "[21]\tvalidation_0-logloss:0.00932\n",
      "\n"
     ]
    },
    {
     "name": "stderr",
     "output_type": "stream",
     "text": [
      " 52%|█████▏    | 108/206 [02:43<02:30,  1.54s/it]"
     ]
    },
    {
     "name": "stdout",
     "output_type": "stream",
     "text": [
      "[0]\tvalidation_0-logloss:0.44084\n",
      "Will train until validation_0-logloss hasn't improved in 100 rounds.\n",
      "[100]\tvalidation_0-logloss:0.03031\n",
      "Stopping. Best iteration:\n",
      "[19]\tvalidation_0-logloss:0.02077\n",
      "\n"
     ]
    },
    {
     "name": "stderr",
     "output_type": "stream",
     "text": [
      " 53%|█████▎    | 109/206 [02:44<02:29,  1.54s/it]"
     ]
    },
    {
     "name": "stdout",
     "output_type": "stream",
     "text": [
      "[0]\tvalidation_0-logloss:0.44452\n",
      "Will train until validation_0-logloss hasn't improved in 100 rounds.\n",
      "[100]\tvalidation_0-logloss:0.01140\n",
      "[200]\tvalidation_0-logloss:0.01150\n",
      "Stopping. Best iteration:\n",
      "[115]\tvalidation_0-logloss:0.01124\n",
      "\n"
     ]
    },
    {
     "name": "stderr",
     "output_type": "stream",
     "text": [
      " 53%|█████▎    | 110/206 [02:46<02:43,  1.70s/it]"
     ]
    },
    {
     "name": "stdout",
     "output_type": "stream",
     "text": [
      "[0]\tvalidation_0-logloss:0.43930\n",
      "Will train until validation_0-logloss hasn't improved in 100 rounds.\n",
      "[100]\tvalidation_0-logloss:0.00801\n",
      "Stopping. Best iteration:\n",
      "[25]\tvalidation_0-logloss:0.00759\n",
      "\n"
     ]
    },
    {
     "name": "stderr",
     "output_type": "stream",
     "text": [
      " 54%|█████▍    | 111/206 [02:48<02:30,  1.59s/it]"
     ]
    },
    {
     "name": "stdout",
     "output_type": "stream",
     "text": [
      "[0]\tvalidation_0-logloss:0.43921\n",
      "Will train until validation_0-logloss hasn't improved in 100 rounds.\n",
      "[100]\tvalidation_0-logloss:0.01318\n",
      "Stopping. Best iteration:\n",
      "[21]\tvalidation_0-logloss:0.01055\n",
      "\n"
     ]
    },
    {
     "name": "stderr",
     "output_type": "stream",
     "text": [
      " 54%|█████▍    | 112/206 [02:49<02:23,  1.52s/it]"
     ]
    },
    {
     "name": "stdout",
     "output_type": "stream",
     "text": [
      "[0]\tvalidation_0-logloss:0.43888\n",
      "Will train until validation_0-logloss hasn't improved in 100 rounds.\n",
      "[100]\tvalidation_0-logloss:0.00496\n",
      "Stopping. Best iteration:\n",
      "[27]\tvalidation_0-logloss:0.00421\n",
      "\n"
     ]
    },
    {
     "name": "stderr",
     "output_type": "stream",
     "text": [
      " 55%|█████▍    | 113/206 [02:50<02:15,  1.46s/it]"
     ]
    },
    {
     "name": "stdout",
     "output_type": "stream",
     "text": [
      "[0]\tvalidation_0-logloss:0.43907\n",
      "Will train until validation_0-logloss hasn't improved in 100 rounds.\n",
      "[100]\tvalidation_0-logloss:0.01619\n",
      "Stopping. Best iteration:\n",
      "[19]\tvalidation_0-logloss:0.01211\n",
      "\n"
     ]
    },
    {
     "name": "stderr",
     "output_type": "stream",
     "text": [
      " 55%|█████▌    | 114/206 [02:52<02:10,  1.42s/it]"
     ]
    },
    {
     "name": "stdout",
     "output_type": "stream",
     "text": [
      "[0]\tvalidation_0-logloss:0.44091\n",
      "Will train until validation_0-logloss hasn't improved in 100 rounds.\n",
      "[100]\tvalidation_0-logloss:0.02427\n",
      "Stopping. Best iteration:\n",
      "[20]\tvalidation_0-logloss:0.01872\n",
      "\n"
     ]
    },
    {
     "name": "stderr",
     "output_type": "stream",
     "text": [
      " 56%|█████▌    | 115/206 [02:53<02:13,  1.47s/it]"
     ]
    },
    {
     "name": "stdout",
     "output_type": "stream",
     "text": [
      "[0]\tvalidation_0-logloss:0.43886\n",
      "Will train until validation_0-logloss hasn't improved in 100 rounds.\n",
      "[100]\tvalidation_0-logloss:0.01322\n",
      "Stopping. Best iteration:\n",
      "[20]\tvalidation_0-logloss:0.01003\n",
      "\n"
     ]
    },
    {
     "name": "stderr",
     "output_type": "stream",
     "text": [
      " 56%|█████▋    | 116/206 [02:54<02:08,  1.43s/it]"
     ]
    },
    {
     "name": "stdout",
     "output_type": "stream",
     "text": [
      "[0]\tvalidation_0-logloss:0.43990\n",
      "Will train until validation_0-logloss hasn't improved in 100 rounds.\n",
      "[100]\tvalidation_0-logloss:0.01264\n",
      "Stopping. Best iteration:\n",
      "[24]\tvalidation_0-logloss:0.01064\n",
      "\n"
     ]
    },
    {
     "name": "stderr",
     "output_type": "stream",
     "text": [
      " 57%|█████▋    | 117/206 [02:56<02:18,  1.55s/it]"
     ]
    },
    {
     "name": "stdout",
     "output_type": "stream",
     "text": [
      "[0]\tvalidation_0-logloss:0.43949\n",
      "Will train until validation_0-logloss hasn't improved in 100 rounds.\n",
      "[100]\tvalidation_0-logloss:0.02017\n",
      "Stopping. Best iteration:\n",
      "[20]\tvalidation_0-logloss:0.01452\n",
      "\n"
     ]
    },
    {
     "name": "stderr",
     "output_type": "stream",
     "text": [
      " 57%|█████▋    | 118/206 [02:58<02:14,  1.53s/it]"
     ]
    },
    {
     "name": "stdout",
     "output_type": "stream",
     "text": [
      "[0]\tvalidation_0-logloss:0.44184\n",
      "Will train until validation_0-logloss hasn't improved in 100 rounds.\n",
      "[100]\tvalidation_0-logloss:0.02088\n",
      "Stopping. Best iteration:\n",
      "[18]\tvalidation_0-logloss:0.01673\n",
      "\n"
     ]
    },
    {
     "name": "stderr",
     "output_type": "stream",
     "text": [
      " 58%|█████▊    | 119/206 [02:59<02:13,  1.53s/it]"
     ]
    },
    {
     "name": "stdout",
     "output_type": "stream",
     "text": [
      "[0]\tvalidation_0-logloss:0.44463\n",
      "Will train until validation_0-logloss hasn't improved in 100 rounds.\n",
      "[100]\tvalidation_0-logloss:0.02930\n",
      "Stopping. Best iteration:\n",
      "[20]\tvalidation_0-logloss:0.02556\n",
      "\n"
     ]
    },
    {
     "name": "stderr",
     "output_type": "stream",
     "text": [
      " 58%|█████▊    | 120/206 [03:01<02:16,  1.59s/it]"
     ]
    },
    {
     "name": "stdout",
     "output_type": "stream",
     "text": [
      "[0]\tvalidation_0-logloss:0.43784\n",
      "Will train until validation_0-logloss hasn't improved in 100 rounds.\n",
      "[100]\tvalidation_0-logloss:0.00336\n",
      "Stopping. Best iteration:\n",
      "[24]\tvalidation_0-logloss:0.00304\n",
      "\n"
     ]
    },
    {
     "name": "stderr",
     "output_type": "stream",
     "text": [
      " 59%|█████▊    | 121/206 [03:02<02:02,  1.44s/it]"
     ]
    },
    {
     "name": "stdout",
     "output_type": "stream",
     "text": [
      "[0]\tvalidation_0-logloss:0.43784\n",
      "Will train until validation_0-logloss hasn't improved in 100 rounds.\n",
      "[100]\tvalidation_0-logloss:0.00318\n",
      "Stopping. Best iteration:\n",
      "[27]\tvalidation_0-logloss:0.00275\n",
      "\n"
     ]
    },
    {
     "name": "stderr",
     "output_type": "stream",
     "text": [
      " 59%|█████▉    | 122/206 [03:03<01:51,  1.33s/it]"
     ]
    },
    {
     "name": "stdout",
     "output_type": "stream",
     "text": [
      "[0]\tvalidation_0-logloss:0.44044\n",
      "Will train until validation_0-logloss hasn't improved in 100 rounds.\n",
      "[100]\tvalidation_0-logloss:0.02567\n",
      "Stopping. Best iteration:\n",
      "[22]\tvalidation_0-logloss:0.01936\n",
      "\n"
     ]
    },
    {
     "name": "stderr",
     "output_type": "stream",
     "text": [
      " 60%|█████▉    | 123/206 [03:05<01:55,  1.39s/it]"
     ]
    },
    {
     "name": "stdout",
     "output_type": "stream",
     "text": [
      "[0]\tvalidation_0-logloss:0.43814\n",
      "Will train until validation_0-logloss hasn't improved in 100 rounds.\n",
      "[100]\tvalidation_0-logloss:0.00688\n",
      "Stopping. Best iteration:\n",
      "[22]\tvalidation_0-logloss:0.00566\n",
      "\n"
     ]
    },
    {
     "name": "stderr",
     "output_type": "stream",
     "text": [
      " 60%|██████    | 124/206 [03:06<01:51,  1.36s/it]"
     ]
    },
    {
     "name": "stdout",
     "output_type": "stream",
     "text": [
      "[0]\tvalidation_0-logloss:0.44042\n",
      "Will train until validation_0-logloss hasn't improved in 100 rounds.\n",
      "[100]\tvalidation_0-logloss:0.02778\n",
      "Stopping. Best iteration:\n",
      "[18]\tvalidation_0-logloss:0.01965\n",
      "\n"
     ]
    },
    {
     "name": "stderr",
     "output_type": "stream",
     "text": [
      " 61%|██████    | 125/206 [03:08<02:03,  1.53s/it]"
     ]
    },
    {
     "name": "stdout",
     "output_type": "stream",
     "text": [
      "[0]\tvalidation_0-logloss:0.43784\n",
      "Will train until validation_0-logloss hasn't improved in 100 rounds.\n",
      "[100]\tvalidation_0-logloss:0.00253\n",
      "Stopping. Best iteration:\n",
      "[26]\tvalidation_0-logloss:0.00221\n",
      "\n"
     ]
    },
    {
     "name": "stderr",
     "output_type": "stream",
     "text": [
      " 61%|██████    | 126/206 [03:09<01:52,  1.41s/it]"
     ]
    },
    {
     "name": "stdout",
     "output_type": "stream",
     "text": [
      "[0]\tvalidation_0-logloss:0.43855\n",
      "Will train until validation_0-logloss hasn't improved in 100 rounds.\n",
      "[100]\tvalidation_0-logloss:0.00494\n",
      "Stopping. Best iteration:\n",
      "[28]\tvalidation_0-logloss:0.00484\n",
      "\n"
     ]
    },
    {
     "name": "stderr",
     "output_type": "stream",
     "text": [
      " 62%|██████▏   | 127/206 [03:10<01:47,  1.36s/it]"
     ]
    },
    {
     "name": "stdout",
     "output_type": "stream",
     "text": [
      "[0]\tvalidation_0-logloss:0.43950\n",
      "Will train until validation_0-logloss hasn't improved in 100 rounds.\n",
      "[100]\tvalidation_0-logloss:0.00438\n",
      "Stopping. Best iteration:\n",
      "[25]\tvalidation_0-logloss:0.00404\n",
      "\n"
     ]
    },
    {
     "name": "stderr",
     "output_type": "stream",
     "text": [
      " 62%|██████▏   | 128/206 [03:12<01:47,  1.38s/it]"
     ]
    },
    {
     "name": "stdout",
     "output_type": "stream",
     "text": [
      "[0]\tvalidation_0-logloss:0.44154\n",
      "Will train until validation_0-logloss hasn't improved in 100 rounds.\n",
      "[100]\tvalidation_0-logloss:0.03590\n",
      "Stopping. Best iteration:\n",
      "[17]\tvalidation_0-logloss:0.02465\n",
      "\n"
     ]
    },
    {
     "name": "stderr",
     "output_type": "stream",
     "text": [
      " 63%|██████▎   | 129/206 [03:13<01:50,  1.43s/it]"
     ]
    },
    {
     "name": "stdout",
     "output_type": "stream",
     "text": [
      "[0]\tvalidation_0-logloss:0.43860\n",
      "Will train until validation_0-logloss hasn't improved in 100 rounds.\n",
      "[100]\tvalidation_0-logloss:0.00972\n",
      "Stopping. Best iteration:\n",
      "[21]\tvalidation_0-logloss:0.00759\n",
      "\n"
     ]
    },
    {
     "name": "stderr",
     "output_type": "stream",
     "text": [
      " 63%|██████▎   | 130/206 [03:15<01:45,  1.39s/it]"
     ]
    },
    {
     "name": "stdout",
     "output_type": "stream",
     "text": [
      "[0]\tvalidation_0-logloss:0.43814\n",
      "Will train until validation_0-logloss hasn't improved in 100 rounds.\n",
      "[100]\tvalidation_0-logloss:0.00666\n",
      "Stopping. Best iteration:\n",
      "[23]\tvalidation_0-logloss:0.00543\n",
      "\n"
     ]
    },
    {
     "name": "stderr",
     "output_type": "stream",
     "text": [
      " 64%|██████▎   | 131/206 [03:16<01:39,  1.32s/it]"
     ]
    },
    {
     "name": "stdout",
     "output_type": "stream",
     "text": [
      "[0]\tvalidation_0-logloss:0.44146\n",
      "Will train until validation_0-logloss hasn't improved in 100 rounds.\n",
      "[100]\tvalidation_0-logloss:0.03514\n",
      "Stopping. Best iteration:\n",
      "[18]\tvalidation_0-logloss:0.02500\n",
      "\n"
     ]
    },
    {
     "name": "stderr",
     "output_type": "stream",
     "text": [
      " 64%|██████▍   | 132/206 [03:17<01:44,  1.41s/it]"
     ]
    },
    {
     "name": "stdout",
     "output_type": "stream",
     "text": [
      "[0]\tvalidation_0-logloss:0.43844\n",
      "Will train until validation_0-logloss hasn't improved in 100 rounds.\n",
      "[100]\tvalidation_0-logloss:0.00761\n",
      "Stopping. Best iteration:\n",
      "[25]\tvalidation_0-logloss:0.00696\n",
      "\n"
     ]
    },
    {
     "name": "stderr",
     "output_type": "stream",
     "text": [
      " 65%|██████▍   | 133/206 [03:19<01:40,  1.38s/it]"
     ]
    },
    {
     "name": "stdout",
     "output_type": "stream",
     "text": [
      "[0]\tvalidation_0-logloss:0.44239\n",
      "Will train until validation_0-logloss hasn't improved in 100 rounds.\n",
      "[100]\tvalidation_0-logloss:0.01261\n",
      "Stopping. Best iteration:\n",
      "[33]\tvalidation_0-logloss:0.01194\n",
      "\n"
     ]
    },
    {
     "name": "stderr",
     "output_type": "stream",
     "text": [
      " 65%|██████▌   | 134/206 [03:20<01:45,  1.46s/it]"
     ]
    },
    {
     "name": "stdout",
     "output_type": "stream",
     "text": [
      "[0]\tvalidation_0-logloss:0.43979\n",
      "Will train until validation_0-logloss hasn't improved in 100 rounds.\n",
      "[100]\tvalidation_0-logloss:0.02119\n",
      "Stopping. Best iteration:\n",
      "[19]\tvalidation_0-logloss:0.01600\n",
      "\n"
     ]
    },
    {
     "name": "stderr",
     "output_type": "stream",
     "text": [
      " 66%|██████▌   | 135/206 [03:22<01:43,  1.46s/it]"
     ]
    },
    {
     "name": "stdout",
     "output_type": "stream",
     "text": [
      "[0]\tvalidation_0-logloss:0.43938\n",
      "Will train until validation_0-logloss hasn't improved in 100 rounds.\n",
      "[100]\tvalidation_0-logloss:0.01811\n",
      "Stopping. Best iteration:\n",
      "[19]\tvalidation_0-logloss:0.01418\n",
      "\n"
     ]
    },
    {
     "name": "stderr",
     "output_type": "stream",
     "text": [
      " 66%|██████▌   | 136/206 [03:23<01:40,  1.43s/it]"
     ]
    },
    {
     "name": "stdout",
     "output_type": "stream",
     "text": [
      "[0]\tvalidation_0-logloss:0.44298\n",
      "Will train until validation_0-logloss hasn't improved in 100 rounds.\n",
      "[100]\tvalidation_0-logloss:0.04707\n",
      "Stopping. Best iteration:\n",
      "[15]\tvalidation_0-logloss:0.03244\n",
      "\n"
     ]
    },
    {
     "name": "stderr",
     "output_type": "stream",
     "text": [
      " 67%|██████▋   | 137/206 [03:25<01:46,  1.54s/it]"
     ]
    },
    {
     "name": "stdout",
     "output_type": "stream",
     "text": [
      "[0]\tvalidation_0-logloss:0.43784\n",
      "Will train until validation_0-logloss hasn't improved in 100 rounds.\n",
      "[100]\tvalidation_0-logloss:0.00344\n",
      "Stopping. Best iteration:\n",
      "[27]\tvalidation_0-logloss:0.00306\n",
      "\n"
     ]
    },
    {
     "name": "stderr",
     "output_type": "stream",
     "text": [
      " 67%|██████▋   | 138/206 [03:26<01:35,  1.41s/it]"
     ]
    },
    {
     "name": "stdout",
     "output_type": "stream",
     "text": [
      "[0]\tvalidation_0-logloss:0.43879\n",
      "Will train until validation_0-logloss hasn't improved in 100 rounds.\n",
      "[100]\tvalidation_0-logloss:0.01372\n",
      "Stopping. Best iteration:\n",
      "[20]\tvalidation_0-logloss:0.00991\n",
      "\n"
     ]
    },
    {
     "name": "stderr",
     "output_type": "stream",
     "text": [
      " 67%|██████▋   | 139/206 [03:27<01:31,  1.37s/it]"
     ]
    },
    {
     "name": "stdout",
     "output_type": "stream",
     "text": [
      "[0]\tvalidation_0-logloss:0.43814\n",
      "Will train until validation_0-logloss hasn't improved in 100 rounds.\n",
      "[100]\tvalidation_0-logloss:0.00536\n",
      "Stopping. Best iteration:\n",
      "[25]\tvalidation_0-logloss:0.00443\n",
      "\n"
     ]
    },
    {
     "name": "stderr",
     "output_type": "stream",
     "text": [
      " 68%|██████▊   | 140/206 [03:29<01:26,  1.31s/it]"
     ]
    },
    {
     "name": "stdout",
     "output_type": "stream",
     "text": [
      "[0]\tvalidation_0-logloss:0.43877\n",
      "Will train until validation_0-logloss hasn't improved in 100 rounds.\n",
      "[100]\tvalidation_0-logloss:0.01372\n",
      "Stopping. Best iteration:\n",
      "[22]\tvalidation_0-logloss:0.01023\n",
      "\n"
     ]
    },
    {
     "name": "stderr",
     "output_type": "stream",
     "text": [
      " 68%|██████▊   | 141/206 [03:30<01:32,  1.42s/it]"
     ]
    },
    {
     "name": "stdout",
     "output_type": "stream",
     "text": [
      "[0]\tvalidation_0-logloss:0.43786\n",
      "Will train until validation_0-logloss hasn't improved in 100 rounds.\n",
      "[100]\tvalidation_0-logloss:0.00229\n",
      "Stopping. Best iteration:\n",
      "[26]\tvalidation_0-logloss:0.00205\n",
      "\n"
     ]
    },
    {
     "name": "stderr",
     "output_type": "stream",
     "text": [
      " 69%|██████▉   | 142/206 [03:31<01:24,  1.33s/it]"
     ]
    },
    {
     "name": "stdout",
     "output_type": "stream",
     "text": [
      "[0]\tvalidation_0-logloss:0.43860\n",
      "Will train until validation_0-logloss hasn't improved in 100 rounds.\n",
      "[100]\tvalidation_0-logloss:0.00320\n",
      "Stopping. Best iteration:\n",
      "[31]\tvalidation_0-logloss:0.00298\n",
      "\n"
     ]
    },
    {
     "name": "stderr",
     "output_type": "stream",
     "text": [
      " 69%|██████▉   | 143/206 [03:33<01:21,  1.30s/it]"
     ]
    },
    {
     "name": "stdout",
     "output_type": "stream",
     "text": [
      "[0]\tvalidation_0-logloss:0.44042\n",
      "Will train until validation_0-logloss hasn't improved in 100 rounds.\n",
      "[100]\tvalidation_0-logloss:0.02745\n",
      "Stopping. Best iteration:\n",
      "[20]\tvalidation_0-logloss:0.01941\n",
      "\n"
     ]
    },
    {
     "name": "stderr",
     "output_type": "stream",
     "text": [
      " 70%|██████▉   | 144/206 [03:34<01:24,  1.36s/it]"
     ]
    },
    {
     "name": "stdout",
     "output_type": "stream",
     "text": [
      "[0]\tvalidation_0-logloss:0.44220\n",
      "Will train until validation_0-logloss hasn't improved in 100 rounds.\n",
      "[100]\tvalidation_0-logloss:0.03816\n",
      "Stopping. Best iteration:\n",
      "[19]\tvalidation_0-logloss:0.02739\n",
      "\n"
     ]
    },
    {
     "name": "stderr",
     "output_type": "stream",
     "text": [
      " 70%|███████   | 145/206 [03:36<01:28,  1.46s/it]"
     ]
    },
    {
     "name": "stdout",
     "output_type": "stream",
     "text": [
      "[0]\tvalidation_0-logloss:0.43938\n",
      "Will train until validation_0-logloss hasn't improved in 100 rounds.\n",
      "[100]\tvalidation_0-logloss:0.01837\n",
      "Stopping. Best iteration:\n",
      "[19]\tvalidation_0-logloss:0.01376\n",
      "\n"
     ]
    },
    {
     "name": "stderr",
     "output_type": "stream",
     "text": [
      " 71%|███████   | 146/206 [03:37<01:28,  1.48s/it]"
     ]
    },
    {
     "name": "stdout",
     "output_type": "stream",
     "text": [
      "[0]\tvalidation_0-logloss:0.43993\n",
      "Will train until validation_0-logloss hasn't improved in 100 rounds.\n",
      "[100]\tvalidation_0-logloss:0.01818\n",
      "Stopping. Best iteration:\n",
      "[19]\tvalidation_0-logloss:0.01369\n",
      "\n"
     ]
    },
    {
     "name": "stderr",
     "output_type": "stream",
     "text": [
      " 71%|███████▏  | 147/206 [03:39<01:26,  1.47s/it]"
     ]
    },
    {
     "name": "stdout",
     "output_type": "stream",
     "text": [
      "[0]\tvalidation_0-logloss:0.43858\n",
      "Will train until validation_0-logloss hasn't improved in 100 rounds.\n",
      "[100]\tvalidation_0-logloss:0.00942\n",
      "Stopping. Best iteration:\n",
      "[21]\tvalidation_0-logloss:0.00741\n",
      "\n"
     ]
    },
    {
     "name": "stderr",
     "output_type": "stream",
     "text": [
      " 72%|███████▏  | 148/206 [03:41<01:35,  1.65s/it]"
     ]
    },
    {
     "name": "stdout",
     "output_type": "stream",
     "text": [
      "[0]\tvalidation_0-logloss:0.44042\n",
      "Will train until validation_0-logloss hasn't improved in 100 rounds.\n",
      "[100]\tvalidation_0-logloss:0.02640\n",
      "Stopping. Best iteration:\n",
      "[19]\tvalidation_0-logloss:0.01965\n",
      "\n"
     ]
    },
    {
     "name": "stderr",
     "output_type": "stream",
     "text": [
      " 72%|███████▏  | 149/206 [03:43<01:36,  1.70s/it]"
     ]
    },
    {
     "name": "stdout",
     "output_type": "stream",
     "text": [
      "[0]\tvalidation_0-logloss:0.44461\n",
      "Will train until validation_0-logloss hasn't improved in 100 rounds.\n",
      "[100]\tvalidation_0-logloss:0.02906\n",
      "Stopping. Best iteration:\n",
      "[20]\tvalidation_0-logloss:0.02673\n",
      "\n"
     ]
    },
    {
     "name": "stderr",
     "output_type": "stream",
     "text": [
      " 73%|███████▎  | 150/206 [03:44<01:36,  1.72s/it]"
     ]
    },
    {
     "name": "stdout",
     "output_type": "stream",
     "text": [
      "[0]\tvalidation_0-logloss:0.43828\n",
      "Will train until validation_0-logloss hasn't improved in 100 rounds.\n",
      "[100]\tvalidation_0-logloss:0.00630\n",
      "Stopping. Best iteration:\n",
      "[23]\tvalidation_0-logloss:0.00526\n",
      "\n"
     ]
    },
    {
     "name": "stderr",
     "output_type": "stream",
     "text": [
      " 73%|███████▎  | 151/206 [03:46<01:27,  1.58s/it]"
     ]
    },
    {
     "name": "stdout",
     "output_type": "stream",
     "text": [
      "[0]\tvalidation_0-logloss:0.44976\n",
      "Will train until validation_0-logloss hasn't improved in 100 rounds.\n",
      "[100]\tvalidation_0-logloss:0.09849\n",
      "Stopping. Best iteration:\n",
      "[16]\tvalidation_0-logloss:0.06404\n",
      "\n"
     ]
    },
    {
     "name": "stderr",
     "output_type": "stream",
     "text": [
      " 74%|███████▍  | 152/206 [03:48<01:33,  1.73s/it]"
     ]
    },
    {
     "name": "stdout",
     "output_type": "stream",
     "text": [
      "[0]\tvalidation_0-logloss:0.43877\n",
      "Will train until validation_0-logloss hasn't improved in 100 rounds.\n",
      "[100]\tvalidation_0-logloss:0.01289\n",
      "Stopping. Best iteration:\n",
      "[20]\tvalidation_0-logloss:0.01000\n",
      "\n"
     ]
    },
    {
     "name": "stderr",
     "output_type": "stream",
     "text": [
      " 74%|███████▍  | 153/206 [03:49<01:24,  1.59s/it]"
     ]
    },
    {
     "name": "stdout",
     "output_type": "stream",
     "text": [
      "[0]\tvalidation_0-logloss:0.44394\n",
      "Will train until validation_0-logloss hasn't improved in 100 rounds.\n",
      "[100]\tvalidation_0-logloss:0.03580\n",
      "Stopping. Best iteration:\n",
      "[21]\tvalidation_0-logloss:0.02640\n",
      "\n"
     ]
    },
    {
     "name": "stderr",
     "output_type": "stream",
     "text": [
      " 75%|███████▍  | 154/206 [03:51<01:26,  1.67s/it]"
     ]
    },
    {
     "name": "stdout",
     "output_type": "stream",
     "text": [
      "[0]\tvalidation_0-logloss:0.43891\n",
      "Will train until validation_0-logloss hasn't improved in 100 rounds.\n",
      "[100]\tvalidation_0-logloss:0.01150\n",
      "Stopping. Best iteration:\n",
      "[24]\tvalidation_0-logloss:0.00916\n",
      "\n"
     ]
    },
    {
     "name": "stderr",
     "output_type": "stream",
     "text": [
      " 75%|███████▌  | 155/206 [03:52<01:20,  1.58s/it]"
     ]
    },
    {
     "name": "stdout",
     "output_type": "stream",
     "text": [
      "[0]\tvalidation_0-logloss:0.44012\n",
      "Will train until validation_0-logloss hasn't improved in 100 rounds.\n",
      "[100]\tvalidation_0-logloss:0.02443\n",
      "Stopping. Best iteration:\n",
      "[19]\tvalidation_0-logloss:0.01826\n",
      "\n"
     ]
    },
    {
     "name": "stderr",
     "output_type": "stream",
     "text": [
      " 76%|███████▌  | 156/206 [03:54<01:17,  1.55s/it]"
     ]
    },
    {
     "name": "stdout",
     "output_type": "stream",
     "text": [
      "[0]\tvalidation_0-logloss:0.44213\n",
      "Will train until validation_0-logloss hasn't improved in 100 rounds.\n",
      "[100]\tvalidation_0-logloss:0.04105\n",
      "Stopping. Best iteration:\n",
      "[17]\tvalidation_0-logloss:0.02791\n",
      "\n"
     ]
    },
    {
     "name": "stderr",
     "output_type": "stream",
     "text": [
      " 76%|███████▌  | 157/206 [03:55<01:17,  1.58s/it]"
     ]
    },
    {
     "name": "stdout",
     "output_type": "stream",
     "text": [
      "[0]\tvalidation_0-logloss:0.44280\n",
      "Will train until validation_0-logloss hasn't improved in 100 rounds.\n",
      "[100]\tvalidation_0-logloss:0.02562\n",
      "Stopping. Best iteration:\n",
      "[19]\tvalidation_0-logloss:0.02045\n",
      "\n"
     ]
    },
    {
     "name": "stderr",
     "output_type": "stream",
     "text": [
      " 77%|███████▋  | 158/206 [03:57<01:17,  1.62s/it]"
     ]
    },
    {
     "name": "stdout",
     "output_type": "stream",
     "text": [
      "[0]\tvalidation_0-logloss:0.43888\n",
      "Will train until validation_0-logloss hasn't improved in 100 rounds.\n",
      "[100]\tvalidation_0-logloss:0.01353\n",
      "Stopping. Best iteration:\n",
      "[21]\tvalidation_0-logloss:0.01032\n",
      "\n"
     ]
    },
    {
     "name": "stderr",
     "output_type": "stream",
     "text": [
      " 77%|███████▋  | 159/206 [03:58<01:12,  1.54s/it]"
     ]
    },
    {
     "name": "stdout",
     "output_type": "stream",
     "text": [
      "[0]\tvalidation_0-logloss:0.44306\n",
      "Will train until validation_0-logloss hasn't improved in 100 rounds.\n",
      "[100]\tvalidation_0-logloss:0.04307\n",
      "Stopping. Best iteration:\n",
      "[22]\tvalidation_0-logloss:0.03074\n",
      "\n"
     ]
    },
    {
     "name": "stderr",
     "output_type": "stream",
     "text": [
      " 78%|███████▊  | 160/206 [04:00<01:14,  1.61s/it]"
     ]
    },
    {
     "name": "stdout",
     "output_type": "stream",
     "text": [
      "[0]\tvalidation_0-logloss:0.43828\n",
      "Will train until validation_0-logloss hasn't improved in 100 rounds.\n",
      "[100]\tvalidation_0-logloss:0.00690\n",
      "Stopping. Best iteration:\n",
      "[23]\tvalidation_0-logloss:0.00562\n",
      "\n"
     ]
    },
    {
     "name": "stderr",
     "output_type": "stream",
     "text": [
      " 78%|███████▊  | 161/206 [04:01<01:06,  1.49s/it]"
     ]
    },
    {
     "name": "stdout",
     "output_type": "stream",
     "text": [
      "[0]\tvalidation_0-logloss:0.43919\n",
      "Will train until validation_0-logloss hasn't improved in 100 rounds.\n",
      "[100]\tvalidation_0-logloss:0.01556\n",
      "Stopping. Best iteration:\n",
      "[21]\tvalidation_0-logloss:0.01155\n",
      "\n"
     ]
    },
    {
     "name": "stderr",
     "output_type": "stream",
     "text": [
      " 79%|███████▊  | 162/206 [04:03<01:08,  1.55s/it]"
     ]
    },
    {
     "name": "stdout",
     "output_type": "stream",
     "text": [
      "[0]\tvalidation_0-logloss:0.44142\n",
      "Will train until validation_0-logloss hasn't improved in 100 rounds.\n",
      "[100]\tvalidation_0-logloss:0.03713\n",
      "Stopping. Best iteration:\n",
      "[16]\tvalidation_0-logloss:0.02588\n",
      "\n"
     ]
    },
    {
     "name": "stderr",
     "output_type": "stream",
     "text": [
      " 79%|███████▉  | 163/206 [04:05<01:07,  1.56s/it]"
     ]
    },
    {
     "name": "stdout",
     "output_type": "stream",
     "text": [
      "[0]\tvalidation_0-logloss:0.43815\n",
      "Will train until validation_0-logloss hasn't improved in 100 rounds.\n",
      "[100]\tvalidation_0-logloss:0.00073\n",
      "Stopping. Best iteration:\n",
      "[58]\tvalidation_0-logloss:0.00073\n",
      "\n"
     ]
    },
    {
     "name": "stderr",
     "output_type": "stream",
     "text": [
      " 80%|███████▉  | 164/206 [04:06<01:01,  1.47s/it]"
     ]
    },
    {
     "name": "stdout",
     "output_type": "stream",
     "text": [
      "[0]\tvalidation_0-logloss:0.43963\n",
      "Will train until validation_0-logloss hasn't improved in 100 rounds.\n",
      "[100]\tvalidation_0-logloss:0.01749\n",
      "Stopping. Best iteration:\n",
      "[20]\tvalidation_0-logloss:0.01296\n",
      "\n"
     ]
    },
    {
     "name": "stderr",
     "output_type": "stream",
     "text": [
      " 80%|████████  | 165/206 [04:07<01:00,  1.46s/it]"
     ]
    },
    {
     "name": "stdout",
     "output_type": "stream",
     "text": [
      "[0]\tvalidation_0-logloss:0.43784\n",
      "Will train until validation_0-logloss hasn't improved in 100 rounds.\n",
      "[100]\tvalidation_0-logloss:0.00275\n",
      "Stopping. Best iteration:\n",
      "[31]\tvalidation_0-logloss:0.00264\n",
      "\n"
     ]
    },
    {
     "name": "stderr",
     "output_type": "stream",
     "text": [
      " 81%|████████  | 166/206 [04:08<00:54,  1.36s/it]"
     ]
    },
    {
     "name": "stdout",
     "output_type": "stream",
     "text": [
      "[0]\tvalidation_0-logloss:0.44198\n",
      "Will train until validation_0-logloss hasn't improved in 100 rounds.\n",
      "[100]\tvalidation_0-logloss:0.02991\n",
      "Stopping. Best iteration:\n",
      "[19]\tvalidation_0-logloss:0.02225\n",
      "\n"
     ]
    },
    {
     "name": "stderr",
     "output_type": "stream",
     "text": [
      " 81%|████████  | 167/206 [04:10<00:56,  1.44s/it]"
     ]
    },
    {
     "name": "stdout",
     "output_type": "stream",
     "text": [
      "[0]\tvalidation_0-logloss:0.43847\n",
      "Will train until validation_0-logloss hasn't improved in 100 rounds.\n",
      "[100]\tvalidation_0-logloss:0.01038\n",
      "Stopping. Best iteration:\n",
      "[21]\tvalidation_0-logloss:0.00762\n",
      "\n"
     ]
    },
    {
     "name": "stderr",
     "output_type": "stream",
     "text": [
      " 82%|████████▏ | 168/206 [04:11<00:52,  1.38s/it]"
     ]
    },
    {
     "name": "stdout",
     "output_type": "stream",
     "text": [
      "[0]\tvalidation_0-logloss:0.44014\n",
      "Will train until validation_0-logloss hasn't improved in 100 rounds.\n",
      "[100]\tvalidation_0-logloss:0.02440\n",
      "Stopping. Best iteration:\n",
      "[20]\tvalidation_0-logloss:0.01809\n",
      "\n"
     ]
    },
    {
     "name": "stderr",
     "output_type": "stream",
     "text": [
      " 82%|████████▏ | 169/206 [04:13<00:55,  1.49s/it]"
     ]
    },
    {
     "name": "stdout",
     "output_type": "stream",
     "text": [
      "[0]\tvalidation_0-logloss:0.44046\n",
      "Will train until validation_0-logloss hasn't improved in 100 rounds.\n",
      "[100]\tvalidation_0-logloss:0.00448\n",
      "[200]\tvalidation_0-logloss:0.00444\n",
      "Stopping. Best iteration:\n",
      "[120]\tvalidation_0-logloss:0.00442\n",
      "\n"
     ]
    },
    {
     "name": "stderr",
     "output_type": "stream",
     "text": [
      " 83%|████████▎ | 170/206 [04:15<00:59,  1.64s/it]"
     ]
    },
    {
     "name": "stdout",
     "output_type": "stream",
     "text": [
      "[0]\tvalidation_0-logloss:0.43814\n",
      "Will train until validation_0-logloss hasn't improved in 100 rounds.\n",
      "[100]\tvalidation_0-logloss:0.00599\n",
      "Stopping. Best iteration:\n",
      "[25]\tvalidation_0-logloss:0.00472\n",
      "\n"
     ]
    },
    {
     "name": "stderr",
     "output_type": "stream",
     "text": [
      " 83%|████████▎ | 171/206 [04:16<00:52,  1.50s/it]"
     ]
    },
    {
     "name": "stdout",
     "output_type": "stream",
     "text": [
      "[0]\tvalidation_0-logloss:0.44000\n",
      "Will train until validation_0-logloss hasn't improved in 100 rounds.\n",
      "[100]\tvalidation_0-logloss:0.01439\n",
      "Stopping. Best iteration:\n",
      "[21]\tvalidation_0-logloss:0.01176\n",
      "\n"
     ]
    },
    {
     "name": "stderr",
     "output_type": "stream",
     "text": [
      " 83%|████████▎ | 172/206 [04:18<00:50,  1.49s/it]"
     ]
    },
    {
     "name": "stdout",
     "output_type": "stream",
     "text": [
      "[0]\tvalidation_0-logloss:0.43784\n",
      "Will train until validation_0-logloss hasn't improved in 100 rounds.\n",
      "[100]\tvalidation_0-logloss:0.00295\n",
      "Stopping. Best iteration:\n",
      "[32]\tvalidation_0-logloss:0.00279\n",
      "\n"
     ]
    },
    {
     "name": "stderr",
     "output_type": "stream",
     "text": [
      " 84%|████████▍ | 173/206 [04:19<00:45,  1.37s/it]"
     ]
    },
    {
     "name": "stdout",
     "output_type": "stream",
     "text": [
      "[0]\tvalidation_0-logloss:0.43917\n",
      "Will train until validation_0-logloss hasn't improved in 100 rounds.\n",
      "[100]\tvalidation_0-logloss:0.01403\n",
      "Stopping. Best iteration:\n",
      "[20]\tvalidation_0-logloss:0.01109\n",
      "\n"
     ]
    },
    {
     "name": "stderr",
     "output_type": "stream",
     "text": [
      " 84%|████████▍ | 174/206 [04:20<00:43,  1.35s/it]"
     ]
    },
    {
     "name": "stdout",
     "output_type": "stream",
     "text": [
      "[0]\tvalidation_0-logloss:0.43899\n",
      "Will train until validation_0-logloss hasn't improved in 100 rounds.\n",
      "[100]\tvalidation_0-logloss:0.01369\n",
      "Stopping. Best iteration:\n",
      "[20]\tvalidation_0-logloss:0.00997\n",
      "\n"
     ]
    },
    {
     "name": "stderr",
     "output_type": "stream",
     "text": [
      " 85%|████████▍ | 175/206 [04:21<00:41,  1.35s/it]"
     ]
    },
    {
     "name": "stdout",
     "output_type": "stream",
     "text": [
      "[0]\tvalidation_0-logloss:0.43877\n",
      "Will train until validation_0-logloss hasn't improved in 100 rounds.\n",
      "[100]\tvalidation_0-logloss:0.01323\n",
      "Stopping. Best iteration:\n",
      "[21]\tvalidation_0-logloss:0.00963\n",
      "\n"
     ]
    },
    {
     "name": "stderr",
     "output_type": "stream",
     "text": [
      " 85%|████████▌ | 176/206 [04:23<00:39,  1.33s/it]"
     ]
    },
    {
     "name": "stdout",
     "output_type": "stream",
     "text": [
      "[0]\tvalidation_0-logloss:0.44846\n",
      "Will train until validation_0-logloss hasn't improved in 100 rounds.\n",
      "[100]\tvalidation_0-logloss:0.09281\n",
      "Stopping. Best iteration:\n",
      "[14]\tvalidation_0-logloss:0.06073\n",
      "\n"
     ]
    },
    {
     "name": "stderr",
     "output_type": "stream",
     "text": [
      " 86%|████████▌ | 177/206 [04:25<00:45,  1.55s/it]"
     ]
    },
    {
     "name": "stdout",
     "output_type": "stream",
     "text": [
      "[0]\tvalidation_0-logloss:0.45607\n",
      "Will train until validation_0-logloss hasn't improved in 100 rounds.\n",
      "[100]\tvalidation_0-logloss:0.14213\n",
      "Stopping. Best iteration:\n",
      "[15]\tvalidation_0-logloss:0.08886\n",
      "\n"
     ]
    },
    {
     "name": "stderr",
     "output_type": "stream",
     "text": [
      " 86%|████████▋ | 178/206 [04:27<00:50,  1.79s/it]"
     ]
    },
    {
     "name": "stdout",
     "output_type": "stream",
     "text": [
      "[0]\tvalidation_0-logloss:0.43954\n",
      "Will train until validation_0-logloss hasn't improved in 100 rounds.\n",
      "[100]\tvalidation_0-logloss:0.01872\n",
      "Stopping. Best iteration:\n",
      "[19]\tvalidation_0-logloss:0.01367\n",
      "\n"
     ]
    },
    {
     "name": "stderr",
     "output_type": "stream",
     "text": [
      " 87%|████████▋ | 179/206 [04:29<00:45,  1.67s/it]"
     ]
    },
    {
     "name": "stdout",
     "output_type": "stream",
     "text": [
      "[0]\tvalidation_0-logloss:0.43936\n",
      "Will train until validation_0-logloss hasn't improved in 100 rounds.\n",
      "[100]\tvalidation_0-logloss:0.01932\n",
      "Stopping. Best iteration:\n",
      "[20]\tvalidation_0-logloss:0.01394\n",
      "\n"
     ]
    },
    {
     "name": "stderr",
     "output_type": "stream",
     "text": [
      " 87%|████████▋ | 180/206 [04:30<00:41,  1.58s/it]"
     ]
    },
    {
     "name": "stdout",
     "output_type": "stream",
     "text": [
      "[0]\tvalidation_0-logloss:0.43919\n",
      "Will train until validation_0-logloss hasn't improved in 100 rounds.\n",
      "[100]\tvalidation_0-logloss:0.01608\n",
      "Stopping. Best iteration:\n",
      "[24]\tvalidation_0-logloss:0.01206\n",
      "\n"
     ]
    },
    {
     "name": "stderr",
     "output_type": "stream",
     "text": [
      " 88%|████████▊ | 181/206 [04:31<00:38,  1.53s/it]"
     ]
    },
    {
     "name": "stdout",
     "output_type": "stream",
     "text": [
      "[0]\tvalidation_0-logloss:0.43877\n",
      "Will train until validation_0-logloss hasn't improved in 100 rounds.\n",
      "[100]\tvalidation_0-logloss:0.01154\n",
      "Stopping. Best iteration:\n",
      "[21]\tvalidation_0-logloss:0.00882\n",
      "\n"
     ]
    },
    {
     "name": "stderr",
     "output_type": "stream",
     "text": [
      " 88%|████████▊ | 182/206 [04:33<00:34,  1.45s/it]"
     ]
    },
    {
     "name": "stdout",
     "output_type": "stream",
     "text": [
      "[0]\tvalidation_0-logloss:0.44983\n",
      "Will train until validation_0-logloss hasn't improved in 100 rounds.\n",
      "[100]\tvalidation_0-logloss:0.10126\n",
      "Stopping. Best iteration:\n",
      "[12]\tvalidation_0-logloss:0.06622\n",
      "\n"
     ]
    },
    {
     "name": "stderr",
     "output_type": "stream",
     "text": [
      " 89%|████████▉ | 183/206 [04:35<00:38,  1.66s/it]"
     ]
    },
    {
     "name": "stdout",
     "output_type": "stream",
     "text": [
      "[0]\tvalidation_0-logloss:0.43860\n",
      "Will train until validation_0-logloss hasn't improved in 100 rounds.\n",
      "[100]\tvalidation_0-logloss:0.00846\n",
      "Stopping. Best iteration:\n",
      "[32]\tvalidation_0-logloss:0.00712\n",
      "\n"
     ]
    },
    {
     "name": "stderr",
     "output_type": "stream",
     "text": [
      " 89%|████████▉ | 184/206 [04:36<00:36,  1.65s/it]"
     ]
    },
    {
     "name": "stdout",
     "output_type": "stream",
     "text": [
      "[0]\tvalidation_0-logloss:0.44079\n",
      "Will train until validation_0-logloss hasn't improved in 100 rounds.\n",
      "[100]\tvalidation_0-logloss:0.01829\n",
      "Stopping. Best iteration:\n",
      "[20]\tvalidation_0-logloss:0.01510\n",
      "\n"
     ]
    },
    {
     "name": "stderr",
     "output_type": "stream",
     "text": [
      " 90%|████████▉ | 185/206 [04:38<00:34,  1.64s/it]"
     ]
    },
    {
     "name": "stdout",
     "output_type": "stream",
     "text": [
      "[0]\tvalidation_0-logloss:0.43787\n",
      "Will train until validation_0-logloss hasn't improved in 100 rounds.\n",
      "[100]\tvalidation_0-logloss:0.00316\n",
      "Stopping. Best iteration:\n",
      "[29]\tvalidation_0-logloss:0.00300\n",
      "\n"
     ]
    },
    {
     "name": "stderr",
     "output_type": "stream",
     "text": [
      " 90%|█████████ | 186/206 [04:39<00:29,  1.48s/it]"
     ]
    },
    {
     "name": "stdout",
     "output_type": "stream",
     "text": [
      "[0]\tvalidation_0-logloss:0.43847\n",
      "Will train until validation_0-logloss hasn't improved in 100 rounds.\n",
      "[100]\tvalidation_0-logloss:0.00707\n",
      "Stopping. Best iteration:\n",
      "[26]\tvalidation_0-logloss:0.00605\n",
      "\n"
     ]
    },
    {
     "name": "stderr",
     "output_type": "stream",
     "text": [
      " 91%|█████████ | 187/206 [04:40<00:27,  1.43s/it]"
     ]
    },
    {
     "name": "stdout",
     "output_type": "stream",
     "text": [
      "[0]\tvalidation_0-logloss:0.44040\n",
      "Will train until validation_0-logloss hasn't improved in 100 rounds.\n",
      "[100]\tvalidation_0-logloss:0.02846\n",
      "Stopping. Best iteration:\n",
      "[18]\tvalidation_0-logloss:0.01965\n",
      "\n"
     ]
    },
    {
     "name": "stderr",
     "output_type": "stream",
     "text": [
      " 91%|█████████▏| 188/206 [04:42<00:26,  1.46s/it]"
     ]
    },
    {
     "name": "stdout",
     "output_type": "stream",
     "text": [
      "[0]\tvalidation_0-logloss:0.43851\n",
      "Will train until validation_0-logloss hasn't improved in 100 rounds.\n",
      "[100]\tvalidation_0-logloss:0.00453\n",
      "Stopping. Best iteration:\n",
      "[24]\tvalidation_0-logloss:0.00378\n",
      "\n"
     ]
    },
    {
     "name": "stderr",
     "output_type": "stream",
     "text": [
      " 92%|█████████▏| 189/206 [04:43<00:23,  1.36s/it]"
     ]
    },
    {
     "name": "stdout",
     "output_type": "stream",
     "text": [
      "[0]\tvalidation_0-logloss:0.43847\n",
      "Will train until validation_0-logloss hasn't improved in 100 rounds.\n",
      "[100]\tvalidation_0-logloss:0.00893\n",
      "Stopping. Best iteration:\n",
      "[23]\tvalidation_0-logloss:0.00740\n",
      "\n"
     ]
    },
    {
     "name": "stderr",
     "output_type": "stream",
     "text": [
      " 92%|█████████▏| 190/206 [04:44<00:21,  1.33s/it]"
     ]
    },
    {
     "name": "stdout",
     "output_type": "stream",
     "text": [
      "[0]\tvalidation_0-logloss:0.43921\n",
      "Will train until validation_0-logloss hasn't improved in 100 rounds.\n",
      "[100]\tvalidation_0-logloss:0.01423\n",
      "Stopping. Best iteration:\n",
      "[19]\tvalidation_0-logloss:0.01093\n",
      "\n"
     ]
    },
    {
     "name": "stderr",
     "output_type": "stream",
     "text": [
      " 93%|█████████▎| 191/206 [04:46<00:20,  1.36s/it]"
     ]
    },
    {
     "name": "stdout",
     "output_type": "stream",
     "text": [
      "[0]\tvalidation_0-logloss:0.43888\n",
      "Will train until validation_0-logloss hasn't improved in 100 rounds.\n",
      "[100]\tvalidation_0-logloss:0.01270\n",
      "Stopping. Best iteration:\n",
      "[22]\tvalidation_0-logloss:0.00971\n",
      "\n"
     ]
    },
    {
     "name": "stderr",
     "output_type": "stream",
     "text": [
      " 93%|█████████▎| 192/206 [04:48<00:21,  1.50s/it]"
     ]
    },
    {
     "name": "stdout",
     "output_type": "stream",
     "text": [
      "[0]\tvalidation_0-logloss:0.43786\n",
      "Will train until validation_0-logloss hasn't improved in 100 rounds.\n",
      "[100]\tvalidation_0-logloss:0.00375\n",
      "Stopping. Best iteration:\n",
      "[25]\tvalidation_0-logloss:0.00311\n",
      "\n"
     ]
    },
    {
     "name": "stderr",
     "output_type": "stream",
     "text": [
      " 94%|█████████▎| 193/206 [04:49<00:18,  1.39s/it]"
     ]
    },
    {
     "name": "stdout",
     "output_type": "stream",
     "text": [
      "[0]\tvalidation_0-logloss:0.43933\n",
      "Will train until validation_0-logloss hasn't improved in 100 rounds.\n",
      "[100]\tvalidation_0-logloss:0.01803\n",
      "Stopping. Best iteration:\n",
      "[21]\tvalidation_0-logloss:0.01374\n",
      "\n"
     ]
    },
    {
     "name": "stderr",
     "output_type": "stream",
     "text": [
      " 94%|█████████▍| 194/206 [04:50<00:16,  1.39s/it]"
     ]
    },
    {
     "name": "stdout",
     "output_type": "stream",
     "text": [
      "[0]\tvalidation_0-logloss:0.44130\n",
      "Will train until validation_0-logloss hasn't improved in 100 rounds.\n",
      "[100]\tvalidation_0-logloss:0.02103\n",
      "Stopping. Best iteration:\n",
      "[20]\tvalidation_0-logloss:0.01754\n",
      "\n"
     ]
    },
    {
     "name": "stderr",
     "output_type": "stream",
     "text": [
      " 95%|█████████▍| 195/206 [04:52<00:15,  1.45s/it]"
     ]
    },
    {
     "name": "stdout",
     "output_type": "stream",
     "text": [
      "[0]\tvalidation_0-logloss:0.43844\n",
      "Will train until validation_0-logloss hasn't improved in 100 rounds.\n",
      "[100]\tvalidation_0-logloss:0.00981\n",
      "Stopping. Best iteration:\n",
      "[23]\tvalidation_0-logloss:0.00727\n",
      "\n"
     ]
    },
    {
     "name": "stderr",
     "output_type": "stream",
     "text": [
      " 95%|█████████▌| 196/206 [04:53<00:13,  1.38s/it]"
     ]
    },
    {
     "name": "stdout",
     "output_type": "stream",
     "text": [
      "[0]\tvalidation_0-logloss:0.43767\n",
      "Will train until validation_0-logloss hasn't improved in 100 rounds.\n",
      "[100]\tvalidation_0-logloss:0.00006\n",
      "Stopping. Best iteration:\n",
      "[53]\tvalidation_0-logloss:0.00006\n",
      "\n"
     ]
    },
    {
     "name": "stderr",
     "output_type": "stream",
     "text": [
      " 96%|█████████▌| 197/206 [04:54<00:11,  1.32s/it]"
     ]
    },
    {
     "name": "stdout",
     "output_type": "stream",
     "text": [
      "[0]\tvalidation_0-logloss:0.43877\n",
      "Will train until validation_0-logloss hasn't improved in 100 rounds.\n",
      "[100]\tvalidation_0-logloss:0.01108\n",
      "Stopping. Best iteration:\n",
      "[21]\tvalidation_0-logloss:0.00853\n",
      "\n"
     ]
    },
    {
     "name": "stderr",
     "output_type": "stream",
     "text": [
      " 96%|█████████▌| 198/206 [04:55<00:10,  1.30s/it]"
     ]
    },
    {
     "name": "stdout",
     "output_type": "stream",
     "text": [
      "[0]\tvalidation_0-logloss:0.43977\n",
      "Will train until validation_0-logloss hasn't improved in 100 rounds.\n",
      "[100]\tvalidation_0-logloss:0.02293\n",
      "Stopping. Best iteration:\n",
      "[18]\tvalidation_0-logloss:0.01639\n",
      "\n"
     ]
    },
    {
     "name": "stderr",
     "output_type": "stream",
     "text": [
      " 97%|█████████▋| 199/206 [04:57<00:09,  1.35s/it]"
     ]
    },
    {
     "name": "stdout",
     "output_type": "stream",
     "text": [
      "[0]\tvalidation_0-logloss:0.44497\n",
      "Will train until validation_0-logloss hasn't improved in 100 rounds.\n",
      "[100]\tvalidation_0-logloss:0.02835\n",
      "Stopping. Best iteration:\n",
      "[19]\tvalidation_0-logloss:0.02573\n",
      "\n"
     ]
    },
    {
     "name": "stderr",
     "output_type": "stream",
     "text": [
      " 97%|█████████▋| 200/206 [04:59<00:08,  1.48s/it]"
     ]
    },
    {
     "name": "stdout",
     "output_type": "stream",
     "text": [
      "[0]\tvalidation_0-logloss:0.44103\n",
      "Will train until validation_0-logloss hasn't improved in 100 rounds.\n",
      "[100]\tvalidation_0-logloss:0.03246\n",
      "Stopping. Best iteration:\n",
      "[17]\tvalidation_0-logloss:0.02341\n",
      "\n"
     ]
    },
    {
     "name": "stderr",
     "output_type": "stream",
     "text": [
      " 98%|█████████▊| 201/206 [05:00<00:07,  1.50s/it]"
     ]
    },
    {
     "name": "stdout",
     "output_type": "stream",
     "text": [
      "[0]\tvalidation_0-logloss:0.43767\n",
      "Will train until validation_0-logloss hasn't improved in 100 rounds.\n",
      "[100]\tvalidation_0-logloss:0.00006\n",
      "Stopping. Best iteration:\n",
      "[62]\tvalidation_0-logloss:0.00006\n",
      "\n"
     ]
    },
    {
     "name": "stderr",
     "output_type": "stream",
     "text": [
      " 98%|█████████▊| 202/206 [05:01<00:05,  1.41s/it]"
     ]
    },
    {
     "name": "stdout",
     "output_type": "stream",
     "text": [
      "[0]\tvalidation_0-logloss:0.44444\n",
      "Will train until validation_0-logloss hasn't improved in 100 rounds.\n",
      "[100]\tvalidation_0-logloss:0.04566\n",
      "Stopping. Best iteration:\n",
      "[15]\tvalidation_0-logloss:0.03394\n",
      "\n"
     ]
    },
    {
     "name": "stderr",
     "output_type": "stream",
     "text": [
      " 99%|█████████▊| 203/206 [05:03<00:04,  1.52s/it]"
     ]
    },
    {
     "name": "stdout",
     "output_type": "stream",
     "text": [
      "[0]\tvalidation_0-logloss:0.43879\n",
      "Will train until validation_0-logloss hasn't improved in 100 rounds.\n",
      "[100]\tvalidation_0-logloss:0.01321\n",
      "Stopping. Best iteration:\n",
      "[23]\tvalidation_0-logloss:0.01023\n",
      "\n"
     ]
    },
    {
     "name": "stderr",
     "output_type": "stream",
     "text": [
      " 99%|█████████▉| 204/206 [05:04<00:02,  1.46s/it]"
     ]
    },
    {
     "name": "stdout",
     "output_type": "stream",
     "text": [
      "[0]\tvalidation_0-logloss:0.43926\n",
      "Will train until validation_0-logloss hasn't improved in 100 rounds.\n",
      "[100]\tvalidation_0-logloss:0.00676\n",
      "Stopping. Best iteration:\n",
      "[23]\tvalidation_0-logloss:0.00547\n",
      "\n"
     ]
    },
    {
     "name": "stderr",
     "output_type": "stream",
     "text": [
      "100%|█████████▉| 205/206 [05:06<00:01,  1.41s/it]"
     ]
    },
    {
     "name": "stdout",
     "output_type": "stream",
     "text": [
      "[0]\tvalidation_0-logloss:0.43905\n",
      "Will train until validation_0-logloss hasn't improved in 100 rounds.\n",
      "[100]\tvalidation_0-logloss:0.01562\n",
      "Stopping. Best iteration:\n",
      "[21]\tvalidation_0-logloss:0.01157\n",
      "\n"
     ]
    },
    {
     "name": "stderr",
     "output_type": "stream",
     "text": [
      "100%|██████████| 206/206 [05:07<00:00,  1.49s/it]\n"
     ]
    },
    {
     "name": "stdout",
     "output_type": "stream",
     "text": [
      "     fun: 0.01586615155919355\n",
      "     jac: array([9.05075576e-05, 8.86078924e-05, 1.58751779e-03])\n",
      " message: 'Optimization terminated successfully.'\n",
      "    nfev: 76\n",
      "     nit: 15\n",
      "    njev: 15\n",
      "  status: 0\n",
      " success: True\n",
      "       x: array([9.18144430e-01, 8.18555700e-02, 2.57498016e-17])\n",
      "0.01590451315045357 0.015877779263568297 0.016583384123530543 0.02221470466661905 0.015866151556941252\n"
     ]
    },
    {
     "name": "stderr",
     "output_type": "stream",
     "text": [
      "100%|██████████| 32/32 [00:00<00:00, 536.03it/s]"
     ]
    },
    {
     "name": "stdout",
     "output_type": "stream",
     "text": [
      "auc 0.9076435160924243\n"
     ]
    },
    {
     "name": "stderr",
     "output_type": "stream",
     "text": [
      "\n",
      "100%|██████████| 30/30 [00:35<00:00,  1.18s/it, train_loss=0.0178, valid_loss=0.0158]"
     ]
    },
    {
     "name": "stdout",
     "output_type": "stream",
     "text": [
      "Device used : cuda\n"
     ]
    },
    {
     "name": "stderr",
     "output_type": "stream",
     "text": [
      "\n"
     ]
    },
    {
     "name": "stdout",
     "output_type": "stream",
     "text": [
      "epoch 0  | loss: 0.1313  | val_logits_ll: 0.02243 |  0:00:02s\n",
      "epoch 10 | loss: 0.02111 | val_logits_ll: 0.02285 |  0:00:26s\n",
      "epoch 20 | loss: 0.02068 | val_logits_ll: 0.01741 |  0:00:51s\n",
      "epoch 30 | loss: 0.02052 | val_logits_ll: 0.01737 |  0:01:15s\n",
      "epoch 40 | loss: 0.02022 | val_logits_ll: 0.01756 |  0:01:40s\n",
      "epoch 50 | loss: 0.02015 | val_logits_ll: 0.01706 |  0:02:05s\n",
      "epoch 60 | loss: 0.01857 | val_logits_ll: 0.01666 |  0:02:30s\n",
      "epoch 70 | loss: 0.01804 | val_logits_ll: 0.01676 |  0:02:55s\n",
      "epoch 80 | loss: 0.01795 | val_logits_ll: 0.01677 |  0:03:20s\n",
      "\n",
      "Early stopping occured at epoch 80 with best_epoch = 60 and best_val_logits_ll = 0.01666\n",
      "Best weights from best epoch are automatically used!\n"
     ]
    },
    {
     "name": "stderr",
     "output_type": "stream",
     "text": [
      "  0%|          | 0/206 [00:00<?, ?it/s]"
     ]
    },
    {
     "name": "stdout",
     "output_type": "stream",
     "text": [
      "[0]\tvalidation_0-logloss:0.43825\n",
      "Will train until validation_0-logloss hasn't improved in 100 rounds.\n",
      "[100]\tvalidation_0-logloss:0.00609\n",
      "Stopping. Best iteration:\n",
      "[25]\tvalidation_0-logloss:0.00530\n",
      "\n"
     ]
    },
    {
     "name": "stderr",
     "output_type": "stream",
     "text": [
      "  0%|          | 1/206 [00:01<04:34,  1.34s/it]"
     ]
    },
    {
     "name": "stdout",
     "output_type": "stream",
     "text": [
      "[0]\tvalidation_0-logloss:0.43844\n",
      "Will train until validation_0-logloss hasn't improved in 100 rounds.\n",
      "[100]\tvalidation_0-logloss:0.01069\n",
      "Stopping. Best iteration:\n",
      "[21]\tvalidation_0-logloss:0.00769\n",
      "\n"
     ]
    },
    {
     "name": "stderr",
     "output_type": "stream",
     "text": [
      "  1%|          | 2/206 [00:02<04:24,  1.30s/it]"
     ]
    },
    {
     "name": "stdout",
     "output_type": "stream",
     "text": [
      "[0]\tvalidation_0-logloss:0.43875\n",
      "Will train until validation_0-logloss hasn't improved in 100 rounds.\n",
      "[100]\tvalidation_0-logloss:0.01444\n",
      "Stopping. Best iteration:\n",
      "[20]\tvalidation_0-logloss:0.01013\n",
      "\n"
     ]
    },
    {
     "name": "stderr",
     "output_type": "stream",
     "text": [
      "  1%|▏         | 3/206 [00:03<04:23,  1.30s/it]"
     ]
    },
    {
     "name": "stdout",
     "output_type": "stream",
     "text": [
      "[0]\tvalidation_0-logloss:0.44657\n",
      "Will train until validation_0-logloss hasn't improved in 100 rounds.\n",
      "[100]\tvalidation_0-logloss:0.07227\n",
      "Stopping. Best iteration:\n",
      "[19]\tvalidation_0-logloss:0.04901\n",
      "\n"
     ]
    },
    {
     "name": "stderr",
     "output_type": "stream",
     "text": [
      "  2%|▏         | 4/206 [00:05<05:02,  1.50s/it]"
     ]
    },
    {
     "name": "stdout",
     "output_type": "stream",
     "text": [
      "[0]\tvalidation_0-logloss:0.45163\n",
      "Will train until validation_0-logloss hasn't improved in 100 rounds.\n",
      "[100]\tvalidation_0-logloss:0.11847\n",
      "Stopping. Best iteration:\n",
      "[13]\tvalidation_0-logloss:0.07225\n",
      "\n"
     ]
    },
    {
     "name": "stderr",
     "output_type": "stream",
     "text": [
      "  2%|▏         | 5/206 [00:08<05:43,  1.71s/it]"
     ]
    },
    {
     "name": "stdout",
     "output_type": "stream",
     "text": [
      "[0]\tvalidation_0-logloss:0.44103\n",
      "Will train until validation_0-logloss hasn't improved in 100 rounds.\n",
      "[100]\tvalidation_0-logloss:0.03421\n",
      "Stopping. Best iteration:\n",
      "[19]\tvalidation_0-logloss:0.02334\n",
      "\n"
     ]
    },
    {
     "name": "stderr",
     "output_type": "stream",
     "text": [
      "  3%|▎         | 6/206 [00:09<05:41,  1.71s/it]"
     ]
    },
    {
     "name": "stdout",
     "output_type": "stream",
     "text": [
      "[0]\tvalidation_0-logloss:0.44010\n",
      "Will train until validation_0-logloss hasn't improved in 100 rounds.\n",
      "[100]\tvalidation_0-logloss:0.02551\n",
      "Stopping. Best iteration:\n",
      "[18]\tvalidation_0-logloss:0.01844\n",
      "\n"
     ]
    },
    {
     "name": "stderr",
     "output_type": "stream",
     "text": [
      "  3%|▎         | 7/206 [00:11<05:31,  1.67s/it]"
     ]
    },
    {
     "name": "stdout",
     "output_type": "stream",
     "text": [
      "[0]\tvalidation_0-logloss:0.44204\n",
      "Will train until validation_0-logloss hasn't improved in 100 rounds.\n",
      "[100]\tvalidation_0-logloss:0.03778\n",
      "Stopping. Best iteration:\n",
      "[20]\tvalidation_0-logloss:0.02700\n",
      "\n"
     ]
    },
    {
     "name": "stderr",
     "output_type": "stream",
     "text": [
      "  4%|▍         | 8/206 [00:12<05:32,  1.68s/it]"
     ]
    },
    {
     "name": "stdout",
     "output_type": "stream",
     "text": [
      "[0]\tvalidation_0-logloss:0.43797\n",
      "Will train until validation_0-logloss hasn't improved in 100 rounds.\n",
      "[100]\tvalidation_0-logloss:0.00094\n",
      "Stopping. Best iteration:\n",
      "[34]\tvalidation_0-logloss:0.00076\n",
      "\n"
     ]
    },
    {
     "name": "stderr",
     "output_type": "stream",
     "text": [
      "  4%|▍         | 9/206 [00:14<04:59,  1.52s/it]"
     ]
    },
    {
     "name": "stdout",
     "output_type": "stream",
     "text": [
      "[0]\tvalidation_0-logloss:0.44989\n",
      "Will train until validation_0-logloss hasn't improved in 100 rounds.\n",
      "[100]\tvalidation_0-logloss:0.09275\n",
      "Stopping. Best iteration:\n",
      "[18]\tvalidation_0-logloss:0.06132\n",
      "\n"
     ]
    },
    {
     "name": "stderr",
     "output_type": "stream",
     "text": [
      "  5%|▍         | 10/206 [00:16<05:37,  1.72s/it]"
     ]
    },
    {
     "name": "stdout",
     "output_type": "stream",
     "text": [
      "[0]\tvalidation_0-logloss:0.45417\n",
      "Will train until validation_0-logloss hasn't improved in 100 rounds.\n",
      "[100]\tvalidation_0-logloss:0.12656\n",
      "Stopping. Best iteration:\n",
      "[14]\tvalidation_0-logloss:0.08277\n",
      "\n"
     ]
    },
    {
     "name": "stderr",
     "output_type": "stream",
     "text": [
      "  5%|▌         | 11/206 [00:18<06:06,  1.88s/it]"
     ]
    },
    {
     "name": "stdout",
     "output_type": "stream",
     "text": [
      "[0]\tvalidation_0-logloss:0.44051\n",
      "Will train until validation_0-logloss hasn't improved in 100 rounds.\n",
      "[100]\tvalidation_0-logloss:0.02261\n",
      "Stopping. Best iteration:\n",
      "[19]\tvalidation_0-logloss:0.01746\n",
      "\n"
     ]
    },
    {
     "name": "stderr",
     "output_type": "stream",
     "text": [
      "  6%|▌         | 12/206 [00:20<05:42,  1.76s/it]"
     ]
    },
    {
     "name": "stdout",
     "output_type": "stream",
     "text": [
      "[0]\tvalidation_0-logloss:0.43786\n",
      "Will train until validation_0-logloss hasn't improved in 100 rounds.\n",
      "[100]\tvalidation_0-logloss:0.00088\n",
      "Stopping. Best iteration:\n",
      "[35]\tvalidation_0-logloss:0.00085\n",
      "\n"
     ]
    },
    {
     "name": "stderr",
     "output_type": "stream",
     "text": [
      "  6%|▋         | 13/206 [00:21<05:01,  1.56s/it]"
     ]
    },
    {
     "name": "stdout",
     "output_type": "stream",
     "text": [
      "[0]\tvalidation_0-logloss:0.43949\n",
      "Will train until validation_0-logloss hasn't improved in 100 rounds.\n",
      "[100]\tvalidation_0-logloss:0.01529\n",
      "Stopping. Best iteration:\n",
      "[20]\tvalidation_0-logloss:0.01221\n",
      "\n"
     ]
    },
    {
     "name": "stderr",
     "output_type": "stream",
     "text": [
      "  7%|▋         | 14/206 [00:22<04:55,  1.54s/it]"
     ]
    },
    {
     "name": "stdout",
     "output_type": "stream",
     "text": [
      "[0]\tvalidation_0-logloss:0.43814\n",
      "Will train until validation_0-logloss hasn't improved in 100 rounds.\n",
      "[100]\tvalidation_0-logloss:0.00649\n",
      "Stopping. Best iteration:\n",
      "[24]\tvalidation_0-logloss:0.00502\n",
      "\n"
     ]
    },
    {
     "name": "stderr",
     "output_type": "stream",
     "text": [
      "  7%|▋         | 15/206 [00:23<04:32,  1.43s/it]"
     ]
    },
    {
     "name": "stdout",
     "output_type": "stream",
     "text": [
      "[0]\tvalidation_0-logloss:0.43814\n",
      "Will train until validation_0-logloss hasn't improved in 100 rounds.\n",
      "[100]\tvalidation_0-logloss:0.00581\n",
      "Stopping. Best iteration:\n",
      "[25]\tvalidation_0-logloss:0.00513\n",
      "\n"
     ]
    },
    {
     "name": "stderr",
     "output_type": "stream",
     "text": [
      "  8%|▊         | 16/206 [00:24<04:16,  1.35s/it]"
     ]
    },
    {
     "name": "stdout",
     "output_type": "stream",
     "text": [
      "[0]\tvalidation_0-logloss:0.43979\n",
      "Will train until validation_0-logloss hasn't improved in 100 rounds.\n",
      "[100]\tvalidation_0-logloss:0.02114\n",
      "Stopping. Best iteration:\n",
      "[22]\tvalidation_0-logloss:0.01545\n",
      "\n"
     ]
    },
    {
     "name": "stderr",
     "output_type": "stream",
     "text": [
      "  8%|▊         | 17/206 [00:26<04:21,  1.39s/it]"
     ]
    },
    {
     "name": "stdout",
     "output_type": "stream",
     "text": [
      "[0]\tvalidation_0-logloss:0.44187\n",
      "Will train until validation_0-logloss hasn't improved in 100 rounds.\n",
      "[100]\tvalidation_0-logloss:0.04036\n",
      "Stopping. Best iteration:\n",
      "[16]\tvalidation_0-logloss:0.02772\n",
      "\n"
     ]
    },
    {
     "name": "stderr",
     "output_type": "stream",
     "text": [
      "  9%|▊         | 18/206 [00:28<04:44,  1.51s/it]"
     ]
    },
    {
     "name": "stdout",
     "output_type": "stream",
     "text": [
      "[0]\tvalidation_0-logloss:0.44118\n",
      "Will train until validation_0-logloss hasn't improved in 100 rounds.\n",
      "[100]\tvalidation_0-logloss:0.03494\n",
      "Stopping. Best iteration:\n",
      "[17]\tvalidation_0-logloss:0.02301\n",
      "\n"
     ]
    },
    {
     "name": "stderr",
     "output_type": "stream",
     "text": [
      "  9%|▉         | 19/206 [00:29<04:50,  1.55s/it]"
     ]
    },
    {
     "name": "stdout",
     "output_type": "stream",
     "text": [
      "[0]\tvalidation_0-logloss:0.43919\n",
      "Will train until validation_0-logloss hasn't improved in 100 rounds.\n",
      "[100]\tvalidation_0-logloss:0.01573\n",
      "Stopping. Best iteration:\n",
      "[25]\tvalidation_0-logloss:0.01194\n",
      "\n"
     ]
    },
    {
     "name": "stderr",
     "output_type": "stream",
     "text": [
      " 10%|▉         | 20/206 [00:31<04:40,  1.51s/it]"
     ]
    },
    {
     "name": "stdout",
     "output_type": "stream",
     "text": [
      "[0]\tvalidation_0-logloss:0.43921\n",
      "Will train until validation_0-logloss hasn't improved in 100 rounds.\n",
      "[100]\tvalidation_0-logloss:0.01596\n",
      "Stopping. Best iteration:\n",
      "[20]\tvalidation_0-logloss:0.01233\n",
      "\n"
     ]
    },
    {
     "name": "stderr",
     "output_type": "stream",
     "text": [
      " 10%|█         | 21/206 [00:32<04:33,  1.48s/it]"
     ]
    },
    {
     "name": "stdout",
     "output_type": "stream",
     "text": [
      "[0]\tvalidation_0-logloss:0.44086\n",
      "Will train until validation_0-logloss hasn't improved in 100 rounds.\n",
      "[100]\tvalidation_0-logloss:0.02796\n",
      "Stopping. Best iteration:\n",
      "[19]\tvalidation_0-logloss:0.02055\n",
      "\n"
     ]
    },
    {
     "name": "stderr",
     "output_type": "stream",
     "text": [
      " 11%|█         | 22/206 [00:34<04:45,  1.55s/it]"
     ]
    },
    {
     "name": "stdout",
     "output_type": "stream",
     "text": [
      "[0]\tvalidation_0-logloss:0.43784\n",
      "Will train until validation_0-logloss hasn't improved in 100 rounds.\n",
      "[100]\tvalidation_0-logloss:0.00366\n",
      "Stopping. Best iteration:\n",
      "[25]\tvalidation_0-logloss:0.00301\n",
      "\n"
     ]
    },
    {
     "name": "stderr",
     "output_type": "stream",
     "text": [
      " 11%|█         | 23/206 [00:35<04:18,  1.41s/it]"
     ]
    },
    {
     "name": "stdout",
     "output_type": "stream",
     "text": [
      "[0]\tvalidation_0-logloss:0.43951\n",
      "Will train until validation_0-logloss hasn't improved in 100 rounds.\n",
      "[100]\tvalidation_0-logloss:0.01654\n",
      "Stopping. Best iteration:\n",
      "[19]\tvalidation_0-logloss:0.01373\n",
      "\n"
     ]
    },
    {
     "name": "stderr",
     "output_type": "stream",
     "text": [
      " 12%|█▏        | 24/206 [00:36<04:16,  1.41s/it]"
     ]
    },
    {
     "name": "stdout",
     "output_type": "stream",
     "text": [
      "[0]\tvalidation_0-logloss:0.43814\n",
      "Will train until validation_0-logloss hasn't improved in 100 rounds.\n",
      "[100]\tvalidation_0-logloss:0.00667\n",
      "Stopping. Best iteration:\n",
      "[22]\tvalidation_0-logloss:0.00543\n",
      "\n"
     ]
    },
    {
     "name": "stderr",
     "output_type": "stream",
     "text": [
      " 12%|█▏        | 25/206 [00:38<04:02,  1.34s/it]"
     ]
    },
    {
     "name": "stdout",
     "output_type": "stream",
     "text": [
      "[0]\tvalidation_0-logloss:0.43816\n",
      "Will train until validation_0-logloss hasn't improved in 100 rounds.\n",
      "[100]\tvalidation_0-logloss:0.00534\n",
      "Stopping. Best iteration:\n",
      "[26]\tvalidation_0-logloss:0.00510\n",
      "\n"
     ]
    },
    {
     "name": "stderr",
     "output_type": "stream",
     "text": [
      " 13%|█▎        | 26/206 [00:39<03:52,  1.29s/it]"
     ]
    },
    {
     "name": "stdout",
     "output_type": "stream",
     "text": [
      "[0]\tvalidation_0-logloss:0.43814\n",
      "Will train until validation_0-logloss hasn't improved in 100 rounds.\n",
      "[100]\tvalidation_0-logloss:0.00608\n",
      "Stopping. Best iteration:\n",
      "[23]\tvalidation_0-logloss:0.00517\n",
      "\n"
     ]
    },
    {
     "name": "stderr",
     "output_type": "stream",
     "text": [
      " 13%|█▎        | 27/206 [00:40<03:44,  1.25s/it]"
     ]
    },
    {
     "name": "stdout",
     "output_type": "stream",
     "text": [
      "[0]\tvalidation_0-logloss:0.43844\n",
      "Will train until validation_0-logloss hasn't improved in 100 rounds.\n",
      "[100]\tvalidation_0-logloss:0.00978\n",
      "Stopping. Best iteration:\n",
      "[21]\tvalidation_0-logloss:0.00775\n",
      "\n"
     ]
    },
    {
     "name": "stderr",
     "output_type": "stream",
     "text": [
      " 14%|█▎        | 28/206 [00:41<03:48,  1.29s/it]"
     ]
    },
    {
     "name": "stdout",
     "output_type": "stream",
     "text": [
      "[0]\tvalidation_0-logloss:0.44086\n",
      "Will train until validation_0-logloss hasn't improved in 100 rounds.\n",
      "[100]\tvalidation_0-logloss:0.02936\n",
      "Stopping. Best iteration:\n",
      "[20]\tvalidation_0-logloss:0.02132\n",
      "\n"
     ]
    },
    {
     "name": "stderr",
     "output_type": "stream",
     "text": [
      " 14%|█▍        | 29/206 [00:43<04:09,  1.41s/it]"
     ]
    },
    {
     "name": "stdout",
     "output_type": "stream",
     "text": [
      "[0]\tvalidation_0-logloss:0.43919\n",
      "Will train until validation_0-logloss hasn't improved in 100 rounds.\n",
      "[100]\tvalidation_0-logloss:0.01570\n",
      "Stopping. Best iteration:\n",
      "[20]\tvalidation_0-logloss:0.01090\n",
      "\n"
     ]
    },
    {
     "name": "stderr",
     "output_type": "stream",
     "text": [
      " 15%|█▍        | 30/206 [00:44<04:09,  1.42s/it]"
     ]
    },
    {
     "name": "stdout",
     "output_type": "stream",
     "text": [
      "[0]\tvalidation_0-logloss:0.43856\n",
      "Will train until validation_0-logloss hasn't improved in 100 rounds.\n",
      "[100]\tvalidation_0-logloss:0.00931\n",
      "Stopping. Best iteration:\n",
      "[25]\tvalidation_0-logloss:0.00737\n",
      "\n"
     ]
    },
    {
     "name": "stderr",
     "output_type": "stream",
     "text": [
      " 15%|█▌        | 31/206 [00:46<03:59,  1.37s/it]"
     ]
    },
    {
     "name": "stdout",
     "output_type": "stream",
     "text": [
      "[0]\tvalidation_0-logloss:0.43982\n",
      "Will train until validation_0-logloss hasn't improved in 100 rounds.\n",
      "[100]\tvalidation_0-logloss:0.01946\n",
      "Stopping. Best iteration:\n",
      "[20]\tvalidation_0-logloss:0.01505\n",
      "\n"
     ]
    },
    {
     "name": "stderr",
     "output_type": "stream",
     "text": [
      " 16%|█▌        | 32/206 [00:47<04:06,  1.42s/it]"
     ]
    },
    {
     "name": "stdout",
     "output_type": "stream",
     "text": [
      "[0]\tvalidation_0-logloss:0.43977\n",
      "Will train until validation_0-logloss hasn't improved in 100 rounds.\n",
      "[100]\tvalidation_0-logloss:0.02033\n",
      "Stopping. Best iteration:\n",
      "[19]\tvalidation_0-logloss:0.01555\n",
      "\n"
     ]
    },
    {
     "name": "stderr",
     "output_type": "stream",
     "text": [
      " 16%|█▌        | 33/206 [00:49<04:10,  1.45s/it]"
     ]
    },
    {
     "name": "stdout",
     "output_type": "stream",
     "text": [
      "[0]\tvalidation_0-logloss:0.43784\n",
      "Will train until validation_0-logloss hasn't improved in 100 rounds.\n",
      "[100]\tvalidation_0-logloss:0.00226\n",
      "Stopping. Best iteration:\n",
      "[40]\tvalidation_0-logloss:0.00222\n",
      "\n"
     ]
    },
    {
     "name": "stderr",
     "output_type": "stream",
     "text": [
      " 17%|█▋        | 34/206 [00:50<03:52,  1.35s/it]"
     ]
    },
    {
     "name": "stdout",
     "output_type": "stream",
     "text": [
      "[0]\tvalidation_0-logloss:0.43756\n",
      "Will train until validation_0-logloss hasn't improved in 100 rounds.\n",
      "[100]\tvalidation_0-logloss:0.00005\n",
      "Stopping. Best iteration:\n",
      "[56]\tvalidation_0-logloss:0.00005\n",
      "\n"
     ]
    },
    {
     "name": "stderr",
     "output_type": "stream",
     "text": [
      " 17%|█▋        | 35/206 [00:51<03:37,  1.27s/it]"
     ]
    },
    {
     "name": "stdout",
     "output_type": "stream",
     "text": [
      "[0]\tvalidation_0-logloss:0.43814\n",
      "Will train until validation_0-logloss hasn't improved in 100 rounds.\n",
      "[100]\tvalidation_0-logloss:0.00239\n",
      "Stopping. Best iteration:\n",
      "[35]\tvalidation_0-logloss:0.00225\n",
      "\n"
     ]
    },
    {
     "name": "stderr",
     "output_type": "stream",
     "text": [
      " 17%|█▋        | 36/206 [00:52<03:26,  1.22s/it]"
     ]
    },
    {
     "name": "stdout",
     "output_type": "stream",
     "text": [
      "[0]\tvalidation_0-logloss:0.44133\n",
      "Will train until validation_0-logloss hasn't improved in 100 rounds.\n",
      "[100]\tvalidation_0-logloss:0.03286\n",
      "Stopping. Best iteration:\n",
      "[19]\tvalidation_0-logloss:0.02449\n",
      "\n"
     ]
    },
    {
     "name": "stderr",
     "output_type": "stream",
     "text": [
      " 18%|█▊        | 37/206 [00:54<03:46,  1.34s/it]"
     ]
    },
    {
     "name": "stdout",
     "output_type": "stream",
     "text": [
      "[0]\tvalidation_0-logloss:0.43847\n",
      "Will train until validation_0-logloss hasn't improved in 100 rounds.\n",
      "[100]\tvalidation_0-logloss:0.00580\n",
      "Stopping. Best iteration:\n",
      "[31]\tvalidation_0-logloss:0.00495\n",
      "\n"
     ]
    },
    {
     "name": "stderr",
     "output_type": "stream",
     "text": [
      " 18%|█▊        | 38/206 [00:55<03:40,  1.32s/it]"
     ]
    },
    {
     "name": "stdout",
     "output_type": "stream",
     "text": [
      "[0]\tvalidation_0-logloss:0.44191\n",
      "Will train until validation_0-logloss hasn't improved in 100 rounds.\n",
      "[100]\tvalidation_0-logloss:0.01813\n",
      "Stopping. Best iteration:\n",
      "[22]\tvalidation_0-logloss:0.01529\n",
      "\n"
     ]
    },
    {
     "name": "stderr",
     "output_type": "stream",
     "text": [
      " 19%|█▉        | 39/206 [00:56<03:50,  1.38s/it]"
     ]
    },
    {
     "name": "stdout",
     "output_type": "stream",
     "text": [
      "[0]\tvalidation_0-logloss:0.43784\n",
      "Will train until validation_0-logloss hasn't improved in 100 rounds.\n",
      "[100]\tvalidation_0-logloss:0.00287\n",
      "Stopping. Best iteration:\n",
      "[27]\tvalidation_0-logloss:0.00251\n",
      "\n"
     ]
    },
    {
     "name": "stderr",
     "output_type": "stream",
     "text": [
      " 19%|█▉        | 40/206 [00:58<03:34,  1.29s/it]"
     ]
    },
    {
     "name": "stdout",
     "output_type": "stream",
     "text": [
      "[0]\tvalidation_0-logloss:0.44023\n",
      "Will train until validation_0-logloss hasn't improved in 100 rounds.\n",
      "[100]\tvalidation_0-logloss:0.02378\n",
      "Stopping. Best iteration:\n",
      "[21]\tvalidation_0-logloss:0.01746\n",
      "\n"
     ]
    },
    {
     "name": "stderr",
     "output_type": "stream",
     "text": [
      " 20%|█▉        | 41/206 [00:59<03:45,  1.37s/it]"
     ]
    },
    {
     "name": "stdout",
     "output_type": "stream",
     "text": [
      "[0]\tvalidation_0-logloss:0.44118\n",
      "Will train until validation_0-logloss hasn't improved in 100 rounds.\n",
      "[100]\tvalidation_0-logloss:0.03025\n",
      "Stopping. Best iteration:\n",
      "[22]\tvalidation_0-logloss:0.02244\n",
      "\n"
     ]
    },
    {
     "name": "stderr",
     "output_type": "stream",
     "text": [
      " 20%|██        | 42/206 [01:01<03:54,  1.43s/it]"
     ]
    },
    {
     "name": "stdout",
     "output_type": "stream",
     "text": [
      "[0]\tvalidation_0-logloss:0.43919\n",
      "Will train until validation_0-logloss hasn't improved in 100 rounds.\n",
      "[100]\tvalidation_0-logloss:0.01535\n",
      "Stopping. Best iteration:\n",
      "[20]\tvalidation_0-logloss:0.01147\n",
      "\n"
     ]
    },
    {
     "name": "stderr",
     "output_type": "stream",
     "text": [
      " 21%|██        | 43/206 [01:02<03:50,  1.42s/it]"
     ]
    },
    {
     "name": "stdout",
     "output_type": "stream",
     "text": [
      "[0]\tvalidation_0-logloss:0.44651\n",
      "Will train until validation_0-logloss hasn't improved in 100 rounds.\n",
      "[100]\tvalidation_0-logloss:0.08009\n",
      "Stopping. Best iteration:\n",
      "[16]\tvalidation_0-logloss:0.05176\n",
      "\n"
     ]
    },
    {
     "name": "stderr",
     "output_type": "stream",
     "text": [
      " 21%|██▏       | 44/206 [01:04<04:14,  1.57s/it]"
     ]
    },
    {
     "name": "stdout",
     "output_type": "stream",
     "text": [
      "[0]\tvalidation_0-logloss:0.44176\n",
      "Will train until validation_0-logloss hasn't improved in 100 rounds.\n",
      "[100]\tvalidation_0-logloss:0.03959\n",
      "Stopping. Best iteration:\n",
      "[20]\tvalidation_0-logloss:0.02700\n",
      "\n"
     ]
    },
    {
     "name": "stderr",
     "output_type": "stream",
     "text": [
      " 22%|██▏       | 45/206 [01:06<04:15,  1.59s/it]"
     ]
    },
    {
     "name": "stdout",
     "output_type": "stream",
     "text": [
      "[0]\tvalidation_0-logloss:0.44297\n",
      "Will train until validation_0-logloss hasn't improved in 100 rounds.\n",
      "[100]\tvalidation_0-logloss:0.05118\n",
      "Stopping. Best iteration:\n",
      "[16]\tvalidation_0-logloss:0.03403\n",
      "\n"
     ]
    },
    {
     "name": "stderr",
     "output_type": "stream",
     "text": [
      " 22%|██▏       | 46/206 [01:07<04:22,  1.64s/it]"
     ]
    },
    {
     "name": "stdout",
     "output_type": "stream",
     "text": [
      "[0]\tvalidation_0-logloss:0.43786\n",
      "Will train until validation_0-logloss hasn't improved in 100 rounds.\n",
      "[100]\tvalidation_0-logloss:0.00119\n",
      "Stopping. Best iteration:\n",
      "[33]\tvalidation_0-logloss:0.00107\n",
      "\n"
     ]
    },
    {
     "name": "stderr",
     "output_type": "stream",
     "text": [
      " 23%|██▎       | 47/206 [01:08<03:54,  1.48s/it]"
     ]
    },
    {
     "name": "stdout",
     "output_type": "stream",
     "text": [
      "[0]\tvalidation_0-logloss:0.43891\n",
      "Will train until validation_0-logloss hasn't improved in 100 rounds.\n",
      "[100]\tvalidation_0-logloss:0.01095\n",
      "Stopping. Best iteration:\n",
      "[25]\tvalidation_0-logloss:0.00898\n",
      "\n"
     ]
    },
    {
     "name": "stderr",
     "output_type": "stream",
     "text": [
      " 23%|██▎       | 48/206 [01:10<03:45,  1.43s/it]"
     ]
    },
    {
     "name": "stdout",
     "output_type": "stream",
     "text": [
      "[0]\tvalidation_0-logloss:0.43955\n",
      "Will train until validation_0-logloss hasn't improved in 100 rounds.\n",
      "[100]\tvalidation_0-logloss:0.01322\n",
      "Stopping. Best iteration:\n",
      "[20]\tvalidation_0-logloss:0.01081\n",
      "\n"
     ]
    },
    {
     "name": "stderr",
     "output_type": "stream",
     "text": [
      " 24%|██▍       | 49/206 [01:11<03:40,  1.41s/it]"
     ]
    },
    {
     "name": "stdout",
     "output_type": "stream",
     "text": [
      "[0]\tvalidation_0-logloss:0.44072\n",
      "Will train until validation_0-logloss hasn't improved in 100 rounds.\n",
      "[100]\tvalidation_0-logloss:0.03078\n",
      "Stopping. Best iteration:\n",
      "[21]\tvalidation_0-logloss:0.02102\n",
      "\n"
     ]
    },
    {
     "name": "stderr",
     "output_type": "stream",
     "text": [
      " 24%|██▍       | 50/206 [01:13<03:46,  1.45s/it]"
     ]
    },
    {
     "name": "stdout",
     "output_type": "stream",
     "text": [
      "[0]\tvalidation_0-logloss:0.43875\n",
      "Will train until validation_0-logloss hasn't improved in 100 rounds.\n",
      "[100]\tvalidation_0-logloss:0.01420\n",
      "Stopping. Best iteration:\n",
      "[20]\tvalidation_0-logloss:0.01020\n",
      "\n"
     ]
    },
    {
     "name": "stderr",
     "output_type": "stream",
     "text": [
      " 25%|██▍       | 51/206 [01:14<03:44,  1.45s/it]"
     ]
    },
    {
     "name": "stdout",
     "output_type": "stream",
     "text": [
      "[0]\tvalidation_0-logloss:0.44019\n",
      "Will train until validation_0-logloss hasn't improved in 100 rounds.\n",
      "[100]\tvalidation_0-logloss:0.02049\n",
      "Stopping. Best iteration:\n",
      "[22]\tvalidation_0-logloss:0.01596\n",
      "\n"
     ]
    },
    {
     "name": "stderr",
     "output_type": "stream",
     "text": [
      " 25%|██▌       | 52/206 [01:16<03:47,  1.48s/it]"
     ]
    },
    {
     "name": "stdout",
     "output_type": "stream",
     "text": [
      "[0]\tvalidation_0-logloss:0.43886\n",
      "Will train until validation_0-logloss hasn't improved in 100 rounds.\n",
      "[100]\tvalidation_0-logloss:0.01175\n",
      "Stopping. Best iteration:\n",
      "[23]\tvalidation_0-logloss:0.00969\n",
      "\n"
     ]
    },
    {
     "name": "stderr",
     "output_type": "stream",
     "text": [
      " 26%|██▌       | 53/206 [01:17<03:42,  1.45s/it]"
     ]
    },
    {
     "name": "stdout",
     "output_type": "stream",
     "text": [
      "[0]\tvalidation_0-logloss:0.43784\n",
      "Will train until validation_0-logloss hasn't improved in 100 rounds.\n",
      "[100]\tvalidation_0-logloss:0.00250\n",
      "Stopping. Best iteration:\n",
      "[35]\tvalidation_0-logloss:0.00227\n",
      "\n"
     ]
    },
    {
     "name": "stderr",
     "output_type": "stream",
     "text": [
      " 26%|██▌       | 54/206 [01:18<03:27,  1.37s/it]"
     ]
    },
    {
     "name": "stdout",
     "output_type": "stream",
     "text": [
      "[0]\tvalidation_0-logloss:0.45046\n",
      "Will train until validation_0-logloss hasn't improved in 100 rounds.\n",
      "[100]\tvalidation_0-logloss:0.10307\n",
      "Stopping. Best iteration:\n",
      "[16]\tvalidation_0-logloss:0.07091\n",
      "\n"
     ]
    },
    {
     "name": "stderr",
     "output_type": "stream",
     "text": [
      " 27%|██▋       | 55/206 [01:21<04:06,  1.64s/it]"
     ]
    },
    {
     "name": "stdout",
     "output_type": "stream",
     "text": [
      "[0]\tvalidation_0-logloss:0.43949\n",
      "Will train until validation_0-logloss hasn't improved in 100 rounds.\n",
      "[100]\tvalidation_0-logloss:0.02044\n",
      "Stopping. Best iteration:\n",
      "[21]\tvalidation_0-logloss:0.01425\n",
      "\n"
     ]
    },
    {
     "name": "stderr",
     "output_type": "stream",
     "text": [
      " 27%|██▋       | 56/206 [01:22<03:55,  1.57s/it]"
     ]
    },
    {
     "name": "stdout",
     "output_type": "stream",
     "text": [
      "[0]\tvalidation_0-logloss:0.44012\n",
      "Will train until validation_0-logloss hasn't improved in 100 rounds.\n",
      "[100]\tvalidation_0-logloss:0.02513\n",
      "Stopping. Best iteration:\n",
      "[21]\tvalidation_0-logloss:0.01830\n",
      "\n"
     ]
    },
    {
     "name": "stderr",
     "output_type": "stream",
     "text": [
      " 28%|██▊       | 57/206 [01:23<03:49,  1.54s/it]"
     ]
    },
    {
     "name": "stdout",
     "output_type": "stream",
     "text": [
      "[0]\tvalidation_0-logloss:0.43919\n",
      "Will train until validation_0-logloss hasn't improved in 100 rounds.\n",
      "[100]\tvalidation_0-logloss:0.01604\n",
      "Stopping. Best iteration:\n",
      "[22]\tvalidation_0-logloss:0.01225\n",
      "\n"
     ]
    },
    {
     "name": "stderr",
     "output_type": "stream",
     "text": [
      " 28%|██▊       | 58/206 [01:25<03:40,  1.49s/it]"
     ]
    },
    {
     "name": "stdout",
     "output_type": "stream",
     "text": [
      "[0]\tvalidation_0-logloss:0.43919\n",
      "Will train until validation_0-logloss hasn't improved in 100 rounds.\n",
      "[100]\tvalidation_0-logloss:0.01574\n",
      "Stopping. Best iteration:\n",
      "[20]\tvalidation_0-logloss:0.01177\n",
      "\n"
     ]
    },
    {
     "name": "stderr",
     "output_type": "stream",
     "text": [
      " 29%|██▊       | 59/206 [01:26<03:32,  1.45s/it]"
     ]
    },
    {
     "name": "stdout",
     "output_type": "stream",
     "text": [
      "[0]\tvalidation_0-logloss:0.43844\n",
      "Will train until validation_0-logloss hasn't improved in 100 rounds.\n",
      "[100]\tvalidation_0-logloss:0.00951\n",
      "Stopping. Best iteration:\n",
      "[23]\tvalidation_0-logloss:0.00713\n",
      "\n"
     ]
    },
    {
     "name": "stderr",
     "output_type": "stream",
     "text": [
      " 29%|██▉       | 60/206 [01:27<03:26,  1.41s/it]"
     ]
    },
    {
     "name": "stdout",
     "output_type": "stream",
     "text": [
      "[0]\tvalidation_0-logloss:0.43814\n",
      "Will train until validation_0-logloss hasn't improved in 100 rounds.\n",
      "[100]\tvalidation_0-logloss:0.00634\n",
      "Stopping. Best iteration:\n",
      "[26]\tvalidation_0-logloss:0.00537\n",
      "\n"
     ]
    },
    {
     "name": "stderr",
     "output_type": "stream",
     "text": [
      " 30%|██▉       | 61/206 [01:29<03:19,  1.37s/it]"
     ]
    },
    {
     "name": "stdout",
     "output_type": "stream",
     "text": [
      "[0]\tvalidation_0-logloss:0.44218\n",
      "Will train until validation_0-logloss hasn't improved in 100 rounds.\n",
      "[100]\tvalidation_0-logloss:0.03893\n",
      "Stopping. Best iteration:\n",
      "[18]\tvalidation_0-logloss:0.02866\n",
      "\n"
     ]
    },
    {
     "name": "stderr",
     "output_type": "stream",
     "text": [
      " 30%|███       | 62/206 [01:31<03:34,  1.49s/it]"
     ]
    },
    {
     "name": "stdout",
     "output_type": "stream",
     "text": [
      "[0]\tvalidation_0-logloss:0.43828\n",
      "Will train until validation_0-logloss hasn't improved in 100 rounds.\n",
      "[100]\tvalidation_0-logloss:0.00670\n",
      "Stopping. Best iteration:\n",
      "[25]\tvalidation_0-logloss:0.00539\n",
      "\n"
     ]
    },
    {
     "name": "stderr",
     "output_type": "stream",
     "text": [
      " 31%|███       | 63/206 [01:32<03:21,  1.41s/it]"
     ]
    },
    {
     "name": "stdout",
     "output_type": "stream",
     "text": [
      "[0]\tvalidation_0-logloss:0.44273\n",
      "Will train until validation_0-logloss hasn't improved in 100 rounds.\n",
      "[100]\tvalidation_0-logloss:0.02258\n",
      "Stopping. Best iteration:\n",
      "[25]\tvalidation_0-logloss:0.01937\n",
      "\n"
     ]
    },
    {
     "name": "stderr",
     "output_type": "stream",
     "text": [
      " 31%|███       | 64/206 [01:33<03:33,  1.50s/it]"
     ]
    },
    {
     "name": "stdout",
     "output_type": "stream",
     "text": [
      "[0]\tvalidation_0-logloss:0.44007\n",
      "Will train until validation_0-logloss hasn't improved in 100 rounds.\n",
      "[100]\tvalidation_0-logloss:0.02540\n",
      "Stopping. Best iteration:\n",
      "[17]\tvalidation_0-logloss:0.01813\n",
      "\n"
     ]
    },
    {
     "name": "stderr",
     "output_type": "stream",
     "text": [
      " 32%|███▏      | 65/206 [01:35<03:31,  1.50s/it]"
     ]
    },
    {
     "name": "stdout",
     "output_type": "stream",
     "text": [
      "[0]\tvalidation_0-logloss:0.43875\n",
      "Will train until validation_0-logloss hasn't improved in 100 rounds.\n",
      "[100]\tvalidation_0-logloss:0.00411\n",
      "Stopping. Best iteration:\n",
      "[51]\tvalidation_0-logloss:0.00401\n",
      "\n"
     ]
    },
    {
     "name": "stderr",
     "output_type": "stream",
     "text": [
      " 32%|███▏      | 66/206 [01:36<03:19,  1.43s/it]"
     ]
    },
    {
     "name": "stdout",
     "output_type": "stream",
     "text": [
      "[0]\tvalidation_0-logloss:0.43964\n",
      "Will train until validation_0-logloss hasn't improved in 100 rounds.\n",
      "[100]\tvalidation_0-logloss:0.01835\n",
      "Stopping. Best iteration:\n",
      "[21]\tvalidation_0-logloss:0.01333\n",
      "\n"
     ]
    },
    {
     "name": "stderr",
     "output_type": "stream",
     "text": [
      " 33%|███▎      | 67/206 [01:38<03:16,  1.41s/it]"
     ]
    },
    {
     "name": "stdout",
     "output_type": "stream",
     "text": [
      "[0]\tvalidation_0-logloss:0.43979\n",
      "Will train until validation_0-logloss hasn't improved in 100 rounds.\n",
      "[100]\tvalidation_0-logloss:0.02202\n",
      "Stopping. Best iteration:\n",
      "[19]\tvalidation_0-logloss:0.01670\n",
      "\n"
     ]
    },
    {
     "name": "stderr",
     "output_type": "stream",
     "text": [
      " 33%|███▎      | 68/206 [01:39<03:20,  1.45s/it]"
     ]
    },
    {
     "name": "stdout",
     "output_type": "stream",
     "text": [
      "[0]\tvalidation_0-logloss:0.44010\n",
      "Will train until validation_0-logloss hasn't improved in 100 rounds.\n",
      "[100]\tvalidation_0-logloss:0.02509\n",
      "Stopping. Best iteration:\n",
      "[20]\tvalidation_0-logloss:0.01820\n",
      "\n"
     ]
    },
    {
     "name": "stderr",
     "output_type": "stream",
     "text": [
      " 33%|███▎      | 69/206 [01:41<03:21,  1.47s/it]"
     ]
    },
    {
     "name": "stdout",
     "output_type": "stream",
     "text": [
      "[0]\tvalidation_0-logloss:0.43784\n",
      "Will train until validation_0-logloss hasn't improved in 100 rounds.\n",
      "[100]\tvalidation_0-logloss:0.00346\n",
      "Stopping. Best iteration:\n",
      "[24]\tvalidation_0-logloss:0.00309\n",
      "\n"
     ]
    },
    {
     "name": "stderr",
     "output_type": "stream",
     "text": [
      " 34%|███▍      | 70/206 [01:42<03:04,  1.36s/it]"
     ]
    },
    {
     "name": "stdout",
     "output_type": "stream",
     "text": [
      "[0]\tvalidation_0-logloss:0.43896\n",
      "Will train until validation_0-logloss hasn't improved in 100 rounds.\n",
      "[100]\tvalidation_0-logloss:0.01108\n",
      "Stopping. Best iteration:\n",
      "[23]\tvalidation_0-logloss:0.00905\n",
      "\n"
     ]
    },
    {
     "name": "stderr",
     "output_type": "stream",
     "text": [
      " 34%|███▍      | 71/206 [01:43<03:02,  1.35s/it]"
     ]
    },
    {
     "name": "stdout",
     "output_type": "stream",
     "text": [
      "[0]\tvalidation_0-logloss:0.45770\n",
      "Will train until validation_0-logloss hasn't improved in 100 rounds.\n",
      "[100]\tvalidation_0-logloss:0.15256\n",
      "Stopping. Best iteration:\n",
      "[13]\tvalidation_0-logloss:0.09644\n",
      "\n"
     ]
    },
    {
     "name": "stderr",
     "output_type": "stream",
     "text": [
      " 35%|███▍      | 72/206 [01:45<03:42,  1.66s/it]"
     ]
    },
    {
     "name": "stdout",
     "output_type": "stream",
     "text": [
      "[0]\tvalidation_0-logloss:0.44240\n",
      "Will train until validation_0-logloss hasn't improved in 100 rounds.\n",
      "[100]\tvalidation_0-logloss:0.04647\n",
      "Stopping. Best iteration:\n",
      "[18]\tvalidation_0-logloss:0.03017\n",
      "\n"
     ]
    },
    {
     "name": "stderr",
     "output_type": "stream",
     "text": [
      " 35%|███▌      | 73/206 [01:47<03:47,  1.71s/it]"
     ]
    },
    {
     "name": "stdout",
     "output_type": "stream",
     "text": [
      "[0]\tvalidation_0-logloss:0.43916\n",
      "Will train until validation_0-logloss hasn't improved in 100 rounds.\n",
      "[100]\tvalidation_0-logloss:0.01475\n",
      "Stopping. Best iteration:\n",
      "[20]\tvalidation_0-logloss:0.01184\n",
      "\n"
     ]
    },
    {
     "name": "stderr",
     "output_type": "stream",
     "text": [
      " 36%|███▌      | 74/206 [01:49<03:33,  1.61s/it]"
     ]
    },
    {
     "name": "stdout",
     "output_type": "stream",
     "text": [
      "[0]\tvalidation_0-logloss:0.43860\n",
      "Will train until validation_0-logloss hasn't improved in 100 rounds.\n",
      "[100]\tvalidation_0-logloss:0.00904\n",
      "Stopping. Best iteration:\n",
      "[23]\tvalidation_0-logloss:0.00735\n",
      "\n"
     ]
    },
    {
     "name": "stderr",
     "output_type": "stream",
     "text": [
      " 36%|███▋      | 75/206 [01:50<03:22,  1.55s/it]"
     ]
    },
    {
     "name": "stdout",
     "output_type": "stream",
     "text": [
      "[0]\tvalidation_0-logloss:0.43784\n",
      "Will train until validation_0-logloss hasn't improved in 100 rounds.\n",
      "[100]\tvalidation_0-logloss:0.00329\n",
      "Stopping. Best iteration:\n",
      "[24]\tvalidation_0-logloss:0.00305\n",
      "\n"
     ]
    },
    {
     "name": "stderr",
     "output_type": "stream",
     "text": [
      " 37%|███▋      | 76/206 [01:51<03:09,  1.46s/it]"
     ]
    },
    {
     "name": "stdout",
     "output_type": "stream",
     "text": [
      "[0]\tvalidation_0-logloss:0.43979\n",
      "Will train until validation_0-logloss hasn't improved in 100 rounds.\n",
      "[100]\tvalidation_0-logloss:0.02007\n",
      "Stopping. Best iteration:\n",
      "[23]\tvalidation_0-logloss:0.01533\n",
      "\n"
     ]
    },
    {
     "name": "stderr",
     "output_type": "stream",
     "text": [
      " 37%|███▋      | 77/206 [01:53<03:08,  1.46s/it]"
     ]
    },
    {
     "name": "stdout",
     "output_type": "stream",
     "text": [
      "[0]\tvalidation_0-logloss:0.45616\n",
      "Will train until validation_0-logloss hasn't improved in 100 rounds.\n",
      "[100]\tvalidation_0-logloss:0.12151\n",
      "Stopping. Best iteration:\n",
      "[15]\tvalidation_0-logloss:0.08483\n",
      "\n"
     ]
    },
    {
     "name": "stderr",
     "output_type": "stream",
     "text": [
      " 38%|███▊      | 78/206 [01:55<03:41,  1.73s/it]"
     ]
    },
    {
     "name": "stdout",
     "output_type": "stream",
     "text": [
      "[0]\tvalidation_0-logloss:0.44311\n",
      "Will train until validation_0-logloss hasn't improved in 100 rounds.\n",
      "[100]\tvalidation_0-logloss:0.04864\n",
      "Stopping. Best iteration:\n",
      "[16]\tvalidation_0-logloss:0.03424\n",
      "\n"
     ]
    },
    {
     "name": "stderr",
     "output_type": "stream",
     "text": [
      " 38%|███▊      | 79/206 [01:57<03:39,  1.73s/it]"
     ]
    },
    {
     "name": "stdout",
     "output_type": "stream",
     "text": [
      "[0]\tvalidation_0-logloss:0.45673\n",
      "Will train until validation_0-logloss hasn't improved in 100 rounds.\n",
      "[100]\tvalidation_0-logloss:0.13697\n",
      "Stopping. Best iteration:\n",
      "[18]\tvalidation_0-logloss:0.09125\n",
      "\n"
     ]
    },
    {
     "name": "stderr",
     "output_type": "stream",
     "text": [
      " 39%|███▉      | 80/206 [01:59<04:02,  1.93s/it]"
     ]
    },
    {
     "name": "stdout",
     "output_type": "stream",
     "text": [
      "[0]\tvalidation_0-logloss:0.44696\n",
      "Will train until validation_0-logloss hasn't improved in 100 rounds.\n",
      "[100]\tvalidation_0-logloss:0.03672\n",
      "Stopping. Best iteration:\n",
      "[22]\tvalidation_0-logloss:0.03427\n",
      "\n"
     ]
    },
    {
     "name": "stderr",
     "output_type": "stream",
     "text": [
      " 39%|███▉      | 81/206 [02:01<03:58,  1.91s/it]"
     ]
    },
    {
     "name": "stdout",
     "output_type": "stream",
     "text": [
      "[0]\tvalidation_0-logloss:0.43784\n",
      "Will train until validation_0-logloss hasn't improved in 100 rounds.\n",
      "[100]\tvalidation_0-logloss:0.00191\n",
      "Stopping. Best iteration:\n",
      "[37]\tvalidation_0-logloss:0.00184\n",
      "\n"
     ]
    },
    {
     "name": "stderr",
     "output_type": "stream",
     "text": [
      " 40%|███▉      | 82/206 [02:02<03:27,  1.67s/it]"
     ]
    },
    {
     "name": "stdout",
     "output_type": "stream",
     "text": [
      "[0]\tvalidation_0-logloss:0.43756\n",
      "Will train until validation_0-logloss hasn't improved in 100 rounds.\n",
      "[100]\tvalidation_0-logloss:0.00005\n",
      "Stopping. Best iteration:\n",
      "[65]\tvalidation_0-logloss:0.00005\n",
      "\n"
     ]
    },
    {
     "name": "stderr",
     "output_type": "stream",
     "text": [
      " 40%|████      | 83/206 [02:03<03:05,  1.51s/it]"
     ]
    },
    {
     "name": "stdout",
     "output_type": "stream",
     "text": [
      "[0]\tvalidation_0-logloss:0.44508\n",
      "Will train until validation_0-logloss hasn't improved in 100 rounds.\n",
      "[100]\tvalidation_0-logloss:0.06724\n",
      "Stopping. Best iteration:\n",
      "[18]\tvalidation_0-logloss:0.04356\n",
      "\n"
     ]
    },
    {
     "name": "stderr",
     "output_type": "stream",
     "text": [
      " 41%|████      | 84/206 [02:05<03:16,  1.61s/it]"
     ]
    },
    {
     "name": "stdout",
     "output_type": "stream",
     "text": [
      "[0]\tvalidation_0-logloss:0.43979\n",
      "Will train until validation_0-logloss hasn't improved in 100 rounds.\n",
      "[100]\tvalidation_0-logloss:0.02127\n",
      "Stopping. Best iteration:\n",
      "[20]\tvalidation_0-logloss:0.01598\n",
      "\n"
     ]
    },
    {
     "name": "stderr",
     "output_type": "stream",
     "text": [
      " 41%|████▏     | 85/206 [02:07<03:08,  1.56s/it]"
     ]
    },
    {
     "name": "stdout",
     "output_type": "stream",
     "text": [
      "[0]\tvalidation_0-logloss:0.43919\n",
      "Will train until validation_0-logloss hasn't improved in 100 rounds.\n",
      "[100]\tvalidation_0-logloss:0.01520\n",
      "Stopping. Best iteration:\n",
      "[21]\tvalidation_0-logloss:0.01153\n",
      "\n"
     ]
    },
    {
     "name": "stderr",
     "output_type": "stream",
     "text": [
      " 42%|████▏     | 86/206 [02:08<02:59,  1.50s/it]"
     ]
    },
    {
     "name": "stdout",
     "output_type": "stream",
     "text": [
      "[0]\tvalidation_0-logloss:0.43844\n",
      "Will train until validation_0-logloss hasn't improved in 100 rounds.\n",
      "[100]\tvalidation_0-logloss:0.00439\n",
      "Stopping. Best iteration:\n",
      "[52]\tvalidation_0-logloss:0.00435\n",
      "\n"
     ]
    },
    {
     "name": "stderr",
     "output_type": "stream",
     "text": [
      " 42%|████▏     | 87/206 [02:09<02:48,  1.42s/it]"
     ]
    },
    {
     "name": "stdout",
     "output_type": "stream",
     "text": [
      "[0]\tvalidation_0-logloss:0.43877\n",
      "Will train until validation_0-logloss hasn't improved in 100 rounds.\n",
      "[100]\tvalidation_0-logloss:0.01293\n",
      "Stopping. Best iteration:\n",
      "[20]\tvalidation_0-logloss:0.00976\n",
      "\n"
     ]
    },
    {
     "name": "stderr",
     "output_type": "stream",
     "text": [
      " 43%|████▎     | 88/206 [02:11<02:41,  1.37s/it]"
     ]
    },
    {
     "name": "stdout",
     "output_type": "stream",
     "text": [
      "[0]\tvalidation_0-logloss:0.43929\n",
      "Will train until validation_0-logloss hasn't improved in 100 rounds.\n",
      "[100]\tvalidation_0-logloss:0.01594\n",
      "Stopping. Best iteration:\n",
      "[20]\tvalidation_0-logloss:0.01204\n",
      "\n"
     ]
    },
    {
     "name": "stderr",
     "output_type": "stream",
     "text": [
      " 43%|████▎     | 89/206 [02:12<02:44,  1.40s/it]"
     ]
    },
    {
     "name": "stdout",
     "output_type": "stream",
     "text": [
      "[0]\tvalidation_0-logloss:0.44569\n",
      "Will train until validation_0-logloss hasn't improved in 100 rounds.\n",
      "[100]\tvalidation_0-logloss:0.03309\n",
      "Stopping. Best iteration:\n",
      "[19]\tvalidation_0-logloss:0.02746\n",
      "\n"
     ]
    },
    {
     "name": "stderr",
     "output_type": "stream",
     "text": [
      " 44%|████▎     | 90/206 [02:14<02:58,  1.54s/it]"
     ]
    },
    {
     "name": "stdout",
     "output_type": "stream",
     "text": [
      "[0]\tvalidation_0-logloss:0.43854\n",
      "Will train until validation_0-logloss hasn't improved in 100 rounds.\n",
      "[100]\tvalidation_0-logloss:0.00531\n",
      "Stopping. Best iteration:\n",
      "[33]\tvalidation_0-logloss:0.00523\n",
      "\n"
     ]
    },
    {
     "name": "stderr",
     "output_type": "stream",
     "text": [
      " 44%|████▍     | 91/206 [02:15<02:44,  1.43s/it]"
     ]
    },
    {
     "name": "stdout",
     "output_type": "stream",
     "text": [
      "[0]\tvalidation_0-logloss:0.43828\n",
      "Will train until validation_0-logloss hasn't improved in 100 rounds.\n",
      "[100]\tvalidation_0-logloss:0.00664\n",
      "Stopping. Best iteration:\n",
      "[25]\tvalidation_0-logloss:0.00557\n",
      "\n"
     ]
    },
    {
     "name": "stderr",
     "output_type": "stream",
     "text": [
      " 45%|████▍     | 92/206 [02:16<02:35,  1.36s/it]"
     ]
    },
    {
     "name": "stdout",
     "output_type": "stream",
     "text": [
      "[0]\tvalidation_0-logloss:0.43856\n",
      "Will train until validation_0-logloss hasn't improved in 100 rounds.\n",
      "[100]\tvalidation_0-logloss:0.00975\n",
      "Stopping. Best iteration:\n",
      "[22]\tvalidation_0-logloss:0.00758\n",
      "\n"
     ]
    },
    {
     "name": "stderr",
     "output_type": "stream",
     "text": [
      " 45%|████▌     | 93/206 [02:17<02:30,  1.33s/it]"
     ]
    },
    {
     "name": "stdout",
     "output_type": "stream",
     "text": [
      "[0]\tvalidation_0-logloss:0.44244\n",
      "Will train until validation_0-logloss hasn't improved in 100 rounds.\n",
      "[100]\tvalidation_0-logloss:0.04433\n",
      "Stopping. Best iteration:\n",
      "[19]\tvalidation_0-logloss:0.03047\n",
      "\n"
     ]
    },
    {
     "name": "stderr",
     "output_type": "stream",
     "text": [
      " 46%|████▌     | 94/206 [02:19<02:44,  1.47s/it]"
     ]
    },
    {
     "name": "stdout",
     "output_type": "stream",
     "text": [
      "[0]\tvalidation_0-logloss:0.44525\n",
      "Will train until validation_0-logloss hasn't improved in 100 rounds.\n",
      "[100]\tvalidation_0-logloss:0.06789\n",
      "Stopping. Best iteration:\n",
      "[17]\tvalidation_0-logloss:0.04337\n",
      "\n"
     ]
    },
    {
     "name": "stderr",
     "output_type": "stream",
     "text": [
      " 46%|████▌     | 95/206 [02:21<03:01,  1.63s/it]"
     ]
    },
    {
     "name": "stdout",
     "output_type": "stream",
     "text": [
      "[0]\tvalidation_0-logloss:0.44014\n",
      "Will train until validation_0-logloss hasn't improved in 100 rounds.\n",
      "[100]\tvalidation_0-logloss:0.01649\n",
      "Stopping. Best iteration:\n",
      "[19]\tvalidation_0-logloss:0.01365\n",
      "\n"
     ]
    },
    {
     "name": "stderr",
     "output_type": "stream",
     "text": [
      " 47%|████▋     | 96/206 [02:23<02:56,  1.61s/it]"
     ]
    },
    {
     "name": "stdout",
     "output_type": "stream",
     "text": [
      "[0]\tvalidation_0-logloss:0.44218\n",
      "Will train until validation_0-logloss hasn't improved in 100 rounds.\n",
      "[100]\tvalidation_0-logloss:0.02260\n",
      "Stopping. Best iteration:\n",
      "[21]\tvalidation_0-logloss:0.01800\n",
      "\n"
     ]
    },
    {
     "name": "stderr",
     "output_type": "stream",
     "text": [
      " 47%|████▋     | 97/206 [02:25<03:05,  1.70s/it]"
     ]
    },
    {
     "name": "stdout",
     "output_type": "stream",
     "text": [
      "[0]\tvalidation_0-logloss:0.43816\n",
      "Will train until validation_0-logloss hasn't improved in 100 rounds.\n",
      "[100]\tvalidation_0-logloss:0.00506\n",
      "Stopping. Best iteration:\n",
      "[27]\tvalidation_0-logloss:0.00437\n",
      "\n"
     ]
    },
    {
     "name": "stderr",
     "output_type": "stream",
     "text": [
      " 48%|████▊     | 98/206 [02:26<02:46,  1.54s/it]"
     ]
    },
    {
     "name": "stdout",
     "output_type": "stream",
     "text": [
      "[0]\tvalidation_0-logloss:0.44105\n",
      "Will train until validation_0-logloss hasn't improved in 100 rounds.\n",
      "[100]\tvalidation_0-logloss:0.03494\n",
      "Stopping. Best iteration:\n",
      "[17]\tvalidation_0-logloss:0.02414\n",
      "\n"
     ]
    },
    {
     "name": "stderr",
     "output_type": "stream",
     "text": [
      " 48%|████▊     | 99/206 [02:28<02:49,  1.59s/it]"
     ]
    },
    {
     "name": "stdout",
     "output_type": "stream",
     "text": [
      "[0]\tvalidation_0-logloss:0.45456\n",
      "Will train until validation_0-logloss hasn't improved in 100 rounds.\n",
      "[100]\tvalidation_0-logloss:0.13126\n",
      "Stopping. Best iteration:\n",
      "[14]\tvalidation_0-logloss:0.08436\n",
      "\n"
     ]
    },
    {
     "name": "stderr",
     "output_type": "stream",
     "text": [
      " 49%|████▊     | 100/206 [02:30<03:10,  1.80s/it]"
     ]
    },
    {
     "name": "stdout",
     "output_type": "stream",
     "text": [
      "[0]\tvalidation_0-logloss:0.43828\n",
      "Will train until validation_0-logloss hasn't improved in 100 rounds.\n",
      "[100]\tvalidation_0-logloss:0.00591\n",
      "Stopping. Best iteration:\n",
      "[26]\tvalidation_0-logloss:0.00512\n",
      "\n"
     ]
    },
    {
     "name": "stderr",
     "output_type": "stream",
     "text": [
      " 49%|████▉     | 101/206 [02:31<02:51,  1.63s/it]"
     ]
    },
    {
     "name": "stdout",
     "output_type": "stream",
     "text": [
      "[0]\tvalidation_0-logloss:0.44000\n",
      "Will train until validation_0-logloss hasn't improved in 100 rounds.\n",
      "[100]\tvalidation_0-logloss:0.01127\n",
      "Stopping. Best iteration:\n",
      "[63]\tvalidation_0-logloss:0.01101\n",
      "\n"
     ]
    },
    {
     "name": "stderr",
     "output_type": "stream",
     "text": [
      " 50%|████▉     | 102/206 [02:33<02:49,  1.63s/it]"
     ]
    },
    {
     "name": "stdout",
     "output_type": "stream",
     "text": [
      "[0]\tvalidation_0-logloss:0.44100\n",
      "Will train until validation_0-logloss hasn't improved in 100 rounds.\n",
      "[100]\tvalidation_0-logloss:0.03132\n",
      "Stopping. Best iteration:\n",
      "[19]\tvalidation_0-logloss:0.02288\n",
      "\n"
     ]
    },
    {
     "name": "stderr",
     "output_type": "stream",
     "text": [
      " 50%|█████     | 103/206 [02:34<02:46,  1.62s/it]"
     ]
    },
    {
     "name": "stdout",
     "output_type": "stream",
     "text": [
      "[0]\tvalidation_0-logloss:0.44098\n",
      "Will train until validation_0-logloss hasn't improved in 100 rounds.\n",
      "[100]\tvalidation_0-logloss:0.01634\n",
      "Stopping. Best iteration:\n",
      "[21]\tvalidation_0-logloss:0.01372\n",
      "\n"
     ]
    },
    {
     "name": "stderr",
     "output_type": "stream",
     "text": [
      " 50%|█████     | 104/206 [02:36<02:43,  1.61s/it]"
     ]
    },
    {
     "name": "stdout",
     "output_type": "stream",
     "text": [
      "[0]\tvalidation_0-logloss:0.44021\n",
      "Will train until validation_0-logloss hasn't improved in 100 rounds.\n",
      "[100]\tvalidation_0-logloss:0.02423\n",
      "Stopping. Best iteration:\n",
      "[20]\tvalidation_0-logloss:0.01833\n",
      "\n"
     ]
    },
    {
     "name": "stderr",
     "output_type": "stream",
     "text": [
      " 51%|█████     | 105/206 [02:37<02:39,  1.58s/it]"
     ]
    },
    {
     "name": "stdout",
     "output_type": "stream",
     "text": [
      "[0]\tvalidation_0-logloss:0.44859\n",
      "Will train until validation_0-logloss hasn't improved in 100 rounds.\n",
      "[100]\tvalidation_0-logloss:0.08851\n",
      "Stopping. Best iteration:\n",
      "[16]\tvalidation_0-logloss:0.05931\n",
      "\n"
     ]
    },
    {
     "name": "stderr",
     "output_type": "stream",
     "text": [
      " 51%|█████▏    | 106/206 [02:40<02:53,  1.74s/it]"
     ]
    },
    {
     "name": "stdout",
     "output_type": "stream",
     "text": [
      "[0]\tvalidation_0-logloss:0.43858\n",
      "Will train until validation_0-logloss hasn't improved in 100 rounds.\n",
      "[100]\tvalidation_0-logloss:0.00615\n",
      "Stopping. Best iteration:\n",
      "[29]\tvalidation_0-logloss:0.00592\n",
      "\n"
     ]
    },
    {
     "name": "stderr",
     "output_type": "stream",
     "text": [
      " 52%|█████▏    | 107/206 [02:41<02:37,  1.59s/it]"
     ]
    },
    {
     "name": "stdout",
     "output_type": "stream",
     "text": [
      "[0]\tvalidation_0-logloss:0.43910\n",
      "Will train until validation_0-logloss hasn't improved in 100 rounds.\n",
      "[100]\tvalidation_0-logloss:0.01457\n",
      "Stopping. Best iteration:\n",
      "[19]\tvalidation_0-logloss:0.01171\n",
      "\n"
     ]
    },
    {
     "name": "stderr",
     "output_type": "stream",
     "text": [
      " 52%|█████▏    | 108/206 [02:42<02:27,  1.50s/it]"
     ]
    },
    {
     "name": "stdout",
     "output_type": "stream",
     "text": [
      "[0]\tvalidation_0-logloss:0.44100\n",
      "Will train until validation_0-logloss hasn't improved in 100 rounds.\n",
      "[100]\tvalidation_0-logloss:0.03290\n",
      "Stopping. Best iteration:\n",
      "[18]\tvalidation_0-logloss:0.02376\n",
      "\n"
     ]
    },
    {
     "name": "stderr",
     "output_type": "stream",
     "text": [
      " 53%|█████▎    | 109/206 [02:44<02:27,  1.52s/it]"
     ]
    },
    {
     "name": "stdout",
     "output_type": "stream",
     "text": [
      "[0]\tvalidation_0-logloss:0.44319\n",
      "Will train until validation_0-logloss hasn't improved in 100 rounds.\n",
      "[100]\tvalidation_0-logloss:0.02503\n",
      "Stopping. Best iteration:\n",
      "[21]\tvalidation_0-logloss:0.02250\n",
      "\n"
     ]
    },
    {
     "name": "stderr",
     "output_type": "stream",
     "text": [
      " 53%|█████▎    | 110/206 [02:45<02:28,  1.55s/it]"
     ]
    },
    {
     "name": "stdout",
     "output_type": "stream",
     "text": [
      "[0]\tvalidation_0-logloss:0.43969\n",
      "Will train until validation_0-logloss hasn't improved in 100 rounds.\n",
      "[100]\tvalidation_0-logloss:0.01587\n",
      "Stopping. Best iteration:\n",
      "[22]\tvalidation_0-logloss:0.01287\n",
      "\n"
     ]
    },
    {
     "name": "stderr",
     "output_type": "stream",
     "text": [
      " 54%|█████▍    | 111/206 [02:47<02:19,  1.47s/it]"
     ]
    },
    {
     "name": "stdout",
     "output_type": "stream",
     "text": [
      "[0]\tvalidation_0-logloss:0.43938\n",
      "Will train until validation_0-logloss hasn't improved in 100 rounds.\n",
      "[100]\tvalidation_0-logloss:0.01313\n",
      "Stopping. Best iteration:\n",
      "[24]\tvalidation_0-logloss:0.01118\n",
      "\n"
     ]
    },
    {
     "name": "stderr",
     "output_type": "stream",
     "text": [
      " 54%|█████▍    | 112/206 [02:48<02:15,  1.44s/it]"
     ]
    },
    {
     "name": "stdout",
     "output_type": "stream",
     "text": [
      "[0]\tvalidation_0-logloss:0.43888\n",
      "Will train until validation_0-logloss hasn't improved in 100 rounds.\n",
      "[100]\tvalidation_0-logloss:0.00918\n",
      "Stopping. Best iteration:\n",
      "[25]\tvalidation_0-logloss:0.00822\n",
      "\n"
     ]
    },
    {
     "name": "stderr",
     "output_type": "stream",
     "text": [
      " 55%|█████▍    | 113/206 [02:49<02:09,  1.40s/it]"
     ]
    },
    {
     "name": "stdout",
     "output_type": "stream",
     "text": [
      "[0]\tvalidation_0-logloss:0.43891\n",
      "Will train until validation_0-logloss hasn't improved in 100 rounds.\n",
      "[100]\tvalidation_0-logloss:0.01202\n",
      "Stopping. Best iteration:\n",
      "[21]\tvalidation_0-logloss:0.00966\n",
      "\n"
     ]
    },
    {
     "name": "stderr",
     "output_type": "stream",
     "text": [
      " 55%|█████▌    | 114/206 [02:51<02:07,  1.39s/it]"
     ]
    },
    {
     "name": "stdout",
     "output_type": "stream",
     "text": [
      "[0]\tvalidation_0-logloss:0.44104\n",
      "Will train until validation_0-logloss hasn't improved in 100 rounds.\n",
      "[100]\tvalidation_0-logloss:0.02657\n",
      "Stopping. Best iteration:\n",
      "[18]\tvalidation_0-logloss:0.02059\n",
      "\n"
     ]
    },
    {
     "name": "stderr",
     "output_type": "stream",
     "text": [
      " 56%|█████▌    | 115/206 [02:52<02:13,  1.47s/it]"
     ]
    },
    {
     "name": "stdout",
     "output_type": "stream",
     "text": [
      "[0]\tvalidation_0-logloss:0.43915\n",
      "Will train until validation_0-logloss hasn't improved in 100 rounds.\n",
      "[100]\tvalidation_0-logloss:0.01314\n",
      "Stopping. Best iteration:\n",
      "[23]\tvalidation_0-logloss:0.01030\n",
      "\n"
     ]
    },
    {
     "name": "stderr",
     "output_type": "stream",
     "text": [
      " 56%|█████▋    | 116/206 [02:54<02:13,  1.48s/it]"
     ]
    },
    {
     "name": "stdout",
     "output_type": "stream",
     "text": [
      "[0]\tvalidation_0-logloss:0.44001\n",
      "Will train until validation_0-logloss hasn't improved in 100 rounds.\n",
      "[100]\tvalidation_0-logloss:0.01784\n",
      "Stopping. Best iteration:\n",
      "[21]\tvalidation_0-logloss:0.01355\n",
      "\n"
     ]
    },
    {
     "name": "stderr",
     "output_type": "stream",
     "text": [
      " 57%|█████▋    | 117/206 [02:55<02:14,  1.51s/it]"
     ]
    },
    {
     "name": "stdout",
     "output_type": "stream",
     "text": [
      "[0]\tvalidation_0-logloss:0.43949\n",
      "Will train until validation_0-logloss hasn't improved in 100 rounds.\n",
      "[100]\tvalidation_0-logloss:0.01894\n",
      "Stopping. Best iteration:\n",
      "[22]\tvalidation_0-logloss:0.01370\n",
      "\n"
     ]
    },
    {
     "name": "stderr",
     "output_type": "stream",
     "text": [
      " 57%|█████▋    | 118/206 [02:57<02:14,  1.52s/it]"
     ]
    },
    {
     "name": "stdout",
     "output_type": "stream",
     "text": [
      "[0]\tvalidation_0-logloss:0.44221\n",
      "Will train until validation_0-logloss hasn't improved in 100 rounds.\n",
      "[100]\tvalidation_0-logloss:0.02374\n",
      "Stopping. Best iteration:\n",
      "[18]\tvalidation_0-logloss:0.02054\n",
      "\n"
     ]
    },
    {
     "name": "stderr",
     "output_type": "stream",
     "text": [
      " 58%|█████▊    | 119/206 [02:58<02:12,  1.53s/it]"
     ]
    },
    {
     "name": "stdout",
     "output_type": "stream",
     "text": [
      "[0]\tvalidation_0-logloss:0.44411\n",
      "Will train until validation_0-logloss hasn't improved in 100 rounds.\n",
      "[100]\tvalidation_0-logloss:0.02636\n",
      "Stopping. Best iteration:\n",
      "[21]\tvalidation_0-logloss:0.02215\n",
      "\n"
     ]
    },
    {
     "name": "stderr",
     "output_type": "stream",
     "text": [
      " 58%|█████▊    | 120/206 [03:00<02:16,  1.58s/it]"
     ]
    },
    {
     "name": "stdout",
     "output_type": "stream",
     "text": [
      "[0]\tvalidation_0-logloss:0.43767\n",
      "Will train until validation_0-logloss hasn't improved in 100 rounds.\n",
      "[100]\tvalidation_0-logloss:0.00006\n",
      "Stopping. Best iteration:\n",
      "[53]\tvalidation_0-logloss:0.00006\n",
      "\n"
     ]
    },
    {
     "name": "stderr",
     "output_type": "stream",
     "text": [
      " 59%|█████▊    | 121/206 [03:01<02:04,  1.46s/it]"
     ]
    },
    {
     "name": "stdout",
     "output_type": "stream",
     "text": [
      "[0]\tvalidation_0-logloss:0.43784\n",
      "Will train until validation_0-logloss hasn't improved in 100 rounds.\n",
      "[100]\tvalidation_0-logloss:0.00307\n",
      "Stopping. Best iteration:\n",
      "[27]\tvalidation_0-logloss:0.00278\n",
      "\n"
     ]
    },
    {
     "name": "stderr",
     "output_type": "stream",
     "text": [
      " 59%|█████▉    | 122/206 [03:02<01:53,  1.35s/it]"
     ]
    },
    {
     "name": "stdout",
     "output_type": "stream",
     "text": [
      "[0]\tvalidation_0-logloss:0.44044\n",
      "Will train until validation_0-logloss hasn't improved in 100 rounds.\n",
      "[100]\tvalidation_0-logloss:0.02681\n",
      "Stopping. Best iteration:\n",
      "[20]\tvalidation_0-logloss:0.01956\n",
      "\n"
     ]
    },
    {
     "name": "stderr",
     "output_type": "stream",
     "text": [
      " 60%|█████▉    | 123/206 [03:04<01:56,  1.40s/it]"
     ]
    },
    {
     "name": "stdout",
     "output_type": "stream",
     "text": [
      "[0]\tvalidation_0-logloss:0.43797\n",
      "Will train until validation_0-logloss hasn't improved in 100 rounds.\n",
      "[100]\tvalidation_0-logloss:0.00363\n",
      "Stopping. Best iteration:\n",
      "[27]\tvalidation_0-logloss:0.00306\n",
      "\n"
     ]
    },
    {
     "name": "stderr",
     "output_type": "stream",
     "text": [
      " 60%|██████    | 124/206 [03:05<01:49,  1.33s/it]"
     ]
    },
    {
     "name": "stdout",
     "output_type": "stream",
     "text": [
      "[0]\tvalidation_0-logloss:0.44042\n",
      "Will train until validation_0-logloss hasn't improved in 100 rounds.\n",
      "[100]\tvalidation_0-logloss:0.02784\n",
      "Stopping. Best iteration:\n",
      "[18]\tvalidation_0-logloss:0.02044\n",
      "\n"
     ]
    },
    {
     "name": "stderr",
     "output_type": "stream",
     "text": [
      " 61%|██████    | 125/206 [03:07<01:52,  1.39s/it]"
     ]
    },
    {
     "name": "stdout",
     "output_type": "stream",
     "text": [
      "[0]\tvalidation_0-logloss:0.43767\n",
      "Will train until validation_0-logloss hasn't improved in 100 rounds.\n",
      "[100]\tvalidation_0-logloss:0.00005\n",
      "Stopping. Best iteration:\n",
      "[58]\tvalidation_0-logloss:0.00005\n",
      "\n"
     ]
    },
    {
     "name": "stderr",
     "output_type": "stream",
     "text": [
      " 61%|██████    | 126/206 [03:08<01:47,  1.34s/it]"
     ]
    },
    {
     "name": "stdout",
     "output_type": "stream",
     "text": [
      "[0]\tvalidation_0-logloss:0.43879\n",
      "Will train until validation_0-logloss hasn't improved in 100 rounds.\n",
      "[100]\tvalidation_0-logloss:0.00788\n",
      "Stopping. Best iteration:\n",
      "[23]\tvalidation_0-logloss:0.00724\n",
      "\n"
     ]
    },
    {
     "name": "stderr",
     "output_type": "stream",
     "text": [
      " 62%|██████▏   | 127/206 [03:09<01:42,  1.30s/it]"
     ]
    },
    {
     "name": "stdout",
     "output_type": "stream",
     "text": [
      "[0]\tvalidation_0-logloss:0.43976\n",
      "Will train until validation_0-logloss hasn't improved in 100 rounds.\n",
      "[100]\tvalidation_0-logloss:0.00627\n",
      "Stopping. Best iteration:\n",
      "[81]\tvalidation_0-logloss:0.00621\n",
      "\n"
     ]
    },
    {
     "name": "stderr",
     "output_type": "stream",
     "text": [
      " 62%|██████▏   | 128/206 [03:11<01:47,  1.38s/it]"
     ]
    },
    {
     "name": "stdout",
     "output_type": "stream",
     "text": [
      "[0]\tvalidation_0-logloss:0.44112\n",
      "Will train until validation_0-logloss hasn't improved in 100 rounds.\n",
      "[100]\tvalidation_0-logloss:0.02742\n",
      "Stopping. Best iteration:\n",
      "[20]\tvalidation_0-logloss:0.02066\n",
      "\n"
     ]
    },
    {
     "name": "stderr",
     "output_type": "stream",
     "text": [
      " 63%|██████▎   | 129/206 [03:12<01:50,  1.43s/it]"
     ]
    },
    {
     "name": "stdout",
     "output_type": "stream",
     "text": [
      "[0]\tvalidation_0-logloss:0.43860\n",
      "Will train until validation_0-logloss hasn't improved in 100 rounds.\n",
      "[100]\tvalidation_0-logloss:0.00913\n",
      "Stopping. Best iteration:\n",
      "[27]\tvalidation_0-logloss:0.00788\n",
      "\n"
     ]
    },
    {
     "name": "stderr",
     "output_type": "stream",
     "text": [
      " 63%|██████▎   | 130/206 [03:13<01:45,  1.39s/it]"
     ]
    },
    {
     "name": "stdout",
     "output_type": "stream",
     "text": [
      "[0]\tvalidation_0-logloss:0.43797\n",
      "Will train until validation_0-logloss hasn't improved in 100 rounds.\n",
      "[100]\tvalidation_0-logloss:0.00292\n",
      "Stopping. Best iteration:\n",
      "[31]\tvalidation_0-logloss:0.00273\n",
      "\n"
     ]
    },
    {
     "name": "stderr",
     "output_type": "stream",
     "text": [
      " 64%|██████▎   | 131/206 [03:15<01:39,  1.33s/it]"
     ]
    },
    {
     "name": "stdout",
     "output_type": "stream",
     "text": [
      "[0]\tvalidation_0-logloss:0.44146\n",
      "Will train until validation_0-logloss hasn't improved in 100 rounds.\n",
      "[100]\tvalidation_0-logloss:0.03643\n",
      "Stopping. Best iteration:\n",
      "[18]\tvalidation_0-logloss:0.02503\n",
      "\n"
     ]
    },
    {
     "name": "stderr",
     "output_type": "stream",
     "text": [
      " 64%|██████▍   | 132/206 [03:16<01:44,  1.41s/it]"
     ]
    },
    {
     "name": "stdout",
     "output_type": "stream",
     "text": [
      "[0]\tvalidation_0-logloss:0.43828\n",
      "Will train until validation_0-logloss hasn't improved in 100 rounds.\n",
      "[100]\tvalidation_0-logloss:0.00583\n",
      "Stopping. Best iteration:\n",
      "[25]\tvalidation_0-logloss:0.00496\n",
      "\n"
     ]
    },
    {
     "name": "stderr",
     "output_type": "stream",
     "text": [
      " 65%|██████▍   | 133/206 [03:17<01:38,  1.35s/it]"
     ]
    },
    {
     "name": "stdout",
     "output_type": "stream",
     "text": [
      "[0]\tvalidation_0-logloss:0.44145\n",
      "Will train until validation_0-logloss hasn't improved in 100 rounds.\n",
      "[100]\tvalidation_0-logloss:0.01864\n",
      "Stopping. Best iteration:\n",
      "[22]\tvalidation_0-logloss:0.01651\n",
      "\n"
     ]
    },
    {
     "name": "stderr",
     "output_type": "stream",
     "text": [
      " 65%|██████▌   | 134/206 [03:19<01:44,  1.45s/it]"
     ]
    },
    {
     "name": "stdout",
     "output_type": "stream",
     "text": [
      "[0]\tvalidation_0-logloss:0.43963\n",
      "Will train until validation_0-logloss hasn't improved in 100 rounds.\n",
      "[100]\tvalidation_0-logloss:0.01750\n",
      "Stopping. Best iteration:\n",
      "[24]\tvalidation_0-logloss:0.01327\n",
      "\n"
     ]
    },
    {
     "name": "stderr",
     "output_type": "stream",
     "text": [
      " 66%|██████▌   | 135/206 [03:21<01:43,  1.45s/it]"
     ]
    },
    {
     "name": "stdout",
     "output_type": "stream",
     "text": [
      "[0]\tvalidation_0-logloss:0.43921\n",
      "Will train until validation_0-logloss hasn't improved in 100 rounds.\n",
      "[100]\tvalidation_0-logloss:0.01607\n",
      "Stopping. Best iteration:\n",
      "[22]\tvalidation_0-logloss:0.01144\n",
      "\n"
     ]
    },
    {
     "name": "stderr",
     "output_type": "stream",
     "text": [
      " 66%|██████▌   | 136/206 [03:22<01:40,  1.43s/it]"
     ]
    },
    {
     "name": "stdout",
     "output_type": "stream",
     "text": [
      "[0]\tvalidation_0-logloss:0.44368\n",
      "Will train until validation_0-logloss hasn't improved in 100 rounds.\n",
      "[100]\tvalidation_0-logloss:0.04887\n",
      "Stopping. Best iteration:\n",
      "[16]\tvalidation_0-logloss:0.03449\n",
      "\n"
     ]
    },
    {
     "name": "stderr",
     "output_type": "stream",
     "text": [
      " 67%|██████▋   | 137/206 [03:24<01:45,  1.53s/it]"
     ]
    },
    {
     "name": "stdout",
     "output_type": "stream",
     "text": [
      "[0]\tvalidation_0-logloss:0.43784\n",
      "Will train until validation_0-logloss hasn't improved in 100 rounds.\n",
      "[100]\tvalidation_0-logloss:0.00302\n",
      "Stopping. Best iteration:\n",
      "[29]\tvalidation_0-logloss:0.00291\n",
      "\n"
     ]
    },
    {
     "name": "stderr",
     "output_type": "stream",
     "text": [
      " 67%|██████▋   | 138/206 [03:25<01:36,  1.42s/it]"
     ]
    },
    {
     "name": "stdout",
     "output_type": "stream",
     "text": [
      "[0]\tvalidation_0-logloss:0.43879\n",
      "Will train until validation_0-logloss hasn't improved in 100 rounds.\n",
      "[100]\tvalidation_0-logloss:0.01241\n",
      "Stopping. Best iteration:\n",
      "[23]\tvalidation_0-logloss:0.00938\n",
      "\n"
     ]
    },
    {
     "name": "stderr",
     "output_type": "stream",
     "text": [
      " 67%|██████▋   | 139/206 [03:27<01:43,  1.55s/it]"
     ]
    },
    {
     "name": "stdout",
     "output_type": "stream",
     "text": [
      "[0]\tvalidation_0-logloss:0.43814\n",
      "Will train until validation_0-logloss hasn't improved in 100 rounds.\n",
      "[100]\tvalidation_0-logloss:0.00645\n",
      "Stopping. Best iteration:\n",
      "[22]\tvalidation_0-logloss:0.00541\n",
      "\n"
     ]
    },
    {
     "name": "stderr",
     "output_type": "stream",
     "text": [
      " 68%|██████▊   | 140/206 [03:29<01:47,  1.63s/it]"
     ]
    },
    {
     "name": "stdout",
     "output_type": "stream",
     "text": [
      "[0]\tvalidation_0-logloss:0.43889\n",
      "Will train until validation_0-logloss hasn't improved in 100 rounds.\n",
      "[100]\tvalidation_0-logloss:0.01245\n",
      "Stopping. Best iteration:\n",
      "[23]\tvalidation_0-logloss:0.00997\n",
      "\n"
     ]
    },
    {
     "name": "stderr",
     "output_type": "stream",
     "text": [
      " 68%|██████▊   | 141/206 [03:30<01:44,  1.62s/it]"
     ]
    },
    {
     "name": "stdout",
     "output_type": "stream",
     "text": [
      "[0]\tvalidation_0-logloss:0.43786\n",
      "Will train until validation_0-logloss hasn't improved in 100 rounds.\n",
      "[100]\tvalidation_0-logloss:0.00364\n",
      "Stopping. Best iteration:\n",
      "[24]\tvalidation_0-logloss:0.00306\n",
      "\n"
     ]
    },
    {
     "name": "stderr",
     "output_type": "stream",
     "text": [
      " 69%|██████▉   | 142/206 [03:31<01:34,  1.47s/it]"
     ]
    },
    {
     "name": "stdout",
     "output_type": "stream",
     "text": [
      "[0]\tvalidation_0-logloss:0.43842\n",
      "Will train until validation_0-logloss hasn't improved in 100 rounds.\n",
      "[100]\tvalidation_0-logloss:0.00574\n",
      "Stopping. Best iteration:\n",
      "[24]\tvalidation_0-logloss:0.00517\n",
      "\n"
     ]
    },
    {
     "name": "stderr",
     "output_type": "stream",
     "text": [
      " 69%|██████▉   | 143/206 [03:33<01:27,  1.39s/it]"
     ]
    },
    {
     "name": "stdout",
     "output_type": "stream",
     "text": [
      "[0]\tvalidation_0-logloss:0.44025\n",
      "Will train until validation_0-logloss hasn't improved in 100 rounds.\n",
      "[100]\tvalidation_0-logloss:0.02510\n",
      "Stopping. Best iteration:\n",
      "[18]\tvalidation_0-logloss:0.01848\n",
      "\n"
     ]
    },
    {
     "name": "stderr",
     "output_type": "stream",
     "text": [
      " 70%|██████▉   | 144/206 [03:34<01:28,  1.42s/it]"
     ]
    },
    {
     "name": "stdout",
     "output_type": "stream",
     "text": [
      "[0]\tvalidation_0-logloss:0.44202\n",
      "Will train until validation_0-logloss hasn't improved in 100 rounds.\n",
      "[100]\tvalidation_0-logloss:0.03759\n",
      "Stopping. Best iteration:\n",
      "[21]\tvalidation_0-logloss:0.02707\n",
      "\n"
     ]
    },
    {
     "name": "stderr",
     "output_type": "stream",
     "text": [
      " 70%|███████   | 145/206 [03:36<01:31,  1.50s/it]"
     ]
    },
    {
     "name": "stdout",
     "output_type": "stream",
     "text": [
      "[0]\tvalidation_0-logloss:0.43921\n",
      "Will train until validation_0-logloss hasn't improved in 100 rounds.\n",
      "[100]\tvalidation_0-logloss:0.01449\n",
      "Stopping. Best iteration:\n",
      "[19]\tvalidation_0-logloss:0.01062\n",
      "\n"
     ]
    },
    {
     "name": "stderr",
     "output_type": "stream",
     "text": [
      " 71%|███████   | 146/206 [03:37<01:27,  1.46s/it]"
     ]
    },
    {
     "name": "stdout",
     "output_type": "stream",
     "text": [
      "[0]\tvalidation_0-logloss:0.44030\n",
      "Will train until validation_0-logloss hasn't improved in 100 rounds.\n",
      "[100]\tvalidation_0-logloss:0.01135\n",
      "Stopping. Best iteration:\n",
      "[23]\tvalidation_0-logloss:0.00973\n",
      "\n"
     ]
    },
    {
     "name": "stderr",
     "output_type": "stream",
     "text": [
      " 71%|███████▏  | 147/206 [03:39<01:26,  1.46s/it]"
     ]
    },
    {
     "name": "stdout",
     "output_type": "stream",
     "text": [
      "[0]\tvalidation_0-logloss:0.43875\n",
      "Will train until validation_0-logloss hasn't improved in 100 rounds.\n",
      "[100]\tvalidation_0-logloss:0.01326\n",
      "Stopping. Best iteration:\n",
      "[22]\tvalidation_0-logloss:0.01011\n",
      "\n"
     ]
    },
    {
     "name": "stderr",
     "output_type": "stream",
     "text": [
      " 72%|███████▏  | 148/206 [03:40<01:23,  1.43s/it]"
     ]
    },
    {
     "name": "stdout",
     "output_type": "stream",
     "text": [
      "[0]\tvalidation_0-logloss:0.44042\n",
      "Will train until validation_0-logloss hasn't improved in 100 rounds.\n",
      "[100]\tvalidation_0-logloss:0.02399\n",
      "Stopping. Best iteration:\n",
      "[20]\tvalidation_0-logloss:0.01844\n",
      "\n"
     ]
    },
    {
     "name": "stderr",
     "output_type": "stream",
     "text": [
      " 72%|███████▏  | 149/206 [03:41<01:23,  1.46s/it]"
     ]
    },
    {
     "name": "stdout",
     "output_type": "stream",
     "text": [
      "[0]\tvalidation_0-logloss:0.44420\n",
      "Will train until validation_0-logloss hasn't improved in 100 rounds.\n",
      "[100]\tvalidation_0-logloss:0.02585\n",
      "Stopping. Best iteration:\n",
      "[22]\tvalidation_0-logloss:0.02162\n",
      "\n"
     ]
    },
    {
     "name": "stderr",
     "output_type": "stream",
     "text": [
      " 73%|███████▎  | 150/206 [03:43<01:26,  1.55s/it]"
     ]
    },
    {
     "name": "stdout",
     "output_type": "stream",
     "text": [
      "[0]\tvalidation_0-logloss:0.43844\n",
      "Will train until validation_0-logloss hasn't improved in 100 rounds.\n",
      "[100]\tvalidation_0-logloss:0.00957\n",
      "Stopping. Best iteration:\n",
      "[25]\tvalidation_0-logloss:0.00767\n",
      "\n"
     ]
    },
    {
     "name": "stderr",
     "output_type": "stream",
     "text": [
      " 73%|███████▎  | 151/206 [03:44<01:19,  1.45s/it]"
     ]
    },
    {
     "name": "stdout",
     "output_type": "stream",
     "text": [
      "[0]\tvalidation_0-logloss:0.44959\n",
      "Will train until validation_0-logloss hasn't improved in 100 rounds.\n",
      "[100]\tvalidation_0-logloss:0.09545\n",
      "Stopping. Best iteration:\n",
      "[15]\tvalidation_0-logloss:0.06278\n",
      "\n"
     ]
    },
    {
     "name": "stderr",
     "output_type": "stream",
     "text": [
      " 74%|███████▍  | 152/206 [03:46<01:28,  1.64s/it]"
     ]
    },
    {
     "name": "stdout",
     "output_type": "stream",
     "text": [
      "[0]\tvalidation_0-logloss:0.43881\n",
      "Will train until validation_0-logloss hasn't improved in 100 rounds.\n",
      "[100]\tvalidation_0-logloss:0.01327\n",
      "Stopping. Best iteration:\n",
      "[20]\tvalidation_0-logloss:0.00997\n",
      "\n"
     ]
    },
    {
     "name": "stderr",
     "output_type": "stream",
     "text": [
      " 74%|███████▍  | 153/206 [03:48<01:20,  1.53s/it]"
     ]
    },
    {
     "name": "stdout",
     "output_type": "stream",
     "text": [
      "[0]\tvalidation_0-logloss:0.44403\n",
      "Will train until validation_0-logloss hasn't improved in 100 rounds.\n",
      "[100]\tvalidation_0-logloss:0.03200\n",
      "Stopping. Best iteration:\n",
      "[21]\tvalidation_0-logloss:0.02537\n",
      "\n"
     ]
    },
    {
     "name": "stderr",
     "output_type": "stream",
     "text": [
      " 75%|███████▍  | 154/206 [03:50<01:23,  1.60s/it]"
     ]
    },
    {
     "name": "stdout",
     "output_type": "stream",
     "text": [
      "[0]\tvalidation_0-logloss:0.43891\n",
      "Will train until validation_0-logloss hasn't improved in 100 rounds.\n",
      "[100]\tvalidation_0-logloss:0.00933\n",
      "Stopping. Best iteration:\n",
      "[26]\tvalidation_0-logloss:0.00789\n",
      "\n"
     ]
    },
    {
     "name": "stderr",
     "output_type": "stream",
     "text": [
      " 75%|███████▌  | 155/206 [03:51<01:19,  1.55s/it]"
     ]
    },
    {
     "name": "stdout",
     "output_type": "stream",
     "text": [
      "[0]\tvalidation_0-logloss:0.44012\n",
      "Will train until validation_0-logloss hasn't improved in 100 rounds.\n",
      "[100]\tvalidation_0-logloss:0.02446\n",
      "Stopping. Best iteration:\n",
      "[20]\tvalidation_0-logloss:0.01747\n",
      "\n"
     ]
    },
    {
     "name": "stderr",
     "output_type": "stream",
     "text": [
      " 76%|███████▌  | 156/206 [03:52<01:16,  1.54s/it]"
     ]
    },
    {
     "name": "stdout",
     "output_type": "stream",
     "text": [
      "[0]\tvalidation_0-logloss:0.44207\n",
      "Will train until validation_0-logloss hasn't improved in 100 rounds.\n",
      "[100]\tvalidation_0-logloss:0.04172\n",
      "Stopping. Best iteration:\n",
      "[18]\tvalidation_0-logloss:0.02884\n",
      "\n"
     ]
    },
    {
     "name": "stderr",
     "output_type": "stream",
     "text": [
      " 76%|███████▌  | 157/206 [03:54<01:17,  1.58s/it]"
     ]
    },
    {
     "name": "stdout",
     "output_type": "stream",
     "text": [
      "[0]\tvalidation_0-logloss:0.44268\n",
      "Will train until validation_0-logloss hasn't improved in 100 rounds.\n",
      "[100]\tvalidation_0-logloss:0.04240\n",
      "Stopping. Best iteration:\n",
      "[17]\tvalidation_0-logloss:0.02961\n",
      "\n"
     ]
    },
    {
     "name": "stderr",
     "output_type": "stream",
     "text": [
      " 77%|███████▋  | 158/206 [03:56<01:17,  1.61s/it]"
     ]
    },
    {
     "name": "stdout",
     "output_type": "stream",
     "text": [
      "[0]\tvalidation_0-logloss:0.43903\n",
      "Will train until validation_0-logloss hasn't improved in 100 rounds.\n",
      "[100]\tvalidation_0-logloss:0.01662\n",
      "Stopping. Best iteration:\n",
      "[19]\tvalidation_0-logloss:0.01228\n",
      "\n"
     ]
    },
    {
     "name": "stderr",
     "output_type": "stream",
     "text": [
      " 77%|███████▋  | 159/206 [03:57<01:11,  1.53s/it]"
     ]
    },
    {
     "name": "stdout",
     "output_type": "stream",
     "text": [
      "[0]\tvalidation_0-logloss:0.44306\n",
      "Will train until validation_0-logloss hasn't improved in 100 rounds.\n",
      "[100]\tvalidation_0-logloss:0.04171\n",
      "Stopping. Best iteration:\n",
      "[20]\tvalidation_0-logloss:0.03083\n",
      "\n"
     ]
    },
    {
     "name": "stderr",
     "output_type": "stream",
     "text": [
      " 78%|███████▊  | 160/206 [03:59<01:14,  1.61s/it]"
     ]
    },
    {
     "name": "stdout",
     "output_type": "stream",
     "text": [
      "[0]\tvalidation_0-logloss:0.43844\n",
      "Will train until validation_0-logloss hasn't improved in 100 rounds.\n",
      "[100]\tvalidation_0-logloss:0.00732\n",
      "Stopping. Best iteration:\n",
      "[24]\tvalidation_0-logloss:0.00610\n",
      "\n"
     ]
    },
    {
     "name": "stderr",
     "output_type": "stream",
     "text": [
      " 78%|███████▊  | 161/206 [04:01<01:13,  1.64s/it]"
     ]
    },
    {
     "name": "stdout",
     "output_type": "stream",
     "text": [
      "[0]\tvalidation_0-logloss:0.43919\n",
      "Will train until validation_0-logloss hasn't improved in 100 rounds.\n",
      "[100]\tvalidation_0-logloss:0.01612\n",
      "Stopping. Best iteration:\n",
      "[21]\tvalidation_0-logloss:0.01233\n",
      "\n"
     ]
    },
    {
     "name": "stderr",
     "output_type": "stream",
     "text": [
      " 79%|███████▊  | 162/206 [04:02<01:14,  1.69s/it]"
     ]
    },
    {
     "name": "stdout",
     "output_type": "stream",
     "text": [
      "[0]\tvalidation_0-logloss:0.44144\n",
      "Will train until validation_0-logloss hasn't improved in 100 rounds.\n",
      "[100]\tvalidation_0-logloss:0.03569\n",
      "Stopping. Best iteration:\n",
      "[19]\tvalidation_0-logloss:0.02487\n",
      "\n"
     ]
    },
    {
     "name": "stderr",
     "output_type": "stream",
     "text": [
      " 79%|███████▉  | 163/206 [04:04<01:11,  1.66s/it]"
     ]
    },
    {
     "name": "stdout",
     "output_type": "stream",
     "text": [
      "[0]\tvalidation_0-logloss:0.43880\n",
      "Will train until validation_0-logloss hasn't improved in 100 rounds.\n",
      "[100]\tvalidation_0-logloss:0.00094\n",
      "Stopping. Best iteration:\n",
      "[61]\tvalidation_0-logloss:0.00094\n",
      "\n"
     ]
    },
    {
     "name": "stderr",
     "output_type": "stream",
     "text": [
      " 80%|███████▉  | 164/206 [04:05<01:04,  1.54s/it]"
     ]
    },
    {
     "name": "stdout",
     "output_type": "stream",
     "text": [
      "[0]\tvalidation_0-logloss:0.43979\n",
      "Will train until validation_0-logloss hasn't improved in 100 rounds.\n",
      "[100]\tvalidation_0-logloss:0.02255\n",
      "Stopping. Best iteration:\n",
      "[19]\tvalidation_0-logloss:0.01592\n",
      "\n"
     ]
    },
    {
     "name": "stderr",
     "output_type": "stream",
     "text": [
      " 80%|████████  | 165/206 [04:07<01:02,  1.51s/it]"
     ]
    },
    {
     "name": "stdout",
     "output_type": "stream",
     "text": [
      "[0]\tvalidation_0-logloss:0.43784\n",
      "Will train until validation_0-logloss hasn't improved in 100 rounds.\n",
      "[100]\tvalidation_0-logloss:0.00325\n",
      "Stopping. Best iteration:\n",
      "[28]\tvalidation_0-logloss:0.00281\n",
      "\n"
     ]
    },
    {
     "name": "stderr",
     "output_type": "stream",
     "text": [
      " 81%|████████  | 166/206 [04:08<00:55,  1.38s/it]"
     ]
    },
    {
     "name": "stdout",
     "output_type": "stream",
     "text": [
      "[0]\tvalidation_0-logloss:0.44188\n",
      "Will train until validation_0-logloss hasn't improved in 100 rounds.\n",
      "[100]\tvalidation_0-logloss:0.03728\n",
      "Stopping. Best iteration:\n",
      "[18]\tvalidation_0-logloss:0.02611\n",
      "\n"
     ]
    },
    {
     "name": "stderr",
     "output_type": "stream",
     "text": [
      " 81%|████████  | 167/206 [04:09<00:56,  1.46s/it]"
     ]
    },
    {
     "name": "stdout",
     "output_type": "stream",
     "text": [
      "[0]\tvalidation_0-logloss:0.43830\n",
      "Will train until validation_0-logloss hasn't improved in 100 rounds.\n",
      "[100]\tvalidation_0-logloss:0.00697\n",
      "Stopping. Best iteration:\n",
      "[27]\tvalidation_0-logloss:0.00563\n",
      "\n"
     ]
    },
    {
     "name": "stderr",
     "output_type": "stream",
     "text": [
      " 82%|████████▏ | 168/206 [04:11<00:52,  1.39s/it]"
     ]
    },
    {
     "name": "stdout",
     "output_type": "stream",
     "text": [
      "[0]\tvalidation_0-logloss:0.44014\n",
      "Will train until validation_0-logloss hasn't improved in 100 rounds.\n",
      "[100]\tvalidation_0-logloss:0.02503\n",
      "Stopping. Best iteration:\n",
      "[19]\tvalidation_0-logloss:0.01838\n",
      "\n"
     ]
    },
    {
     "name": "stderr",
     "output_type": "stream",
     "text": [
      " 82%|████████▏ | 169/206 [04:12<00:52,  1.42s/it]"
     ]
    },
    {
     "name": "stdout",
     "output_type": "stream",
     "text": [
      "[0]\tvalidation_0-logloss:0.43987\n",
      "Will train until validation_0-logloss hasn't improved in 100 rounds.\n",
      "[100]\tvalidation_0-logloss:0.00564\n",
      "[200]\tvalidation_0-logloss:0.00557\n",
      "Stopping. Best iteration:\n",
      "[117]\tvalidation_0-logloss:0.00554\n",
      "\n"
     ]
    },
    {
     "name": "stderr",
     "output_type": "stream",
     "text": [
      " 83%|████████▎ | 170/206 [04:14<00:55,  1.54s/it]"
     ]
    },
    {
     "name": "stdout",
     "output_type": "stream",
     "text": [
      "[0]\tvalidation_0-logloss:0.43814\n",
      "Will train until validation_0-logloss hasn't improved in 100 rounds.\n",
      "[100]\tvalidation_0-logloss:0.00686\n",
      "Stopping. Best iteration:\n",
      "[22]\tvalidation_0-logloss:0.00560\n",
      "\n"
     ]
    },
    {
     "name": "stderr",
     "output_type": "stream",
     "text": [
      " 83%|████████▎ | 171/206 [04:15<00:50,  1.43s/it]"
     ]
    },
    {
     "name": "stdout",
     "output_type": "stream",
     "text": [
      "[0]\tvalidation_0-logloss:0.43983\n",
      "Will train until validation_0-logloss hasn't improved in 100 rounds.\n",
      "[100]\tvalidation_0-logloss:0.01382\n",
      "Stopping. Best iteration:\n",
      "[24]\tvalidation_0-logloss:0.01128\n",
      "\n"
     ]
    },
    {
     "name": "stderr",
     "output_type": "stream",
     "text": [
      " 83%|████████▎ | 172/206 [04:17<00:49,  1.45s/it]"
     ]
    },
    {
     "name": "stdout",
     "output_type": "stream",
     "text": [
      "[0]\tvalidation_0-logloss:0.43784\n",
      "Will train until validation_0-logloss hasn't improved in 100 rounds.\n",
      "[100]\tvalidation_0-logloss:0.00316\n",
      "Stopping. Best iteration:\n",
      "[30]\tvalidation_0-logloss:0.00297\n",
      "\n"
     ]
    },
    {
     "name": "stderr",
     "output_type": "stream",
     "text": [
      " 84%|████████▍ | 173/206 [04:18<00:44,  1.35s/it]"
     ]
    },
    {
     "name": "stdout",
     "output_type": "stream",
     "text": [
      "[0]\tvalidation_0-logloss:0.43917\n",
      "Will train until validation_0-logloss hasn't improved in 100 rounds.\n",
      "[100]\tvalidation_0-logloss:0.01169\n",
      "Stopping. Best iteration:\n",
      "[19]\tvalidation_0-logloss:0.01039\n",
      "\n"
     ]
    },
    {
     "name": "stderr",
     "output_type": "stream",
     "text": [
      " 84%|████████▍ | 174/206 [04:19<00:43,  1.35s/it]"
     ]
    },
    {
     "name": "stdout",
     "output_type": "stream",
     "text": [
      "[0]\tvalidation_0-logloss:0.43938\n",
      "Will train until validation_0-logloss hasn't improved in 100 rounds.\n",
      "[100]\tvalidation_0-logloss:0.01249\n",
      "Stopping. Best iteration:\n",
      "[23]\tvalidation_0-logloss:0.01027\n",
      "\n"
     ]
    },
    {
     "name": "stderr",
     "output_type": "stream",
     "text": [
      " 85%|████████▍ | 175/206 [04:21<00:41,  1.35s/it]"
     ]
    },
    {
     "name": "stdout",
     "output_type": "stream",
     "text": [
      "[0]\tvalidation_0-logloss:0.43860\n",
      "Will train until validation_0-logloss hasn't improved in 100 rounds.\n",
      "[100]\tvalidation_0-logloss:0.00877\n",
      "Stopping. Best iteration:\n",
      "[26]\tvalidation_0-logloss:0.00730\n",
      "\n"
     ]
    },
    {
     "name": "stderr",
     "output_type": "stream",
     "text": [
      " 85%|████████▌ | 176/206 [04:22<00:40,  1.34s/it]"
     ]
    },
    {
     "name": "stdout",
     "output_type": "stream",
     "text": [
      "[0]\tvalidation_0-logloss:0.44846\n",
      "Will train until validation_0-logloss hasn't improved in 100 rounds.\n",
      "[100]\tvalidation_0-logloss:0.09099\n",
      "Stopping. Best iteration:\n",
      "[15]\tvalidation_0-logloss:0.05927\n",
      "\n"
     ]
    },
    {
     "name": "stderr",
     "output_type": "stream",
     "text": [
      " 86%|████████▌ | 177/206 [04:24<00:45,  1.57s/it]"
     ]
    },
    {
     "name": "stdout",
     "output_type": "stream",
     "text": [
      "[0]\tvalidation_0-logloss:0.45613\n",
      "Will train until validation_0-logloss hasn't improved in 100 rounds.\n",
      "[100]\tvalidation_0-logloss:0.13360\n",
      "Stopping. Best iteration:\n",
      "[14]\tvalidation_0-logloss:0.09029\n",
      "\n"
     ]
    },
    {
     "name": "stderr",
     "output_type": "stream",
     "text": [
      " 86%|████████▋ | 178/206 [04:26<00:51,  1.84s/it]"
     ]
    },
    {
     "name": "stdout",
     "output_type": "stream",
     "text": [
      "[0]\tvalidation_0-logloss:0.43954\n",
      "Will train until validation_0-logloss hasn't improved in 100 rounds.\n",
      "[100]\tvalidation_0-logloss:0.01740\n",
      "Stopping. Best iteration:\n",
      "[19]\tvalidation_0-logloss:0.01334\n",
      "\n"
     ]
    },
    {
     "name": "stderr",
     "output_type": "stream",
     "text": [
      " 87%|████████▋ | 179/206 [04:28<00:46,  1.73s/it]"
     ]
    },
    {
     "name": "stdout",
     "output_type": "stream",
     "text": [
      "[0]\tvalidation_0-logloss:0.43919\n",
      "Will train until validation_0-logloss hasn't improved in 100 rounds.\n",
      "[100]\tvalidation_0-logloss:0.01456\n",
      "Stopping. Best iteration:\n",
      "[23]\tvalidation_0-logloss:0.01172\n",
      "\n"
     ]
    },
    {
     "name": "stderr",
     "output_type": "stream",
     "text": [
      " 87%|████████▋ | 180/206 [04:29<00:42,  1.64s/it]"
     ]
    },
    {
     "name": "stdout",
     "output_type": "stream",
     "text": [
      "[0]\tvalidation_0-logloss:0.43919\n",
      "Will train until validation_0-logloss hasn't improved in 100 rounds.\n",
      "[100]\tvalidation_0-logloss:0.01565\n",
      "Stopping. Best iteration:\n",
      "[20]\tvalidation_0-logloss:0.01227\n",
      "\n"
     ]
    },
    {
     "name": "stderr",
     "output_type": "stream",
     "text": [
      " 88%|████████▊ | 181/206 [04:31<00:39,  1.59s/it]"
     ]
    },
    {
     "name": "stdout",
     "output_type": "stream",
     "text": [
      "[0]\tvalidation_0-logloss:0.43887\n",
      "Will train until validation_0-logloss hasn't improved in 100 rounds.\n",
      "[100]\tvalidation_0-logloss:0.01366\n",
      "Stopping. Best iteration:\n",
      "[23]\tvalidation_0-logloss:0.00972\n",
      "\n"
     ]
    },
    {
     "name": "stderr",
     "output_type": "stream",
     "text": [
      " 88%|████████▊ | 182/206 [04:32<00:36,  1.51s/it]"
     ]
    },
    {
     "name": "stdout",
     "output_type": "stream",
     "text": [
      "[0]\tvalidation_0-logloss:0.44982\n",
      "Will train until validation_0-logloss hasn't improved in 100 rounds.\n",
      "[100]\tvalidation_0-logloss:0.10562\n",
      "Stopping. Best iteration:\n",
      "[14]\tvalidation_0-logloss:0.06724\n",
      "\n"
     ]
    },
    {
     "name": "stderr",
     "output_type": "stream",
     "text": [
      " 89%|████████▉ | 183/206 [04:34<00:40,  1.75s/it]"
     ]
    },
    {
     "name": "stdout",
     "output_type": "stream",
     "text": [
      "[0]\tvalidation_0-logloss:0.43877\n",
      "Will train until validation_0-logloss hasn't improved in 100 rounds.\n",
      "[100]\tvalidation_0-logloss:0.01289\n",
      "Stopping. Best iteration:\n",
      "[20]\tvalidation_0-logloss:0.00969\n",
      "\n"
     ]
    },
    {
     "name": "stderr",
     "output_type": "stream",
     "text": [
      " 89%|████████▉ | 184/206 [04:36<00:36,  1.66s/it]"
     ]
    },
    {
     "name": "stdout",
     "output_type": "stream",
     "text": [
      "[0]\tvalidation_0-logloss:0.44092\n",
      "Will train until validation_0-logloss hasn't improved in 100 rounds.\n",
      "[100]\tvalidation_0-logloss:0.01842\n",
      "Stopping. Best iteration:\n",
      "[21]\tvalidation_0-logloss:0.01580\n",
      "\n"
     ]
    },
    {
     "name": "stderr",
     "output_type": "stream",
     "text": [
      " 90%|████████▉ | 185/206 [04:37<00:34,  1.63s/it]"
     ]
    },
    {
     "name": "stdout",
     "output_type": "stream",
     "text": [
      "[0]\tvalidation_0-logloss:0.43782\n",
      "Will train until validation_0-logloss hasn't improved in 100 rounds.\n",
      "[100]\tvalidation_0-logloss:0.00275\n",
      "Stopping. Best iteration:\n",
      "[28]\tvalidation_0-logloss:0.00264\n",
      "\n"
     ]
    },
    {
     "name": "stderr",
     "output_type": "stream",
     "text": [
      " 90%|█████████ | 186/206 [04:39<00:29,  1.47s/it]"
     ]
    },
    {
     "name": "stdout",
     "output_type": "stream",
     "text": [
      "[0]\tvalidation_0-logloss:0.43830\n",
      "Will train until validation_0-logloss hasn't improved in 100 rounds.\n",
      "[100]\tvalidation_0-logloss:0.00653\n",
      "Stopping. Best iteration:\n",
      "[22]\tvalidation_0-logloss:0.00568\n",
      "\n"
     ]
    },
    {
     "name": "stderr",
     "output_type": "stream",
     "text": [
      " 91%|█████████ | 187/206 [04:40<00:26,  1.39s/it]"
     ]
    },
    {
     "name": "stdout",
     "output_type": "stream",
     "text": [
      "[0]\tvalidation_0-logloss:0.44040\n",
      "Will train until validation_0-logloss hasn't improved in 100 rounds.\n",
      "[100]\tvalidation_0-logloss:0.02648\n",
      "Stopping. Best iteration:\n",
      "[20]\tvalidation_0-logloss:0.02021\n",
      "\n"
     ]
    },
    {
     "name": "stderr",
     "output_type": "stream",
     "text": [
      " 91%|█████████▏| 188/206 [04:41<00:25,  1.42s/it]"
     ]
    },
    {
     "name": "stdout",
     "output_type": "stream",
     "text": [
      "[0]\tvalidation_0-logloss:0.43874\n",
      "Will train until validation_0-logloss hasn't improved in 100 rounds.\n",
      "[100]\tvalidation_0-logloss:0.00386\n",
      "Stopping. Best iteration:\n",
      "[31]\tvalidation_0-logloss:0.00358\n",
      "\n"
     ]
    },
    {
     "name": "stderr",
     "output_type": "stream",
     "text": [
      " 92%|█████████▏| 189/206 [04:42<00:22,  1.34s/it]"
     ]
    },
    {
     "name": "stdout",
     "output_type": "stream",
     "text": [
      "[0]\tvalidation_0-logloss:0.43847\n",
      "Will train until validation_0-logloss hasn't improved in 100 rounds.\n",
      "[100]\tvalidation_0-logloss:0.00981\n",
      "Stopping. Best iteration:\n",
      "[21]\tvalidation_0-logloss:0.00791\n",
      "\n"
     ]
    },
    {
     "name": "stderr",
     "output_type": "stream",
     "text": [
      " 92%|█████████▏| 190/206 [04:44<00:20,  1.31s/it]"
     ]
    },
    {
     "name": "stdout",
     "output_type": "stream",
     "text": [
      "[0]\tvalidation_0-logloss:0.43921\n",
      "Will train until validation_0-logloss hasn't improved in 100 rounds.\n",
      "[100]\tvalidation_0-logloss:0.01642\n",
      "Stopping. Best iteration:\n",
      "[23]\tvalidation_0-logloss:0.01187\n",
      "\n"
     ]
    },
    {
     "name": "stderr",
     "output_type": "stream",
     "text": [
      " 93%|█████████▎| 191/206 [04:45<00:19,  1.32s/it]"
     ]
    },
    {
     "name": "stdout",
     "output_type": "stream",
     "text": [
      "[0]\tvalidation_0-logloss:0.43888\n",
      "Will train until validation_0-logloss hasn't improved in 100 rounds.\n",
      "[100]\tvalidation_0-logloss:0.01322\n",
      "Stopping. Best iteration:\n",
      "[20]\tvalidation_0-logloss:0.01000\n",
      "\n"
     ]
    },
    {
     "name": "stderr",
     "output_type": "stream",
     "text": [
      " 93%|█████████▎| 192/206 [04:46<00:18,  1.35s/it]"
     ]
    },
    {
     "name": "stdout",
     "output_type": "stream",
     "text": [
      "[0]\tvalidation_0-logloss:0.43786\n",
      "Will train until validation_0-logloss hasn't improved in 100 rounds.\n",
      "[100]\tvalidation_0-logloss:0.00311\n",
      "Stopping. Best iteration:\n",
      "[28]\tvalidation_0-logloss:0.00292\n",
      "\n"
     ]
    },
    {
     "name": "stderr",
     "output_type": "stream",
     "text": [
      " 94%|█████████▎| 193/206 [04:48<00:16,  1.28s/it]"
     ]
    },
    {
     "name": "stdout",
     "output_type": "stream",
     "text": [
      "[0]\tvalidation_0-logloss:0.43922\n",
      "Will train until validation_0-logloss hasn't improved in 100 rounds.\n",
      "[100]\tvalidation_0-logloss:0.01511\n",
      "Stopping. Best iteration:\n",
      "[19]\tvalidation_0-logloss:0.01160\n",
      "\n"
     ]
    },
    {
     "name": "stderr",
     "output_type": "stream",
     "text": [
      " 94%|█████████▍| 194/206 [04:49<00:15,  1.31s/it]"
     ]
    },
    {
     "name": "stdout",
     "output_type": "stream",
     "text": [
      "[0]\tvalidation_0-logloss:0.44293\n",
      "Will train until validation_0-logloss hasn't improved in 100 rounds.\n",
      "[100]\tvalidation_0-logloss:0.02023\n",
      "Stopping. Best iteration:\n",
      "[22]\tvalidation_0-logloss:0.01621\n",
      "\n"
     ]
    },
    {
     "name": "stderr",
     "output_type": "stream",
     "text": [
      " 95%|█████████▍| 195/206 [04:51<00:15,  1.40s/it]"
     ]
    },
    {
     "name": "stdout",
     "output_type": "stream",
     "text": [
      "[0]\tvalidation_0-logloss:0.43828\n",
      "Will train until validation_0-logloss hasn't improved in 100 rounds.\n",
      "[100]\tvalidation_0-logloss:0.00722\n",
      "Stopping. Best iteration:\n",
      "[22]\tvalidation_0-logloss:0.00560\n",
      "\n"
     ]
    },
    {
     "name": "stderr",
     "output_type": "stream",
     "text": [
      " 95%|█████████▌| 196/206 [04:52<00:13,  1.35s/it]"
     ]
    },
    {
     "name": "stdout",
     "output_type": "stream",
     "text": [
      "[0]\tvalidation_0-logloss:0.43784\n",
      "Will train until validation_0-logloss hasn't improved in 100 rounds.\n",
      "[100]\tvalidation_0-logloss:0.00316\n",
      "Stopping. Best iteration:\n",
      "[27]\tvalidation_0-logloss:0.00279\n",
      "\n"
     ]
    },
    {
     "name": "stderr",
     "output_type": "stream",
     "text": [
      " 96%|█████████▌| 197/206 [04:53<00:11,  1.27s/it]"
     ]
    },
    {
     "name": "stdout",
     "output_type": "stream",
     "text": [
      "[0]\tvalidation_0-logloss:0.43877\n",
      "Will train until validation_0-logloss hasn't improved in 100 rounds.\n",
      "[100]\tvalidation_0-logloss:0.00976\n",
      "Stopping. Best iteration:\n",
      "[21]\tvalidation_0-logloss:0.00851\n",
      "\n"
     ]
    },
    {
     "name": "stderr",
     "output_type": "stream",
     "text": [
      " 96%|█████████▌| 198/206 [04:54<00:10,  1.27s/it]"
     ]
    },
    {
     "name": "stdout",
     "output_type": "stream",
     "text": [
      "[0]\tvalidation_0-logloss:0.43981\n",
      "Will train until validation_0-logloss hasn't improved in 100 rounds.\n",
      "[100]\tvalidation_0-logloss:0.02031\n",
      "Stopping. Best iteration:\n",
      "[23]\tvalidation_0-logloss:0.01574\n",
      "\n"
     ]
    },
    {
     "name": "stderr",
     "output_type": "stream",
     "text": [
      " 97%|█████████▋| 199/206 [04:56<00:09,  1.32s/it]"
     ]
    },
    {
     "name": "stdout",
     "output_type": "stream",
     "text": [
      "[0]\tvalidation_0-logloss:0.44494\n",
      "Will train until validation_0-logloss hasn't improved in 100 rounds.\n",
      "[100]\tvalidation_0-logloss:0.03594\n",
      "Stopping. Best iteration:\n",
      "[19]\tvalidation_0-logloss:0.02939\n",
      "\n"
     ]
    },
    {
     "name": "stderr",
     "output_type": "stream",
     "text": [
      " 97%|█████████▋| 200/206 [04:57<00:08,  1.46s/it]"
     ]
    },
    {
     "name": "stdout",
     "output_type": "stream",
     "text": [
      "[0]\tvalidation_0-logloss:0.44086\n",
      "Will train until validation_0-logloss hasn't improved in 100 rounds.\n",
      "[100]\tvalidation_0-logloss:0.03219\n",
      "Stopping. Best iteration:\n",
      "[19]\tvalidation_0-logloss:0.02228\n",
      "\n"
     ]
    },
    {
     "name": "stderr",
     "output_type": "stream",
     "text": [
      " 98%|█████████▊| 201/206 [04:59<00:07,  1.50s/it]"
     ]
    },
    {
     "name": "stdout",
     "output_type": "stream",
     "text": [
      "[0]\tvalidation_0-logloss:0.43784\n",
      "Will train until validation_0-logloss hasn't improved in 100 rounds.\n",
      "[100]\tvalidation_0-logloss:0.00300\n",
      "Stopping. Best iteration:\n",
      "[40]\tvalidation_0-logloss:0.00292\n",
      "\n"
     ]
    },
    {
     "name": "stderr",
     "output_type": "stream",
     "text": [
      " 98%|█████████▊| 202/206 [05:00<00:05,  1.39s/it]"
     ]
    },
    {
     "name": "stdout",
     "output_type": "stream",
     "text": [
      "[0]\tvalidation_0-logloss:0.44424\n",
      "Will train until validation_0-logloss hasn't improved in 100 rounds.\n",
      "[100]\tvalidation_0-logloss:0.03746\n",
      "Stopping. Best iteration:\n",
      "[19]\tvalidation_0-logloss:0.02888\n",
      "\n"
     ]
    },
    {
     "name": "stderr",
     "output_type": "stream",
     "text": [
      " 99%|█████████▊| 203/206 [05:02<00:04,  1.51s/it]"
     ]
    },
    {
     "name": "stdout",
     "output_type": "stream",
     "text": [
      "[0]\tvalidation_0-logloss:0.43863\n",
      "Will train until validation_0-logloss hasn't improved in 100 rounds.\n",
      "[100]\tvalidation_0-logloss:0.00888\n",
      "Stopping. Best iteration:\n",
      "[22]\tvalidation_0-logloss:0.00715\n",
      "\n"
     ]
    },
    {
     "name": "stderr",
     "output_type": "stream",
     "text": [
      " 99%|█████████▉| 204/206 [05:03<00:02,  1.49s/it]"
     ]
    },
    {
     "name": "stdout",
     "output_type": "stream",
     "text": [
      "[0]\tvalidation_0-logloss:0.43942\n",
      "Will train until validation_0-logloss hasn't improved in 100 rounds.\n",
      "[100]\tvalidation_0-logloss:0.00927\n",
      "Stopping. Best iteration:\n",
      "[22]\tvalidation_0-logloss:0.00838\n",
      "\n"
     ]
    },
    {
     "name": "stderr",
     "output_type": "stream",
     "text": [
      "100%|█████████▉| 205/206 [05:05<00:01,  1.42s/it]"
     ]
    },
    {
     "name": "stdout",
     "output_type": "stream",
     "text": [
      "[0]\tvalidation_0-logloss:0.43888\n",
      "Will train until validation_0-logloss hasn't improved in 100 rounds.\n",
      "[100]\tvalidation_0-logloss:0.01259\n",
      "Stopping. Best iteration:\n",
      "[27]\tvalidation_0-logloss:0.00997\n",
      "\n"
     ]
    },
    {
     "name": "stderr",
     "output_type": "stream",
     "text": [
      "100%|██████████| 206/206 [05:06<00:00,  1.49s/it]\n"
     ]
    },
    {
     "name": "stdout",
     "output_type": "stream",
     "text": [
      "     fun: 0.015781097305717095\n",
      "     jac: array([0.00089192, 0.00088921, 0.00150256])\n",
      " message: 'Optimization terminated successfully.'\n",
      "    nfev: 78\n",
      "     nit: 15\n",
      "    njev: 15\n",
      "  status: 0\n",
      " success: True\n",
      "       x: array([9.79336579e-01, 2.06634214e-02, 8.41321704e-18])\n",
      "0.01580342710018158 0.015784426897499624 0.01665623690194327 0.022209385892732175 0.0157810972955681\n"
     ]
    },
    {
     "name": "stderr",
     "output_type": "stream",
     "text": [
      "100%|██████████| 32/32 [00:00<00:00, 488.86it/s]"
     ]
    },
    {
     "name": "stdout",
     "output_type": "stream",
     "text": [
      "auc 0.9088692177893558\n"
     ]
    },
    {
     "name": "stderr",
     "output_type": "stream",
     "text": [
      "\n",
      "100%|██████████| 30/30 [00:35<00:00,  1.17s/it, train_loss=0.0178, valid_loss=0.0163]"
     ]
    },
    {
     "name": "stdout",
     "output_type": "stream",
     "text": [
      "Device used : cuda\n"
     ]
    },
    {
     "name": "stderr",
     "output_type": "stream",
     "text": [
      "\n"
     ]
    },
    {
     "name": "stdout",
     "output_type": "stream",
     "text": [
      "epoch 0  | loss: 0.13328 | val_logits_ll: 0.02337 |  0:00:02s\n",
      "epoch 10 | loss: 0.02106 | val_logits_ll: 0.01888 |  0:00:25s\n",
      "epoch 20 | loss: 0.02051 | val_logits_ll: 0.01791 |  0:00:52s\n",
      "epoch 30 | loss: 0.02032 | val_logits_ll: 0.01742 |  0:01:15s\n",
      "epoch 40 | loss: 0.01897 | val_logits_ll: 0.01724 |  0:01:40s\n",
      "epoch 50 | loss: 0.01795 | val_logits_ll: 0.01718 |  0:02:05s\n",
      "epoch 60 | loss: 0.01762 | val_logits_ll: 0.01725 |  0:02:30s\n",
      "\n",
      "Early stopping occured at epoch 64 with best_epoch = 44 and best_val_logits_ll = 0.01701\n",
      "Best weights from best epoch are automatically used!\n"
     ]
    },
    {
     "name": "stderr",
     "output_type": "stream",
     "text": [
      "  0%|          | 0/206 [00:00<?, ?it/s]"
     ]
    },
    {
     "name": "stdout",
     "output_type": "stream",
     "text": [
      "[0]\tvalidation_0-logloss:0.43825\n",
      "Will train until validation_0-logloss hasn't improved in 100 rounds.\n",
      "[100]\tvalidation_0-logloss:0.00435\n",
      "Stopping. Best iteration:\n",
      "[27]\tvalidation_0-logloss:0.00428\n",
      "\n"
     ]
    },
    {
     "name": "stderr",
     "output_type": "stream",
     "text": [
      "  0%|          | 1/206 [00:01<04:51,  1.42s/it]"
     ]
    },
    {
     "name": "stdout",
     "output_type": "stream",
     "text": [
      "[0]\tvalidation_0-logloss:0.43844\n",
      "Will train until validation_0-logloss hasn't improved in 100 rounds.\n",
      "[100]\tvalidation_0-logloss:0.00929\n",
      "Stopping. Best iteration:\n",
      "[25]\tvalidation_0-logloss:0.00741\n",
      "\n"
     ]
    },
    {
     "name": "stderr",
     "output_type": "stream",
     "text": [
      "  1%|          | 2/206 [00:02<04:38,  1.37s/it]"
     ]
    },
    {
     "name": "stdout",
     "output_type": "stream",
     "text": [
      "[0]\tvalidation_0-logloss:0.43875\n",
      "Will train until validation_0-logloss hasn't improved in 100 rounds.\n",
      "[100]\tvalidation_0-logloss:0.01295\n",
      "Stopping. Best iteration:\n",
      "[20]\tvalidation_0-logloss:0.00962\n",
      "\n"
     ]
    },
    {
     "name": "stderr",
     "output_type": "stream",
     "text": [
      "  1%|▏         | 3/206 [00:04<04:36,  1.36s/it]"
     ]
    },
    {
     "name": "stdout",
     "output_type": "stream",
     "text": [
      "[0]\tvalidation_0-logloss:0.44647\n",
      "Will train until validation_0-logloss hasn't improved in 100 rounds.\n",
      "[100]\tvalidation_0-logloss:0.07652\n",
      "Stopping. Best iteration:\n",
      "[15]\tvalidation_0-logloss:0.05191\n",
      "\n"
     ]
    },
    {
     "name": "stderr",
     "output_type": "stream",
     "text": [
      "  2%|▏         | 4/206 [00:05<05:07,  1.52s/it]"
     ]
    },
    {
     "name": "stdout",
     "output_type": "stream",
     "text": [
      "[0]\tvalidation_0-logloss:0.45145\n",
      "Will train until validation_0-logloss hasn't improved in 100 rounds.\n",
      "[100]\tvalidation_0-logloss:0.11116\n",
      "Stopping. Best iteration:\n",
      "[13]\tvalidation_0-logloss:0.07243\n",
      "\n"
     ]
    },
    {
     "name": "stderr",
     "output_type": "stream",
     "text": [
      "  2%|▏         | 5/206 [00:08<05:43,  1.71s/it]"
     ]
    },
    {
     "name": "stdout",
     "output_type": "stream",
     "text": [
      "[0]\tvalidation_0-logloss:0.44086\n",
      "Will train until validation_0-logloss hasn't improved in 100 rounds.\n",
      "[100]\tvalidation_0-logloss:0.03004\n",
      "Stopping. Best iteration:\n",
      "[18]\tvalidation_0-logloss:0.02092\n",
      "\n"
     ]
    },
    {
     "name": "stderr",
     "output_type": "stream",
     "text": [
      "  3%|▎         | 6/206 [00:09<05:41,  1.71s/it]"
     ]
    },
    {
     "name": "stdout",
     "output_type": "stream",
     "text": [
      "[0]\tvalidation_0-logloss:0.44010\n",
      "Will train until validation_0-logloss hasn't improved in 100 rounds.\n",
      "[100]\tvalidation_0-logloss:0.02616\n",
      "Stopping. Best iteration:\n",
      "[17]\tvalidation_0-logloss:0.01902\n",
      "\n"
     ]
    },
    {
     "name": "stderr",
     "output_type": "stream",
     "text": [
      "  3%|▎         | 7/206 [00:11<05:25,  1.64s/it]"
     ]
    },
    {
     "name": "stdout",
     "output_type": "stream",
     "text": [
      "[0]\tvalidation_0-logloss:0.44205\n",
      "Will train until validation_0-logloss hasn't improved in 100 rounds.\n",
      "[100]\tvalidation_0-logloss:0.04072\n",
      "Stopping. Best iteration:\n",
      "[17]\tvalidation_0-logloss:0.02723\n",
      "\n"
     ]
    },
    {
     "name": "stderr",
     "output_type": "stream",
     "text": [
      "  4%|▍         | 8/206 [00:12<05:23,  1.64s/it]"
     ]
    },
    {
     "name": "stdout",
     "output_type": "stream",
     "text": [
      "[0]\tvalidation_0-logloss:0.43814\n",
      "Will train until validation_0-logloss hasn't improved in 100 rounds.\n",
      "[100]\tvalidation_0-logloss:0.00498\n",
      "Stopping. Best iteration:\n",
      "[24]\tvalidation_0-logloss:0.00460\n",
      "\n"
     ]
    },
    {
     "name": "stderr",
     "output_type": "stream",
     "text": [
      "  4%|▍         | 9/206 [00:13<04:51,  1.48s/it]"
     ]
    },
    {
     "name": "stdout",
     "output_type": "stream",
     "text": [
      "[0]\tvalidation_0-logloss:0.45015\n",
      "Will train until validation_0-logloss hasn't improved in 100 rounds.\n",
      "[100]\tvalidation_0-logloss:0.09839\n",
      "Stopping. Best iteration:\n",
      "[15]\tvalidation_0-logloss:0.06376\n",
      "\n"
     ]
    },
    {
     "name": "stderr",
     "output_type": "stream",
     "text": [
      "  5%|▍         | 10/206 [00:16<05:29,  1.68s/it]"
     ]
    },
    {
     "name": "stdout",
     "output_type": "stream",
     "text": [
      "[0]\tvalidation_0-logloss:0.45416\n",
      "Will train until validation_0-logloss hasn't improved in 100 rounds.\n",
      "[100]\tvalidation_0-logloss:0.13113\n",
      "Stopping. Best iteration:\n",
      "[15]\tvalidation_0-logloss:0.08267\n",
      "\n"
     ]
    },
    {
     "name": "stderr",
     "output_type": "stream",
     "text": [
      "  5%|▌         | 11/206 [00:18<06:02,  1.86s/it]"
     ]
    },
    {
     "name": "stdout",
     "output_type": "stream",
     "text": [
      "[0]\tvalidation_0-logloss:0.44070\n",
      "Will train until validation_0-logloss hasn't improved in 100 rounds.\n",
      "[100]\tvalidation_0-logloss:0.01766\n",
      "Stopping. Best iteration:\n",
      "[26]\tvalidation_0-logloss:0.01615\n",
      "\n"
     ]
    },
    {
     "name": "stderr",
     "output_type": "stream",
     "text": [
      "  6%|▌         | 12/206 [00:19<05:45,  1.78s/it]"
     ]
    },
    {
     "name": "stdout",
     "output_type": "stream",
     "text": [
      "[0]\tvalidation_0-logloss:0.43786\n",
      "Will train until validation_0-logloss hasn't improved in 100 rounds.\n",
      "[100]\tvalidation_0-logloss:0.00255\n",
      "Stopping. Best iteration:\n",
      "[30]\tvalidation_0-logloss:0.00244\n",
      "\n"
     ]
    },
    {
     "name": "stderr",
     "output_type": "stream",
     "text": [
      "  6%|▋         | 13/206 [00:21<05:02,  1.57s/it]"
     ]
    },
    {
     "name": "stdout",
     "output_type": "stream",
     "text": [
      "[0]\tvalidation_0-logloss:0.43949\n",
      "Will train until validation_0-logloss hasn't improved in 100 rounds.\n",
      "[100]\tvalidation_0-logloss:0.01686\n",
      "Stopping. Best iteration:\n",
      "[19]\tvalidation_0-logloss:0.01358\n",
      "\n"
     ]
    },
    {
     "name": "stderr",
     "output_type": "stream",
     "text": [
      "  7%|▋         | 14/206 [00:22<04:51,  1.52s/it]"
     ]
    },
    {
     "name": "stdout",
     "output_type": "stream",
     "text": [
      "[0]\tvalidation_0-logloss:0.43814\n",
      "Will train until validation_0-logloss hasn't improved in 100 rounds.\n",
      "[100]\tvalidation_0-logloss:0.00715\n",
      "Stopping. Best iteration:\n",
      "[24]\tvalidation_0-logloss:0.00542\n",
      "\n"
     ]
    },
    {
     "name": "stderr",
     "output_type": "stream",
     "text": [
      "  7%|▋         | 15/206 [00:23<04:29,  1.41s/it]"
     ]
    },
    {
     "name": "stdout",
     "output_type": "stream",
     "text": [
      "[0]\tvalidation_0-logloss:0.43814\n",
      "Will train until validation_0-logloss hasn't improved in 100 rounds.\n",
      "[100]\tvalidation_0-logloss:0.00655\n",
      "Stopping. Best iteration:\n",
      "[26]\tvalidation_0-logloss:0.00543\n",
      "\n"
     ]
    },
    {
     "name": "stderr",
     "output_type": "stream",
     "text": [
      "  8%|▊         | 16/206 [00:24<04:14,  1.34s/it]"
     ]
    },
    {
     "name": "stdout",
     "output_type": "stream",
     "text": [
      "[0]\tvalidation_0-logloss:0.43979\n",
      "Will train until validation_0-logloss hasn't improved in 100 rounds.\n",
      "[100]\tvalidation_0-logloss:0.02156\n",
      "Stopping. Best iteration:\n",
      "[20]\tvalidation_0-logloss:0.01565\n",
      "\n"
     ]
    },
    {
     "name": "stderr",
     "output_type": "stream",
     "text": [
      "  8%|▊         | 17/206 [00:26<04:18,  1.37s/it]"
     ]
    },
    {
     "name": "stdout",
     "output_type": "stream",
     "text": [
      "[0]\tvalidation_0-logloss:0.44172\n",
      "Will train until validation_0-logloss hasn't improved in 100 rounds.\n",
      "[100]\tvalidation_0-logloss:0.03861\n",
      "Stopping. Best iteration:\n",
      "[17]\tvalidation_0-logloss:0.02693\n",
      "\n"
     ]
    },
    {
     "name": "stderr",
     "output_type": "stream",
     "text": [
      "  9%|▊         | 18/206 [00:27<04:30,  1.44s/it]"
     ]
    },
    {
     "name": "stdout",
     "output_type": "stream",
     "text": [
      "[0]\tvalidation_0-logloss:0.44135\n",
      "Will train until validation_0-logloss hasn't improved in 100 rounds.\n",
      "[100]\tvalidation_0-logloss:0.03540\n",
      "Stopping. Best iteration:\n",
      "[17]\tvalidation_0-logloss:0.02537\n",
      "\n"
     ]
    },
    {
     "name": "stderr",
     "output_type": "stream",
     "text": [
      "  9%|▉         | 19/206 [00:29<04:37,  1.48s/it]"
     ]
    },
    {
     "name": "stdout",
     "output_type": "stream",
     "text": [
      "[0]\tvalidation_0-logloss:0.43919\n",
      "Will train until validation_0-logloss hasn't improved in 100 rounds.\n",
      "[100]\tvalidation_0-logloss:0.01583\n",
      "Stopping. Best iteration:\n",
      "[19]\tvalidation_0-logloss:0.01204\n",
      "\n"
     ]
    },
    {
     "name": "stderr",
     "output_type": "stream",
     "text": [
      " 10%|▉         | 20/206 [00:30<04:35,  1.48s/it]"
     ]
    },
    {
     "name": "stdout",
     "output_type": "stream",
     "text": [
      "[0]\tvalidation_0-logloss:0.43938\n",
      "Will train until validation_0-logloss hasn't improved in 100 rounds.\n",
      "[100]\tvalidation_0-logloss:0.02013\n",
      "Stopping. Best iteration:\n",
      "[18]\tvalidation_0-logloss:0.01438\n",
      "\n"
     ]
    },
    {
     "name": "stderr",
     "output_type": "stream",
     "text": [
      " 10%|█         | 21/206 [00:32<04:32,  1.47s/it]"
     ]
    },
    {
     "name": "stdout",
     "output_type": "stream",
     "text": [
      "[0]\tvalidation_0-logloss:0.44086\n",
      "Will train until validation_0-logloss hasn't improved in 100 rounds.\n",
      "[100]\tvalidation_0-logloss:0.02852\n",
      "Stopping. Best iteration:\n",
      "[18]\tvalidation_0-logloss:0.02020\n",
      "\n"
     ]
    },
    {
     "name": "stderr",
     "output_type": "stream",
     "text": [
      " 11%|█         | 22/206 [00:34<04:47,  1.56s/it]"
     ]
    },
    {
     "name": "stdout",
     "output_type": "stream",
     "text": [
      "[0]\tvalidation_0-logloss:0.43784\n",
      "Will train until validation_0-logloss hasn't improved in 100 rounds.\n",
      "[100]\tvalidation_0-logloss:0.00326\n",
      "Stopping. Best iteration:\n",
      "[25]\tvalidation_0-logloss:0.00307\n",
      "\n"
     ]
    },
    {
     "name": "stderr",
     "output_type": "stream",
     "text": [
      " 11%|█         | 23/206 [00:35<04:22,  1.44s/it]"
     ]
    },
    {
     "name": "stdout",
     "output_type": "stream",
     "text": [
      "[0]\tvalidation_0-logloss:0.43951\n",
      "Will train until validation_0-logloss hasn't improved in 100 rounds.\n",
      "[100]\tvalidation_0-logloss:0.01656\n",
      "Stopping. Best iteration:\n",
      "[20]\tvalidation_0-logloss:0.01213\n",
      "\n"
     ]
    },
    {
     "name": "stderr",
     "output_type": "stream",
     "text": [
      " 12%|█▏        | 24/206 [00:36<04:18,  1.42s/it]"
     ]
    },
    {
     "name": "stdout",
     "output_type": "stream",
     "text": [
      "[0]\tvalidation_0-logloss:0.43797\n",
      "Will train until validation_0-logloss hasn't improved in 100 rounds.\n",
      "[100]\tvalidation_0-logloss:0.00349\n",
      "Stopping. Best iteration:\n",
      "[31]\tvalidation_0-logloss:0.00298\n",
      "\n"
     ]
    },
    {
     "name": "stderr",
     "output_type": "stream",
     "text": [
      " 12%|█▏        | 25/206 [00:37<04:05,  1.35s/it]"
     ]
    },
    {
     "name": "stdout",
     "output_type": "stream",
     "text": [
      "[0]\tvalidation_0-logloss:0.43816\n",
      "Will train until validation_0-logloss hasn't improved in 100 rounds.\n",
      "[100]\tvalidation_0-logloss:0.00571\n",
      "Stopping. Best iteration:\n",
      "[23]\tvalidation_0-logloss:0.00494\n",
      "\n"
     ]
    },
    {
     "name": "stderr",
     "output_type": "stream",
     "text": [
      " 13%|█▎        | 26/206 [00:39<03:53,  1.30s/it]"
     ]
    },
    {
     "name": "stdout",
     "output_type": "stream",
     "text": [
      "[0]\tvalidation_0-logloss:0.43814\n",
      "Will train until validation_0-logloss hasn't improved in 100 rounds.\n",
      "[100]\tvalidation_0-logloss:0.00748\n",
      "Stopping. Best iteration:\n",
      "[22]\tvalidation_0-logloss:0.00567\n",
      "\n"
     ]
    },
    {
     "name": "stderr",
     "output_type": "stream",
     "text": [
      " 13%|█▎        | 27/206 [00:40<03:43,  1.25s/it]"
     ]
    },
    {
     "name": "stdout",
     "output_type": "stream",
     "text": [
      "[0]\tvalidation_0-logloss:0.43844\n",
      "Will train until validation_0-logloss hasn't improved in 100 rounds.\n",
      "[100]\tvalidation_0-logloss:0.00973\n",
      "Stopping. Best iteration:\n",
      "[21]\tvalidation_0-logloss:0.00705\n",
      "\n"
     ]
    },
    {
     "name": "stderr",
     "output_type": "stream",
     "text": [
      " 14%|█▎        | 28/206 [00:41<03:44,  1.26s/it]"
     ]
    },
    {
     "name": "stdout",
     "output_type": "stream",
     "text": [
      "[0]\tvalidation_0-logloss:0.44086\n",
      "Will train until validation_0-logloss hasn't improved in 100 rounds.\n",
      "[100]\tvalidation_0-logloss:0.02949\n",
      "Stopping. Best iteration:\n",
      "[16]\tvalidation_0-logloss:0.02172\n",
      "\n"
     ]
    },
    {
     "name": "stderr",
     "output_type": "stream",
     "text": [
      " 14%|█▍        | 29/206 [00:43<03:59,  1.35s/it]"
     ]
    },
    {
     "name": "stdout",
     "output_type": "stream",
     "text": [
      "[0]\tvalidation_0-logloss:0.43919\n",
      "Will train until validation_0-logloss hasn't improved in 100 rounds.\n",
      "[100]\tvalidation_0-logloss:0.01506\n",
      "Stopping. Best iteration:\n",
      "[20]\tvalidation_0-logloss:0.01188\n",
      "\n"
     ]
    },
    {
     "name": "stderr",
     "output_type": "stream",
     "text": [
      " 15%|█▍        | 30/206 [00:44<03:59,  1.36s/it]"
     ]
    },
    {
     "name": "stdout",
     "output_type": "stream",
     "text": [
      "[0]\tvalidation_0-logloss:0.43856\n",
      "Will train until validation_0-logloss hasn't improved in 100 rounds.\n",
      "[100]\tvalidation_0-logloss:0.00882\n",
      "Stopping. Best iteration:\n",
      "[24]\tvalidation_0-logloss:0.00708\n",
      "\n"
     ]
    },
    {
     "name": "stderr",
     "output_type": "stream",
     "text": [
      " 15%|█▌        | 31/206 [00:45<03:53,  1.33s/it]"
     ]
    },
    {
     "name": "stdout",
     "output_type": "stream",
     "text": [
      "[0]\tvalidation_0-logloss:0.43982\n",
      "Will train until validation_0-logloss hasn't improved in 100 rounds.\n",
      "[100]\tvalidation_0-logloss:0.02293\n",
      "Stopping. Best iteration:\n",
      "[19]\tvalidation_0-logloss:0.01583\n",
      "\n"
     ]
    },
    {
     "name": "stderr",
     "output_type": "stream",
     "text": [
      " 16%|█▌        | 32/206 [00:47<04:00,  1.38s/it]"
     ]
    },
    {
     "name": "stdout",
     "output_type": "stream",
     "text": [
      "[0]\tvalidation_0-logloss:0.43977\n",
      "Will train until validation_0-logloss hasn't improved in 100 rounds.\n",
      "[100]\tvalidation_0-logloss:0.02051\n",
      "Stopping. Best iteration:\n",
      "[25]\tvalidation_0-logloss:0.01545\n",
      "\n"
     ]
    },
    {
     "name": "stderr",
     "output_type": "stream",
     "text": [
      " 16%|█▌        | 33/206 [00:48<04:04,  1.41s/it]"
     ]
    },
    {
     "name": "stdout",
     "output_type": "stream",
     "text": [
      "[0]\tvalidation_0-logloss:0.43784\n",
      "Will train until validation_0-logloss hasn't improved in 100 rounds.\n",
      "[100]\tvalidation_0-logloss:0.00325\n",
      "Stopping. Best iteration:\n",
      "[26]\tvalidation_0-logloss:0.00291\n",
      "\n"
     ]
    },
    {
     "name": "stderr",
     "output_type": "stream",
     "text": [
      " 17%|█▋        | 34/206 [00:49<03:46,  1.31s/it]"
     ]
    },
    {
     "name": "stdout",
     "output_type": "stream",
     "text": [
      "[0]\tvalidation_0-logloss:0.43756\n",
      "Will train until validation_0-logloss hasn't improved in 100 rounds.\n",
      "[100]\tvalidation_0-logloss:0.00005\n",
      "Stopping. Best iteration:\n",
      "[56]\tvalidation_0-logloss:0.00005\n",
      "\n"
     ]
    },
    {
     "name": "stderr",
     "output_type": "stream",
     "text": [
      " 17%|█▋        | 35/206 [00:50<03:34,  1.25s/it]"
     ]
    },
    {
     "name": "stdout",
     "output_type": "stream",
     "text": [
      "[0]\tvalidation_0-logloss:0.43814\n",
      "Will train until validation_0-logloss hasn't improved in 100 rounds.\n",
      "[100]\tvalidation_0-logloss:0.00120\n",
      "Stopping. Best iteration:\n",
      "[35]\tvalidation_0-logloss:0.00111\n",
      "\n"
     ]
    },
    {
     "name": "stderr",
     "output_type": "stream",
     "text": [
      " 17%|█▋        | 36/206 [00:51<03:25,  1.21s/it]"
     ]
    },
    {
     "name": "stdout",
     "output_type": "stream",
     "text": [
      "[0]\tvalidation_0-logloss:0.44164\n",
      "Will train until validation_0-logloss hasn't improved in 100 rounds.\n",
      "[100]\tvalidation_0-logloss:0.03264\n",
      "Stopping. Best iteration:\n",
      "[22]\tvalidation_0-logloss:0.02487\n",
      "\n"
     ]
    },
    {
     "name": "stderr",
     "output_type": "stream",
     "text": [
      " 18%|█▊        | 37/206 [00:53<03:51,  1.37s/it]"
     ]
    },
    {
     "name": "stdout",
     "output_type": "stream",
     "text": [
      "[0]\tvalidation_0-logloss:0.43847\n",
      "Will train until validation_0-logloss hasn't improved in 100 rounds.\n",
      "[100]\tvalidation_0-logloss:0.00855\n",
      "Stopping. Best iteration:\n",
      "[21]\tvalidation_0-logloss:0.00667\n",
      "\n"
     ]
    },
    {
     "name": "stderr",
     "output_type": "stream",
     "text": [
      " 18%|█▊        | 38/206 [00:54<03:38,  1.30s/it]"
     ]
    },
    {
     "name": "stdout",
     "output_type": "stream",
     "text": [
      "[0]\tvalidation_0-logloss:0.44113\n",
      "Will train until validation_0-logloss hasn't improved in 100 rounds.\n",
      "[100]\tvalidation_0-logloss:0.01700\n",
      "Stopping. Best iteration:\n",
      "[21]\tvalidation_0-logloss:0.01474\n",
      "\n"
     ]
    },
    {
     "name": "stderr",
     "output_type": "stream",
     "text": [
      " 19%|█▉        | 39/206 [00:56<03:48,  1.37s/it]"
     ]
    },
    {
     "name": "stdout",
     "output_type": "stream",
     "text": [
      "[0]\tvalidation_0-logloss:0.43784\n",
      "Will train until validation_0-logloss hasn't improved in 100 rounds.\n",
      "[100]\tvalidation_0-logloss:0.00217\n",
      "Stopping. Best iteration:\n",
      "[40]\tvalidation_0-logloss:0.00211\n",
      "\n"
     ]
    },
    {
     "name": "stderr",
     "output_type": "stream",
     "text": [
      " 19%|█▉        | 40/206 [00:57<03:34,  1.29s/it]"
     ]
    },
    {
     "name": "stdout",
     "output_type": "stream",
     "text": [
      "[0]\tvalidation_0-logloss:0.44040\n",
      "Will train until validation_0-logloss hasn't improved in 100 rounds.\n",
      "[100]\tvalidation_0-logloss:0.02762\n",
      "Stopping. Best iteration:\n",
      "[19]\tvalidation_0-logloss:0.01994\n",
      "\n"
     ]
    },
    {
     "name": "stderr",
     "output_type": "stream",
     "text": [
      " 20%|█▉        | 41/206 [00:59<03:55,  1.43s/it]"
     ]
    },
    {
     "name": "stdout",
     "output_type": "stream",
     "text": [
      "[0]\tvalidation_0-logloss:0.44118\n",
      "Will train until validation_0-logloss hasn't improved in 100 rounds.\n",
      "[100]\tvalidation_0-logloss:0.03179\n",
      "Stopping. Best iteration:\n",
      "[20]\tvalidation_0-logloss:0.02323\n",
      "\n"
     ]
    },
    {
     "name": "stderr",
     "output_type": "stream",
     "text": [
      " 20%|██        | 42/206 [01:00<04:05,  1.50s/it]"
     ]
    },
    {
     "name": "stdout",
     "output_type": "stream",
     "text": [
      "[0]\tvalidation_0-logloss:0.43936\n",
      "Will train until validation_0-logloss hasn't improved in 100 rounds.\n",
      "[100]\tvalidation_0-logloss:0.01728\n",
      "Stopping. Best iteration:\n",
      "[20]\tvalidation_0-logloss:0.01382\n",
      "\n"
     ]
    },
    {
     "name": "stderr",
     "output_type": "stream",
     "text": [
      " 21%|██        | 43/206 [01:02<03:58,  1.46s/it]"
     ]
    },
    {
     "name": "stdout",
     "output_type": "stream",
     "text": [
      "[0]\tvalidation_0-logloss:0.44652\n",
      "Will train until validation_0-logloss hasn't improved in 100 rounds.\n",
      "[100]\tvalidation_0-logloss:0.07838\n",
      "Stopping. Best iteration:\n",
      "[16]\tvalidation_0-logloss:0.05182\n",
      "\n"
     ]
    },
    {
     "name": "stderr",
     "output_type": "stream",
     "text": [
      " 21%|██▏       | 44/206 [01:04<04:28,  1.66s/it]"
     ]
    },
    {
     "name": "stdout",
     "output_type": "stream",
     "text": [
      "[0]\tvalidation_0-logloss:0.44176\n",
      "Will train until validation_0-logloss hasn't improved in 100 rounds.\n",
      "[100]\tvalidation_0-logloss:0.04112\n",
      "Stopping. Best iteration:\n",
      "[17]\tvalidation_0-logloss:0.02785\n",
      "\n"
     ]
    },
    {
     "name": "stderr",
     "output_type": "stream",
     "text": [
      " 22%|██▏       | 45/206 [01:06<04:29,  1.67s/it]"
     ]
    },
    {
     "name": "stdout",
     "output_type": "stream",
     "text": [
      "[0]\tvalidation_0-logloss:0.44297\n",
      "Will train until validation_0-logloss hasn't improved in 100 rounds.\n",
      "[100]\tvalidation_0-logloss:0.04875\n",
      "Stopping. Best iteration:\n",
      "[19]\tvalidation_0-logloss:0.03385\n",
      "\n"
     ]
    },
    {
     "name": "stderr",
     "output_type": "stream",
     "text": [
      " 22%|██▏       | 46/206 [01:07<04:39,  1.74s/it]"
     ]
    },
    {
     "name": "stdout",
     "output_type": "stream",
     "text": [
      "[0]\tvalidation_0-logloss:0.43786\n",
      "Will train until validation_0-logloss hasn't improved in 100 rounds.\n",
      "[100]\tvalidation_0-logloss:0.00249\n",
      "Stopping. Best iteration:\n",
      "[27]\tvalidation_0-logloss:0.00224\n",
      "\n"
     ]
    },
    {
     "name": "stderr",
     "output_type": "stream",
     "text": [
      " 23%|██▎       | 47/206 [01:09<04:07,  1.55s/it]"
     ]
    },
    {
     "name": "stdout",
     "output_type": "stream",
     "text": [
      "[0]\tvalidation_0-logloss:0.43907\n",
      "Will train until validation_0-logloss hasn't improved in 100 rounds.\n",
      "[100]\tvalidation_0-logloss:0.01338\n",
      "Stopping. Best iteration:\n",
      "[21]\tvalidation_0-logloss:0.01138\n",
      "\n"
     ]
    },
    {
     "name": "stderr",
     "output_type": "stream",
     "text": [
      " 23%|██▎       | 48/206 [01:10<03:53,  1.48s/it]"
     ]
    },
    {
     "name": "stdout",
     "output_type": "stream",
     "text": [
      "[0]\tvalidation_0-logloss:0.43923\n",
      "Will train until validation_0-logloss hasn't improved in 100 rounds.\n",
      "[100]\tvalidation_0-logloss:0.01246\n",
      "Stopping. Best iteration:\n",
      "[20]\tvalidation_0-logloss:0.01061\n",
      "\n"
     ]
    },
    {
     "name": "stderr",
     "output_type": "stream",
     "text": [
      " 24%|██▍       | 49/206 [01:11<03:46,  1.44s/it]"
     ]
    },
    {
     "name": "stdout",
     "output_type": "stream",
     "text": [
      "[0]\tvalidation_0-logloss:0.44072\n",
      "Will train until validation_0-logloss hasn't improved in 100 rounds.\n",
      "[100]\tvalidation_0-logloss:0.02831\n",
      "Stopping. Best iteration:\n",
      "[17]\tvalidation_0-logloss:0.02094\n",
      "\n"
     ]
    },
    {
     "name": "stderr",
     "output_type": "stream",
     "text": [
      " 24%|██▍       | 50/206 [01:13<03:48,  1.47s/it]"
     ]
    },
    {
     "name": "stdout",
     "output_type": "stream",
     "text": [
      "[0]\tvalidation_0-logloss:0.43858\n",
      "Will train until validation_0-logloss hasn't improved in 100 rounds.\n",
      "[100]\tvalidation_0-logloss:0.01014\n",
      "Stopping. Best iteration:\n",
      "[24]\tvalidation_0-logloss:0.00786\n",
      "\n"
     ]
    },
    {
     "name": "stderr",
     "output_type": "stream",
     "text": [
      " 25%|██▍       | 51/206 [01:14<03:43,  1.44s/it]"
     ]
    },
    {
     "name": "stdout",
     "output_type": "stream",
     "text": [
      "[0]\tvalidation_0-logloss:0.43990\n",
      "Will train until validation_0-logloss hasn't improved in 100 rounds.\n",
      "[100]\tvalidation_0-logloss:0.01304\n",
      "Stopping. Best iteration:\n",
      "[22]\tvalidation_0-logloss:0.01185\n",
      "\n"
     ]
    },
    {
     "name": "stderr",
     "output_type": "stream",
     "text": [
      " 25%|██▌       | 52/206 [01:16<03:43,  1.45s/it]"
     ]
    },
    {
     "name": "stdout",
     "output_type": "stream",
     "text": [
      "[0]\tvalidation_0-logloss:0.43886\n",
      "Will train until validation_0-logloss hasn't improved in 100 rounds.\n",
      "[100]\tvalidation_0-logloss:0.01360\n",
      "Stopping. Best iteration:\n",
      "[21]\tvalidation_0-logloss:0.01017\n",
      "\n"
     ]
    },
    {
     "name": "stderr",
     "output_type": "stream",
     "text": [
      " 26%|██▌       | 53/206 [01:17<03:34,  1.40s/it]"
     ]
    },
    {
     "name": "stdout",
     "output_type": "stream",
     "text": [
      "[0]\tvalidation_0-logloss:0.43784\n",
      "Will train until validation_0-logloss hasn't improved in 100 rounds.\n",
      "[100]\tvalidation_0-logloss:0.00273\n",
      "Stopping. Best iteration:\n",
      "[33]\tvalidation_0-logloss:0.00241\n",
      "\n"
     ]
    },
    {
     "name": "stderr",
     "output_type": "stream",
     "text": [
      " 26%|██▌       | 54/206 [01:18<03:26,  1.36s/it]"
     ]
    },
    {
     "name": "stdout",
     "output_type": "stream",
     "text": [
      "[0]\tvalidation_0-logloss:0.45044\n",
      "Will train until validation_0-logloss hasn't improved in 100 rounds.\n",
      "[100]\tvalidation_0-logloss:0.10672\n",
      "Stopping. Best iteration:\n",
      "[15]\tvalidation_0-logloss:0.06792\n",
      "\n"
     ]
    },
    {
     "name": "stderr",
     "output_type": "stream",
     "text": [
      " 27%|██▋       | 55/206 [01:20<04:02,  1.61s/it]"
     ]
    },
    {
     "name": "stdout",
     "output_type": "stream",
     "text": [
      "[0]\tvalidation_0-logloss:0.43949\n",
      "Will train until validation_0-logloss hasn't improved in 100 rounds.\n",
      "[100]\tvalidation_0-logloss:0.01908\n",
      "Stopping. Best iteration:\n",
      "[19]\tvalidation_0-logloss:0.01369\n",
      "\n"
     ]
    },
    {
     "name": "stderr",
     "output_type": "stream",
     "text": [
      " 27%|██▋       | 56/206 [01:22<03:50,  1.54s/it]"
     ]
    },
    {
     "name": "stdout",
     "output_type": "stream",
     "text": [
      "[0]\tvalidation_0-logloss:0.44012\n",
      "Will train until validation_0-logloss hasn't improved in 100 rounds.\n",
      "[100]\tvalidation_0-logloss:0.02263\n",
      "Stopping. Best iteration:\n",
      "[21]\tvalidation_0-logloss:0.01723\n",
      "\n"
     ]
    },
    {
     "name": "stderr",
     "output_type": "stream",
     "text": [
      " 28%|██▊       | 57/206 [01:23<03:45,  1.52s/it]"
     ]
    },
    {
     "name": "stdout",
     "output_type": "stream",
     "text": [
      "[0]\tvalidation_0-logloss:0.43919\n",
      "Will train until validation_0-logloss hasn't improved in 100 rounds.\n",
      "[100]\tvalidation_0-logloss:0.01678\n",
      "Stopping. Best iteration:\n",
      "[19]\tvalidation_0-logloss:0.01274\n",
      "\n"
     ]
    },
    {
     "name": "stderr",
     "output_type": "stream",
     "text": [
      " 28%|██▊       | 58/206 [01:25<03:38,  1.48s/it]"
     ]
    },
    {
     "name": "stdout",
     "output_type": "stream",
     "text": [
      "[0]\tvalidation_0-logloss:0.43919\n",
      "Will train until validation_0-logloss hasn't improved in 100 rounds.\n",
      "[100]\tvalidation_0-logloss:0.01469\n",
      "Stopping. Best iteration:\n",
      "[20]\tvalidation_0-logloss:0.01146\n",
      "\n"
     ]
    },
    {
     "name": "stderr",
     "output_type": "stream",
     "text": [
      " 29%|██▊       | 59/206 [01:26<03:34,  1.46s/it]"
     ]
    },
    {
     "name": "stdout",
     "output_type": "stream",
     "text": [
      "[0]\tvalidation_0-logloss:0.43828\n",
      "Will train until validation_0-logloss hasn't improved in 100 rounds.\n",
      "[100]\tvalidation_0-logloss:0.00641\n",
      "Stopping. Best iteration:\n",
      "[22]\tvalidation_0-logloss:0.00510\n",
      "\n"
     ]
    },
    {
     "name": "stderr",
     "output_type": "stream",
     "text": [
      " 29%|██▉       | 60/206 [01:27<03:22,  1.39s/it]"
     ]
    },
    {
     "name": "stdout",
     "output_type": "stream",
     "text": [
      "[0]\tvalidation_0-logloss:0.43814\n",
      "Will train until validation_0-logloss hasn't improved in 100 rounds.\n",
      "[100]\tvalidation_0-logloss:0.00635\n",
      "Stopping. Best iteration:\n",
      "[25]\tvalidation_0-logloss:0.00527\n",
      "\n"
     ]
    },
    {
     "name": "stderr",
     "output_type": "stream",
     "text": [
      " 30%|██▉       | 61/206 [01:28<03:11,  1.32s/it]"
     ]
    },
    {
     "name": "stdout",
     "output_type": "stream",
     "text": [
      "[0]\tvalidation_0-logloss:0.44235\n",
      "Will train until validation_0-logloss hasn't improved in 100 rounds.\n",
      "[100]\tvalidation_0-logloss:0.04078\n",
      "Stopping. Best iteration:\n",
      "[18]\tvalidation_0-logloss:0.02812\n",
      "\n"
     ]
    },
    {
     "name": "stderr",
     "output_type": "stream",
     "text": [
      " 30%|███       | 62/206 [01:30<03:25,  1.43s/it]"
     ]
    },
    {
     "name": "stdout",
     "output_type": "stream",
     "text": [
      "[0]\tvalidation_0-logloss:0.43828\n",
      "Will train until validation_0-logloss hasn't improved in 100 rounds.\n",
      "[100]\tvalidation_0-logloss:0.00673\n",
      "Stopping. Best iteration:\n",
      "[24]\tvalidation_0-logloss:0.00563\n",
      "\n"
     ]
    },
    {
     "name": "stderr",
     "output_type": "stream",
     "text": [
      " 31%|███       | 63/206 [01:31<03:14,  1.36s/it]"
     ]
    },
    {
     "name": "stdout",
     "output_type": "stream",
     "text": [
      "[0]\tvalidation_0-logloss:0.44355\n",
      "Will train until validation_0-logloss hasn't improved in 100 rounds.\n",
      "[100]\tvalidation_0-logloss:0.02799\n",
      "Stopping. Best iteration:\n",
      "[18]\tvalidation_0-logloss:0.02361\n",
      "\n"
     ]
    },
    {
     "name": "stderr",
     "output_type": "stream",
     "text": [
      " 31%|███       | 64/206 [01:33<03:27,  1.46s/it]"
     ]
    },
    {
     "name": "stdout",
     "output_type": "stream",
     "text": [
      "[0]\tvalidation_0-logloss:0.44007\n",
      "Will train until validation_0-logloss hasn't improved in 100 rounds.\n",
      "[100]\tvalidation_0-logloss:0.02478\n",
      "Stopping. Best iteration:\n",
      "[18]\tvalidation_0-logloss:0.01876\n",
      "\n"
     ]
    },
    {
     "name": "stderr",
     "output_type": "stream",
     "text": [
      " 32%|███▏      | 65/206 [01:34<03:26,  1.46s/it]"
     ]
    },
    {
     "name": "stdout",
     "output_type": "stream",
     "text": [
      "[0]\tvalidation_0-logloss:0.43858\n",
      "Will train until validation_0-logloss hasn't improved in 100 rounds.\n",
      "[100]\tvalidation_0-logloss:0.00607\n",
      "Stopping. Best iteration:\n",
      "[23]\tvalidation_0-logloss:0.00586\n",
      "\n"
     ]
    },
    {
     "name": "stderr",
     "output_type": "stream",
     "text": [
      " 32%|███▏      | 66/206 [01:36<03:15,  1.39s/it]"
     ]
    },
    {
     "name": "stdout",
     "output_type": "stream",
     "text": [
      "[0]\tvalidation_0-logloss:0.43970\n",
      "Will train until validation_0-logloss hasn't improved in 100 rounds.\n",
      "[100]\tvalidation_0-logloss:0.01786\n",
      "Stopping. Best iteration:\n",
      "[19]\tvalidation_0-logloss:0.01315\n",
      "\n"
     ]
    },
    {
     "name": "stderr",
     "output_type": "stream",
     "text": [
      " 33%|███▎      | 67/206 [01:37<03:16,  1.41s/it]"
     ]
    },
    {
     "name": "stdout",
     "output_type": "stream",
     "text": [
      "[0]\tvalidation_0-logloss:0.43979\n",
      "Will train until validation_0-logloss hasn't improved in 100 rounds.\n",
      "[100]\tvalidation_0-logloss:0.02151\n",
      "Stopping. Best iteration:\n",
      "[19]\tvalidation_0-logloss:0.01548\n",
      "\n"
     ]
    },
    {
     "name": "stderr",
     "output_type": "stream",
     "text": [
      " 33%|███▎      | 68/206 [01:39<03:19,  1.45s/it]"
     ]
    },
    {
     "name": "stdout",
     "output_type": "stream",
     "text": [
      "[0]\tvalidation_0-logloss:0.44010\n",
      "Will train until validation_0-logloss hasn't improved in 100 rounds.\n",
      "[100]\tvalidation_0-logloss:0.02555\n",
      "Stopping. Best iteration:\n",
      "[17]\tvalidation_0-logloss:0.01853\n",
      "\n"
     ]
    },
    {
     "name": "stderr",
     "output_type": "stream",
     "text": [
      " 33%|███▎      | 69/206 [01:40<03:25,  1.50s/it]"
     ]
    },
    {
     "name": "stdout",
     "output_type": "stream",
     "text": [
      "[0]\tvalidation_0-logloss:0.43784\n",
      "Will train until validation_0-logloss hasn't improved in 100 rounds.\n",
      "[100]\tvalidation_0-logloss:0.00317\n",
      "Stopping. Best iteration:\n",
      "[26]\tvalidation_0-logloss:0.00282\n",
      "\n"
     ]
    },
    {
     "name": "stderr",
     "output_type": "stream",
     "text": [
      " 34%|███▍      | 70/206 [01:41<03:09,  1.39s/it]"
     ]
    },
    {
     "name": "stdout",
     "output_type": "stream",
     "text": [
      "[0]\tvalidation_0-logloss:0.43938\n",
      "Will train until validation_0-logloss hasn't improved in 100 rounds.\n",
      "[100]\tvalidation_0-logloss:0.01128\n",
      "Stopping. Best iteration:\n",
      "[24]\tvalidation_0-logloss:0.00892\n",
      "\n"
     ]
    },
    {
     "name": "stderr",
     "output_type": "stream",
     "text": [
      " 34%|███▍      | 71/206 [01:43<03:05,  1.37s/it]"
     ]
    },
    {
     "name": "stdout",
     "output_type": "stream",
     "text": [
      "[0]\tvalidation_0-logloss:0.45813\n",
      "Will train until validation_0-logloss hasn't improved in 100 rounds.\n",
      "[100]\tvalidation_0-logloss:0.15140\n",
      "Stopping. Best iteration:\n",
      "[15]\tvalidation_0-logloss:0.09667\n",
      "\n"
     ]
    },
    {
     "name": "stderr",
     "output_type": "stream",
     "text": [
      " 35%|███▍      | 72/206 [01:45<03:44,  1.68s/it]"
     ]
    },
    {
     "name": "stdout",
     "output_type": "stream",
     "text": [
      "[0]\tvalidation_0-logloss:0.44235\n",
      "Will train until validation_0-logloss hasn't improved in 100 rounds.\n",
      "[100]\tvalidation_0-logloss:0.04426\n",
      "Stopping. Best iteration:\n",
      "[19]\tvalidation_0-logloss:0.03029\n",
      "\n"
     ]
    },
    {
     "name": "stderr",
     "output_type": "stream",
     "text": [
      " 35%|███▌      | 73/206 [01:47<03:45,  1.70s/it]"
     ]
    },
    {
     "name": "stdout",
     "output_type": "stream",
     "text": [
      "[0]\tvalidation_0-logloss:0.43923\n",
      "Will train until validation_0-logloss hasn't improved in 100 rounds.\n",
      "[100]\tvalidation_0-logloss:0.01381\n",
      "Stopping. Best iteration:\n",
      "[19]\tvalidation_0-logloss:0.01109\n",
      "\n"
     ]
    },
    {
     "name": "stderr",
     "output_type": "stream",
     "text": [
      " 36%|███▌      | 74/206 [01:48<03:29,  1.59s/it]"
     ]
    },
    {
     "name": "stdout",
     "output_type": "stream",
     "text": [
      "[0]\tvalidation_0-logloss:0.43860\n",
      "Will train until validation_0-logloss hasn't improved in 100 rounds.\n",
      "[100]\tvalidation_0-logloss:0.00962\n",
      "Stopping. Best iteration:\n",
      "[24]\tvalidation_0-logloss:0.00767\n",
      "\n"
     ]
    },
    {
     "name": "stderr",
     "output_type": "stream",
     "text": [
      " 36%|███▋      | 75/206 [01:50<03:20,  1.53s/it]"
     ]
    },
    {
     "name": "stdout",
     "output_type": "stream",
     "text": [
      "[0]\tvalidation_0-logloss:0.43784\n",
      "Will train until validation_0-logloss hasn't improved in 100 rounds.\n",
      "[100]\tvalidation_0-logloss:0.00307\n",
      "Stopping. Best iteration:\n",
      "[31]\tvalidation_0-logloss:0.00283\n",
      "\n"
     ]
    },
    {
     "name": "stderr",
     "output_type": "stream",
     "text": [
      " 37%|███▋      | 76/206 [01:51<03:03,  1.41s/it]"
     ]
    },
    {
     "name": "stdout",
     "output_type": "stream",
     "text": [
      "[0]\tvalidation_0-logloss:0.43979\n",
      "Will train until validation_0-logloss hasn't improved in 100 rounds.\n",
      "[100]\tvalidation_0-logloss:0.02130\n",
      "Stopping. Best iteration:\n",
      "[20]\tvalidation_0-logloss:0.01602\n",
      "\n"
     ]
    },
    {
     "name": "stderr",
     "output_type": "stream",
     "text": [
      " 37%|███▋      | 77/206 [01:52<03:03,  1.42s/it]"
     ]
    },
    {
     "name": "stdout",
     "output_type": "stream",
     "text": [
      "[0]\tvalidation_0-logloss:0.45608\n",
      "Will train until validation_0-logloss hasn't improved in 100 rounds.\n",
      "[100]\tvalidation_0-logloss:0.13359\n",
      "Stopping. Best iteration:\n",
      "[16]\tvalidation_0-logloss:0.08794\n",
      "\n"
     ]
    },
    {
     "name": "stderr",
     "output_type": "stream",
     "text": [
      " 38%|███▊      | 78/206 [01:55<03:38,  1.70s/it]"
     ]
    },
    {
     "name": "stdout",
     "output_type": "stream",
     "text": [
      "[0]\tvalidation_0-logloss:0.44327\n",
      "Will train until validation_0-logloss hasn't improved in 100 rounds.\n",
      "[100]\tvalidation_0-logloss:0.05459\n",
      "Stopping. Best iteration:\n",
      "[16]\tvalidation_0-logloss:0.03626\n",
      "\n"
     ]
    },
    {
     "name": "stderr",
     "output_type": "stream",
     "text": [
      " 38%|███▊      | 79/206 [01:56<03:36,  1.71s/it]"
     ]
    },
    {
     "name": "stdout",
     "output_type": "stream",
     "text": [
      "[0]\tvalidation_0-logloss:0.45689\n",
      "Will train until validation_0-logloss hasn't improved in 100 rounds.\n",
      "[100]\tvalidation_0-logloss:0.13561\n",
      "Stopping. Best iteration:\n",
      "[15]\tvalidation_0-logloss:0.09079\n",
      "\n"
     ]
    },
    {
     "name": "stderr",
     "output_type": "stream",
     "text": [
      " 39%|███▉      | 80/206 [01:59<04:14,  2.02s/it]"
     ]
    },
    {
     "name": "stdout",
     "output_type": "stream",
     "text": [
      "[0]\tvalidation_0-logloss:0.44707\n",
      "Will train until validation_0-logloss hasn't improved in 100 rounds.\n",
      "[100]\tvalidation_0-logloss:0.02858\n",
      "Stopping. Best iteration:\n",
      "[27]\tvalidation_0-logloss:0.02723\n",
      "\n"
     ]
    },
    {
     "name": "stderr",
     "output_type": "stream",
     "text": [
      " 39%|███▉      | 81/206 [02:01<04:08,  1.99s/it]"
     ]
    },
    {
     "name": "stdout",
     "output_type": "stream",
     "text": [
      "[0]\tvalidation_0-logloss:0.43767\n",
      "Will train until validation_0-logloss hasn't improved in 100 rounds.\n",
      "[100]\tvalidation_0-logloss:0.00006\n",
      "Stopping. Best iteration:\n",
      "[60]\tvalidation_0-logloss:0.00006\n",
      "\n"
     ]
    },
    {
     "name": "stderr",
     "output_type": "stream",
     "text": [
      " 40%|███▉      | 82/206 [02:02<03:37,  1.75s/it]"
     ]
    },
    {
     "name": "stdout",
     "output_type": "stream",
     "text": [
      "[0]\tvalidation_0-logloss:0.43756\n",
      "Will train until validation_0-logloss hasn't improved in 100 rounds.\n",
      "[100]\tvalidation_0-logloss:0.00005\n",
      "Stopping. Best iteration:\n",
      "[62]\tvalidation_0-logloss:0.00005\n",
      "\n"
     ]
    },
    {
     "name": "stderr",
     "output_type": "stream",
     "text": [
      " 40%|████      | 83/206 [02:03<03:12,  1.56s/it]"
     ]
    },
    {
     "name": "stdout",
     "output_type": "stream",
     "text": [
      "[0]\tvalidation_0-logloss:0.44493\n",
      "Will train until validation_0-logloss hasn't improved in 100 rounds.\n",
      "[100]\tvalidation_0-logloss:0.06850\n",
      "Stopping. Best iteration:\n",
      "[17]\tvalidation_0-logloss:0.04295\n",
      "\n"
     ]
    },
    {
     "name": "stderr",
     "output_type": "stream",
     "text": [
      " 41%|████      | 84/206 [02:05<03:20,  1.65s/it]"
     ]
    },
    {
     "name": "stdout",
     "output_type": "stream",
     "text": [
      "[0]\tvalidation_0-logloss:0.43989\n",
      "Will train until validation_0-logloss hasn't improved in 100 rounds.\n",
      "[100]\tvalidation_0-logloss:0.02247\n",
      "Stopping. Best iteration:\n",
      "[20]\tvalidation_0-logloss:0.01605\n",
      "\n"
     ]
    },
    {
     "name": "stderr",
     "output_type": "stream",
     "text": [
      " 41%|████▏     | 85/206 [02:07<03:13,  1.60s/it]"
     ]
    },
    {
     "name": "stdout",
     "output_type": "stream",
     "text": [
      "[0]\tvalidation_0-logloss:0.43919\n",
      "Will train until validation_0-logloss hasn't improved in 100 rounds.\n",
      "[100]\tvalidation_0-logloss:0.01480\n",
      "Stopping. Best iteration:\n",
      "[21]\tvalidation_0-logloss:0.01185\n",
      "\n"
     ]
    },
    {
     "name": "stderr",
     "output_type": "stream",
     "text": [
      " 42%|████▏     | 86/206 [02:08<03:04,  1.53s/it]"
     ]
    },
    {
     "name": "stdout",
     "output_type": "stream",
     "text": [
      "[0]\tvalidation_0-logloss:0.43844\n",
      "Will train until validation_0-logloss hasn't improved in 100 rounds.\n",
      "[100]\tvalidation_0-logloss:0.00816\n",
      "Stopping. Best iteration:\n",
      "[22]\tvalidation_0-logloss:0.00632\n",
      "\n"
     ]
    },
    {
     "name": "stderr",
     "output_type": "stream",
     "text": [
      " 42%|████▏     | 87/206 [02:09<02:53,  1.46s/it]"
     ]
    },
    {
     "name": "stdout",
     "output_type": "stream",
     "text": [
      "[0]\tvalidation_0-logloss:0.43877\n",
      "Will train until validation_0-logloss hasn't improved in 100 rounds.\n",
      "[100]\tvalidation_0-logloss:0.01284\n",
      "Stopping. Best iteration:\n",
      "[20]\tvalidation_0-logloss:0.01015\n",
      "\n"
     ]
    },
    {
     "name": "stderr",
     "output_type": "stream",
     "text": [
      " 43%|████▎     | 88/206 [02:10<02:45,  1.40s/it]"
     ]
    },
    {
     "name": "stdout",
     "output_type": "stream",
     "text": [
      "[0]\tvalidation_0-logloss:0.43952\n",
      "Will train until validation_0-logloss hasn't improved in 100 rounds.\n",
      "[100]\tvalidation_0-logloss:0.01599\n",
      "Stopping. Best iteration:\n",
      "[21]\tvalidation_0-logloss:0.01205\n",
      "\n"
     ]
    },
    {
     "name": "stderr",
     "output_type": "stream",
     "text": [
      " 43%|████▎     | 89/206 [02:12<02:47,  1.43s/it]"
     ]
    },
    {
     "name": "stdout",
     "output_type": "stream",
     "text": [
      "[0]\tvalidation_0-logloss:0.44656\n",
      "Will train until validation_0-logloss hasn't improved in 100 rounds.\n",
      "[100]\tvalidation_0-logloss:0.03947\n",
      "Stopping. Best iteration:\n",
      "[18]\tvalidation_0-logloss:0.03359\n",
      "\n"
     ]
    },
    {
     "name": "stderr",
     "output_type": "stream",
     "text": [
      " 44%|████▎     | 90/206 [02:14<03:05,  1.60s/it]"
     ]
    },
    {
     "name": "stdout",
     "output_type": "stream",
     "text": [
      "[0]\tvalidation_0-logloss:0.43825\n",
      "Will train until validation_0-logloss hasn't improved in 100 rounds.\n",
      "[100]\tvalidation_0-logloss:0.00312\n",
      "Stopping. Best iteration:\n",
      "[40]\tvalidation_0-logloss:0.00299\n",
      "\n"
     ]
    },
    {
     "name": "stderr",
     "output_type": "stream",
     "text": [
      " 44%|████▍     | 91/206 [02:15<02:51,  1.49s/it]"
     ]
    },
    {
     "name": "stdout",
     "output_type": "stream",
     "text": [
      "[0]\tvalidation_0-logloss:0.43844\n",
      "Will train until validation_0-logloss hasn't improved in 100 rounds.\n",
      "[100]\tvalidation_0-logloss:0.00918\n",
      "Stopping. Best iteration:\n",
      "[21]\tvalidation_0-logloss:0.00746\n",
      "\n"
     ]
    },
    {
     "name": "stderr",
     "output_type": "stream",
     "text": [
      " 45%|████▍     | 92/206 [02:16<02:40,  1.41s/it]"
     ]
    },
    {
     "name": "stdout",
     "output_type": "stream",
     "text": [
      "[0]\tvalidation_0-logloss:0.43856\n",
      "Will train until validation_0-logloss hasn't improved in 100 rounds.\n",
      "[100]\tvalidation_0-logloss:0.00854\n",
      "Stopping. Best iteration:\n",
      "[27]\tvalidation_0-logloss:0.00713\n",
      "\n"
     ]
    },
    {
     "name": "stderr",
     "output_type": "stream",
     "text": [
      " 45%|████▌     | 93/206 [02:18<02:34,  1.37s/it]"
     ]
    },
    {
     "name": "stdout",
     "output_type": "stream",
     "text": [
      "[0]\tvalidation_0-logloss:0.44260\n",
      "Will train until validation_0-logloss hasn't improved in 100 rounds.\n",
      "[100]\tvalidation_0-logloss:0.04867\n",
      "Stopping. Best iteration:\n",
      "[16]\tvalidation_0-logloss:0.03299\n",
      "\n"
     ]
    },
    {
     "name": "stderr",
     "output_type": "stream",
     "text": [
      " 46%|████▌     | 94/206 [02:19<02:43,  1.46s/it]"
     ]
    },
    {
     "name": "stdout",
     "output_type": "stream",
     "text": [
      "[0]\tvalidation_0-logloss:0.44523\n",
      "Will train until validation_0-logloss hasn't improved in 100 rounds.\n",
      "[100]\tvalidation_0-logloss:0.06978\n",
      "Stopping. Best iteration:\n",
      "[16]\tvalidation_0-logloss:0.04505\n",
      "\n"
     ]
    },
    {
     "name": "stderr",
     "output_type": "stream",
     "text": [
      " 46%|████▌     | 95/206 [02:21<03:01,  1.64s/it]"
     ]
    },
    {
     "name": "stdout",
     "output_type": "stream",
     "text": [
      "[0]\tvalidation_0-logloss:0.43998\n",
      "Will train until validation_0-logloss hasn't improved in 100 rounds.\n",
      "[100]\tvalidation_0-logloss:0.01803\n",
      "Stopping. Best iteration:\n",
      "[21]\tvalidation_0-logloss:0.01525\n",
      "\n"
     ]
    },
    {
     "name": "stderr",
     "output_type": "stream",
     "text": [
      " 47%|████▋     | 96/206 [02:23<02:53,  1.58s/it]"
     ]
    },
    {
     "name": "stdout",
     "output_type": "stream",
     "text": [
      "[0]\tvalidation_0-logloss:0.44217\n",
      "Will train until validation_0-logloss hasn't improved in 100 rounds.\n",
      "[100]\tvalidation_0-logloss:0.01633\n",
      "Stopping. Best iteration:\n",
      "[24]\tvalidation_0-logloss:0.01421\n",
      "\n"
     ]
    },
    {
     "name": "stderr",
     "output_type": "stream",
     "text": [
      " 47%|████▋     | 97/206 [02:24<02:52,  1.58s/it]"
     ]
    },
    {
     "name": "stdout",
     "output_type": "stream",
     "text": [
      "[0]\tvalidation_0-logloss:0.43816\n",
      "Will train until validation_0-logloss hasn't improved in 100 rounds.\n",
      "[100]\tvalidation_0-logloss:0.00493\n",
      "Stopping. Best iteration:\n",
      "[40]\tvalidation_0-logloss:0.00460\n",
      "\n"
     ]
    },
    {
     "name": "stderr",
     "output_type": "stream",
     "text": [
      " 48%|████▊     | 98/206 [02:26<02:38,  1.47s/it]"
     ]
    },
    {
     "name": "stdout",
     "output_type": "stream",
     "text": [
      "[0]\tvalidation_0-logloss:0.44105\n",
      "Will train until validation_0-logloss hasn't improved in 100 rounds.\n",
      "[100]\tvalidation_0-logloss:0.03455\n",
      "Stopping. Best iteration:\n",
      "[18]\tvalidation_0-logloss:0.02375\n",
      "\n"
     ]
    },
    {
     "name": "stderr",
     "output_type": "stream",
     "text": [
      " 48%|████▊     | 99/206 [02:27<02:40,  1.50s/it]"
     ]
    },
    {
     "name": "stdout",
     "output_type": "stream",
     "text": [
      "[0]\tvalidation_0-logloss:0.45483\n",
      "Will train until validation_0-logloss hasn't improved in 100 rounds.\n",
      "[100]\tvalidation_0-logloss:0.14013\n",
      "Stopping. Best iteration:\n",
      "[16]\tvalidation_0-logloss:0.08693\n",
      "\n"
     ]
    },
    {
     "name": "stderr",
     "output_type": "stream",
     "text": [
      " 49%|████▊     | 100/206 [02:29<03:02,  1.72s/it]"
     ]
    },
    {
     "name": "stdout",
     "output_type": "stream",
     "text": [
      "[0]\tvalidation_0-logloss:0.43844\n",
      "Will train until validation_0-logloss hasn't improved in 100 rounds.\n",
      "[100]\tvalidation_0-logloss:0.01070\n",
      "Stopping. Best iteration:\n",
      "[21]\tvalidation_0-logloss:0.00803\n",
      "\n"
     ]
    },
    {
     "name": "stderr",
     "output_type": "stream",
     "text": [
      " 49%|████▉     | 101/206 [02:31<02:46,  1.58s/it]"
     ]
    },
    {
     "name": "stdout",
     "output_type": "stream",
     "text": [
      "[0]\tvalidation_0-logloss:0.43999\n",
      "Will train until validation_0-logloss hasn't improved in 100 rounds.\n",
      "[100]\tvalidation_0-logloss:0.01382\n",
      "Stopping. Best iteration:\n",
      "[25]\tvalidation_0-logloss:0.01137\n",
      "\n"
     ]
    },
    {
     "name": "stderr",
     "output_type": "stream",
     "text": [
      " 50%|████▉     | 102/206 [02:32<02:41,  1.55s/it]"
     ]
    },
    {
     "name": "stdout",
     "output_type": "stream",
     "text": [
      "[0]\tvalidation_0-logloss:0.44084\n",
      "Will train until validation_0-logloss hasn't improved in 100 rounds.\n",
      "[100]\tvalidation_0-logloss:0.03060\n",
      "Stopping. Best iteration:\n",
      "[17]\tvalidation_0-logloss:0.02113\n",
      "\n"
     ]
    },
    {
     "name": "stderr",
     "output_type": "stream",
     "text": [
      " 50%|█████     | 103/206 [02:34<02:39,  1.55s/it]"
     ]
    },
    {
     "name": "stdout",
     "output_type": "stream",
     "text": [
      "[0]\tvalidation_0-logloss:0.43999\n",
      "Will train until validation_0-logloss hasn't improved in 100 rounds.\n",
      "[100]\tvalidation_0-logloss:0.01354\n",
      "Stopping. Best iteration:\n",
      "[21]\tvalidation_0-logloss:0.01248\n",
      "\n"
     ]
    },
    {
     "name": "stderr",
     "output_type": "stream",
     "text": [
      " 50%|█████     | 104/206 [02:35<02:35,  1.53s/it]"
     ]
    },
    {
     "name": "stdout",
     "output_type": "stream",
     "text": [
      "[0]\tvalidation_0-logloss:0.44021\n",
      "Will train until validation_0-logloss hasn't improved in 100 rounds.\n",
      "[100]\tvalidation_0-logloss:0.02521\n",
      "Stopping. Best iteration:\n",
      "[18]\tvalidation_0-logloss:0.01807\n",
      "\n"
     ]
    },
    {
     "name": "stderr",
     "output_type": "stream",
     "text": [
      " 51%|█████     | 105/206 [02:37<02:32,  1.51s/it]"
     ]
    },
    {
     "name": "stdout",
     "output_type": "stream",
     "text": [
      "[0]\tvalidation_0-logloss:0.44876\n",
      "Will train until validation_0-logloss hasn't improved in 100 rounds.\n",
      "[100]\tvalidation_0-logloss:0.09526\n",
      "Stopping. Best iteration:\n",
      "[16]\tvalidation_0-logloss:0.06287\n",
      "\n"
     ]
    },
    {
     "name": "stderr",
     "output_type": "stream",
     "text": [
      " 51%|█████▏    | 106/206 [02:39<02:47,  1.67s/it]"
     ]
    },
    {
     "name": "stdout",
     "output_type": "stream",
     "text": [
      "[0]\tvalidation_0-logloss:0.43858\n",
      "Will train until validation_0-logloss hasn't improved in 100 rounds.\n",
      "[100]\tvalidation_0-logloss:0.00706\n",
      "Stopping. Best iteration:\n",
      "[24]\tvalidation_0-logloss:0.00689\n",
      "\n"
     ]
    },
    {
     "name": "stderr",
     "output_type": "stream",
     "text": [
      " 52%|█████▏    | 107/206 [02:40<02:32,  1.54s/it]"
     ]
    },
    {
     "name": "stdout",
     "output_type": "stream",
     "text": [
      "[0]\tvalidation_0-logloss:0.43910\n",
      "Will train until validation_0-logloss hasn't improved in 100 rounds.\n",
      "[100]\tvalidation_0-logloss:0.01378\n",
      "Stopping. Best iteration:\n",
      "[21]\tvalidation_0-logloss:0.01174\n",
      "\n"
     ]
    },
    {
     "name": "stderr",
     "output_type": "stream",
     "text": [
      " 52%|█████▏    | 108/206 [02:41<02:23,  1.47s/it]"
     ]
    },
    {
     "name": "stdout",
     "output_type": "stream",
     "text": [
      "[0]\tvalidation_0-logloss:0.44084\n",
      "Will train until validation_0-logloss hasn't improved in 100 rounds.\n",
      "[100]\tvalidation_0-logloss:0.02998\n",
      "Stopping. Best iteration:\n",
      "[18]\tvalidation_0-logloss:0.02098\n",
      "\n"
     ]
    },
    {
     "name": "stderr",
     "output_type": "stream",
     "text": [
      " 53%|█████▎    | 109/206 [02:43<02:28,  1.53s/it]"
     ]
    },
    {
     "name": "stdout",
     "output_type": "stream",
     "text": [
      "[0]\tvalidation_0-logloss:0.44403\n",
      "Will train until validation_0-logloss hasn't improved in 100 rounds.\n",
      "[100]\tvalidation_0-logloss:0.01730\n",
      "Stopping. Best iteration:\n",
      "[27]\tvalidation_0-logloss:0.01696\n",
      "\n"
     ]
    },
    {
     "name": "stderr",
     "output_type": "stream",
     "text": [
      " 53%|█████▎    | 110/206 [02:45<02:30,  1.56s/it]"
     ]
    },
    {
     "name": "stdout",
     "output_type": "stream",
     "text": [
      "[0]\tvalidation_0-logloss:0.43939\n",
      "Will train until validation_0-logloss hasn't improved in 100 rounds.\n",
      "[100]\tvalidation_0-logloss:0.01633\n",
      "Stopping. Best iteration:\n",
      "[19]\tvalidation_0-logloss:0.01249\n",
      "\n"
     ]
    },
    {
     "name": "stderr",
     "output_type": "stream",
     "text": [
      " 54%|█████▍    | 111/206 [02:46<02:25,  1.53s/it]"
     ]
    },
    {
     "name": "stdout",
     "output_type": "stream",
     "text": [
      "[0]\tvalidation_0-logloss:0.43921\n",
      "Will train until validation_0-logloss hasn't improved in 100 rounds.\n",
      "[100]\tvalidation_0-logloss:0.01209\n",
      "Stopping. Best iteration:\n",
      "[22]\tvalidation_0-logloss:0.00984\n",
      "\n"
     ]
    },
    {
     "name": "stderr",
     "output_type": "stream",
     "text": [
      " 54%|█████▍    | 112/206 [02:48<02:23,  1.52s/it]"
     ]
    },
    {
     "name": "stdout",
     "output_type": "stream",
     "text": [
      "[0]\tvalidation_0-logloss:0.43905\n",
      "Will train until validation_0-logloss hasn't improved in 100 rounds.\n",
      "[100]\tvalidation_0-logloss:0.01169\n",
      "Stopping. Best iteration:\n",
      "[24]\tvalidation_0-logloss:0.00959\n",
      "\n"
     ]
    },
    {
     "name": "stderr",
     "output_type": "stream",
     "text": [
      " 55%|█████▍    | 113/206 [02:49<02:14,  1.45s/it]"
     ]
    },
    {
     "name": "stdout",
     "output_type": "stream",
     "text": [
      "[0]\tvalidation_0-logloss:0.43891\n",
      "Will train until validation_0-logloss hasn't improved in 100 rounds.\n",
      "[100]\tvalidation_0-logloss:0.01134\n",
      "Stopping. Best iteration:\n",
      "[24]\tvalidation_0-logloss:0.00952\n",
      "\n"
     ]
    },
    {
     "name": "stderr",
     "output_type": "stream",
     "text": [
      " 55%|█████▌    | 114/206 [02:50<02:10,  1.42s/it]"
     ]
    },
    {
     "name": "stdout",
     "output_type": "stream",
     "text": [
      "[0]\tvalidation_0-logloss:0.44085\n",
      "Will train until validation_0-logloss hasn't improved in 100 rounds.\n",
      "[100]\tvalidation_0-logloss:0.02759\n",
      "Stopping. Best iteration:\n",
      "[21]\tvalidation_0-logloss:0.02092\n",
      "\n"
     ]
    },
    {
     "name": "stderr",
     "output_type": "stream",
     "text": [
      " 56%|█████▌    | 115/206 [02:52<02:14,  1.47s/it]"
     ]
    },
    {
     "name": "stdout",
     "output_type": "stream",
     "text": [
      "[0]\tvalidation_0-logloss:0.43905\n",
      "Will train until validation_0-logloss hasn't improved in 100 rounds.\n",
      "[100]\tvalidation_0-logloss:0.01484\n",
      "Stopping. Best iteration:\n",
      "[22]\tvalidation_0-logloss:0.01092\n",
      "\n"
     ]
    },
    {
     "name": "stderr",
     "output_type": "stream",
     "text": [
      " 56%|█████▋    | 116/206 [02:53<02:18,  1.54s/it]"
     ]
    },
    {
     "name": "stdout",
     "output_type": "stream",
     "text": [
      "[0]\tvalidation_0-logloss:0.43986\n",
      "Will train until validation_0-logloss hasn't improved in 100 rounds.\n",
      "[100]\tvalidation_0-logloss:0.01771\n",
      "Stopping. Best iteration:\n",
      "[20]\tvalidation_0-logloss:0.01371\n",
      "\n"
     ]
    },
    {
     "name": "stderr",
     "output_type": "stream",
     "text": [
      " 57%|█████▋    | 117/206 [02:55<02:15,  1.52s/it]"
     ]
    },
    {
     "name": "stdout",
     "output_type": "stream",
     "text": [
      "[0]\tvalidation_0-logloss:0.43949\n",
      "Will train until validation_0-logloss hasn't improved in 100 rounds.\n",
      "[100]\tvalidation_0-logloss:0.01864\n",
      "Stopping. Best iteration:\n",
      "[18]\tvalidation_0-logloss:0.01372\n",
      "\n"
     ]
    },
    {
     "name": "stderr",
     "output_type": "stream",
     "text": [
      " 57%|█████▋    | 118/206 [02:56<02:10,  1.49s/it]"
     ]
    },
    {
     "name": "stdout",
     "output_type": "stream",
     "text": [
      "[0]\tvalidation_0-logloss:0.44144\n",
      "Will train until validation_0-logloss hasn't improved in 100 rounds.\n",
      "[100]\tvalidation_0-logloss:0.02337\n",
      "Stopping. Best iteration:\n",
      "[21]\tvalidation_0-logloss:0.02008\n",
      "\n"
     ]
    },
    {
     "name": "stderr",
     "output_type": "stream",
     "text": [
      " 58%|█████▊    | 119/206 [02:58<02:13,  1.53s/it]"
     ]
    },
    {
     "name": "stdout",
     "output_type": "stream",
     "text": [
      "[0]\tvalidation_0-logloss:0.44558\n",
      "Will train until validation_0-logloss hasn't improved in 100 rounds.\n",
      "[100]\tvalidation_0-logloss:0.04019\n",
      "Stopping. Best iteration:\n",
      "[18]\tvalidation_0-logloss:0.03062\n",
      "\n"
     ]
    },
    {
     "name": "stderr",
     "output_type": "stream",
     "text": [
      " 58%|█████▊    | 120/206 [03:00<02:16,  1.59s/it]"
     ]
    },
    {
     "name": "stdout",
     "output_type": "stream",
     "text": [
      "[0]\tvalidation_0-logloss:0.43784\n",
      "Will train until validation_0-logloss hasn't improved in 100 rounds.\n",
      "[100]\tvalidation_0-logloss:0.00321\n",
      "Stopping. Best iteration:\n",
      "[27]\tvalidation_0-logloss:0.00288\n",
      "\n"
     ]
    },
    {
     "name": "stderr",
     "output_type": "stream",
     "text": [
      " 59%|█████▊    | 121/206 [03:01<02:03,  1.45s/it]"
     ]
    },
    {
     "name": "stdout",
     "output_type": "stream",
     "text": [
      "[0]\tvalidation_0-logloss:0.43784\n",
      "Will train until validation_0-logloss hasn't improved in 100 rounds.\n",
      "[100]\tvalidation_0-logloss:0.00338\n",
      "Stopping. Best iteration:\n",
      "[25]\tvalidation_0-logloss:0.00303\n",
      "\n"
     ]
    },
    {
     "name": "stderr",
     "output_type": "stream",
     "text": [
      " 59%|█████▉    | 122/206 [03:02<01:52,  1.34s/it]"
     ]
    },
    {
     "name": "stdout",
     "output_type": "stream",
     "text": [
      "[0]\tvalidation_0-logloss:0.44044\n",
      "Will train until validation_0-logloss hasn't improved in 100 rounds.\n",
      "[100]\tvalidation_0-logloss:0.02878\n",
      "Stopping. Best iteration:\n",
      "[17]\tvalidation_0-logloss:0.02036\n",
      "\n"
     ]
    },
    {
     "name": "stderr",
     "output_type": "stream",
     "text": [
      " 60%|█████▉    | 123/206 [03:04<01:57,  1.41s/it]"
     ]
    },
    {
     "name": "stdout",
     "output_type": "stream",
     "text": [
      "[0]\tvalidation_0-logloss:0.43797\n",
      "Will train until validation_0-logloss hasn't improved in 100 rounds.\n",
      "[100]\tvalidation_0-logloss:0.00339\n",
      "Stopping. Best iteration:\n",
      "[27]\tvalidation_0-logloss:0.00296\n",
      "\n"
     ]
    },
    {
     "name": "stderr",
     "output_type": "stream",
     "text": [
      " 60%|██████    | 124/206 [03:05<01:53,  1.38s/it]"
     ]
    },
    {
     "name": "stdout",
     "output_type": "stream",
     "text": [
      "[0]\tvalidation_0-logloss:0.44057\n",
      "Will train until validation_0-logloss hasn't improved in 100 rounds.\n",
      "[100]\tvalidation_0-logloss:0.02525\n",
      "Stopping. Best iteration:\n",
      "[23]\tvalidation_0-logloss:0.01900\n",
      "\n"
     ]
    },
    {
     "name": "stderr",
     "output_type": "stream",
     "text": [
      " 61%|██████    | 125/206 [03:06<01:55,  1.43s/it]"
     ]
    },
    {
     "name": "stdout",
     "output_type": "stream",
     "text": [
      "[0]\tvalidation_0-logloss:0.43784\n",
      "Will train until validation_0-logloss hasn't improved in 100 rounds.\n",
      "[100]\tvalidation_0-logloss:0.00324\n",
      "Stopping. Best iteration:\n",
      "[24]\tvalidation_0-logloss:0.00288\n",
      "\n"
     ]
    },
    {
     "name": "stderr",
     "output_type": "stream",
     "text": [
      " 61%|██████    | 126/206 [03:07<01:45,  1.32s/it]"
     ]
    },
    {
     "name": "stdout",
     "output_type": "stream",
     "text": [
      "[0]\tvalidation_0-logloss:0.43839\n",
      "Will train until validation_0-logloss hasn't improved in 100 rounds.\n",
      "[100]\tvalidation_0-logloss:0.00404\n",
      "Stopping. Best iteration:\n",
      "[31]\tvalidation_0-logloss:0.00344\n",
      "\n"
     ]
    },
    {
     "name": "stderr",
     "output_type": "stream",
     "text": [
      " 62%|██████▏   | 127/206 [03:09<01:42,  1.30s/it]"
     ]
    },
    {
     "name": "stdout",
     "output_type": "stream",
     "text": [
      "[0]\tvalidation_0-logloss:0.44007\n",
      "Will train until validation_0-logloss hasn't improved in 100 rounds.\n",
      "[100]\tvalidation_0-logloss:0.01305\n",
      "Stopping. Best iteration:\n",
      "[22]\tvalidation_0-logloss:0.01060\n",
      "\n"
     ]
    },
    {
     "name": "stderr",
     "output_type": "stream",
     "text": [
      " 62%|██████▏   | 128/206 [03:10<01:42,  1.32s/it]"
     ]
    },
    {
     "name": "stdout",
     "output_type": "stream",
     "text": [
      "[0]\tvalidation_0-logloss:0.44082\n",
      "Will train until validation_0-logloss hasn't improved in 100 rounds.\n",
      "[100]\tvalidation_0-logloss:0.03251\n",
      "Stopping. Best iteration:\n",
      "[17]\tvalidation_0-logloss:0.02190\n",
      "\n"
     ]
    },
    {
     "name": "stderr",
     "output_type": "stream",
     "text": [
      " 63%|██████▎   | 129/206 [03:12<01:47,  1.39s/it]"
     ]
    },
    {
     "name": "stdout",
     "output_type": "stream",
     "text": [
      "[0]\tvalidation_0-logloss:0.43877\n",
      "Will train until validation_0-logloss hasn't improved in 100 rounds.\n",
      "[100]\tvalidation_0-logloss:0.01318\n",
      "Stopping. Best iteration:\n",
      "[20]\tvalidation_0-logloss:0.01004\n",
      "\n"
     ]
    },
    {
     "name": "stderr",
     "output_type": "stream",
     "text": [
      " 63%|██████▎   | 130/206 [03:13<01:42,  1.35s/it]"
     ]
    },
    {
     "name": "stdout",
     "output_type": "stream",
     "text": [
      "[0]\tvalidation_0-logloss:0.43814\n",
      "Will train until validation_0-logloss hasn't improved in 100 rounds.\n",
      "[100]\tvalidation_0-logloss:0.00617\n",
      "Stopping. Best iteration:\n",
      "[24]\tvalidation_0-logloss:0.00526\n",
      "\n"
     ]
    },
    {
     "name": "stderr",
     "output_type": "stream",
     "text": [
      " 64%|██████▎   | 131/206 [03:14<01:36,  1.29s/it]"
     ]
    },
    {
     "name": "stdout",
     "output_type": "stream",
     "text": [
      "[0]\tvalidation_0-logloss:0.44146\n",
      "Will train until validation_0-logloss hasn't improved in 100 rounds.\n",
      "[100]\tvalidation_0-logloss:0.03462\n",
      "Stopping. Best iteration:\n",
      "[18]\tvalidation_0-logloss:0.02388\n",
      "\n"
     ]
    },
    {
     "name": "stderr",
     "output_type": "stream",
     "text": [
      " 64%|██████▍   | 132/206 [03:16<01:44,  1.41s/it]"
     ]
    },
    {
     "name": "stdout",
     "output_type": "stream",
     "text": [
      "[0]\tvalidation_0-logloss:0.43828\n",
      "Will train until validation_0-logloss hasn't improved in 100 rounds.\n",
      "[100]\tvalidation_0-logloss:0.00622\n",
      "Stopping. Best iteration:\n",
      "[26]\tvalidation_0-logloss:0.00536\n",
      "\n"
     ]
    },
    {
     "name": "stderr",
     "output_type": "stream",
     "text": [
      " 65%|██████▍   | 133/206 [03:17<01:38,  1.35s/it]"
     ]
    },
    {
     "name": "stdout",
     "output_type": "stream",
     "text": [
      "[0]\tvalidation_0-logloss:0.44220\n",
      "Will train until validation_0-logloss hasn't improved in 100 rounds.\n",
      "[100]\tvalidation_0-logloss:0.02236\n",
      "Stopping. Best iteration:\n",
      "[21]\tvalidation_0-logloss:0.01918\n",
      "\n"
     ]
    },
    {
     "name": "stderr",
     "output_type": "stream",
     "text": [
      " 65%|██████▌   | 134/206 [03:19<01:44,  1.45s/it]"
     ]
    },
    {
     "name": "stdout",
     "output_type": "stream",
     "text": [
      "[0]\tvalidation_0-logloss:0.43979\n",
      "Will train until validation_0-logloss hasn't improved in 100 rounds.\n",
      "[100]\tvalidation_0-logloss:0.02102\n",
      "Stopping. Best iteration:\n",
      "[22]\tvalidation_0-logloss:0.01598\n",
      "\n"
     ]
    },
    {
     "name": "stderr",
     "output_type": "stream",
     "text": [
      " 66%|██████▌   | 135/206 [03:20<01:46,  1.50s/it]"
     ]
    },
    {
     "name": "stdout",
     "output_type": "stream",
     "text": [
      "[0]\tvalidation_0-logloss:0.43921\n",
      "Will train until validation_0-logloss hasn't improved in 100 rounds.\n",
      "[100]\tvalidation_0-logloss:0.01490\n",
      "Stopping. Best iteration:\n",
      "[19]\tvalidation_0-logloss:0.01166\n",
      "\n"
     ]
    },
    {
     "name": "stderr",
     "output_type": "stream",
     "text": [
      " 66%|██████▌   | 136/206 [03:22<01:43,  1.48s/it]"
     ]
    },
    {
     "name": "stdout",
     "output_type": "stream",
     "text": [
      "[0]\tvalidation_0-logloss:0.44357\n",
      "Will train until validation_0-logloss hasn't improved in 100 rounds.\n",
      "[100]\tvalidation_0-logloss:0.04653\n",
      "Stopping. Best iteration:\n",
      "[17]\tvalidation_0-logloss:0.03261\n",
      "\n"
     ]
    },
    {
     "name": "stderr",
     "output_type": "stream",
     "text": [
      " 67%|██████▋   | 137/206 [03:23<01:49,  1.58s/it]"
     ]
    },
    {
     "name": "stdout",
     "output_type": "stream",
     "text": [
      "[0]\tvalidation_0-logloss:0.43784\n",
      "Will train until validation_0-logloss hasn't improved in 100 rounds.\n",
      "[100]\tvalidation_0-logloss:0.00314\n",
      "Stopping. Best iteration:\n",
      "[31]\tvalidation_0-logloss:0.00284\n",
      "\n"
     ]
    },
    {
     "name": "stderr",
     "output_type": "stream",
     "text": [
      " 67%|██████▋   | 138/206 [03:25<01:39,  1.46s/it]"
     ]
    },
    {
     "name": "stdout",
     "output_type": "stream",
     "text": [
      "[0]\tvalidation_0-logloss:0.43863\n",
      "Will train until validation_0-logloss hasn't improved in 100 rounds.\n",
      "[100]\tvalidation_0-logloss:0.00876\n",
      "Stopping. Best iteration:\n",
      "[21]\tvalidation_0-logloss:0.00681\n",
      "\n"
     ]
    },
    {
     "name": "stderr",
     "output_type": "stream",
     "text": [
      " 67%|██████▋   | 139/206 [03:26<01:36,  1.44s/it]"
     ]
    },
    {
     "name": "stdout",
     "output_type": "stream",
     "text": [
      "[0]\tvalidation_0-logloss:0.43814\n",
      "Will train until validation_0-logloss hasn't improved in 100 rounds.\n",
      "[100]\tvalidation_0-logloss:0.00616\n",
      "Stopping. Best iteration:\n",
      "[25]\tvalidation_0-logloss:0.00499\n",
      "\n"
     ]
    },
    {
     "name": "stderr",
     "output_type": "stream",
     "text": [
      " 68%|██████▊   | 140/206 [03:27<01:29,  1.36s/it]"
     ]
    },
    {
     "name": "stdout",
     "output_type": "stream",
     "text": [
      "[0]\tvalidation_0-logloss:0.43883\n",
      "Will train until validation_0-logloss hasn't improved in 100 rounds.\n",
      "[100]\tvalidation_0-logloss:0.01300\n",
      "Stopping. Best iteration:\n",
      "[25]\tvalidation_0-logloss:0.01029\n",
      "\n"
     ]
    },
    {
     "name": "stderr",
     "output_type": "stream",
     "text": [
      " 68%|██████▊   | 141/206 [03:28<01:27,  1.34s/it]"
     ]
    },
    {
     "name": "stdout",
     "output_type": "stream",
     "text": [
      "[0]\tvalidation_0-logloss:0.43786\n",
      "Will train until validation_0-logloss hasn't improved in 100 rounds.\n",
      "[100]\tvalidation_0-logloss:0.00311\n",
      "Stopping. Best iteration:\n",
      "[28]\tvalidation_0-logloss:0.00279\n",
      "\n"
     ]
    },
    {
     "name": "stderr",
     "output_type": "stream",
     "text": [
      " 69%|██████▉   | 142/206 [03:30<01:21,  1.28s/it]"
     ]
    },
    {
     "name": "stdout",
     "output_type": "stream",
     "text": [
      "[0]\tvalidation_0-logloss:0.43828\n",
      "Will train until validation_0-logloss hasn't improved in 100 rounds.\n",
      "[100]\tvalidation_0-logloss:0.00337\n",
      "Stopping. Best iteration:\n",
      "[31]\tvalidation_0-logloss:0.00298\n",
      "\n"
     ]
    },
    {
     "name": "stderr",
     "output_type": "stream",
     "text": [
      " 69%|██████▉   | 143/206 [03:31<01:19,  1.26s/it]"
     ]
    },
    {
     "name": "stdout",
     "output_type": "stream",
     "text": [
      "[0]\tvalidation_0-logloss:0.44025\n",
      "Will train until validation_0-logloss hasn't improved in 100 rounds.\n",
      "[100]\tvalidation_0-logloss:0.02481\n",
      "Stopping. Best iteration:\n",
      "[21]\tvalidation_0-logloss:0.01761\n",
      "\n"
     ]
    },
    {
     "name": "stderr",
     "output_type": "stream",
     "text": [
      " 70%|██████▉   | 144/206 [03:32<01:23,  1.34s/it]"
     ]
    },
    {
     "name": "stdout",
     "output_type": "stream",
     "text": [
      "[0]\tvalidation_0-logloss:0.44208\n",
      "Will train until validation_0-logloss hasn't improved in 100 rounds.\n",
      "[100]\tvalidation_0-logloss:0.04258\n",
      "Stopping. Best iteration:\n",
      "[15]\tvalidation_0-logloss:0.02874\n",
      "\n"
     ]
    },
    {
     "name": "stderr",
     "output_type": "stream",
     "text": [
      " 70%|███████   | 145/206 [03:34<01:27,  1.43s/it]"
     ]
    },
    {
     "name": "stdout",
     "output_type": "stream",
     "text": [
      "[0]\tvalidation_0-logloss:0.43921\n",
      "Will train until validation_0-logloss hasn't improved in 100 rounds.\n",
      "[100]\tvalidation_0-logloss:0.01471\n",
      "Stopping. Best iteration:\n",
      "[24]\tvalidation_0-logloss:0.01063\n",
      "\n"
     ]
    },
    {
     "name": "stderr",
     "output_type": "stream",
     "text": [
      " 71%|███████   | 146/206 [03:35<01:25,  1.42s/it]"
     ]
    },
    {
     "name": "stdout",
     "output_type": "stream",
     "text": [
      "[0]\tvalidation_0-logloss:0.44041\n",
      "Will train until validation_0-logloss hasn't improved in 100 rounds.\n",
      "[100]\tvalidation_0-logloss:0.01407\n",
      "Stopping. Best iteration:\n",
      "[19]\tvalidation_0-logloss:0.01117\n",
      "\n"
     ]
    },
    {
     "name": "stderr",
     "output_type": "stream",
     "text": [
      " 71%|███████▏  | 147/206 [03:37<01:25,  1.45s/it]"
     ]
    },
    {
     "name": "stdout",
     "output_type": "stream",
     "text": [
      "[0]\tvalidation_0-logloss:0.43875\n",
      "Will train until validation_0-logloss hasn't improved in 100 rounds.\n",
      "[100]\tvalidation_0-logloss:0.01314\n",
      "Stopping. Best iteration:\n",
      "[22]\tvalidation_0-logloss:0.01004\n",
      "\n"
     ]
    },
    {
     "name": "stderr",
     "output_type": "stream",
     "text": [
      " 72%|███████▏  | 148/206 [03:38<01:21,  1.40s/it]"
     ]
    },
    {
     "name": "stdout",
     "output_type": "stream",
     "text": [
      "[0]\tvalidation_0-logloss:0.44042\n",
      "Will train until validation_0-logloss hasn't improved in 100 rounds.\n",
      "[100]\tvalidation_0-logloss:0.02472\n",
      "Stopping. Best iteration:\n",
      "[21]\tvalidation_0-logloss:0.01914\n",
      "\n"
     ]
    },
    {
     "name": "stderr",
     "output_type": "stream",
     "text": [
      " 72%|███████▏  | 149/206 [03:40<01:21,  1.43s/it]"
     ]
    },
    {
     "name": "stdout",
     "output_type": "stream",
     "text": [
      "[0]\tvalidation_0-logloss:0.44605\n",
      "Will train until validation_0-logloss hasn't improved in 100 rounds.\n",
      "[100]\tvalidation_0-logloss:0.04454\n",
      "Stopping. Best iteration:\n",
      "[17]\tvalidation_0-logloss:0.03602\n",
      "\n"
     ]
    },
    {
     "name": "stderr",
     "output_type": "stream",
     "text": [
      " 73%|███████▎  | 150/206 [03:41<01:24,  1.51s/it]"
     ]
    },
    {
     "name": "stdout",
     "output_type": "stream",
     "text": [
      "[0]\tvalidation_0-logloss:0.43844\n",
      "Will train until validation_0-logloss hasn't improved in 100 rounds.\n",
      "[100]\tvalidation_0-logloss:0.01066\n",
      "Stopping. Best iteration:\n",
      "[21]\tvalidation_0-logloss:0.00802\n",
      "\n"
     ]
    },
    {
     "name": "stderr",
     "output_type": "stream",
     "text": [
      " 73%|███████▎  | 151/206 [03:43<01:17,  1.42s/it]"
     ]
    },
    {
     "name": "stdout",
     "output_type": "stream",
     "text": [
      "[0]\tvalidation_0-logloss:0.44976\n",
      "Will train until validation_0-logloss hasn't improved in 100 rounds.\n",
      "[100]\tvalidation_0-logloss:0.09590\n",
      "Stopping. Best iteration:\n",
      "[15]\tvalidation_0-logloss:0.06404\n",
      "\n"
     ]
    },
    {
     "name": "stderr",
     "output_type": "stream",
     "text": [
      " 74%|███████▍  | 152/206 [03:45<01:27,  1.62s/it]"
     ]
    },
    {
     "name": "stdout",
     "output_type": "stream",
     "text": [
      "[0]\tvalidation_0-logloss:0.43858\n",
      "Will train until validation_0-logloss hasn't improved in 100 rounds.\n",
      "[100]\tvalidation_0-logloss:0.00991\n",
      "Stopping. Best iteration:\n",
      "[22]\tvalidation_0-logloss:0.00795\n",
      "\n"
     ]
    },
    {
     "name": "stderr",
     "output_type": "stream",
     "text": [
      " 74%|███████▍  | 153/206 [03:46<01:20,  1.52s/it]"
     ]
    },
    {
     "name": "stdout",
     "output_type": "stream",
     "text": [
      "[0]\tvalidation_0-logloss:0.44459\n",
      "Will train until validation_0-logloss hasn't improved in 100 rounds.\n",
      "[100]\tvalidation_0-logloss:0.04895\n",
      "Stopping. Best iteration:\n",
      "[15]\tvalidation_0-logloss:0.03636\n",
      "\n"
     ]
    },
    {
     "name": "stderr",
     "output_type": "stream",
     "text": [
      " 75%|███████▍  | 154/206 [03:48<01:22,  1.59s/it]"
     ]
    },
    {
     "name": "stdout",
     "output_type": "stream",
     "text": [
      "[0]\tvalidation_0-logloss:0.43907\n",
      "Will train until validation_0-logloss hasn't improved in 100 rounds.\n",
      "[100]\tvalidation_0-logloss:0.01639\n",
      "Stopping. Best iteration:\n",
      "[22]\tvalidation_0-logloss:0.01184\n",
      "\n"
     ]
    },
    {
     "name": "stderr",
     "output_type": "stream",
     "text": [
      " 75%|███████▌  | 155/206 [03:49<01:17,  1.52s/it]"
     ]
    },
    {
     "name": "stdout",
     "output_type": "stream",
     "text": [
      "[0]\tvalidation_0-logloss:0.44012\n",
      "Will train until validation_0-logloss hasn't improved in 100 rounds.\n",
      "[100]\tvalidation_0-logloss:0.02355\n",
      "Stopping. Best iteration:\n",
      "[20]\tvalidation_0-logloss:0.01734\n",
      "\n"
     ]
    },
    {
     "name": "stderr",
     "output_type": "stream",
     "text": [
      " 76%|███████▌  | 156/206 [03:51<01:15,  1.51s/it]"
     ]
    },
    {
     "name": "stdout",
     "output_type": "stream",
     "text": [
      "[0]\tvalidation_0-logloss:0.44207\n",
      "Will train until validation_0-logloss hasn't improved in 100 rounds.\n",
      "[100]\tvalidation_0-logloss:0.03994\n",
      "Stopping. Best iteration:\n",
      "[16]\tvalidation_0-logloss:0.02839\n",
      "\n"
     ]
    },
    {
     "name": "stderr",
     "output_type": "stream",
     "text": [
      " 76%|███████▌  | 157/206 [03:52<01:16,  1.57s/it]"
     ]
    },
    {
     "name": "stdout",
     "output_type": "stream",
     "text": [
      "[0]\tvalidation_0-logloss:0.44304\n",
      "Will train until validation_0-logloss hasn't improved in 100 rounds.\n",
      "[100]\tvalidation_0-logloss:0.04436\n",
      "Stopping. Best iteration:\n",
      "[16]\tvalidation_0-logloss:0.03167\n",
      "\n"
     ]
    },
    {
     "name": "stderr",
     "output_type": "stream",
     "text": [
      " 77%|███████▋  | 158/206 [03:54<01:19,  1.65s/it]"
     ]
    },
    {
     "name": "stdout",
     "output_type": "stream",
     "text": [
      "[0]\tvalidation_0-logloss:0.43886\n",
      "Will train until validation_0-logloss hasn't improved in 100 rounds.\n",
      "[100]\tvalidation_0-logloss:0.01195\n",
      "Stopping. Best iteration:\n",
      "[20]\tvalidation_0-logloss:0.00932\n",
      "\n"
     ]
    },
    {
     "name": "stderr",
     "output_type": "stream",
     "text": [
      " 77%|███████▋  | 159/206 [03:56<01:14,  1.59s/it]"
     ]
    },
    {
     "name": "stdout",
     "output_type": "stream",
     "text": [
      "[0]\tvalidation_0-logloss:0.44306\n",
      "Will train until validation_0-logloss hasn't improved in 100 rounds.\n",
      "[100]\tvalidation_0-logloss:0.04751\n",
      "Stopping. Best iteration:\n",
      "[15]\tvalidation_0-logloss:0.03336\n",
      "\n"
     ]
    },
    {
     "name": "stderr",
     "output_type": "stream",
     "text": [
      " 78%|███████▊  | 160/206 [03:57<01:16,  1.66s/it]"
     ]
    },
    {
     "name": "stdout",
     "output_type": "stream",
     "text": [
      "[0]\tvalidation_0-logloss:0.43844\n",
      "Will train until validation_0-logloss hasn't improved in 100 rounds.\n",
      "[100]\tvalidation_0-logloss:0.00848\n",
      "Stopping. Best iteration:\n",
      "[23]\tvalidation_0-logloss:0.00747\n",
      "\n"
     ]
    },
    {
     "name": "stderr",
     "output_type": "stream",
     "text": [
      " 78%|███████▊  | 161/206 [03:59<01:10,  1.57s/it]"
     ]
    },
    {
     "name": "stdout",
     "output_type": "stream",
     "text": [
      "[0]\tvalidation_0-logloss:0.43919\n",
      "Will train until validation_0-logloss hasn't improved in 100 rounds.\n",
      "[100]\tvalidation_0-logloss:0.01466\n",
      "Stopping. Best iteration:\n",
      "[20]\tvalidation_0-logloss:0.01161\n",
      "\n"
     ]
    },
    {
     "name": "stderr",
     "output_type": "stream",
     "text": [
      " 79%|███████▊  | 162/206 [04:00<01:07,  1.54s/it]"
     ]
    },
    {
     "name": "stdout",
     "output_type": "stream",
     "text": [
      "[0]\tvalidation_0-logloss:0.44142\n",
      "Will train until validation_0-logloss hasn't improved in 100 rounds.\n",
      "[100]\tvalidation_0-logloss:0.03587\n",
      "Stopping. Best iteration:\n",
      "[17]\tvalidation_0-logloss:0.02474\n",
      "\n"
     ]
    },
    {
     "name": "stderr",
     "output_type": "stream",
     "text": [
      " 79%|███████▉  | 163/206 [04:02<01:07,  1.56s/it]"
     ]
    },
    {
     "name": "stdout",
     "output_type": "stream",
     "text": [
      "[0]\tvalidation_0-logloss:0.43852\n",
      "Will train until validation_0-logloss hasn't improved in 100 rounds.\n",
      "[100]\tvalidation_0-logloss:0.00076\n",
      "Stopping. Best iteration:\n",
      "[38]\tvalidation_0-logloss:0.00072\n",
      "\n"
     ]
    },
    {
     "name": "stderr",
     "output_type": "stream",
     "text": [
      " 80%|███████▉  | 164/206 [04:03<01:01,  1.46s/it]"
     ]
    },
    {
     "name": "stdout",
     "output_type": "stream",
     "text": [
      "[0]\tvalidation_0-logloss:0.43979\n",
      "Will train until validation_0-logloss hasn't improved in 100 rounds.\n",
      "[100]\tvalidation_0-logloss:0.01944\n",
      "Stopping. Best iteration:\n",
      "[20]\tvalidation_0-logloss:0.01460\n",
      "\n"
     ]
    },
    {
     "name": "stderr",
     "output_type": "stream",
     "text": [
      " 80%|████████  | 165/206 [04:05<01:00,  1.46s/it]"
     ]
    },
    {
     "name": "stdout",
     "output_type": "stream",
     "text": [
      "[0]\tvalidation_0-logloss:0.43784\n",
      "Will train until validation_0-logloss hasn't improved in 100 rounds.\n",
      "[100]\tvalidation_0-logloss:0.00271\n",
      "Stopping. Best iteration:\n",
      "[29]\tvalidation_0-logloss:0.00262\n",
      "\n"
     ]
    },
    {
     "name": "stderr",
     "output_type": "stream",
     "text": [
      " 81%|████████  | 166/206 [04:06<00:54,  1.36s/it]"
     ]
    },
    {
     "name": "stdout",
     "output_type": "stream",
     "text": [
      "[0]\tvalidation_0-logloss:0.44216\n",
      "Will train until validation_0-logloss hasn't improved in 100 rounds.\n",
      "[100]\tvalidation_0-logloss:0.03830\n",
      "Stopping. Best iteration:\n",
      "[17]\tvalidation_0-logloss:0.02688\n",
      "\n"
     ]
    },
    {
     "name": "stderr",
     "output_type": "stream",
     "text": [
      " 81%|████████  | 167/206 [04:07<00:56,  1.44s/it]"
     ]
    },
    {
     "name": "stdout",
     "output_type": "stream",
     "text": [
      "[0]\tvalidation_0-logloss:0.43847\n",
      "Will train until validation_0-logloss hasn't improved in 100 rounds.\n",
      "[100]\tvalidation_0-logloss:0.00847\n",
      "Stopping. Best iteration:\n",
      "[25]\tvalidation_0-logloss:0.00731\n",
      "\n"
     ]
    },
    {
     "name": "stderr",
     "output_type": "stream",
     "text": [
      " 82%|████████▏ | 168/206 [04:09<00:52,  1.38s/it]"
     ]
    },
    {
     "name": "stdout",
     "output_type": "stream",
     "text": [
      "[0]\tvalidation_0-logloss:0.44014\n",
      "Will train until validation_0-logloss hasn't improved in 100 rounds.\n",
      "[100]\tvalidation_0-logloss:0.02433\n",
      "Stopping. Best iteration:\n",
      "[18]\tvalidation_0-logloss:0.01864\n",
      "\n"
     ]
    },
    {
     "name": "stderr",
     "output_type": "stream",
     "text": [
      " 82%|████████▏ | 169/206 [04:10<00:53,  1.43s/it]"
     ]
    },
    {
     "name": "stdout",
     "output_type": "stream",
     "text": [
      "[0]\tvalidation_0-logloss:0.44042\n",
      "Will train until validation_0-logloss hasn't improved in 100 rounds.\n",
      "[100]\tvalidation_0-logloss:0.01532\n",
      "Stopping. Best iteration:\n",
      "[20]\tvalidation_0-logloss:0.01398\n",
      "\n"
     ]
    },
    {
     "name": "stderr",
     "output_type": "stream",
     "text": [
      " 83%|████████▎ | 170/206 [04:11<00:51,  1.43s/it]"
     ]
    },
    {
     "name": "stdout",
     "output_type": "stream",
     "text": [
      "[0]\tvalidation_0-logloss:0.43797\n",
      "Will train until validation_0-logloss hasn't improved in 100 rounds.\n",
      "[100]\tvalidation_0-logloss:0.00361\n",
      "Stopping. Best iteration:\n",
      "[25]\tvalidation_0-logloss:0.00315\n",
      "\n"
     ]
    },
    {
     "name": "stderr",
     "output_type": "stream",
     "text": [
      " 83%|████████▎ | 171/206 [04:13<00:47,  1.35s/it]"
     ]
    },
    {
     "name": "stdout",
     "output_type": "stream",
     "text": [
      "[0]\tvalidation_0-logloss:0.44104\n",
      "Will train until validation_0-logloss hasn't improved in 100 rounds.\n",
      "[100]\tvalidation_0-logloss:0.01876\n",
      "Stopping. Best iteration:\n",
      "[23]\tvalidation_0-logloss:0.01658\n",
      "\n"
     ]
    },
    {
     "name": "stderr",
     "output_type": "stream",
     "text": [
      " 83%|████████▎ | 172/206 [04:14<00:47,  1.39s/it]"
     ]
    },
    {
     "name": "stdout",
     "output_type": "stream",
     "text": [
      "[0]\tvalidation_0-logloss:0.43784\n",
      "Will train until validation_0-logloss hasn't improved in 100 rounds.\n",
      "[100]\tvalidation_0-logloss:0.00312\n",
      "Stopping. Best iteration:\n",
      "[28]\tvalidation_0-logloss:0.00260\n",
      "\n"
     ]
    },
    {
     "name": "stderr",
     "output_type": "stream",
     "text": [
      " 84%|████████▍ | 173/206 [04:15<00:42,  1.29s/it]"
     ]
    },
    {
     "name": "stdout",
     "output_type": "stream",
     "text": [
      "[0]\tvalidation_0-logloss:0.43917\n",
      "Will train until validation_0-logloss hasn't improved in 100 rounds.\n",
      "[100]\tvalidation_0-logloss:0.01445\n",
      "Stopping. Best iteration:\n",
      "[22]\tvalidation_0-logloss:0.01153\n",
      "\n"
     ]
    },
    {
     "name": "stderr",
     "output_type": "stream",
     "text": [
      " 84%|████████▍ | 174/206 [04:17<00:41,  1.30s/it]"
     ]
    },
    {
     "name": "stdout",
     "output_type": "stream",
     "text": [
      "[0]\tvalidation_0-logloss:0.43940\n",
      "Will train until validation_0-logloss hasn't improved in 100 rounds.\n",
      "[100]\tvalidation_0-logloss:0.01709\n",
      "Stopping. Best iteration:\n",
      "[19]\tvalidation_0-logloss:0.01244\n",
      "\n"
     ]
    },
    {
     "name": "stderr",
     "output_type": "stream",
     "text": [
      " 85%|████████▍ | 175/206 [04:18<00:40,  1.30s/it]"
     ]
    },
    {
     "name": "stdout",
     "output_type": "stream",
     "text": [
      "[0]\tvalidation_0-logloss:0.43877\n",
      "Will train until validation_0-logloss hasn't improved in 100 rounds.\n",
      "[100]\tvalidation_0-logloss:0.01098\n",
      "Stopping. Best iteration:\n",
      "[24]\tvalidation_0-logloss:0.00848\n",
      "\n"
     ]
    },
    {
     "name": "stderr",
     "output_type": "stream",
     "text": [
      " 85%|████████▌ | 176/206 [04:19<00:39,  1.31s/it]"
     ]
    },
    {
     "name": "stdout",
     "output_type": "stream",
     "text": [
      "[0]\tvalidation_0-logloss:0.44846\n",
      "Will train until validation_0-logloss hasn't improved in 100 rounds.\n",
      "[100]\tvalidation_0-logloss:0.09240\n",
      "Stopping. Best iteration:\n",
      "[14]\tvalidation_0-logloss:0.06026\n",
      "\n"
     ]
    },
    {
     "name": "stderr",
     "output_type": "stream",
     "text": [
      " 86%|████████▌ | 177/206 [04:21<00:44,  1.54s/it]"
     ]
    },
    {
     "name": "stdout",
     "output_type": "stream",
     "text": [
      "[0]\tvalidation_0-logloss:0.45612\n",
      "Will train until validation_0-logloss hasn't improved in 100 rounds.\n",
      "[100]\tvalidation_0-logloss:0.13825\n",
      "Stopping. Best iteration:\n",
      "[16]\tvalidation_0-logloss:0.08839\n",
      "\n"
     ]
    },
    {
     "name": "stderr",
     "output_type": "stream",
     "text": [
      " 86%|████████▋ | 178/206 [04:24<00:50,  1.79s/it]"
     ]
    },
    {
     "name": "stdout",
     "output_type": "stream",
     "text": [
      "[0]\tvalidation_0-logloss:0.43970\n",
      "Will train until validation_0-logloss hasn't improved in 100 rounds.\n",
      "[100]\tvalidation_0-logloss:0.01960\n",
      "Stopping. Best iteration:\n",
      "[20]\tvalidation_0-logloss:0.01559\n",
      "\n"
     ]
    },
    {
     "name": "stderr",
     "output_type": "stream",
     "text": [
      " 87%|████████▋ | 179/206 [04:25<00:45,  1.68s/it]"
     ]
    },
    {
     "name": "stdout",
     "output_type": "stream",
     "text": [
      "[0]\tvalidation_0-logloss:0.43919\n",
      "Will train until validation_0-logloss hasn't improved in 100 rounds.\n",
      "[100]\tvalidation_0-logloss:0.01605\n",
      "Stopping. Best iteration:\n",
      "[21]\tvalidation_0-logloss:0.01195\n",
      "\n"
     ]
    },
    {
     "name": "stderr",
     "output_type": "stream",
     "text": [
      " 87%|████████▋ | 180/206 [04:27<00:42,  1.65s/it]"
     ]
    },
    {
     "name": "stdout",
     "output_type": "stream",
     "text": [
      "[0]\tvalidation_0-logloss:0.43919\n",
      "Will train until validation_0-logloss hasn't improved in 100 rounds.\n",
      "[100]\tvalidation_0-logloss:0.01559\n",
      "Stopping. Best iteration:\n",
      "[25]\tvalidation_0-logloss:0.01215\n",
      "\n"
     ]
    },
    {
     "name": "stderr",
     "output_type": "stream",
     "text": [
      " 88%|████████▊ | 181/206 [04:29<00:43,  1.74s/it]"
     ]
    },
    {
     "name": "stdout",
     "output_type": "stream",
     "text": [
      "[0]\tvalidation_0-logloss:0.43864\n",
      "Will train until validation_0-logloss hasn't improved in 100 rounds.\n",
      "[100]\tvalidation_0-logloss:0.00890\n",
      "Stopping. Best iteration:\n",
      "[25]\tvalidation_0-logloss:0.00761\n",
      "\n"
     ]
    },
    {
     "name": "stderr",
     "output_type": "stream",
     "text": [
      " 88%|████████▊ | 182/206 [04:30<00:38,  1.62s/it]"
     ]
    },
    {
     "name": "stdout",
     "output_type": "stream",
     "text": [
      "[0]\tvalidation_0-logloss:0.44983\n",
      "Will train until validation_0-logloss hasn't improved in 100 rounds.\n",
      "[100]\tvalidation_0-logloss:0.10352\n",
      "Stopping. Best iteration:\n",
      "[14]\tvalidation_0-logloss:0.06712\n",
      "\n"
     ]
    },
    {
     "name": "stderr",
     "output_type": "stream",
     "text": [
      " 89%|████████▉ | 183/206 [04:32<00:40,  1.78s/it]"
     ]
    },
    {
     "name": "stdout",
     "output_type": "stream",
     "text": [
      "[0]\tvalidation_0-logloss:0.43860\n",
      "Will train until validation_0-logloss hasn't improved in 100 rounds.\n",
      "[100]\tvalidation_0-logloss:0.00999\n",
      "Stopping. Best iteration:\n",
      "[25]\tvalidation_0-logloss:0.00743\n",
      "\n"
     ]
    },
    {
     "name": "stderr",
     "output_type": "stream",
     "text": [
      " 89%|████████▉ | 184/206 [04:33<00:36,  1.64s/it]"
     ]
    },
    {
     "name": "stdout",
     "output_type": "stream",
     "text": [
      "[0]\tvalidation_0-logloss:0.44094\n",
      "Will train until validation_0-logloss hasn't improved in 100 rounds.\n",
      "[100]\tvalidation_0-logloss:0.02433\n",
      "Stopping. Best iteration:\n",
      "[20]\tvalidation_0-logloss:0.01879\n",
      "\n"
     ]
    },
    {
     "name": "stderr",
     "output_type": "stream",
     "text": [
      " 90%|████████▉ | 185/206 [04:35<00:33,  1.61s/it]"
     ]
    },
    {
     "name": "stdout",
     "output_type": "stream",
     "text": [
      "[0]\tvalidation_0-logloss:0.43765\n",
      "Will train until validation_0-logloss hasn't improved in 100 rounds.\n",
      "[100]\tvalidation_0-logloss:0.00007\n",
      "Stopping. Best iteration:\n",
      "[52]\tvalidation_0-logloss:0.00007\n",
      "\n"
     ]
    },
    {
     "name": "stderr",
     "output_type": "stream",
     "text": [
      " 90%|█████████ | 186/206 [04:36<00:29,  1.48s/it]"
     ]
    },
    {
     "name": "stdout",
     "output_type": "stream",
     "text": [
      "[0]\tvalidation_0-logloss:0.43830\n",
      "Will train until validation_0-logloss hasn't improved in 100 rounds.\n",
      "[100]\tvalidation_0-logloss:0.00587\n",
      "Stopping. Best iteration:\n",
      "[25]\tvalidation_0-logloss:0.00498\n",
      "\n"
     ]
    },
    {
     "name": "stderr",
     "output_type": "stream",
     "text": [
      " 91%|█████████ | 187/206 [04:37<00:26,  1.40s/it]"
     ]
    },
    {
     "name": "stdout",
     "output_type": "stream",
     "text": [
      "[0]\tvalidation_0-logloss:0.44023\n",
      "Will train until validation_0-logloss hasn't improved in 100 rounds.\n",
      "[100]\tvalidation_0-logloss:0.02143\n",
      "Stopping. Best iteration:\n",
      "[18]\tvalidation_0-logloss:0.01627\n",
      "\n"
     ]
    },
    {
     "name": "stderr",
     "output_type": "stream",
     "text": [
      " 91%|█████████▏| 188/206 [04:39<00:25,  1.43s/it]"
     ]
    },
    {
     "name": "stdout",
     "output_type": "stream",
     "text": [
      "[0]\tvalidation_0-logloss:0.43862\n",
      "Will train until validation_0-logloss hasn't improved in 100 rounds.\n",
      "[100]\tvalidation_0-logloss:0.00206\n",
      "Stopping. Best iteration:\n",
      "[43]\tvalidation_0-logloss:0.00189\n",
      "\n"
     ]
    },
    {
     "name": "stderr",
     "output_type": "stream",
     "text": [
      " 92%|█████████▏| 189/206 [04:40<00:23,  1.36s/it]"
     ]
    },
    {
     "name": "stdout",
     "output_type": "stream",
     "text": [
      "[0]\tvalidation_0-logloss:0.43847\n",
      "Will train until validation_0-logloss hasn't improved in 100 rounds.\n",
      "[100]\tvalidation_0-logloss:0.00911\n",
      "Stopping. Best iteration:\n",
      "[22]\tvalidation_0-logloss:0.00716\n",
      "\n"
     ]
    },
    {
     "name": "stderr",
     "output_type": "stream",
     "text": [
      " 92%|█████████▏| 190/206 [04:41<00:21,  1.31s/it]"
     ]
    },
    {
     "name": "stdout",
     "output_type": "stream",
     "text": [
      "[0]\tvalidation_0-logloss:0.43938\n",
      "Will train until validation_0-logloss hasn't improved in 100 rounds.\n",
      "[100]\tvalidation_0-logloss:0.02009\n",
      "Stopping. Best iteration:\n",
      "[18]\tvalidation_0-logloss:0.01436\n",
      "\n"
     ]
    },
    {
     "name": "stderr",
     "output_type": "stream",
     "text": [
      " 93%|█████████▎| 191/206 [04:43<00:19,  1.33s/it]"
     ]
    },
    {
     "name": "stdout",
     "output_type": "stream",
     "text": [
      "[0]\tvalidation_0-logloss:0.43888\n",
      "Will train until validation_0-logloss hasn't improved in 100 rounds.\n",
      "[100]\tvalidation_0-logloss:0.01377\n",
      "Stopping. Best iteration:\n",
      "[21]\tvalidation_0-logloss:0.01005\n",
      "\n"
     ]
    },
    {
     "name": "stderr",
     "output_type": "stream",
     "text": [
      " 93%|█████████▎| 192/206 [04:44<00:18,  1.35s/it]"
     ]
    },
    {
     "name": "stdout",
     "output_type": "stream",
     "text": [
      "[0]\tvalidation_0-logloss:0.43786\n",
      "Will train until validation_0-logloss hasn't improved in 100 rounds.\n",
      "[100]\tvalidation_0-logloss:0.00339\n",
      "Stopping. Best iteration:\n",
      "[29]\tvalidation_0-logloss:0.00289\n",
      "\n"
     ]
    },
    {
     "name": "stderr",
     "output_type": "stream",
     "text": [
      " 94%|█████████▎| 193/206 [04:45<00:16,  1.28s/it]"
     ]
    },
    {
     "name": "stdout",
     "output_type": "stream",
     "text": [
      "[0]\tvalidation_0-logloss:0.43917\n",
      "Will train until validation_0-logloss hasn't improved in 100 rounds.\n",
      "[100]\tvalidation_0-logloss:0.01387\n",
      "Stopping. Best iteration:\n",
      "[22]\tvalidation_0-logloss:0.01100\n",
      "\n"
     ]
    },
    {
     "name": "stderr",
     "output_type": "stream",
     "text": [
      " 94%|█████████▍| 194/206 [04:46<00:15,  1.32s/it]"
     ]
    },
    {
     "name": "stdout",
     "output_type": "stream",
     "text": [
      "[0]\tvalidation_0-logloss:0.44150\n",
      "Will train until validation_0-logloss hasn't improved in 100 rounds.\n",
      "[100]\tvalidation_0-logloss:0.02315\n",
      "Stopping. Best iteration:\n",
      "[19]\tvalidation_0-logloss:0.01838\n",
      "\n"
     ]
    },
    {
     "name": "stderr",
     "output_type": "stream",
     "text": [
      " 95%|█████████▍| 195/206 [04:48<00:15,  1.40s/it]"
     ]
    },
    {
     "name": "stdout",
     "output_type": "stream",
     "text": [
      "[0]\tvalidation_0-logloss:0.43828\n",
      "Will train until validation_0-logloss hasn't improved in 100 rounds.\n",
      "[100]\tvalidation_0-logloss:0.00705\n",
      "Stopping. Best iteration:\n",
      "[25]\tvalidation_0-logloss:0.00576\n",
      "\n"
     ]
    },
    {
     "name": "stderr",
     "output_type": "stream",
     "text": [
      " 95%|█████████▌| 196/206 [04:49<00:13,  1.36s/it]"
     ]
    },
    {
     "name": "stdout",
     "output_type": "stream",
     "text": [
      "[0]\tvalidation_0-logloss:0.43784\n",
      "Will train until validation_0-logloss hasn't improved in 100 rounds.\n",
      "[100]\tvalidation_0-logloss:0.00318\n",
      "Stopping. Best iteration:\n",
      "[26]\tvalidation_0-logloss:0.00293\n",
      "\n"
     ]
    },
    {
     "name": "stderr",
     "output_type": "stream",
     "text": [
      " 96%|█████████▌| 197/206 [04:50<00:11,  1.28s/it]"
     ]
    },
    {
     "name": "stdout",
     "output_type": "stream",
     "text": [
      "[0]\tvalidation_0-logloss:0.43877\n",
      "Will train until validation_0-logloss hasn't improved in 100 rounds.\n",
      "[100]\tvalidation_0-logloss:0.01057\n",
      "Stopping. Best iteration:\n",
      "[20]\tvalidation_0-logloss:0.00848\n",
      "\n"
     ]
    },
    {
     "name": "stderr",
     "output_type": "stream",
     "text": [
      " 96%|█████████▌| 198/206 [04:52<00:10,  1.27s/it]"
     ]
    },
    {
     "name": "stdout",
     "output_type": "stream",
     "text": [
      "[0]\tvalidation_0-logloss:0.43979\n",
      "Will train until validation_0-logloss hasn't improved in 100 rounds.\n",
      "[100]\tvalidation_0-logloss:0.02314\n",
      "Stopping. Best iteration:\n",
      "[18]\tvalidation_0-logloss:0.01667\n",
      "\n"
     ]
    },
    {
     "name": "stderr",
     "output_type": "stream",
     "text": [
      " 97%|█████████▋| 199/206 [04:53<00:09,  1.32s/it]"
     ]
    },
    {
     "name": "stdout",
     "output_type": "stream",
     "text": [
      "[0]\tvalidation_0-logloss:0.44360\n",
      "Will train until validation_0-logloss hasn't improved in 100 rounds.\n",
      "[100]\tvalidation_0-logloss:0.03702\n",
      "Stopping. Best iteration:\n",
      "[17]\tvalidation_0-logloss:0.02892\n",
      "\n"
     ]
    },
    {
     "name": "stderr",
     "output_type": "stream",
     "text": [
      " 97%|█████████▋| 200/206 [04:55<00:08,  1.48s/it]"
     ]
    },
    {
     "name": "stdout",
     "output_type": "stream",
     "text": [
      "[0]\tvalidation_0-logloss:0.44086\n",
      "Will train until validation_0-logloss hasn't improved in 100 rounds.\n",
      "[100]\tvalidation_0-logloss:0.02767\n",
      "Stopping. Best iteration:\n",
      "[18]\tvalidation_0-logloss:0.01942\n",
      "\n"
     ]
    },
    {
     "name": "stderr",
     "output_type": "stream",
     "text": [
      " 98%|█████████▊| 201/206 [04:57<00:07,  1.51s/it]"
     ]
    },
    {
     "name": "stdout",
     "output_type": "stream",
     "text": [
      "[0]\tvalidation_0-logloss:0.43784\n",
      "Will train until validation_0-logloss hasn't improved in 100 rounds.\n",
      "[100]\tvalidation_0-logloss:0.00329\n",
      "Stopping. Best iteration:\n",
      "[26]\tvalidation_0-logloss:0.00306\n",
      "\n"
     ]
    },
    {
     "name": "stderr",
     "output_type": "stream",
     "text": [
      " 98%|█████████▊| 202/206 [04:58<00:05,  1.44s/it]"
     ]
    },
    {
     "name": "stdout",
     "output_type": "stream",
     "text": [
      "[0]\tvalidation_0-logloss:0.44383\n",
      "Will train until validation_0-logloss hasn't improved in 100 rounds.\n",
      "[100]\tvalidation_0-logloss:0.04017\n",
      "Stopping. Best iteration:\n",
      "[20]\tvalidation_0-logloss:0.02969\n",
      "\n"
     ]
    },
    {
     "name": "stderr",
     "output_type": "stream",
     "text": [
      " 99%|█████████▊| 203/206 [05:00<00:05,  1.74s/it]"
     ]
    },
    {
     "name": "stdout",
     "output_type": "stream",
     "text": [
      "[0]\tvalidation_0-logloss:0.43879\n",
      "Will train until validation_0-logloss hasn't improved in 100 rounds.\n",
      "[100]\tvalidation_0-logloss:0.01421\n",
      "Stopping. Best iteration:\n",
      "[20]\tvalidation_0-logloss:0.00973\n",
      "\n"
     ]
    },
    {
     "name": "stderr",
     "output_type": "stream",
     "text": [
      " 99%|█████████▉| 204/206 [05:02<00:03,  1.66s/it]"
     ]
    },
    {
     "name": "stdout",
     "output_type": "stream",
     "text": [
      "[0]\tvalidation_0-logloss:0.43926\n",
      "Will train until validation_0-logloss hasn't improved in 100 rounds.\n",
      "[100]\tvalidation_0-logloss:0.00937\n",
      "Stopping. Best iteration:\n",
      "[22]\tvalidation_0-logloss:0.00793\n",
      "\n"
     ]
    },
    {
     "name": "stderr",
     "output_type": "stream",
     "text": [
      "100%|█████████▉| 205/206 [05:03<00:01,  1.58s/it]"
     ]
    },
    {
     "name": "stdout",
     "output_type": "stream",
     "text": [
      "[0]\tvalidation_0-logloss:0.43921\n",
      "Will train until validation_0-logloss hasn't improved in 100 rounds.\n",
      "[100]\tvalidation_0-logloss:0.01546\n",
      "Stopping. Best iteration:\n",
      "[20]\tvalidation_0-logloss:0.01141\n",
      "\n"
     ]
    },
    {
     "name": "stderr",
     "output_type": "stream",
     "text": [
      "100%|██████████| 206/206 [05:04<00:00,  1.48s/it]\n"
     ]
    },
    {
     "name": "stdout",
     "output_type": "stream",
     "text": [
      "     fun: 0.01629032683182107\n",
      "     jac: array([0.00097928, 0.00097708, 0.0013596 ])\n",
      " message: 'Optimization terminated successfully.'\n",
      "    nfev: 76\n",
      "     nit: 15\n",
      "    njev: 15\n",
      "  status: 0\n",
      " success: True\n",
      "       x: array([9.17433622e-01, 8.25663780e-02, 3.79470760e-19])\n",
      "0.016260624043643476 0.016302405668196216 0.017008635315581968 0.022283353439942356 0.016290326831349598\n"
     ]
    },
    {
     "name": "stderr",
     "output_type": "stream",
     "text": [
      "100%|██████████| 32/32 [00:00<00:00, 518.60it/s]"
     ]
    },
    {
     "name": "stdout",
     "output_type": "stream",
     "text": [
      "auc 0.9058591820670545\n"
     ]
    },
    {
     "name": "stderr",
     "output_type": "stream",
     "text": [
      "\n",
      "100%|██████████| 30/30 [00:34<00:00,  1.15s/it, train_loss=0.0178, valid_loss=0.0161]"
     ]
    },
    {
     "name": "stdout",
     "output_type": "stream",
     "text": [
      "Device used : cuda\n"
     ]
    },
    {
     "name": "stderr",
     "output_type": "stream",
     "text": [
      "\n"
     ]
    },
    {
     "name": "stdout",
     "output_type": "stream",
     "text": [
      "epoch 0  | loss: 0.13446 | val_logits_ll: 0.02297 |  0:00:02s\n",
      "epoch 10 | loss: 0.02118 | val_logits_ll: 0.01853 |  0:00:27s\n",
      "epoch 20 | loss: 0.02078 | val_logits_ll: 0.0175  |  0:00:52s\n",
      "epoch 30 | loss: 0.02047 | val_logits_ll: 0.01751 |  0:01:16s\n",
      "epoch 40 | loss: 0.01946 | val_logits_ll: 0.01684 |  0:01:41s\n",
      "epoch 50 | loss: 0.01886 | val_logits_ll: 0.01679 |  0:02:05s\n",
      "epoch 60 | loss: 0.01785 | val_logits_ll: 0.01691 |  0:02:31s\n",
      "epoch 70 | loss: 0.01741 | val_logits_ll: 0.01699 |  0:02:54s\n",
      "\n",
      "Early stopping occured at epoch 70 with best_epoch = 50 and best_val_logits_ll = 0.01679\n",
      "Best weights from best epoch are automatically used!\n"
     ]
    },
    {
     "name": "stderr",
     "output_type": "stream",
     "text": [
      "  0%|          | 0/206 [00:00<?, ?it/s]"
     ]
    },
    {
     "name": "stdout",
     "output_type": "stream",
     "text": [
      "[0]\tvalidation_0-logloss:0.43842\n",
      "Will train until validation_0-logloss hasn't improved in 100 rounds.\n",
      "[100]\tvalidation_0-logloss:0.00902\n",
      "Stopping. Best iteration:\n",
      "[21]\tvalidation_0-logloss:0.00743\n",
      "\n"
     ]
    },
    {
     "name": "stderr",
     "output_type": "stream",
     "text": [
      "  0%|          | 1/206 [00:01<05:15,  1.54s/it]"
     ]
    },
    {
     "name": "stdout",
     "output_type": "stream",
     "text": [
      "[0]\tvalidation_0-logloss:0.43828\n",
      "Will train until validation_0-logloss hasn't improved in 100 rounds.\n",
      "[100]\tvalidation_0-logloss:0.00618\n",
      "Stopping. Best iteration:\n",
      "[31]\tvalidation_0-logloss:0.00503\n",
      "\n"
     ]
    },
    {
     "name": "stderr",
     "output_type": "stream",
     "text": [
      "  1%|          | 2/206 [00:03<05:18,  1.56s/it]"
     ]
    },
    {
     "name": "stdout",
     "output_type": "stream",
     "text": [
      "[0]\tvalidation_0-logloss:0.43858\n",
      "Will train until validation_0-logloss hasn't improved in 100 rounds.\n",
      "[100]\tvalidation_0-logloss:0.01035\n",
      "Stopping. Best iteration:\n",
      "[21]\tvalidation_0-logloss:0.00781\n",
      "\n"
     ]
    },
    {
     "name": "stderr",
     "output_type": "stream",
     "text": [
      "  1%|▏         | 3/206 [00:04<05:05,  1.50s/it]"
     ]
    },
    {
     "name": "stdout",
     "output_type": "stream",
     "text": [
      "[0]\tvalidation_0-logloss:0.44631\n",
      "Will train until validation_0-logloss hasn't improved in 100 rounds.\n",
      "[100]\tvalidation_0-logloss:0.07379\n",
      "Stopping. Best iteration:\n",
      "[19]\tvalidation_0-logloss:0.04783\n",
      "\n"
     ]
    },
    {
     "name": "stderr",
     "output_type": "stream",
     "text": [
      "  2%|▏         | 4/206 [00:06<05:31,  1.64s/it]"
     ]
    },
    {
     "name": "stdout",
     "output_type": "stream",
     "text": [
      "[0]\tvalidation_0-logloss:0.45137\n",
      "Will train until validation_0-logloss hasn't improved in 100 rounds.\n",
      "[100]\tvalidation_0-logloss:0.11664\n",
      "Stopping. Best iteration:\n",
      "[13]\tvalidation_0-logloss:0.07189\n",
      "\n"
     ]
    },
    {
     "name": "stderr",
     "output_type": "stream",
     "text": [
      "  2%|▏         | 5/206 [00:08<06:00,  1.80s/it]"
     ]
    },
    {
     "name": "stdout",
     "output_type": "stream",
     "text": [
      "[0]\tvalidation_0-logloss:0.44086\n",
      "Will train until validation_0-logloss hasn't improved in 100 rounds.\n",
      "[100]\tvalidation_0-logloss:0.03096\n",
      "Stopping. Best iteration:\n",
      "[18]\tvalidation_0-logloss:0.02230\n",
      "\n"
     ]
    },
    {
     "name": "stderr",
     "output_type": "stream",
     "text": [
      "  3%|▎         | 6/206 [00:10<05:45,  1.73s/it]"
     ]
    },
    {
     "name": "stdout",
     "output_type": "stream",
     "text": [
      "[0]\tvalidation_0-logloss:0.43993\n",
      "Will train until validation_0-logloss hasn't improved in 100 rounds.\n",
      "[100]\tvalidation_0-logloss:0.02242\n",
      "Stopping. Best iteration:\n",
      "[20]\tvalidation_0-logloss:0.01631\n",
      "\n"
     ]
    },
    {
     "name": "stderr",
     "output_type": "stream",
     "text": [
      "  3%|▎         | 7/206 [00:11<05:29,  1.66s/it]"
     ]
    },
    {
     "name": "stdout",
     "output_type": "stream",
     "text": [
      "[0]\tvalidation_0-logloss:0.44204\n",
      "Will train until validation_0-logloss hasn't improved in 100 rounds.\n",
      "[100]\tvalidation_0-logloss:0.03880\n",
      "Stopping. Best iteration:\n",
      "[17]\tvalidation_0-logloss:0.02738\n",
      "\n"
     ]
    },
    {
     "name": "stderr",
     "output_type": "stream",
     "text": [
      "  4%|▍         | 8/206 [00:13<05:27,  1.65s/it]"
     ]
    },
    {
     "name": "stdout",
     "output_type": "stream",
     "text": [
      "[0]\tvalidation_0-logloss:0.43814\n",
      "Will train until validation_0-logloss hasn't improved in 100 rounds.\n",
      "[100]\tvalidation_0-logloss:0.00390\n",
      "Stopping. Best iteration:\n",
      "[37]\tvalidation_0-logloss:0.00380\n",
      "\n"
     ]
    },
    {
     "name": "stderr",
     "output_type": "stream",
     "text": [
      "  4%|▍         | 9/206 [00:14<04:55,  1.50s/it]"
     ]
    },
    {
     "name": "stdout",
     "output_type": "stream",
     "text": [
      "[0]\tvalidation_0-logloss:0.44993\n",
      "Will train until validation_0-logloss hasn't improved in 100 rounds.\n",
      "[100]\tvalidation_0-logloss:0.09130\n",
      "Stopping. Best iteration:\n",
      "[17]\tvalidation_0-logloss:0.06173\n",
      "\n"
     ]
    },
    {
     "name": "stderr",
     "output_type": "stream",
     "text": [
      "  5%|▍         | 10/206 [00:16<05:34,  1.71s/it]"
     ]
    },
    {
     "name": "stdout",
     "output_type": "stream",
     "text": [
      "[0]\tvalidation_0-logloss:0.45422\n",
      "Will train until validation_0-logloss hasn't improved in 100 rounds.\n",
      "[100]\tvalidation_0-logloss:0.13090\n",
      "Stopping. Best iteration:\n",
      "[16]\tvalidation_0-logloss:0.08449\n",
      "\n"
     ]
    },
    {
     "name": "stderr",
     "output_type": "stream",
     "text": [
      "  5%|▌         | 11/206 [00:19<06:17,  1.93s/it]"
     ]
    },
    {
     "name": "stdout",
     "output_type": "stream",
     "text": [
      "[0]\tvalidation_0-logloss:0.44074\n",
      "Will train until validation_0-logloss hasn't improved in 100 rounds.\n",
      "[100]\tvalidation_0-logloss:0.02121\n",
      "Stopping. Best iteration:\n",
      "[19]\tvalidation_0-logloss:0.01701\n",
      "\n"
     ]
    },
    {
     "name": "stderr",
     "output_type": "stream",
     "text": [
      "  6%|▌         | 12/206 [00:20<05:50,  1.80s/it]"
     ]
    },
    {
     "name": "stdout",
     "output_type": "stream",
     "text": [
      "[0]\tvalidation_0-logloss:0.43786\n",
      "Will train until validation_0-logloss hasn't improved in 100 rounds.\n",
      "[100]\tvalidation_0-logloss:0.00282\n",
      "Stopping. Best iteration:\n",
      "[30]\tvalidation_0-logloss:0.00270\n",
      "\n"
     ]
    },
    {
     "name": "stderr",
     "output_type": "stream",
     "text": [
      "  6%|▋         | 13/206 [00:21<05:05,  1.58s/it]"
     ]
    },
    {
     "name": "stdout",
     "output_type": "stream",
     "text": [
      "[0]\tvalidation_0-logloss:0.43949\n",
      "Will train until validation_0-logloss hasn't improved in 100 rounds.\n",
      "[100]\tvalidation_0-logloss:0.01752\n",
      "Stopping. Best iteration:\n",
      "[20]\tvalidation_0-logloss:0.01303\n",
      "\n"
     ]
    },
    {
     "name": "stderr",
     "output_type": "stream",
     "text": [
      "  7%|▋         | 14/206 [00:23<04:55,  1.54s/it]"
     ]
    },
    {
     "name": "stdout",
     "output_type": "stream",
     "text": [
      "[0]\tvalidation_0-logloss:0.43814\n",
      "Will train until validation_0-logloss hasn't improved in 100 rounds.\n",
      "[100]\tvalidation_0-logloss:0.00712\n",
      "Stopping. Best iteration:\n",
      "[22]\tvalidation_0-logloss:0.00560\n",
      "\n"
     ]
    },
    {
     "name": "stderr",
     "output_type": "stream",
     "text": [
      "  7%|▋         | 15/206 [00:24<04:33,  1.43s/it]"
     ]
    },
    {
     "name": "stdout",
     "output_type": "stream",
     "text": [
      "[0]\tvalidation_0-logloss:0.43797\n",
      "Will train until validation_0-logloss hasn't improved in 100 rounds.\n",
      "[100]\tvalidation_0-logloss:0.00308\n",
      "Stopping. Best iteration:\n",
      "[30]\tvalidation_0-logloss:0.00269\n",
      "\n"
     ]
    },
    {
     "name": "stderr",
     "output_type": "stream",
     "text": [
      "  8%|▊         | 16/206 [00:25<04:18,  1.36s/it]"
     ]
    },
    {
     "name": "stdout",
     "output_type": "stream",
     "text": [
      "[0]\tvalidation_0-logloss:0.43979\n",
      "Will train until validation_0-logloss hasn't improved in 100 rounds.\n",
      "[100]\tvalidation_0-logloss:0.02240\n",
      "Stopping. Best iteration:\n",
      "[21]\tvalidation_0-logloss:0.01583\n",
      "\n"
     ]
    },
    {
     "name": "stderr",
     "output_type": "stream",
     "text": [
      "  8%|▊         | 17/206 [00:27<04:24,  1.40s/it]"
     ]
    },
    {
     "name": "stdout",
     "output_type": "stream",
     "text": [
      "[0]\tvalidation_0-logloss:0.44155\n",
      "Will train until validation_0-logloss hasn't improved in 100 rounds.\n",
      "[100]\tvalidation_0-logloss:0.03559\n",
      "Stopping. Best iteration:\n",
      "[18]\tvalidation_0-logloss:0.02511\n",
      "\n"
     ]
    },
    {
     "name": "stderr",
     "output_type": "stream",
     "text": [
      "  9%|▊         | 18/206 [00:28<04:39,  1.49s/it]"
     ]
    },
    {
     "name": "stdout",
     "output_type": "stream",
     "text": [
      "[0]\tvalidation_0-logloss:0.44135\n",
      "Will train until validation_0-logloss hasn't improved in 100 rounds.\n",
      "[100]\tvalidation_0-logloss:0.03594\n",
      "Stopping. Best iteration:\n",
      "[19]\tvalidation_0-logloss:0.02545\n",
      "\n"
     ]
    },
    {
     "name": "stderr",
     "output_type": "stream",
     "text": [
      "  9%|▉         | 19/206 [00:30<04:43,  1.52s/it]"
     ]
    },
    {
     "name": "stdout",
     "output_type": "stream",
     "text": [
      "[0]\tvalidation_0-logloss:0.43936\n",
      "Will train until validation_0-logloss hasn't improved in 100 rounds.\n",
      "[100]\tvalidation_0-logloss:0.01973\n",
      "Stopping. Best iteration:\n",
      "[20]\tvalidation_0-logloss:0.01443\n",
      "\n"
     ]
    },
    {
     "name": "stderr",
     "output_type": "stream",
     "text": [
      " 10%|▉         | 20/206 [00:31<04:32,  1.47s/it]"
     ]
    },
    {
     "name": "stdout",
     "output_type": "stream",
     "text": [
      "[0]\tvalidation_0-logloss:0.43921\n",
      "Will train until validation_0-logloss hasn't improved in 100 rounds.\n",
      "[100]\tvalidation_0-logloss:0.01489\n",
      "Stopping. Best iteration:\n",
      "[22]\tvalidation_0-logloss:0.01198\n",
      "\n"
     ]
    },
    {
     "name": "stderr",
     "output_type": "stream",
     "text": [
      " 10%|█         | 21/206 [00:33<04:31,  1.47s/it]"
     ]
    },
    {
     "name": "stdout",
     "output_type": "stream",
     "text": [
      "[0]\tvalidation_0-logloss:0.44086\n",
      "Will train until validation_0-logloss hasn't improved in 100 rounds.\n",
      "[100]\tvalidation_0-logloss:0.02679\n",
      "Stopping. Best iteration:\n",
      "[18]\tvalidation_0-logloss:0.02003\n",
      "\n"
     ]
    },
    {
     "name": "stderr",
     "output_type": "stream",
     "text": [
      " 11%|█         | 22/206 [00:35<04:58,  1.62s/it]"
     ]
    },
    {
     "name": "stdout",
     "output_type": "stream",
     "text": [
      "[0]\tvalidation_0-logloss:0.43784\n",
      "Will train until validation_0-logloss hasn't improved in 100 rounds.\n",
      "[100]\tvalidation_0-logloss:0.00354\n",
      "Stopping. Best iteration:\n",
      "[25]\tvalidation_0-logloss:0.00308\n",
      "\n"
     ]
    },
    {
     "name": "stderr",
     "output_type": "stream",
     "text": [
      " 11%|█         | 23/206 [00:36<04:35,  1.50s/it]"
     ]
    },
    {
     "name": "stdout",
     "output_type": "stream",
     "text": [
      "[0]\tvalidation_0-logloss:0.43951\n",
      "Will train until validation_0-logloss hasn't improved in 100 rounds.\n",
      "[100]\tvalidation_0-logloss:0.01665\n",
      "Stopping. Best iteration:\n",
      "[19]\tvalidation_0-logloss:0.01311\n",
      "\n"
     ]
    },
    {
     "name": "stderr",
     "output_type": "stream",
     "text": [
      " 12%|█▏        | 24/206 [00:37<04:33,  1.50s/it]"
     ]
    },
    {
     "name": "stdout",
     "output_type": "stream",
     "text": [
      "[0]\tvalidation_0-logloss:0.43797\n",
      "Will train until validation_0-logloss hasn't improved in 100 rounds.\n",
      "[100]\tvalidation_0-logloss:0.00364\n",
      "Stopping. Best iteration:\n",
      "[25]\tvalidation_0-logloss:0.00300\n",
      "\n"
     ]
    },
    {
     "name": "stderr",
     "output_type": "stream",
     "text": [
      " 12%|█▏        | 25/206 [00:39<04:14,  1.41s/it]"
     ]
    },
    {
     "name": "stdout",
     "output_type": "stream",
     "text": [
      "[0]\tvalidation_0-logloss:0.43816\n",
      "Will train until validation_0-logloss hasn't improved in 100 rounds.\n",
      "[100]\tvalidation_0-logloss:0.00655\n",
      "Stopping. Best iteration:\n",
      "[25]\tvalidation_0-logloss:0.00534\n",
      "\n"
     ]
    },
    {
     "name": "stderr",
     "output_type": "stream",
     "text": [
      " 13%|█▎        | 26/206 [00:40<03:59,  1.33s/it]"
     ]
    },
    {
     "name": "stdout",
     "output_type": "stream",
     "text": [
      "[0]\tvalidation_0-logloss:0.43814\n",
      "Will train until validation_0-logloss hasn't improved in 100 rounds.\n",
      "[100]\tvalidation_0-logloss:0.00664\n",
      "Stopping. Best iteration:\n",
      "[23]\tvalidation_0-logloss:0.00537\n",
      "\n"
     ]
    },
    {
     "name": "stderr",
     "output_type": "stream",
     "text": [
      " 13%|█▎        | 27/206 [00:41<03:48,  1.28s/it]"
     ]
    },
    {
     "name": "stdout",
     "output_type": "stream",
     "text": [
      "[0]\tvalidation_0-logloss:0.43828\n",
      "Will train until validation_0-logloss hasn't improved in 100 rounds.\n",
      "[100]\tvalidation_0-logloss:0.00691\n",
      "Stopping. Best iteration:\n",
      "[25]\tvalidation_0-logloss:0.00531\n",
      "\n"
     ]
    },
    {
     "name": "stderr",
     "output_type": "stream",
     "text": [
      " 14%|█▎        | 28/206 [00:42<03:44,  1.26s/it]"
     ]
    },
    {
     "name": "stdout",
     "output_type": "stream",
     "text": [
      "[0]\tvalidation_0-logloss:0.44103\n",
      "Will train until validation_0-logloss hasn't improved in 100 rounds.\n",
      "[100]\tvalidation_0-logloss:0.03418\n",
      "Stopping. Best iteration:\n",
      "[18]\tvalidation_0-logloss:0.02311\n",
      "\n"
     ]
    },
    {
     "name": "stderr",
     "output_type": "stream",
     "text": [
      " 14%|█▍        | 29/206 [00:44<03:57,  1.34s/it]"
     ]
    },
    {
     "name": "stdout",
     "output_type": "stream",
     "text": [
      "[0]\tvalidation_0-logloss:0.43919\n",
      "Will train until validation_0-logloss hasn't improved in 100 rounds.\n",
      "[100]\tvalidation_0-logloss:0.01417\n",
      "Stopping. Best iteration:\n",
      "[20]\tvalidation_0-logloss:0.01144\n",
      "\n"
     ]
    },
    {
     "name": "stderr",
     "output_type": "stream",
     "text": [
      " 15%|█▍        | 30/206 [00:45<03:57,  1.35s/it]"
     ]
    },
    {
     "name": "stdout",
     "output_type": "stream",
     "text": [
      "[0]\tvalidation_0-logloss:0.43873\n",
      "Will train until validation_0-logloss hasn't improved in 100 rounds.\n",
      "[100]\tvalidation_0-logloss:0.01177\n",
      "Stopping. Best iteration:\n",
      "[22]\tvalidation_0-logloss:0.00949\n",
      "\n"
     ]
    },
    {
     "name": "stderr",
     "output_type": "stream",
     "text": [
      " 15%|█▌        | 31/206 [00:46<03:50,  1.32s/it]"
     ]
    },
    {
     "name": "stdout",
     "output_type": "stream",
     "text": [
      "[0]\tvalidation_0-logloss:0.43982\n",
      "Will train until validation_0-logloss hasn't improved in 100 rounds.\n",
      "[100]\tvalidation_0-logloss:0.02275\n",
      "Stopping. Best iteration:\n",
      "[17]\tvalidation_0-logloss:0.01597\n",
      "\n"
     ]
    },
    {
     "name": "stderr",
     "output_type": "stream",
     "text": [
      " 16%|█▌        | 32/206 [00:48<03:53,  1.34s/it]"
     ]
    },
    {
     "name": "stdout",
     "output_type": "stream",
     "text": [
      "[0]\tvalidation_0-logloss:0.43977\n",
      "Will train until validation_0-logloss hasn't improved in 100 rounds.\n",
      "[100]\tvalidation_0-logloss:0.02305\n",
      "Stopping. Best iteration:\n",
      "[19]\tvalidation_0-logloss:0.01661\n",
      "\n"
     ]
    },
    {
     "name": "stderr",
     "output_type": "stream",
     "text": [
      " 16%|█▌        | 33/206 [00:49<04:01,  1.40s/it]"
     ]
    },
    {
     "name": "stdout",
     "output_type": "stream",
     "text": [
      "[0]\tvalidation_0-logloss:0.43784\n",
      "Will train until validation_0-logloss hasn't improved in 100 rounds.\n",
      "[100]\tvalidation_0-logloss:0.00226\n",
      "Stopping. Best iteration:\n",
      "[41]\tvalidation_0-logloss:0.00224\n",
      "\n"
     ]
    },
    {
     "name": "stderr",
     "output_type": "stream",
     "text": [
      " 17%|█▋        | 34/206 [00:50<03:45,  1.31s/it]"
     ]
    },
    {
     "name": "stdout",
     "output_type": "stream",
     "text": [
      "[0]\tvalidation_0-logloss:0.43756\n",
      "Will train until validation_0-logloss hasn't improved in 100 rounds.\n",
      "[100]\tvalidation_0-logloss:0.00005\n",
      "Stopping. Best iteration:\n",
      "[56]\tvalidation_0-logloss:0.00005\n",
      "\n"
     ]
    },
    {
     "name": "stderr",
     "output_type": "stream",
     "text": [
      " 17%|█▋        | 35/206 [00:51<03:32,  1.25s/it]"
     ]
    },
    {
     "name": "stdout",
     "output_type": "stream",
     "text": [
      "[0]\tvalidation_0-logloss:0.43814\n",
      "Will train until validation_0-logloss hasn't improved in 100 rounds.\n",
      "[100]\tvalidation_0-logloss:0.00336\n",
      "Stopping. Best iteration:\n",
      "[34]\tvalidation_0-logloss:0.00316\n",
      "\n"
     ]
    },
    {
     "name": "stderr",
     "output_type": "stream",
     "text": [
      " 17%|█▋        | 36/206 [00:52<03:23,  1.20s/it]"
     ]
    },
    {
     "name": "stdout",
     "output_type": "stream",
     "text": [
      "[0]\tvalidation_0-logloss:0.44148\n",
      "Will train until validation_0-logloss hasn't improved in 100 rounds.\n",
      "[100]\tvalidation_0-logloss:0.03198\n",
      "Stopping. Best iteration:\n",
      "[17]\tvalidation_0-logloss:0.02517\n",
      "\n"
     ]
    },
    {
     "name": "stderr",
     "output_type": "stream",
     "text": [
      " 18%|█▊        | 37/206 [00:54<03:42,  1.32s/it]"
     ]
    },
    {
     "name": "stdout",
     "output_type": "stream",
     "text": [
      "[0]\tvalidation_0-logloss:0.43847\n",
      "Will train until validation_0-logloss hasn't improved in 100 rounds.\n",
      "[100]\tvalidation_0-logloss:0.00785\n",
      "Stopping. Best iteration:\n",
      "[23]\tvalidation_0-logloss:0.00624\n",
      "\n"
     ]
    },
    {
     "name": "stderr",
     "output_type": "stream",
     "text": [
      " 18%|█▊        | 38/206 [00:55<03:32,  1.27s/it]"
     ]
    },
    {
     "name": "stdout",
     "output_type": "stream",
     "text": [
      "[0]\tvalidation_0-logloss:0.44216\n",
      "Will train until validation_0-logloss hasn't improved in 100 rounds.\n",
      "[100]\tvalidation_0-logloss:0.02267\n",
      "Stopping. Best iteration:\n",
      "[17]\tvalidation_0-logloss:0.01901\n",
      "\n"
     ]
    },
    {
     "name": "stderr",
     "output_type": "stream",
     "text": [
      " 19%|█▉        | 39/206 [00:57<03:41,  1.33s/it]"
     ]
    },
    {
     "name": "stdout",
     "output_type": "stream",
     "text": [
      "[0]\tvalidation_0-logloss:0.43784\n",
      "Will train until validation_0-logloss hasn't improved in 100 rounds.\n",
      "[100]\tvalidation_0-logloss:0.00295\n",
      "Stopping. Best iteration:\n",
      "[24]\tvalidation_0-logloss:0.00255\n",
      "\n"
     ]
    },
    {
     "name": "stderr",
     "output_type": "stream",
     "text": [
      " 19%|█▉        | 40/206 [00:58<03:27,  1.25s/it]"
     ]
    },
    {
     "name": "stdout",
     "output_type": "stream",
     "text": [
      "[0]\tvalidation_0-logloss:0.44023\n",
      "Will train until validation_0-logloss hasn't improved in 100 rounds.\n",
      "[100]\tvalidation_0-logloss:0.02503\n",
      "Stopping. Best iteration:\n",
      "[20]\tvalidation_0-logloss:0.01820\n",
      "\n"
     ]
    },
    {
     "name": "stderr",
     "output_type": "stream",
     "text": [
      " 20%|█▉        | 41/206 [00:59<03:42,  1.35s/it]"
     ]
    },
    {
     "name": "stdout",
     "output_type": "stream",
     "text": [
      "[0]\tvalidation_0-logloss:0.44135\n",
      "Will train until validation_0-logloss hasn't improved in 100 rounds.\n",
      "[100]\tvalidation_0-logloss:0.03653\n",
      "Stopping. Best iteration:\n",
      "[18]\tvalidation_0-logloss:0.02565\n",
      "\n"
     ]
    },
    {
     "name": "stderr",
     "output_type": "stream",
     "text": [
      " 20%|██        | 42/206 [01:01<03:52,  1.42s/it]"
     ]
    },
    {
     "name": "stdout",
     "output_type": "stream",
     "text": [
      "[0]\tvalidation_0-logloss:0.43919\n",
      "Will train until validation_0-logloss hasn't improved in 100 rounds.\n",
      "[100]\tvalidation_0-logloss:0.01532\n",
      "Stopping. Best iteration:\n",
      "[23]\tvalidation_0-logloss:0.01175\n",
      "\n"
     ]
    },
    {
     "name": "stderr",
     "output_type": "stream",
     "text": [
      " 21%|██        | 43/206 [01:02<03:48,  1.40s/it]"
     ]
    },
    {
     "name": "stdout",
     "output_type": "stream",
     "text": [
      "[0]\tvalidation_0-logloss:0.44635\n",
      "Will train until validation_0-logloss hasn't improved in 100 rounds.\n",
      "[100]\tvalidation_0-logloss:0.07667\n",
      "Stopping. Best iteration:\n",
      "[16]\tvalidation_0-logloss:0.04963\n",
      "\n"
     ]
    },
    {
     "name": "stderr",
     "output_type": "stream",
     "text": [
      " 21%|██▏       | 44/206 [01:04<04:16,  1.58s/it]"
     ]
    },
    {
     "name": "stdout",
     "output_type": "stream",
     "text": [
      "[0]\tvalidation_0-logloss:0.44155\n",
      "Will train until validation_0-logloss hasn't improved in 100 rounds.\n",
      "[100]\tvalidation_0-logloss:0.03744\n",
      "Stopping. Best iteration:\n",
      "[18]\tvalidation_0-logloss:0.02547\n",
      "\n"
     ]
    },
    {
     "name": "stderr",
     "output_type": "stream",
     "text": [
      " 22%|██▏       | 45/206 [01:06<04:16,  1.59s/it]"
     ]
    },
    {
     "name": "stdout",
     "output_type": "stream",
     "text": [
      "[0]\tvalidation_0-logloss:0.44297\n",
      "Will train until validation_0-logloss hasn't improved in 100 rounds.\n",
      "[100]\tvalidation_0-logloss:0.04713\n",
      "Stopping. Best iteration:\n",
      "[20]\tvalidation_0-logloss:0.03292\n",
      "\n"
     ]
    },
    {
     "name": "stderr",
     "output_type": "stream",
     "text": [
      " 22%|██▏       | 46/206 [01:08<04:24,  1.65s/it]"
     ]
    },
    {
     "name": "stdout",
     "output_type": "stream",
     "text": [
      "[0]\tvalidation_0-logloss:0.43786\n",
      "Will train until validation_0-logloss hasn't improved in 100 rounds.\n",
      "[100]\tvalidation_0-logloss:0.00130\n",
      "Stopping. Best iteration:\n",
      "[32]\tvalidation_0-logloss:0.00120\n",
      "\n"
     ]
    },
    {
     "name": "stderr",
     "output_type": "stream",
     "text": [
      " 23%|██▎       | 47/206 [01:09<04:03,  1.53s/it]"
     ]
    },
    {
     "name": "stdout",
     "output_type": "stream",
     "text": [
      "[0]\tvalidation_0-logloss:0.43907\n",
      "Will train until validation_0-logloss hasn't improved in 100 rounds.\n",
      "[100]\tvalidation_0-logloss:0.01257\n",
      "Stopping. Best iteration:\n",
      "[23]\tvalidation_0-logloss:0.01100\n",
      "\n"
     ]
    },
    {
     "name": "stderr",
     "output_type": "stream",
     "text": [
      " 23%|██▎       | 48/206 [01:11<04:10,  1.59s/it]"
     ]
    },
    {
     "name": "stdout",
     "output_type": "stream",
     "text": [
      "[0]\tvalidation_0-logloss:0.43912\n",
      "Will train until validation_0-logloss hasn't improved in 100 rounds.\n",
      "[100]\tvalidation_0-logloss:0.01202\n",
      "Stopping. Best iteration:\n",
      "[20]\tvalidation_0-logloss:0.00936\n",
      "\n"
     ]
    },
    {
     "name": "stderr",
     "output_type": "stream",
     "text": [
      " 24%|██▍       | 49/206 [01:12<03:58,  1.52s/it]"
     ]
    },
    {
     "name": "stdout",
     "output_type": "stream",
     "text": [
      "[0]\tvalidation_0-logloss:0.44072\n",
      "Will train until validation_0-logloss hasn't improved in 100 rounds.\n",
      "[100]\tvalidation_0-logloss:0.03158\n",
      "Stopping. Best iteration:\n",
      "[18]\tvalidation_0-logloss:0.02124\n",
      "\n"
     ]
    },
    {
     "name": "stderr",
     "output_type": "stream",
     "text": [
      " 24%|██▍       | 50/206 [01:13<03:56,  1.52s/it]"
     ]
    },
    {
     "name": "stdout",
     "output_type": "stream",
     "text": [
      "[0]\tvalidation_0-logloss:0.43858\n",
      "Will train until validation_0-logloss hasn't improved in 100 rounds.\n",
      "[100]\tvalidation_0-logloss:0.01047\n",
      "Stopping. Best iteration:\n",
      "[24]\tvalidation_0-logloss:0.00791\n",
      "\n"
     ]
    },
    {
     "name": "stderr",
     "output_type": "stream",
     "text": [
      " 25%|██▍       | 51/206 [01:15<03:45,  1.45s/it]"
     ]
    },
    {
     "name": "stdout",
     "output_type": "stream",
     "text": [
      "[0]\tvalidation_0-logloss:0.44025\n",
      "Will train until validation_0-logloss hasn't improved in 100 rounds.\n",
      "[100]\tvalidation_0-logloss:0.02190\n",
      "Stopping. Best iteration:\n",
      "[18]\tvalidation_0-logloss:0.01651\n",
      "\n"
     ]
    },
    {
     "name": "stderr",
     "output_type": "stream",
     "text": [
      " 25%|██▌       | 52/206 [01:16<03:42,  1.45s/it]"
     ]
    },
    {
     "name": "stdout",
     "output_type": "stream",
     "text": [
      "[0]\tvalidation_0-logloss:0.43903\n",
      "Will train until validation_0-logloss hasn't improved in 100 rounds.\n",
      "[100]\tvalidation_0-logloss:0.01572\n",
      "Stopping. Best iteration:\n",
      "[20]\tvalidation_0-logloss:0.01153\n",
      "\n"
     ]
    },
    {
     "name": "stderr",
     "output_type": "stream",
     "text": [
      " 26%|██▌       | 53/206 [01:18<03:40,  1.44s/it]"
     ]
    },
    {
     "name": "stdout",
     "output_type": "stream",
     "text": [
      "[0]\tvalidation_0-logloss:0.43767\n",
      "Will train until validation_0-logloss hasn't improved in 100 rounds.\n",
      "[100]\tvalidation_0-logloss:0.00006\n",
      "Stopping. Best iteration:\n",
      "[69]\tvalidation_0-logloss:0.00006\n",
      "\n"
     ]
    },
    {
     "name": "stderr",
     "output_type": "stream",
     "text": [
      " 26%|██▌       | 54/206 [01:19<03:31,  1.39s/it]"
     ]
    },
    {
     "name": "stdout",
     "output_type": "stream",
     "text": [
      "[0]\tvalidation_0-logloss:0.45044\n",
      "Will train until validation_0-logloss hasn't improved in 100 rounds.\n",
      "[100]\tvalidation_0-logloss:0.10850\n",
      "Stopping. Best iteration:\n",
      "[15]\tvalidation_0-logloss:0.06881\n",
      "\n"
     ]
    },
    {
     "name": "stderr",
     "output_type": "stream",
     "text": [
      " 27%|██▋       | 55/206 [01:21<04:03,  1.62s/it]"
     ]
    },
    {
     "name": "stdout",
     "output_type": "stream",
     "text": [
      "[0]\tvalidation_0-logloss:0.43949\n",
      "Will train until validation_0-logloss hasn't improved in 100 rounds.\n",
      "[100]\tvalidation_0-logloss:0.01815\n",
      "Stopping. Best iteration:\n",
      "[20]\tvalidation_0-logloss:0.01339\n",
      "\n"
     ]
    },
    {
     "name": "stderr",
     "output_type": "stream",
     "text": [
      " 27%|██▋       | 56/206 [01:23<03:59,  1.60s/it]"
     ]
    },
    {
     "name": "stdout",
     "output_type": "stream",
     "text": [
      "[0]\tvalidation_0-logloss:0.44012\n",
      "Will train until validation_0-logloss hasn't improved in 100 rounds.\n",
      "[100]\tvalidation_0-logloss:0.02565\n",
      "Stopping. Best iteration:\n",
      "[22]\tvalidation_0-logloss:0.01869\n",
      "\n"
     ]
    },
    {
     "name": "stderr",
     "output_type": "stream",
     "text": [
      " 28%|██▊       | 57/206 [01:24<03:52,  1.56s/it]"
     ]
    },
    {
     "name": "stdout",
     "output_type": "stream",
     "text": [
      "[0]\tvalidation_0-logloss:0.43936\n",
      "Will train until validation_0-logloss hasn't improved in 100 rounds.\n",
      "[100]\tvalidation_0-logloss:0.01998\n",
      "Stopping. Best iteration:\n",
      "[19]\tvalidation_0-logloss:0.01387\n",
      "\n"
     ]
    },
    {
     "name": "stderr",
     "output_type": "stream",
     "text": [
      " 28%|██▊       | 58/206 [01:25<03:42,  1.50s/it]"
     ]
    },
    {
     "name": "stdout",
     "output_type": "stream",
     "text": [
      "[0]\tvalidation_0-logloss:0.43919\n",
      "Will train until validation_0-logloss hasn't improved in 100 rounds.\n",
      "[100]\tvalidation_0-logloss:0.01312\n",
      "Stopping. Best iteration:\n",
      "[19]\tvalidation_0-logloss:0.01064\n",
      "\n"
     ]
    },
    {
     "name": "stderr",
     "output_type": "stream",
     "text": [
      " 29%|██▊       | 59/206 [01:27<03:34,  1.46s/it]"
     ]
    },
    {
     "name": "stdout",
     "output_type": "stream",
     "text": [
      "[0]\tvalidation_0-logloss:0.43844\n",
      "Will train until validation_0-logloss hasn't improved in 100 rounds.\n",
      "[100]\tvalidation_0-logloss:0.00872\n",
      "Stopping. Best iteration:\n",
      "[21]\tvalidation_0-logloss:0.00705\n",
      "\n"
     ]
    },
    {
     "name": "stderr",
     "output_type": "stream",
     "text": [
      " 29%|██▉       | 60/206 [01:28<03:22,  1.38s/it]"
     ]
    },
    {
     "name": "stdout",
     "output_type": "stream",
     "text": [
      "[0]\tvalidation_0-logloss:0.43814\n",
      "Will train until validation_0-logloss hasn't improved in 100 rounds.\n",
      "[100]\tvalidation_0-logloss:0.00664\n",
      "Stopping. Best iteration:\n",
      "[24]\tvalidation_0-logloss:0.00557\n",
      "\n"
     ]
    },
    {
     "name": "stderr",
     "output_type": "stream",
     "text": [
      " 30%|██▉       | 61/206 [01:29<03:11,  1.32s/it]"
     ]
    },
    {
     "name": "stdout",
     "output_type": "stream",
     "text": [
      "[0]\tvalidation_0-logloss:0.44235\n",
      "Will train until validation_0-logloss hasn't improved in 100 rounds.\n",
      "[100]\tvalidation_0-logloss:0.04461\n",
      "Stopping. Best iteration:\n",
      "[16]\tvalidation_0-logloss:0.03035\n",
      "\n"
     ]
    },
    {
     "name": "stderr",
     "output_type": "stream",
     "text": [
      " 30%|███       | 62/206 [01:31<03:25,  1.42s/it]"
     ]
    },
    {
     "name": "stdout",
     "output_type": "stream",
     "text": [
      "[0]\tvalidation_0-logloss:0.43844\n",
      "Will train until validation_0-logloss hasn't improved in 100 rounds.\n",
      "[100]\tvalidation_0-logloss:0.00936\n",
      "Stopping. Best iteration:\n",
      "[22]\tvalidation_0-logloss:0.00774\n",
      "\n"
     ]
    },
    {
     "name": "stderr",
     "output_type": "stream",
     "text": [
      " 31%|███       | 63/206 [01:32<03:18,  1.38s/it]"
     ]
    },
    {
     "name": "stdout",
     "output_type": "stream",
     "text": [
      "[0]\tvalidation_0-logloss:0.44330\n",
      "Will train until validation_0-logloss hasn't improved in 100 rounds.\n",
      "[100]\tvalidation_0-logloss:0.03740\n",
      "Stopping. Best iteration:\n",
      "[18]\tvalidation_0-logloss:0.02900\n",
      "\n"
     ]
    },
    {
     "name": "stderr",
     "output_type": "stream",
     "text": [
      " 31%|███       | 64/206 [01:34<03:30,  1.48s/it]"
     ]
    },
    {
     "name": "stdout",
     "output_type": "stream",
     "text": [
      "[0]\tvalidation_0-logloss:0.44019\n",
      "Will train until validation_0-logloss hasn't improved in 100 rounds.\n",
      "[100]\tvalidation_0-logloss:0.02321\n",
      "Stopping. Best iteration:\n",
      "[18]\tvalidation_0-logloss:0.01702\n",
      "\n"
     ]
    },
    {
     "name": "stderr",
     "output_type": "stream",
     "text": [
      " 32%|███▏      | 65/206 [01:35<03:29,  1.49s/it]"
     ]
    },
    {
     "name": "stdout",
     "output_type": "stream",
     "text": [
      "[0]\tvalidation_0-logloss:0.43858\n",
      "Will train until validation_0-logloss hasn't improved in 100 rounds.\n",
      "[100]\tvalidation_0-logloss:0.00231\n",
      "Stopping. Best iteration:\n",
      "[32]\tvalidation_0-logloss:0.00229\n",
      "\n"
     ]
    },
    {
     "name": "stderr",
     "output_type": "stream",
     "text": [
      " 32%|███▏      | 66/206 [01:37<03:20,  1.43s/it]"
     ]
    },
    {
     "name": "stdout",
     "output_type": "stream",
     "text": [
      "[0]\tvalidation_0-logloss:0.43947\n",
      "Will train until validation_0-logloss hasn't improved in 100 rounds.\n",
      "[100]\tvalidation_0-logloss:0.01794\n",
      "Stopping. Best iteration:\n",
      "[21]\tvalidation_0-logloss:0.01397\n",
      "\n"
     ]
    },
    {
     "name": "stderr",
     "output_type": "stream",
     "text": [
      " 33%|███▎      | 67/206 [01:38<03:17,  1.42s/it]"
     ]
    },
    {
     "name": "stdout",
     "output_type": "stream",
     "text": [
      "[0]\tvalidation_0-logloss:0.43979\n",
      "Will train until validation_0-logloss hasn't improved in 100 rounds.\n",
      "[100]\tvalidation_0-logloss:0.02304\n",
      "Stopping. Best iteration:\n",
      "[20]\tvalidation_0-logloss:0.01610\n",
      "\n"
     ]
    },
    {
     "name": "stderr",
     "output_type": "stream",
     "text": [
      " 33%|███▎      | 68/206 [01:39<03:16,  1.43s/it]"
     ]
    },
    {
     "name": "stdout",
     "output_type": "stream",
     "text": [
      "[0]\tvalidation_0-logloss:0.43993\n",
      "Will train until validation_0-logloss hasn't improved in 100 rounds.\n",
      "[100]\tvalidation_0-logloss:0.02190\n",
      "Stopping. Best iteration:\n",
      "[20]\tvalidation_0-logloss:0.01605\n",
      "\n"
     ]
    },
    {
     "name": "stderr",
     "output_type": "stream",
     "text": [
      " 33%|███▎      | 69/206 [01:41<03:17,  1.44s/it]"
     ]
    },
    {
     "name": "stdout",
     "output_type": "stream",
     "text": [
      "[0]\tvalidation_0-logloss:0.43784\n",
      "Will train until validation_0-logloss hasn't improved in 100 rounds.\n",
      "[100]\tvalidation_0-logloss:0.00329\n",
      "Stopping. Best iteration:\n",
      "[25]\tvalidation_0-logloss:0.00281\n",
      "\n"
     ]
    },
    {
     "name": "stderr",
     "output_type": "stream",
     "text": [
      " 34%|███▍      | 70/206 [01:42<03:08,  1.38s/it]"
     ]
    },
    {
     "name": "stdout",
     "output_type": "stream",
     "text": [
      "[0]\tvalidation_0-logloss:0.43933\n",
      "Will train until validation_0-logloss hasn't improved in 100 rounds.\n",
      "[100]\tvalidation_0-logloss:0.01577\n",
      "Stopping. Best iteration:\n",
      "[19]\tvalidation_0-logloss:0.01149\n",
      "\n"
     ]
    },
    {
     "name": "stderr",
     "output_type": "stream",
     "text": [
      " 34%|███▍      | 71/206 [01:44<03:24,  1.52s/it]"
     ]
    },
    {
     "name": "stdout",
     "output_type": "stream",
     "text": [
      "[0]\tvalidation_0-logloss:0.45770\n",
      "Will train until validation_0-logloss hasn't improved in 100 rounds.\n",
      "[100]\tvalidation_0-logloss:0.14822\n",
      "Stopping. Best iteration:\n",
      "[13]\tvalidation_0-logloss:0.09701\n",
      "\n"
     ]
    },
    {
     "name": "stderr",
     "output_type": "stream",
     "text": [
      " 35%|███▍      | 72/206 [01:46<03:58,  1.78s/it]"
     ]
    },
    {
     "name": "stdout",
     "output_type": "stream",
     "text": [
      "[0]\tvalidation_0-logloss:0.44218\n",
      "Will train until validation_0-logloss hasn't improved in 100 rounds.\n",
      "[100]\tvalidation_0-logloss:0.04129\n",
      "Stopping. Best iteration:\n",
      "[16]\tvalidation_0-logloss:0.02833\n",
      "\n"
     ]
    },
    {
     "name": "stderr",
     "output_type": "stream",
     "text": [
      " 35%|███▌      | 73/206 [01:48<03:52,  1.75s/it]"
     ]
    },
    {
     "name": "stdout",
     "output_type": "stream",
     "text": [
      "[0]\tvalidation_0-logloss:0.43919\n",
      "Will train until validation_0-logloss hasn't improved in 100 rounds.\n",
      "[100]\tvalidation_0-logloss:0.00948\n",
      "Stopping. Best iteration:\n",
      "[23]\tvalidation_0-logloss:0.00756\n",
      "\n"
     ]
    },
    {
     "name": "stderr",
     "output_type": "stream",
     "text": [
      " 36%|███▌      | 74/206 [01:49<03:34,  1.62s/it]"
     ]
    },
    {
     "name": "stdout",
     "output_type": "stream",
     "text": [
      "[0]\tvalidation_0-logloss:0.43877\n",
      "Will train until validation_0-logloss hasn't improved in 100 rounds.\n",
      "[100]\tvalidation_0-logloss:0.01366\n",
      "Stopping. Best iteration:\n",
      "[20]\tvalidation_0-logloss:0.01026\n",
      "\n"
     ]
    },
    {
     "name": "stderr",
     "output_type": "stream",
     "text": [
      " 36%|███▋      | 75/206 [01:51<03:18,  1.52s/it]"
     ]
    },
    {
     "name": "stdout",
     "output_type": "stream",
     "text": [
      "[0]\tvalidation_0-logloss:0.43784\n",
      "Will train until validation_0-logloss hasn't improved in 100 rounds.\n",
      "[100]\tvalidation_0-logloss:0.00321\n",
      "Stopping. Best iteration:\n",
      "[25]\tvalidation_0-logloss:0.00298\n",
      "\n"
     ]
    },
    {
     "name": "stderr",
     "output_type": "stream",
     "text": [
      " 37%|███▋      | 76/206 [01:52<02:59,  1.38s/it]"
     ]
    },
    {
     "name": "stdout",
     "output_type": "stream",
     "text": [
      "[0]\tvalidation_0-logloss:0.43979\n",
      "Will train until validation_0-logloss hasn't improved in 100 rounds.\n",
      "[100]\tvalidation_0-logloss:0.01994\n",
      "Stopping. Best iteration:\n",
      "[18]\tvalidation_0-logloss:0.01478\n",
      "\n"
     ]
    },
    {
     "name": "stderr",
     "output_type": "stream",
     "text": [
      " 37%|███▋      | 77/206 [01:53<03:00,  1.40s/it]"
     ]
    },
    {
     "name": "stdout",
     "output_type": "stream",
     "text": [
      "[0]\tvalidation_0-logloss:0.45542\n",
      "Will train until validation_0-logloss hasn't improved in 100 rounds.\n",
      "[100]\tvalidation_0-logloss:0.12951\n",
      "Stopping. Best iteration:\n",
      "[16]\tvalidation_0-logloss:0.08704\n",
      "\n"
     ]
    },
    {
     "name": "stderr",
     "output_type": "stream",
     "text": [
      " 38%|███▊      | 78/206 [01:56<03:38,  1.71s/it]"
     ]
    },
    {
     "name": "stdout",
     "output_type": "stream",
     "text": [
      "[0]\tvalidation_0-logloss:0.44311\n",
      "Will train until validation_0-logloss hasn't improved in 100 rounds.\n",
      "[100]\tvalidation_0-logloss:0.05202\n",
      "Stopping. Best iteration:\n",
      "[17]\tvalidation_0-logloss:0.03504\n",
      "\n"
     ]
    },
    {
     "name": "stderr",
     "output_type": "stream",
     "text": [
      " 38%|███▊      | 79/206 [01:57<03:37,  1.71s/it]"
     ]
    },
    {
     "name": "stdout",
     "output_type": "stream",
     "text": [
      "[0]\tvalidation_0-logloss:0.45675\n",
      "Will train until validation_0-logloss hasn't improved in 100 rounds.\n",
      "[100]\tvalidation_0-logloss:0.13600\n",
      "Stopping. Best iteration:\n",
      "[20]\tvalidation_0-logloss:0.09197\n",
      "\n"
     ]
    },
    {
     "name": "stderr",
     "output_type": "stream",
     "text": [
      " 39%|███▉      | 80/206 [02:00<04:02,  1.92s/it]"
     ]
    },
    {
     "name": "stdout",
     "output_type": "stream",
     "text": [
      "[0]\tvalidation_0-logloss:0.44589\n",
      "Will train until validation_0-logloss hasn't improved in 100 rounds.\n",
      "[100]\tvalidation_0-logloss:0.02395\n",
      "Stopping. Best iteration:\n",
      "[29]\tvalidation_0-logloss:0.02343\n",
      "\n"
     ]
    },
    {
     "name": "stderr",
     "output_type": "stream",
     "text": [
      " 39%|███▉      | 81/206 [02:02<03:57,  1.90s/it]"
     ]
    },
    {
     "name": "stdout",
     "output_type": "stream",
     "text": [
      "[0]\tvalidation_0-logloss:0.43784\n",
      "Will train until validation_0-logloss hasn't improved in 100 rounds.\n",
      "[100]\tvalidation_0-logloss:0.00255\n",
      "Stopping. Best iteration:\n",
      "[27]\tvalidation_0-logloss:0.00215\n",
      "\n"
     ]
    },
    {
     "name": "stderr",
     "output_type": "stream",
     "text": [
      " 40%|███▉      | 82/206 [02:03<03:26,  1.66s/it]"
     ]
    },
    {
     "name": "stdout",
     "output_type": "stream",
     "text": [
      "[0]\tvalidation_0-logloss:0.43756\n",
      "Will train until validation_0-logloss hasn't improved in 100 rounds.\n",
      "[100]\tvalidation_0-logloss:0.00005\n",
      "Stopping. Best iteration:\n",
      "[60]\tvalidation_0-logloss:0.00005\n",
      "\n"
     ]
    },
    {
     "name": "stderr",
     "output_type": "stream",
     "text": [
      " 40%|████      | 83/206 [02:04<03:04,  1.50s/it]"
     ]
    },
    {
     "name": "stdout",
     "output_type": "stream",
     "text": [
      "[0]\tvalidation_0-logloss:0.44476\n",
      "Will train until validation_0-logloss hasn't improved in 100 rounds.\n",
      "[100]\tvalidation_0-logloss:0.06101\n",
      "Stopping. Best iteration:\n",
      "[16]\tvalidation_0-logloss:0.04145\n",
      "\n"
     ]
    },
    {
     "name": "stderr",
     "output_type": "stream",
     "text": [
      " 41%|████      | 84/206 [02:06<03:17,  1.62s/it]"
     ]
    },
    {
     "name": "stdout",
     "output_type": "stream",
     "text": [
      "[0]\tvalidation_0-logloss:0.43983\n",
      "Will train until validation_0-logloss hasn't improved in 100 rounds.\n",
      "[100]\tvalidation_0-logloss:0.01971\n",
      "Stopping. Best iteration:\n",
      "[21]\tvalidation_0-logloss:0.01548\n",
      "\n"
     ]
    },
    {
     "name": "stderr",
     "output_type": "stream",
     "text": [
      " 41%|████▏     | 85/206 [02:07<03:12,  1.59s/it]"
     ]
    },
    {
     "name": "stdout",
     "output_type": "stream",
     "text": [
      "[0]\tvalidation_0-logloss:0.43919\n",
      "Will train until validation_0-logloss hasn't improved in 100 rounds.\n",
      "[100]\tvalidation_0-logloss:0.01625\n",
      "Stopping. Best iteration:\n",
      "[19]\tvalidation_0-logloss:0.01178\n",
      "\n"
     ]
    },
    {
     "name": "stderr",
     "output_type": "stream",
     "text": [
      " 42%|████▏     | 86/206 [02:09<03:05,  1.55s/it]"
     ]
    },
    {
     "name": "stdout",
     "output_type": "stream",
     "text": [
      "[0]\tvalidation_0-logloss:0.43844\n",
      "Will train until validation_0-logloss hasn't improved in 100 rounds.\n",
      "[100]\tvalidation_0-logloss:0.00698\n",
      "Stopping. Best iteration:\n",
      "[23]\tvalidation_0-logloss:0.00592\n",
      "\n"
     ]
    },
    {
     "name": "stderr",
     "output_type": "stream",
     "text": [
      " 42%|████▏     | 87/206 [02:10<02:49,  1.43s/it]"
     ]
    },
    {
     "name": "stdout",
     "output_type": "stream",
     "text": [
      "[0]\tvalidation_0-logloss:0.43860\n",
      "Will train until validation_0-logloss hasn't improved in 100 rounds.\n",
      "[100]\tvalidation_0-logloss:0.00884\n",
      "Stopping. Best iteration:\n",
      "[25]\tvalidation_0-logloss:0.00733\n",
      "\n"
     ]
    },
    {
     "name": "stderr",
     "output_type": "stream",
     "text": [
      " 43%|████▎     | 88/206 [02:11<02:43,  1.38s/it]"
     ]
    },
    {
     "name": "stdout",
     "output_type": "stream",
     "text": [
      "[0]\tvalidation_0-logloss:0.43983\n",
      "Will train until validation_0-logloss hasn't improved in 100 rounds.\n",
      "[100]\tvalidation_0-logloss:0.01134\n",
      "Stopping. Best iteration:\n",
      "[22]\tvalidation_0-logloss:0.00991\n",
      "\n"
     ]
    },
    {
     "name": "stderr",
     "output_type": "stream",
     "text": [
      " 43%|████▎     | 89/206 [02:13<02:42,  1.39s/it]"
     ]
    },
    {
     "name": "stdout",
     "output_type": "stream",
     "text": [
      "[0]\tvalidation_0-logloss:0.44539\n",
      "Will train until validation_0-logloss hasn't improved in 100 rounds.\n",
      "[100]\tvalidation_0-logloss:0.03545\n",
      "Stopping. Best iteration:\n",
      "[20]\tvalidation_0-logloss:0.02905\n",
      "\n"
     ]
    },
    {
     "name": "stderr",
     "output_type": "stream",
     "text": [
      " 44%|████▎     | 90/206 [02:14<02:55,  1.51s/it]"
     ]
    },
    {
     "name": "stdout",
     "output_type": "stream",
     "text": [
      "[0]\tvalidation_0-logloss:0.43825\n",
      "Will train until validation_0-logloss hasn't improved in 100 rounds.\n",
      "[100]\tvalidation_0-logloss:0.00241\n",
      "Stopping. Best iteration:\n",
      "[39]\tvalidation_0-logloss:0.00229\n",
      "\n"
     ]
    },
    {
     "name": "stderr",
     "output_type": "stream",
     "text": [
      " 44%|████▍     | 91/206 [02:16<02:45,  1.44s/it]"
     ]
    },
    {
     "name": "stdout",
     "output_type": "stream",
     "text": [
      "[0]\tvalidation_0-logloss:0.43844\n",
      "Will train until validation_0-logloss hasn't improved in 100 rounds.\n",
      "[100]\tvalidation_0-logloss:0.00968\n",
      "Stopping. Best iteration:\n",
      "[22]\tvalidation_0-logloss:0.00768\n",
      "\n"
     ]
    },
    {
     "name": "stderr",
     "output_type": "stream",
     "text": [
      " 45%|████▍     | 92/206 [02:18<03:06,  1.64s/it]"
     ]
    },
    {
     "name": "stdout",
     "output_type": "stream",
     "text": [
      "[0]\tvalidation_0-logloss:0.43856\n",
      "Will train until validation_0-logloss hasn't improved in 100 rounds.\n",
      "[100]\tvalidation_0-logloss:0.00860\n",
      "Stopping. Best iteration:\n",
      "[25]\tvalidation_0-logloss:0.00702\n",
      "\n"
     ]
    },
    {
     "name": "stderr",
     "output_type": "stream",
     "text": [
      " 45%|████▌     | 93/206 [02:19<03:03,  1.62s/it]"
     ]
    },
    {
     "name": "stdout",
     "output_type": "stream",
     "text": [
      "[0]\tvalidation_0-logloss:0.44244\n",
      "Will train until validation_0-logloss hasn't improved in 100 rounds.\n",
      "[100]\tvalidation_0-logloss:0.04379\n",
      "Stopping. Best iteration:\n",
      "[19]\tvalidation_0-logloss:0.02971\n",
      "\n"
     ]
    },
    {
     "name": "stderr",
     "output_type": "stream",
     "text": [
      " 46%|████▌     | 94/206 [02:21<03:13,  1.72s/it]"
     ]
    },
    {
     "name": "stdout",
     "output_type": "stream",
     "text": [
      "[0]\tvalidation_0-logloss:0.44512\n",
      "Will train until validation_0-logloss hasn't improved in 100 rounds.\n",
      "[100]\tvalidation_0-logloss:0.06362\n",
      "Stopping. Best iteration:\n",
      "[17]\tvalidation_0-logloss:0.04346\n",
      "\n"
     ]
    },
    {
     "name": "stderr",
     "output_type": "stream",
     "text": [
      " 46%|████▌     | 95/206 [02:23<03:15,  1.77s/it]"
     ]
    },
    {
     "name": "stdout",
     "output_type": "stream",
     "text": [
      "[0]\tvalidation_0-logloss:0.44014\n",
      "Will train until validation_0-logloss hasn't improved in 100 rounds.\n",
      "[100]\tvalidation_0-logloss:0.01409\n",
      "Stopping. Best iteration:\n",
      "[21]\tvalidation_0-logloss:0.01109\n",
      "\n"
     ]
    },
    {
     "name": "stderr",
     "output_type": "stream",
     "text": [
      " 47%|████▋     | 96/206 [02:25<03:03,  1.67s/it]"
     ]
    },
    {
     "name": "stdout",
     "output_type": "stream",
     "text": [
      "[0]\tvalidation_0-logloss:0.44202\n",
      "Will train until validation_0-logloss hasn't improved in 100 rounds.\n",
      "[100]\tvalidation_0-logloss:0.02001\n",
      "Stopping. Best iteration:\n",
      "[25]\tvalidation_0-logloss:0.01541\n",
      "\n"
     ]
    },
    {
     "name": "stderr",
     "output_type": "stream",
     "text": [
      " 47%|████▋     | 97/206 [02:26<03:00,  1.66s/it]"
     ]
    },
    {
     "name": "stdout",
     "output_type": "stream",
     "text": [
      "[0]\tvalidation_0-logloss:0.43816\n",
      "Will train until validation_0-logloss hasn't improved in 100 rounds.\n",
      "[100]\tvalidation_0-logloss:0.00620\n",
      "Stopping. Best iteration:\n",
      "[25]\tvalidation_0-logloss:0.00531\n",
      "\n"
     ]
    },
    {
     "name": "stderr",
     "output_type": "stream",
     "text": [
      " 48%|████▊     | 98/206 [02:27<02:46,  1.54s/it]"
     ]
    },
    {
     "name": "stdout",
     "output_type": "stream",
     "text": [
      "[0]\tvalidation_0-logloss:0.44088\n",
      "Will train until validation_0-logloss hasn't improved in 100 rounds.\n",
      "[100]\tvalidation_0-logloss:0.03131\n",
      "Stopping. Best iteration:\n",
      "[20]\tvalidation_0-logloss:0.02226\n",
      "\n"
     ]
    },
    {
     "name": "stderr",
     "output_type": "stream",
     "text": [
      " 48%|████▊     | 99/206 [02:29<02:45,  1.55s/it]"
     ]
    },
    {
     "name": "stdout",
     "output_type": "stream",
     "text": [
      "[0]\tvalidation_0-logloss:0.45456\n",
      "Will train until validation_0-logloss hasn't improved in 100 rounds.\n",
      "[100]\tvalidation_0-logloss:0.12980\n",
      "Stopping. Best iteration:\n",
      "[17]\tvalidation_0-logloss:0.08330\n",
      "\n"
     ]
    },
    {
     "name": "stderr",
     "output_type": "stream",
     "text": [
      " 49%|████▊     | 100/206 [02:31<03:07,  1.77s/it]"
     ]
    },
    {
     "name": "stdout",
     "output_type": "stream",
     "text": [
      "[0]\tvalidation_0-logloss:0.43828\n",
      "Will train until validation_0-logloss hasn't improved in 100 rounds.\n",
      "[100]\tvalidation_0-logloss:0.00605\n",
      "Stopping. Best iteration:\n",
      "[22]\tvalidation_0-logloss:0.00519\n",
      "\n"
     ]
    },
    {
     "name": "stderr",
     "output_type": "stream",
     "text": [
      " 49%|████▉     | 101/206 [02:32<02:48,  1.60s/it]"
     ]
    },
    {
     "name": "stdout",
     "output_type": "stream",
     "text": [
      "[0]\tvalidation_0-logloss:0.44002\n",
      "Will train until validation_0-logloss hasn't improved in 100 rounds.\n",
      "[100]\tvalidation_0-logloss:0.01454\n",
      "Stopping. Best iteration:\n",
      "[28]\tvalidation_0-logloss:0.01240\n",
      "\n"
     ]
    },
    {
     "name": "stderr",
     "output_type": "stream",
     "text": [
      " 50%|████▉     | 102/206 [02:34<02:42,  1.56s/it]"
     ]
    },
    {
     "name": "stdout",
     "output_type": "stream",
     "text": [
      "[0]\tvalidation_0-logloss:0.44084\n",
      "Will train until validation_0-logloss hasn't improved in 100 rounds.\n",
      "[100]\tvalidation_0-logloss:0.02792\n",
      "Stopping. Best iteration:\n",
      "[17]\tvalidation_0-logloss:0.02100\n",
      "\n"
     ]
    },
    {
     "name": "stderr",
     "output_type": "stream",
     "text": [
      " 50%|█████     | 103/206 [02:35<02:40,  1.56s/it]"
     ]
    },
    {
     "name": "stdout",
     "output_type": "stream",
     "text": [
      "[0]\tvalidation_0-logloss:0.44034\n",
      "Will train until validation_0-logloss hasn't improved in 100 rounds.\n",
      "[100]\tvalidation_0-logloss:0.02102\n",
      "Stopping. Best iteration:\n",
      "[20]\tvalidation_0-logloss:0.01593\n",
      "\n"
     ]
    },
    {
     "name": "stderr",
     "output_type": "stream",
     "text": [
      " 50%|█████     | 104/206 [02:37<02:35,  1.53s/it]"
     ]
    },
    {
     "name": "stdout",
     "output_type": "stream",
     "text": [
      "[0]\tvalidation_0-logloss:0.44038\n",
      "Will train until validation_0-logloss hasn't improved in 100 rounds.\n",
      "[100]\tvalidation_0-logloss:0.02770\n",
      "Stopping. Best iteration:\n",
      "[21]\tvalidation_0-logloss:0.02024\n",
      "\n"
     ]
    },
    {
     "name": "stderr",
     "output_type": "stream",
     "text": [
      " 51%|█████     | 105/206 [02:39<02:38,  1.57s/it]"
     ]
    },
    {
     "name": "stdout",
     "output_type": "stream",
     "text": [
      "[0]\tvalidation_0-logloss:0.44859\n",
      "Will train until validation_0-logloss hasn't improved in 100 rounds.\n",
      "[100]\tvalidation_0-logloss:0.09267\n",
      "Stopping. Best iteration:\n",
      "[15]\tvalidation_0-logloss:0.06077\n",
      "\n"
     ]
    },
    {
     "name": "stderr",
     "output_type": "stream",
     "text": [
      " 51%|█████▏    | 106/206 [02:41<02:54,  1.75s/it]"
     ]
    },
    {
     "name": "stdout",
     "output_type": "stream",
     "text": [
      "[0]\tvalidation_0-logloss:0.43875\n",
      "Will train until validation_0-logloss hasn't improved in 100 rounds.\n",
      "[100]\tvalidation_0-logloss:0.01071\n",
      "Stopping. Best iteration:\n",
      "[23]\tvalidation_0-logloss:0.00879\n",
      "\n"
     ]
    },
    {
     "name": "stderr",
     "output_type": "stream",
     "text": [
      " 52%|█████▏    | 107/206 [02:42<02:37,  1.59s/it]"
     ]
    },
    {
     "name": "stdout",
     "output_type": "stream",
     "text": [
      "[0]\tvalidation_0-logloss:0.43910\n",
      "Will train until validation_0-logloss hasn't improved in 100 rounds.\n",
      "[100]\tvalidation_0-logloss:0.01318\n",
      "Stopping. Best iteration:\n",
      "[21]\tvalidation_0-logloss:0.01121\n",
      "\n"
     ]
    },
    {
     "name": "stderr",
     "output_type": "stream",
     "text": [
      " 52%|█████▏    | 108/206 [02:43<02:27,  1.51s/it]"
     ]
    },
    {
     "name": "stdout",
     "output_type": "stream",
     "text": [
      "[0]\tvalidation_0-logloss:0.44100\n",
      "Will train until validation_0-logloss hasn't improved in 100 rounds.\n",
      "[100]\tvalidation_0-logloss:0.03328\n",
      "Stopping. Best iteration:\n",
      "[19]\tvalidation_0-logloss:0.02375\n",
      "\n"
     ]
    },
    {
     "name": "stderr",
     "output_type": "stream",
     "text": [
      " 53%|█████▎    | 109/206 [02:45<02:27,  1.53s/it]"
     ]
    },
    {
     "name": "stdout",
     "output_type": "stream",
     "text": [
      "[0]\tvalidation_0-logloss:0.44360\n",
      "Will train until validation_0-logloss hasn't improved in 100 rounds.\n",
      "[100]\tvalidation_0-logloss:0.01737\n",
      "Stopping. Best iteration:\n",
      "[29]\tvalidation_0-logloss:0.01642\n",
      "\n"
     ]
    },
    {
     "name": "stderr",
     "output_type": "stream",
     "text": [
      " 53%|█████▎    | 110/206 [02:47<02:28,  1.55s/it]"
     ]
    },
    {
     "name": "stdout",
     "output_type": "stream",
     "text": [
      "[0]\tvalidation_0-logloss:0.43871\n",
      "Will train until validation_0-logloss hasn't improved in 100 rounds.\n",
      "[100]\tvalidation_0-logloss:0.00612\n",
      "Stopping. Best iteration:\n",
      "[25]\tvalidation_0-logloss:0.00514\n",
      "\n"
     ]
    },
    {
     "name": "stderr",
     "output_type": "stream",
     "text": [
      " 54%|█████▍    | 111/206 [02:48<02:20,  1.48s/it]"
     ]
    },
    {
     "name": "stdout",
     "output_type": "stream",
     "text": [
      "[0]\tvalidation_0-logloss:0.43938\n",
      "Will train until validation_0-logloss hasn't improved in 100 rounds.\n",
      "[100]\tvalidation_0-logloss:0.01550\n",
      "Stopping. Best iteration:\n",
      "[18]\tvalidation_0-logloss:0.01311\n",
      "\n"
     ]
    },
    {
     "name": "stderr",
     "output_type": "stream",
     "text": [
      " 54%|█████▍    | 112/206 [02:49<02:18,  1.48s/it]"
     ]
    },
    {
     "name": "stdout",
     "output_type": "stream",
     "text": [
      "[0]\tvalidation_0-logloss:0.43888\n",
      "Will train until validation_0-logloss hasn't improved in 100 rounds.\n",
      "[100]\tvalidation_0-logloss:0.00482\n",
      "Stopping. Best iteration:\n",
      "[80]\tvalidation_0-logloss:0.00472\n",
      "\n"
     ]
    },
    {
     "name": "stderr",
     "output_type": "stream",
     "text": [
      " 55%|█████▍    | 113/206 [02:51<02:20,  1.51s/it]"
     ]
    },
    {
     "name": "stdout",
     "output_type": "stream",
     "text": [
      "[0]\tvalidation_0-logloss:0.43907\n",
      "Will train until validation_0-logloss hasn't improved in 100 rounds.\n",
      "[100]\tvalidation_0-logloss:0.01629\n",
      "Stopping. Best iteration:\n",
      "[21]\tvalidation_0-logloss:0.01207\n",
      "\n"
     ]
    },
    {
     "name": "stderr",
     "output_type": "stream",
     "text": [
      " 55%|█████▌    | 114/206 [02:52<02:19,  1.52s/it]"
     ]
    },
    {
     "name": "stdout",
     "output_type": "stream",
     "text": [
      "[0]\tvalidation_0-logloss:0.44126\n",
      "Will train until validation_0-logloss hasn't improved in 100 rounds.\n",
      "[100]\tvalidation_0-logloss:0.03315\n",
      "Stopping. Best iteration:\n",
      "[18]\tvalidation_0-logloss:0.02273\n",
      "\n"
     ]
    },
    {
     "name": "stderr",
     "output_type": "stream",
     "text": [
      " 56%|█████▌    | 115/206 [02:54<02:22,  1.57s/it]"
     ]
    },
    {
     "name": "stdout",
     "output_type": "stream",
     "text": [
      "[0]\tvalidation_0-logloss:0.43886\n",
      "Will train until validation_0-logloss hasn't improved in 100 rounds.\n",
      "[100]\tvalidation_0-logloss:0.01309\n",
      "Stopping. Best iteration:\n",
      "[21]\tvalidation_0-logloss:0.00982\n",
      "\n"
     ]
    },
    {
     "name": "stderr",
     "output_type": "stream",
     "text": [
      " 56%|█████▋    | 116/206 [02:55<02:14,  1.50s/it]"
     ]
    },
    {
     "name": "stdout",
     "output_type": "stream",
     "text": [
      "[0]\tvalidation_0-logloss:0.43984\n",
      "Will train until validation_0-logloss hasn't improved in 100 rounds.\n",
      "[100]\tvalidation_0-logloss:0.01625\n",
      "Stopping. Best iteration:\n",
      "[21]\tvalidation_0-logloss:0.01367\n",
      "\n"
     ]
    },
    {
     "name": "stderr",
     "output_type": "stream",
     "text": [
      " 57%|█████▋    | 117/206 [02:57<02:12,  1.49s/it]"
     ]
    },
    {
     "name": "stdout",
     "output_type": "stream",
     "text": [
      "[0]\tvalidation_0-logloss:0.43949\n",
      "Will train until validation_0-logloss hasn't improved in 100 rounds.\n",
      "[100]\tvalidation_0-logloss:0.01883\n",
      "Stopping. Best iteration:\n",
      "[20]\tvalidation_0-logloss:0.01431\n",
      "\n"
     ]
    },
    {
     "name": "stderr",
     "output_type": "stream",
     "text": [
      " 57%|█████▋    | 118/206 [02:58<02:09,  1.47s/it]"
     ]
    },
    {
     "name": "stdout",
     "output_type": "stream",
     "text": [
      "[0]\tvalidation_0-logloss:0.44152\n",
      "Will train until validation_0-logloss hasn't improved in 100 rounds.\n",
      "[100]\tvalidation_0-logloss:0.01038\n",
      "Stopping. Best iteration:\n",
      "[45]\tvalidation_0-logloss:0.01034\n",
      "\n"
     ]
    },
    {
     "name": "stderr",
     "output_type": "stream",
     "text": [
      " 58%|█████▊    | 119/206 [03:00<02:14,  1.55s/it]"
     ]
    },
    {
     "name": "stdout",
     "output_type": "stream",
     "text": [
      "[0]\tvalidation_0-logloss:0.44440\n",
      "Will train until validation_0-logloss hasn't improved in 100 rounds.\n",
      "[100]\tvalidation_0-logloss:0.02103\n",
      "Stopping. Best iteration:\n",
      "[21]\tvalidation_0-logloss:0.01947\n",
      "\n"
     ]
    },
    {
     "name": "stderr",
     "output_type": "stream",
     "text": [
      " 58%|█████▊    | 120/206 [03:02<02:17,  1.60s/it]"
     ]
    },
    {
     "name": "stdout",
     "output_type": "stream",
     "text": [
      "[0]\tvalidation_0-logloss:0.43784\n",
      "Will train until validation_0-logloss hasn't improved in 100 rounds.\n",
      "[100]\tvalidation_0-logloss:0.00292\n",
      "Stopping. Best iteration:\n",
      "[30]\tvalidation_0-logloss:0.00274\n",
      "\n"
     ]
    },
    {
     "name": "stderr",
     "output_type": "stream",
     "text": [
      " 59%|█████▊    | 121/206 [03:03<02:03,  1.45s/it]"
     ]
    },
    {
     "name": "stdout",
     "output_type": "stream",
     "text": [
      "[0]\tvalidation_0-logloss:0.43767\n",
      "Will train until validation_0-logloss hasn't improved in 100 rounds.\n",
      "[100]\tvalidation_0-logloss:0.00006\n",
      "Stopping. Best iteration:\n",
      "[55]\tvalidation_0-logloss:0.00006\n",
      "\n"
     ]
    },
    {
     "name": "stderr",
     "output_type": "stream",
     "text": [
      " 59%|█████▉    | 122/206 [03:04<01:54,  1.37s/it]"
     ]
    },
    {
     "name": "stdout",
     "output_type": "stream",
     "text": [
      "[0]\tvalidation_0-logloss:0.44044\n",
      "Will train until validation_0-logloss hasn't improved in 100 rounds.\n",
      "[100]\tvalidation_0-logloss:0.02875\n",
      "Stopping. Best iteration:\n",
      "[18]\tvalidation_0-logloss:0.02029\n",
      "\n"
     ]
    },
    {
     "name": "stderr",
     "output_type": "stream",
     "text": [
      " 60%|█████▉    | 123/206 [03:06<01:56,  1.41s/it]"
     ]
    },
    {
     "name": "stdout",
     "output_type": "stream",
     "text": [
      "[0]\tvalidation_0-logloss:0.43814\n",
      "Will train until validation_0-logloss hasn't improved in 100 rounds.\n",
      "[100]\tvalidation_0-logloss:0.00760\n",
      "Stopping. Best iteration:\n",
      "[22]\tvalidation_0-logloss:0.00569\n",
      "\n"
     ]
    },
    {
     "name": "stderr",
     "output_type": "stream",
     "text": [
      " 60%|██████    | 124/206 [03:07<01:49,  1.33s/it]"
     ]
    },
    {
     "name": "stdout",
     "output_type": "stream",
     "text": [
      "[0]\tvalidation_0-logloss:0.44025\n",
      "Will train until validation_0-logloss hasn't improved in 100 rounds.\n",
      "[100]\tvalidation_0-logloss:0.02350\n",
      "Stopping. Best iteration:\n",
      "[19]\tvalidation_0-logloss:0.01748\n",
      "\n"
     ]
    },
    {
     "name": "stderr",
     "output_type": "stream",
     "text": [
      " 61%|██████    | 125/206 [03:08<01:52,  1.39s/it]"
     ]
    },
    {
     "name": "stdout",
     "output_type": "stream",
     "text": [
      "[0]\tvalidation_0-logloss:0.43784\n",
      "Will train until validation_0-logloss hasn't improved in 100 rounds.\n",
      "[100]\tvalidation_0-logloss:0.00324\n",
      "Stopping. Best iteration:\n",
      "[24]\tvalidation_0-logloss:0.00286\n",
      "\n"
     ]
    },
    {
     "name": "stderr",
     "output_type": "stream",
     "text": [
      " 61%|██████    | 126/206 [03:09<01:43,  1.29s/it]"
     ]
    },
    {
     "name": "stdout",
     "output_type": "stream",
     "text": [
      "[0]\tvalidation_0-logloss:0.43854\n",
      "Will train until validation_0-logloss hasn't improved in 100 rounds.\n",
      "[100]\tvalidation_0-logloss:0.00399\n",
      "Stopping. Best iteration:\n",
      "[66]\tvalidation_0-logloss:0.00398\n",
      "\n"
     ]
    },
    {
     "name": "stderr",
     "output_type": "stream",
     "text": [
      " 62%|██████▏   | 127/206 [03:11<01:46,  1.35s/it]"
     ]
    },
    {
     "name": "stdout",
     "output_type": "stream",
     "text": [
      "[0]\tvalidation_0-logloss:0.43973\n",
      "Will train until validation_0-logloss hasn't improved in 100 rounds.\n",
      "[100]\tvalidation_0-logloss:0.01619\n",
      "Stopping. Best iteration:\n",
      "[20]\tvalidation_0-logloss:0.01292\n",
      "\n"
     ]
    },
    {
     "name": "stderr",
     "output_type": "stream",
     "text": [
      " 62%|██████▏   | 128/206 [03:12<01:46,  1.37s/it]"
     ]
    },
    {
     "name": "stdout",
     "output_type": "stream",
     "text": [
      "[0]\tvalidation_0-logloss:0.44082\n",
      "Will train until validation_0-logloss hasn't improved in 100 rounds.\n",
      "[100]\tvalidation_0-logloss:0.02831\n",
      "Stopping. Best iteration:\n",
      "[19]\tvalidation_0-logloss:0.02078\n",
      "\n"
     ]
    },
    {
     "name": "stderr",
     "output_type": "stream",
     "text": [
      " 63%|██████▎   | 129/206 [03:14<01:49,  1.43s/it]"
     ]
    },
    {
     "name": "stdout",
     "output_type": "stream",
     "text": [
      "[0]\tvalidation_0-logloss:0.43860\n",
      "Will train until validation_0-logloss hasn't improved in 100 rounds.\n",
      "[100]\tvalidation_0-logloss:0.00936\n",
      "Stopping. Best iteration:\n",
      "[21]\tvalidation_0-logloss:0.00747\n",
      "\n"
     ]
    },
    {
     "name": "stderr",
     "output_type": "stream",
     "text": [
      " 63%|██████▎   | 130/206 [03:15<01:44,  1.38s/it]"
     ]
    },
    {
     "name": "stdout",
     "output_type": "stream",
     "text": [
      "[0]\tvalidation_0-logloss:0.43814\n",
      "Will train until validation_0-logloss hasn't improved in 100 rounds.\n",
      "[100]\tvalidation_0-logloss:0.00647\n",
      "Stopping. Best iteration:\n",
      "[25]\tvalidation_0-logloss:0.00514\n",
      "\n"
     ]
    },
    {
     "name": "stderr",
     "output_type": "stream",
     "text": [
      " 64%|██████▎   | 131/206 [03:16<01:38,  1.31s/it]"
     ]
    },
    {
     "name": "stdout",
     "output_type": "stream",
     "text": [
      "[0]\tvalidation_0-logloss:0.44146\n",
      "Will train until validation_0-logloss hasn't improved in 100 rounds.\n",
      "[100]\tvalidation_0-logloss:0.03778\n",
      "Stopping. Best iteration:\n",
      "[17]\tvalidation_0-logloss:0.02524\n",
      "\n"
     ]
    },
    {
     "name": "stderr",
     "output_type": "stream",
     "text": [
      " 64%|██████▍   | 132/206 [03:18<01:45,  1.43s/it]"
     ]
    },
    {
     "name": "stdout",
     "output_type": "stream",
     "text": [
      "[0]\tvalidation_0-logloss:0.43828\n",
      "Will train until validation_0-logloss hasn't improved in 100 rounds.\n",
      "[100]\tvalidation_0-logloss:0.00543\n",
      "Stopping. Best iteration:\n",
      "[27]\tvalidation_0-logloss:0.00519\n",
      "\n"
     ]
    },
    {
     "name": "stderr",
     "output_type": "stream",
     "text": [
      " 65%|██████▍   | 133/206 [03:19<01:40,  1.37s/it]"
     ]
    },
    {
     "name": "stdout",
     "output_type": "stream",
     "text": [
      "[0]\tvalidation_0-logloss:0.44184\n",
      "Will train until validation_0-logloss hasn't improved in 100 rounds.\n",
      "[100]\tvalidation_0-logloss:0.02195\n",
      "Stopping. Best iteration:\n",
      "[19]\tvalidation_0-logloss:0.01837\n",
      "\n"
     ]
    },
    {
     "name": "stderr",
     "output_type": "stream",
     "text": [
      " 65%|██████▌   | 134/206 [03:21<01:43,  1.44s/it]"
     ]
    },
    {
     "name": "stdout",
     "output_type": "stream",
     "text": [
      "[0]\tvalidation_0-logloss:0.43979\n",
      "Will train until validation_0-logloss hasn't improved in 100 rounds.\n",
      "[100]\tvalidation_0-logloss:0.02143\n",
      "Stopping. Best iteration:\n",
      "[18]\tvalidation_0-logloss:0.01583\n",
      "\n"
     ]
    },
    {
     "name": "stderr",
     "output_type": "stream",
     "text": [
      " 66%|██████▌   | 135/206 [03:22<01:42,  1.44s/it]"
     ]
    },
    {
     "name": "stdout",
     "output_type": "stream",
     "text": [
      "[0]\tvalidation_0-logloss:0.43921\n",
      "Will train until validation_0-logloss hasn't improved in 100 rounds.\n",
      "[100]\tvalidation_0-logloss:0.01575\n",
      "Stopping. Best iteration:\n",
      "[19]\tvalidation_0-logloss:0.01139\n",
      "\n"
     ]
    },
    {
     "name": "stderr",
     "output_type": "stream",
     "text": [
      " 66%|██████▌   | 136/206 [03:24<01:41,  1.45s/it]"
     ]
    },
    {
     "name": "stdout",
     "output_type": "stream",
     "text": [
      "[0]\tvalidation_0-logloss:0.44353\n",
      "Will train until validation_0-logloss hasn't improved in 100 rounds.\n",
      "[100]\tvalidation_0-logloss:0.04712\n",
      "Stopping. Best iteration:\n",
      "[16]\tvalidation_0-logloss:0.03235\n",
      "\n"
     ]
    },
    {
     "name": "stderr",
     "output_type": "stream",
     "text": [
      " 67%|██████▋   | 137/206 [03:26<01:50,  1.60s/it]"
     ]
    },
    {
     "name": "stdout",
     "output_type": "stream",
     "text": [
      "[0]\tvalidation_0-logloss:0.43784\n",
      "Will train until validation_0-logloss hasn't improved in 100 rounds.\n",
      "[100]\tvalidation_0-logloss:0.00245\n",
      "Stopping. Best iteration:\n",
      "[27]\tvalidation_0-logloss:0.00242\n",
      "\n"
     ]
    },
    {
     "name": "stderr",
     "output_type": "stream",
     "text": [
      " 67%|██████▋   | 138/206 [03:27<01:42,  1.51s/it]"
     ]
    },
    {
     "name": "stdout",
     "output_type": "stream",
     "text": [
      "[0]\tvalidation_0-logloss:0.43879\n",
      "Will train until validation_0-logloss hasn't improved in 100 rounds.\n",
      "[100]\tvalidation_0-logloss:0.01420\n",
      "Stopping. Best iteration:\n",
      "[21]\tvalidation_0-logloss:0.01013\n",
      "\n"
     ]
    },
    {
     "name": "stderr",
     "output_type": "stream",
     "text": [
      " 67%|██████▋   | 139/206 [03:28<01:39,  1.49s/it]"
     ]
    },
    {
     "name": "stdout",
     "output_type": "stream",
     "text": [
      "[0]\tvalidation_0-logloss:0.43814\n",
      "Will train until validation_0-logloss hasn't improved in 100 rounds.\n",
      "[100]\tvalidation_0-logloss:0.00551\n",
      "Stopping. Best iteration:\n",
      "[24]\tvalidation_0-logloss:0.00448\n",
      "\n"
     ]
    },
    {
     "name": "stderr",
     "output_type": "stream",
     "text": [
      " 68%|██████▊   | 140/206 [03:29<01:31,  1.39s/it]"
     ]
    },
    {
     "name": "stdout",
     "output_type": "stream",
     "text": [
      "[0]\tvalidation_0-logloss:0.43860\n",
      "Will train until validation_0-logloss hasn't improved in 100 rounds.\n",
      "[100]\tvalidation_0-logloss:0.00948\n",
      "Stopping. Best iteration:\n",
      "[22]\tvalidation_0-logloss:0.00787\n",
      "\n"
     ]
    },
    {
     "name": "stderr",
     "output_type": "stream",
     "text": [
      " 68%|██████▊   | 141/206 [03:31<01:28,  1.36s/it]"
     ]
    },
    {
     "name": "stdout",
     "output_type": "stream",
     "text": [
      "[0]\tvalidation_0-logloss:0.43786\n",
      "Will train until validation_0-logloss hasn't improved in 100 rounds.\n",
      "[100]\tvalidation_0-logloss:0.00369\n",
      "Stopping. Best iteration:\n",
      "[25]\tvalidation_0-logloss:0.00304\n",
      "\n"
     ]
    },
    {
     "name": "stderr",
     "output_type": "stream",
     "text": [
      " 69%|██████▉   | 142/206 [03:32<01:21,  1.28s/it]"
     ]
    },
    {
     "name": "stdout",
     "output_type": "stream",
     "text": [
      "[0]\tvalidation_0-logloss:0.43825\n",
      "Will train until validation_0-logloss hasn't improved in 100 rounds.\n",
      "[100]\tvalidation_0-logloss:0.00556\n",
      "Stopping. Best iteration:\n",
      "[23]\tvalidation_0-logloss:0.00473\n",
      "\n"
     ]
    },
    {
     "name": "stderr",
     "output_type": "stream",
     "text": [
      " 69%|██████▉   | 143/206 [03:33<01:20,  1.27s/it]"
     ]
    },
    {
     "name": "stdout",
     "output_type": "stream",
     "text": [
      "[0]\tvalidation_0-logloss:0.44042\n",
      "Will train until validation_0-logloss hasn't improved in 100 rounds.\n",
      "[100]\tvalidation_0-logloss:0.02821\n",
      "Stopping. Best iteration:\n",
      "[20]\tvalidation_0-logloss:0.01936\n",
      "\n"
     ]
    },
    {
     "name": "stderr",
     "output_type": "stream",
     "text": [
      " 70%|██████▉   | 144/206 [03:35<01:23,  1.35s/it]"
     ]
    },
    {
     "name": "stdout",
     "output_type": "stream",
     "text": [
      "[0]\tvalidation_0-logloss:0.44202\n",
      "Will train until validation_0-logloss hasn't improved in 100 rounds.\n",
      "[100]\tvalidation_0-logloss:0.04256\n",
      "Stopping. Best iteration:\n",
      "[16]\tvalidation_0-logloss:0.02897\n",
      "\n"
     ]
    },
    {
     "name": "stderr",
     "output_type": "stream",
     "text": [
      " 70%|███████   | 145/206 [03:36<01:27,  1.44s/it]"
     ]
    },
    {
     "name": "stdout",
     "output_type": "stream",
     "text": [
      "[0]\tvalidation_0-logloss:0.43938\n",
      "Will train until validation_0-logloss hasn't improved in 100 rounds.\n",
      "[100]\tvalidation_0-logloss:0.01848\n",
      "Stopping. Best iteration:\n",
      "[19]\tvalidation_0-logloss:0.01342\n",
      "\n"
     ]
    },
    {
     "name": "stderr",
     "output_type": "stream",
     "text": [
      " 71%|███████   | 146/206 [03:38<01:24,  1.41s/it]"
     ]
    },
    {
     "name": "stdout",
     "output_type": "stream",
     "text": [
      "[0]\tvalidation_0-logloss:0.44029\n",
      "Will train until validation_0-logloss hasn't improved in 100 rounds.\n",
      "[100]\tvalidation_0-logloss:0.01408\n",
      "Stopping. Best iteration:\n",
      "[28]\tvalidation_0-logloss:0.01283\n",
      "\n"
     ]
    },
    {
     "name": "stderr",
     "output_type": "stream",
     "text": [
      " 71%|███████▏  | 147/206 [03:39<01:24,  1.43s/it]"
     ]
    },
    {
     "name": "stdout",
     "output_type": "stream",
     "text": [
      "[0]\tvalidation_0-logloss:0.43875\n",
      "Will train until validation_0-logloss hasn't improved in 100 rounds.\n",
      "[100]\tvalidation_0-logloss:0.01334\n",
      "Stopping. Best iteration:\n",
      "[21]\tvalidation_0-logloss:0.01008\n",
      "\n"
     ]
    },
    {
     "name": "stderr",
     "output_type": "stream",
     "text": [
      " 72%|███████▏  | 148/206 [03:40<01:19,  1.38s/it]"
     ]
    },
    {
     "name": "stdout",
     "output_type": "stream",
     "text": [
      "[0]\tvalidation_0-logloss:0.44025\n",
      "Will train until validation_0-logloss hasn't improved in 100 rounds.\n",
      "[100]\tvalidation_0-logloss:0.02331\n",
      "Stopping. Best iteration:\n",
      "[18]\tvalidation_0-logloss:0.01761\n",
      "\n"
     ]
    },
    {
     "name": "stderr",
     "output_type": "stream",
     "text": [
      " 72%|███████▏  | 149/206 [03:42<01:21,  1.43s/it]"
     ]
    },
    {
     "name": "stdout",
     "output_type": "stream",
     "text": [
      "[0]\tvalidation_0-logloss:0.44481\n",
      "Will train until validation_0-logloss hasn't improved in 100 rounds.\n",
      "[100]\tvalidation_0-logloss:0.02145\n",
      "Stopping. Best iteration:\n",
      "[23]\tvalidation_0-logloss:0.01832\n",
      "\n"
     ]
    },
    {
     "name": "stderr",
     "output_type": "stream",
     "text": [
      " 73%|███████▎  | 150/206 [03:44<01:26,  1.55s/it]"
     ]
    },
    {
     "name": "stdout",
     "output_type": "stream",
     "text": [
      "[0]\tvalidation_0-logloss:0.43844\n",
      "Will train until validation_0-logloss hasn't improved in 100 rounds.\n",
      "[100]\tvalidation_0-logloss:0.00951\n",
      "Stopping. Best iteration:\n",
      "[22]\tvalidation_0-logloss:0.00750\n",
      "\n"
     ]
    },
    {
     "name": "stderr",
     "output_type": "stream",
     "text": [
      " 73%|███████▎  | 151/206 [03:45<01:20,  1.47s/it]"
     ]
    },
    {
     "name": "stdout",
     "output_type": "stream",
     "text": [
      "[0]\tvalidation_0-logloss:0.44976\n",
      "Will train until validation_0-logloss hasn't improved in 100 rounds.\n",
      "[100]\tvalidation_0-logloss:0.09635\n",
      "Stopping. Best iteration:\n",
      "[15]\tvalidation_0-logloss:0.06382\n",
      "\n"
     ]
    },
    {
     "name": "stderr",
     "output_type": "stream",
     "text": [
      " 74%|███████▍  | 152/206 [03:47<01:29,  1.65s/it]"
     ]
    },
    {
     "name": "stdout",
     "output_type": "stream",
     "text": [
      "[0]\tvalidation_0-logloss:0.43877\n",
      "Will train until validation_0-logloss hasn't improved in 100 rounds.\n",
      "[100]\tvalidation_0-logloss:0.01262\n",
      "Stopping. Best iteration:\n",
      "[20]\tvalidation_0-logloss:0.00973\n",
      "\n"
     ]
    },
    {
     "name": "stderr",
     "output_type": "stream",
     "text": [
      " 74%|███████▍  | 153/206 [03:48<01:21,  1.53s/it]"
     ]
    },
    {
     "name": "stdout",
     "output_type": "stream",
     "text": [
      "[0]\tvalidation_0-logloss:0.44386\n",
      "Will train until validation_0-logloss hasn't improved in 100 rounds.\n",
      "[100]\tvalidation_0-logloss:0.03599\n",
      "Stopping. Best iteration:\n",
      "[21]\tvalidation_0-logloss:0.02853\n",
      "\n"
     ]
    },
    {
     "name": "stderr",
     "output_type": "stream",
     "text": [
      " 75%|███████▍  | 154/206 [03:50<01:23,  1.61s/it]"
     ]
    },
    {
     "name": "stdout",
     "output_type": "stream",
     "text": [
      "[0]\tvalidation_0-logloss:0.43907\n",
      "Will train until validation_0-logloss hasn't improved in 100 rounds.\n",
      "[100]\tvalidation_0-logloss:0.01522\n",
      "Stopping. Best iteration:\n",
      "[21]\tvalidation_0-logloss:0.01211\n",
      "\n"
     ]
    },
    {
     "name": "stderr",
     "output_type": "stream",
     "text": [
      " 75%|███████▌  | 155/206 [03:51<01:17,  1.51s/it]"
     ]
    },
    {
     "name": "stdout",
     "output_type": "stream",
     "text": [
      "[0]\tvalidation_0-logloss:0.44012\n",
      "Will train until validation_0-logloss hasn't improved in 100 rounds.\n",
      "[100]\tvalidation_0-logloss:0.02422\n",
      "Stopping. Best iteration:\n",
      "[19]\tvalidation_0-logloss:0.01800\n",
      "\n"
     ]
    },
    {
     "name": "stderr",
     "output_type": "stream",
     "text": [
      " 76%|███████▌  | 156/206 [03:53<01:15,  1.50s/it]"
     ]
    },
    {
     "name": "stdout",
     "output_type": "stream",
     "text": [
      "[0]\tvalidation_0-logloss:0.44209\n",
      "Will train until validation_0-logloss hasn't improved in 100 rounds.\n",
      "[100]\tvalidation_0-logloss:0.04154\n",
      "Stopping. Best iteration:\n",
      "[18]\tvalidation_0-logloss:0.02918\n",
      "\n"
     ]
    },
    {
     "name": "stderr",
     "output_type": "stream",
     "text": [
      " 76%|███████▌  | 157/206 [03:55<01:15,  1.54s/it]"
     ]
    },
    {
     "name": "stdout",
     "output_type": "stream",
     "text": [
      "[0]\tvalidation_0-logloss:0.44240\n",
      "Will train until validation_0-logloss hasn't improved in 100 rounds.\n",
      "[100]\tvalidation_0-logloss:0.03589\n",
      "Stopping. Best iteration:\n",
      "[16]\tvalidation_0-logloss:0.02701\n",
      "\n"
     ]
    },
    {
     "name": "stderr",
     "output_type": "stream",
     "text": [
      " 77%|███████▋  | 158/206 [03:56<01:17,  1.61s/it]"
     ]
    },
    {
     "name": "stdout",
     "output_type": "stream",
     "text": [
      "[0]\tvalidation_0-logloss:0.43886\n",
      "Will train until validation_0-logloss hasn't improved in 100 rounds.\n",
      "[100]\tvalidation_0-logloss:0.01180\n",
      "Stopping. Best iteration:\n",
      "[20]\tvalidation_0-logloss:0.00920\n",
      "\n"
     ]
    },
    {
     "name": "stderr",
     "output_type": "stream",
     "text": [
      " 77%|███████▋  | 159/206 [03:58<01:11,  1.52s/it]"
     ]
    },
    {
     "name": "stdout",
     "output_type": "stream",
     "text": [
      "[0]\tvalidation_0-logloss:0.44306\n",
      "Will train until validation_0-logloss hasn't improved in 100 rounds.\n",
      "[100]\tvalidation_0-logloss:0.04802\n",
      "Stopping. Best iteration:\n",
      "[16]\tvalidation_0-logloss:0.03286\n",
      "\n"
     ]
    },
    {
     "name": "stderr",
     "output_type": "stream",
     "text": [
      " 78%|███████▊  | 160/206 [03:59<01:13,  1.59s/it]"
     ]
    },
    {
     "name": "stdout",
     "output_type": "stream",
     "text": [
      "[0]\tvalidation_0-logloss:0.43844\n",
      "Will train until validation_0-logloss hasn't improved in 100 rounds.\n",
      "[100]\tvalidation_0-logloss:0.00787\n",
      "Stopping. Best iteration:\n",
      "[23]\tvalidation_0-logloss:0.00684\n",
      "\n"
     ]
    },
    {
     "name": "stderr",
     "output_type": "stream",
     "text": [
      " 78%|███████▊  | 161/206 [04:01<01:08,  1.51s/it]"
     ]
    },
    {
     "name": "stdout",
     "output_type": "stream",
     "text": [
      "[0]\tvalidation_0-logloss:0.43936\n",
      "Will train until validation_0-logloss hasn't improved in 100 rounds.\n",
      "[100]\tvalidation_0-logloss:0.02012\n",
      "Stopping. Best iteration:\n",
      "[19]\tvalidation_0-logloss:0.01410\n",
      "\n"
     ]
    },
    {
     "name": "stderr",
     "output_type": "stream",
     "text": [
      " 79%|███████▊  | 162/206 [04:02<01:05,  1.50s/it]"
     ]
    },
    {
     "name": "stdout",
     "output_type": "stream",
     "text": [
      "[0]\tvalidation_0-logloss:0.44142\n",
      "Will train until validation_0-logloss hasn't improved in 100 rounds.\n",
      "[100]\tvalidation_0-logloss:0.03438\n",
      "Stopping. Best iteration:\n",
      "[18]\tvalidation_0-logloss:0.02492\n",
      "\n"
     ]
    },
    {
     "name": "stderr",
     "output_type": "stream",
     "text": [
      " 79%|███████▉  | 163/206 [04:04<01:05,  1.52s/it]"
     ]
    },
    {
     "name": "stdout",
     "output_type": "stream",
     "text": [
      "[0]\tvalidation_0-logloss:0.43891\n",
      "Will train until validation_0-logloss hasn't improved in 100 rounds.\n",
      "[100]\tvalidation_0-logloss:0.00197\n",
      "Stopping. Best iteration:\n",
      "[45]\tvalidation_0-logloss:0.00196\n",
      "\n"
     ]
    },
    {
     "name": "stderr",
     "output_type": "stream",
     "text": [
      " 80%|███████▉  | 164/206 [04:05<00:59,  1.43s/it]"
     ]
    },
    {
     "name": "stdout",
     "output_type": "stream",
     "text": [
      "[0]\tvalidation_0-logloss:0.43989\n",
      "Will train until validation_0-logloss hasn't improved in 100 rounds.\n",
      "[100]\tvalidation_0-logloss:0.02133\n",
      "Stopping. Best iteration:\n",
      "[20]\tvalidation_0-logloss:0.01571\n",
      "\n"
     ]
    },
    {
     "name": "stderr",
     "output_type": "stream",
     "text": [
      " 80%|████████  | 165/206 [04:06<00:59,  1.46s/it]"
     ]
    },
    {
     "name": "stdout",
     "output_type": "stream",
     "text": [
      "[0]\tvalidation_0-logloss:0.43784\n",
      "Will train until validation_0-logloss hasn't improved in 100 rounds.\n",
      "[100]\tvalidation_0-logloss:0.00361\n",
      "Stopping. Best iteration:\n",
      "[24]\tvalidation_0-logloss:0.00301\n",
      "\n"
     ]
    },
    {
     "name": "stderr",
     "output_type": "stream",
     "text": [
      " 81%|████████  | 166/206 [04:08<00:53,  1.34s/it]"
     ]
    },
    {
     "name": "stdout",
     "output_type": "stream",
     "text": [
      "[0]\tvalidation_0-logloss:0.44170\n",
      "Will train until validation_0-logloss hasn't improved in 100 rounds.\n",
      "[100]\tvalidation_0-logloss:0.03555\n",
      "Stopping. Best iteration:\n",
      "[16]\tvalidation_0-logloss:0.02567\n",
      "\n"
     ]
    },
    {
     "name": "stderr",
     "output_type": "stream",
     "text": [
      " 81%|████████  | 167/206 [04:09<00:55,  1.43s/it]"
     ]
    },
    {
     "name": "stdout",
     "output_type": "stream",
     "text": [
      "[0]\tvalidation_0-logloss:0.43847\n",
      "Will train until validation_0-logloss hasn't improved in 100 rounds.\n",
      "[100]\tvalidation_0-logloss:0.01011\n",
      "Stopping. Best iteration:\n",
      "[21]\tvalidation_0-logloss:0.00802\n",
      "\n"
     ]
    },
    {
     "name": "stderr",
     "output_type": "stream",
     "text": [
      " 82%|████████▏ | 168/206 [04:10<00:51,  1.37s/it]"
     ]
    },
    {
     "name": "stdout",
     "output_type": "stream",
     "text": [
      "[0]\tvalidation_0-logloss:0.44014\n",
      "Will train until validation_0-logloss hasn't improved in 100 rounds.\n",
      "[100]\tvalidation_0-logloss:0.02523\n",
      "Stopping. Best iteration:\n",
      "[18]\tvalidation_0-logloss:0.01783\n",
      "\n"
     ]
    },
    {
     "name": "stderr",
     "output_type": "stream",
     "text": [
      " 82%|████████▏ | 169/206 [04:12<00:51,  1.40s/it]"
     ]
    },
    {
     "name": "stdout",
     "output_type": "stream",
     "text": [
      "[0]\tvalidation_0-logloss:0.44018\n",
      "Will train until validation_0-logloss hasn't improved in 100 rounds.\n",
      "[100]\tvalidation_0-logloss:0.00532\n",
      "Stopping. Best iteration:\n",
      "[54]\tvalidation_0-logloss:0.00514\n",
      "\n"
     ]
    },
    {
     "name": "stderr",
     "output_type": "stream",
     "text": [
      " 83%|████████▎ | 170/206 [04:13<00:51,  1.44s/it]"
     ]
    },
    {
     "name": "stdout",
     "output_type": "stream",
     "text": [
      "[0]\tvalidation_0-logloss:0.43797\n",
      "Will train until validation_0-logloss hasn't improved in 100 rounds.\n",
      "[100]\tvalidation_0-logloss:0.00367\n",
      "Stopping. Best iteration:\n",
      "[25]\tvalidation_0-logloss:0.00314\n",
      "\n"
     ]
    },
    {
     "name": "stderr",
     "output_type": "stream",
     "text": [
      " 83%|████████▎ | 171/206 [04:15<00:48,  1.38s/it]"
     ]
    },
    {
     "name": "stdout",
     "output_type": "stream",
     "text": [
      "[0]\tvalidation_0-logloss:0.44060\n",
      "Will train until validation_0-logloss hasn't improved in 100 rounds.\n",
      "[100]\tvalidation_0-logloss:0.01712\n",
      "Stopping. Best iteration:\n",
      "[20]\tvalidation_0-logloss:0.01238\n",
      "\n"
     ]
    },
    {
     "name": "stderr",
     "output_type": "stream",
     "text": [
      " 83%|████████▎ | 172/206 [04:16<00:48,  1.43s/it]"
     ]
    },
    {
     "name": "stdout",
     "output_type": "stream",
     "text": [
      "[0]\tvalidation_0-logloss:0.43784\n",
      "Will train until validation_0-logloss hasn't improved in 100 rounds.\n",
      "[100]\tvalidation_0-logloss:0.00322\n",
      "Stopping. Best iteration:\n",
      "[25]\tvalidation_0-logloss:0.00305\n",
      "\n"
     ]
    },
    {
     "name": "stderr",
     "output_type": "stream",
     "text": [
      " 84%|████████▍ | 173/206 [04:18<00:48,  1.48s/it]"
     ]
    },
    {
     "name": "stdout",
     "output_type": "stream",
     "text": [
      "[0]\tvalidation_0-logloss:0.43917\n",
      "Will train until validation_0-logloss hasn't improved in 100 rounds.\n",
      "[100]\tvalidation_0-logloss:0.01435\n",
      "Stopping. Best iteration:\n",
      "[19]\tvalidation_0-logloss:0.01170\n",
      "\n"
     ]
    },
    {
     "name": "stderr",
     "output_type": "stream",
     "text": [
      " 84%|████████▍ | 174/206 [04:19<00:45,  1.43s/it]"
     ]
    },
    {
     "name": "stdout",
     "output_type": "stream",
     "text": [
      "[0]\tvalidation_0-logloss:0.43944\n",
      "Will train until validation_0-logloss hasn't improved in 100 rounds.\n",
      "[100]\tvalidation_0-logloss:0.01610\n",
      "Stopping. Best iteration:\n",
      "[18]\tvalidation_0-logloss:0.01175\n",
      "\n"
     ]
    },
    {
     "name": "stderr",
     "output_type": "stream",
     "text": [
      " 85%|████████▍ | 175/206 [04:20<00:43,  1.40s/it]"
     ]
    },
    {
     "name": "stdout",
     "output_type": "stream",
     "text": [
      "[0]\tvalidation_0-logloss:0.43860\n",
      "Will train until validation_0-logloss hasn't improved in 100 rounds.\n",
      "[100]\tvalidation_0-logloss:0.00841\n",
      "Stopping. Best iteration:\n",
      "[25]\tvalidation_0-logloss:0.00676\n",
      "\n"
     ]
    },
    {
     "name": "stderr",
     "output_type": "stream",
     "text": [
      " 85%|████████▌ | 176/206 [04:22<00:41,  1.37s/it]"
     ]
    },
    {
     "name": "stdout",
     "output_type": "stream",
     "text": [
      "[0]\tvalidation_0-logloss:0.44829\n",
      "Will train until validation_0-logloss hasn't improved in 100 rounds.\n",
      "[100]\tvalidation_0-logloss:0.08595\n",
      "Stopping. Best iteration:\n",
      "[17]\tvalidation_0-logloss:0.05763\n",
      "\n"
     ]
    },
    {
     "name": "stderr",
     "output_type": "stream",
     "text": [
      " 86%|████████▌ | 177/206 [04:24<00:46,  1.59s/it]"
     ]
    },
    {
     "name": "stdout",
     "output_type": "stream",
     "text": [
      "[0]\tvalidation_0-logloss:0.45581\n",
      "Will train until validation_0-logloss hasn't improved in 100 rounds.\n",
      "[100]\tvalidation_0-logloss:0.14157\n",
      "Stopping. Best iteration:\n",
      "[14]\tvalidation_0-logloss:0.08961\n",
      "\n"
     ]
    },
    {
     "name": "stderr",
     "output_type": "stream",
     "text": [
      " 86%|████████▋ | 178/206 [04:26<00:51,  1.82s/it]"
     ]
    },
    {
     "name": "stdout",
     "output_type": "stream",
     "text": [
      "[0]\tvalidation_0-logloss:0.43954\n",
      "Will train until validation_0-logloss hasn't improved in 100 rounds.\n",
      "[100]\tvalidation_0-logloss:0.01974\n",
      "Stopping. Best iteration:\n",
      "[18]\tvalidation_0-logloss:0.01450\n",
      "\n"
     ]
    },
    {
     "name": "stderr",
     "output_type": "stream",
     "text": [
      " 87%|████████▋ | 179/206 [04:28<00:46,  1.71s/it]"
     ]
    },
    {
     "name": "stdout",
     "output_type": "stream",
     "text": [
      "[0]\tvalidation_0-logloss:0.43919\n",
      "Will train until validation_0-logloss hasn't improved in 100 rounds.\n",
      "[100]\tvalidation_0-logloss:0.01679\n",
      "Stopping. Best iteration:\n",
      "[20]\tvalidation_0-logloss:0.01217\n",
      "\n"
     ]
    },
    {
     "name": "stderr",
     "output_type": "stream",
     "text": [
      " 87%|████████▋ | 180/206 [04:29<00:42,  1.64s/it]"
     ]
    },
    {
     "name": "stdout",
     "output_type": "stream",
     "text": [
      "[0]\tvalidation_0-logloss:0.43919\n",
      "Will train until validation_0-logloss hasn't improved in 100 rounds.\n",
      "[100]\tvalidation_0-logloss:0.01563\n",
      "Stopping. Best iteration:\n",
      "[21]\tvalidation_0-logloss:0.01184\n",
      "\n"
     ]
    },
    {
     "name": "stderr",
     "output_type": "stream",
     "text": [
      " 88%|████████▊ | 181/206 [04:30<00:38,  1.56s/it]"
     ]
    },
    {
     "name": "stdout",
     "output_type": "stream",
     "text": [
      "[0]\tvalidation_0-logloss:0.43877\n",
      "Will train until validation_0-logloss hasn't improved in 100 rounds.\n",
      "[100]\tvalidation_0-logloss:0.01134\n",
      "Stopping. Best iteration:\n",
      "[24]\tvalidation_0-logloss:0.00888\n",
      "\n"
     ]
    },
    {
     "name": "stderr",
     "output_type": "stream",
     "text": [
      " 88%|████████▊ | 182/206 [04:32<00:35,  1.48s/it]"
     ]
    },
    {
     "name": "stdout",
     "output_type": "stream",
     "text": [
      "[0]\tvalidation_0-logloss:0.44982\n",
      "Will train until validation_0-logloss hasn't improved in 100 rounds.\n",
      "[100]\tvalidation_0-logloss:0.10780\n",
      "Stopping. Best iteration:\n",
      "[13]\tvalidation_0-logloss:0.06680\n",
      "\n"
     ]
    },
    {
     "name": "stderr",
     "output_type": "stream",
     "text": [
      " 89%|████████▉ | 183/206 [04:34<00:38,  1.69s/it]"
     ]
    },
    {
     "name": "stdout",
     "output_type": "stream",
     "text": [
      "[0]\tvalidation_0-logloss:0.43877\n",
      "Will train until validation_0-logloss hasn't improved in 100 rounds.\n",
      "[100]\tvalidation_0-logloss:0.01311\n",
      "Stopping. Best iteration:\n",
      "[21]\tvalidation_0-logloss:0.00935\n",
      "\n"
     ]
    },
    {
     "name": "stderr",
     "output_type": "stream",
     "text": [
      " 89%|████████▉ | 184/206 [04:35<00:35,  1.60s/it]"
     ]
    },
    {
     "name": "stdout",
     "output_type": "stream",
     "text": [
      "[0]\tvalidation_0-logloss:0.44097\n",
      "Will train until validation_0-logloss hasn't improved in 100 rounds.\n",
      "[100]\tvalidation_0-logloss:0.02063\n",
      "Stopping. Best iteration:\n",
      "[20]\tvalidation_0-logloss:0.01665\n",
      "\n"
     ]
    },
    {
     "name": "stderr",
     "output_type": "stream",
     "text": [
      " 90%|████████▉ | 185/206 [04:37<00:33,  1.61s/it]"
     ]
    },
    {
     "name": "stdout",
     "output_type": "stream",
     "text": [
      "[0]\tvalidation_0-logloss:0.43784\n",
      "Will train until validation_0-logloss hasn't improved in 100 rounds.\n",
      "[100]\tvalidation_0-logloss:0.00331\n",
      "Stopping. Best iteration:\n",
      "[25]\tvalidation_0-logloss:0.00286\n",
      "\n"
     ]
    },
    {
     "name": "stderr",
     "output_type": "stream",
     "text": [
      " 90%|█████████ | 186/206 [04:38<00:29,  1.46s/it]"
     ]
    },
    {
     "name": "stdout",
     "output_type": "stream",
     "text": [
      "[0]\tvalidation_0-logloss:0.43847\n",
      "Will train until validation_0-logloss hasn't improved in 100 rounds.\n",
      "[100]\tvalidation_0-logloss:0.00763\n",
      "Stopping. Best iteration:\n",
      "[21]\tvalidation_0-logloss:0.00647\n",
      "\n"
     ]
    },
    {
     "name": "stderr",
     "output_type": "stream",
     "text": [
      " 91%|█████████ | 187/206 [04:39<00:26,  1.40s/it]"
     ]
    },
    {
     "name": "stdout",
     "output_type": "stream",
     "text": [
      "[0]\tvalidation_0-logloss:0.44040\n",
      "Will train until validation_0-logloss hasn't improved in 100 rounds.\n",
      "[100]\tvalidation_0-logloss:0.02645\n",
      "Stopping. Best iteration:\n",
      "[19]\tvalidation_0-logloss:0.01955\n",
      "\n"
     ]
    },
    {
     "name": "stderr",
     "output_type": "stream",
     "text": [
      " 91%|█████████▏| 188/206 [04:41<00:25,  1.43s/it]"
     ]
    },
    {
     "name": "stdout",
     "output_type": "stream",
     "text": [
      "[0]\tvalidation_0-logloss:0.43893\n",
      "Will train until validation_0-logloss hasn't improved in 100 rounds.\n",
      "[100]\tvalidation_0-logloss:0.00912\n",
      "Stopping. Best iteration:\n",
      "[27]\tvalidation_0-logloss:0.00837\n",
      "\n"
     ]
    },
    {
     "name": "stderr",
     "output_type": "stream",
     "text": [
      " 92%|█████████▏| 189/206 [04:42<00:22,  1.35s/it]"
     ]
    },
    {
     "name": "stdout",
     "output_type": "stream",
     "text": [
      "[0]\tvalidation_0-logloss:0.43830\n",
      "Will train until validation_0-logloss hasn't improved in 100 rounds.\n",
      "[100]\tvalidation_0-logloss:0.00624\n",
      "Stopping. Best iteration:\n",
      "[27]\tvalidation_0-logloss:0.00500\n",
      "\n"
     ]
    },
    {
     "name": "stderr",
     "output_type": "stream",
     "text": [
      " 92%|█████████▏| 190/206 [04:43<00:21,  1.31s/it]"
     ]
    },
    {
     "name": "stdout",
     "output_type": "stream",
     "text": [
      "[0]\tvalidation_0-logloss:0.43938\n",
      "Will train until validation_0-logloss hasn't improved in 100 rounds.\n",
      "[100]\tvalidation_0-logloss:0.01356\n",
      "Stopping. Best iteration:\n",
      "[25]\tvalidation_0-logloss:0.01109\n",
      "\n"
     ]
    },
    {
     "name": "stderr",
     "output_type": "stream",
     "text": [
      " 93%|█████████▎| 191/206 [04:45<00:19,  1.33s/it]"
     ]
    },
    {
     "name": "stdout",
     "output_type": "stream",
     "text": [
      "[0]\tvalidation_0-logloss:0.43888\n",
      "Will train until validation_0-logloss hasn't improved in 100 rounds.\n",
      "[100]\tvalidation_0-logloss:0.01284\n",
      "Stopping. Best iteration:\n",
      "[20]\tvalidation_0-logloss:0.00967\n",
      "\n"
     ]
    },
    {
     "name": "stderr",
     "output_type": "stream",
     "text": [
      " 93%|█████████▎| 192/206 [04:46<00:18,  1.35s/it]"
     ]
    },
    {
     "name": "stdout",
     "output_type": "stream",
     "text": [
      "[0]\tvalidation_0-logloss:0.43786\n",
      "Will train until validation_0-logloss hasn't improved in 100 rounds.\n",
      "[100]\tvalidation_0-logloss:0.00348\n",
      "Stopping. Best iteration:\n",
      "[26]\tvalidation_0-logloss:0.00300\n",
      "\n"
     ]
    },
    {
     "name": "stderr",
     "output_type": "stream",
     "text": [
      " 94%|█████████▎| 193/206 [04:47<00:16,  1.29s/it]"
     ]
    },
    {
     "name": "stdout",
     "output_type": "stream",
     "text": [
      "[0]\tvalidation_0-logloss:0.43917\n",
      "Will train until validation_0-logloss hasn't improved in 100 rounds.\n",
      "[100]\tvalidation_0-logloss:0.01576\n",
      "Stopping. Best iteration:\n",
      "[21]\tvalidation_0-logloss:0.01166\n",
      "\n"
     ]
    },
    {
     "name": "stderr",
     "output_type": "stream",
     "text": [
      " 94%|█████████▍| 194/206 [04:49<00:15,  1.31s/it]"
     ]
    },
    {
     "name": "stdout",
     "output_type": "stream",
     "text": [
      "[0]\tvalidation_0-logloss:0.44141\n",
      "Will train until validation_0-logloss hasn't improved in 100 rounds.\n",
      "[100]\tvalidation_0-logloss:0.02202\n",
      "Stopping. Best iteration:\n",
      "[21]\tvalidation_0-logloss:0.01826\n",
      "\n"
     ]
    },
    {
     "name": "stderr",
     "output_type": "stream",
     "text": [
      " 95%|█████████▍| 195/206 [04:50<00:15,  1.42s/it]"
     ]
    },
    {
     "name": "stdout",
     "output_type": "stream",
     "text": [
      "[0]\tvalidation_0-logloss:0.43828\n",
      "Will train until validation_0-logloss hasn't improved in 100 rounds.\n",
      "[100]\tvalidation_0-logloss:0.00592\n",
      "Stopping. Best iteration:\n",
      "[26]\tvalidation_0-logloss:0.00522\n",
      "\n"
     ]
    },
    {
     "name": "stderr",
     "output_type": "stream",
     "text": [
      " 95%|█████████▌| 196/206 [04:51<00:13,  1.36s/it]"
     ]
    },
    {
     "name": "stdout",
     "output_type": "stream",
     "text": [
      "[0]\tvalidation_0-logloss:0.43784\n",
      "Will train until validation_0-logloss hasn't improved in 100 rounds.\n",
      "[100]\tvalidation_0-logloss:0.00269\n",
      "Stopping. Best iteration:\n",
      "[35]\tvalidation_0-logloss:0.00254\n",
      "\n"
     ]
    },
    {
     "name": "stderr",
     "output_type": "stream",
     "text": [
      " 96%|█████████▌| 197/206 [04:53<00:11,  1.29s/it]"
     ]
    },
    {
     "name": "stdout",
     "output_type": "stream",
     "text": [
      "[0]\tvalidation_0-logloss:0.43877\n",
      "Will train until validation_0-logloss hasn't improved in 100 rounds.\n",
      "[100]\tvalidation_0-logloss:0.00970\n",
      "Stopping. Best iteration:\n",
      "[22]\tvalidation_0-logloss:0.00812\n",
      "\n"
     ]
    },
    {
     "name": "stderr",
     "output_type": "stream",
     "text": [
      " 96%|█████████▌| 198/206 [04:54<00:10,  1.28s/it]"
     ]
    },
    {
     "name": "stdout",
     "output_type": "stream",
     "text": [
      "[0]\tvalidation_0-logloss:0.43983\n",
      "Will train until validation_0-logloss hasn't improved in 100 rounds.\n",
      "[100]\tvalidation_0-logloss:0.01944\n",
      "Stopping. Best iteration:\n",
      "[19]\tvalidation_0-logloss:0.01431\n",
      "\n"
     ]
    },
    {
     "name": "stderr",
     "output_type": "stream",
     "text": [
      " 97%|█████████▋| 199/206 [04:55<00:09,  1.32s/it]"
     ]
    },
    {
     "name": "stdout",
     "output_type": "stream",
     "text": [
      "[0]\tvalidation_0-logloss:0.44378\n",
      "Will train until validation_0-logloss hasn't improved in 100 rounds.\n",
      "[100]\tvalidation_0-logloss:0.02816\n",
      "Stopping. Best iteration:\n",
      "[20]\tvalidation_0-logloss:0.02303\n",
      "\n"
     ]
    },
    {
     "name": "stderr",
     "output_type": "stream",
     "text": [
      " 97%|█████████▋| 200/206 [04:57<00:08,  1.44s/it]"
     ]
    },
    {
     "name": "stdout",
     "output_type": "stream",
     "text": [
      "[0]\tvalidation_0-logloss:0.44103\n",
      "Will train until validation_0-logloss hasn't improved in 100 rounds.\n",
      "[100]\tvalidation_0-logloss:0.03090\n",
      "Stopping. Best iteration:\n",
      "[18]\tvalidation_0-logloss:0.02283\n",
      "\n"
     ]
    },
    {
     "name": "stderr",
     "output_type": "stream",
     "text": [
      " 98%|█████████▊| 201/206 [04:58<00:07,  1.47s/it]"
     ]
    },
    {
     "name": "stdout",
     "output_type": "stream",
     "text": [
      "[0]\tvalidation_0-logloss:0.43784\n",
      "Will train until validation_0-logloss hasn't improved in 100 rounds.\n",
      "[100]\tvalidation_0-logloss:0.00346\n",
      "Stopping. Best iteration:\n",
      "[27]\tvalidation_0-logloss:0.00303\n",
      "\n"
     ]
    },
    {
     "name": "stderr",
     "output_type": "stream",
     "text": [
      " 98%|█████████▊| 202/206 [05:00<00:05,  1.35s/it]"
     ]
    },
    {
     "name": "stdout",
     "output_type": "stream",
     "text": [
      "[0]\tvalidation_0-logloss:0.44482\n",
      "Will train until validation_0-logloss hasn't improved in 100 rounds.\n",
      "[100]\tvalidation_0-logloss:0.04133\n",
      "Stopping. Best iteration:\n",
      "[16]\tvalidation_0-logloss:0.03157\n",
      "\n"
     ]
    },
    {
     "name": "stderr",
     "output_type": "stream",
     "text": [
      " 99%|█████████▊| 203/206 [05:01<00:04,  1.49s/it]"
     ]
    },
    {
     "name": "stdout",
     "output_type": "stream",
     "text": [
      "[0]\tvalidation_0-logloss:0.43879\n",
      "Will train until validation_0-logloss hasn't improved in 100 rounds.\n",
      "[100]\tvalidation_0-logloss:0.01308\n",
      "Stopping. Best iteration:\n",
      "[22]\tvalidation_0-logloss:0.00971\n",
      "\n"
     ]
    },
    {
     "name": "stderr",
     "output_type": "stream",
     "text": [
      " 99%|█████████▉| 204/206 [05:03<00:02,  1.43s/it]"
     ]
    },
    {
     "name": "stdout",
     "output_type": "stream",
     "text": [
      "[0]\tvalidation_0-logloss:0.43926\n",
      "Will train until validation_0-logloss hasn't improved in 100 rounds.\n",
      "[100]\tvalidation_0-logloss:0.01117\n",
      "Stopping. Best iteration:\n",
      "[19]\tvalidation_0-logloss:0.01011\n",
      "\n"
     ]
    },
    {
     "name": "stderr",
     "output_type": "stream",
     "text": [
      "100%|█████████▉| 205/206 [05:04<00:01,  1.38s/it]"
     ]
    },
    {
     "name": "stdout",
     "output_type": "stream",
     "text": [
      "[0]\tvalidation_0-logloss:0.43888\n",
      "Will train until validation_0-logloss hasn't improved in 100 rounds.\n",
      "[100]\tvalidation_0-logloss:0.01270\n",
      "Stopping. Best iteration:\n",
      "[21]\tvalidation_0-logloss:0.00944\n",
      "\n"
     ]
    },
    {
     "name": "stderr",
     "output_type": "stream",
     "text": [
      "100%|██████████| 206/206 [05:05<00:00,  1.48s/it]\n"
     ]
    },
    {
     "name": "stdout",
     "output_type": "stream",
     "text": [
      "     fun: 0.016012968116556645\n",
      "     jac: array([0.00073224, 0.00073247, 0.00073508])\n",
      " message: 'Optimization terminated successfully.'\n",
      "    nfev: 88\n",
      "     nit: 17\n",
      "    njev: 17\n",
      "  status: 0\n",
      " success: True\n",
      "       x: array([0.93517856, 0.06328445, 0.001537  ])\n",
      "0.016004465259611605 0.01602654153920367 0.01678688465894295 0.022191324161956058 0.0160129681407004\n"
     ]
    },
    {
     "name": "stderr",
     "output_type": "stream",
     "text": [
      "100%|██████████| 32/32 [00:00<00:00, 330.61it/s]"
     ]
    },
    {
     "name": "stdout",
     "output_type": "stream",
     "text": [
      "auc 0.9015704582295588\n"
     ]
    },
    {
     "name": "stderr",
     "output_type": "stream",
     "text": [
      "\n"
     ]
    }
   ],
   "source": [
    "models = []\n",
    "all_submodels = []\n",
    "losses = []\n",
    "base_losses = []\n",
    "masks = []\n",
    "y_preds = []\n",
    "tqdm.get_lock().locks = []\n",
    "KFoldSeed=593306219\n",
    "for i in range(1):\n",
    "    kf = MultilabelStratifiedKFold(n_splits=7, shuffle=True, random_state=KFoldSeed)\n",
    "    for train_index, valid_index in kf.split(X, y):\n",
    "        X_train, y_train, y_train_nonscored = X[train_index], y[train_index], y_nonscored[train_index]\n",
    "        X_valid, y_valid, y_valid_nonscored = X[valid_index], y[valid_index], y_nonscored[valid_index]\n",
    "\n",
    "        train_dataset = MoADataset(X_train, y_train)\n",
    "        train_nonscored_dataset = MoADataset(X_train, y_train_nonscored)\n",
    "        valid_dataset = MoADataset(X_valid, y_valid)\n",
    "        valid_nonscored_dataset = MoADataset(X_valid, y_valid_nonscored)\n",
    "\n",
    "        trainloader = torch.utils.data.DataLoader(train_dataset, batch_size=batch_size, shuffle=True)\n",
    "        trainnonscoredloader = torch.utils.data.DataLoader(train_nonscored_dataset, batch_size=batch_size, shuffle=True)\n",
    "        validloader = torch.utils.data.DataLoader(valid_dataset, batch_size=batch_size, shuffle=False)\n",
    "        validnonscoredloader = torch.utils.data.DataLoader(valid_nonscored_dataset, batch_size=batch_size, shuffle=False)\n",
    "\n",
    "        model = MoAModel(\n",
    "            num_features=len(X_train[0]),\n",
    "            num_targets=len(y_train[0]),\n",
    "            num_targets_nonscored=len(y_train_nonscored[0]),\n",
    "            hidden_size=1024,\n",
    "            dropout=0.45,\n",
    "            dropout_input=0.25,\n",
    "        )\n",
    "\n",
    "        model.to(device)\n",
    "\n",
    "        #optimizer = torch.optim.Adam(model.parameters(), lr=0.01, weight_decay=1e-5)\n",
    "        optimizer = LookaheadAdam(model.parameters(), lr=0.01, weight_decay=1e-5)\n",
    "        #optimizer = AdaBelief(model.parameters(), lr=0.001, weight_decay=1e-5, eps=1e-15)\n",
    "        #optimizer = Lookahead(optimizer)\n",
    "        scheduler = optim.lr_scheduler.CosineAnnealingLR(optimizer, T_max=epochs * len(trainloader))\n",
    "        #scheduler2 = optim.lr_scheduler.CosineAnnealingLR(optimizer, T_max=epochs * len(trainloader))\n",
    "        #scheduler = optim.lr_scheduler.OneCycleLR(optimizer, max_lr=0.01, epochs=epochs, steps_per_epoch=len(trainloader))\n",
    "        criterion_train = SmoothBCEwLogits(smoothing=0.001)\n",
    "        criterion_val = nn.BCEWithLogitsLoss()\n",
    "\n",
    "        best_loss = 1\n",
    "        best_preds = []\n",
    "        t = tqdm(range(epochs))\n",
    "        for epoch in t:\n",
    "            if epoch < 1:\n",
    "                model.target = 1\n",
    "                train_loss = train_model(model, optimizer, scheduler, criterion_train, trainnonscoredloader)\n",
    "            else:\n",
    "                model.target = 0\n",
    "                train_loss = train_model(model, optimizer, scheduler, criterion_train, trainloader)\n",
    "            model.target = 0\n",
    "            valid_loss, valid_preds = validate_model(model, criterion_val, validloader)\n",
    "            t.set_postfix(train_loss=train_loss, valid_loss=valid_loss)\n",
    "\n",
    "            if valid_loss < best_loss:\n",
    "                best_loss = valid_loss\n",
    "                best_preds = valid_preds\n",
    "                torch.save(model.state_dict(), \"/best_model.pth\")\n",
    "\n",
    "        model.target = 0\n",
    "        model.load_state_dict(torch.load(\"/best_model.pth\"))\n",
    "        \n",
    "        \n",
    "        \n",
    "        tabnetmodel = TabNetRegressor(**tabnet_params)\n",
    "\n",
    "        tabnetmodel.fit(X_train=X_train,\n",
    "                  y_train=y_train,\n",
    "                  eval_set=[(X_valid, y_valid)],\n",
    "                  eval_name = [\"val\"],\n",
    "                  eval_metric = [\"logits_ll\"],\n",
    "                  max_epochs=TABNET_MAX_EPOCH,\n",
    "                  patience=20, batch_size=256, virtual_batch_size=32,\n",
    "                  num_workers=1, drop_last=False,\n",
    "                  # use binary cross entropy as this is not a regression problem\n",
    "                  #loss_fn=torch.nn.functional.binary_cross_entropy_with_logits)\n",
    "                  loss_fn=SmoothBCEwLogits(smoothing=0.001))\n",
    "\n",
    "\n",
    "        tabnet_preds = sigmoid(tabnetmodel.predict(X_valid))\n",
    "        \n",
    "        \n",
    "        xgb_preds, pred3 = train_xgb(X_train, y_train, X_valid, y_valid, X_test)\n",
    "        \n",
    "        weights = get_best_weights(y_valid, [best_preds, tabnet_preds, xgb_preds])\n",
    "\n",
    "        weighted_loss = log_loss_numpy(y_valid, ensemble_with_weights(weights, [best_preds, tabnet_preds, xgb_preds]))\n",
    "        losses.append(weighted_loss)\n",
    "        print(best_loss, log_loss_numpy(y_valid, best_preds), log_loss_numpy(y_valid, tabnet_preds), log_loss_numpy(y_valid, xgb_preds), weighted_loss)\n",
    "\n",
    "        rocauc = roc_auc_score(y_valid.ravel(), ensemble_with_weights(weights, [best_preds, tabnet_preds, xgb_preds]).ravel())\n",
    "        print(\"auc\", rocauc)\n",
    "        \n",
    "        testdataset = MoATestDataset(X_test)\n",
    "        testloader = torch.utils.data.DataLoader(testdataset, batch_size=batch_size, shuffle=False)\n",
    "\n",
    "        pred1 = test_model(model, testloader)\n",
    "        pred2 = sigmoid(tabnetmodel.predict(X_test))\n",
    "        \n",
    "        y_preds.append(ensemble_with_weights(weights, [pred1, pred2, pred3]))\n",
    "        \n",
    "    #KFoldSeed = get_kfold_seed()"
   ]
  },
  {
   "cell_type": "code",
   "execution_count": null,
   "metadata": {
    "papermill": {
     "duration": 3.321713,
     "end_time": "2020-10-26T04:45:03.139188",
     "exception": false,
     "start_time": "2020-10-26T04:44:59.817475",
     "status": "completed"
    },
    "tags": []
   },
   "outputs": [],
   "source": []
  },
  {
   "cell_type": "code",
   "execution_count": null,
   "metadata": {
    "papermill": {
     "duration": 3.126477,
     "end_time": "2020-10-26T04:45:09.032631",
     "exception": false,
     "start_time": "2020-10-26T04:45:05.906154",
     "status": "completed"
    },
    "tags": []
   },
   "outputs": [],
   "source": []
  },
  {
   "cell_type": "code",
   "execution_count": 36,
   "metadata": {
    "execution": {
     "iopub.execute_input": "2020-10-26T04:45:14.542568Z",
     "iopub.status.busy": "2020-10-26T04:45:14.541374Z",
     "iopub.status.idle": "2020-10-26T04:45:14.547156Z",
     "shell.execute_reply": "2020-10-26T04:45:14.547829Z"
    },
    "papermill": {
     "duration": 2.801621,
     "end_time": "2020-10-26T04:45:14.547992",
     "exception": false,
     "start_time": "2020-10-26T04:45:11.746371",
     "status": "completed"
    },
    "tags": []
   },
   "outputs": [
    {
     "name": "stdout",
     "output_type": "stream",
     "text": [
      "[0.01597369673662805, 0.0156582414138916, 0.015604031710550696, 0.015866151556941252, 0.0157810972955681, 0.016290326831349598, 0.0160129681407004]\n"
     ]
    }
   ],
   "source": [
    "print(losses)"
   ]
  },
  {
   "cell_type": "code",
   "execution_count": 37,
   "metadata": {
    "execution": {
     "iopub.execute_input": "2020-10-26T04:45:20.293434Z",
     "iopub.status.busy": "2020-10-26T04:45:20.291421Z",
     "iopub.status.idle": "2020-10-26T04:45:20.314261Z",
     "shell.execute_reply": "2020-10-26T04:45:20.313664Z"
    },
    "papermill": {
     "duration": 3.038395,
     "end_time": "2020-10-26T04:45:20.314373",
     "exception": false,
     "start_time": "2020-10-26T04:45:17.275978",
     "status": "completed"
    },
    "tags": []
   },
   "outputs": [],
   "source": [
    "y_test = np.mean(y_preds, axis=0)"
   ]
  },
  {
   "cell_type": "code",
   "execution_count": 38,
   "metadata": {
    "execution": {
     "iopub.execute_input": "2020-10-26T04:45:25.775619Z",
     "iopub.status.busy": "2020-10-26T04:45:25.774123Z",
     "iopub.status.idle": "2020-10-26T04:45:25.817444Z",
     "shell.execute_reply": "2020-10-26T04:45:25.818061Z"
    },
    "papermill": {
     "duration": 2.722102,
     "end_time": "2020-10-26T04:45:25.818220",
     "exception": false,
     "start_time": "2020-10-26T04:45:23.096118",
     "status": "completed"
    },
    "tags": []
   },
   "outputs": [
    {
     "data": {
      "text/html": [
       "<div>\n",
       "<style scoped>\n",
       "    .dataframe tbody tr th:only-of-type {\n",
       "        vertical-align: middle;\n",
       "    }\n",
       "\n",
       "    .dataframe tbody tr th {\n",
       "        vertical-align: top;\n",
       "    }\n",
       "\n",
       "    .dataframe thead th {\n",
       "        text-align: right;\n",
       "    }\n",
       "</style>\n",
       "<table border=\"1\" class=\"dataframe\">\n",
       "  <thead>\n",
       "    <tr style=\"text-align: right;\">\n",
       "      <th></th>\n",
       "      <th>5-alpha_reductase_inhibitor</th>\n",
       "      <th>11-beta-hsd1_inhibitor</th>\n",
       "      <th>acat_inhibitor</th>\n",
       "      <th>acetylcholine_receptor_agonist</th>\n",
       "      <th>acetylcholine_receptor_antagonist</th>\n",
       "      <th>acetylcholinesterase_inhibitor</th>\n",
       "      <th>adenosine_receptor_agonist</th>\n",
       "      <th>adenosine_receptor_antagonist</th>\n",
       "      <th>adenylyl_cyclase_activator</th>\n",
       "      <th>adrenergic_receptor_agonist</th>\n",
       "      <th>...</th>\n",
       "      <th>tropomyosin_receptor_kinase_inhibitor</th>\n",
       "      <th>trpv_agonist</th>\n",
       "      <th>trpv_antagonist</th>\n",
       "      <th>tubulin_inhibitor</th>\n",
       "      <th>tyrosine_kinase_inhibitor</th>\n",
       "      <th>ubiquitin_specific_protease_inhibitor</th>\n",
       "      <th>vegfr_inhibitor</th>\n",
       "      <th>vitamin_b</th>\n",
       "      <th>vitamin_d_receptor_agonist</th>\n",
       "      <th>wnt_inhibitor</th>\n",
       "    </tr>\n",
       "    <tr>\n",
       "      <th>sig_id</th>\n",
       "      <th></th>\n",
       "      <th></th>\n",
       "      <th></th>\n",
       "      <th></th>\n",
       "      <th></th>\n",
       "      <th></th>\n",
       "      <th></th>\n",
       "      <th></th>\n",
       "      <th></th>\n",
       "      <th></th>\n",
       "      <th></th>\n",
       "      <th></th>\n",
       "      <th></th>\n",
       "      <th></th>\n",
       "      <th></th>\n",
       "      <th></th>\n",
       "      <th></th>\n",
       "      <th></th>\n",
       "      <th></th>\n",
       "      <th></th>\n",
       "      <th></th>\n",
       "    </tr>\n",
       "  </thead>\n",
       "  <tbody>\n",
       "    <tr>\n",
       "      <th>id_0004d9e33</th>\n",
       "      <td>0.001093</td>\n",
       "      <td>0.001776</td>\n",
       "      <td>0.002719</td>\n",
       "      <td>0.016622</td>\n",
       "      <td>0.021770</td>\n",
       "      <td>0.005572</td>\n",
       "      <td>0.003239</td>\n",
       "      <td>0.008359</td>\n",
       "      <td>0.000647</td>\n",
       "      <td>0.013381</td>\n",
       "      <td>...</td>\n",
       "      <td>0.001213</td>\n",
       "      <td>0.001930</td>\n",
       "      <td>0.004248</td>\n",
       "      <td>0.001601</td>\n",
       "      <td>0.001472</td>\n",
       "      <td>0.001076</td>\n",
       "      <td>0.001094</td>\n",
       "      <td>0.002537</td>\n",
       "      <td>0.003326</td>\n",
       "      <td>0.002321</td>\n",
       "    </tr>\n",
       "    <tr>\n",
       "      <th>id_001897cda</th>\n",
       "      <td>0.000599</td>\n",
       "      <td>0.001111</td>\n",
       "      <td>0.002385</td>\n",
       "      <td>0.004462</td>\n",
       "      <td>0.003290</td>\n",
       "      <td>0.002194</td>\n",
       "      <td>0.005358</td>\n",
       "      <td>0.012118</td>\n",
       "      <td>0.005375</td>\n",
       "      <td>0.012244</td>\n",
       "      <td>...</td>\n",
       "      <td>0.001306</td>\n",
       "      <td>0.001633</td>\n",
       "      <td>0.005218</td>\n",
       "      <td>0.000902</td>\n",
       "      <td>0.007914</td>\n",
       "      <td>0.000814</td>\n",
       "      <td>0.008555</td>\n",
       "      <td>0.001801</td>\n",
       "      <td>0.001484</td>\n",
       "      <td>0.003117</td>\n",
       "    </tr>\n",
       "    <tr>\n",
       "      <th>id_002429b5b</th>\n",
       "      <td>0.000000</td>\n",
       "      <td>0.000000</td>\n",
       "      <td>0.000000</td>\n",
       "      <td>0.000000</td>\n",
       "      <td>0.000000</td>\n",
       "      <td>0.000000</td>\n",
       "      <td>0.000000</td>\n",
       "      <td>0.000000</td>\n",
       "      <td>0.000000</td>\n",
       "      <td>0.000000</td>\n",
       "      <td>...</td>\n",
       "      <td>0.000000</td>\n",
       "      <td>0.000000</td>\n",
       "      <td>0.000000</td>\n",
       "      <td>0.000000</td>\n",
       "      <td>0.000000</td>\n",
       "      <td>0.000000</td>\n",
       "      <td>0.000000</td>\n",
       "      <td>0.000000</td>\n",
       "      <td>0.000000</td>\n",
       "      <td>0.000000</td>\n",
       "    </tr>\n",
       "    <tr>\n",
       "      <th>id_00276f245</th>\n",
       "      <td>0.001151</td>\n",
       "      <td>0.001355</td>\n",
       "      <td>0.002322</td>\n",
       "      <td>0.009738</td>\n",
       "      <td>0.013213</td>\n",
       "      <td>0.004700</td>\n",
       "      <td>0.002632</td>\n",
       "      <td>0.004648</td>\n",
       "      <td>0.000462</td>\n",
       "      <td>0.006721</td>\n",
       "      <td>...</td>\n",
       "      <td>0.001045</td>\n",
       "      <td>0.001910</td>\n",
       "      <td>0.003272</td>\n",
       "      <td>0.011773</td>\n",
       "      <td>0.005720</td>\n",
       "      <td>0.001041</td>\n",
       "      <td>0.003496</td>\n",
       "      <td>0.002582</td>\n",
       "      <td>0.000966</td>\n",
       "      <td>0.002597</td>\n",
       "    </tr>\n",
       "    <tr>\n",
       "      <th>id_0027f1083</th>\n",
       "      <td>0.002365</td>\n",
       "      <td>0.001874</td>\n",
       "      <td>0.001917</td>\n",
       "      <td>0.017539</td>\n",
       "      <td>0.024573</td>\n",
       "      <td>0.005464</td>\n",
       "      <td>0.003939</td>\n",
       "      <td>0.003128</td>\n",
       "      <td>0.000553</td>\n",
       "      <td>0.010983</td>\n",
       "      <td>...</td>\n",
       "      <td>0.001084</td>\n",
       "      <td>0.000943</td>\n",
       "      <td>0.003168</td>\n",
       "      <td>0.002216</td>\n",
       "      <td>0.001555</td>\n",
       "      <td>0.001077</td>\n",
       "      <td>0.001100</td>\n",
       "      <td>0.002231</td>\n",
       "      <td>0.000536</td>\n",
       "      <td>0.002258</td>\n",
       "    </tr>\n",
       "    <tr>\n",
       "      <th>...</th>\n",
       "      <td>...</td>\n",
       "      <td>...</td>\n",
       "      <td>...</td>\n",
       "      <td>...</td>\n",
       "      <td>...</td>\n",
       "      <td>...</td>\n",
       "      <td>...</td>\n",
       "      <td>...</td>\n",
       "      <td>...</td>\n",
       "      <td>...</td>\n",
       "      <td>...</td>\n",
       "      <td>...</td>\n",
       "      <td>...</td>\n",
       "      <td>...</td>\n",
       "      <td>...</td>\n",
       "      <td>...</td>\n",
       "      <td>...</td>\n",
       "      <td>...</td>\n",
       "      <td>...</td>\n",
       "      <td>...</td>\n",
       "      <td>...</td>\n",
       "    </tr>\n",
       "    <tr>\n",
       "      <th>id_ff7004b87</th>\n",
       "      <td>0.001076</td>\n",
       "      <td>0.001963</td>\n",
       "      <td>0.001686</td>\n",
       "      <td>0.003733</td>\n",
       "      <td>0.009637</td>\n",
       "      <td>0.003538</td>\n",
       "      <td>0.001736</td>\n",
       "      <td>0.003768</td>\n",
       "      <td>0.000550</td>\n",
       "      <td>0.007540</td>\n",
       "      <td>...</td>\n",
       "      <td>0.000893</td>\n",
       "      <td>0.003248</td>\n",
       "      <td>0.002465</td>\n",
       "      <td>0.110462</td>\n",
       "      <td>0.007671</td>\n",
       "      <td>0.001195</td>\n",
       "      <td>0.005320</td>\n",
       "      <td>0.001968</td>\n",
       "      <td>0.000755</td>\n",
       "      <td>0.001555</td>\n",
       "    </tr>\n",
       "    <tr>\n",
       "      <th>id_ff925dd0d</th>\n",
       "      <td>0.002672</td>\n",
       "      <td>0.002279</td>\n",
       "      <td>0.001680</td>\n",
       "      <td>0.010633</td>\n",
       "      <td>0.021330</td>\n",
       "      <td>0.005813</td>\n",
       "      <td>0.005144</td>\n",
       "      <td>0.004860</td>\n",
       "      <td>0.000923</td>\n",
       "      <td>0.013452</td>\n",
       "      <td>...</td>\n",
       "      <td>0.000879</td>\n",
       "      <td>0.001602</td>\n",
       "      <td>0.003556</td>\n",
       "      <td>0.001891</td>\n",
       "      <td>0.001885</td>\n",
       "      <td>0.001236</td>\n",
       "      <td>0.001599</td>\n",
       "      <td>0.001951</td>\n",
       "      <td>0.000726</td>\n",
       "      <td>0.001971</td>\n",
       "    </tr>\n",
       "    <tr>\n",
       "      <th>id_ffb710450</th>\n",
       "      <td>0.001969</td>\n",
       "      <td>0.001640</td>\n",
       "      <td>0.001389</td>\n",
       "      <td>0.011294</td>\n",
       "      <td>0.030837</td>\n",
       "      <td>0.006395</td>\n",
       "      <td>0.003034</td>\n",
       "      <td>0.005609</td>\n",
       "      <td>0.000462</td>\n",
       "      <td>0.011109</td>\n",
       "      <td>...</td>\n",
       "      <td>0.000739</td>\n",
       "      <td>0.000729</td>\n",
       "      <td>0.002859</td>\n",
       "      <td>0.001119</td>\n",
       "      <td>0.001760</td>\n",
       "      <td>0.000721</td>\n",
       "      <td>0.001015</td>\n",
       "      <td>0.001650</td>\n",
       "      <td>0.000856</td>\n",
       "      <td>0.001576</td>\n",
       "    </tr>\n",
       "    <tr>\n",
       "      <th>id_ffbb869f2</th>\n",
       "      <td>0.001709</td>\n",
       "      <td>0.001422</td>\n",
       "      <td>0.001903</td>\n",
       "      <td>0.024220</td>\n",
       "      <td>0.029101</td>\n",
       "      <td>0.006129</td>\n",
       "      <td>0.005929</td>\n",
       "      <td>0.004641</td>\n",
       "      <td>0.000748</td>\n",
       "      <td>0.022931</td>\n",
       "      <td>...</td>\n",
       "      <td>0.000864</td>\n",
       "      <td>0.000794</td>\n",
       "      <td>0.003157</td>\n",
       "      <td>0.001572</td>\n",
       "      <td>0.002213</td>\n",
       "      <td>0.000810</td>\n",
       "      <td>0.001236</td>\n",
       "      <td>0.002423</td>\n",
       "      <td>0.000835</td>\n",
       "      <td>0.003321</td>\n",
       "    </tr>\n",
       "    <tr>\n",
       "      <th>id_ffd5800b6</th>\n",
       "      <td>0.000970</td>\n",
       "      <td>0.001576</td>\n",
       "      <td>0.001797</td>\n",
       "      <td>0.015417</td>\n",
       "      <td>0.021251</td>\n",
       "      <td>0.005301</td>\n",
       "      <td>0.002761</td>\n",
       "      <td>0.004297</td>\n",
       "      <td>0.000437</td>\n",
       "      <td>0.007093</td>\n",
       "      <td>...</td>\n",
       "      <td>0.000969</td>\n",
       "      <td>0.001802</td>\n",
       "      <td>0.002714</td>\n",
       "      <td>0.004991</td>\n",
       "      <td>0.001781</td>\n",
       "      <td>0.001006</td>\n",
       "      <td>0.001086</td>\n",
       "      <td>0.002327</td>\n",
       "      <td>0.000759</td>\n",
       "      <td>0.001907</td>\n",
       "    </tr>\n",
       "  </tbody>\n",
       "</table>\n",
       "<p>3982 rows × 206 columns</p>\n",
       "</div>"
      ],
      "text/plain": [
       "              5-alpha_reductase_inhibitor  11-beta-hsd1_inhibitor  \\\n",
       "sig_id                                                              \n",
       "id_0004d9e33                     0.001093                0.001776   \n",
       "id_001897cda                     0.000599                0.001111   \n",
       "id_002429b5b                     0.000000                0.000000   \n",
       "id_00276f245                     0.001151                0.001355   \n",
       "id_0027f1083                     0.002365                0.001874   \n",
       "...                                   ...                     ...   \n",
       "id_ff7004b87                     0.001076                0.001963   \n",
       "id_ff925dd0d                     0.002672                0.002279   \n",
       "id_ffb710450                     0.001969                0.001640   \n",
       "id_ffbb869f2                     0.001709                0.001422   \n",
       "id_ffd5800b6                     0.000970                0.001576   \n",
       "\n",
       "              acat_inhibitor  acetylcholine_receptor_agonist  \\\n",
       "sig_id                                                         \n",
       "id_0004d9e33        0.002719                        0.016622   \n",
       "id_001897cda        0.002385                        0.004462   \n",
       "id_002429b5b        0.000000                        0.000000   \n",
       "id_00276f245        0.002322                        0.009738   \n",
       "id_0027f1083        0.001917                        0.017539   \n",
       "...                      ...                             ...   \n",
       "id_ff7004b87        0.001686                        0.003733   \n",
       "id_ff925dd0d        0.001680                        0.010633   \n",
       "id_ffb710450        0.001389                        0.011294   \n",
       "id_ffbb869f2        0.001903                        0.024220   \n",
       "id_ffd5800b6        0.001797                        0.015417   \n",
       "\n",
       "              acetylcholine_receptor_antagonist  \\\n",
       "sig_id                                            \n",
       "id_0004d9e33                           0.021770   \n",
       "id_001897cda                           0.003290   \n",
       "id_002429b5b                           0.000000   \n",
       "id_00276f245                           0.013213   \n",
       "id_0027f1083                           0.024573   \n",
       "...                                         ...   \n",
       "id_ff7004b87                           0.009637   \n",
       "id_ff925dd0d                           0.021330   \n",
       "id_ffb710450                           0.030837   \n",
       "id_ffbb869f2                           0.029101   \n",
       "id_ffd5800b6                           0.021251   \n",
       "\n",
       "              acetylcholinesterase_inhibitor  adenosine_receptor_agonist  \\\n",
       "sig_id                                                                     \n",
       "id_0004d9e33                        0.005572                    0.003239   \n",
       "id_001897cda                        0.002194                    0.005358   \n",
       "id_002429b5b                        0.000000                    0.000000   \n",
       "id_00276f245                        0.004700                    0.002632   \n",
       "id_0027f1083                        0.005464                    0.003939   \n",
       "...                                      ...                         ...   \n",
       "id_ff7004b87                        0.003538                    0.001736   \n",
       "id_ff925dd0d                        0.005813                    0.005144   \n",
       "id_ffb710450                        0.006395                    0.003034   \n",
       "id_ffbb869f2                        0.006129                    0.005929   \n",
       "id_ffd5800b6                        0.005301                    0.002761   \n",
       "\n",
       "              adenosine_receptor_antagonist  adenylyl_cyclase_activator  \\\n",
       "sig_id                                                                    \n",
       "id_0004d9e33                       0.008359                    0.000647   \n",
       "id_001897cda                       0.012118                    0.005375   \n",
       "id_002429b5b                       0.000000                    0.000000   \n",
       "id_00276f245                       0.004648                    0.000462   \n",
       "id_0027f1083                       0.003128                    0.000553   \n",
       "...                                     ...                         ...   \n",
       "id_ff7004b87                       0.003768                    0.000550   \n",
       "id_ff925dd0d                       0.004860                    0.000923   \n",
       "id_ffb710450                       0.005609                    0.000462   \n",
       "id_ffbb869f2                       0.004641                    0.000748   \n",
       "id_ffd5800b6                       0.004297                    0.000437   \n",
       "\n",
       "              adrenergic_receptor_agonist  ...  \\\n",
       "sig_id                                     ...   \n",
       "id_0004d9e33                     0.013381  ...   \n",
       "id_001897cda                     0.012244  ...   \n",
       "id_002429b5b                     0.000000  ...   \n",
       "id_00276f245                     0.006721  ...   \n",
       "id_0027f1083                     0.010983  ...   \n",
       "...                                   ...  ...   \n",
       "id_ff7004b87                     0.007540  ...   \n",
       "id_ff925dd0d                     0.013452  ...   \n",
       "id_ffb710450                     0.011109  ...   \n",
       "id_ffbb869f2                     0.022931  ...   \n",
       "id_ffd5800b6                     0.007093  ...   \n",
       "\n",
       "              tropomyosin_receptor_kinase_inhibitor  trpv_agonist  \\\n",
       "sig_id                                                              \n",
       "id_0004d9e33                               0.001213      0.001930   \n",
       "id_001897cda                               0.001306      0.001633   \n",
       "id_002429b5b                               0.000000      0.000000   \n",
       "id_00276f245                               0.001045      0.001910   \n",
       "id_0027f1083                               0.001084      0.000943   \n",
       "...                                             ...           ...   \n",
       "id_ff7004b87                               0.000893      0.003248   \n",
       "id_ff925dd0d                               0.000879      0.001602   \n",
       "id_ffb710450                               0.000739      0.000729   \n",
       "id_ffbb869f2                               0.000864      0.000794   \n",
       "id_ffd5800b6                               0.000969      0.001802   \n",
       "\n",
       "              trpv_antagonist  tubulin_inhibitor  tyrosine_kinase_inhibitor  \\\n",
       "sig_id                                                                        \n",
       "id_0004d9e33         0.004248           0.001601                   0.001472   \n",
       "id_001897cda         0.005218           0.000902                   0.007914   \n",
       "id_002429b5b         0.000000           0.000000                   0.000000   \n",
       "id_00276f245         0.003272           0.011773                   0.005720   \n",
       "id_0027f1083         0.003168           0.002216                   0.001555   \n",
       "...                       ...                ...                        ...   \n",
       "id_ff7004b87         0.002465           0.110462                   0.007671   \n",
       "id_ff925dd0d         0.003556           0.001891                   0.001885   \n",
       "id_ffb710450         0.002859           0.001119                   0.001760   \n",
       "id_ffbb869f2         0.003157           0.001572                   0.002213   \n",
       "id_ffd5800b6         0.002714           0.004991                   0.001781   \n",
       "\n",
       "              ubiquitin_specific_protease_inhibitor  vegfr_inhibitor  \\\n",
       "sig_id                                                                 \n",
       "id_0004d9e33                               0.001076         0.001094   \n",
       "id_001897cda                               0.000814         0.008555   \n",
       "id_002429b5b                               0.000000         0.000000   \n",
       "id_00276f245                               0.001041         0.003496   \n",
       "id_0027f1083                               0.001077         0.001100   \n",
       "...                                             ...              ...   \n",
       "id_ff7004b87                               0.001195         0.005320   \n",
       "id_ff925dd0d                               0.001236         0.001599   \n",
       "id_ffb710450                               0.000721         0.001015   \n",
       "id_ffbb869f2                               0.000810         0.001236   \n",
       "id_ffd5800b6                               0.001006         0.001086   \n",
       "\n",
       "              vitamin_b  vitamin_d_receptor_agonist  wnt_inhibitor  \n",
       "sig_id                                                              \n",
       "id_0004d9e33   0.002537                    0.003326       0.002321  \n",
       "id_001897cda   0.001801                    0.001484       0.003117  \n",
       "id_002429b5b   0.000000                    0.000000       0.000000  \n",
       "id_00276f245   0.002582                    0.000966       0.002597  \n",
       "id_0027f1083   0.002231                    0.000536       0.002258  \n",
       "...                 ...                         ...            ...  \n",
       "id_ff7004b87   0.001968                    0.000755       0.001555  \n",
       "id_ff925dd0d   0.001951                    0.000726       0.001971  \n",
       "id_ffb710450   0.001650                    0.000856       0.001576  \n",
       "id_ffbb869f2   0.002423                    0.000835       0.003321  \n",
       "id_ffd5800b6   0.002327                    0.000759       0.001907  \n",
       "\n",
       "[3982 rows x 206 columns]"
      ]
     },
     "execution_count": 38,
     "metadata": {},
     "output_type": "execute_result"
    }
   ],
   "source": [
    "df_sample_submission[:] = y_test\n",
    "df_sample_submission[df_test_features['cp_type'] == 1] = 0\n",
    "df_sample_submission"
   ]
  },
  {
   "cell_type": "code",
   "execution_count": 39,
   "metadata": {
    "execution": {
     "iopub.execute_input": "2020-10-26T04:45:31.386650Z",
     "iopub.status.busy": "2020-10-26T04:45:31.385956Z",
     "iopub.status.idle": "2020-10-26T04:45:33.373408Z",
     "shell.execute_reply": "2020-10-26T04:45:33.364449Z"
    },
    "papermill": {
     "duration": 4.903262,
     "end_time": "2020-10-26T04:45:33.373616",
     "exception": false,
     "start_time": "2020-10-26T04:45:28.470354",
     "status": "completed"
    },
    "tags": []
   },
   "outputs": [],
   "source": [
    "df_sample_submission.to_csv('submission.csv')"
   ]
  }
 ],
 "metadata": {
  "kernelspec": {
   "display_name": "Python 3",
   "language": "python",
   "name": "python3"
  },
  "language_info": {
   "codemirror_mode": {
    "name": "ipython",
    "version": 3
   },
   "file_extension": ".py",
   "mimetype": "text/x-python",
   "name": "python",
   "nbconvert_exporter": "python",
   "pygments_lexer": "ipython3",
   "version": "3.7.6"
  },
  "papermill": {
   "duration": 4031.219296,
   "end_time": "2020-10-26T04:45:37.410277",
   "environment_variables": {},
   "exception": null,
   "input_path": "__notebook__.ipynb",
   "output_path": "__notebook__.ipynb",
   "parameters": {},
   "start_time": "2020-10-26T03:38:26.190981",
   "version": "2.1.0"
  }
 },
 "nbformat": 4,
 "nbformat_minor": 4
}
